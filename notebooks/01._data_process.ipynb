{
 "cells": [
  {
   "cell_type": "markdown",
   "id": "60bb4a30-5880-4724-8308-32447d4519f2",
   "metadata": {},
   "source": [
    "**Polars vs. Dask**\n",
    "- Polars is very efficient with memory and is quick, but it does load entire data into memory. If needing to be resource concious Dask should be used.\n",
    "- Dask is slower but uses partitions to load in memory and uses less memory"
   ]
  },
  {
   "cell_type": "markdown",
   "id": "926cbece-d05f-498f-8773-fd7d9dad04c1",
   "metadata": {},
   "source": [
    "# Variable Initialize"
   ]
  },
  {
   "cell_type": "code",
   "execution_count": 31,
   "id": "a0f39bd9-de10-49ae-b87f-38dff8c3d326",
   "metadata": {},
   "outputs": [],
   "source": [
    "csv_file = r\"..\\files\\dataset\\MIB_NAIC_20240429_2009_19.txt\"\n",
    "write_path = r\"..\\files\\partition\"\n",
    "# needs asterisks to load in all folders and files\n",
    "pl_parquet_path = r\"..\\files\\partition\\*\\*\\*.parquet\""
   ]
  },
  {
   "cell_type": "markdown",
   "id": "60bd2799-9a66-4e5a-b1e8-f3168d9dd290",
   "metadata": {},
   "source": [
    "# Polars"
   ]
  },
  {
   "cell_type": "code",
   "execution_count": 32,
   "id": "a1251769-eeb5-4674-80b8-7f372a2c8cce",
   "metadata": {},
   "outputs": [],
   "source": [
    "import polars as pl"
   ]
  },
  {
   "cell_type": "markdown",
   "id": "350a95e6-0c88-4d97-b9ef-1d58f308fa45",
   "metadata": {},
   "source": [
    "## Write Parquet"
   ]
  },
  {
   "cell_type": "markdown",
   "id": "eeadf5db-3c3b-4b0e-9a3a-d0a994b0bab2",
   "metadata": {},
   "source": [
    "Polars is much faster than Dask at writing to parquet (estimated 15x faster)"
   ]
  },
  {
   "cell_type": "code",
   "execution_count": 33,
   "id": "e15b5281-0e6c-4013-92a1-84bb09c6ec11",
   "metadata": {},
   "outputs": [],
   "source": [
    "pl_dtypes = {\n",
    "    \"Observation_Year\": pl.Int32,\n",
    "    \"Age_Ind\": pl.Categorical,\n",
    "    \"Sex\": pl.Categorical,\n",
    "    \"Smoker_Status\": pl.Categorical,\n",
    "    \"Insurance_Plan\": pl.Categorical,\n",
    "    \"Issue_Age\": pl.Int32,\n",
    "    \"Duration\": pl.Int32,\n",
    "    \"Face_Amount_Band\": pl.Categorical,\n",
    "    \"Issue_Year\": pl.Int32,\n",
    "    \"Attained_Age\": pl.Int32,\n",
    "    \"SOA_Antp_Lvl_TP\": pl.Categorical,\n",
    "    \"SOA_Guar_Lvl_TP\": pl.Categorical,\n",
    "    \"SOA_Post_Lvl_Ind\": pl.Categorical,\n",
    "    \"Slct_Ult_Ind\": pl.Categorical,\n",
    "    \"Preferred_Class\": pl.Categorical,\n",
    "    \"Number_of_Pfd_Classes\": pl.Categorical,\n",
    "    \"Preferred_Indicator\": pl.Categorical,\n",
    "    \"MIB_Flag\": pl.Categorical,\n",
    "    \"Amount_Exposed\": pl.Float64,\n",
    "    \"Policies_Exposed\": pl.Float64,\n",
    "    \"Death_Claim_Amount\": pl.Int64,\n",
    "    \"Death_Count\": pl.Int64,\n",
    "    \"ExpDth_Amt_VBT2015\": pl.Float64,\n",
    "    \"ExpDth_Amt_VBT2015wMI\": pl.Float64,\n",
    "    \"ExpDth_Cnt_VBT2015\": pl.Float64,\n",
    "    \"ExpDth_Cnt_VBT2015wMI\": pl.Float64,\n",
    "    \"Cen2MomP1wMI_byAmt\": pl.Float64,\n",
    "    \"Cen2MomP2wMI_byAmt\": pl.Float64,\n",
    "    \"Cen3MomP1wMI_byAmt\": pl.Float64,\n",
    "    \"Cen3MomP2wMI_byAmt\": pl.Float64,\n",
    "    \"Cen3MomP3wMI_byAmt\": pl.Float64,\n",
    "}"
   ]
  },
  {
   "cell_type": "code",
   "execution_count": 34,
   "id": "781b9919-ad17-43bd-81fb-0e76dff8087d",
   "metadata": {},
   "outputs": [],
   "source": [
    "lzdf = pl.read_csv(\n",
    "    csv_file,\n",
    "    separator=\"\\t\",\n",
    "    dtypes=pl_dtypes,\n",
    ")"
   ]
  },
  {
   "cell_type": "code",
   "execution_count": 35,
   "id": "420ad5b6-557a-4cd2-b2da-a6d2e1317191",
   "metadata": {},
   "outputs": [],
   "source": [
    "# 5 minute\n",
    "lzdf.write_parquet(\n",
    "    write_path,\n",
    "    compression='snappy',\n",
    "    use_pyarrow=True,\n",
    "    pyarrow_options={\"partition_cols\": [\"Observation_Year\", \"Sex\"]},\n",
    ")"
   ]
  },
  {
   "cell_type": "markdown",
   "id": "a4109718-5e2c-4b01-ad06-a1b35b5669af",
   "metadata": {},
   "source": [
    "## Read Parquet"
   ]
  },
  {
   "cell_type": "markdown",
   "id": "ac7c789d-3ac5-461c-9e76-8b6c86d41058",
   "metadata": {},
   "source": [
    "Polars seems to be ~3x faster at reading"
   ]
  },
  {
   "cell_type": "code",
   "execution_count": 9,
   "id": "c10fdc25-1676-472c-a317-0c1472f3f092",
   "metadata": {},
   "outputs": [],
   "source": [
    "pl.enable_string_cache()\n",
    "lzdf = pl.scan_parquet(\n",
    "    pl_parquet_path,\n",
    ").cast({\"Sex\": pl.Categorical})"
   ]
  },
  {
   "cell_type": "code",
   "execution_count": 10,
   "id": "7af047c2-c0e4-4498-9e36-f07f205064c4",
   "metadata": {},
   "outputs": [
    {
     "data": {
      "text/plain": [
       "110970449"
      ]
     },
     "execution_count": 10,
     "metadata": {},
     "output_type": "execute_result"
    }
   ],
   "source": [
    "lzdf.select(pl.len()).collect().item()"
   ]
  },
  {
   "cell_type": "markdown",
   "id": "dc995b3f-7f82-4238-9610-7c6209552876",
   "metadata": {},
   "source": [
    "### Validate"
   ]
  },
  {
   "cell_type": "code",
   "execution_count": 11,
   "id": "33d9c884-98b1-4524-a8ba-ef418adfcd8a",
   "metadata": {},
   "outputs": [],
   "source": [
    "from morai.experience import validators"
   ]
  },
  {
   "cell_type": "code",
   "execution_count": 12,
   "id": "a5260909-b998-4c74-8064-477b47410360",
   "metadata": {},
   "outputs": [
    {
     "name": "stdout",
     "output_type": "stream",
     "text": [
      "\u001b[37m 2024-05-13 23:04:48 \u001b[0m|\u001b[37m morai.experience.validators \u001b[0m|\u001b[32m INFO     \u001b[0m|\u001b[32m Loading checks from C:\\Users\\johnk\\Desktop\\github\\morai\\files\\checks\\checks.yaml. \u001b[0m\n",
      "\u001b[37m 2024-05-13 23:04:48 \u001b[0m|\u001b[37m morai.experience.validators \u001b[0m|\u001b[32m INFO     \u001b[0m|\u001b[32m Ensure checks are reviewed and safe to run as they are evaluated with eval(). \u001b[0m\n",
      "\u001b[37m 2024-05-13 23:04:48 \u001b[0m|\u001b[37m morai.experience.validators \u001b[0m|\u001b[32m INFO     \u001b[0m|\u001b[32m Loaded 13 checks. \u001b[0m\n"
     ]
    }
   ],
   "source": [
    "check_dict = validators.get_checks()"
   ]
  },
  {
   "cell_type": "code",
   "execution_count": 13,
   "id": "da717b1c-96a4-4f90-aeaa-f51a2df364be",
   "metadata": {},
   "outputs": [
    {
     "name": "stdout",
     "output_type": "stream",
     "text": [
      "\u001b[37m 2024-05-13 23:04:50 \u001b[0m|\u001b[37m morai.experience.validators \u001b[0m|\u001b[32m INFO     \u001b[0m|\u001b[32m Using check_dict passed to function. \u001b[0m\n",
      "\u001b[37m 2024-05-13 23:04:50 \u001b[0m|\u001b[37m morai.experience.validators \u001b[0m|\u001b[32m INFO     \u001b[0m|\u001b[32m Running 13 checks \u001b[0m\n",
      "Completed checks 13 of 13...\n",
      "\u001b[37m 2024-05-13 23:05:15 \u001b[0m|\u001b[37m morai.experience.validators \u001b[0m|\u001b[32m INFO     \u001b[0m|\u001b[32m Completed 13 checks \u001b[0m\n"
     ]
    },
    {
     "data": {
      "text/html": [
       "<div>\n",
       "<style scoped>\n",
       "    .dataframe tbody tr th:only-of-type {\n",
       "        vertical-align: middle;\n",
       "    }\n",
       "\n",
       "    .dataframe tbody tr th {\n",
       "        vertical-align: top;\n",
       "    }\n",
       "\n",
       "    .dataframe thead th {\n",
       "        text-align: right;\n",
       "    }\n",
       "</style>\n",
       "<table border=\"1\" class=\"dataframe\">\n",
       "  <thead>\n",
       "    <tr style=\"text-align: right;\">\n",
       "      <th></th>\n",
       "      <th>checks</th>\n",
       "      <th>result</th>\n",
       "      <th>percent</th>\n",
       "    </tr>\n",
       "  </thead>\n",
       "  <tbody>\n",
       "    <tr>\n",
       "      <th>0</th>\n",
       "      <td>logic_measures_zero</td>\n",
       "      <td>584254</td>\n",
       "      <td>0.005265</td>\n",
       "    </tr>\n",
       "    <tr>\n",
       "      <th>1</th>\n",
       "      <td>logic_exposure_zero_with_claim</td>\n",
       "      <td>39634</td>\n",
       "      <td>0.000357</td>\n",
       "    </tr>\n",
       "    <tr>\n",
       "      <th>2</th>\n",
       "      <td>logic_exposure_less_than_claim</td>\n",
       "      <td>193873</td>\n",
       "      <td>0.001747</td>\n",
       "    </tr>\n",
       "    <tr>\n",
       "      <th>3</th>\n",
       "      <td>limit_attained_age</td>\n",
       "      <td>0</td>\n",
       "      <td>0.000000</td>\n",
       "    </tr>\n",
       "    <tr>\n",
       "      <th>4</th>\n",
       "      <td>limit_duration</td>\n",
       "      <td>0</td>\n",
       "      <td>0.000000</td>\n",
       "    </tr>\n",
       "    <tr>\n",
       "      <th>5</th>\n",
       "      <td>logic_underwriting_na</td>\n",
       "      <td>0</td>\n",
       "      <td>0.000000</td>\n",
       "    </tr>\n",
       "    <tr>\n",
       "      <th>6</th>\n",
       "      <td>logic_underwriting_u</td>\n",
       "      <td>0</td>\n",
       "      <td>0.000000</td>\n",
       "    </tr>\n",
       "    <tr>\n",
       "      <th>7</th>\n",
       "      <td>logic_underwriting_1</td>\n",
       "      <td>0</td>\n",
       "      <td>0.000000</td>\n",
       "    </tr>\n",
       "    <tr>\n",
       "      <th>8</th>\n",
       "      <td>logic_underwriting_2</td>\n",
       "      <td>0</td>\n",
       "      <td>0.000000</td>\n",
       "    </tr>\n",
       "    <tr>\n",
       "      <th>9</th>\n",
       "      <td>logic_underwriting_3</td>\n",
       "      <td>0</td>\n",
       "      <td>0.000000</td>\n",
       "    </tr>\n",
       "    <tr>\n",
       "      <th>10</th>\n",
       "      <td>logic_underwriting_4</td>\n",
       "      <td>0</td>\n",
       "      <td>0.000000</td>\n",
       "    </tr>\n",
       "    <tr>\n",
       "      <th>11</th>\n",
       "      <td>logic_underwriting_preferred</td>\n",
       "      <td>0</td>\n",
       "      <td>0.000000</td>\n",
       "    </tr>\n",
       "    <tr>\n",
       "      <th>12</th>\n",
       "      <td>logic_underwriting_nonpreferred</td>\n",
       "      <td>0</td>\n",
       "      <td>0.000000</td>\n",
       "    </tr>\n",
       "  </tbody>\n",
       "</table>\n",
       "</div>"
      ],
      "text/plain": [
       "                             checks  result   percent\n",
       "0               logic_measures_zero  584254  0.005265\n",
       "1    logic_exposure_zero_with_claim   39634  0.000357\n",
       "2    logic_exposure_less_than_claim  193873  0.001747\n",
       "3                limit_attained_age       0  0.000000\n",
       "4                    limit_duration       0  0.000000\n",
       "5             logic_underwriting_na       0  0.000000\n",
       "6              logic_underwriting_u       0  0.000000\n",
       "7              logic_underwriting_1       0  0.000000\n",
       "8              logic_underwriting_2       0  0.000000\n",
       "9              logic_underwriting_3       0  0.000000\n",
       "10             logic_underwriting_4       0  0.000000\n",
       "11     logic_underwriting_preferred       0  0.000000\n",
       "12  logic_underwriting_nonpreferred       0  0.000000"
      ]
     },
     "execution_count": 13,
     "metadata": {},
     "output_type": "execute_result"
    }
   ],
   "source": [
    "check_output = validators.run_checks(lzdf=lzdf, check_dict=check_dict)\n",
    "check_output"
   ]
  },
  {
   "cell_type": "code",
   "execution_count": 14,
   "id": "0dd707c3-daa6-4b4c-8bda-04f1dd6d1d23",
   "metadata": {},
   "outputs": [],
   "source": [
    "single_check = validators.view_single_check(lzdf, check_dict, \"logic_exposure_less_than_claim\")"
   ]
  },
  {
   "cell_type": "code",
   "execution_count": 15,
   "id": "6e2a56e4-75c1-4ff6-91c0-7458ebd4c4a1",
   "metadata": {},
   "outputs": [
    {
     "data": {
      "text/html": [
       "<div><style>\n",
       ".dataframe > thead > tr,\n",
       ".dataframe > tbody > tr {\n",
       "  text-align: right;\n",
       "  white-space: pre-wrap;\n",
       "}\n",
       "</style>\n",
       "<small>shape: (1, 31)</small><table border=\"1\" class=\"dataframe\"><thead><tr><th>Age_Ind</th><th>Smoker_Status</th><th>Insurance_Plan</th><th>Issue_Age</th><th>Duration</th><th>Face_Amount_Band</th><th>Issue_Year</th><th>Attained_Age</th><th>SOA_Antp_Lvl_TP</th><th>SOA_Guar_Lvl_TP</th><th>SOA_Post_Lvl_Ind</th><th>Slct_Ult_Ind</th><th>Preferred_Indicator</th><th>Number_of_Pfd_Classes</th><th>Preferred_Class</th><th>MIB_Flag</th><th>Amount_Exposed</th><th>Policies_Exposed</th><th>Death_Claim_Amount</th><th>Death_Count</th><th>ExpDth_Amt_VBT2015</th><th>ExpDth_Amt_VBT2015wMI</th><th>ExpDth_Cnt_VBT2015</th><th>ExpDth_Cnt_VBT2015wMI</th><th>Cen2MomP1wMI_byAmt</th><th>Cen2MomP2wMI_byAmt</th><th>Cen3MomP1wMI_byAmt</th><th>Cen3MomP2wMI_byAmt</th><th>Cen3MomP3wMI_byAmt</th><th>Observation_Year</th><th>Sex</th></tr><tr><td>cat</td><td>cat</td><td>cat</td><td>i32</td><td>i32</td><td>cat</td><td>i32</td><td>i32</td><td>cat</td><td>cat</td><td>cat</td><td>cat</td><td>cat</td><td>cat</td><td>cat</td><td>cat</td><td>f64</td><td>f64</td><td>i64</td><td>i64</td><td>f64</td><td>f64</td><td>f64</td><td>f64</td><td>f64</td><td>f64</td><td>f64</td><td>f64</td><td>f64</td><td>i64</td><td>cat</td></tr></thead><tbody><tr><td>&quot;ALB&quot;</td><td>&quot;NS&quot;</td><td>&quot;Perm&quot;</td><td>25</td><td>5</td><td>&quot;07: 500,000 - …</td><td>2005</td><td>29</td><td>&quot;N/A (Not Term)…</td><td>&quot;N/A (Not Term)…</td><td>&quot;N/A&quot;</td><td>&quot;S&quot;</td><td>&quot;1&quot;</td><td>&quot;3&quot;</td><td>&quot;3&quot;</td><td>&quot;1&quot;</td><td>751043.0</td><td>1.0</td><td>752177</td><td>1</td><td>127.677307</td><td>131.404404</td><td>0.00017</td><td>0.000175</td><td>9.869036e7</td><td>17267.119141</td><td>7.4121e13</td><td>1.2968e10</td><td>2.2690e6</td><td>2009</td><td>&quot;F&quot;</td></tr></tbody></table></div>"
      ],
      "text/plain": [
       "shape: (1, 31)\n",
       "┌─────────┬───────────────┬────────────────┬───────────┬───┬─────────────────┬─────────────────┬─────────────────┬─────┐\n",
       "│ Age_Ind ┆ Smoker_Status ┆ Insurance_Plan ┆ Issue_Age ┆ … ┆ Cen3MomP2wMI_by ┆ Cen3MomP3wMI_by ┆ Observation_Yea ┆ Sex │\n",
       "│ ---     ┆ ---           ┆ ---            ┆ ---       ┆   ┆ Amt             ┆ Amt             ┆ r               ┆ --- │\n",
       "│ cat     ┆ cat           ┆ cat            ┆ i32       ┆   ┆ ---             ┆ ---             ┆ ---             ┆ cat │\n",
       "│         ┆               ┆                ┆           ┆   ┆ f64             ┆ f64             ┆ i64             ┆     │\n",
       "╞═════════╪═══════════════╪════════════════╪═══════════╪═══╪═════════════════╪═════════════════╪═════════════════╪═════╡\n",
       "│ ALB     ┆ NS            ┆ Perm           ┆ 25        ┆ … ┆ 1.2968e10       ┆ 2.2690e6        ┆ 2009            ┆ F   │\n",
       "└─────────┴───────────────┴────────────────┴───────────┴───┴─────────────────┴─────────────────┴─────────────────┴─────┘"
      ]
     },
     "execution_count": 15,
     "metadata": {},
     "output_type": "execute_result"
    }
   ],
   "source": [
    "single_check.head(1)"
   ]
  },
  {
   "cell_type": "markdown",
   "id": "9e8be137-1e00-4f7c-a534-c532af216314",
   "metadata": {},
   "source": [
    "# Dask (Under Development)"
   ]
  },
  {
   "cell_type": "markdown",
   "id": "57145b3d-a729-488a-8882-fc73419e586d",
   "metadata": {},
   "source": [
    "Dask was tested and evaluated, however was not used to create the dataset.\n",
    "\n",
    "The config below should adjusted as needed by the user"
   ]
  },
  {
   "cell_type": "code",
   "execution_count": null,
   "id": "fcb1ea27-7c80-403a-9998-e1c0e0c0a7f4",
   "metadata": {},
   "outputs": [],
   "source": [
    "import dask\n",
    "\n",
    "dask.config.set({\"dataframe.query-planning\": True})\n",
    "import dask.dataframe as dd"
   ]
  },
  {
   "cell_type": "markdown",
   "id": "2808fdb1-cce6-4a21-9dc9-3cf5d42a3021",
   "metadata": {},
   "source": [
    "## Write Parquet"
   ]
  },
  {
   "cell_type": "code",
   "execution_count": null,
   "id": "a0debb02-77ce-4660-9153-1080fa6321f0",
   "metadata": {},
   "outputs": [],
   "source": [
    "dtypes = {\n",
    "    \"Observation_Year\": \"int32\",\n",
    "    \"Age_Ind\": \"category\",\n",
    "    \"Sex\": \"category\",\n",
    "    \"Smoker_Status\": \"category\",\n",
    "    \"Insurance_Plan\": \"category\",\n",
    "    \"Issue_Age\": \"int32\",\n",
    "    \"Duration\": \"int32\",\n",
    "    \"Face_Amount_Band\": \"category\",\n",
    "    \"Issue_Year\": \"int32\",\n",
    "    \"Attained_Age\": \"int32\",\n",
    "    \"SOA_Antp_Lvl_TP\": \"category\",\n",
    "    \"SOA_Guar_Lvl_TP\": \"category\",\n",
    "    \"SOA_Post_Lvl_Ind\": \"str\",\n",
    "    \"Slct_Ult_Ind\": \"category\",\n",
    "    \"Preferred_Class\": \"str\",\n",
    "    \"Number_of_Pfd_Classes\": \"str\",\n",
    "    \"Preferred_Indicator\": \"category\",\n",
    "    \"MIB_Flag\": \"category\",\n",
    "    \"Amount_Exposed\": \"float64\",\n",
    "    \"Policies_Exposed\": \"float64\",\n",
    "    \"Death_Claim_Amount\": \"int64\",\n",
    "    \"Death_Count\": \"int64\",\n",
    "    \"ExpDth_Amt_VBT2015\": \"float64\",\n",
    "    \"ExpDth_Amt_VBT2015wMI\": \"float64\",\n",
    "    \"ExpDth_Cnt_VBT2015\": \"float64\",\n",
    "    \"ExpDth_Cnt_VBT2015wMI\": \"float64\",\n",
    "    \"Cen2MomP1wMI_byAmt\": \"float64\",\n",
    "    \"Cen2MomP2wMI_byAmt\": \"float64\",\n",
    "    \"Cen3MomP1wMI_byAmt\": \"float64\",\n",
    "    \"Cen3MomP2wMI_byAmt\": \"float64\",\n",
    "    \"Cen3MomP3wMI_byAmt\": \"float64\",\n",
    "}"
   ]
  },
  {
   "cell_type": "code",
   "execution_count": null,
   "id": "74deea98-905e-4e14-9266-1a581fc071ce",
   "metadata": {},
   "outputs": [],
   "source": [
    "fix_categories = [\"SOA_Post_Lvl_Ind\", \"Number_of_Pfd_Classes\", \"Preferred_Class\"]"
   ]
  },
  {
   "cell_type": "code",
   "execution_count": null,
   "id": "e784ada2-f42c-42b2-a827-f089dcd6d06f",
   "metadata": {},
   "outputs": [],
   "source": [
    "lzdf = dd.read_csv(\n",
    "    csv_file,\n",
    "    delimiter=\"\\t\",\n",
    "    dtype=dtypes,\n",
    ")"
   ]
  },
  {
   "cell_type": "code",
   "execution_count": null,
   "id": "bd9349d7-d28f-4f85-9625-6e43c158b046",
   "metadata": {},
   "outputs": [],
   "source": [
    "for col in fix_categories:\n",
    "    lzdf[col] = lzdf[col].fillna(\"NA\").astype(\"category\")"
   ]
  },
  {
   "cell_type": "code",
   "execution_count": null,
   "id": "ecbb2b0a-0de9-4e55-9d40-9768bb42b6ae",
   "metadata": {},
   "outputs": [],
   "source": [
    "lzdf = lzdf.repartition(partition_size=\"2048MB\")"
   ]
  },
  {
   "cell_type": "code",
   "execution_count": null,
   "id": "b38bbf8a-96e9-459d-b1c2-c1cae287faec",
   "metadata": {},
   "outputs": [],
   "source": [
    "# takes 15 mins\n",
    "lzdf.to_parquet(\n",
    "    write_path,\n",
    "    partition_on=[\"Observation_Year\", \"Sex\"],\n",
    ")"
   ]
  },
  {
   "cell_type": "markdown",
   "id": "a12d62d5-41fa-4ec7-90a4-0e1a85706d16",
   "metadata": {},
   "source": [
    "## Read Parquet"
   ]
  },
  {
   "cell_type": "code",
   "execution_count": 7,
   "id": "f641c015-71cd-48c2-adcb-b3358aeaf5cc",
   "metadata": {},
   "outputs": [],
   "source": [
    "# reading in the dataset and limiting to only columns needed to save memory\n",
    "lzdf = dd.read_parquet(\n",
    "    location,\n",
    "    columns=columns_needed,\n",
    "    engine=\"pyarrow\",\n",
    ")"
   ]
  },
  {
   "cell_type": "code",
   "execution_count": 8,
   "id": "4ba6d875-131c-4e17-8a0a-fa10b74a6bc7",
   "metadata": {},
   "outputs": [],
   "source": [
    "# parquet partitions are automatically categorical\n",
    "lzdf[\"Observation_Year\"] = lzdf[\"Observation_Year\"].astype(\"int32\")"
   ]
  },
  {
   "cell_type": "code",
   "execution_count": 9,
   "id": "d188451b-cce6-44f7-98dd-1f716834a869",
   "metadata": {},
   "outputs": [
    {
     "name": "stdout",
     "output_type": "stream",
     "text": [
      "shape: 55538329.0, 17\n"
     ]
    }
   ],
   "source": [
    "print(f\"shape: {lzdf.shape[0].compute()}, {lzdf.shape[1]}\")"
   ]
  },
  {
   "cell_type": "code",
   "execution_count": 10,
   "id": "3577087e-08df-445e-afea-c598193b8dd2",
   "metadata": {},
   "outputs": [],
   "source": [
    "# used in ILEC report\n",
    "core_filters = (\n",
    "    (lzdf[\"Observation_Year\"] >= 2012)\n",
    "    & (lzdf[\"Issue_Age\"] > 17)\n",
    "    & (lzdf[\"SOA_Post_Lvl_Ind\"] != \"PLT\")\n",
    "    & (lzdf[\"Insurance_Plan\"] != \"Other\")\n",
    "    & (lzdf[\"Issue_Year\"] >= 2000)\n",
    "    & (lzdf[\"Smoker_Status\"] != \"U\")\n",
    "    & (\n",
    "        ~lzdf[\"Face_Amount_Band\"].isin(\n",
    "            [\n",
    "                \"01: 0 - 9,999\",\n",
    "                \"02: 10,000 - 24,999\",\n",
    "                \"03: 25,000 - 49,999\",\n",
    "                \"04: 50,000 - 99,999\",\n",
    "            ]\n",
    "        )\n",
    "    )\n",
    ")"
   ]
  },
  {
   "cell_type": "code",
   "execution_count": 11,
   "id": "79e84ae8-f7d2-409f-bb4c-1895246342cf",
   "metadata": {},
   "outputs": [],
   "source": [
    "# less strict filter allowing 1980+ and all face bands\n",
    "base_filters = (\n",
    "    (lzdf[\"Observation_Year\"] >= 2012)\n",
    "    & (lzdf[\"Issue_Age\"] > 17)\n",
    "    & (lzdf[\"SOA_Post_Lvl_Ind\"] != \"PLT\")\n",
    "    & (lzdf[\"Insurance_Plan\"] != \"Other\")\n",
    "    & (lzdf[\"Issue_Year\"] >= 1980)\n",
    "    & (lzdf[\"Smoker_Status\"] != \"U\")\n",
    ")"
   ]
  },
  {
   "cell_type": "code",
   "execution_count": 12,
   "id": "9392e692-9e6a-4636-993b-521b4c64f826",
   "metadata": {},
   "outputs": [],
   "source": [
    "# parquet files read 4 - 10x faster (still take 2-3 mins)\n",
    "# important to use observed=True here to limit RAM usage\n",
    "# credit: https://stackoverflow.com/questions/50051210/avoiding-memory-issues-for-groupby-on-large-pandas-dataframe\n",
    "grouped_df = (\n",
    "    lzdf[base_filters]\n",
    "    .groupby(\n",
    "        [\n",
    "            \"Observation_Year\",\n",
    "            \"Sex\",\n",
    "            \"Smoker_Status\",\n",
    "            \"Insurance_Plan\",\n",
    "            \"Issue_Age\",\n",
    "            \"Duration\",\n",
    "            \"Face_Amount_Band\",\n",
    "            \"Issue_Year\",\n",
    "            \"Attained_Age\",\n",
    "            \"SOA_Post_Lvl_Ind\",\n",
    "            \"Number_of_Pfd_Classes\",\n",
    "            \"Preferred_Class\",\n",
    "        ],\n",
    "        observed=True,\n",
    "    )[measures]\n",
    "    .sum()\n",
    "    .reset_index()\n",
    "    .compute()\n",
    ")"
   ]
  },
  {
   "cell_type": "markdown",
   "id": "acca69fc-9a67-4583-89c1-b5f56e4e1c93",
   "metadata": {},
   "source": [
    "# Reload"
   ]
  },
  {
   "cell_type": "code",
   "execution_count": null,
   "id": "c0b102b2-42ec-4f0b-9b4d-b771d4c1f4c7",
   "metadata": {},
   "outputs": [],
   "source": [
    "import importlib"
   ]
  },
  {
   "cell_type": "code",
   "execution_count": null,
   "id": "5a9f83ec-9005-45e0-a76c-5166950f5346",
   "metadata": {},
   "outputs": [],
   "source": [
    "importlib.reload(validators)"
   ]
  }
 ],
 "metadata": {
  "kernelspec": {
   "display_name": "morai",
   "language": "python",
   "name": "morai"
  },
  "language_info": {
   "codemirror_mode": {
    "name": "ipython",
    "version": 3
   },
   "file_extension": ".py",
   "mimetype": "text/x-python",
   "name": "python",
   "nbconvert_exporter": "python",
   "pygments_lexer": "ipython3",
   "version": "3.9.19"
  },
  "toc-autonumbering": true
 },
 "nbformat": 4,
 "nbformat_minor": 5
}
