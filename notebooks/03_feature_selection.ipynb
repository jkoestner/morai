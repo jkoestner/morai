version https://git-lfs.github.com/spec/v1
oid sha256:bcf2e46a8d18c285a14bb7e90f4b11e0fd0b6dc55e608070a2ae19ff5ecb676f
size 210765
