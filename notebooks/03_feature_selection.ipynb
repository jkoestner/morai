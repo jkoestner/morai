version https://git-lfs.github.com/spec/v1
oid sha256:212fce2755273e09de5f592e3f81e28b072416384da1e1e2d4a9aa0780b8a028
size 681421
