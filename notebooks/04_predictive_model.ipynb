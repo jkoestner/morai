version https://git-lfs.github.com/spec/v1
oid sha256:f219ff3b7bef20f6bd641717bd6e0d4e4662f379bf779b31f598d847b0872e86
size 7630704
