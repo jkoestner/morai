version https://git-lfs.github.com/spec/v1
oid sha256:94369c26a8dd1ab3b12d36508110f69026bf0299e1aa970bd5621549ab9b9476
size 11406654
