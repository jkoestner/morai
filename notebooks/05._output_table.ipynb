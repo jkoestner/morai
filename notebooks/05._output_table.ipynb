{
 "cells": [
  {
   "cell_type": "markdown",
   "id": "18a1b9b6-663e-42c4-a44f-522a61e41e96",
   "metadata": {},
   "source": [
    "# Import Modules"
   ]
  },
  {
   "cell_type": "code",
   "execution_count": null,
   "id": "18c979d8-6dca-4dff-9264-cd490c2382f3",
   "metadata": {},
   "outputs": [],
   "source": [
    "import importlib\n",
    "import os\n",
    "import sys\n",
    "\n",
    "import joblib\n",
    "import numpy as np\n",
    "import pandas as pd\n",
    "import polars as pl"
   ]
  },
  {
   "cell_type": "code",
   "execution_count": null,
   "id": "544d1d41-4af3-4bf2-93d4-e7e29cd41608",
   "metadata": {},
   "outputs": [],
   "source": [
    "os.chdir(\"../\")\n",
    "sys.path.insert(0, os.getcwd())"
   ]
  },
  {
   "cell_type": "code",
   "execution_count": null,
   "id": "8954760e-cce4-4988-a369-67bbaa6cf98e",
   "metadata": {},
   "outputs": [],
   "source": [
    "from morai.experience import tables\n",
    "from morai.utils import custom_logger, helpers"
   ]
  },
  {
   "cell_type": "code",
   "execution_count": null,
   "id": "fe8f93c3-35c5-403d-affe-dff620896125",
   "metadata": {},
   "outputs": [],
   "source": [
    "logger = custom_logger.setup_logging(__name__)"
   ]
  },
  {
   "cell_type": "code",
   "execution_count": 175,
   "id": "11857dd9-7832-4f4c-aeb4-35d4795bdd51",
   "metadata": {},
   "outputs": [],
   "source": [
    "# update log level if wanting more logging\n",
    "custom_logger.set_log_level(\"INFO\")"
   ]
  },
  {
   "cell_type": "code",
   "execution_count": 6,
   "id": "5a5ea4ca-a9fc-42be-80aa-0cef6aeac379",
   "metadata": {},
   "outputs": [],
   "source": [
    "pd.options.display.float_format = \"{:,.2f}\".format"
   ]
  },
  {
   "cell_type": "markdown",
   "id": "cba67226-557d-4491-8067-11198621b51f",
   "metadata": {},
   "source": [
    "# Load Model"
   ]
  },
  {
   "cell_type": "code",
   "execution_count": null,
   "id": "eca6acc4-d9c3-4a3a-83c9-8bb74aa40da9",
   "metadata": {},
   "outputs": [],
   "source": [
    "model_name = \"glm\"\n",
    "GLM.model = joblib.load(f\"files/models/{model_name}.joblib\")\n",
    "logger.info(f\"loaded model '{model_name}'\")"
   ]
  },
  {
   "cell_type": "markdown",
   "id": "94520c89-9387-4bcd-afb8-3e297ea26f5f",
   "metadata": {},
   "source": [
    "# Create Table"
   ]
  },
  {
   "cell_type": "markdown",
   "id": "0de7c581-ba2f-416e-9380-70b66e8c9f61",
   "metadata": {},
   "source": [
    "## Create Grid"
   ]
  },
  {
   "cell_type": "code",
   "execution_count": null,
   "id": "c935d434-ca4d-4f31-a45e-03c14e04b788",
   "metadata": {},
   "outputs": [],
   "source": [
    "grid = tables.create_grid(mapping=mapping)\n",
    "grid = grid.drop(columns=[\"vals\", \"capped_duration\", \"constant\"])\n",
    "grid = tables.remove_duplicates(grid, suppress_log=True)\n",
    "\n",
    "durations = pd.DataFrame({\"duration\": range(1, 122)})\n",
    "durations[\"key\"] = 1\n",
    "grid[\"key\"] = 1\n",
    "grid = pd.merge(grid, durations, on=\"key\").drop(columns=\"key\")\n",
    "grid[\"duration\"] = grid[\"duration\"].astype(int)\n",
    "grid[\"capped_duration\"] = grid[\"duration\"].clip(upper=26).astype(int)\n",
    "\n",
    "grid = tables.check_aa_ia_dur_cols(grid)"
   ]
  },
  {
   "cell_type": "markdown",
   "id": "b9b5d1f1-7c22-4377-89fc-07149cbb274b",
   "metadata": {},
   "source": [
    "## Predict"
   ]
  },
  {
   "cell_type": "code",
   "execution_count": null,
   "id": "eeeed443-8566-421a-9daf-e02670c59ab3",
   "metadata": {},
   "outputs": [],
   "source": [
    "pred = models.generate_table(\n",
    "    model=GLM.model,\n",
    "    mapping=mapping,\n",
    "    feature_dict=preprocess_dict[\"feature_dict\"],\n",
    "    params=preprocess_dict[\"params\"],\n",
    "    grid=grid,\n",
    ")\n",
    "pred = tables.check_aa_ia_dur_cols(pred)"
   ]
  },
  {
   "cell_type": "markdown",
   "id": "9ef9d887-199d-470d-8f13-799dc3cdf0d0",
   "metadata": {},
   "source": [
    "## Output"
   ]
  },
  {
   "cell_type": "code",
   "execution_count": null,
   "id": "b8e006b9-914c-4042-8cf4-e5e61a4bd091",
   "metadata": {},
   "outputs": [],
   "source": [
    "tables.output_table(pred, \"glm.csv\")"
   ]
  }
 ],
 "metadata": {
  "kernelspec": {
   "display_name": "morai",
   "language": "python",
   "name": "morai"
  },
  "language_info": {
   "codemirror_mode": {
    "name": "ipython",
    "version": 3
   },
   "file_extension": ".py",
   "mimetype": "text/x-python",
   "name": "python",
   "nbconvert_exporter": "python",
   "pygments_lexer": "ipython3",
   "version": "3.9.19"
  },
  "toc-autonumbering": true
 },
 "nbformat": 4,
 "nbformat_minor": 5
}
