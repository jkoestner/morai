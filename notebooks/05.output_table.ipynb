{
 "cells": [
  {
   "cell_type": "markdown",
   "id": "18a1b9b6-663e-42c4-a44f-522a61e41e96",
   "metadata": {},
   "source": [
    "# Import Modules"
   ]
  },
  {
   "cell_type": "code",
   "execution_count": 1,
   "id": "18c979d8-6dca-4dff-9264-cd490c2382f3",
   "metadata": {},
   "outputs": [],
   "source": [
    "import importlib\n",
    "import os\n",
    "import sys\n",
    "\n",
    "import joblib\n",
    "import numpy as np\n",
    "import pandas as pd\n",
    "import polars as pl"
   ]
  },
  {
   "cell_type": "code",
   "execution_count": 2,
   "id": "544d1d41-4af3-4bf2-93d4-e7e29cd41608",
   "metadata": {},
   "outputs": [],
   "source": [
    "os.chdir(\"../\")\n",
    "sys.path.insert(0, os.getcwd())"
   ]
  },
  {
   "cell_type": "code",
   "execution_count": 3,
   "id": "8954760e-cce4-4988-a369-67bbaa6cf98e",
   "metadata": {},
   "outputs": [],
   "source": [
    "from morai.experience import tables\n",
    "from morai.forecast import models, preprocessors\n",
    "from morai.utils import custom_logger, helpers"
   ]
  },
  {
   "cell_type": "code",
   "execution_count": 4,
   "id": "fe8f93c3-35c5-403d-affe-dff620896125",
   "metadata": {},
   "outputs": [],
   "source": [
    "logger = custom_logger.setup_logging(__name__)"
   ]
  },
  {
   "cell_type": "code",
   "execution_count": 5,
   "id": "11857dd9-7832-4f4c-aeb4-35d4795bdd51",
   "metadata": {},
   "outputs": [],
   "source": [
    "# update log level if wanting more logging\n",
    "custom_logger.set_log_level(\"INFO\")"
   ]
  },
  {
   "cell_type": "code",
   "execution_count": 6,
   "id": "5a5ea4ca-a9fc-42be-80aa-0cef6aeac379",
   "metadata": {},
   "outputs": [],
   "source": [
    "pd.options.display.float_format = \"{:,.2f}\".format"
   ]
  },
  {
   "cell_type": "markdown",
   "id": "e2bcf6ef-b95c-4787-b881-d51f62d48f98",
   "metadata": {},
   "source": [
    "# Load Data"
   ]
  },
  {
   "cell_type": "code",
   "execution_count": 16,
   "id": "70d09da0-dc75-4d5d-af48-fb3e9047004c",
   "metadata": {},
   "outputs": [],
   "source": [
    "pl_parquet_path = r\"files/dataset/model_data.parquet\""
   ]
  },
  {
   "cell_type": "code",
   "execution_count": 17,
   "id": "f484986a-a222-4a1a-b6f9-4d7f829b6b00",
   "metadata": {},
   "outputs": [],
   "source": [
    "# reading in the dataset\n",
    "# `enable_string_cache` helps with categorical type values\n",
    "pl.enable_string_cache()\n",
    "lzdf = pl.scan_parquet(\n",
    "    pl_parquet_path,\n",
    ")"
   ]
  },
  {
   "cell_type": "code",
   "execution_count": 18,
   "id": "04b6bc4e-51b0-4445-b921-0e5e8a0c8789",
   "metadata": {},
   "outputs": [
    {
     "name": "stdout",
     "output_type": "stream",
     "text": [
      "row count: 1,091,302 \n",
      "exposures: 4,332,301,371,494.32\n"
     ]
    }
   ],
   "source": [
    "initial_row_count = lzdf.select(pl.len()).collect().item()\n",
    "print(\n",
    "    f\"row count: {initial_row_count:,} \\n\"\n",
    "    f\"exposures: {lzdf.select([pl.col('amount_exposed').sum()]).collect()[0,0]:,}\"\n",
    ")"
   ]
  },
  {
   "cell_type": "code",
   "execution_count": 19,
   "id": "76eceada-814c-4017-ae1f-6308bc919151",
   "metadata": {},
   "outputs": [],
   "source": [
    "model_data = lzdf.collect()"
   ]
  },
  {
   "cell_type": "code",
   "execution_count": 20,
   "id": "32f1a451-b77e-46b2-a9da-361b9b959830",
   "metadata": {},
   "outputs": [],
   "source": [
    "model_data = model_data.to_pandas()"
   ]
  },
  {
   "cell_type": "markdown",
   "id": "0d987940-f42d-49fe-9ba3-5812fc683eb0",
   "metadata": {},
   "source": [
    "## Preprocess"
   ]
  },
  {
   "cell_type": "code",
   "execution_count": 21,
   "id": "5aa17eb3-b9cf-4128-8f2a-e9343aca90ee",
   "metadata": {},
   "outputs": [],
   "source": [
    "feature_dict = {\n",
    "    \"target\": [\"qx_raw\"],\n",
    "    \"weight\": [\"amount_exposed\"],\n",
    "    \"passthrough\": [\"attained_age\", \"duration\", \"observation_year\"],\n",
    "    \"ordinal\": [\n",
    "        \"sex\",\n",
    "        \"smoker_status\",\n",
    "    ],\n",
    "    \"ohe\": [\n",
    "        \"binned_face\",\n",
    "        \"insurance_plan\",\n",
    "        \"class_enh\",\n",
    "    ],\n",
    "    \"nominal\": [],\n",
    "}"
   ]
  },
  {
   "cell_type": "code",
   "execution_count": 22,
   "id": "6dcdb609-bb66-4efb-8ac8-7230afb69d46",
   "metadata": {},
   "outputs": [
    {
     "name": "stdout",
     "output_type": "stream",
     "text": [
      "\u001b[37m 2024-07-07 15:42:06 \u001b[0m|\u001b[37m morai.forecast.preprocessors \u001b[0m|\u001b[32m INFO     \u001b[0m|\u001b[32m model target: ['qx_raw'] \u001b[0m\n",
      "\u001b[37m 2024-07-07 15:42:06 \u001b[0m|\u001b[37m morai.forecast.preprocessors \u001b[0m|\u001b[32m INFO     \u001b[0m|\u001b[32m model weights: ['amount_exposed'] \u001b[0m\n",
      "\u001b[37m 2024-07-07 15:42:06 \u001b[0m|\u001b[37m morai.forecast.preprocessors \u001b[0m|\u001b[32m INFO     \u001b[0m|\u001b[32m adding a constant column to the data \u001b[0m\n",
      "\u001b[37m 2024-07-07 15:42:06 \u001b[0m|\u001b[37m morai.forecast.preprocessors \u001b[0m|\u001b[32m INFO     \u001b[0m|\u001b[32m passthrough - (generally numeric): ['attained_age', 'duration', 'observation_year', 'constant'] \u001b[0m\n",
      "\u001b[37m 2024-07-07 15:42:06 \u001b[0m|\u001b[37m morai.forecast.preprocessors \u001b[0m|\u001b[32m INFO     \u001b[0m|\u001b[32m ordinal - ordinal encoded: ['smoker_status', 'sex'] \u001b[0m\n",
      "\u001b[37m 2024-07-07 15:42:07 \u001b[0m|\u001b[37m morai.forecast.preprocessors \u001b[0m|\u001b[32m INFO     \u001b[0m|\u001b[32m nominal - one hot encoded (dropping first col): ['binned_face', 'class_enh', 'insurance_plan'] \u001b[0m\n"
     ]
    }
   ],
   "source": [
    "preprocess_dict = preprocessors.preprocess_data(\n",
    "    model_data,\n",
    "    feature_dict=feature_dict,\n",
    "    standardize=False,\n",
    "    add_constant=True,\n",
    ")"
   ]
  },
  {
   "cell_type": "code",
   "execution_count": 23,
   "id": "a154caeb-c69a-4144-a7f8-59231c51a297",
   "metadata": {},
   "outputs": [],
   "source": [
    "X = preprocess_dict[\"X\"]\n",
    "y = preprocess_dict[\"y\"]\n",
    "weights = preprocess_dict[\"weights\"]\n",
    "mapping = preprocess_dict[\"mapping\"]\n",
    "md_encoded = preprocess_dict[\"md_encoded\"]\n",
    "model_features = preprocess_dict[\"model_features\"]"
   ]
  },
  {
   "cell_type": "markdown",
   "id": "cba67226-557d-4491-8067-11198621b51f",
   "metadata": {},
   "source": [
    "# Load Model"
   ]
  },
  {
   "cell_type": "code",
   "execution_count": 24,
   "id": "eca6acc4-d9c3-4a3a-83c9-8bb74aa40da9",
   "metadata": {},
   "outputs": [
    {
     "name": "stdout",
     "output_type": "stream",
     "text": [
      "\u001b[37m 2024-07-07 15:42:11 \u001b[0m|\u001b[37m __main__ \u001b[0m|\u001b[32m INFO     \u001b[0m|\u001b[32m loaded model 'glm' \u001b[0m\n"
     ]
    }
   ],
   "source": [
    "model_name = \"glm\"\n",
    "GLM = models.GLM()\n",
    "GLM.model = joblib.load(f\"files/models/{model_name}.joblib\")\n",
    "logger.info(f\"loaded model '{model_name}'\")"
   ]
  },
  {
   "cell_type": "markdown",
   "id": "94520c89-9387-4bcd-afb8-3e297ea26f5f",
   "metadata": {},
   "source": [
    "# Create Table"
   ]
  },
  {
   "cell_type": "markdown",
   "id": "b9b5d1f1-7c22-4377-89fc-07149cbb274b",
   "metadata": {},
   "source": [
    "## Predict"
   ]
  },
  {
   "cell_type": "code",
   "execution_count": 25,
   "id": "b9f4ca33-77ec-448a-b947-ce9cb689f5ac",
   "metadata": {},
   "outputs": [],
   "source": [
    "mapping = preprocessors.update_mapping(mapping=mapping, key='attained_age', values=(0,121))\n",
    "mapping = preprocessors.update_mapping(mapping=mapping, key='duration', values=(1,122))"
   ]
  },
  {
   "cell_type": "code",
   "execution_count": 30,
   "id": "eeeed443-8566-421a-9daf-e02670c59ab3",
   "metadata": {},
   "outputs": [
    {
     "name": "stdout",
     "output_type": "stream",
     "text": [
      "\u001b[37m 2024-07-07 15:48:35 \u001b[0m|\u001b[37m morai.experience.tables \u001b[0m|\u001b[32m INFO     \u001b[0m|\u001b[32m generating table for model GLMResultsWrapper \u001b[0m\n",
      "\u001b[37m 2024-07-07 15:48:35 \u001b[0m|\u001b[37m morai.experience.tables \u001b[0m|\u001b[33m WARNING  \u001b[0m|\u001b[33m the multipliers may not match the predictions from the model and will be the average prediction for the feature \u001b[0m\n",
      "\u001b[37m 2024-07-07 15:48:36 \u001b[0m|\u001b[37m morai.experience.tables \u001b[0m|\u001b[32m INFO     \u001b[0m|\u001b[32m mult_table rows: 30 \u001b[0m\n",
      "\u001b[37m 2024-07-07 15:48:36 \u001b[0m|\u001b[37m morai.experience.tables \u001b[0m|\u001b[32m INFO     \u001b[0m|\u001b[32m rate_table shape: (30496, 6) \u001b[0m\n",
      "\u001b[37m 2024-07-07 15:48:36 \u001b[0m|\u001b[37m morai.experience.tables \u001b[0m|\u001b[32m INFO     \u001b[0m|\u001b[32m Removed '488' rows where attained_age, issue_age, or duration was invalid. \u001b[0m\n"
     ]
    }
   ],
   "source": [
    "rate_table, mult_table = tables.generate_table(\n",
    "    model=GLM.model,\n",
    "    preprocess_mapping=preprocess_dict[\"mapping\"],\n",
    "    preprocess_feature_dict=preprocess_dict[\"feature_dict\"],\n",
    "    preprocess_params=preprocess_dict[\"params\"],\n",
    "    grid=None,\n",
    "    mult_features=[\"observation_year\", \"insurance_plan\", \"binned_face\", \"class_enh\"],\n",
    ")\n",
    "rate_table = tables.check_aa_ia_dur_cols(rate_table)"
   ]
  },
  {
   "cell_type": "markdown",
   "id": "9ef9d887-199d-470d-8f13-799dc3cdf0d0",
   "metadata": {},
   "source": [
    "## Output"
   ]
  },
  {
   "cell_type": "code",
   "execution_count": 28,
   "id": "b8e006b9-914c-4042-8cf4-e5e61a4bd091",
   "metadata": {},
   "outputs": [
    {
     "name": "stdout",
     "output_type": "stream",
     "text": [
      "\u001b[37m 2024-07-07 15:44:41 \u001b[0m|\u001b[37m morai.experience.tables \u001b[0m|\u001b[32m INFO     \u001b[0m|\u001b[32m saving table to C:\\Users\\johnk\\Desktop\\github\\morai\\files\\dataset\\tables\\glm.xlsx \u001b[0m\n"
     ]
    }
   ],
   "source": [
    "tables.output_table(rate_table=rate_table, filename=\"glm.xlsx\", mult_table=mult_table)"
   ]
  },
  {
   "cell_type": "code",
   "execution_count": null,
   "id": "1694f622-f542-4cdf-8d80-e903d519b18b",
   "metadata": {},
   "outputs": [],
   "source": []
  }
 ],
 "metadata": {
  "kernelspec": {
   "display_name": "morai",
   "language": "python",
   "name": "morai"
  },
  "language_info": {
   "codemirror_mode": {
    "name": "ipython",
    "version": 3
   },
   "file_extension": ".py",
   "mimetype": "text/x-python",
   "name": "python",
   "nbconvert_exporter": "python",
   "pygments_lexer": "ipython3",
   "version": "3.9.19"
  },
  "toc-autonumbering": true
 },
 "nbformat": 4,
 "nbformat_minor": 5
}
