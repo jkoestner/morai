{
 "cells": [
  {
   "cell_type": "markdown",
   "id": "7fe32eb8-48f1-41d2-8cda-72f8f396b281",
   "metadata": {},
   "source": [
    "# Import Modules"
   ]
  },
  {
   "cell_type": "code",
   "execution_count": 56,
   "id": "0727a01e-4528-4d09-85ee-cce15db66e2c",
   "metadata": {
    "editable": true,
    "slideshow": {
     "slide_type": ""
    },
    "tags": []
   },
   "outputs": [],
   "source": [
    "import importlib\n",
    "import os\n",
    "import sys\n",
    "\n",
    "import joblib\n",
    "import numpy as np\n",
    "import pandas as pd\n",
    "import polars as pl\n",
    "import seaborn as sns\n",
    "import sklearn.metrics as skm\n",
    "\n",
    "os.chdir(\"../\")\n",
    "sys.path.insert(0, os.getcwd())"
   ]
  },
  {
   "cell_type": "code",
   "execution_count": 3,
   "id": "42d63314-ab23-4df0-b3b2-beb1a92bda76",
   "metadata": {},
   "outputs": [],
   "source": [
    "from morai.dashboard.utils import dashboard_helper as dh\n",
    "from morai.experience import charters, credibility, eda, tables\n",
    "from morai.forecast import metrics, models, preprocessors\n",
    "from morai.utils import custom_logger, helpers"
   ]
  },
  {
   "cell_type": "code",
   "execution_count": 64,
   "id": "5b3aaacd-32e0-4820-94ef-ed19b69ee279",
   "metadata": {},
   "outputs": [],
   "source": [
    "logger = custom_logger.setup_logging(__name__)"
   ]
  },
  {
   "cell_type": "code",
   "execution_count": 4,
   "id": "a622f7a2-ebcc-4bd5-952b-b0b3cef601a8",
   "metadata": {},
   "outputs": [],
   "source": [
    "# update log level if wanting more logging\n",
    "custom_logger.set_log_level(\"INFO\")"
   ]
  },
  {
   "cell_type": "code",
   "execution_count": 5,
   "id": "3750a6e3-588e-4c2b-9cae-f0fff6d3dae1",
   "metadata": {},
   "outputs": [],
   "source": [
    "pd.options.display.float_format = \"{:,.2f}\".format"
   ]
  },
  {
   "cell_type": "markdown",
   "id": "13659d83-a998-4716-82d0-b62061048f03",
   "metadata": {},
   "source": [
    "# Load Data"
   ]
  },
  {
   "cell_type": "code",
   "execution_count": 102,
   "id": "d346e13a",
   "metadata": {},
   "outputs": [],
   "source": [
    "pl_parquet_path = r\"files/dataset/model_data.parquet\""
   ]
  },
  {
   "cell_type": "code",
   "execution_count": 103,
   "id": "6e1cab02-378c-4431-ad61-5e75701f8cd7",
   "metadata": {},
   "outputs": [],
   "source": [
    "# reading in the dataset\n",
    "# `enable_string_cache` helps with categorical type values\n",
    "pl.enable_string_cache()\n",
    "lzdf = pl.scan_parquet(\n",
    "    pl_parquet_path,\n",
    ")"
   ]
  },
  {
   "cell_type": "code",
   "execution_count": 104,
   "id": "1ffdc8bc-8ba8-4342-9e5c-dde0505a22e2",
   "metadata": {},
   "outputs": [
    {
     "name": "stdout",
     "output_type": "stream",
     "text": [
      "row count: 1,091,302 \n",
      "exposures: 4,332,301,371,494.32\n"
     ]
    }
   ],
   "source": [
    "initial_row_count = lzdf.select(pl.len()).collect().item()\n",
    "print(\n",
    "    f\"row count: {initial_row_count:,} \\n\"\n",
    "    f\"exposures: {lzdf.select([pl.col('amount_exposed').sum()]).collect()[0,0]:,}\"\n",
    ")"
   ]
  },
  {
   "cell_type": "code",
   "execution_count": 105,
   "id": "9ae6421e-c541-4b93-b778-1d6acf175d83",
   "metadata": {},
   "outputs": [],
   "source": [
    "grouped_df = lzdf.collect()"
   ]
  },
  {
   "cell_type": "code",
   "execution_count": 106,
   "id": "d80bd3cc-0345-4ce1-92d3-d46d5db1c319",
   "metadata": {},
   "outputs": [],
   "source": [
    "grouped_df = grouped_df.to_pandas()"
   ]
  },
  {
   "cell_type": "markdown",
   "id": "7f805d87-3d18-4d86-ae08-9044b1c3d9cc",
   "metadata": {},
   "source": [
    "# Credibility"
   ]
  },
  {
   "cell_type": "markdown",
   "id": "816bbc74-60f8-4f14-a24c-c7610da310e6",
   "metadata": {},
   "source": [
    "## Limited Fluctuation"
   ]
  },
  {
   "cell_type": "code",
   "execution_count": 178,
   "id": "8cf981cd-f75a-4b52-8334-e32f81a2717e",
   "metadata": {},
   "outputs": [
    {
     "name": "stdout",
     "output_type": "stream",
     "text": [
      "\u001b[37m 2024-07-08 23:35:33 \u001b[0m|\u001b[37m morai.experience.credibility \u001b[0m|\u001b[32m INFO     \u001b[0m|\u001b[32m Credibility calculated using 'limited fluctuation' on 'death_count'.\n",
      "Dataframe does not need to be seriatim.\n",
      "Created column 'credibility_lf'.\n",
      "Full credibility threshold: 1,082.2\n",
      "Probability measure within range: 0.9\n",
      "Range +/-: 0.1\n",
      "Standard deviation: 1.0\n",
      "Mean: 1.0 \u001b[0m\n"
     ]
    },
    {
     "data": {
      "application/vnd.plotly.v1+json": {
       "config": {
        "plotlyServerURL": "https://plot.ly"
       },
       "data": [
        {
         "hovertemplate": "attained_age=%{x}<br>credibility_lf=%{y}<extra></extra>",
         "legendgroup": "",
         "line": {
          "color": "#636efa",
          "dash": "solid"
         },
         "marker": {
          "symbol": "circle"
         },
         "mode": "lines",
         "name": "",
         "orientation": "v",
         "showlegend": false,
         "type": "scatter",
         "x": [
          50,
          51,
          52,
          53,
          54,
          55,
          56,
          57,
          58,
          59,
          60,
          61,
          62,
          63,
          64,
          65,
          66,
          67,
          68,
          69,
          70,
          71,
          72,
          73,
          74,
          75,
          76,
          77,
          78,
          79,
          80,
          81,
          82,
          83,
          84,
          85,
          86,
          87,
          88,
          89,
          90,
          91,
          92,
          93,
          94,
          95
         ],
         "xaxis": "x",
         "y": [
          0.9290010089382226,
          0.9622249379525707,
          1,
          1,
          1,
          1,
          1,
          1,
          1,
          1,
          1,
          1,
          1,
          1,
          1,
          1,
          1,
          1,
          1,
          1,
          1,
          1,
          1,
          1,
          1,
          1,
          1,
          1,
          1,
          1,
          1,
          1,
          1,
          1,
          1,
          1,
          1,
          1,
          1,
          1,
          1,
          1,
          1,
          1,
          1,
          0.9915475859409869
         ],
         "yaxis": "y"
        }
       ],
       "layout": {
        "autosize": true,
        "legend": {
         "tracegroupgap": 0
        },
        "template": {
         "data": {
          "bar": [
           {
            "error_x": {
             "color": "#2a3f5f"
            },
            "error_y": {
             "color": "#2a3f5f"
            },
            "marker": {
             "line": {
              "color": "#E5ECF6",
              "width": 0.5
             },
             "pattern": {
              "fillmode": "overlay",
              "size": 10,
              "solidity": 0.2
             }
            },
            "type": "bar"
           }
          ],
          "barpolar": [
           {
            "marker": {
             "line": {
              "color": "#E5ECF6",
              "width": 0.5
             },
             "pattern": {
              "fillmode": "overlay",
              "size": 10,
              "solidity": 0.2
             }
            },
            "type": "barpolar"
           }
          ],
          "carpet": [
           {
            "aaxis": {
             "endlinecolor": "#2a3f5f",
             "gridcolor": "white",
             "linecolor": "white",
             "minorgridcolor": "white",
             "startlinecolor": "#2a3f5f"
            },
            "baxis": {
             "endlinecolor": "#2a3f5f",
             "gridcolor": "white",
             "linecolor": "white",
             "minorgridcolor": "white",
             "startlinecolor": "#2a3f5f"
            },
            "type": "carpet"
           }
          ],
          "choropleth": [
           {
            "colorbar": {
             "outlinewidth": 0,
             "ticks": ""
            },
            "type": "choropleth"
           }
          ],
          "contour": [
           {
            "colorbar": {
             "outlinewidth": 0,
             "ticks": ""
            },
            "colorscale": [
             [
              0,
              "#0d0887"
             ],
             [
              0.1111111111111111,
              "#46039f"
             ],
             [
              0.2222222222222222,
              "#7201a8"
             ],
             [
              0.3333333333333333,
              "#9c179e"
             ],
             [
              0.4444444444444444,
              "#bd3786"
             ],
             [
              0.5555555555555556,
              "#d8576b"
             ],
             [
              0.6666666666666666,
              "#ed7953"
             ],
             [
              0.7777777777777778,
              "#fb9f3a"
             ],
             [
              0.8888888888888888,
              "#fdca26"
             ],
             [
              1,
              "#f0f921"
             ]
            ],
            "type": "contour"
           }
          ],
          "contourcarpet": [
           {
            "colorbar": {
             "outlinewidth": 0,
             "ticks": ""
            },
            "type": "contourcarpet"
           }
          ],
          "heatmap": [
           {
            "colorbar": {
             "outlinewidth": 0,
             "ticks": ""
            },
            "colorscale": [
             [
              0,
              "#0d0887"
             ],
             [
              0.1111111111111111,
              "#46039f"
             ],
             [
              0.2222222222222222,
              "#7201a8"
             ],
             [
              0.3333333333333333,
              "#9c179e"
             ],
             [
              0.4444444444444444,
              "#bd3786"
             ],
             [
              0.5555555555555556,
              "#d8576b"
             ],
             [
              0.6666666666666666,
              "#ed7953"
             ],
             [
              0.7777777777777778,
              "#fb9f3a"
             ],
             [
              0.8888888888888888,
              "#fdca26"
             ],
             [
              1,
              "#f0f921"
             ]
            ],
            "type": "heatmap"
           }
          ],
          "heatmapgl": [
           {
            "colorbar": {
             "outlinewidth": 0,
             "ticks": ""
            },
            "colorscale": [
             [
              0,
              "#0d0887"
             ],
             [
              0.1111111111111111,
              "#46039f"
             ],
             [
              0.2222222222222222,
              "#7201a8"
             ],
             [
              0.3333333333333333,
              "#9c179e"
             ],
             [
              0.4444444444444444,
              "#bd3786"
             ],
             [
              0.5555555555555556,
              "#d8576b"
             ],
             [
              0.6666666666666666,
              "#ed7953"
             ],
             [
              0.7777777777777778,
              "#fb9f3a"
             ],
             [
              0.8888888888888888,
              "#fdca26"
             ],
             [
              1,
              "#f0f921"
             ]
            ],
            "type": "heatmapgl"
           }
          ],
          "histogram": [
           {
            "marker": {
             "pattern": {
              "fillmode": "overlay",
              "size": 10,
              "solidity": 0.2
             }
            },
            "type": "histogram"
           }
          ],
          "histogram2d": [
           {
            "colorbar": {
             "outlinewidth": 0,
             "ticks": ""
            },
            "colorscale": [
             [
              0,
              "#0d0887"
             ],
             [
              0.1111111111111111,
              "#46039f"
             ],
             [
              0.2222222222222222,
              "#7201a8"
             ],
             [
              0.3333333333333333,
              "#9c179e"
             ],
             [
              0.4444444444444444,
              "#bd3786"
             ],
             [
              0.5555555555555556,
              "#d8576b"
             ],
             [
              0.6666666666666666,
              "#ed7953"
             ],
             [
              0.7777777777777778,
              "#fb9f3a"
             ],
             [
              0.8888888888888888,
              "#fdca26"
             ],
             [
              1,
              "#f0f921"
             ]
            ],
            "type": "histogram2d"
           }
          ],
          "histogram2dcontour": [
           {
            "colorbar": {
             "outlinewidth": 0,
             "ticks": ""
            },
            "colorscale": [
             [
              0,
              "#0d0887"
             ],
             [
              0.1111111111111111,
              "#46039f"
             ],
             [
              0.2222222222222222,
              "#7201a8"
             ],
             [
              0.3333333333333333,
              "#9c179e"
             ],
             [
              0.4444444444444444,
              "#bd3786"
             ],
             [
              0.5555555555555556,
              "#d8576b"
             ],
             [
              0.6666666666666666,
              "#ed7953"
             ],
             [
              0.7777777777777778,
              "#fb9f3a"
             ],
             [
              0.8888888888888888,
              "#fdca26"
             ],
             [
              1,
              "#f0f921"
             ]
            ],
            "type": "histogram2dcontour"
           }
          ],
          "mesh3d": [
           {
            "colorbar": {
             "outlinewidth": 0,
             "ticks": ""
            },
            "type": "mesh3d"
           }
          ],
          "parcoords": [
           {
            "line": {
             "colorbar": {
              "outlinewidth": 0,
              "ticks": ""
             }
            },
            "type": "parcoords"
           }
          ],
          "pie": [
           {
            "automargin": true,
            "type": "pie"
           }
          ],
          "scatter": [
           {
            "fillpattern": {
             "fillmode": "overlay",
             "size": 10,
             "solidity": 0.2
            },
            "type": "scatter"
           }
          ],
          "scatter3d": [
           {
            "line": {
             "colorbar": {
              "outlinewidth": 0,
              "ticks": ""
             }
            },
            "marker": {
             "colorbar": {
              "outlinewidth": 0,
              "ticks": ""
             }
            },
            "type": "scatter3d"
           }
          ],
          "scattercarpet": [
           {
            "marker": {
             "colorbar": {
              "outlinewidth": 0,
              "ticks": ""
             }
            },
            "type": "scattercarpet"
           }
          ],
          "scattergeo": [
           {
            "marker": {
             "colorbar": {
              "outlinewidth": 0,
              "ticks": ""
             }
            },
            "type": "scattergeo"
           }
          ],
          "scattergl": [
           {
            "marker": {
             "colorbar": {
              "outlinewidth": 0,
              "ticks": ""
             }
            },
            "type": "scattergl"
           }
          ],
          "scattermapbox": [
           {
            "marker": {
             "colorbar": {
              "outlinewidth": 0,
              "ticks": ""
             }
            },
            "type": "scattermapbox"
           }
          ],
          "scatterpolar": [
           {
            "marker": {
             "colorbar": {
              "outlinewidth": 0,
              "ticks": ""
             }
            },
            "type": "scatterpolar"
           }
          ],
          "scatterpolargl": [
           {
            "marker": {
             "colorbar": {
              "outlinewidth": 0,
              "ticks": ""
             }
            },
            "type": "scatterpolargl"
           }
          ],
          "scatterternary": [
           {
            "marker": {
             "colorbar": {
              "outlinewidth": 0,
              "ticks": ""
             }
            },
            "type": "scatterternary"
           }
          ],
          "surface": [
           {
            "colorbar": {
             "outlinewidth": 0,
             "ticks": ""
            },
            "colorscale": [
             [
              0,
              "#0d0887"
             ],
             [
              0.1111111111111111,
              "#46039f"
             ],
             [
              0.2222222222222222,
              "#7201a8"
             ],
             [
              0.3333333333333333,
              "#9c179e"
             ],
             [
              0.4444444444444444,
              "#bd3786"
             ],
             [
              0.5555555555555556,
              "#d8576b"
             ],
             [
              0.6666666666666666,
              "#ed7953"
             ],
             [
              0.7777777777777778,
              "#fb9f3a"
             ],
             [
              0.8888888888888888,
              "#fdca26"
             ],
             [
              1,
              "#f0f921"
             ]
            ],
            "type": "surface"
           }
          ],
          "table": [
           {
            "cells": {
             "fill": {
              "color": "#EBF0F8"
             },
             "line": {
              "color": "white"
             }
            },
            "header": {
             "fill": {
              "color": "#C8D4E3"
             },
             "line": {
              "color": "white"
             }
            },
            "type": "table"
           }
          ]
         },
         "layout": {
          "annotationdefaults": {
           "arrowcolor": "#2a3f5f",
           "arrowhead": 0,
           "arrowwidth": 1
          },
          "autotypenumbers": "strict",
          "coloraxis": {
           "colorbar": {
            "outlinewidth": 0,
            "ticks": ""
           }
          },
          "colorscale": {
           "diverging": [
            [
             0,
             "#8e0152"
            ],
            [
             0.1,
             "#c51b7d"
            ],
            [
             0.2,
             "#de77ae"
            ],
            [
             0.3,
             "#f1b6da"
            ],
            [
             0.4,
             "#fde0ef"
            ],
            [
             0.5,
             "#f7f7f7"
            ],
            [
             0.6,
             "#e6f5d0"
            ],
            [
             0.7,
             "#b8e186"
            ],
            [
             0.8,
             "#7fbc41"
            ],
            [
             0.9,
             "#4d9221"
            ],
            [
             1,
             "#276419"
            ]
           ],
           "sequential": [
            [
             0,
             "#0d0887"
            ],
            [
             0.1111111111111111,
             "#46039f"
            ],
            [
             0.2222222222222222,
             "#7201a8"
            ],
            [
             0.3333333333333333,
             "#9c179e"
            ],
            [
             0.4444444444444444,
             "#bd3786"
            ],
            [
             0.5555555555555556,
             "#d8576b"
            ],
            [
             0.6666666666666666,
             "#ed7953"
            ],
            [
             0.7777777777777778,
             "#fb9f3a"
            ],
            [
             0.8888888888888888,
             "#fdca26"
            ],
            [
             1,
             "#f0f921"
            ]
           ],
           "sequentialminus": [
            [
             0,
             "#0d0887"
            ],
            [
             0.1111111111111111,
             "#46039f"
            ],
            [
             0.2222222222222222,
             "#7201a8"
            ],
            [
             0.3333333333333333,
             "#9c179e"
            ],
            [
             0.4444444444444444,
             "#bd3786"
            ],
            [
             0.5555555555555556,
             "#d8576b"
            ],
            [
             0.6666666666666666,
             "#ed7953"
            ],
            [
             0.7777777777777778,
             "#fb9f3a"
            ],
            [
             0.8888888888888888,
             "#fdca26"
            ],
            [
             1,
             "#f0f921"
            ]
           ]
          },
          "colorway": [
           "#636efa",
           "#EF553B",
           "#00cc96",
           "#ab63fa",
           "#FFA15A",
           "#19d3f3",
           "#FF6692",
           "#B6E880",
           "#FF97FF",
           "#FECB52"
          ],
          "font": {
           "color": "#2a3f5f"
          },
          "geo": {
           "bgcolor": "white",
           "lakecolor": "white",
           "landcolor": "#E5ECF6",
           "showlakes": true,
           "showland": true,
           "subunitcolor": "white"
          },
          "hoverlabel": {
           "align": "left"
          },
          "hovermode": "closest",
          "mapbox": {
           "style": "light"
          },
          "paper_bgcolor": "white",
          "plot_bgcolor": "#E5ECF6",
          "polar": {
           "angularaxis": {
            "gridcolor": "white",
            "linecolor": "white",
            "ticks": ""
           },
           "bgcolor": "#E5ECF6",
           "radialaxis": {
            "gridcolor": "white",
            "linecolor": "white",
            "ticks": ""
           }
          },
          "scene": {
           "xaxis": {
            "backgroundcolor": "#E5ECF6",
            "gridcolor": "white",
            "gridwidth": 2,
            "linecolor": "white",
            "showbackground": true,
            "ticks": "",
            "zerolinecolor": "white"
           },
           "yaxis": {
            "backgroundcolor": "#E5ECF6",
            "gridcolor": "white",
            "gridwidth": 2,
            "linecolor": "white",
            "showbackground": true,
            "ticks": "",
            "zerolinecolor": "white"
           },
           "zaxis": {
            "backgroundcolor": "#E5ECF6",
            "gridcolor": "white",
            "gridwidth": 2,
            "linecolor": "white",
            "showbackground": true,
            "ticks": "",
            "zerolinecolor": "white"
           }
          },
          "shapedefaults": {
           "line": {
            "color": "#2a3f5f"
           }
          },
          "ternary": {
           "aaxis": {
            "gridcolor": "white",
            "linecolor": "white",
            "ticks": ""
           },
           "baxis": {
            "gridcolor": "white",
            "linecolor": "white",
            "ticks": ""
           },
           "bgcolor": "#E5ECF6",
           "caxis": {
            "gridcolor": "white",
            "linecolor": "white",
            "ticks": ""
           }
          },
          "title": {
           "x": 0.05
          },
          "xaxis": {
           "automargin": true,
           "gridcolor": "white",
           "linecolor": "white",
           "ticks": "",
           "title": {
            "standoff": 15
           },
           "zerolinecolor": "white",
           "zerolinewidth": 2
          },
          "yaxis": {
           "automargin": true,
           "gridcolor": "white",
           "linecolor": "white",
           "ticks": "",
           "title": {
            "standoff": 15
           },
           "zerolinecolor": "white",
           "zerolinewidth": 2
          }
         }
        },
        "title": {
         "text": "'credibility_lf' by 'attained_age' and 'None'"
        },
        "xaxis": {
         "anchor": "y",
         "autorange": true,
         "domain": [
          0,
          1
         ],
         "range": [
          50,
          95
         ],
         "title": {
          "text": "attained_age"
         },
         "type": "linear"
        },
        "yaxis": {
         "anchor": "x",
         "autorange": true,
         "domain": [
          0,
          1
         ],
         "range": [
          0.9250566205459017,
          1.003944388392321
         ],
         "title": {
          "text": "credibility_lf"
         },
         "type": "linear"
        }
       }
      },
      "image/png": "[encoded data removed]",
      "text/html": [
       "<div>                            <div id=\"afb36522-cd4e-405d-a8f5-34c94b4aa905\" class=\"plotly-graph-div\" style=\"height:525px; width:100%;\"></div>            <script type=\"text/javascript\">                require([\"plotly\"], function(Plotly) {                    window.PLOTLYENV=window.PLOTLYENV || {};                                    if (document.getElementById(\"afb36522-cd4e-405d-a8f5-34c94b4aa905\")) {                    Plotly.newPlot(                        \"afb36522-cd4e-405d-a8f5-34c94b4aa905\",                        [{\"hovertemplate\":\"attained_age=%{x}\\u003cbr\\u003ecredibility_lf=%{y}\\u003cextra\\u003e\\u003c\\u002fextra\\u003e\",\"legendgroup\":\"\",\"line\":{\"color\":\"#636efa\",\"dash\":\"solid\"},\"marker\":{\"symbol\":\"circle\"},\"mode\":\"lines\",\"name\":\"\",\"orientation\":\"v\",\"showlegend\":false,\"x\":[50,51,52,53,54,55,56,57,58,59,60,61,62,63,64,65,66,67,68,69,70,71,72,73,74,75,76,77,78,79,80,81,82,83,84,85,86,87,88,89,90,91,92,93,94,95],\"xaxis\":\"x\",\"y\":[0.9290010089382226,0.9622249379525707,1.0,1.0,1.0,1.0,1.0,1.0,1.0,1.0,1.0,1.0,1.0,1.0,1.0,1.0,1.0,1.0,1.0,1.0,1.0,1.0,1.0,1.0,1.0,1.0,1.0,1.0,1.0,1.0,1.0,1.0,1.0,1.0,1.0,1.0,1.0,1.0,1.0,1.0,1.0,1.0,1.0,1.0,1.0,0.9915475859409869],\"yaxis\":\"y\",\"type\":\"scatter\"}],                        {\"template\":{\"data\":{\"histogram2dcontour\":[{\"type\":\"histogram2dcontour\",\"colorbar\":{\"outlinewidth\":0,\"ticks\":\"\"},\"colorscale\":[[0.0,\"#0d0887\"],[0.1111111111111111,\"#46039f\"],[0.2222222222222222,\"#7201a8\"],[0.3333333333333333,\"#9c179e\"],[0.4444444444444444,\"#bd3786\"],[0.5555555555555556,\"#d8576b\"],[0.6666666666666666,\"#ed7953\"],[0.7777777777777778,\"#fb9f3a\"],[0.8888888888888888,\"#fdca26\"],[1.0,\"#f0f921\"]]}],\"choropleth\":[{\"type\":\"choropleth\",\"colorbar\":{\"outlinewidth\":0,\"ticks\":\"\"}}],\"histogram2d\":[{\"type\":\"histogram2d\",\"colorbar\":{\"outlinewidth\":0,\"ticks\":\"\"},\"colorscale\":[[0.0,\"#0d0887\"],[0.1111111111111111,\"#46039f\"],[0.2222222222222222,\"#7201a8\"],[0.3333333333333333,\"#9c179e\"],[0.4444444444444444,\"#bd3786\"],[0.5555555555555556,\"#d8576b\"],[0.6666666666666666,\"#ed7953\"],[0.7777777777777778,\"#fb9f3a\"],[0.8888888888888888,\"#fdca26\"],[1.0,\"#f0f921\"]]}],\"heatmap\":[{\"type\":\"heatmap\",\"colorbar\":{\"outlinewidth\":0,\"ticks\":\"\"},\"colorscale\":[[0.0,\"#0d0887\"],[0.1111111111111111,\"#46039f\"],[0.2222222222222222,\"#7201a8\"],[0.3333333333333333,\"#9c179e\"],[0.4444444444444444,\"#bd3786\"],[0.5555555555555556,\"#d8576b\"],[0.6666666666666666,\"#ed7953\"],[0.7777777777777778,\"#fb9f3a\"],[0.8888888888888888,\"#fdca26\"],[1.0,\"#f0f921\"]]}],\"heatmapgl\":[{\"type\":\"heatmapgl\",\"colorbar\":{\"outlinewidth\":0,\"ticks\":\"\"},\"colorscale\":[[0.0,\"#0d0887\"],[0.1111111111111111,\"#46039f\"],[0.2222222222222222,\"#7201a8\"],[0.3333333333333333,\"#9c179e\"],[0.4444444444444444,\"#bd3786\"],[0.5555555555555556,\"#d8576b\"],[0.6666666666666666,\"#ed7953\"],[0.7777777777777778,\"#fb9f3a\"],[0.8888888888888888,\"#fdca26\"],[1.0,\"#f0f921\"]]}],\"contourcarpet\":[{\"type\":\"contourcarpet\",\"colorbar\":{\"outlinewidth\":0,\"ticks\":\"\"}}],\"contour\":[{\"type\":\"contour\",\"colorbar\":{\"outlinewidth\":0,\"ticks\":\"\"},\"colorscale\":[[0.0,\"#0d0887\"],[0.1111111111111111,\"#46039f\"],[0.2222222222222222,\"#7201a8\"],[0.3333333333333333,\"#9c179e\"],[0.4444444444444444,\"#bd3786\"],[0.5555555555555556,\"#d8576b\"],[0.6666666666666666,\"#ed7953\"],[0.7777777777777778,\"#fb9f3a\"],[0.8888888888888888,\"#fdca26\"],[1.0,\"#f0f921\"]]}],\"surface\":[{\"type\":\"surface\",\"colorbar\":{\"outlinewidth\":0,\"ticks\":\"\"},\"colorscale\":[[0.0,\"#0d0887\"],[0.1111111111111111,\"#46039f\"],[0.2222222222222222,\"#7201a8\"],[0.3333333333333333,\"#9c179e\"],[0.4444444444444444,\"#bd3786\"],[0.5555555555555556,\"#d8576b\"],[0.6666666666666666,\"#ed7953\"],[0.7777777777777778,\"#fb9f3a\"],[0.8888888888888888,\"#fdca26\"],[1.0,\"#f0f921\"]]}],\"mesh3d\":[{\"type\":\"mesh3d\",\"colorbar\":{\"outlinewidth\":0,\"ticks\":\"\"}}],\"scatter\":[{\"fillpattern\":{\"fillmode\":\"overlay\",\"size\":10,\"solidity\":0.2},\"type\":\"scatter\"}],\"parcoords\":[{\"type\":\"parcoords\",\"line\":{\"colorbar\":{\"outlinewidth\":0,\"ticks\":\"\"}}}],\"scatterpolargl\":[{\"type\":\"scatterpolargl\",\"marker\":{\"colorbar\":{\"outlinewidth\":0,\"ticks\":\"\"}}}],\"bar\":[{\"error_x\":{\"color\":\"#2a3f5f\"},\"error_y\":{\"color\":\"#2a3f5f\"},\"marker\":{\"line\":{\"color\":\"#E5ECF6\",\"width\":0.5},\"pattern\":{\"fillmode\":\"overlay\",\"size\":10,\"solidity\":0.2}},\"type\":\"bar\"}],\"scattergeo\":[{\"type\":\"scattergeo\",\"marker\":{\"colorbar\":{\"outlinewidth\":0,\"ticks\":\"\"}}}],\"scatterpolar\":[{\"type\":\"scatterpolar\",\"marker\":{\"colorbar\":{\"outlinewidth\":0,\"ticks\":\"\"}}}],\"histogram\":[{\"marker\":{\"pattern\":{\"fillmode\":\"overlay\",\"size\":10,\"solidity\":0.2}},\"type\":\"histogram\"}],\"scattergl\":[{\"type\":\"scattergl\",\"marker\":{\"colorbar\":{\"outlinewidth\":0,\"ticks\":\"\"}}}],\"scatter3d\":[{\"type\":\"scatter3d\",\"line\":{\"colorbar\":{\"outlinewidth\":0,\"ticks\":\"\"}},\"marker\":{\"colorbar\":{\"outlinewidth\":0,\"ticks\":\"\"}}}],\"scattermapbox\":[{\"type\":\"scattermapbox\",\"marker\":{\"colorbar\":{\"outlinewidth\":0,\"ticks\":\"\"}}}],\"scatterternary\":[{\"type\":\"scatterternary\",\"marker\":{\"colorbar\":{\"outlinewidth\":0,\"ticks\":\"\"}}}],\"scattercarpet\":[{\"type\":\"scattercarpet\",\"marker\":{\"colorbar\":{\"outlinewidth\":0,\"ticks\":\"\"}}}],\"carpet\":[{\"aaxis\":{\"endlinecolor\":\"#2a3f5f\",\"gridcolor\":\"white\",\"linecolor\":\"white\",\"minorgridcolor\":\"white\",\"startlinecolor\":\"#2a3f5f\"},\"baxis\":{\"endlinecolor\":\"#2a3f5f\",\"gridcolor\":\"white\",\"linecolor\":\"white\",\"minorgridcolor\":\"white\",\"startlinecolor\":\"#2a3f5f\"},\"type\":\"carpet\"}],\"table\":[{\"cells\":{\"fill\":{\"color\":\"#EBF0F8\"},\"line\":{\"color\":\"white\"}},\"header\":{\"fill\":{\"color\":\"#C8D4E3\"},\"line\":{\"color\":\"white\"}},\"type\":\"table\"}],\"barpolar\":[{\"marker\":{\"line\":{\"color\":\"#E5ECF6\",\"width\":0.5},\"pattern\":{\"fillmode\":\"overlay\",\"size\":10,\"solidity\":0.2}},\"type\":\"barpolar\"}],\"pie\":[{\"automargin\":true,\"type\":\"pie\"}]},\"layout\":{\"autotypenumbers\":\"strict\",\"colorway\":[\"#636efa\",\"#EF553B\",\"#00cc96\",\"#ab63fa\",\"#FFA15A\",\"#19d3f3\",\"#FF6692\",\"#B6E880\",\"#FF97FF\",\"#FECB52\"],\"font\":{\"color\":\"#2a3f5f\"},\"hovermode\":\"closest\",\"hoverlabel\":{\"align\":\"left\"},\"paper_bgcolor\":\"white\",\"plot_bgcolor\":\"#E5ECF6\",\"polar\":{\"bgcolor\":\"#E5ECF6\",\"angularaxis\":{\"gridcolor\":\"white\",\"linecolor\":\"white\",\"ticks\":\"\"},\"radialaxis\":{\"gridcolor\":\"white\",\"linecolor\":\"white\",\"ticks\":\"\"}},\"ternary\":{\"bgcolor\":\"#E5ECF6\",\"aaxis\":{\"gridcolor\":\"white\",\"linecolor\":\"white\",\"ticks\":\"\"},\"baxis\":{\"gridcolor\":\"white\",\"linecolor\":\"white\",\"ticks\":\"\"},\"caxis\":{\"gridcolor\":\"white\",\"linecolor\":\"white\",\"ticks\":\"\"}},\"coloraxis\":{\"colorbar\":{\"outlinewidth\":0,\"ticks\":\"\"}},\"colorscale\":{\"sequential\":[[0.0,\"#0d0887\"],[0.1111111111111111,\"#46039f\"],[0.2222222222222222,\"#7201a8\"],[0.3333333333333333,\"#9c179e\"],[0.4444444444444444,\"#bd3786\"],[0.5555555555555556,\"#d8576b\"],[0.6666666666666666,\"#ed7953\"],[0.7777777777777778,\"#fb9f3a\"],[0.8888888888888888,\"#fdca26\"],[1.0,\"#f0f921\"]],\"sequentialminus\":[[0.0,\"#0d0887\"],[0.1111111111111111,\"#46039f\"],[0.2222222222222222,\"#7201a8\"],[0.3333333333333333,\"#9c179e\"],[0.4444444444444444,\"#bd3786\"],[0.5555555555555556,\"#d8576b\"],[0.6666666666666666,\"#ed7953\"],[0.7777777777777778,\"#fb9f3a\"],[0.8888888888888888,\"#fdca26\"],[1.0,\"#f0f921\"]],\"diverging\":[[0,\"#8e0152\"],[0.1,\"#c51b7d\"],[0.2,\"#de77ae\"],[0.3,\"#f1b6da\"],[0.4,\"#fde0ef\"],[0.5,\"#f7f7f7\"],[0.6,\"#e6f5d0\"],[0.7,\"#b8e186\"],[0.8,\"#7fbc41\"],[0.9,\"#4d9221\"],[1,\"#276419\"]]},\"xaxis\":{\"gridcolor\":\"white\",\"linecolor\":\"white\",\"ticks\":\"\",\"title\":{\"standoff\":15},\"zerolinecolor\":\"white\",\"automargin\":true,\"zerolinewidth\":2},\"yaxis\":{\"gridcolor\":\"white\",\"linecolor\":\"white\",\"ticks\":\"\",\"title\":{\"standoff\":15},\"zerolinecolor\":\"white\",\"automargin\":true,\"zerolinewidth\":2},\"scene\":{\"xaxis\":{\"backgroundcolor\":\"#E5ECF6\",\"gridcolor\":\"white\",\"linecolor\":\"white\",\"showbackground\":true,\"ticks\":\"\",\"zerolinecolor\":\"white\",\"gridwidth\":2},\"yaxis\":{\"backgroundcolor\":\"#E5ECF6\",\"gridcolor\":\"white\",\"linecolor\":\"white\",\"showbackground\":true,\"ticks\":\"\",\"zerolinecolor\":\"white\",\"gridwidth\":2},\"zaxis\":{\"backgroundcolor\":\"#E5ECF6\",\"gridcolor\":\"white\",\"linecolor\":\"white\",\"showbackground\":true,\"ticks\":\"\",\"zerolinecolor\":\"white\",\"gridwidth\":2}},\"shapedefaults\":{\"line\":{\"color\":\"#2a3f5f\"}},\"annotationdefaults\":{\"arrowcolor\":\"#2a3f5f\",\"arrowhead\":0,\"arrowwidth\":1},\"geo\":{\"bgcolor\":\"white\",\"landcolor\":\"#E5ECF6\",\"subunitcolor\":\"white\",\"showland\":true,\"showlakes\":true,\"lakecolor\":\"white\"},\"title\":{\"x\":0.05},\"mapbox\":{\"style\":\"light\"}}},\"xaxis\":{\"anchor\":\"y\",\"domain\":[0.0,1.0],\"title\":{\"text\":\"attained_age\"}},\"yaxis\":{\"anchor\":\"x\",\"domain\":[0.0,1.0],\"title\":{\"text\":\"credibility_lf\"},\"type\":\"-\"},\"legend\":{\"tracegroupgap\":0},\"title\":{\"text\":\"'credibility_lf' by 'attained_age' and 'None'\"}},                        {\"responsive\": true}                    ).then(function(){\n",
       "                            \n",
       "var gd = document.getElementById('afb36522-cd4e-405d-a8f5-34c94b4aa905');\n",
       "var x = new MutationObserver(function (mutations, observer) {{\n",
       "        var display = window.getComputedStyle(gd).display;\n",
       "        if (!display || display === 'none') {{\n",
       "            console.log([gd, 'removed!']);\n",
       "            Plotly.purge(gd);\n",
       "            observer.disconnect();\n",
       "        }}\n",
       "}});\n",
       "\n",
       "// Listen for the removal of the full notebook cells\n",
       "var notebookContainer = gd.closest('#notebook-container');\n",
       "if (notebookContainer) {{\n",
       "    x.observe(notebookContainer, {childList: true});\n",
       "}}\n",
       "\n",
       "// Listen for the clearing of the current output cell\n",
       "var outputEl = gd.closest('.output');\n",
       "if (outputEl) {{\n",
       "    x.observe(outputEl, {childList: true});\n",
       "}}\n",
       "\n",
       "                        })                };                });            </script>        </div>"
      ]
     },
     "metadata": {},
     "output_type": "display_data"
    }
   ],
   "source": [
    "charters.chart(\n",
    "    df=credibility.limited_fluctuation(\n",
    "        df=grouped_df, measure=\"death_count\", groupby_cols=[\"attained_age\"]\n",
    "    ),\n",
    "    x_axis=\"attained_age\",\n",
    "    y_axis=\"credibility_lf\",\n",
    "    type=\"line\",\n",
    ")"
   ]
  },
  {
   "cell_type": "markdown",
   "id": "486d31a2-23bf-42df-a070-6c397a145b19",
   "metadata": {},
   "source": [
    "## Asymptotic"
   ]
  },
  {
   "cell_type": "code",
   "execution_count": 175,
   "id": "4e3c1141-4ae7-402a-b112-bda304724262",
   "metadata": {},
   "outputs": [
    {
     "name": "stdout",
     "output_type": "stream",
     "text": [
      "\u001b[37m 2024-07-08 23:34:19 \u001b[0m|\u001b[37m morai.experience.credibility \u001b[0m|\u001b[32m INFO     \u001b[0m|\u001b[32m Credibility calculated using 'asymptotic' on 'policies_exposed'.\n",
      "Dataframe does not need to be seriatim.\n",
      "Created column 'credibility_as'.\n",
      "Constant k: 5000. \u001b[0m\n"
     ]
    },
    {
     "data": {
      "application/vnd.plotly.v1+json": {
       "config": {
        "plotlyServerURL": "https://plot.ly"
       },
       "data": [
        {
         "hovertemplate": "attained_age=%{x}<br>credibility_as=%{y}<extra></extra>",
         "legendgroup": "",
         "line": {
          "color": "#636efa",
          "dash": "solid"
         },
         "marker": {
          "symbol": "circle"
         },
         "mode": "lines",
         "name": "",
         "orientation": "v",
         "showlegend": false,
         "type": "scatter",
         "x": [
          50,
          51,
          52,
          53,
          54,
          55,
          56,
          57,
          58,
          59,
          60,
          61,
          62,
          63,
          64,
          65,
          66,
          67,
          68,
          69,
          70,
          71,
          72,
          73,
          74,
          75,
          76,
          77,
          78,
          79,
          80,
          81,
          82,
          83,
          84,
          85,
          86,
          87,
          88,
          89,
          90,
          91,
          92,
          93,
          94,
          95
         ],
         "xaxis": "x",
         "y": [
          0.993219842415706,
          0.9932003477928605,
          0.9934084661891207,
          0.9932564623658213,
          0.9931429180902929,
          0.9933034634953898,
          0.9932596921596142,
          0.9933195277697132,
          0.9930683020821566,
          0.992709534757717,
          0.9926419352849214,
          0.992520505217853,
          0.9920590499599672,
          0.9918681788820607,
          0.9914323641910864,
          0.9906827329053726,
          0.9900752549665063,
          0.9893832981239762,
          0.988395574316975,
          0.9871305253014392,
          0.9854320978985416,
          0.9843930715443355,
          0.982246053927536,
          0.979726882476319,
          0.9776133428077834,
          0.9768050610307725,
          0.9723678174906586,
          0.9696337821180575,
          0.965602477793888,
          0.9635978324742085,
          0.9604649451144089,
          0.9549733763986495,
          0.9517063521652563,
          0.946041398879728,
          0.9367063619336526,
          0.9295552610480239,
          0.92472696676262,
          0.9152017432944933,
          0.901496163948158,
          0.8746609273457273,
          0.8452170822132002,
          0.8178817495604168,
          0.7656915881623152,
          0.7004448853104372,
          0.6142048755942972,
          0.509209995343239
         ],
         "yaxis": "y"
        }
       ],
       "layout": {
        "autosize": true,
        "legend": {
         "tracegroupgap": 0
        },
        "template": {
         "data": {
          "bar": [
           {
            "error_x": {
             "color": "#2a3f5f"
            },
            "error_y": {
             "color": "#2a3f5f"
            },
            "marker": {
             "line": {
              "color": "#E5ECF6",
              "width": 0.5
             },
             "pattern": {
              "fillmode": "overlay",
              "size": 10,
              "solidity": 0.2
             }
            },
            "type": "bar"
           }
          ],
          "barpolar": [
           {
            "marker": {
             "line": {
              "color": "#E5ECF6",
              "width": 0.5
             },
             "pattern": {
              "fillmode": "overlay",
              "size": 10,
              "solidity": 0.2
             }
            },
            "type": "barpolar"
           }
          ],
          "carpet": [
           {
            "aaxis": {
             "endlinecolor": "#2a3f5f",
             "gridcolor": "white",
             "linecolor": "white",
             "minorgridcolor": "white",
             "startlinecolor": "#2a3f5f"
            },
            "baxis": {
             "endlinecolor": "#2a3f5f",
             "gridcolor": "white",
             "linecolor": "white",
             "minorgridcolor": "white",
             "startlinecolor": "#2a3f5f"
            },
            "type": "carpet"
           }
          ],
          "choropleth": [
           {
            "colorbar": {
             "outlinewidth": 0,
             "ticks": ""
            },
            "type": "choropleth"
           }
          ],
          "contour": [
           {
            "colorbar": {
             "outlinewidth": 0,
             "ticks": ""
            },
            "colorscale": [
             [
              0,
              "#0d0887"
             ],
             [
              0.1111111111111111,
              "#46039f"
             ],
             [
              0.2222222222222222,
              "#7201a8"
             ],
             [
              0.3333333333333333,
              "#9c179e"
             ],
             [
              0.4444444444444444,
              "#bd3786"
             ],
             [
              0.5555555555555556,
              "#d8576b"
             ],
             [
              0.6666666666666666,
              "#ed7953"
             ],
             [
              0.7777777777777778,
              "#fb9f3a"
             ],
             [
              0.8888888888888888,
              "#fdca26"
             ],
             [
              1,
              "#f0f921"
             ]
            ],
            "type": "contour"
           }
          ],
          "contourcarpet": [
           {
            "colorbar": {
             "outlinewidth": 0,
             "ticks": ""
            },
            "type": "contourcarpet"
           }
          ],
          "heatmap": [
           {
            "colorbar": {
             "outlinewidth": 0,
             "ticks": ""
            },
            "colorscale": [
             [
              0,
              "#0d0887"
             ],
             [
              0.1111111111111111,
              "#46039f"
             ],
             [
              0.2222222222222222,
              "#7201a8"
             ],
             [
              0.3333333333333333,
              "#9c179e"
             ],
             [
              0.4444444444444444,
              "#bd3786"
             ],
             [
              0.5555555555555556,
              "#d8576b"
             ],
             [
              0.6666666666666666,
              "#ed7953"
             ],
             [
              0.7777777777777778,
              "#fb9f3a"
             ],
             [
              0.8888888888888888,
              "#fdca26"
             ],
             [
              1,
              "#f0f921"
             ]
            ],
            "type": "heatmap"
           }
          ],
          "heatmapgl": [
           {
            "colorbar": {
             "outlinewidth": 0,
             "ticks": ""
            },
            "colorscale": [
             [
              0,
              "#0d0887"
             ],
             [
              0.1111111111111111,
              "#46039f"
             ],
             [
              0.2222222222222222,
              "#7201a8"
             ],
             [
              0.3333333333333333,
              "#9c179e"
             ],
             [
              0.4444444444444444,
              "#bd3786"
             ],
             [
              0.5555555555555556,
              "#d8576b"
             ],
             [
              0.6666666666666666,
              "#ed7953"
             ],
             [
              0.7777777777777778,
              "#fb9f3a"
             ],
             [
              0.8888888888888888,
              "#fdca26"
             ],
             [
              1,
              "#f0f921"
             ]
            ],
            "type": "heatmapgl"
           }
          ],
          "histogram": [
           {
            "marker": {
             "pattern": {
              "fillmode": "overlay",
              "size": 10,
              "solidity": 0.2
             }
            },
            "type": "histogram"
           }
          ],
          "histogram2d": [
           {
            "colorbar": {
             "outlinewidth": 0,
             "ticks": ""
            },
            "colorscale": [
             [
              0,
              "#0d0887"
             ],
             [
              0.1111111111111111,
              "#46039f"
             ],
             [
              0.2222222222222222,
              "#7201a8"
             ],
             [
              0.3333333333333333,
              "#9c179e"
             ],
             [
              0.4444444444444444,
              "#bd3786"
             ],
             [
              0.5555555555555556,
              "#d8576b"
             ],
             [
              0.6666666666666666,
              "#ed7953"
             ],
             [
              0.7777777777777778,
              "#fb9f3a"
             ],
             [
              0.8888888888888888,
              "#fdca26"
             ],
             [
              1,
              "#f0f921"
             ]
            ],
            "type": "histogram2d"
           }
          ],
          "histogram2dcontour": [
           {
            "colorbar": {
             "outlinewidth": 0,
             "ticks": ""
            },
            "colorscale": [
             [
              0,
              "#0d0887"
             ],
             [
              0.1111111111111111,
              "#46039f"
             ],
             [
              0.2222222222222222,
              "#7201a8"
             ],
             [
              0.3333333333333333,
              "#9c179e"
             ],
             [
              0.4444444444444444,
              "#bd3786"
             ],
             [
              0.5555555555555556,
              "#d8576b"
             ],
             [
              0.6666666666666666,
              "#ed7953"
             ],
             [
              0.7777777777777778,
              "#fb9f3a"
             ],
             [
              0.8888888888888888,
              "#fdca26"
             ],
             [
              1,
              "#f0f921"
             ]
            ],
            "type": "histogram2dcontour"
           }
          ],
          "mesh3d": [
           {
            "colorbar": {
             "outlinewidth": 0,
             "ticks": ""
            },
            "type": "mesh3d"
           }
          ],
          "parcoords": [
           {
            "line": {
             "colorbar": {
              "outlinewidth": 0,
              "ticks": ""
             }
            },
            "type": "parcoords"
           }
          ],
          "pie": [
           {
            "automargin": true,
            "type": "pie"
           }
          ],
          "scatter": [
           {
            "fillpattern": {
             "fillmode": "overlay",
             "size": 10,
             "solidity": 0.2
            },
            "type": "scatter"
           }
          ],
          "scatter3d": [
           {
            "line": {
             "colorbar": {
              "outlinewidth": 0,
              "ticks": ""
             }
            },
            "marker": {
             "colorbar": {
              "outlinewidth": 0,
              "ticks": ""
             }
            },
            "type": "scatter3d"
           }
          ],
          "scattercarpet": [
           {
            "marker": {
             "colorbar": {
              "outlinewidth": 0,
              "ticks": ""
             }
            },
            "type": "scattercarpet"
           }
          ],
          "scattergeo": [
           {
            "marker": {
             "colorbar": {
              "outlinewidth": 0,
              "ticks": ""
             }
            },
            "type": "scattergeo"
           }
          ],
          "scattergl": [
           {
            "marker": {
             "colorbar": {
              "outlinewidth": 0,
              "ticks": ""
             }
            },
            "type": "scattergl"
           }
          ],
          "scattermapbox": [
           {
            "marker": {
             "colorbar": {
              "outlinewidth": 0,
              "ticks": ""
             }
            },
            "type": "scattermapbox"
           }
          ],
          "scatterpolar": [
           {
            "marker": {
             "colorbar": {
              "outlinewidth": 0,
              "ticks": ""
             }
            },
            "type": "scatterpolar"
           }
          ],
          "scatterpolargl": [
           {
            "marker": {
             "colorbar": {
              "outlinewidth": 0,
              "ticks": ""
             }
            },
            "type": "scatterpolargl"
           }
          ],
          "scatterternary": [
           {
            "marker": {
             "colorbar": {
              "outlinewidth": 0,
              "ticks": ""
             }
            },
            "type": "scatterternary"
           }
          ],
          "surface": [
           {
            "colorbar": {
             "outlinewidth": 0,
             "ticks": ""
            },
            "colorscale": [
             [
              0,
              "#0d0887"
             ],
             [
              0.1111111111111111,
              "#46039f"
             ],
             [
              0.2222222222222222,
              "#7201a8"
             ],
             [
              0.3333333333333333,
              "#9c179e"
             ],
             [
              0.4444444444444444,
              "#bd3786"
             ],
             [
              0.5555555555555556,
              "#d8576b"
             ],
             [
              0.6666666666666666,
              "#ed7953"
             ],
             [
              0.7777777777777778,
              "#fb9f3a"
             ],
             [
              0.8888888888888888,
              "#fdca26"
             ],
             [
              1,
              "#f0f921"
             ]
            ],
            "type": "surface"
           }
          ],
          "table": [
           {
            "cells": {
             "fill": {
              "color": "#EBF0F8"
             },
             "line": {
              "color": "white"
             }
            },
            "header": {
             "fill": {
              "color": "#C8D4E3"
             },
             "line": {
              "color": "white"
             }
            },
            "type": "table"
           }
          ]
         },
         "layout": {
          "annotationdefaults": {
           "arrowcolor": "#2a3f5f",
           "arrowhead": 0,
           "arrowwidth": 1
          },
          "autotypenumbers": "strict",
          "coloraxis": {
           "colorbar": {
            "outlinewidth": 0,
            "ticks": ""
           }
          },
          "colorscale": {
           "diverging": [
            [
             0,
             "#8e0152"
            ],
            [
             0.1,
             "#c51b7d"
            ],
            [
             0.2,
             "#de77ae"
            ],
            [
             0.3,
             "#f1b6da"
            ],
            [
             0.4,
             "#fde0ef"
            ],
            [
             0.5,
             "#f7f7f7"
            ],
            [
             0.6,
             "#e6f5d0"
            ],
            [
             0.7,
             "#b8e186"
            ],
            [
             0.8,
             "#7fbc41"
            ],
            [
             0.9,
             "#4d9221"
            ],
            [
             1,
             "#276419"
            ]
           ],
           "sequential": [
            [
             0,
             "#0d0887"
            ],
            [
             0.1111111111111111,
             "#46039f"
            ],
            [
             0.2222222222222222,
             "#7201a8"
            ],
            [
             0.3333333333333333,
             "#9c179e"
            ],
            [
             0.4444444444444444,
             "#bd3786"
            ],
            [
             0.5555555555555556,
             "#d8576b"
            ],
            [
             0.6666666666666666,
             "#ed7953"
            ],
            [
             0.7777777777777778,
             "#fb9f3a"
            ],
            [
             0.8888888888888888,
             "#fdca26"
            ],
            [
             1,
             "#f0f921"
            ]
           ],
           "sequentialminus": [
            [
             0,
             "#0d0887"
            ],
            [
             0.1111111111111111,
             "#46039f"
            ],
            [
             0.2222222222222222,
             "#7201a8"
            ],
            [
             0.3333333333333333,
             "#9c179e"
            ],
            [
             0.4444444444444444,
             "#bd3786"
            ],
            [
             0.5555555555555556,
             "#d8576b"
            ],
            [
             0.6666666666666666,
             "#ed7953"
            ],
            [
             0.7777777777777778,
             "#fb9f3a"
            ],
            [
             0.8888888888888888,
             "#fdca26"
            ],
            [
             1,
             "#f0f921"
            ]
           ]
          },
          "colorway": [
           "#636efa",
           "#EF553B",
           "#00cc96",
           "#ab63fa",
           "#FFA15A",
           "#19d3f3",
           "#FF6692",
           "#B6E880",
           "#FF97FF",
           "#FECB52"
          ],
          "font": {
           "color": "#2a3f5f"
          },
          "geo": {
           "bgcolor": "white",
           "lakecolor": "white",
           "landcolor": "#E5ECF6",
           "showlakes": true,
           "showland": true,
           "subunitcolor": "white"
          },
          "hoverlabel": {
           "align": "left"
          },
          "hovermode": "closest",
          "mapbox": {
           "style": "light"
          },
          "paper_bgcolor": "white",
          "plot_bgcolor": "#E5ECF6",
          "polar": {
           "angularaxis": {
            "gridcolor": "white",
            "linecolor": "white",
            "ticks": ""
           },
           "bgcolor": "#E5ECF6",
           "radialaxis": {
            "gridcolor": "white",
            "linecolor": "white",
            "ticks": ""
           }
          },
          "scene": {
           "xaxis": {
            "backgroundcolor": "#E5ECF6",
            "gridcolor": "white",
            "gridwidth": 2,
            "linecolor": "white",
            "showbackground": true,
            "ticks": "",
            "zerolinecolor": "white"
           },
           "yaxis": {
            "backgroundcolor": "#E5ECF6",
            "gridcolor": "white",
            "gridwidth": 2,
            "linecolor": "white",
            "showbackground": true,
            "ticks": "",
            "zerolinecolor": "white"
           },
           "zaxis": {
            "backgroundcolor": "#E5ECF6",
            "gridcolor": "white",
            "gridwidth": 2,
            "linecolor": "white",
            "showbackground": true,
            "ticks": "",
            "zerolinecolor": "white"
           }
          },
          "shapedefaults": {
           "line": {
            "color": "#2a3f5f"
           }
          },
          "ternary": {
           "aaxis": {
            "gridcolor": "white",
            "linecolor": "white",
            "ticks": ""
           },
           "baxis": {
            "gridcolor": "white",
            "linecolor": "white",
            "ticks": ""
           },
           "bgcolor": "#E5ECF6",
           "caxis": {
            "gridcolor": "white",
            "linecolor": "white",
            "ticks": ""
           }
          },
          "title": {
           "x": 0.05
          },
          "xaxis": {
           "automargin": true,
           "gridcolor": "white",
           "linecolor": "white",
           "ticks": "",
           "title": {
            "standoff": 15
           },
           "zerolinecolor": "white",
           "zerolinewidth": 2
          },
          "yaxis": {
           "automargin": true,
           "gridcolor": "white",
           "linecolor": "white",
           "ticks": "",
           "title": {
            "standoff": 15
           },
           "zerolinecolor": "white",
           "zerolinewidth": 2
          }
         }
        },
        "title": {
         "text": "'credibility_as' by 'attained_age' and 'None'"
        },
        "xaxis": {
         "anchor": "y",
         "autorange": true,
         "domain": [
          0,
          1
         ],
         "range": [
          50,
          95
         ],
         "title": {
          "text": "attained_age"
         },
         "type": "linear"
        },
        "yaxis": {
         "anchor": "x",
         "autorange": true,
         "domain": [
          0,
          1
         ],
         "range": [
          0.48231008029624556,
          1.0203083812361142
         ],
         "title": {
          "text": "credibility_as"
         },
         "type": "linear"
        }
       }
      },
      "image/png": "[encoded data removed]",
      "text/html": [
       "<div>                            <div id=\"10469f10-5781-463b-8e2e-6cd9b9d6ffc2\" class=\"plotly-graph-div\" style=\"height:525px; width:100%;\"></div>            <script type=\"text/javascript\">                require([\"plotly\"], function(Plotly) {                    window.PLOTLYENV=window.PLOTLYENV || {};                                    if (document.getElementById(\"10469f10-5781-463b-8e2e-6cd9b9d6ffc2\")) {                    Plotly.newPlot(                        \"10469f10-5781-463b-8e2e-6cd9b9d6ffc2\",                        [{\"hovertemplate\":\"attained_age=%{x}\\u003cbr\\u003ecredibility_as=%{y}\\u003cextra\\u003e\\u003c\\u002fextra\\u003e\",\"legendgroup\":\"\",\"line\":{\"color\":\"#636efa\",\"dash\":\"solid\"},\"marker\":{\"symbol\":\"circle\"},\"mode\":\"lines\",\"name\":\"\",\"orientation\":\"v\",\"showlegend\":false,\"x\":[50,51,52,53,54,55,56,57,58,59,60,61,62,63,64,65,66,67,68,69,70,71,72,73,74,75,76,77,78,79,80,81,82,83,84,85,86,87,88,89,90,91,92,93,94,95],\"xaxis\":\"x\",\"y\":[0.993219842415706,0.9932003477928605,0.9934084661891207,0.9932564623658213,0.9931429180902929,0.9933034634953898,0.9932596921596142,0.9933195277697132,0.9930683020821566,0.992709534757717,0.9926419352849214,0.992520505217853,0.9920590499599672,0.9918681788820607,0.9914323641910864,0.9906827329053726,0.9900752549665063,0.9893832981239762,0.988395574316975,0.9871305253014392,0.9854320978985416,0.9843930715443355,0.982246053927536,0.979726882476319,0.9776133428077834,0.9768050610307725,0.9723678174906586,0.9696337821180575,0.965602477793888,0.9635978324742085,0.9604649451144089,0.9549733763986495,0.9517063521652563,0.946041398879728,0.9367063619336526,0.9295552610480239,0.92472696676262,0.9152017432944933,0.901496163948158,0.8746609273457273,0.8452170822132002,0.8178817495604168,0.7656915881623152,0.7004448853104372,0.6142048755942972,0.509209995343239],\"yaxis\":\"y\",\"type\":\"scatter\"}],                        {\"template\":{\"data\":{\"histogram2dcontour\":[{\"type\":\"histogram2dcontour\",\"colorbar\":{\"outlinewidth\":0,\"ticks\":\"\"},\"colorscale\":[[0.0,\"#0d0887\"],[0.1111111111111111,\"#46039f\"],[0.2222222222222222,\"#7201a8\"],[0.3333333333333333,\"#9c179e\"],[0.4444444444444444,\"#bd3786\"],[0.5555555555555556,\"#d8576b\"],[0.6666666666666666,\"#ed7953\"],[0.7777777777777778,\"#fb9f3a\"],[0.8888888888888888,\"#fdca26\"],[1.0,\"#f0f921\"]]}],\"choropleth\":[{\"type\":\"choropleth\",\"colorbar\":{\"outlinewidth\":0,\"ticks\":\"\"}}],\"histogram2d\":[{\"type\":\"histogram2d\",\"colorbar\":{\"outlinewidth\":0,\"ticks\":\"\"},\"colorscale\":[[0.0,\"#0d0887\"],[0.1111111111111111,\"#46039f\"],[0.2222222222222222,\"#7201a8\"],[0.3333333333333333,\"#9c179e\"],[0.4444444444444444,\"#bd3786\"],[0.5555555555555556,\"#d8576b\"],[0.6666666666666666,\"#ed7953\"],[0.7777777777777778,\"#fb9f3a\"],[0.8888888888888888,\"#fdca26\"],[1.0,\"#f0f921\"]]}],\"heatmap\":[{\"type\":\"heatmap\",\"colorbar\":{\"outlinewidth\":0,\"ticks\":\"\"},\"colorscale\":[[0.0,\"#0d0887\"],[0.1111111111111111,\"#46039f\"],[0.2222222222222222,\"#7201a8\"],[0.3333333333333333,\"#9c179e\"],[0.4444444444444444,\"#bd3786\"],[0.5555555555555556,\"#d8576b\"],[0.6666666666666666,\"#ed7953\"],[0.7777777777777778,\"#fb9f3a\"],[0.8888888888888888,\"#fdca26\"],[1.0,\"#f0f921\"]]}],\"heatmapgl\":[{\"type\":\"heatmapgl\",\"colorbar\":{\"outlinewidth\":0,\"ticks\":\"\"},\"colorscale\":[[0.0,\"#0d0887\"],[0.1111111111111111,\"#46039f\"],[0.2222222222222222,\"#7201a8\"],[0.3333333333333333,\"#9c179e\"],[0.4444444444444444,\"#bd3786\"],[0.5555555555555556,\"#d8576b\"],[0.6666666666666666,\"#ed7953\"],[0.7777777777777778,\"#fb9f3a\"],[0.8888888888888888,\"#fdca26\"],[1.0,\"#f0f921\"]]}],\"contourcarpet\":[{\"type\":\"contourcarpet\",\"colorbar\":{\"outlinewidth\":0,\"ticks\":\"\"}}],\"contour\":[{\"type\":\"contour\",\"colorbar\":{\"outlinewidth\":0,\"ticks\":\"\"},\"colorscale\":[[0.0,\"#0d0887\"],[0.1111111111111111,\"#46039f\"],[0.2222222222222222,\"#7201a8\"],[0.3333333333333333,\"#9c179e\"],[0.4444444444444444,\"#bd3786\"],[0.5555555555555556,\"#d8576b\"],[0.6666666666666666,\"#ed7953\"],[0.7777777777777778,\"#fb9f3a\"],[0.8888888888888888,\"#fdca26\"],[1.0,\"#f0f921\"]]}],\"surface\":[{\"type\":\"surface\",\"colorbar\":{\"outlinewidth\":0,\"ticks\":\"\"},\"colorscale\":[[0.0,\"#0d0887\"],[0.1111111111111111,\"#46039f\"],[0.2222222222222222,\"#7201a8\"],[0.3333333333333333,\"#9c179e\"],[0.4444444444444444,\"#bd3786\"],[0.5555555555555556,\"#d8576b\"],[0.6666666666666666,\"#ed7953\"],[0.7777777777777778,\"#fb9f3a\"],[0.8888888888888888,\"#fdca26\"],[1.0,\"#f0f921\"]]}],\"mesh3d\":[{\"type\":\"mesh3d\",\"colorbar\":{\"outlinewidth\":0,\"ticks\":\"\"}}],\"scatter\":[{\"fillpattern\":{\"fillmode\":\"overlay\",\"size\":10,\"solidity\":0.2},\"type\":\"scatter\"}],\"parcoords\":[{\"type\":\"parcoords\",\"line\":{\"colorbar\":{\"outlinewidth\":0,\"ticks\":\"\"}}}],\"scatterpolargl\":[{\"type\":\"scatterpolargl\",\"marker\":{\"colorbar\":{\"outlinewidth\":0,\"ticks\":\"\"}}}],\"bar\":[{\"error_x\":{\"color\":\"#2a3f5f\"},\"error_y\":{\"color\":\"#2a3f5f\"},\"marker\":{\"line\":{\"color\":\"#E5ECF6\",\"width\":0.5},\"pattern\":{\"fillmode\":\"overlay\",\"size\":10,\"solidity\":0.2}},\"type\":\"bar\"}],\"scattergeo\":[{\"type\":\"scattergeo\",\"marker\":{\"colorbar\":{\"outlinewidth\":0,\"ticks\":\"\"}}}],\"scatterpolar\":[{\"type\":\"scatterpolar\",\"marker\":{\"colorbar\":{\"outlinewidth\":0,\"ticks\":\"\"}}}],\"histogram\":[{\"marker\":{\"pattern\":{\"fillmode\":\"overlay\",\"size\":10,\"solidity\":0.2}},\"type\":\"histogram\"}],\"scattergl\":[{\"type\":\"scattergl\",\"marker\":{\"colorbar\":{\"outlinewidth\":0,\"ticks\":\"\"}}}],\"scatter3d\":[{\"type\":\"scatter3d\",\"line\":{\"colorbar\":{\"outlinewidth\":0,\"ticks\":\"\"}},\"marker\":{\"colorbar\":{\"outlinewidth\":0,\"ticks\":\"\"}}}],\"scattermapbox\":[{\"type\":\"scattermapbox\",\"marker\":{\"colorbar\":{\"outlinewidth\":0,\"ticks\":\"\"}}}],\"scatterternary\":[{\"type\":\"scatterternary\",\"marker\":{\"colorbar\":{\"outlinewidth\":0,\"ticks\":\"\"}}}],\"scattercarpet\":[{\"type\":\"scattercarpet\",\"marker\":{\"colorbar\":{\"outlinewidth\":0,\"ticks\":\"\"}}}],\"carpet\":[{\"aaxis\":{\"endlinecolor\":\"#2a3f5f\",\"gridcolor\":\"white\",\"linecolor\":\"white\",\"minorgridcolor\":\"white\",\"startlinecolor\":\"#2a3f5f\"},\"baxis\":{\"endlinecolor\":\"#2a3f5f\",\"gridcolor\":\"white\",\"linecolor\":\"white\",\"minorgridcolor\":\"white\",\"startlinecolor\":\"#2a3f5f\"},\"type\":\"carpet\"}],\"table\":[{\"cells\":{\"fill\":{\"color\":\"#EBF0F8\"},\"line\":{\"color\":\"white\"}},\"header\":{\"fill\":{\"color\":\"#C8D4E3\"},\"line\":{\"color\":\"white\"}},\"type\":\"table\"}],\"barpolar\":[{\"marker\":{\"line\":{\"color\":\"#E5ECF6\",\"width\":0.5},\"pattern\":{\"fillmode\":\"overlay\",\"size\":10,\"solidity\":0.2}},\"type\":\"barpolar\"}],\"pie\":[{\"automargin\":true,\"type\":\"pie\"}]},\"layout\":{\"autotypenumbers\":\"strict\",\"colorway\":[\"#636efa\",\"#EF553B\",\"#00cc96\",\"#ab63fa\",\"#FFA15A\",\"#19d3f3\",\"#FF6692\",\"#B6E880\",\"#FF97FF\",\"#FECB52\"],\"font\":{\"color\":\"#2a3f5f\"},\"hovermode\":\"closest\",\"hoverlabel\":{\"align\":\"left\"},\"paper_bgcolor\":\"white\",\"plot_bgcolor\":\"#E5ECF6\",\"polar\":{\"bgcolor\":\"#E5ECF6\",\"angularaxis\":{\"gridcolor\":\"white\",\"linecolor\":\"white\",\"ticks\":\"\"},\"radialaxis\":{\"gridcolor\":\"white\",\"linecolor\":\"white\",\"ticks\":\"\"}},\"ternary\":{\"bgcolor\":\"#E5ECF6\",\"aaxis\":{\"gridcolor\":\"white\",\"linecolor\":\"white\",\"ticks\":\"\"},\"baxis\":{\"gridcolor\":\"white\",\"linecolor\":\"white\",\"ticks\":\"\"},\"caxis\":{\"gridcolor\":\"white\",\"linecolor\":\"white\",\"ticks\":\"\"}},\"coloraxis\":{\"colorbar\":{\"outlinewidth\":0,\"ticks\":\"\"}},\"colorscale\":{\"sequential\":[[0.0,\"#0d0887\"],[0.1111111111111111,\"#46039f\"],[0.2222222222222222,\"#7201a8\"],[0.3333333333333333,\"#9c179e\"],[0.4444444444444444,\"#bd3786\"],[0.5555555555555556,\"#d8576b\"],[0.6666666666666666,\"#ed7953\"],[0.7777777777777778,\"#fb9f3a\"],[0.8888888888888888,\"#fdca26\"],[1.0,\"#f0f921\"]],\"sequentialminus\":[[0.0,\"#0d0887\"],[0.1111111111111111,\"#46039f\"],[0.2222222222222222,\"#7201a8\"],[0.3333333333333333,\"#9c179e\"],[0.4444444444444444,\"#bd3786\"],[0.5555555555555556,\"#d8576b\"],[0.6666666666666666,\"#ed7953\"],[0.7777777777777778,\"#fb9f3a\"],[0.8888888888888888,\"#fdca26\"],[1.0,\"#f0f921\"]],\"diverging\":[[0,\"#8e0152\"],[0.1,\"#c51b7d\"],[0.2,\"#de77ae\"],[0.3,\"#f1b6da\"],[0.4,\"#fde0ef\"],[0.5,\"#f7f7f7\"],[0.6,\"#e6f5d0\"],[0.7,\"#b8e186\"],[0.8,\"#7fbc41\"],[0.9,\"#4d9221\"],[1,\"#276419\"]]},\"xaxis\":{\"gridcolor\":\"white\",\"linecolor\":\"white\",\"ticks\":\"\",\"title\":{\"standoff\":15},\"zerolinecolor\":\"white\",\"automargin\":true,\"zerolinewidth\":2},\"yaxis\":{\"gridcolor\":\"white\",\"linecolor\":\"white\",\"ticks\":\"\",\"title\":{\"standoff\":15},\"zerolinecolor\":\"white\",\"automargin\":true,\"zerolinewidth\":2},\"scene\":{\"xaxis\":{\"backgroundcolor\":\"#E5ECF6\",\"gridcolor\":\"white\",\"linecolor\":\"white\",\"showbackground\":true,\"ticks\":\"\",\"zerolinecolor\":\"white\",\"gridwidth\":2},\"yaxis\":{\"backgroundcolor\":\"#E5ECF6\",\"gridcolor\":\"white\",\"linecolor\":\"white\",\"showbackground\":true,\"ticks\":\"\",\"zerolinecolor\":\"white\",\"gridwidth\":2},\"zaxis\":{\"backgroundcolor\":\"#E5ECF6\",\"gridcolor\":\"white\",\"linecolor\":\"white\",\"showbackground\":true,\"ticks\":\"\",\"zerolinecolor\":\"white\",\"gridwidth\":2}},\"shapedefaults\":{\"line\":{\"color\":\"#2a3f5f\"}},\"annotationdefaults\":{\"arrowcolor\":\"#2a3f5f\",\"arrowhead\":0,\"arrowwidth\":1},\"geo\":{\"bgcolor\":\"white\",\"landcolor\":\"#E5ECF6\",\"subunitcolor\":\"white\",\"showland\":true,\"showlakes\":true,\"lakecolor\":\"white\"},\"title\":{\"x\":0.05},\"mapbox\":{\"style\":\"light\"}}},\"xaxis\":{\"anchor\":\"y\",\"domain\":[0.0,1.0],\"title\":{\"text\":\"attained_age\"}},\"yaxis\":{\"anchor\":\"x\",\"domain\":[0.0,1.0],\"title\":{\"text\":\"credibility_as\"},\"type\":\"-\"},\"legend\":{\"tracegroupgap\":0},\"title\":{\"text\":\"'credibility_as' by 'attained_age' and 'None'\"}},                        {\"responsive\": true}                    ).then(function(){\n",
       "                            \n",
       "var gd = document.getElementById('10469f10-5781-463b-8e2e-6cd9b9d6ffc2');\n",
       "var x = new MutationObserver(function (mutations, observer) {{\n",
       "        var display = window.getComputedStyle(gd).display;\n",
       "        if (!display || display === 'none') {{\n",
       "            console.log([gd, 'removed!']);\n",
       "            Plotly.purge(gd);\n",
       "            observer.disconnect();\n",
       "        }}\n",
       "}});\n",
       "\n",
       "// Listen for the removal of the full notebook cells\n",
       "var notebookContainer = gd.closest('#notebook-container');\n",
       "if (notebookContainer) {{\n",
       "    x.observe(notebookContainer, {childList: true});\n",
       "}}\n",
       "\n",
       "// Listen for the clearing of the current output cell\n",
       "var outputEl = gd.closest('.output');\n",
       "if (outputEl) {{\n",
       "    x.observe(outputEl, {childList: true});\n",
       "}}\n",
       "\n",
       "                        })                };                });            </script>        </div>"
      ]
     },
     "metadata": {},
     "output_type": "display_data"
    }
   ],
   "source": [
    "charters.chart(\n",
    "    df=credibility.asymptotic(\n",
    "        df=grouped_df, measure=\"policies_exposed\", groupby_cols=[\"attained_age\"], k=5000\n",
    "    ),\n",
    "    x_axis=\"attained_age\",\n",
    "    y_axis=\"credibility_as\",\n",
    "    type=\"line\",\n",
    ")"
   ]
  },
  {
   "cell_type": "code",
   "execution_count": 176,
   "id": "daf45b88-c4d9-4527-beef-f9b56665347b",
   "metadata": {},
   "outputs": [
    {
     "name": "stdout",
     "output_type": "stream",
     "text": [
      "\u001b[37m 2024-07-08 23:34:52 \u001b[0m|\u001b[37m morai.experience.credibility \u001b[0m|\u001b[32m INFO     \u001b[0m|\u001b[32m Credibility calculated using 'asymptotic' on 'policies_exposed'.\n",
      "Dataframe does not need to be seriatim.\n",
      "Created column 'credibility_as'.\n",
      "Constant k: 5000. \u001b[0m\n"
     ]
    },
    {
     "data": {
      "application/vnd.plotly.v1+json": {
       "config": {
        "plotlyServerURL": "https://plot.ly"
       },
       "data": [
        {
         "type": "heatmap",
         "x": [
          50,
          51,
          52,
          53,
          54,
          55,
          56,
          57,
          58,
          59,
          60,
          61,
          62,
          63,
          64,
          65,
          66,
          67,
          68,
          69,
          70,
          71,
          72,
          73,
          74,
          75,
          76,
          77,
          78,
          79,
          80,
          81,
          82,
          83,
          84,
          85,
          86,
          87,
          88,
          89,
          90,
          91,
          92,
          93,
          94,
          95
         ],
         "y": [
          1,
          2,
          3,
          4,
          5,
          6,
          7,
          8,
          9,
          10,
          11,
          12,
          13,
          14,
          15,
          16,
          17,
          18,
          19,
          20,
          21,
          22,
          23,
          24,
          25,
          26,
          27,
          28,
          29,
          30,
          31,
          32,
          33,
          34,
          35,
          36,
          37,
          38,
          39
         ],
         "z": [
          [
           0.879030918218202,
           0.8684882947616672,
           0.8709474206555916,
           0.8583935412654634,
           0.8605209299208834,
           0.8718666368521196,
           0.858693067455322,
           0.8395149365985661,
           0.8402687486993128,
           0.8199336495490527,
           0.8230487746246544,
           0.7986193787597881,
           0.7586946109177484,
           0.7704864309911925,
           0.7511388712947316,
           0.760548357158355,
           0.6879821727745868,
           0.6677183342840238,
           0.6181586978846862,
           0.5864234594659639,
           0.5776113587064998,
           0.4751014484684086,
           0.43157419493614085,
           0.32853230074809464,
           0.31264626214676877,
           0.3175301944532583,
           0.22891039877000505,
           0.19415494555134502,
           0.1791264358820609,
           0.15112239678571154,
           0.10026332135596092,
           null,
           null,
           null,
           null,
           null,
           null,
           null,
           null,
           null,
           null,
           null,
           null,
           null,
           null,
           null
          ],
          [
           0.8845498269044825,
           0.884891299914039,
           0.8608193472580243,
           0.8641559624380093,
           0.8474209449568902,
           0.8631407939802395,
           0.8637443917987523,
           0.8489439580528316,
           0.8421354934720816,
           0.8280650357104057,
           0.8157677436535579,
           0.7986798221786043,
           0.7642810686037416,
           0.7816992157613475,
           0.751508890239265,
           0.7504705933629007,
           0.7397381646102912,
           0.6581674741540965,
           0.5991229531943556,
           0.5829245252316502,
           0.5881935560333671,
           0.567587907532097,
           0.4096062865871377,
           0.3795025931773639,
           0.3684036749368152,
           0.30810469353207154,
           0.28375316039029524,
           0.21521401974637336,
           0.17567141493216942,
           0.15850783147048053,
           0.15969936748556965,
           0.12089847663905058,
           null,
           null,
           null,
           null,
           null,
           null,
           null,
           null,
           null,
           null,
           null,
           null,
           null,
           null
          ],
          [
           0.8796596878382441,
           0.8791037538320352,
           0.8765517308382463,
           0.8518423371729242,
           0.858871891704942,
           0.8446801875842682,
           0.8640496064608703,
           0.8656831966143805,
           0.8440217745638247,
           0.8260320624633118,
           0.8131756779377843,
           0.8247630543897043,
           0.8101061437674669,
           0.7734071937188464,
           0.7674924444830233,
           0.740031558649665,
           0.7155506813463052,
           0.7112936382654553,
           0.6864348236052427,
           0.6380999181750482,
           0.6054107748070761,
           0.6116909929611382,
           0.5673297241882749,
           0.45240042424300153,
           0.3614028500748454,
           0.3145704760801617,
           0.2750175649664086,
           0.3004293477012337,
           0.2447419155298861,
           0.17629541094585824,
           0.16782493775103727,
           0.13304081464271875,
           0.12247087396430095,
           null,
           null,
           null,
           null,
           null,
           null,
           null,
           null,
           null,
           null,
           null,
           null,
           null
          ],
          [
           0.8798889693494146,
           0.8760144659071777,
           0.8821232120780857,
           0.8658996930749254,
           0.85717790358003,
           0.8558027128132601,
           0.8421413772344767,
           0.8588599738534345,
           0.8624156533743458,
           0.8437358171228566,
           0.8105345371798643,
           0.8203433484307682,
           0.802768552937244,
           0.8004079714762202,
           0.7675444360644673,
           0.7604684631199851,
           0.7387635412160258,
           0.7110687797587206,
           0.7233287897094285,
           0.6413526467463282,
           0.6356638345294532,
           0.5845133768664155,
           0.5628674022545227,
           0.49864105318817664,
           0.430321001347542,
           0.37116013858558095,
           0.3104271301486034,
           0.3112592857614645,
           0.3029781613351217,
           0.2363398126093837,
           0.1849913537822465,
           0.16888347640653784,
           0.16194585698097094,
           0.15559068926149544,
           null,
           null,
           null,
           null,
           null,
           null,
           null,
           null,
           null,
           null,
           null,
           null
          ],
          [
           0.8743483571136731,
           0.875678060111669,
           0.8846272726141922,
           0.8875829966866148,
           0.8716545173675154,
           0.8511114275961692,
           0.8547825748831644,
           0.8411420869535146,
           0.8391556770782925,
           0.8542713168674785,
           0.8118258443528769,
           0.8085382280683316,
           0.8030645203149159,
           0.7993041739425164,
           0.7912714425626327,
           0.7716950600353578,
           0.7464285407818042,
           0.736450439501752,
           0.7179814029482425,
           0.6958056118053898,
           0.6503537139693815,
           0.604888400885116,
           0.5582902826330898,
           0.4878039920426791,
           0.5015088584595245,
           0.39021777105265504,
           0.36589403200164433,
           0.35115754441973224,
           0.305454389979924,
           0.26483717314058947,
           0.22457497229804113,
           0.1947525277308302,
           0.15774758810109668,
           0.14980353670385196,
           0.14153336595115762,
           null,
           null,
           null,
           null,
           null,
           null,
           null,
           null,
           null,
           null,
           null
          ],
          [
           0.8648401701017373,
           0.8732413944549409,
           0.8758521233154426,
           0.8624037302241273,
           0.8553373533051316,
           0.854198406642157,
           0.8418944778367312,
           0.8557495441999993,
           0.8235212560781046,
           0.8501064752636344,
           0.8434209299342269,
           0.8382043431959417,
           0.7926457949633807,
           0.7848421410010452,
           0.787526386740524,
           0.77350880534948,
           0.7580716952721162,
           0.7387812125268726,
           0.7020884233615077,
           0.6665813035085343,
           0.6690150010089762,
           0.6173135799108433,
           0.5753962475971239,
           0.5519601298127272,
           0.45829708688699156,
           0.5318184738404066,
           0.40930362771557954,
           0.3307722893238702,
           0.2961619847662312,
           0.2894055973888343,
           0.26760718952743884,
           0.22472447412237034,
           0.18291306574211993,
           0.17796559652061847,
           0.15238953749287534,
           0.1281095991285195,
           null,
           null,
           null,
           null,
           null,
           null,
           null,
           null,
           null,
           null
          ],
          [
           0.8786592853882874,
           0.8863466686246616,
           0.8957561735017684,
           0.8679963186644213,
           0.8686002806012113,
           0.8752058461221374,
           0.8692846825756357,
           0.8551858283026076,
           0.8439718211739775,
           0.8369559753476835,
           0.8283955838074744,
           0.8335698428765099,
           0.8135138616929385,
           0.7867300920903492,
           0.7880276488341459,
           0.800230498101023,
           0.7845473181388969,
           0.7204258698649513,
           0.7172876622484953,
           0.6801088837012089,
           0.6490216025882166,
           0.669695123285191,
           0.5970587773727142,
           0.5374723446428616,
           0.5109621853373019,
           0.4785906125719856,
           0.480040826660316,
           0.3648115965338004,
           0.32909162031964284,
           0.2776222610735101,
           0.28801811920155634,
           0.2953006531857282,
           0.1942950765582207,
           0.194323405301496,
           0.1793056634764856,
           0.15487239375989859,
           0.1300470251564498,
           null,
           null,
           null,
           null,
           null,
           null,
           null,
           null,
           null
          ],
          [
           0.8789300334412904,
           0.8863492935333763,
           0.865309271351931,
           0.8695999169034725,
           0.867901322960218,
           0.865852780879306,
           0.8706509526062983,
           0.8645131053974654,
           0.8508550127623583,
           0.839855564633036,
           0.8429824868737102,
           0.8356791052791035,
           0.8016062927043708,
           0.816414953981285,
           0.7930342242555658,
           0.775687434766734,
           0.7618298689446213,
           0.7854520907088709,
           0.7158312329440233,
           0.7073346149894333,
           0.6466344541817957,
           0.641597641590468,
           0.6669736358407103,
           0.5626678913294038,
           0.49102410791100054,
           0.5198073313513473,
           0.44200575376759565,
           0.4541146696984498,
           0.369731923227979,
           0.3360159335124941,
           0.2857508791546229,
           0.2908204615948284,
           0.2521847592033571,
           0.2036362174228957,
           0.19795668364301042,
           0.16378700198222973,
           0.12748867519577814,
           0.1349300268496145,
           null,
           null,
           null,
           null,
           null,
           null,
           null,
           null
          ],
          [
           0.8914690245528388,
           0.8764725077277843,
           0.8880439039724478,
           0.8771600026299501,
           0.8722142649732365,
           0.8864006240712381,
           0.8610069870994509,
           0.8777078721148872,
           0.8581877581660523,
           0.8466289989369928,
           0.8314714885650663,
           0.8376335151986719,
           0.8288999180276485,
           0.826554864112075,
           0.8294969564088133,
           0.784625545363613,
           0.7711032368526874,
           0.7763790975501538,
           0.7677201237343144,
           0.7170291089900915,
           0.6937647061399653,
           0.6745418019165141,
           0.6167234380282218,
           0.632435346333378,
           0.5362774733148291,
           0.47873742866011515,
           0.4692300446276988,
           0.4427012463340676,
           0.4676209278147813,
           0.3341650158572954,
           0.3519296597614676,
           0.2564606363419819,
           0.24844562421018426,
           0.265660143511234,
           0.18387057808045432,
           0.1772117770327543,
           0.1227811626604567,
           0.12363108733486032,
           0.11436152137980596,
           null,
           null,
           null,
           null,
           null,
           null,
           null
          ],
          [
           0.8899876407932754,
           0.9000778826913605,
           0.8792284515880745,
           0.8846423734079951,
           0.8738050016453321,
           0.8704933835800492,
           0.8619699129118015,
           0.8375478302049781,
           0.8617225798626427,
           0.8263145084894408,
           0.8398806498937449,
           0.8380095349954481,
           0.8274544378548135,
           0.8088183693133267,
           0.8211050716655037,
           0.7898829439482457,
           0.7787315171073699,
           0.7645071135833722,
           0.7297605043267174,
           0.7377439404220922,
           0.7019016670771601,
           0.6770254705185111,
           0.5947791775646026,
           0.6012931993458102,
           0.5875866317953607,
           0.521604479493353,
           0.4474450314972559,
           0.41832625595062506,
           0.451477947251524,
           0.46100165426795603,
           0.28399472231022266,
           0.3074907382655668,
           0.2611963325598204,
           0.24471823285315625,
           0.2133243370266159,
           0.18647567497721643,
           0.15200265706299593,
           0.14073795857442764,
           0.12847376729820714,
           0.11035223229777871,
           null,
           null,
           null,
           null,
           null,
           null
          ],
          [
           0.8977265783819696,
           0.859637780553484,
           0.8658215001322698,
           0.8637655990724524,
           0.8637538067662502,
           0.8634174648576468,
           0.8593834645942394,
           0.8295896468698974,
           0.8306289049953738,
           0.8282506406947159,
           0.831713707694452,
           0.8135718350747424,
           0.7765225529557364,
           0.7789457249263895,
           0.7802187784290298,
           0.7714015549566932,
           0.7439697019444905,
           0.7170776416447995,
           0.7019560646784264,
           0.6624302585087474,
           0.6773352774883228,
           0.6013147884801172,
           0.5853768855852634,
           0.5472274166078898,
           0.4933328325125491,
           0.5190588444105798,
           0.43348848552624414,
           0.36703350844253047,
           0.3543641191422044,
           0.31295260993640694,
           0.3236253777974585,
           0.29801854839458497,
           0.2617067367608542,
           0.2325474959742064,
           0.21504331969389356,
           0.20248258844661726,
           0.16933109369375082,
           0.137299511555521,
           0.12169391641860235,
           0.11205000656715655,
           0.11044507832706664,
           null,
           null,
           null,
           null,
           null
          ],
          [
           0.8953097707671881,
           0.8708333264248485,
           0.8867652477373532,
           0.8589330694879667,
           0.8557661722940807,
           0.8594684579130715,
           0.8639583926707884,
           0.8602491041588749,
           0.8208589388970763,
           0.835954906634604,
           0.8460943859766709,
           0.8184988217234731,
           0.8102771624481526,
           0.8138555756886621,
           0.7661513246571656,
           0.7726944893645364,
           0.7528099591210881,
           0.7350225740235685,
           0.6947129777315052,
           0.6509764652745422,
           0.6837382562056024,
           0.6387462068891939,
           0.5463804989015895,
           0.5860946499727022,
           0.47864484676396213,
           0.4965900059155785,
           0.49163396165384143,
           0.39206120824773,
           0.35890976267267366,
           0.34027135962488214,
           0.3269952685510585,
           0.3124435316639388,
           0.24224903508772463,
           0.22624107370294982,
           0.1828972111215868,
           0.21043991550433225,
           0.20255905382878367,
           0.15097277811977033,
           0.14196190604196923,
           0.10818600967792723,
           0.09952229947669619,
           0.08927969093553742,
           null,
           null,
           null,
           null
          ],
          [
           0.8839832964734344,
           0.8756782460910312,
           0.8730005242023001,
           0.8759762892986125,
           0.882082761660966,
           0.8660443235574016,
           0.8525770183193456,
           0.8737956240094418,
           0.8508946722053846,
           0.8413338308931906,
           0.8356871268068224,
           0.8380994036795041,
           0.838659949657542,
           0.7857900424343139,
           0.7929799124562237,
           0.7655500169927943,
           0.7580467309766792,
           0.7799161940186861,
           0.7463648017099672,
           0.7089879642634304,
           0.671119166593312,
           0.6530877900129007,
           0.6035610139668062,
           0.5492431582814963,
           0.5565561896831497,
           0.4772706603223004,
           0.47431602626365765,
           0.49358468482146334,
           0.37266588131439526,
           0.3355198083975656,
           0.34310010858494683,
           0.31810600068969275,
           0.2967451142103145,
           0.2491654952247367,
           0.21312465727931582,
           0.20780402137189857,
           0.1830900847650684,
           0.18806641583491845,
           0.11720213689363866,
           0.12146483847835744,
           0.10727769244242288,
           0.0927677445281507,
           0.07787243530684208,
           null,
           null,
           null
          ],
          [
           0.8962016631493397,
           0.8860515088679335,
           0.8814301041325809,
           0.871608630684757,
           0.8854585877416918,
           0.8833829378050703,
           0.8576859590114356,
           0.8820047015742722,
           0.8511377858844116,
           0.820846694195641,
           0.8480795766051966,
           0.8352946309164357,
           0.8288172632592645,
           0.8251747672453003,
           0.7897149050694393,
           0.7750256224350719,
           0.7692377486338241,
           0.7482032219613952,
           0.7408909286051572,
           0.7099704136362736,
           0.6822283943783012,
           0.6715409214162108,
           0.6497778474107111,
           0.6430000839053839,
           0.5341220843692,
           0.5520675265683996,
           0.4907020362148387,
           0.46155726044562945,
           0.4619183823373182,
           0.34668726518301646,
           0.31079352478702943,
           0.3190390854399888,
           0.27005821499119365,
           0.2762558671156305,
           0.2292704086525299,
           0.21449043105290178,
           0.16036761726986687,
           0.1598171495590666,
           0.17317918996791778,
           0.11493811273737828,
           0.10698795069237277,
           0.0916353679181053,
           0.0829489999784034,
           0.055653382435998926,
           null,
           null
          ],
          [
           0.876806077743648,
           0.8822019031133169,
           0.8716666939007937,
           0.8798263127877228,
           0.8812544736492929,
           0.880939138266926,
           0.854596048591039,
           0.8468007027483956,
           0.8567937162331963,
           0.8343474202146136,
           0.8406793284593432,
           0.8113585646457635,
           0.8285649386723791,
           0.8068473794874922,
           0.8129890888169474,
           0.7865141886293623,
           0.7808118583190454,
           0.7588314232279226,
           0.756131965475017,
           0.7363128476726781,
           0.6901959582312118,
           0.6600930187606356,
           0.6706171309360275,
           0.6323301220065315,
           0.6150947065072748,
           0.5261004509404099,
           0.5100941970165479,
           0.5020286728533074,
           0.46387920241521335,
           0.4530366068655538,
           0.3561871889856485,
           0.3270883504726722,
           0.2989166331748556,
           0.2895465184513922,
           0.28564121340365933,
           0.18710813975856827,
           0.17714107930927905,
           0.16354129909954385,
           0.16053541646780223,
           0.12388691972304135,
           0.08922464903838653,
           0.0810342678629273,
           0.058494058442259085,
           0.06112738144378079,
           0.04304127488559875,
           null
          ],
          [
           0.8793922273738858,
           0.8783615963887649,
           0.881929688676302,
           0.8837985985074145,
           0.8616423816586511,
           0.8711325340671722,
           0.8378915795073966,
           0.8475664372708123,
           0.8425461126715851,
           0.8264709205899894,
           0.831779644626584,
           0.7963582090107649,
           0.7942756165169457,
           0.7787873481972502,
           0.7915018283589189,
           0.7627284933228388,
           0.7323275101838671,
           0.704538281107885,
           0.7086912249016385,
           0.6966146605654748,
           0.6788358294389139,
           0.627646681899505,
           0.5995962615116549,
           0.5532653615139884,
           0.524696462982768,
           0.5608653211573255,
           0.4591979972344507,
           0.42993337465196707,
           0.4168788745657246,
           0.33729716119503933,
           0.35313553807699904,
           0.29931244099555604,
           0.26599263986933785,
           0.2584909929480393,
           0.2121260669164886,
           0.2482714509178519,
           0.15849558328614213,
           0.1501429646376442,
           0.15611648218476273,
           0.14560144195381722,
           0.10856794253130388,
           0.06801462030460191,
           0.06553096486712892,
           0.04557868270689511,
           0.03172711741999147,
           0.023484957100730237
          ],
          [
           0.8752839857348444,
           0.8793463545244263,
           0.8599638305427071,
           0.8796586248186121,
           0.8466357054909747,
           0.8605162500329757,
           0.8440736498836353,
           0.8333331026351146,
           0.8322567559746069,
           0.8071693686774746,
           0.7909342137430632,
           0.7957860954212652,
           0.8010690412279964,
           0.7950643943800965,
           0.7655296533692764,
           0.7691943051480221,
           0.7502095470912279,
           0.7193529030770469,
           0.6835220658300972,
           0.6747794890805867,
           0.6667439377564169,
           0.6436496951641096,
           0.6017114577184848,
           0.5835987536272994,
           0.5381407012998712,
           0.5051372967416504,
           0.5242712355096774,
           0.4056879925025492,
           0.38615211574269426,
           0.3853958090410565,
           0.36795248960368604,
           0.32598773785426444,
           0.22857725234588766,
           0.2718911598885069,
           0.2321757363571059,
           0.24872133554257636,
           0.2141140600626697,
           0.17500457462892915,
           0.14770728611855047,
           0.0985372354283498,
           0.11056189411459075,
           0.08848579680514994,
           0.053728564497156066,
           0.04289045571126273,
           0.041674208380052445,
           0.0277056198294333
          ],
          [
           0.8512824684866065,
           0.8332744692292633,
           0.8674418840010322,
           0.8508062486360106,
           0.8497384277971372,
           0.8406733422939378,
           0.862000234213605,
           0.8266999469848928,
           0.8367706511406141,
           0.812806553508447,
           0.796939567111231,
           0.8095978626987319,
           0.7950025388150134,
           0.800630157808774,
           0.7745890070141523,
           0.7220400269562665,
           0.7520046308855085,
           0.7374893407873729,
           0.7163116779015324,
           0.6816854004509523,
           0.6486792344759326,
           0.6175827096519722,
           0.6338066175430992,
           0.5730431909085422,
           0.5045019317635769,
           0.5212554926774685,
           0.5431476256095745,
           0.5281957703201777,
           0.4088692971001957,
           0.42518205402053566,
           0.40612507380701396,
           0.36020654759163406,
           0.33247244789949504,
           0.29767359284482836,
           0.23512426905295625,
           0.17756956070811747,
           0.21349384838714758,
           0.21803581967356828,
           0.1899131238601904,
           0.15103146607051973,
           0.10465218236666679,
           0.1065921568705767,
           0.08577065641290105,
           0.04297189794997946,
           0.03223328110727101,
           0.031533234501639244
          ],
          [
           0.8031211170402164,
           0.8457698533817118,
           0.8630069082118799,
           0.8419707954217708,
           0.8285278424572651,
           0.8181498842057404,
           0.8426935046291998,
           0.8367060859014891,
           0.8247235492780692,
           0.8019848304696628,
           0.8001798842634245,
           0.8140776187434874,
           0.7814064900981792,
           0.7771417980627023,
           0.7571431757434712,
           0.7327570929406743,
           0.7481973807313557,
           0.7134461491715449,
           0.7340973058688615,
           0.6653392529416745,
           0.5862621516778478,
           0.6313923749394491,
           0.6142248643079353,
           0.609725031658056,
           0.6162962907144384,
           0.49870832578629676,
           0.5206579339118197,
           0.47820710669598276,
           0.44849795454918356,
           0.3766787629579537,
           0.4663437077022682,
           0.39325438362940135,
           0.31873189258970464,
           0.3517145376598542,
           0.29526678216819535,
           0.2659529542710887,
           0.2532929276800699,
           0.2527320860920705,
           0.20410506297439365,
           0.11986962043337845,
           0.1133288158124701,
           0.09654181102371087,
           0.08323926524244821,
           0.05814050043469292,
           0.03695463079362268,
           0.024915926228363566
          ],
          [
           0.8258621515896557,
           0.8313726368001306,
           0.8219557321310939,
           0.8524346311056734,
           0.8242969167130607,
           0.8424237482929817,
           0.8192215066564069,
           0.8386797215928994,
           0.8248801160380553,
           0.8236699230266189,
           0.8209291963031528,
           0.8036727355082907,
           0.7887787882187831,
           0.7786600080279807,
           0.7661353325942792,
           0.7229070491639882,
           0.7456093470245815,
           0.699892971618486,
           0.716697565021277,
           0.7024455661220673,
           0.66124117677741,
           0.6433825546678756,
           0.5946801457698108,
           0.5162268762289528,
           0.6006943455049016,
           0.596010682483921,
           0.5296144695303052,
           0.47632601226998644,
           0.495403072343946,
           0.5112750837975709,
           0.41419291134675573,
           0.42515001889425635,
           0.39475666407978494,
           0.36781683469399373,
           0.3831276374374923,
           0.31946187961177425,
           0.23149722334301898,
           0.21358543208232722,
           0.2021851065080675,
           0.1462302637969947,
           0.1492102055328181,
           0.11209242408985907,
           0.11348293839505656,
           0.060426421584182474,
           0.06080933142522967,
           0.030611673225436665
          ],
          [
           0.7623278123098255,
           0.7725347432573216,
           0.775411161395303,
           0.782383273531153,
           0.8143613792936938,
           0.7928686186830995,
           0.7781615069197542,
           0.7661455077330724,
           0.7721975116166986,
           0.7521576356776782,
           0.7625517529389463,
           0.7165665097339426,
           0.7320051466016886,
           0.713985307839079,
           0.6972682827727907,
           0.7378442955108079,
           0.6760135648749558,
           0.6853122022790256,
           0.638364769986522,
           0.622357201115841,
           0.6197901908621324,
           0.6297429619008602,
           0.5394076619917602,
           0.533371338204177,
           0.5723289214331782,
           0.5648722860928812,
           0.46527186950392585,
           0.468398519606078,
           0.4731230852318641,
           0.5329165857064825,
           0.47744328973552386,
           0.41688784332451795,
           0.39779781440910694,
           0.3875129525255439,
           0.3892407698461973,
           0.3647659312030852,
           0.2680731913064542,
           0.18275782329982768,
           0.17796547944097943,
           0.21342029531201026,
           0.13454951349550798,
           0.12902606907159622,
           0.11456412535389117,
           0.074730103926218,
           0.05151771726023471,
           0.0360544602354677
          ],
          [
           null,
           0.7680967986769852,
           0.812409496292971,
           0.8133965286607594,
           0.784635273473926,
           0.7937176060135487,
           0.7514663888958066,
           0.791699183925119,
           0.8055612277983557,
           0.7707882225674513,
           0.7521747289775981,
           0.7546738395072801,
           0.7149288277486728,
           0.7526917224770131,
           0.711333210083355,
           0.6981940742943255,
           0.7179769254083777,
           0.7013148414044349,
           0.6645510354768128,
           0.5925267260569388,
           0.6295400177180173,
           0.6325143850722178,
           0.5835801418570705,
           0.5918054393106339,
           0.5140078433738094,
           0.5615608824845405,
           0.5370501499680658,
           0.4332869801827842,
           0.4797711539845328,
           0.4708818198299607,
           0.48582641006286403,
           0.5445414996590491,
           0.4128526695807799,
           0.4367265210364663,
           0.38062101475998356,
           0.39219722248256417,
           0.382288906600583,
           0.27022049324106245,
           0.25892957998659,
           0.19633559358099162,
           0.1938161149993782,
           0.1436944401368989,
           0.07579376702745841,
           0.0742698485349685,
           0.060646432384607804,
           0.03294802048667096
          ],
          [
           null,
           null,
           0.8000837622368667,
           0.7734597006301437,
           0.7946424062588667,
           0.7976211470574622,
           0.8091527222150321,
           0.7932871327158347,
           0.774352315048522,
           0.7902624611179461,
           0.7643731230796406,
           0.739054977758199,
           0.751139744026629,
           0.7752596546604635,
           0.7259981166670522,
           0.7243796768106847,
           0.7645387113785381,
           0.6503772955330178,
           0.6800511692804985,
           0.6351336490511977,
           0.6546746909631879,
           0.623038741700292,
           0.6369855678780036,
           0.5626931295420159,
           0.5382002224454558,
           0.5659871925311145,
           0.541706206617109,
           0.5250201725981047,
           0.49970193710735467,
           0.46924261259224764,
           0.48225624430282654,
           0.5047437969545666,
           0.43833012164292684,
           0.4240668153739414,
           0.41772009333732507,
           0.4348249038297285,
           0.3803111523209443,
           0.459367501317297,
           0.21208372809314432,
           0.2375513326466067,
           0.17592355473450097,
           0.13461459337790416,
           0.13039729440898126,
           0.08384504845096825,
           0.04506247024236793,
           0.041163172878236697
          ],
          [
           null,
           null,
           null,
           0.7894871377182126,
           0.8121842781802844,
           0.755751139404522,
           0.8087385988183821,
           0.7972278811908938,
           0.8299116078467764,
           0.7641129280808735,
           0.7868641636878919,
           0.793872461280886,
           0.7897571867520287,
           0.7842233473816977,
           0.7504035186804108,
           0.7227904973631941,
           0.7034688391245032,
           0.7599181841244272,
           0.7130058588535104,
           0.6794308947334905,
           0.7058128385027138,
           0.6605127907692112,
           0.6796632301569202,
           0.647382433012876,
           0.6045457685195175,
           0.5453005704056282,
           0.5871169811296714,
           0.5648721674561586,
           0.5252648557807332,
           0.5200631515499128,
           0.4899271220411016,
           0.4321485610211967,
           0.5037449346770688,
           0.4322424886931433,
           0.3504737300226437,
           0.4375236855446123,
           0.36082132544690826,
           0.3863704330606886,
           0.42287981320105567,
           0.23075822494376372,
           0.20804300021964384,
           0.21861924329545562,
           0.14997708048606057,
           0.11186937039146508,
           0.07065881806081432,
           0.042236818864871954
          ],
          [
           null,
           null,
           null,
           null,
           0.7692450890386573,
           0.8015423646881538,
           0.8041958509299785,
           0.8045871975704665,
           0.8057919663284863,
           0.8220364645912923,
           0.7695107468438679,
           0.788998810762433,
           0.7739682396950032,
           0.7824115582325505,
           0.7555286864555542,
           0.7706512448596636,
           0.6950640916072068,
           0.7220995045386137,
           0.7082234086454312,
           0.7117064408723993,
           0.692975016379338,
           0.6317888547608234,
           0.6302466489288429,
           0.6478239852755355,
           0.62197417100041,
           0.6170965578619929,
           0.5417645221916977,
           0.6229271961336122,
           0.5401092464817513,
           0.49215198937593185,
           0.5675752452019059,
           0.446582719527142,
           0.48109015817785994,
           0.4905634999023995,
           0.43886012741719593,
           0.4537114025716994,
           0.4408188304673063,
           0.3123621766433492,
           0.3389051081667248,
           0.3852008305648196,
           0.18781023376809172,
           0.18246639028269315,
           0.14346602399860117,
           0.11012954942557711,
           0.0627746146549709,
           0.05914457615359034
          ],
          [
           null,
           null,
           null,
           null,
           null,
           0.7826992341611556,
           0.8420476055297413,
           0.8150112537549049,
           0.8080530611174526,
           0.784028881926473,
           0.7951125631584207,
           0.7544627710469263,
           0.7997095881581785,
           0.781610384386769,
           0.7802265539970236,
           0.778603475540535,
           0.7179000777846924,
           0.7296885645122521,
           0.7283194985879842,
           0.6595530240774985,
           0.6815531954470803,
           0.7127061974798781,
           0.6781830773385602,
           0.6046764329377732,
           0.6924348410531574,
           0.664237618353708,
           0.6184282370538271,
           0.5438237689416325,
           0.5915722576944564,
           0.5977011978548029,
           0.5601561005474881,
           0.5272500177592748,
           0.5482629838988872,
           0.4350842948338049,
           0.4711106844429123,
           0.39206532439335623,
           0.46020876368289093,
           0.41230414304159935,
           0.43745104825077324,
           0.3605922938964671,
           0.300295988073897,
           0.1570123794094924,
           0.12142286186758373,
           0.14247265792106042,
           0.08818884433602758,
           0.05715934772901268
          ],
          [
           null,
           null,
           null,
           null,
           null,
           null,
           0.8310444452028548,
           0.8117476341070462,
           0.7937623824947214,
           0.8214411701825344,
           0.8245440710892981,
           0.7750457047902958,
           0.8028029132984721,
           0.7628952657066322,
           0.7565747478009458,
           0.8102927326020918,
           0.7967393361100547,
           0.7387799818058572,
           0.7430410287530254,
           0.7494360385248764,
           0.6845806291286365,
           0.7231431751103515,
           0.6806375800731862,
           0.6847071639069798,
           0.6703953847807331,
           0.6948195965645427,
           0.6436340566827887,
           0.5525647904070556,
           0.5415493736140482,
           0.5168623237935812,
           0.5609212157796123,
           0.5700050257218597,
           0.5641816713830649,
           0.54782325998842,
           0.45520768143633245,
           0.43469687732527995,
           0.42249518601722275,
           0.35220925024438976,
           0.40829158642590613,
           0.29034303437552134,
           0.26000795403723415,
           0.24735591161796064,
           0.1654103702253204,
           0.15255345135832568,
           0.0869507787934721,
           0.05763419661108125
          ],
          [
           null,
           null,
           null,
           null,
           null,
           null,
           null,
           0.838131356515463,
           0.8074694925837832,
           0.7733068771646086,
           0.8008997986276568,
           0.7881937957964819,
           0.794807331344456,
           0.7800979595171685,
           0.8095729932478156,
           0.7380237977806673,
           0.7898822159488851,
           0.8114767610397824,
           0.7457470901835981,
           0.7481384335309382,
           0.6824672508235293,
           0.7348090530276249,
           0.7223418663754567,
           0.6669047154056652,
           0.6346680032203733,
           0.6448530976448817,
           0.6024465404522922,
           0.6840486633223156,
           0.5792898949813625,
           0.5896082836421663,
           0.5227589062386494,
           0.473846741450018,
           0.592162692324127,
           0.4923006222537474,
           0.48504584776351684,
           0.4643249578259457,
           0.454721734936902,
           0.48407205248913865,
           0.4177651233550924,
           0.3829462805024831,
           0.25889723346238686,
           0.25516194791031205,
           0.19648786029800597,
           0.11264731393991956,
           0.1086248404849392,
           0.06975000568674994
          ],
          [
           null,
           null,
           null,
           null,
           null,
           null,
           null,
           null,
           0.7879445207311941,
           0.8089015597962682,
           0.7713927508095202,
           0.8197442867787403,
           0.7773431418550281,
           0.7788368663722791,
           0.7989390936359955,
           0.7389352743424011,
           0.7678376546498602,
           0.7521200246533998,
           0.7682849112501263,
           0.7527414721808258,
           0.6949183354549084,
           0.6791284758768934,
           0.6907706452138067,
           0.7228990512136335,
           0.6290456548828248,
           0.6455378958439743,
           0.6079591203165751,
           0.6264528950988513,
           0.540546730661871,
           0.5237217928060365,
           0.6114146233993348,
           0.4618080924918449,
           0.48644695097836554,
           0.48431404649910925,
           0.41348668691507234,
           0.3879003469775416,
           0.4392007829932527,
           0.4092423092739694,
           0.3698964018471211,
           0.23729352779248067,
           0.2572885508526396,
           0.18466541384513369,
           0.19421601714757059,
           0.17535036304000148,
           0.09237355191790303,
           0.07090973774349332
          ],
          [
           null,
           null,
           null,
           null,
           null,
           null,
           null,
           null,
           null,
           0.7876529980598952,
           0.7790361015573785,
           0.8142485759091437,
           0.763018388124786,
           0.7892885822577191,
           0.7837231309464413,
           0.7628751644912101,
           0.7843516390906936,
           0.6962278063350223,
           0.7597320766603176,
           0.7802970044330816,
           0.6872370394892842,
           0.7061699363115507,
           0.6301968873357633,
           0.6437253915218778,
           0.6547706946193124,
           0.610352539555626,
           0.601793188068273,
           0.6306779736119916,
           0.5204927079422724,
           0.6463194798390267,
           0.5537091421184909,
           0.5308604304873404,
           0.49274695841229316,
           0.5278314821768363,
           0.5097194570254747,
           0.31502347728045677,
           0.3498619452282226,
           0.38061220959607,
           0.29719682414414283,
           0.33109348301324665,
           0.3071652085577186,
           0.27850756805502996,
           0.17844933567935992,
           0.15376666792250887,
           0.11548409085336683,
           0.0651378265696498
          ],
          [
           null,
           null,
           null,
           null,
           null,
           null,
           null,
           null,
           null,
           null,
           0.7762786268394671,
           0.8031794110377403,
           0.7381745569089679,
           0.7378505808081081,
           0.7727426221993379,
           0.6942449877806012,
           0.6833387532304244,
           0.7297249836363908,
           0.7383425280661211,
           0.7403624306648993,
           0.7147308580775997,
           0.6344016045176666,
           0.6733134454128824,
           0.6350074430643603,
           0.6406162239482585,
           0.6455410751756405,
           0.5597108364281838,
           0.5513825191686373,
           0.5432193437501251,
           0.5324185017977888,
           0.5092950253581894,
           0.47735934579727074,
           0.48619767944768433,
           0.41517692372006065,
           0.3626547600489065,
           0.37579383458269977,
           0.3928274634574156,
           0.33511077310865883,
           0.3583423214940644,
           0.3112972276873081,
           0.29165095991636336,
           0.2435503838620226,
           0.1663091678570378,
           0.12004836866605802,
           0.1385848871932311,
           0.08652848285992144
          ],
          [
           null,
           null,
           null,
           null,
           null,
           null,
           null,
           null,
           null,
           null,
           null,
           0.7084877452690277,
           0.7448437259625091,
           0.7443316051957586,
           0.756684316052017,
           0.6984932776702311,
           0.6584999788461127,
           0.7387947699918695,
           0.6860332991376296,
           0.65954193876319,
           0.685065851548279,
           0.5725920214879007,
           0.6247272291162466,
           0.6353731952109181,
           0.5433187025852657,
           0.6153297621156714,
           0.5483560717530667,
           0.5053465737331556,
           0.5398522971016931,
           0.521504156774089,
           0.35873148641732433,
           0.46813997620801984,
           0.5071943591036128,
           0.3997340835196625,
           0.3581440772015634,
           0.35883580067862597,
           0.32123581096057474,
           0.3397071676025943,
           0.267718865291629,
           0.2110506549265304,
           0.21219592386069347,
           0.20426604976565466,
           0.1759470038804159,
           0.14583853420085532,
           0.10508929503304246,
           0.0753047188457748
          ],
          [
           null,
           null,
           null,
           null,
           null,
           null,
           null,
           null,
           null,
           null,
           null,
           null,
           0.7329796185570174,
           0.6958188746967912,
           0.6381521629118309,
           0.7144727594092215,
           0.7174339271373483,
           0.6106621493487785,
           0.6315367320055421,
           0.6601482071236514,
           0.5753216825197945,
           0.5544716998813942,
           0.5360680167536718,
           0.42755865548956445,
           0.5437412927517027,
           0.5475527316592053,
           0.5415582547123344,
           0.4632245316106289,
           0.35542569322891726,
           0.3541716571107289,
           0.43142869258630373,
           0.4549536250727676,
           0.37369134406061766,
           0.2964628388685395,
           0.22663019724793904,
           0.3249465100837653,
           0.31719061567658685,
           0.31886872129613886,
           0.21935281100021808,
           0.1950475078776112,
           0.1484007632396063,
           0.20687060003174804,
           0.10778908732502712,
           0.08060068400225356,
           0.07822867276679675,
           0.04628544806471161
          ],
          [
           null,
           null,
           null,
           null,
           null,
           null,
           null,
           null,
           null,
           null,
           null,
           null,
           null,
           0.6797763998589432,
           0.6719810000276292,
           0.635926533556341,
           0.49726247058154827,
           0.5542051452783345,
           0.5894432405907267,
           0.5722791518846724,
           0.4981858209467573,
           0.627248870165981,
           0.511829909908127,
           0.38323509945537754,
           0.463487015020196,
           0.42263279215910154,
           0.3588734018866863,
           0.28738670125265253,
           0.4265878279720912,
           0.3607071326676763,
           0.28799301185118364,
           0.3068143361602208,
           0.37313613337570434,
           0.3219049788202214,
           0.22932627342342637,
           0.18500392287537293,
           0.2771194257192669,
           0.2050703933028253,
           0.14872411394852258,
           0.14791235340119047,
           0.11691038541711123,
           0.15444398634947057,
           0.11907467546363552,
           0.09792132151754118,
           0.03743225877050021,
           0.042168836163493865
          ],
          [
           null,
           null,
           null,
           null,
           null,
           null,
           null,
           null,
           null,
           null,
           null,
           null,
           null,
           null,
           0.36610992471348897,
           0.5436291285772239,
           0.4526922323668011,
           0.5477825670549564,
           0.32505879006711086,
           0.37679884474630454,
           0.33142805945291703,
           0.4913703009987488,
           0.33887181394576465,
           0.3118655834886214,
           0.32312702203587274,
           0.4570391787931902,
           0.36608759001128505,
           0.33783520346203705,
           0.2619688135934141,
           0.35852632337507107,
           0.35981297936073664,
           0.18524659734539245,
           0.1845401983719241,
           0.2712244874843494,
           0.2910078463690341,
           0.14160519990926432,
           0.2594306852949239,
           0.1413063674189903,
           0.11922850272147233,
           0.05204092645516061,
           0.10796464442303873,
           0.05014114634369469,
           0.0794090462137661,
           0.036249860674557634,
           0.04889078309413088,
           0.03678276513618423
          ],
          [
           null,
           null,
           null,
           null,
           null,
           null,
           null,
           null,
           null,
           null,
           null,
           null,
           null,
           null,
           null,
           0.2821612790184409,
           0.34929410426756236,
           0.445537277886812,
           0.3644835324978549,
           0.40655919388015127,
           0.37890160353466995,
           0.33968568227690565,
           0.3171496018508725,
           0.23089267460790502,
           0.3459930344856728,
           0.3938663755982509,
           0.11064298198800578,
           0.13972254601334638,
           0.2749435698965309,
           0.17747426253634865,
           0.21659662667540558,
           0.1245501458468461,
           0.05538133915311984,
           0.1352984792688934,
           0.17070157104224482,
           0.07163384108128139,
           0.08128761173111299,
           0.09138915854031797,
           0.08592739417423809,
           0.05308077217518559,
           0.06232167372155495,
           0.02544173478233114,
           0.061398487946229284,
           0.016130675131928257,
           0.01044473094100327,
           0.015080847282924604
          ],
          [
           null,
           null,
           null,
           null,
           null,
           null,
           null,
           null,
           null,
           null,
           null,
           null,
           null,
           null,
           null,
           null,
           0.18733941826293996,
           0.2696798275007174,
           0.16257782913424199,
           0.28972435521589,
           0.23952344504848688,
           0.16537165776280296,
           0.2348900197082274,
           0.19854059530794385,
           0.09206238632202293,
           0.08950309279719176,
           0.16258589757337844,
           0.14714285901929636,
           0.15445412743814366,
           0.11411379298703116,
           0.09327492986052664,
           0.09339159406379557,
           0.07311803570064215,
           0.037720308778524586,
           0.03514045033252388,
           0.08913363949689226,
           0.05689141088453565,
           0.028338442333934916,
           0.03316995255596665,
           0.012394048836872444,
           0.015521848782039107,
           0.024261927801074265,
           0.021204728003427417,
           0.014512318812544403,
           0.006995107795728414,
           0.004961018904793632
          ],
          [
           null,
           null,
           null,
           null,
           null,
           null,
           null,
           null,
           null,
           null,
           null,
           null,
           null,
           null,
           null,
           null,
           null,
           0.14666033178334864,
           0.12075947082162965,
           0.08085226437097476,
           0.10282200652845513,
           0.14446895675718283,
           0.09013496854446487,
           0.015290780661829371,
           0.06348590561469598,
           0.06684603709956204,
           0.049881977049977766,
           0.05031656956893504,
           0.03703942099247517,
           0.059053784099662644,
           0.03388905437898252,
           0.024523740425999214,
           0.020184205309664274,
           0.05140599791737604,
           0.029006889728406624,
           0.021294486959066553,
           0.04570922115519659,
           0.03195913975590484,
           0.015306188377734961,
           0.012581069814889791,
           0.006890817278330243,
           0.008164571852877167,
           0.00333078657111876,
           0.007687836485290462,
           0.00527991965806316,
           0.0035473713914037633
          ],
          [
           null,
           null,
           null,
           null,
           null,
           null,
           null,
           null,
           null,
           null,
           null,
           null,
           null,
           null,
           null,
           null,
           null,
           null,
           0.039678383956052686,
           0.013608420335327437,
           0.0023909818065343496,
           0.005044017956361804,
           0.0198679478981279,
           0.025624214565534653,
           0.02367155136510821,
           0.012817683434182922,
           0.0009191543708328507,
           0.037789308802849295,
           0.00396123256890501,
           0.010162512274717,
           0.019883739189813066,
           0.006030264629803268,
           0.01379924525251606,
           0.015134017486116366,
           0.003947642081667099,
           0.025889976149435914,
           0.0029730524221281062,
           0.009818262440241532,
           0.0007769301685432309,
           0.006990244635268624,
           0.0009946261787651836,
           0.0005230139835453207,
           0.0012045746326208875,
           0.001184349071057131,
           0.002782373776299206,
           0.00040367258921009087
          ]
         ]
        }
       ],
       "layout": {
        "autosize": true,
        "template": {
         "data": {
          "bar": [
           {
            "error_x": {
             "color": "#2a3f5f"
            },
            "error_y": {
             "color": "#2a3f5f"
            },
            "marker": {
             "line": {
              "color": "#E5ECF6",
              "width": 0.5
             },
             "pattern": {
              "fillmode": "overlay",
              "size": 10,
              "solidity": 0.2
             }
            },
            "type": "bar"
           }
          ],
          "barpolar": [
           {
            "marker": {
             "line": {
              "color": "#E5ECF6",
              "width": 0.5
             },
             "pattern": {
              "fillmode": "overlay",
              "size": 10,
              "solidity": 0.2
             }
            },
            "type": "barpolar"
           }
          ],
          "carpet": [
           {
            "aaxis": {
             "endlinecolor": "#2a3f5f",
             "gridcolor": "white",
             "linecolor": "white",
             "minorgridcolor": "white",
             "startlinecolor": "#2a3f5f"
            },
            "baxis": {
             "endlinecolor": "#2a3f5f",
             "gridcolor": "white",
             "linecolor": "white",
             "minorgridcolor": "white",
             "startlinecolor": "#2a3f5f"
            },
            "type": "carpet"
           }
          ],
          "choropleth": [
           {
            "colorbar": {
             "outlinewidth": 0,
             "ticks": ""
            },
            "type": "choropleth"
           }
          ],
          "contour": [
           {
            "colorbar": {
             "outlinewidth": 0,
             "ticks": ""
            },
            "colorscale": [
             [
              0,
              "#0d0887"
             ],
             [
              0.1111111111111111,
              "#46039f"
             ],
             [
              0.2222222222222222,
              "#7201a8"
             ],
             [
              0.3333333333333333,
              "#9c179e"
             ],
             [
              0.4444444444444444,
              "#bd3786"
             ],
             [
              0.5555555555555556,
              "#d8576b"
             ],
             [
              0.6666666666666666,
              "#ed7953"
             ],
             [
              0.7777777777777778,
              "#fb9f3a"
             ],
             [
              0.8888888888888888,
              "#fdca26"
             ],
             [
              1,
              "#f0f921"
             ]
            ],
            "type": "contour"
           }
          ],
          "contourcarpet": [
           {
            "colorbar": {
             "outlinewidth": 0,
             "ticks": ""
            },
            "type": "contourcarpet"
           }
          ],
          "heatmap": [
           {
            "colorbar": {
             "outlinewidth": 0,
             "ticks": ""
            },
            "colorscale": [
             [
              0,
              "#0d0887"
             ],
             [
              0.1111111111111111,
              "#46039f"
             ],
             [
              0.2222222222222222,
              "#7201a8"
             ],
             [
              0.3333333333333333,
              "#9c179e"
             ],
             [
              0.4444444444444444,
              "#bd3786"
             ],
             [
              0.5555555555555556,
              "#d8576b"
             ],
             [
              0.6666666666666666,
              "#ed7953"
             ],
             [
              0.7777777777777778,
              "#fb9f3a"
             ],
             [
              0.8888888888888888,
              "#fdca26"
             ],
             [
              1,
              "#f0f921"
             ]
            ],
            "type": "heatmap"
           }
          ],
          "heatmapgl": [
           {
            "colorbar": {
             "outlinewidth": 0,
             "ticks": ""
            },
            "colorscale": [
             [
              0,
              "#0d0887"
             ],
             [
              0.1111111111111111,
              "#46039f"
             ],
             [
              0.2222222222222222,
              "#7201a8"
             ],
             [
              0.3333333333333333,
              "#9c179e"
             ],
             [
              0.4444444444444444,
              "#bd3786"
             ],
             [
              0.5555555555555556,
              "#d8576b"
             ],
             [
              0.6666666666666666,
              "#ed7953"
             ],
             [
              0.7777777777777778,
              "#fb9f3a"
             ],
             [
              0.8888888888888888,
              "#fdca26"
             ],
             [
              1,
              "#f0f921"
             ]
            ],
            "type": "heatmapgl"
           }
          ],
          "histogram": [
           {
            "marker": {
             "pattern": {
              "fillmode": "overlay",
              "size": 10,
              "solidity": 0.2
             }
            },
            "type": "histogram"
           }
          ],
          "histogram2d": [
           {
            "colorbar": {
             "outlinewidth": 0,
             "ticks": ""
            },
            "colorscale": [
             [
              0,
              "#0d0887"
             ],
             [
              0.1111111111111111,
              "#46039f"
             ],
             [
              0.2222222222222222,
              "#7201a8"
             ],
             [
              0.3333333333333333,
              "#9c179e"
             ],
             [
              0.4444444444444444,
              "#bd3786"
             ],
             [
              0.5555555555555556,
              "#d8576b"
             ],
             [
              0.6666666666666666,
              "#ed7953"
             ],
             [
              0.7777777777777778,
              "#fb9f3a"
             ],
             [
              0.8888888888888888,
              "#fdca26"
             ],
             [
              1,
              "#f0f921"
             ]
            ],
            "type": "histogram2d"
           }
          ],
          "histogram2dcontour": [
           {
            "colorbar": {
             "outlinewidth": 0,
             "ticks": ""
            },
            "colorscale": [
             [
              0,
              "#0d0887"
             ],
             [
              0.1111111111111111,
              "#46039f"
             ],
             [
              0.2222222222222222,
              "#7201a8"
             ],
             [
              0.3333333333333333,
              "#9c179e"
             ],
             [
              0.4444444444444444,
              "#bd3786"
             ],
             [
              0.5555555555555556,
              "#d8576b"
             ],
             [
              0.6666666666666666,
              "#ed7953"
             ],
             [
              0.7777777777777778,
              "#fb9f3a"
             ],
             [
              0.8888888888888888,
              "#fdca26"
             ],
             [
              1,
              "#f0f921"
             ]
            ],
            "type": "histogram2dcontour"
           }
          ],
          "mesh3d": [
           {
            "colorbar": {
             "outlinewidth": 0,
             "ticks": ""
            },
            "type": "mesh3d"
           }
          ],
          "parcoords": [
           {
            "line": {
             "colorbar": {
              "outlinewidth": 0,
              "ticks": ""
             }
            },
            "type": "parcoords"
           }
          ],
          "pie": [
           {
            "automargin": true,
            "type": "pie"
           }
          ],
          "scatter": [
           {
            "fillpattern": {
             "fillmode": "overlay",
             "size": 10,
             "solidity": 0.2
            },
            "type": "scatter"
           }
          ],
          "scatter3d": [
           {
            "line": {
             "colorbar": {
              "outlinewidth": 0,
              "ticks": ""
             }
            },
            "marker": {
             "colorbar": {
              "outlinewidth": 0,
              "ticks": ""
             }
            },
            "type": "scatter3d"
           }
          ],
          "scattercarpet": [
           {
            "marker": {
             "colorbar": {
              "outlinewidth": 0,
              "ticks": ""
             }
            },
            "type": "scattercarpet"
           }
          ],
          "scattergeo": [
           {
            "marker": {
             "colorbar": {
              "outlinewidth": 0,
              "ticks": ""
             }
            },
            "type": "scattergeo"
           }
          ],
          "scattergl": [
           {
            "marker": {
             "colorbar": {
              "outlinewidth": 0,
              "ticks": ""
             }
            },
            "type": "scattergl"
           }
          ],
          "scattermapbox": [
           {
            "marker": {
             "colorbar": {
              "outlinewidth": 0,
              "ticks": ""
             }
            },
            "type": "scattermapbox"
           }
          ],
          "scatterpolar": [
           {
            "marker": {
             "colorbar": {
              "outlinewidth": 0,
              "ticks": ""
             }
            },
            "type": "scatterpolar"
           }
          ],
          "scatterpolargl": [
           {
            "marker": {
             "colorbar": {
              "outlinewidth": 0,
              "ticks": ""
             }
            },
            "type": "scatterpolargl"
           }
          ],
          "scatterternary": [
           {
            "marker": {
             "colorbar": {
              "outlinewidth": 0,
              "ticks": ""
             }
            },
            "type": "scatterternary"
           }
          ],
          "surface": [
           {
            "colorbar": {
             "outlinewidth": 0,
             "ticks": ""
            },
            "colorscale": [
             [
              0,
              "#0d0887"
             ],
             [
              0.1111111111111111,
              "#46039f"
             ],
             [
              0.2222222222222222,
              "#7201a8"
             ],
             [
              0.3333333333333333,
              "#9c179e"
             ],
             [
              0.4444444444444444,
              "#bd3786"
             ],
             [
              0.5555555555555556,
              "#d8576b"
             ],
             [
              0.6666666666666666,
              "#ed7953"
             ],
             [
              0.7777777777777778,
              "#fb9f3a"
             ],
             [
              0.8888888888888888,
              "#fdca26"
             ],
             [
              1,
              "#f0f921"
             ]
            ],
            "type": "surface"
           }
          ],
          "table": [
           {
            "cells": {
             "fill": {
              "color": "#EBF0F8"
             },
             "line": {
              "color": "white"
             }
            },
            "header": {
             "fill": {
              "color": "#C8D4E3"
             },
             "line": {
              "color": "white"
             }
            },
            "type": "table"
           }
          ]
         },
         "layout": {
          "annotationdefaults": {
           "arrowcolor": "#2a3f5f",
           "arrowhead": 0,
           "arrowwidth": 1
          },
          "autotypenumbers": "strict",
          "coloraxis": {
           "colorbar": {
            "outlinewidth": 0,
            "ticks": ""
           }
          },
          "colorscale": {
           "diverging": [
            [
             0,
             "#8e0152"
            ],
            [
             0.1,
             "#c51b7d"
            ],
            [
             0.2,
             "#de77ae"
            ],
            [
             0.3,
             "#f1b6da"
            ],
            [
             0.4,
             "#fde0ef"
            ],
            [
             0.5,
             "#f7f7f7"
            ],
            [
             0.6,
             "#e6f5d0"
            ],
            [
             0.7,
             "#b8e186"
            ],
            [
             0.8,
             "#7fbc41"
            ],
            [
             0.9,
             "#4d9221"
            ],
            [
             1,
             "#276419"
            ]
           ],
           "sequential": [
            [
             0,
             "#0d0887"
            ],
            [
             0.1111111111111111,
             "#46039f"
            ],
            [
             0.2222222222222222,
             "#7201a8"
            ],
            [
             0.3333333333333333,
             "#9c179e"
            ],
            [
             0.4444444444444444,
             "#bd3786"
            ],
            [
             0.5555555555555556,
             "#d8576b"
            ],
            [
             0.6666666666666666,
             "#ed7953"
            ],
            [
             0.7777777777777778,
             "#fb9f3a"
            ],
            [
             0.8888888888888888,
             "#fdca26"
            ],
            [
             1,
             "#f0f921"
            ]
           ],
           "sequentialminus": [
            [
             0,
             "#0d0887"
            ],
            [
             0.1111111111111111,
             "#46039f"
            ],
            [
             0.2222222222222222,
             "#7201a8"
            ],
            [
             0.3333333333333333,
             "#9c179e"
            ],
            [
             0.4444444444444444,
             "#bd3786"
            ],
            [
             0.5555555555555556,
             "#d8576b"
            ],
            [
             0.6666666666666666,
             "#ed7953"
            ],
            [
             0.7777777777777778,
             "#fb9f3a"
            ],
            [
             0.8888888888888888,
             "#fdca26"
            ],
            [
             1,
             "#f0f921"
            ]
           ]
          },
          "colorway": [
           "#636efa",
           "#EF553B",
           "#00cc96",
           "#ab63fa",
           "#FFA15A",
           "#19d3f3",
           "#FF6692",
           "#B6E880",
           "#FF97FF",
           "#FECB52"
          ],
          "font": {
           "color": "#2a3f5f"
          },
          "geo": {
           "bgcolor": "white",
           "lakecolor": "white",
           "landcolor": "#E5ECF6",
           "showlakes": true,
           "showland": true,
           "subunitcolor": "white"
          },
          "hoverlabel": {
           "align": "left"
          },
          "hovermode": "closest",
          "mapbox": {
           "style": "light"
          },
          "paper_bgcolor": "white",
          "plot_bgcolor": "#E5ECF6",
          "polar": {
           "angularaxis": {
            "gridcolor": "white",
            "linecolor": "white",
            "ticks": ""
           },
           "bgcolor": "#E5ECF6",
           "radialaxis": {
            "gridcolor": "white",
            "linecolor": "white",
            "ticks": ""
           }
          },
          "scene": {
           "xaxis": {
            "backgroundcolor": "#E5ECF6",
            "gridcolor": "white",
            "gridwidth": 2,
            "linecolor": "white",
            "showbackground": true,
            "ticks": "",
            "zerolinecolor": "white"
           },
           "yaxis": {
            "backgroundcolor": "#E5ECF6",
            "gridcolor": "white",
            "gridwidth": 2,
            "linecolor": "white",
            "showbackground": true,
            "ticks": "",
            "zerolinecolor": "white"
           },
           "zaxis": {
            "backgroundcolor": "#E5ECF6",
            "gridcolor": "white",
            "gridwidth": 2,
            "linecolor": "white",
            "showbackground": true,
            "ticks": "",
            "zerolinecolor": "white"
           }
          },
          "shapedefaults": {
           "line": {
            "color": "#2a3f5f"
           }
          },
          "ternary": {
           "aaxis": {
            "gridcolor": "white",
            "linecolor": "white",
            "ticks": ""
           },
           "baxis": {
            "gridcolor": "white",
            "linecolor": "white",
            "ticks": ""
           },
           "bgcolor": "#E5ECF6",
           "caxis": {
            "gridcolor": "white",
            "linecolor": "white",
            "ticks": ""
           }
          },
          "title": {
           "x": 0.05
          },
          "xaxis": {
           "automargin": true,
           "gridcolor": "white",
           "linecolor": "white",
           "ticks": "",
           "title": {
            "standoff": 15
           },
           "zerolinecolor": "white",
           "zerolinewidth": 2
          },
          "yaxis": {
           "automargin": true,
           "gridcolor": "white",
           "linecolor": "white",
           "ticks": "",
           "title": {
            "standoff": 15
           },
           "zerolinecolor": "white",
           "zerolinewidth": 2
          }
         }
        },
        "title": {
         "text": "Heatmap of 'credibility_as' by 'attained_age' and 'duration'"
        },
        "xaxis": {
         "autorange": true,
         "range": [
          49.5,
          95.5
         ],
         "title": {
          "text": "attained_age"
         },
         "type": "linear"
        },
        "yaxis": {
         "autorange": true,
         "range": [
          0.5,
          39.5
         ],
         "title": {
          "text": "duration"
         },
         "type": "linear"
        }
       }
      },
      "image/png": "[encoded data removed]",
      "text/html": [
       "<div>                            <div id=\"223d52e2-a8c0-4f06-8f48-92b2c94d4a86\" class=\"plotly-graph-div\" style=\"height:525px; width:100%;\"></div>            <script type=\"text/javascript\">                require([\"plotly\"], function(Plotly) {                    window.PLOTLYENV=window.PLOTLYENV || {};                                    if (document.getElementById(\"223d52e2-a8c0-4f06-8f48-92b2c94d4a86\")) {                    Plotly.newPlot(                        \"223d52e2-a8c0-4f06-8f48-92b2c94d4a86\",                        [{\"x\":[50,51,52,53,54,55,56,57,58,59,60,61,62,63,64,65,66,67,68,69,70,71,72,73,74,75,76,77,78,79,80,81,82,83,84,85,86,87,88,89,90,91,92,93,94,95],\"y\":[1,2,3,4,5,6,7,8,9,10,11,12,13,14,15,16,17,18,19,20,21,22,23,24,25,26,27,28,29,30,31,32,33,34,35,36,37,38,39],\"z\":[[0.879030918218202,0.8684882947616672,0.8709474206555916,0.8583935412654634,0.8605209299208834,0.8718666368521196,0.858693067455322,0.8395149365985661,0.8402687486993128,0.8199336495490527,0.8230487746246544,0.7986193787597881,0.7586946109177484,0.7704864309911925,0.7511388712947316,0.760548357158355,0.6879821727745868,0.6677183342840238,0.6181586978846862,0.5864234594659639,0.5776113587064998,0.4751014484684086,0.43157419493614085,0.32853230074809464,0.31264626214676877,0.3175301944532583,0.22891039877000505,0.19415494555134502,0.1791264358820609,0.15112239678571154,0.10026332135596092,null,null,null,null,null,null,null,null,null,null,null,null,null,null,null],[0.8845498269044825,0.884891299914039,0.8608193472580243,0.8641559624380093,0.8474209449568902,0.8631407939802395,0.8637443917987523,0.8489439580528316,0.8421354934720816,0.8280650357104057,0.8157677436535579,0.7986798221786043,0.7642810686037416,0.7816992157613475,0.751508890239265,0.7504705933629007,0.7397381646102912,0.6581674741540965,0.5991229531943556,0.5829245252316502,0.5881935560333671,0.567587907532097,0.4096062865871377,0.3795025931773639,0.3684036749368152,0.30810469353207154,0.28375316039029524,0.21521401974637336,0.17567141493216942,0.15850783147048053,0.15969936748556965,0.12089847663905058,null,null,null,null,null,null,null,null,null,null,null,null,null,null],[0.8796596878382441,0.8791037538320352,0.8765517308382463,0.8518423371729242,0.858871891704942,0.8446801875842682,0.8640496064608703,0.8656831966143805,0.8440217745638247,0.8260320624633118,0.8131756779377843,0.8247630543897043,0.8101061437674669,0.7734071937188464,0.7674924444830233,0.740031558649665,0.7155506813463052,0.7112936382654553,0.6864348236052427,0.6380999181750482,0.6054107748070761,0.6116909929611382,0.5673297241882749,0.45240042424300153,0.3614028500748454,0.3145704760801617,0.2750175649664086,0.3004293477012337,0.2447419155298861,0.17629541094585824,0.16782493775103727,0.13304081464271875,0.12247087396430095,null,null,null,null,null,null,null,null,null,null,null,null,null],[0.8798889693494146,0.8760144659071777,0.8821232120780857,0.8658996930749254,0.85717790358003,0.8558027128132601,0.8421413772344767,0.8588599738534345,0.8624156533743458,0.8437358171228566,0.8105345371798643,0.8203433484307682,0.802768552937244,0.8004079714762202,0.7675444360644673,0.7604684631199851,0.7387635412160258,0.7110687797587206,0.7233287897094285,0.6413526467463282,0.6356638345294532,0.5845133768664155,0.5628674022545227,0.49864105318817664,0.430321001347542,0.37116013858558095,0.3104271301486034,0.3112592857614645,0.3029781613351217,0.2363398126093837,0.1849913537822465,0.16888347640653784,0.16194585698097094,0.15559068926149544,null,null,null,null,null,null,null,null,null,null,null,null],[0.8743483571136731,0.875678060111669,0.8846272726141922,0.8875829966866148,0.8716545173675154,0.8511114275961692,0.8547825748831644,0.8411420869535146,0.8391556770782925,0.8542713168674785,0.8118258443528769,0.8085382280683316,0.8030645203149159,0.7993041739425164,0.7912714425626327,0.7716950600353578,0.7464285407818042,0.736450439501752,0.7179814029482425,0.6958056118053898,0.6503537139693815,0.604888400885116,0.5582902826330898,0.4878039920426791,0.5015088584595245,0.39021777105265504,0.36589403200164433,0.35115754441973224,0.305454389979924,0.26483717314058947,0.22457497229804113,0.1947525277308302,0.15774758810109668,0.14980353670385196,0.14153336595115762,null,null,null,null,null,null,null,null,null,null,null],[0.8648401701017373,0.8732413944549409,0.8758521233154426,0.8624037302241273,0.8553373533051316,0.854198406642157,0.8418944778367312,0.8557495441999993,0.8235212560781046,0.8501064752636344,0.8434209299342269,0.8382043431959417,0.7926457949633807,0.7848421410010452,0.787526386740524,0.77350880534948,0.7580716952721162,0.7387812125268726,0.7020884233615077,0.6665813035085343,0.6690150010089762,0.6173135799108433,0.5753962475971239,0.5519601298127272,0.45829708688699156,0.5318184738404066,0.40930362771557954,0.3307722893238702,0.2961619847662312,0.2894055973888343,0.26760718952743884,0.22472447412237034,0.18291306574211993,0.17796559652061847,0.15238953749287534,0.1281095991285195,null,null,null,null,null,null,null,null,null,null],[0.8786592853882874,0.8863466686246616,0.8957561735017684,0.8679963186644213,0.8686002806012113,0.8752058461221374,0.8692846825756357,0.8551858283026076,0.8439718211739775,0.8369559753476835,0.8283955838074744,0.8335698428765099,0.8135138616929385,0.7867300920903492,0.7880276488341459,0.800230498101023,0.7845473181388969,0.7204258698649513,0.7172876622484953,0.6801088837012089,0.6490216025882166,0.669695123285191,0.5970587773727142,0.5374723446428616,0.5109621853373019,0.4785906125719856,0.480040826660316,0.3648115965338004,0.32909162031964284,0.2776222610735101,0.28801811920155634,0.2953006531857282,0.1942950765582207,0.194323405301496,0.1793056634764856,0.15487239375989859,0.1300470251564498,null,null,null,null,null,null,null,null,null],[0.8789300334412904,0.8863492935333763,0.865309271351931,0.8695999169034725,0.867901322960218,0.865852780879306,0.8706509526062983,0.8645131053974654,0.8508550127623583,0.839855564633036,0.8429824868737102,0.8356791052791035,0.8016062927043708,0.816414953981285,0.7930342242555658,0.775687434766734,0.7618298689446213,0.7854520907088709,0.7158312329440233,0.7073346149894333,0.6466344541817957,0.641597641590468,0.6669736358407103,0.5626678913294038,0.49102410791100054,0.5198073313513473,0.44200575376759565,0.4541146696984498,0.369731923227979,0.3360159335124941,0.2857508791546229,0.2908204615948284,0.2521847592033571,0.2036362174228957,0.19795668364301042,0.16378700198222973,0.12748867519577814,0.1349300268496145,null,null,null,null,null,null,null,null],[0.8914690245528388,0.8764725077277843,0.8880439039724478,0.8771600026299501,0.8722142649732365,0.8864006240712381,0.8610069870994509,0.8777078721148872,0.8581877581660523,0.8466289989369928,0.8314714885650663,0.8376335151986719,0.8288999180276485,0.826554864112075,0.8294969564088133,0.784625545363613,0.7711032368526874,0.7763790975501538,0.7677201237343144,0.7170291089900915,0.6937647061399653,0.6745418019165141,0.6167234380282218,0.632435346333378,0.5362774733148291,0.47873742866011515,0.4692300446276988,0.4427012463340676,0.4676209278147813,0.3341650158572954,0.3519296597614676,0.2564606363419819,0.24844562421018426,0.265660143511234,0.18387057808045432,0.1772117770327543,0.1227811626604567,0.12363108733486032,0.11436152137980596,null,null,null,null,null,null,null],[0.8899876407932754,0.9000778826913605,0.8792284515880745,0.8846423734079951,0.8738050016453321,0.8704933835800492,0.8619699129118015,0.8375478302049781,0.8617225798626427,0.8263145084894408,0.8398806498937449,0.8380095349954481,0.8274544378548135,0.8088183693133267,0.8211050716655037,0.7898829439482457,0.7787315171073699,0.7645071135833722,0.7297605043267174,0.7377439404220922,0.7019016670771601,0.6770254705185111,0.5947791775646026,0.6012931993458102,0.5875866317953607,0.521604479493353,0.4474450314972559,0.41832625595062506,0.451477947251524,0.46100165426795603,0.28399472231022266,0.3074907382655668,0.2611963325598204,0.24471823285315625,0.2133243370266159,0.18647567497721643,0.15200265706299593,0.14073795857442764,0.12847376729820714,0.11035223229777871,null,null,null,null,null,null],[0.8977265783819696,0.859637780553484,0.8658215001322698,0.8637655990724524,0.8637538067662502,0.8634174648576468,0.8593834645942394,0.8295896468698974,0.8306289049953738,0.8282506406947159,0.831713707694452,0.8135718350747424,0.7765225529557364,0.7789457249263895,0.7802187784290298,0.7714015549566932,0.7439697019444905,0.7170776416447995,0.7019560646784264,0.6624302585087474,0.6773352774883228,0.6013147884801172,0.5853768855852634,0.5472274166078898,0.4933328325125491,0.5190588444105798,0.43348848552624414,0.36703350844253047,0.3543641191422044,0.31295260993640694,0.3236253777974585,0.29801854839458497,0.2617067367608542,0.2325474959742064,0.21504331969389356,0.20248258844661726,0.16933109369375082,0.137299511555521,0.12169391641860235,0.11205000656715655,0.11044507832706664,null,null,null,null,null],[0.8953097707671881,0.8708333264248485,0.8867652477373532,0.8589330694879667,0.8557661722940807,0.8594684579130715,0.8639583926707884,0.8602491041588749,0.8208589388970763,0.835954906634604,0.8460943859766709,0.8184988217234731,0.8102771624481526,0.8138555756886621,0.7661513246571656,0.7726944893645364,0.7528099591210881,0.7350225740235685,0.6947129777315052,0.6509764652745422,0.6837382562056024,0.6387462068891939,0.5463804989015895,0.5860946499727022,0.47864484676396213,0.4965900059155785,0.49163396165384143,0.39206120824773,0.35890976267267366,0.34027135962488214,0.3269952685510585,0.3124435316639388,0.24224903508772463,0.22624107370294982,0.1828972111215868,0.21043991550433225,0.20255905382878367,0.15097277811977033,0.14196190604196923,0.10818600967792723,0.09952229947669619,0.08927969093553742,null,null,null,null],[0.8839832964734344,0.8756782460910312,0.8730005242023001,0.8759762892986125,0.882082761660966,0.8660443235574016,0.8525770183193456,0.8737956240094418,0.8508946722053846,0.8413338308931906,0.8356871268068224,0.8380994036795041,0.838659949657542,0.7857900424343139,0.7929799124562237,0.7655500169927943,0.7580467309766792,0.7799161940186861,0.7463648017099672,0.7089879642634304,0.671119166593312,0.6530877900129007,0.6035610139668062,0.5492431582814963,0.5565561896831497,0.4772706603223004,0.47431602626365765,0.49358468482146334,0.37266588131439526,0.3355198083975656,0.34310010858494683,0.31810600068969275,0.2967451142103145,0.2491654952247367,0.21312465727931582,0.20780402137189857,0.1830900847650684,0.18806641583491845,0.11720213689363866,0.12146483847835744,0.10727769244242288,0.0927677445281507,0.07787243530684208,null,null,null],[0.8962016631493397,0.8860515088679335,0.8814301041325809,0.871608630684757,0.8854585877416918,0.8833829378050703,0.8576859590114356,0.8820047015742722,0.8511377858844116,0.820846694195641,0.8480795766051966,0.8352946309164357,0.8288172632592645,0.8251747672453003,0.7897149050694393,0.7750256224350719,0.7692377486338241,0.7482032219613952,0.7408909286051572,0.7099704136362736,0.6822283943783012,0.6715409214162108,0.6497778474107111,0.6430000839053839,0.5341220843692,0.5520675265683996,0.4907020362148387,0.46155726044562945,0.4619183823373182,0.34668726518301646,0.31079352478702943,0.3190390854399888,0.27005821499119365,0.2762558671156305,0.2292704086525299,0.21449043105290178,0.16036761726986687,0.1598171495590666,0.17317918996791778,0.11493811273737828,0.10698795069237277,0.0916353679181053,0.0829489999784034,0.055653382435998926,null,null],[0.876806077743648,0.8822019031133169,0.8716666939007937,0.8798263127877228,0.8812544736492929,0.880939138266926,0.854596048591039,0.8468007027483956,0.8567937162331963,0.8343474202146136,0.8406793284593432,0.8113585646457635,0.8285649386723791,0.8068473794874922,0.8129890888169474,0.7865141886293623,0.7808118583190454,0.7588314232279226,0.756131965475017,0.7363128476726781,0.6901959582312118,0.6600930187606356,0.6706171309360275,0.6323301220065315,0.6150947065072748,0.5261004509404099,0.5100941970165479,0.5020286728533074,0.46387920241521335,0.4530366068655538,0.3561871889856485,0.3270883504726722,0.2989166331748556,0.2895465184513922,0.28564121340365933,0.18710813975856827,0.17714107930927905,0.16354129909954385,0.16053541646780223,0.12388691972304135,0.08922464903838653,0.0810342678629273,0.058494058442259085,0.06112738144378079,0.04304127488559875,null],[0.8793922273738858,0.8783615963887649,0.881929688676302,0.8837985985074145,0.8616423816586511,0.8711325340671722,0.8378915795073966,0.8475664372708123,0.8425461126715851,0.8264709205899894,0.831779644626584,0.7963582090107649,0.7942756165169457,0.7787873481972502,0.7915018283589189,0.7627284933228388,0.7323275101838671,0.704538281107885,0.7086912249016385,0.6966146605654748,0.6788358294389139,0.627646681899505,0.5995962615116549,0.5532653615139884,0.524696462982768,0.5608653211573255,0.4591979972344507,0.42993337465196707,0.4168788745657246,0.33729716119503933,0.35313553807699904,0.29931244099555604,0.26599263986933785,0.2584909929480393,0.2121260669164886,0.2482714509178519,0.15849558328614213,0.1501429646376442,0.15611648218476273,0.14560144195381722,0.10856794253130388,0.06801462030460191,0.06553096486712892,0.04557868270689511,0.03172711741999147,0.023484957100730237],[0.8752839857348444,0.8793463545244263,0.8599638305427071,0.8796586248186121,0.8466357054909747,0.8605162500329757,0.8440736498836353,0.8333331026351146,0.8322567559746069,0.8071693686774746,0.7909342137430632,0.7957860954212652,0.8010690412279964,0.7950643943800965,0.7655296533692764,0.7691943051480221,0.7502095470912279,0.7193529030770469,0.6835220658300972,0.6747794890805867,0.6667439377564169,0.6436496951641096,0.6017114577184848,0.5835987536272994,0.5381407012998712,0.5051372967416504,0.5242712355096774,0.4056879925025492,0.38615211574269426,0.3853958090410565,0.36795248960368604,0.32598773785426444,0.22857725234588766,0.2718911598885069,0.2321757363571059,0.24872133554257636,0.2141140600626697,0.17500457462892915,0.14770728611855047,0.0985372354283498,0.11056189411459075,0.08848579680514994,0.053728564497156066,0.04289045571126273,0.041674208380052445,0.0277056198294333],[0.8512824684866065,0.8332744692292633,0.8674418840010322,0.8508062486360106,0.8497384277971372,0.8406733422939378,0.862000234213605,0.8266999469848928,0.8367706511406141,0.812806553508447,0.796939567111231,0.8095978626987319,0.7950025388150134,0.800630157808774,0.7745890070141523,0.7220400269562665,0.7520046308855085,0.7374893407873729,0.7163116779015324,0.6816854004509523,0.6486792344759326,0.6175827096519722,0.6338066175430992,0.5730431909085422,0.5045019317635769,0.5212554926774685,0.5431476256095745,0.5281957703201777,0.4088692971001957,0.42518205402053566,0.40612507380701396,0.36020654759163406,0.33247244789949504,0.29767359284482836,0.23512426905295625,0.17756956070811747,0.21349384838714758,0.21803581967356828,0.1899131238601904,0.15103146607051973,0.10465218236666679,0.1065921568705767,0.08577065641290105,0.04297189794997946,0.03223328110727101,0.031533234501639244],[0.8031211170402164,0.8457698533817118,0.8630069082118799,0.8419707954217708,0.8285278424572651,0.8181498842057404,0.8426935046291998,0.8367060859014891,0.8247235492780692,0.8019848304696628,0.8001798842634245,0.8140776187434874,0.7814064900981792,0.7771417980627023,0.7571431757434712,0.7327570929406743,0.7481973807313557,0.7134461491715449,0.7340973058688615,0.6653392529416745,0.5862621516778478,0.6313923749394491,0.6142248643079353,0.609725031658056,0.6162962907144384,0.49870832578629676,0.5206579339118197,0.47820710669598276,0.44849795454918356,0.3766787629579537,0.4663437077022682,0.39325438362940135,0.31873189258970464,0.3517145376598542,0.29526678216819535,0.2659529542710887,0.2532929276800699,0.2527320860920705,0.20410506297439365,0.11986962043337845,0.1133288158124701,0.09654181102371087,0.08323926524244821,0.05814050043469292,0.03695463079362268,0.024915926228363566],[0.8258621515896557,0.8313726368001306,0.8219557321310939,0.8524346311056734,0.8242969167130607,0.8424237482929817,0.8192215066564069,0.8386797215928994,0.8248801160380553,0.8236699230266189,0.8209291963031528,0.8036727355082907,0.7887787882187831,0.7786600080279807,0.7661353325942792,0.7229070491639882,0.7456093470245815,0.699892971618486,0.716697565021277,0.7024455661220673,0.66124117677741,0.6433825546678756,0.5946801457698108,0.5162268762289528,0.6006943455049016,0.596010682483921,0.5296144695303052,0.47632601226998644,0.495403072343946,0.5112750837975709,0.41419291134675573,0.42515001889425635,0.39475666407978494,0.36781683469399373,0.3831276374374923,0.31946187961177425,0.23149722334301898,0.21358543208232722,0.2021851065080675,0.1462302637969947,0.1492102055328181,0.11209242408985907,0.11348293839505656,0.060426421584182474,0.06080933142522967,0.030611673225436665],[0.7623278123098255,0.7725347432573216,0.775411161395303,0.782383273531153,0.8143613792936938,0.7928686186830995,0.7781615069197542,0.7661455077330724,0.7721975116166986,0.7521576356776782,0.7625517529389463,0.7165665097339426,0.7320051466016886,0.713985307839079,0.6972682827727907,0.7378442955108079,0.6760135648749558,0.6853122022790256,0.638364769986522,0.622357201115841,0.6197901908621324,0.6297429619008602,0.5394076619917602,0.533371338204177,0.5723289214331782,0.5648722860928812,0.46527186950392585,0.468398519606078,0.4731230852318641,0.5329165857064825,0.47744328973552386,0.41688784332451795,0.39779781440910694,0.3875129525255439,0.3892407698461973,0.3647659312030852,0.2680731913064542,0.18275782329982768,0.17796547944097943,0.21342029531201026,0.13454951349550798,0.12902606907159622,0.11456412535389117,0.074730103926218,0.05151771726023471,0.0360544602354677],[null,0.7680967986769852,0.812409496292971,0.8133965286607594,0.784635273473926,0.7937176060135487,0.7514663888958066,0.791699183925119,0.8055612277983557,0.7707882225674513,0.7521747289775981,0.7546738395072801,0.7149288277486728,0.7526917224770131,0.711333210083355,0.6981940742943255,0.7179769254083777,0.7013148414044349,0.6645510354768128,0.5925267260569388,0.6295400177180173,0.6325143850722178,0.5835801418570705,0.5918054393106339,0.5140078433738094,0.5615608824845405,0.5370501499680658,0.4332869801827842,0.4797711539845328,0.4708818198299607,0.48582641006286403,0.5445414996590491,0.4128526695807799,0.4367265210364663,0.38062101475998356,0.39219722248256417,0.382288906600583,0.27022049324106245,0.25892957998659,0.19633559358099162,0.1938161149993782,0.1436944401368989,0.07579376702745841,0.0742698485349685,0.060646432384607804,0.03294802048667096],[null,null,0.8000837622368667,0.7734597006301437,0.7946424062588667,0.7976211470574622,0.8091527222150321,0.7932871327158347,0.774352315048522,0.7902624611179461,0.7643731230796406,0.739054977758199,0.751139744026629,0.7752596546604635,0.7259981166670522,0.7243796768106847,0.7645387113785381,0.6503772955330178,0.6800511692804985,0.6351336490511977,0.6546746909631879,0.623038741700292,0.6369855678780036,0.5626931295420159,0.5382002224454558,0.5659871925311145,0.541706206617109,0.5250201725981047,0.49970193710735467,0.46924261259224764,0.48225624430282654,0.5047437969545666,0.43833012164292684,0.4240668153739414,0.41772009333732507,0.4348249038297285,0.3803111523209443,0.459367501317297,0.21208372809314432,0.2375513326466067,0.17592355473450097,0.13461459337790416,0.13039729440898126,0.08384504845096825,0.04506247024236793,0.041163172878236697],[null,null,null,0.7894871377182126,0.8121842781802844,0.755751139404522,0.8087385988183821,0.7972278811908938,0.8299116078467764,0.7641129280808735,0.7868641636878919,0.793872461280886,0.7897571867520287,0.7842233473816977,0.7504035186804108,0.7227904973631941,0.7034688391245032,0.7599181841244272,0.7130058588535104,0.6794308947334905,0.7058128385027138,0.6605127907692112,0.6796632301569202,0.647382433012876,0.6045457685195175,0.5453005704056282,0.5871169811296714,0.5648721674561586,0.5252648557807332,0.5200631515499128,0.4899271220411016,0.4321485610211967,0.5037449346770688,0.4322424886931433,0.3504737300226437,0.4375236855446123,0.36082132544690826,0.3863704330606886,0.42287981320105567,0.23075822494376372,0.20804300021964384,0.21861924329545562,0.14997708048606057,0.11186937039146508,0.07065881806081432,0.042236818864871954],[null,null,null,null,0.7692450890386573,0.8015423646881538,0.8041958509299785,0.8045871975704665,0.8057919663284863,0.8220364645912923,0.7695107468438679,0.788998810762433,0.7739682396950032,0.7824115582325505,0.7555286864555542,0.7706512448596636,0.6950640916072068,0.7220995045386137,0.7082234086454312,0.7117064408723993,0.692975016379338,0.6317888547608234,0.6302466489288429,0.6478239852755355,0.62197417100041,0.6170965578619929,0.5417645221916977,0.6229271961336122,0.5401092464817513,0.49215198937593185,0.5675752452019059,0.446582719527142,0.48109015817785994,0.4905634999023995,0.43886012741719593,0.4537114025716994,0.4408188304673063,0.3123621766433492,0.3389051081667248,0.3852008305648196,0.18781023376809172,0.18246639028269315,0.14346602399860117,0.11012954942557711,0.0627746146549709,0.05914457615359034],[null,null,null,null,null,0.7826992341611556,0.8420476055297413,0.8150112537549049,0.8080530611174526,0.784028881926473,0.7951125631584207,0.7544627710469263,0.7997095881581785,0.781610384386769,0.7802265539970236,0.778603475540535,0.7179000777846924,0.7296885645122521,0.7283194985879842,0.6595530240774985,0.6815531954470803,0.7127061974798781,0.6781830773385602,0.6046764329377732,0.6924348410531574,0.664237618353708,0.6184282370538271,0.5438237689416325,0.5915722576944564,0.5977011978548029,0.5601561005474881,0.5272500177592748,0.5482629838988872,0.4350842948338049,0.4711106844429123,0.39206532439335623,0.46020876368289093,0.41230414304159935,0.43745104825077324,0.3605922938964671,0.300295988073897,0.1570123794094924,0.12142286186758373,0.14247265792106042,0.08818884433602758,0.05715934772901268],[null,null,null,null,null,null,0.8310444452028548,0.8117476341070462,0.7937623824947214,0.8214411701825344,0.8245440710892981,0.7750457047902958,0.8028029132984721,0.7628952657066322,0.7565747478009458,0.8102927326020918,0.7967393361100547,0.7387799818058572,0.7430410287530254,0.7494360385248764,0.6845806291286365,0.7231431751103515,0.6806375800731862,0.6847071639069798,0.6703953847807331,0.6948195965645427,0.6436340566827887,0.5525647904070556,0.5415493736140482,0.5168623237935812,0.5609212157796123,0.5700050257218597,0.5641816713830649,0.54782325998842,0.45520768143633245,0.43469687732527995,0.42249518601722275,0.35220925024438976,0.40829158642590613,0.29034303437552134,0.26000795403723415,0.24735591161796064,0.1654103702253204,0.15255345135832568,0.0869507787934721,0.05763419661108125],[null,null,null,null,null,null,null,0.838131356515463,0.8074694925837832,0.7733068771646086,0.8008997986276568,0.7881937957964819,0.794807331344456,0.7800979595171685,0.8095729932478156,0.7380237977806673,0.7898822159488851,0.8114767610397824,0.7457470901835981,0.7481384335309382,0.6824672508235293,0.7348090530276249,0.7223418663754567,0.6669047154056652,0.6346680032203733,0.6448530976448817,0.6024465404522922,0.6840486633223156,0.5792898949813625,0.5896082836421663,0.5227589062386494,0.473846741450018,0.592162692324127,0.4923006222537474,0.48504584776351684,0.4643249578259457,0.454721734936902,0.48407205248913865,0.4177651233550924,0.3829462805024831,0.25889723346238686,0.25516194791031205,0.19648786029800597,0.11264731393991956,0.1086248404849392,0.06975000568674994],[null,null,null,null,null,null,null,null,0.7879445207311941,0.8089015597962682,0.7713927508095202,0.8197442867787403,0.7773431418550281,0.7788368663722791,0.7989390936359955,0.7389352743424011,0.7678376546498602,0.7521200246533998,0.7682849112501263,0.7527414721808258,0.6949183354549084,0.6791284758768934,0.6907706452138067,0.7228990512136335,0.6290456548828248,0.6455378958439743,0.6079591203165751,0.6264528950988513,0.540546730661871,0.5237217928060365,0.6114146233993348,0.4618080924918449,0.48644695097836554,0.48431404649910925,0.41348668691507234,0.3879003469775416,0.4392007829932527,0.4092423092739694,0.3698964018471211,0.23729352779248067,0.2572885508526396,0.18466541384513369,0.19421601714757059,0.17535036304000148,0.09237355191790303,0.07090973774349332],[null,null,null,null,null,null,null,null,null,0.7876529980598952,0.7790361015573785,0.8142485759091437,0.763018388124786,0.7892885822577191,0.7837231309464413,0.7628751644912101,0.7843516390906936,0.6962278063350223,0.7597320766603176,0.7802970044330816,0.6872370394892842,0.7061699363115507,0.6301968873357633,0.6437253915218778,0.6547706946193124,0.610352539555626,0.601793188068273,0.6306779736119916,0.5204927079422724,0.6463194798390267,0.5537091421184909,0.5308604304873404,0.49274695841229316,0.5278314821768363,0.5097194570254747,0.31502347728045677,0.3498619452282226,0.38061220959607,0.29719682414414283,0.33109348301324665,0.3071652085577186,0.27850756805502996,0.17844933567935992,0.15376666792250887,0.11548409085336683,0.0651378265696498],[null,null,null,null,null,null,null,null,null,null,0.7762786268394671,0.8031794110377403,0.7381745569089679,0.7378505808081081,0.7727426221993379,0.6942449877806012,0.6833387532304244,0.7297249836363908,0.7383425280661211,0.7403624306648993,0.7147308580775997,0.6344016045176666,0.6733134454128824,0.6350074430643603,0.6406162239482585,0.6455410751756405,0.5597108364281838,0.5513825191686373,0.5432193437501251,0.5324185017977888,0.5092950253581894,0.47735934579727074,0.48619767944768433,0.41517692372006065,0.3626547600489065,0.37579383458269977,0.3928274634574156,0.33511077310865883,0.3583423214940644,0.3112972276873081,0.29165095991636336,0.2435503838620226,0.1663091678570378,0.12004836866605802,0.1385848871932311,0.08652848285992144],[null,null,null,null,null,null,null,null,null,null,null,0.7084877452690277,0.7448437259625091,0.7443316051957586,0.756684316052017,0.6984932776702311,0.6584999788461127,0.7387947699918695,0.6860332991376296,0.65954193876319,0.685065851548279,0.5725920214879007,0.6247272291162466,0.6353731952109181,0.5433187025852657,0.6153297621156714,0.5483560717530667,0.5053465737331556,0.5398522971016931,0.521504156774089,0.35873148641732433,0.46813997620801984,0.5071943591036128,0.3997340835196625,0.3581440772015634,0.35883580067862597,0.32123581096057474,0.3397071676025943,0.267718865291629,0.2110506549265304,0.21219592386069347,0.20426604976565466,0.1759470038804159,0.14583853420085532,0.10508929503304246,0.0753047188457748],[null,null,null,null,null,null,null,null,null,null,null,null,0.7329796185570174,0.6958188746967912,0.6381521629118309,0.7144727594092215,0.7174339271373483,0.6106621493487785,0.6315367320055421,0.6601482071236514,0.5753216825197945,0.5544716998813942,0.5360680167536718,0.42755865548956445,0.5437412927517027,0.5475527316592053,0.5415582547123344,0.4632245316106289,0.35542569322891726,0.3541716571107289,0.43142869258630373,0.4549536250727676,0.37369134406061766,0.2964628388685395,0.22663019724793904,0.3249465100837653,0.31719061567658685,0.31886872129613886,0.21935281100021808,0.1950475078776112,0.1484007632396063,0.20687060003174804,0.10778908732502712,0.08060068400225356,0.07822867276679675,0.04628544806471161],[null,null,null,null,null,null,null,null,null,null,null,null,null,0.6797763998589432,0.6719810000276292,0.635926533556341,0.49726247058154827,0.5542051452783345,0.5894432405907267,0.5722791518846724,0.4981858209467573,0.627248870165981,0.511829909908127,0.38323509945537754,0.463487015020196,0.42263279215910154,0.3588734018866863,0.28738670125265253,0.4265878279720912,0.3607071326676763,0.28799301185118364,0.3068143361602208,0.37313613337570434,0.3219049788202214,0.22932627342342637,0.18500392287537293,0.2771194257192669,0.2050703933028253,0.14872411394852258,0.14791235340119047,0.11691038541711123,0.15444398634947057,0.11907467546363552,0.09792132151754118,0.03743225877050021,0.042168836163493865],[null,null,null,null,null,null,null,null,null,null,null,null,null,null,0.36610992471348897,0.5436291285772239,0.4526922323668011,0.5477825670549564,0.32505879006711086,0.37679884474630454,0.33142805945291703,0.4913703009987488,0.33887181394576465,0.3118655834886214,0.32312702203587274,0.4570391787931902,0.36608759001128505,0.33783520346203705,0.2619688135934141,0.35852632337507107,0.35981297936073664,0.18524659734539245,0.1845401983719241,0.2712244874843494,0.2910078463690341,0.14160519990926432,0.2594306852949239,0.1413063674189903,0.11922850272147233,0.05204092645516061,0.10796464442303873,0.05014114634369469,0.0794090462137661,0.036249860674557634,0.04889078309413088,0.03678276513618423],[null,null,null,null,null,null,null,null,null,null,null,null,null,null,null,0.2821612790184409,0.34929410426756236,0.445537277886812,0.3644835324978549,0.40655919388015127,0.37890160353466995,0.33968568227690565,0.3171496018508725,0.23089267460790502,0.3459930344856728,0.3938663755982509,0.11064298198800578,0.13972254601334638,0.2749435698965309,0.17747426253634865,0.21659662667540558,0.1245501458468461,0.05538133915311984,0.1352984792688934,0.17070157104224482,0.07163384108128139,0.08128761173111299,0.09138915854031797,0.08592739417423809,0.05308077217518559,0.06232167372155495,0.02544173478233114,0.061398487946229284,0.016130675131928257,0.01044473094100327,0.015080847282924604],[null,null,null,null,null,null,null,null,null,null,null,null,null,null,null,null,0.18733941826293996,0.2696798275007174,0.16257782913424199,0.28972435521589,0.23952344504848688,0.16537165776280296,0.2348900197082274,0.19854059530794385,0.09206238632202293,0.08950309279719176,0.16258589757337844,0.14714285901929636,0.15445412743814366,0.11411379298703116,0.09327492986052664,0.09339159406379557,0.07311803570064215,0.037720308778524586,0.03514045033252388,0.08913363949689226,0.05689141088453565,0.028338442333934916,0.03316995255596665,0.012394048836872444,0.015521848782039107,0.024261927801074265,0.021204728003427417,0.014512318812544403,0.006995107795728414,0.004961018904793632],[null,null,null,null,null,null,null,null,null,null,null,null,null,null,null,null,null,0.14666033178334864,0.12075947082162965,0.08085226437097476,0.10282200652845513,0.14446895675718283,0.09013496854446487,0.015290780661829371,0.06348590561469598,0.06684603709956204,0.049881977049977766,0.05031656956893504,0.03703942099247517,0.059053784099662644,0.03388905437898252,0.024523740425999214,0.020184205309664274,0.05140599791737604,0.029006889728406624,0.021294486959066553,0.04570922115519659,0.03195913975590484,0.015306188377734961,0.012581069814889791,0.006890817278330243,0.008164571852877167,0.00333078657111876,0.007687836485290462,0.00527991965806316,0.0035473713914037633],[null,null,null,null,null,null,null,null,null,null,null,null,null,null,null,null,null,null,0.039678383956052686,0.013608420335327437,0.0023909818065343496,0.005044017956361804,0.0198679478981279,0.025624214565534653,0.02367155136510821,0.012817683434182922,0.0009191543708328507,0.037789308802849295,0.00396123256890501,0.010162512274717,0.019883739189813066,0.006030264629803268,0.01379924525251606,0.015134017486116366,0.003947642081667099,0.025889976149435914,0.0029730524221281062,0.009818262440241532,0.0007769301685432309,0.006990244635268624,0.0009946261787651836,0.0005230139835453207,0.0012045746326208875,0.001184349071057131,0.002782373776299206,0.00040367258921009087]],\"type\":\"heatmap\"}],                        {\"template\":{\"data\":{\"histogram2dcontour\":[{\"type\":\"histogram2dcontour\",\"colorbar\":{\"outlinewidth\":0,\"ticks\":\"\"},\"colorscale\":[[0.0,\"#0d0887\"],[0.1111111111111111,\"#46039f\"],[0.2222222222222222,\"#7201a8\"],[0.3333333333333333,\"#9c179e\"],[0.4444444444444444,\"#bd3786\"],[0.5555555555555556,\"#d8576b\"],[0.6666666666666666,\"#ed7953\"],[0.7777777777777778,\"#fb9f3a\"],[0.8888888888888888,\"#fdca26\"],[1.0,\"#f0f921\"]]}],\"choropleth\":[{\"type\":\"choropleth\",\"colorbar\":{\"outlinewidth\":0,\"ticks\":\"\"}}],\"histogram2d\":[{\"type\":\"histogram2d\",\"colorbar\":{\"outlinewidth\":0,\"ticks\":\"\"},\"colorscale\":[[0.0,\"#0d0887\"],[0.1111111111111111,\"#46039f\"],[0.2222222222222222,\"#7201a8\"],[0.3333333333333333,\"#9c179e\"],[0.4444444444444444,\"#bd3786\"],[0.5555555555555556,\"#d8576b\"],[0.6666666666666666,\"#ed7953\"],[0.7777777777777778,\"#fb9f3a\"],[0.8888888888888888,\"#fdca26\"],[1.0,\"#f0f921\"]]}],\"heatmap\":[{\"type\":\"heatmap\",\"colorbar\":{\"outlinewidth\":0,\"ticks\":\"\"},\"colorscale\":[[0.0,\"#0d0887\"],[0.1111111111111111,\"#46039f\"],[0.2222222222222222,\"#7201a8\"],[0.3333333333333333,\"#9c179e\"],[0.4444444444444444,\"#bd3786\"],[0.5555555555555556,\"#d8576b\"],[0.6666666666666666,\"#ed7953\"],[0.7777777777777778,\"#fb9f3a\"],[0.8888888888888888,\"#fdca26\"],[1.0,\"#f0f921\"]]}],\"heatmapgl\":[{\"type\":\"heatmapgl\",\"colorbar\":{\"outlinewidth\":0,\"ticks\":\"\"},\"colorscale\":[[0.0,\"#0d0887\"],[0.1111111111111111,\"#46039f\"],[0.2222222222222222,\"#7201a8\"],[0.3333333333333333,\"#9c179e\"],[0.4444444444444444,\"#bd3786\"],[0.5555555555555556,\"#d8576b\"],[0.6666666666666666,\"#ed7953\"],[0.7777777777777778,\"#fb9f3a\"],[0.8888888888888888,\"#fdca26\"],[1.0,\"#f0f921\"]]}],\"contourcarpet\":[{\"type\":\"contourcarpet\",\"colorbar\":{\"outlinewidth\":0,\"ticks\":\"\"}}],\"contour\":[{\"type\":\"contour\",\"colorbar\":{\"outlinewidth\":0,\"ticks\":\"\"},\"colorscale\":[[0.0,\"#0d0887\"],[0.1111111111111111,\"#46039f\"],[0.2222222222222222,\"#7201a8\"],[0.3333333333333333,\"#9c179e\"],[0.4444444444444444,\"#bd3786\"],[0.5555555555555556,\"#d8576b\"],[0.6666666666666666,\"#ed7953\"],[0.7777777777777778,\"#fb9f3a\"],[0.8888888888888888,\"#fdca26\"],[1.0,\"#f0f921\"]]}],\"surface\":[{\"type\":\"surface\",\"colorbar\":{\"outlinewidth\":0,\"ticks\":\"\"},\"colorscale\":[[0.0,\"#0d0887\"],[0.1111111111111111,\"#46039f\"],[0.2222222222222222,\"#7201a8\"],[0.3333333333333333,\"#9c179e\"],[0.4444444444444444,\"#bd3786\"],[0.5555555555555556,\"#d8576b\"],[0.6666666666666666,\"#ed7953\"],[0.7777777777777778,\"#fb9f3a\"],[0.8888888888888888,\"#fdca26\"],[1.0,\"#f0f921\"]]}],\"mesh3d\":[{\"type\":\"mesh3d\",\"colorbar\":{\"outlinewidth\":0,\"ticks\":\"\"}}],\"scatter\":[{\"fillpattern\":{\"fillmode\":\"overlay\",\"size\":10,\"solidity\":0.2},\"type\":\"scatter\"}],\"parcoords\":[{\"type\":\"parcoords\",\"line\":{\"colorbar\":{\"outlinewidth\":0,\"ticks\":\"\"}}}],\"scatterpolargl\":[{\"type\":\"scatterpolargl\",\"marker\":{\"colorbar\":{\"outlinewidth\":0,\"ticks\":\"\"}}}],\"bar\":[{\"error_x\":{\"color\":\"#2a3f5f\"},\"error_y\":{\"color\":\"#2a3f5f\"},\"marker\":{\"line\":{\"color\":\"#E5ECF6\",\"width\":0.5},\"pattern\":{\"fillmode\":\"overlay\",\"size\":10,\"solidity\":0.2}},\"type\":\"bar\"}],\"scattergeo\":[{\"type\":\"scattergeo\",\"marker\":{\"colorbar\":{\"outlinewidth\":0,\"ticks\":\"\"}}}],\"scatterpolar\":[{\"type\":\"scatterpolar\",\"marker\":{\"colorbar\":{\"outlinewidth\":0,\"ticks\":\"\"}}}],\"histogram\":[{\"marker\":{\"pattern\":{\"fillmode\":\"overlay\",\"size\":10,\"solidity\":0.2}},\"type\":\"histogram\"}],\"scattergl\":[{\"type\":\"scattergl\",\"marker\":{\"colorbar\":{\"outlinewidth\":0,\"ticks\":\"\"}}}],\"scatter3d\":[{\"type\":\"scatter3d\",\"line\":{\"colorbar\":{\"outlinewidth\":0,\"ticks\":\"\"}},\"marker\":{\"colorbar\":{\"outlinewidth\":0,\"ticks\":\"\"}}}],\"scattermapbox\":[{\"type\":\"scattermapbox\",\"marker\":{\"colorbar\":{\"outlinewidth\":0,\"ticks\":\"\"}}}],\"scatterternary\":[{\"type\":\"scatterternary\",\"marker\":{\"colorbar\":{\"outlinewidth\":0,\"ticks\":\"\"}}}],\"scattercarpet\":[{\"type\":\"scattercarpet\",\"marker\":{\"colorbar\":{\"outlinewidth\":0,\"ticks\":\"\"}}}],\"carpet\":[{\"aaxis\":{\"endlinecolor\":\"#2a3f5f\",\"gridcolor\":\"white\",\"linecolor\":\"white\",\"minorgridcolor\":\"white\",\"startlinecolor\":\"#2a3f5f\"},\"baxis\":{\"endlinecolor\":\"#2a3f5f\",\"gridcolor\":\"white\",\"linecolor\":\"white\",\"minorgridcolor\":\"white\",\"startlinecolor\":\"#2a3f5f\"},\"type\":\"carpet\"}],\"table\":[{\"cells\":{\"fill\":{\"color\":\"#EBF0F8\"},\"line\":{\"color\":\"white\"}},\"header\":{\"fill\":{\"color\":\"#C8D4E3\"},\"line\":{\"color\":\"white\"}},\"type\":\"table\"}],\"barpolar\":[{\"marker\":{\"line\":{\"color\":\"#E5ECF6\",\"width\":0.5},\"pattern\":{\"fillmode\":\"overlay\",\"size\":10,\"solidity\":0.2}},\"type\":\"barpolar\"}],\"pie\":[{\"automargin\":true,\"type\":\"pie\"}]},\"layout\":{\"autotypenumbers\":\"strict\",\"colorway\":[\"#636efa\",\"#EF553B\",\"#00cc96\",\"#ab63fa\",\"#FFA15A\",\"#19d3f3\",\"#FF6692\",\"#B6E880\",\"#FF97FF\",\"#FECB52\"],\"font\":{\"color\":\"#2a3f5f\"},\"hovermode\":\"closest\",\"hoverlabel\":{\"align\":\"left\"},\"paper_bgcolor\":\"white\",\"plot_bgcolor\":\"#E5ECF6\",\"polar\":{\"bgcolor\":\"#E5ECF6\",\"angularaxis\":{\"gridcolor\":\"white\",\"linecolor\":\"white\",\"ticks\":\"\"},\"radialaxis\":{\"gridcolor\":\"white\",\"linecolor\":\"white\",\"ticks\":\"\"}},\"ternary\":{\"bgcolor\":\"#E5ECF6\",\"aaxis\":{\"gridcolor\":\"white\",\"linecolor\":\"white\",\"ticks\":\"\"},\"baxis\":{\"gridcolor\":\"white\",\"linecolor\":\"white\",\"ticks\":\"\"},\"caxis\":{\"gridcolor\":\"white\",\"linecolor\":\"white\",\"ticks\":\"\"}},\"coloraxis\":{\"colorbar\":{\"outlinewidth\":0,\"ticks\":\"\"}},\"colorscale\":{\"sequential\":[[0.0,\"#0d0887\"],[0.1111111111111111,\"#46039f\"],[0.2222222222222222,\"#7201a8\"],[0.3333333333333333,\"#9c179e\"],[0.4444444444444444,\"#bd3786\"],[0.5555555555555556,\"#d8576b\"],[0.6666666666666666,\"#ed7953\"],[0.7777777777777778,\"#fb9f3a\"],[0.8888888888888888,\"#fdca26\"],[1.0,\"#f0f921\"]],\"sequentialminus\":[[0.0,\"#0d0887\"],[0.1111111111111111,\"#46039f\"],[0.2222222222222222,\"#7201a8\"],[0.3333333333333333,\"#9c179e\"],[0.4444444444444444,\"#bd3786\"],[0.5555555555555556,\"#d8576b\"],[0.6666666666666666,\"#ed7953\"],[0.7777777777777778,\"#fb9f3a\"],[0.8888888888888888,\"#fdca26\"],[1.0,\"#f0f921\"]],\"diverging\":[[0,\"#8e0152\"],[0.1,\"#c51b7d\"],[0.2,\"#de77ae\"],[0.3,\"#f1b6da\"],[0.4,\"#fde0ef\"],[0.5,\"#f7f7f7\"],[0.6,\"#e6f5d0\"],[0.7,\"#b8e186\"],[0.8,\"#7fbc41\"],[0.9,\"#4d9221\"],[1,\"#276419\"]]},\"xaxis\":{\"gridcolor\":\"white\",\"linecolor\":\"white\",\"ticks\":\"\",\"title\":{\"standoff\":15},\"zerolinecolor\":\"white\",\"automargin\":true,\"zerolinewidth\":2},\"yaxis\":{\"gridcolor\":\"white\",\"linecolor\":\"white\",\"ticks\":\"\",\"title\":{\"standoff\":15},\"zerolinecolor\":\"white\",\"automargin\":true,\"zerolinewidth\":2},\"scene\":{\"xaxis\":{\"backgroundcolor\":\"#E5ECF6\",\"gridcolor\":\"white\",\"linecolor\":\"white\",\"showbackground\":true,\"ticks\":\"\",\"zerolinecolor\":\"white\",\"gridwidth\":2},\"yaxis\":{\"backgroundcolor\":\"#E5ECF6\",\"gridcolor\":\"white\",\"linecolor\":\"white\",\"showbackground\":true,\"ticks\":\"\",\"zerolinecolor\":\"white\",\"gridwidth\":2},\"zaxis\":{\"backgroundcolor\":\"#E5ECF6\",\"gridcolor\":\"white\",\"linecolor\":\"white\",\"showbackground\":true,\"ticks\":\"\",\"zerolinecolor\":\"white\",\"gridwidth\":2}},\"shapedefaults\":{\"line\":{\"color\":\"#2a3f5f\"}},\"annotationdefaults\":{\"arrowcolor\":\"#2a3f5f\",\"arrowhead\":0,\"arrowwidth\":1},\"geo\":{\"bgcolor\":\"white\",\"landcolor\":\"#E5ECF6\",\"subunitcolor\":\"white\",\"showland\":true,\"showlakes\":true,\"lakecolor\":\"white\"},\"title\":{\"x\":0.05},\"mapbox\":{\"style\":\"light\"}}},\"title\":{\"text\":\"Heatmap of 'credibility_as' by 'attained_age' and 'duration'\"},\"xaxis\":{\"title\":{\"text\":\"attained_age\"}},\"yaxis\":{\"title\":{\"text\":\"duration\"},\"type\":\"-\"}},                        {\"responsive\": true}                    ).then(function(){\n",
       "                            \n",
       "var gd = document.getElementById('223d52e2-a8c0-4f06-8f48-92b2c94d4a86');\n",
       "var x = new MutationObserver(function (mutations, observer) {{\n",
       "        var display = window.getComputedStyle(gd).display;\n",
       "        if (!display || display === 'none') {{\n",
       "            console.log([gd, 'removed!']);\n",
       "            Plotly.purge(gd);\n",
       "            observer.disconnect();\n",
       "        }}\n",
       "}});\n",
       "\n",
       "// Listen for the removal of the full notebook cells\n",
       "var notebookContainer = gd.closest('#notebook-container');\n",
       "if (notebookContainer) {{\n",
       "    x.observe(notebookContainer, {childList: true});\n",
       "}}\n",
       "\n",
       "// Listen for the clearing of the current output cell\n",
       "var outputEl = gd.closest('.output');\n",
       "if (outputEl) {{\n",
       "    x.observe(outputEl, {childList: true});\n",
       "}}\n",
       "\n",
       "                        })                };                });            </script>        </div>"
      ]
     },
     "metadata": {},
     "output_type": "display_data"
    }
   ],
   "source": [
    "charters.chart(\n",
    "    df=credibility.asymptotic(\n",
    "        df=grouped_df, measure=\"policies_exposed\", groupby_cols=[\"attained_age\", \"duration\"], k=5000\n",
    "    ),\n",
    "    x_axis=\"attained_age\",\n",
    "    color=\"credibility_as\",\n",
    "    y_axis=\"duration\",\n",
    "    type=\"heatmap\",\n",
    ")"
   ]
  },
  {
   "cell_type": "markdown",
   "id": "72185940-ef8c-4d7d-bb0f-5b076794dbf8",
   "metadata": {},
   "source": [
    "## VM20 Buhlmann"
   ]
  },
  {
   "cell_type": "code",
   "execution_count": 177,
   "id": "b1311be6-762f-48ec-a53e-697897f4e273",
   "metadata": {},
   "outputs": [
    {
     "name": "stdout",
     "output_type": "stream",
     "text": [
      "\u001b[37m 2024-07-08 23:35:18 \u001b[0m|\u001b[37m morai.experience.credibility \u001b[0m|\u001b[32m INFO     \u001b[0m|\u001b[32m Credibility calculated using 'SOA VM-20 approximation'.\n",
      "Created column 'credibility_vm20_approx'.\n",
      "Dataframe does not need to be seriatim.\n",
      " \u001b[0m\n"
     ]
    },
    {
     "data": {
      "application/vnd.plotly.v1+json": {
       "config": {
        "plotlyServerURL": "https://plot.ly"
       },
       "data": [
        {
         "hovertemplate": "attained_age=%{x}<br>credibility_vm20_approx=%{y}<extra></extra>",
         "legendgroup": "",
         "line": {
          "color": "#636efa",
          "dash": "solid"
         },
         "marker": {
          "symbol": "circle"
         },
         "mode": "lines",
         "name": "",
         "orientation": "v",
         "showlegend": false,
         "type": "scatter",
         "x": [
          50,
          51,
          52,
          53,
          54,
          55,
          56,
          57,
          58,
          59,
          60,
          61,
          62,
          63,
          64,
          65,
          66,
          67,
          68,
          69,
          70,
          71,
          72,
          73,
          74,
          75,
          76,
          77,
          78,
          79,
          80,
          81,
          82,
          83,
          84,
          85,
          86,
          87,
          88,
          89,
          90,
          91,
          92,
          93,
          94,
          95
         ],
         "xaxis": "x",
         "y": [
          0.8019627192918043,
          0.8057136739345842,
          0.8139114328062187,
          0.8218015136346015,
          0.8320232702169981,
          0.8447577321837717,
          0.8449191813454384,
          0.8522561798693852,
          0.8555622077576253,
          0.8561905150449288,
          0.8686159897201805,
          0.876360285306363,
          0.8774281676576479,
          0.8814862484779138,
          0.8869026443621574,
          0.874775060666824,
          0.8688430064396846,
          0.8857191176113776,
          0.8268319472930237,
          0.8688936393299118,
          0.8549956146168421,
          0.8543178956183727,
          0.8581398968734966,
          0.8447007394366709,
          0.8219496694123002,
          0.8218437196595397,
          0.789192592029658,
          0.7843739965847065,
          0.7879870340761658,
          0.7610181223500962,
          0.7327503301714159,
          0.7713542222481429,
          0.7447437710301844,
          0.7610864628660856,
          0.7515489526608509,
          0.7719438523717516,
          0.7745240761018521,
          0.764909991423208,
          0.7610619504376374,
          0.6947982720455719,
          0.722958390946536,
          0.6748619762168768,
          0.6371456668578223,
          0.5773438277050963,
          0.5465682589234072,
          0.601849282945435
         ],
         "yaxis": "y"
        }
       ],
       "layout": {
        "autosize": true,
        "legend": {
         "tracegroupgap": 0
        },
        "template": {
         "data": {
          "bar": [
           {
            "error_x": {
             "color": "#2a3f5f"
            },
            "error_y": {
             "color": "#2a3f5f"
            },
            "marker": {
             "line": {
              "color": "#E5ECF6",
              "width": 0.5
             },
             "pattern": {
              "fillmode": "overlay",
              "size": 10,
              "solidity": 0.2
             }
            },
            "type": "bar"
           }
          ],
          "barpolar": [
           {
            "marker": {
             "line": {
              "color": "#E5ECF6",
              "width": 0.5
             },
             "pattern": {
              "fillmode": "overlay",
              "size": 10,
              "solidity": 0.2
             }
            },
            "type": "barpolar"
           }
          ],
          "carpet": [
           {
            "aaxis": {
             "endlinecolor": "#2a3f5f",
             "gridcolor": "white",
             "linecolor": "white",
             "minorgridcolor": "white",
             "startlinecolor": "#2a3f5f"
            },
            "baxis": {
             "endlinecolor": "#2a3f5f",
             "gridcolor": "white",
             "linecolor": "white",
             "minorgridcolor": "white",
             "startlinecolor": "#2a3f5f"
            },
            "type": "carpet"
           }
          ],
          "choropleth": [
           {
            "colorbar": {
             "outlinewidth": 0,
             "ticks": ""
            },
            "type": "choropleth"
           }
          ],
          "contour": [
           {
            "colorbar": {
             "outlinewidth": 0,
             "ticks": ""
            },
            "colorscale": [
             [
              0,
              "#0d0887"
             ],
             [
              0.1111111111111111,
              "#46039f"
             ],
             [
              0.2222222222222222,
              "#7201a8"
             ],
             [
              0.3333333333333333,
              "#9c179e"
             ],
             [
              0.4444444444444444,
              "#bd3786"
             ],
             [
              0.5555555555555556,
              "#d8576b"
             ],
             [
              0.6666666666666666,
              "#ed7953"
             ],
             [
              0.7777777777777778,
              "#fb9f3a"
             ],
             [
              0.8888888888888888,
              "#fdca26"
             ],
             [
              1,
              "#f0f921"
             ]
            ],
            "type": "contour"
           }
          ],
          "contourcarpet": [
           {
            "colorbar": {
             "outlinewidth": 0,
             "ticks": ""
            },
            "type": "contourcarpet"
           }
          ],
          "heatmap": [
           {
            "colorbar": {
             "outlinewidth": 0,
             "ticks": ""
            },
            "colorscale": [
             [
              0,
              "#0d0887"
             ],
             [
              0.1111111111111111,
              "#46039f"
             ],
             [
              0.2222222222222222,
              "#7201a8"
             ],
             [
              0.3333333333333333,
              "#9c179e"
             ],
             [
              0.4444444444444444,
              "#bd3786"
             ],
             [
              0.5555555555555556,
              "#d8576b"
             ],
             [
              0.6666666666666666,
              "#ed7953"
             ],
             [
              0.7777777777777778,
              "#fb9f3a"
             ],
             [
              0.8888888888888888,
              "#fdca26"
             ],
             [
              1,
              "#f0f921"
             ]
            ],
            "type": "heatmap"
           }
          ],
          "heatmapgl": [
           {
            "colorbar": {
             "outlinewidth": 0,
             "ticks": ""
            },
            "colorscale": [
             [
              0,
              "#0d0887"
             ],
             [
              0.1111111111111111,
              "#46039f"
             ],
             [
              0.2222222222222222,
              "#7201a8"
             ],
             [
              0.3333333333333333,
              "#9c179e"
             ],
             [
              0.4444444444444444,
              "#bd3786"
             ],
             [
              0.5555555555555556,
              "#d8576b"
             ],
             [
              0.6666666666666666,
              "#ed7953"
             ],
             [
              0.7777777777777778,
              "#fb9f3a"
             ],
             [
              0.8888888888888888,
              "#fdca26"
             ],
             [
              1,
              "#f0f921"
             ]
            ],
            "type": "heatmapgl"
           }
          ],
          "histogram": [
           {
            "marker": {
             "pattern": {
              "fillmode": "overlay",
              "size": 10,
              "solidity": 0.2
             }
            },
            "type": "histogram"
           }
          ],
          "histogram2d": [
           {
            "colorbar": {
             "outlinewidth": 0,
             "ticks": ""
            },
            "colorscale": [
             [
              0,
              "#0d0887"
             ],
             [
              0.1111111111111111,
              "#46039f"
             ],
             [
              0.2222222222222222,
              "#7201a8"
             ],
             [
              0.3333333333333333,
              "#9c179e"
             ],
             [
              0.4444444444444444,
              "#bd3786"
             ],
             [
              0.5555555555555556,
              "#d8576b"
             ],
             [
              0.6666666666666666,
              "#ed7953"
             ],
             [
              0.7777777777777778,
              "#fb9f3a"
             ],
             [
              0.8888888888888888,
              "#fdca26"
             ],
             [
              1,
              "#f0f921"
             ]
            ],
            "type": "histogram2d"
           }
          ],
          "histogram2dcontour": [
           {
            "colorbar": {
             "outlinewidth": 0,
             "ticks": ""
            },
            "colorscale": [
             [
              0,
              "#0d0887"
             ],
             [
              0.1111111111111111,
              "#46039f"
             ],
             [
              0.2222222222222222,
              "#7201a8"
             ],
             [
              0.3333333333333333,
              "#9c179e"
             ],
             [
              0.4444444444444444,
              "#bd3786"
             ],
             [
              0.5555555555555556,
              "#d8576b"
             ],
             [
              0.6666666666666666,
              "#ed7953"
             ],
             [
              0.7777777777777778,
              "#fb9f3a"
             ],
             [
              0.8888888888888888,
              "#fdca26"
             ],
             [
              1,
              "#f0f921"
             ]
            ],
            "type": "histogram2dcontour"
           }
          ],
          "mesh3d": [
           {
            "colorbar": {
             "outlinewidth": 0,
             "ticks": ""
            },
            "type": "mesh3d"
           }
          ],
          "parcoords": [
           {
            "line": {
             "colorbar": {
              "outlinewidth": 0,
              "ticks": ""
             }
            },
            "type": "parcoords"
           }
          ],
          "pie": [
           {
            "automargin": true,
            "type": "pie"
           }
          ],
          "scatter": [
           {
            "fillpattern": {
             "fillmode": "overlay",
             "size": 10,
             "solidity": 0.2
            },
            "type": "scatter"
           }
          ],
          "scatter3d": [
           {
            "line": {
             "colorbar": {
              "outlinewidth": 0,
              "ticks": ""
             }
            },
            "marker": {
             "colorbar": {
              "outlinewidth": 0,
              "ticks": ""
             }
            },
            "type": "scatter3d"
           }
          ],
          "scattercarpet": [
           {
            "marker": {
             "colorbar": {
              "outlinewidth": 0,
              "ticks": ""
             }
            },
            "type": "scattercarpet"
           }
          ],
          "scattergeo": [
           {
            "marker": {
             "colorbar": {
              "outlinewidth": 0,
              "ticks": ""
             }
            },
            "type": "scattergeo"
           }
          ],
          "scattergl": [
           {
            "marker": {
             "colorbar": {
              "outlinewidth": 0,
              "ticks": ""
             }
            },
            "type": "scattergl"
           }
          ],
          "scattermapbox": [
           {
            "marker": {
             "colorbar": {
              "outlinewidth": 0,
              "ticks": ""
             }
            },
            "type": "scattermapbox"
           }
          ],
          "scatterpolar": [
           {
            "marker": {
             "colorbar": {
              "outlinewidth": 0,
              "ticks": ""
             }
            },
            "type": "scatterpolar"
           }
          ],
          "scatterpolargl": [
           {
            "marker": {
             "colorbar": {
              "outlinewidth": 0,
              "ticks": ""
             }
            },
            "type": "scatterpolargl"
           }
          ],
          "scatterternary": [
           {
            "marker": {
             "colorbar": {
              "outlinewidth": 0,
              "ticks": ""
             }
            },
            "type": "scatterternary"
           }
          ],
          "surface": [
           {
            "colorbar": {
             "outlinewidth": 0,
             "ticks": ""
            },
            "colorscale": [
             [
              0,
              "#0d0887"
             ],
             [
              0.1111111111111111,
              "#46039f"
             ],
             [
              0.2222222222222222,
              "#7201a8"
             ],
             [
              0.3333333333333333,
              "#9c179e"
             ],
             [
              0.4444444444444444,
              "#bd3786"
             ],
             [
              0.5555555555555556,
              "#d8576b"
             ],
             [
              0.6666666666666666,
              "#ed7953"
             ],
             [
              0.7777777777777778,
              "#fb9f3a"
             ],
             [
              0.8888888888888888,
              "#fdca26"
             ],
             [
              1,
              "#f0f921"
             ]
            ],
            "type": "surface"
           }
          ],
          "table": [
           {
            "cells": {
             "fill": {
              "color": "#EBF0F8"
             },
             "line": {
              "color": "white"
             }
            },
            "header": {
             "fill": {
              "color": "#C8D4E3"
             },
             "line": {
              "color": "white"
             }
            },
            "type": "table"
           }
          ]
         },
         "layout": {
          "annotationdefaults": {
           "arrowcolor": "#2a3f5f",
           "arrowhead": 0,
           "arrowwidth": 1
          },
          "autotypenumbers": "strict",
          "coloraxis": {
           "colorbar": {
            "outlinewidth": 0,
            "ticks": ""
           }
          },
          "colorscale": {
           "diverging": [
            [
             0,
             "#8e0152"
            ],
            [
             0.1,
             "#c51b7d"
            ],
            [
             0.2,
             "#de77ae"
            ],
            [
             0.3,
             "#f1b6da"
            ],
            [
             0.4,
             "#fde0ef"
            ],
            [
             0.5,
             "#f7f7f7"
            ],
            [
             0.6,
             "#e6f5d0"
            ],
            [
             0.7,
             "#b8e186"
            ],
            [
             0.8,
             "#7fbc41"
            ],
            [
             0.9,
             "#4d9221"
            ],
            [
             1,
             "#276419"
            ]
           ],
           "sequential": [
            [
             0,
             "#0d0887"
            ],
            [
             0.1111111111111111,
             "#46039f"
            ],
            [
             0.2222222222222222,
             "#7201a8"
            ],
            [
             0.3333333333333333,
             "#9c179e"
            ],
            [
             0.4444444444444444,
             "#bd3786"
            ],
            [
             0.5555555555555556,
             "#d8576b"
            ],
            [
             0.6666666666666666,
             "#ed7953"
            ],
            [
             0.7777777777777778,
             "#fb9f3a"
            ],
            [
             0.8888888888888888,
             "#fdca26"
            ],
            [
             1,
             "#f0f921"
            ]
           ],
           "sequentialminus": [
            [
             0,
             "#0d0887"
            ],
            [
             0.1111111111111111,
             "#46039f"
            ],
            [
             0.2222222222222222,
             "#7201a8"
            ],
            [
             0.3333333333333333,
             "#9c179e"
            ],
            [
             0.4444444444444444,
             "#bd3786"
            ],
            [
             0.5555555555555556,
             "#d8576b"
            ],
            [
             0.6666666666666666,
             "#ed7953"
            ],
            [
             0.7777777777777778,
             "#fb9f3a"
            ],
            [
             0.8888888888888888,
             "#fdca26"
            ],
            [
             1,
             "#f0f921"
            ]
           ]
          },
          "colorway": [
           "#636efa",
           "#EF553B",
           "#00cc96",
           "#ab63fa",
           "#FFA15A",
           "#19d3f3",
           "#FF6692",
           "#B6E880",
           "#FF97FF",
           "#FECB52"
          ],
          "font": {
           "color": "#2a3f5f"
          },
          "geo": {
           "bgcolor": "white",
           "lakecolor": "white",
           "landcolor": "#E5ECF6",
           "showlakes": true,
           "showland": true,
           "subunitcolor": "white"
          },
          "hoverlabel": {
           "align": "left"
          },
          "hovermode": "closest",
          "mapbox": {
           "style": "light"
          },
          "paper_bgcolor": "white",
          "plot_bgcolor": "#E5ECF6",
          "polar": {
           "angularaxis": {
            "gridcolor": "white",
            "linecolor": "white",
            "ticks": ""
           },
           "bgcolor": "#E5ECF6",
           "radialaxis": {
            "gridcolor": "white",
            "linecolor": "white",
            "ticks": ""
           }
          },
          "scene": {
           "xaxis": {
            "backgroundcolor": "#E5ECF6",
            "gridcolor": "white",
            "gridwidth": 2,
            "linecolor": "white",
            "showbackground": true,
            "ticks": "",
            "zerolinecolor": "white"
           },
           "yaxis": {
            "backgroundcolor": "#E5ECF6",
            "gridcolor": "white",
            "gridwidth": 2,
            "linecolor": "white",
            "showbackground": true,
            "ticks": "",
            "zerolinecolor": "white"
           },
           "zaxis": {
            "backgroundcolor": "#E5ECF6",
            "gridcolor": "white",
            "gridwidth": 2,
            "linecolor": "white",
            "showbackground": true,
            "ticks": "",
            "zerolinecolor": "white"
           }
          },
          "shapedefaults": {
           "line": {
            "color": "#2a3f5f"
           }
          },
          "ternary": {
           "aaxis": {
            "gridcolor": "white",
            "linecolor": "white",
            "ticks": ""
           },
           "baxis": {
            "gridcolor": "white",
            "linecolor": "white",
            "ticks": ""
           },
           "bgcolor": "#E5ECF6",
           "caxis": {
            "gridcolor": "white",
            "linecolor": "white",
            "ticks": ""
           }
          },
          "title": {
           "x": 0.05
          },
          "xaxis": {
           "automargin": true,
           "gridcolor": "white",
           "linecolor": "white",
           "ticks": "",
           "title": {
            "standoff": 15
           },
           "zerolinecolor": "white",
           "zerolinewidth": 2
          },
          "yaxis": {
           "automargin": true,
           "gridcolor": "white",
           "linecolor": "white",
           "ticks": "",
           "title": {
            "standoff": 15
           },
           "zerolinecolor": "white",
           "zerolinewidth": 2
          }
         }
        },
        "title": {
         "text": "'credibility_vm20_approx' by 'attained_age' and 'None'"
        },
        "xaxis": {
         "anchor": "y",
         "autorange": true,
         "domain": [
          0,
          1
         ],
         "range": [
          50,
          95
         ],
         "title": {
          "text": "attained_age"
         },
         "type": "linear"
        },
        "yaxis": {
         "anchor": "x",
         "autorange": true,
         "domain": [
          0,
          1
         ],
         "range": [
          0.5276607930656989,
          0.9058101102198657
         ],
         "title": {
          "text": "credibility_vm20_approx"
         },
         "type": "linear"
        }
       }
      },
      "image/png": "[encoded data removed]",
      "text/html": [
       "<div>                            <div id=\"cb196698-ccea-4c25-95da-a50f0f0611ab\" class=\"plotly-graph-div\" style=\"height:525px; width:100%;\"></div>            <script type=\"text/javascript\">                require([\"plotly\"], function(Plotly) {                    window.PLOTLYENV=window.PLOTLYENV || {};                                    if (document.getElementById(\"cb196698-ccea-4c25-95da-a50f0f0611ab\")) {                    Plotly.newPlot(                        \"cb196698-ccea-4c25-95da-a50f0f0611ab\",                        [{\"hovertemplate\":\"attained_age=%{x}\\u003cbr\\u003ecredibility_vm20_approx=%{y}\\u003cextra\\u003e\\u003c\\u002fextra\\u003e\",\"legendgroup\":\"\",\"line\":{\"color\":\"#636efa\",\"dash\":\"solid\"},\"marker\":{\"symbol\":\"circle\"},\"mode\":\"lines\",\"name\":\"\",\"orientation\":\"v\",\"showlegend\":false,\"x\":[50,51,52,53,54,55,56,57,58,59,60,61,62,63,64,65,66,67,68,69,70,71,72,73,74,75,76,77,78,79,80,81,82,83,84,85,86,87,88,89,90,91,92,93,94,95],\"xaxis\":\"x\",\"y\":[0.8019627192918043,0.8057136739345842,0.8139114328062187,0.8218015136346015,0.8320232702169981,0.8447577321837717,0.8449191813454384,0.8522561798693852,0.8555622077576253,0.8561905150449288,0.8686159897201805,0.876360285306363,0.8774281676576479,0.8814862484779138,0.8869026443621574,0.874775060666824,0.8688430064396846,0.8857191176113776,0.8268319472930237,0.8688936393299118,0.8549956146168421,0.8543178956183727,0.8581398968734966,0.8447007394366709,0.8219496694123002,0.8218437196595397,0.789192592029658,0.7843739965847065,0.7879870340761658,0.7610181223500962,0.7327503301714159,0.7713542222481429,0.7447437710301844,0.7610864628660856,0.7515489526608509,0.7719438523717516,0.7745240761018521,0.764909991423208,0.7610619504376374,0.6947982720455719,0.722958390946536,0.6748619762168768,0.6371456668578223,0.5773438277050963,0.5465682589234072,0.601849282945435],\"yaxis\":\"y\",\"type\":\"scatter\"}],                        {\"template\":{\"data\":{\"histogram2dcontour\":[{\"type\":\"histogram2dcontour\",\"colorbar\":{\"outlinewidth\":0,\"ticks\":\"\"},\"colorscale\":[[0.0,\"#0d0887\"],[0.1111111111111111,\"#46039f\"],[0.2222222222222222,\"#7201a8\"],[0.3333333333333333,\"#9c179e\"],[0.4444444444444444,\"#bd3786\"],[0.5555555555555556,\"#d8576b\"],[0.6666666666666666,\"#ed7953\"],[0.7777777777777778,\"#fb9f3a\"],[0.8888888888888888,\"#fdca26\"],[1.0,\"#f0f921\"]]}],\"choropleth\":[{\"type\":\"choropleth\",\"colorbar\":{\"outlinewidth\":0,\"ticks\":\"\"}}],\"histogram2d\":[{\"type\":\"histogram2d\",\"colorbar\":{\"outlinewidth\":0,\"ticks\":\"\"},\"colorscale\":[[0.0,\"#0d0887\"],[0.1111111111111111,\"#46039f\"],[0.2222222222222222,\"#7201a8\"],[0.3333333333333333,\"#9c179e\"],[0.4444444444444444,\"#bd3786\"],[0.5555555555555556,\"#d8576b\"],[0.6666666666666666,\"#ed7953\"],[0.7777777777777778,\"#fb9f3a\"],[0.8888888888888888,\"#fdca26\"],[1.0,\"#f0f921\"]]}],\"heatmap\":[{\"type\":\"heatmap\",\"colorbar\":{\"outlinewidth\":0,\"ticks\":\"\"},\"colorscale\":[[0.0,\"#0d0887\"],[0.1111111111111111,\"#46039f\"],[0.2222222222222222,\"#7201a8\"],[0.3333333333333333,\"#9c179e\"],[0.4444444444444444,\"#bd3786\"],[0.5555555555555556,\"#d8576b\"],[0.6666666666666666,\"#ed7953\"],[0.7777777777777778,\"#fb9f3a\"],[0.8888888888888888,\"#fdca26\"],[1.0,\"#f0f921\"]]}],\"heatmapgl\":[{\"type\":\"heatmapgl\",\"colorbar\":{\"outlinewidth\":0,\"ticks\":\"\"},\"colorscale\":[[0.0,\"#0d0887\"],[0.1111111111111111,\"#46039f\"],[0.2222222222222222,\"#7201a8\"],[0.3333333333333333,\"#9c179e\"],[0.4444444444444444,\"#bd3786\"],[0.5555555555555556,\"#d8576b\"],[0.6666666666666666,\"#ed7953\"],[0.7777777777777778,\"#fb9f3a\"],[0.8888888888888888,\"#fdca26\"],[1.0,\"#f0f921\"]]}],\"contourcarpet\":[{\"type\":\"contourcarpet\",\"colorbar\":{\"outlinewidth\":0,\"ticks\":\"\"}}],\"contour\":[{\"type\":\"contour\",\"colorbar\":{\"outlinewidth\":0,\"ticks\":\"\"},\"colorscale\":[[0.0,\"#0d0887\"],[0.1111111111111111,\"#46039f\"],[0.2222222222222222,\"#7201a8\"],[0.3333333333333333,\"#9c179e\"],[0.4444444444444444,\"#bd3786\"],[0.5555555555555556,\"#d8576b\"],[0.6666666666666666,\"#ed7953\"],[0.7777777777777778,\"#fb9f3a\"],[0.8888888888888888,\"#fdca26\"],[1.0,\"#f0f921\"]]}],\"surface\":[{\"type\":\"surface\",\"colorbar\":{\"outlinewidth\":0,\"ticks\":\"\"},\"colorscale\":[[0.0,\"#0d0887\"],[0.1111111111111111,\"#46039f\"],[0.2222222222222222,\"#7201a8\"],[0.3333333333333333,\"#9c179e\"],[0.4444444444444444,\"#bd3786\"],[0.5555555555555556,\"#d8576b\"],[0.6666666666666666,\"#ed7953\"],[0.7777777777777778,\"#fb9f3a\"],[0.8888888888888888,\"#fdca26\"],[1.0,\"#f0f921\"]]}],\"mesh3d\":[{\"type\":\"mesh3d\",\"colorbar\":{\"outlinewidth\":0,\"ticks\":\"\"}}],\"scatter\":[{\"fillpattern\":{\"fillmode\":\"overlay\",\"size\":10,\"solidity\":0.2},\"type\":\"scatter\"}],\"parcoords\":[{\"type\":\"parcoords\",\"line\":{\"colorbar\":{\"outlinewidth\":0,\"ticks\":\"\"}}}],\"scatterpolargl\":[{\"type\":\"scatterpolargl\",\"marker\":{\"colorbar\":{\"outlinewidth\":0,\"ticks\":\"\"}}}],\"bar\":[{\"error_x\":{\"color\":\"#2a3f5f\"},\"error_y\":{\"color\":\"#2a3f5f\"},\"marker\":{\"line\":{\"color\":\"#E5ECF6\",\"width\":0.5},\"pattern\":{\"fillmode\":\"overlay\",\"size\":10,\"solidity\":0.2}},\"type\":\"bar\"}],\"scattergeo\":[{\"type\":\"scattergeo\",\"marker\":{\"colorbar\":{\"outlinewidth\":0,\"ticks\":\"\"}}}],\"scatterpolar\":[{\"type\":\"scatterpolar\",\"marker\":{\"colorbar\":{\"outlinewidth\":0,\"ticks\":\"\"}}}],\"histogram\":[{\"marker\":{\"pattern\":{\"fillmode\":\"overlay\",\"size\":10,\"solidity\":0.2}},\"type\":\"histogram\"}],\"scattergl\":[{\"type\":\"scattergl\",\"marker\":{\"colorbar\":{\"outlinewidth\":0,\"ticks\":\"\"}}}],\"scatter3d\":[{\"type\":\"scatter3d\",\"line\":{\"colorbar\":{\"outlinewidth\":0,\"ticks\":\"\"}},\"marker\":{\"colorbar\":{\"outlinewidth\":0,\"ticks\":\"\"}}}],\"scattermapbox\":[{\"type\":\"scattermapbox\",\"marker\":{\"colorbar\":{\"outlinewidth\":0,\"ticks\":\"\"}}}],\"scatterternary\":[{\"type\":\"scatterternary\",\"marker\":{\"colorbar\":{\"outlinewidth\":0,\"ticks\":\"\"}}}],\"scattercarpet\":[{\"type\":\"scattercarpet\",\"marker\":{\"colorbar\":{\"outlinewidth\":0,\"ticks\":\"\"}}}],\"carpet\":[{\"aaxis\":{\"endlinecolor\":\"#2a3f5f\",\"gridcolor\":\"white\",\"linecolor\":\"white\",\"minorgridcolor\":\"white\",\"startlinecolor\":\"#2a3f5f\"},\"baxis\":{\"endlinecolor\":\"#2a3f5f\",\"gridcolor\":\"white\",\"linecolor\":\"white\",\"minorgridcolor\":\"white\",\"startlinecolor\":\"#2a3f5f\"},\"type\":\"carpet\"}],\"table\":[{\"cells\":{\"fill\":{\"color\":\"#EBF0F8\"},\"line\":{\"color\":\"white\"}},\"header\":{\"fill\":{\"color\":\"#C8D4E3\"},\"line\":{\"color\":\"white\"}},\"type\":\"table\"}],\"barpolar\":[{\"marker\":{\"line\":{\"color\":\"#E5ECF6\",\"width\":0.5},\"pattern\":{\"fillmode\":\"overlay\",\"size\":10,\"solidity\":0.2}},\"type\":\"barpolar\"}],\"pie\":[{\"automargin\":true,\"type\":\"pie\"}]},\"layout\":{\"autotypenumbers\":\"strict\",\"colorway\":[\"#636efa\",\"#EF553B\",\"#00cc96\",\"#ab63fa\",\"#FFA15A\",\"#19d3f3\",\"#FF6692\",\"#B6E880\",\"#FF97FF\",\"#FECB52\"],\"font\":{\"color\":\"#2a3f5f\"},\"hovermode\":\"closest\",\"hoverlabel\":{\"align\":\"left\"},\"paper_bgcolor\":\"white\",\"plot_bgcolor\":\"#E5ECF6\",\"polar\":{\"bgcolor\":\"#E5ECF6\",\"angularaxis\":{\"gridcolor\":\"white\",\"linecolor\":\"white\",\"ticks\":\"\"},\"radialaxis\":{\"gridcolor\":\"white\",\"linecolor\":\"white\",\"ticks\":\"\"}},\"ternary\":{\"bgcolor\":\"#E5ECF6\",\"aaxis\":{\"gridcolor\":\"white\",\"linecolor\":\"white\",\"ticks\":\"\"},\"baxis\":{\"gridcolor\":\"white\",\"linecolor\":\"white\",\"ticks\":\"\"},\"caxis\":{\"gridcolor\":\"white\",\"linecolor\":\"white\",\"ticks\":\"\"}},\"coloraxis\":{\"colorbar\":{\"outlinewidth\":0,\"ticks\":\"\"}},\"colorscale\":{\"sequential\":[[0.0,\"#0d0887\"],[0.1111111111111111,\"#46039f\"],[0.2222222222222222,\"#7201a8\"],[0.3333333333333333,\"#9c179e\"],[0.4444444444444444,\"#bd3786\"],[0.5555555555555556,\"#d8576b\"],[0.6666666666666666,\"#ed7953\"],[0.7777777777777778,\"#fb9f3a\"],[0.8888888888888888,\"#fdca26\"],[1.0,\"#f0f921\"]],\"sequentialminus\":[[0.0,\"#0d0887\"],[0.1111111111111111,\"#46039f\"],[0.2222222222222222,\"#7201a8\"],[0.3333333333333333,\"#9c179e\"],[0.4444444444444444,\"#bd3786\"],[0.5555555555555556,\"#d8576b\"],[0.6666666666666666,\"#ed7953\"],[0.7777777777777778,\"#fb9f3a\"],[0.8888888888888888,\"#fdca26\"],[1.0,\"#f0f921\"]],\"diverging\":[[0,\"#8e0152\"],[0.1,\"#c51b7d\"],[0.2,\"#de77ae\"],[0.3,\"#f1b6da\"],[0.4,\"#fde0ef\"],[0.5,\"#f7f7f7\"],[0.6,\"#e6f5d0\"],[0.7,\"#b8e186\"],[0.8,\"#7fbc41\"],[0.9,\"#4d9221\"],[1,\"#276419\"]]},\"xaxis\":{\"gridcolor\":\"white\",\"linecolor\":\"white\",\"ticks\":\"\",\"title\":{\"standoff\":15},\"zerolinecolor\":\"white\",\"automargin\":true,\"zerolinewidth\":2},\"yaxis\":{\"gridcolor\":\"white\",\"linecolor\":\"white\",\"ticks\":\"\",\"title\":{\"standoff\":15},\"zerolinecolor\":\"white\",\"automargin\":true,\"zerolinewidth\":2},\"scene\":{\"xaxis\":{\"backgroundcolor\":\"#E5ECF6\",\"gridcolor\":\"white\",\"linecolor\":\"white\",\"showbackground\":true,\"ticks\":\"\",\"zerolinecolor\":\"white\",\"gridwidth\":2},\"yaxis\":{\"backgroundcolor\":\"#E5ECF6\",\"gridcolor\":\"white\",\"linecolor\":\"white\",\"showbackground\":true,\"ticks\":\"\",\"zerolinecolor\":\"white\",\"gridwidth\":2},\"zaxis\":{\"backgroundcolor\":\"#E5ECF6\",\"gridcolor\":\"white\",\"linecolor\":\"white\",\"showbackground\":true,\"ticks\":\"\",\"zerolinecolor\":\"white\",\"gridwidth\":2}},\"shapedefaults\":{\"line\":{\"color\":\"#2a3f5f\"}},\"annotationdefaults\":{\"arrowcolor\":\"#2a3f5f\",\"arrowhead\":0,\"arrowwidth\":1},\"geo\":{\"bgcolor\":\"white\",\"landcolor\":\"#E5ECF6\",\"subunitcolor\":\"white\",\"showland\":true,\"showlakes\":true,\"lakecolor\":\"white\"},\"title\":{\"x\":0.05},\"mapbox\":{\"style\":\"light\"}}},\"xaxis\":{\"anchor\":\"y\",\"domain\":[0.0,1.0],\"title\":{\"text\":\"attained_age\"}},\"yaxis\":{\"anchor\":\"x\",\"domain\":[0.0,1.0],\"title\":{\"text\":\"credibility_vm20_approx\"},\"type\":\"-\"},\"legend\":{\"tracegroupgap\":0},\"title\":{\"text\":\"'credibility_vm20_approx' by 'attained_age' and 'None'\"}},                        {\"responsive\": true}                    ).then(function(){\n",
       "                            \n",
       "var gd = document.getElementById('cb196698-ccea-4c25-95da-a50f0f0611ab');\n",
       "var x = new MutationObserver(function (mutations, observer) {{\n",
       "        var display = window.getComputedStyle(gd).display;\n",
       "        if (!display || display === 'none') {{\n",
       "            console.log([gd, 'removed!']);\n",
       "            Plotly.purge(gd);\n",
       "            observer.disconnect();\n",
       "        }}\n",
       "}});\n",
       "\n",
       "// Listen for the removal of the full notebook cells\n",
       "var notebookContainer = gd.closest('#notebook-container');\n",
       "if (notebookContainer) {{\n",
       "    x.observe(notebookContainer, {childList: true});\n",
       "}}\n",
       "\n",
       "// Listen for the clearing of the current output cell\n",
       "var outputEl = gd.closest('.output');\n",
       "if (outputEl) {{\n",
       "    x.observe(outputEl, {childList: true});\n",
       "}}\n",
       "\n",
       "                        })                };                });            </script>        </div>"
      ]
     },
     "metadata": {},
     "output_type": "display_data"
    }
   ],
   "source": [
    "charters.chart(\n",
    "    df=credibility.vm20_buhlmann_approx(\n",
    "        df=grouped_df,\n",
    "        a_col=\"exp_amt_vbt15\",\n",
    "        b_col=\"cen2momp1wmi_byamt\",\n",
    "        c_col=\"cen2momp2wmi_byamt\",\n",
    "        groupby_cols=[\"attained_age\"],\n",
    "    ),\n",
    "    x_axis=\"attained_age\",\n",
    "    y_axis=\"credibility_vm20_approx\",\n",
    "    type=\"line\",\n",
    ")"
   ]
  },
  {
   "cell_type": "markdown",
   "id": "0a2665f7-8031-450d-8a98-3c054fec65c1",
   "metadata": {},
   "source": [
    "# Relative Risk Table Fit"
   ]
  },
  {
   "cell_type": "code",
   "execution_count": 158,
   "id": "3bd86427-862f-495c-aa4a-79eb01af57eb",
   "metadata": {},
   "outputs": [
    {
     "name": "stdout",
     "output_type": "stream",
     "text": [
      "\u001b[37m 2024-07-08 15:54:51 \u001b[0m|\u001b[37m morai.experience.tables \u001b[0m|\u001b[32m INFO     \u001b[0m|\u001b[32m mapping rate: 'qx_vbt15_rr50' with type: 'soa' \u001b[0m\n",
      "\u001b[37m 2024-07-08 15:54:53 \u001b[0m|\u001b[37m morai.experience.tables \u001b[0m|\u001b[32m INFO     \u001b[0m|\u001b[32m the mapped rates are based on the following keys: ['attained_age', 'smoker_status', 'sex', 'duration'] \u001b[0m\n",
      "\u001b[37m 2024-07-08 15:54:53 \u001b[0m|\u001b[37m morai.experience.tables \u001b[0m|\u001b[32m INFO     \u001b[0m|\u001b[32m mapping rate: 'qx_vbt15_rr60' with type: 'soa' \u001b[0m\n",
      "\u001b[37m 2024-07-08 15:54:55 \u001b[0m|\u001b[37m morai.experience.tables \u001b[0m|\u001b[32m INFO     \u001b[0m|\u001b[32m the mapped rates are based on the following keys: ['attained_age', 'smoker_status', 'sex', 'duration'] \u001b[0m\n",
      "\u001b[37m 2024-07-08 15:54:55 \u001b[0m|\u001b[37m morai.experience.tables \u001b[0m|\u001b[32m INFO     \u001b[0m|\u001b[32m mapping rate: 'qx_vbt15_rr70' with type: 'soa' \u001b[0m\n",
      "\u001b[37m 2024-07-08 15:54:58 \u001b[0m|\u001b[37m morai.experience.tables \u001b[0m|\u001b[32m INFO     \u001b[0m|\u001b[32m the mapped rates are based on the following keys: ['attained_age', 'smoker_status', 'sex', 'duration'] \u001b[0m\n",
      "\u001b[37m 2024-07-08 15:54:58 \u001b[0m|\u001b[37m morai.experience.tables \u001b[0m|\u001b[32m INFO     \u001b[0m|\u001b[32m mapping rate: 'qx_vbt15_rr80' with type: 'soa' \u001b[0m\n",
      "\u001b[37m 2024-07-08 15:54:59 \u001b[0m|\u001b[37m morai.experience.tables \u001b[0m|\u001b[32m INFO     \u001b[0m|\u001b[32m the mapped rates are based on the following keys: ['attained_age', 'smoker_status', 'sex', 'duration'] \u001b[0m\n",
      "\u001b[37m 2024-07-08 15:54:59 \u001b[0m|\u001b[37m morai.experience.tables \u001b[0m|\u001b[32m INFO     \u001b[0m|\u001b[32m mapping rate: 'qx_vbt15_rr90' with type: 'soa' \u001b[0m\n",
      "\u001b[37m 2024-07-08 15:55:00 \u001b[0m|\u001b[37m morai.experience.tables \u001b[0m|\u001b[32m INFO     \u001b[0m|\u001b[32m the mapped rates are based on the following keys: ['attained_age', 'smoker_status', 'sex', 'duration'] \u001b[0m\n",
      "\u001b[37m 2024-07-08 15:55:00 \u001b[0m|\u001b[37m morai.experience.tables \u001b[0m|\u001b[32m INFO     \u001b[0m|\u001b[32m mapping rate: 'qx_vbt15' with type: 'soa' \u001b[0m\n",
      "\u001b[37m 2024-07-08 15:55:01 \u001b[0m|\u001b[37m morai.experience.tables \u001b[0m|\u001b[33m WARNING  \u001b[0m|\u001b[33m rate: 'qx_vbt15' already exists in the DataFrame. Overwriting the rate. \u001b[0m\n",
      "\u001b[37m 2024-07-08 15:55:02 \u001b[0m|\u001b[37m morai.experience.tables \u001b[0m|\u001b[32m INFO     \u001b[0m|\u001b[32m the mapped rates are based on the following keys: ['attained_age', 'smoker_status', 'sex', 'duration'] \u001b[0m\n",
      "\u001b[37m 2024-07-08 15:55:02 \u001b[0m|\u001b[37m morai.experience.tables \u001b[0m|\u001b[32m INFO     \u001b[0m|\u001b[32m mapping rate: 'qx_vbt15_rr110' with type: 'soa' \u001b[0m\n",
      "\u001b[37m 2024-07-08 15:55:04 \u001b[0m|\u001b[37m morai.experience.tables \u001b[0m|\u001b[32m INFO     \u001b[0m|\u001b[32m the mapped rates are based on the following keys: ['attained_age', 'smoker_status', 'sex', 'duration'] \u001b[0m\n"
     ]
    }
   ],
   "source": [
    "rates = [\n",
    "    \"vbt15_rr50\",\n",
    "    \"vbt15_rr60\",\n",
    "    \"vbt15_rr70\",\n",
    "    \"vbt15_rr80\",\n",
    "    \"vbt15_rr90\",\n",
    "    \"vbt15\",\n",
    "    \"vbt15_rr110\",\n",
    "]\n",
    "for rate in rates:\n",
    "    grouped_df = tables.map_rates(\n",
    "        df=grouped_df,\n",
    "        rate=rate,\n",
    "        rate_to_df_map={\n",
    "            \"attained_age\": \"attained_age\",\n",
    "            \"smoker_status\": \"smoker_status\",\n",
    "            \"sex\": \"sex\",\n",
    "            \"duration\": \"duration\",\n",
    "        },\n",
    "    )"
   ]
  },
  {
   "cell_type": "code",
   "execution_count": 167,
   "id": "b8dbce29-47b3-47c7-a797-11987ae5c214",
   "metadata": {},
   "outputs": [
    {
     "data": {
      "text/html": [
       "<div>\n",
       "<style scoped>\n",
       "    .dataframe tbody tr th:only-of-type {\n",
       "        vertical-align: middle;\n",
       "    }\n",
       "\n",
       "    .dataframe tbody tr th {\n",
       "        vertical-align: top;\n",
       "    }\n",
       "\n",
       "    .dataframe thead th {\n",
       "        text-align: right;\n",
       "    }\n",
       "</style>\n",
       "<table border=\"1\" class=\"dataframe\">\n",
       "  <thead>\n",
       "    <tr style=\"text-align: right;\">\n",
       "      <th></th>\n",
       "      <th>_r2_score</th>\n",
       "      <th>_smape</th>\n",
       "      <th>_mean_absolute_error</th>\n",
       "      <th>rate</th>\n",
       "    </tr>\n",
       "  </thead>\n",
       "  <tbody>\n",
       "    <tr>\n",
       "      <th>6</th>\n",
       "      <td>0.04</td>\n",
       "      <td>1.98</td>\n",
       "      <td>22,627.62</td>\n",
       "      <td>vbt15_rr110</td>\n",
       "    </tr>\n",
       "    <tr>\n",
       "      <th>5</th>\n",
       "      <td>0.04</td>\n",
       "      <td>1.98</td>\n",
       "      <td>21,896.49</td>\n",
       "      <td>vbt15</td>\n",
       "    </tr>\n",
       "    <tr>\n",
       "      <th>4</th>\n",
       "      <td>0.04</td>\n",
       "      <td>1.98</td>\n",
       "      <td>21,073.69</td>\n",
       "      <td>vbt15_rr90</td>\n",
       "    </tr>\n",
       "    <tr>\n",
       "      <th>3</th>\n",
       "      <td>0.04</td>\n",
       "      <td>1.98</td>\n",
       "      <td>20,418.78</td>\n",
       "      <td>vbt15_rr80</td>\n",
       "    </tr>\n",
       "    <tr>\n",
       "      <th>2</th>\n",
       "      <td>0.04</td>\n",
       "      <td>1.98</td>\n",
       "      <td>19,770.27</td>\n",
       "      <td>vbt15_rr70</td>\n",
       "    </tr>\n",
       "    <tr>\n",
       "      <th>1</th>\n",
       "      <td>0.03</td>\n",
       "      <td>1.99</td>\n",
       "      <td>19,014.25</td>\n",
       "      <td>vbt15_rr60</td>\n",
       "    </tr>\n",
       "    <tr>\n",
       "      <th>0</th>\n",
       "      <td>0.03</td>\n",
       "      <td>1.99</td>\n",
       "      <td>18,257.96</td>\n",
       "      <td>vbt15_rr50</td>\n",
       "    </tr>\n",
       "  </tbody>\n",
       "</table>\n",
       "</div>"
      ],
      "text/plain": [
       "   _r2_score  _smape  _mean_absolute_error         rate\n",
       "6       0.04    1.98             22,627.62  vbt15_rr110\n",
       "5       0.04    1.98             21,896.49        vbt15\n",
       "4       0.04    1.98             21,073.69   vbt15_rr90\n",
       "3       0.04    1.98             20,418.78   vbt15_rr80\n",
       "2       0.04    1.98             19,770.27   vbt15_rr70\n",
       "1       0.03    1.99             19,014.25   vbt15_rr60\n",
       "0       0.03    1.99             18,257.96   vbt15_rr50"
      ]
     },
     "execution_count": 167,
     "metadata": {},
     "output_type": "execute_result"
    }
   ],
   "source": [
    "result = []\n",
    "filtered_df = grouped_df[grouped_df[\"class_enh\"] == \"4_4\"]\n",
    "for rate in rates:\n",
    "    score = metrics.calculate_metrics(\n",
    "        y_true=filtered_df[\"death_claim_amount\"],\n",
    "        y_pred=filtered_df[\"amount_exposed\"] * filtered_df[f\"qx_{rate}\"],\n",
    "        metrics=[\"r2_score\", \"smape\", \"mean_absolute_error\"],\n",
    "    )\n",
    "    score[\"rate\"] = rate\n",
    "    result.append(score)\n",
    "result = pd.DataFrame(result)\n",
    "result = result.sort_values(by=\"_r2_score\", ascending=False)\n",
    "result"
   ]
  },
  {
   "cell_type": "code",
   "execution_count": 54,
   "id": "874caa21-e9aa-49c6-b46f-385a3b7067ad",
   "metadata": {},
   "outputs": [
    {
     "name": "stdout",
     "output_type": "stream",
     "text": [
      "\u001b[37m 2024-07-07 22:43:54 \u001b[0m|\u001b[37m morai.experience.charters \u001b[0m|\u001b[32m INFO     \u001b[0m|\u001b[32m The weights list is 1 long and should be 3 long. Using the first weight for all weights. \u001b[0m\n"
     ]
    },
    {
     "data": {
      "application/vnd.plotly.v1+json": {
       "config": {
        "plotlyServerURL": "https://plot.ly"
       },
       "data": [
        {
         "mode": "lines+markers",
         "name": "qx_raw",
         "type": "scatter",
         "x": [
          18,
          19,
          20,
          21,
          22,
          23,
          24,
          25,
          26,
          27,
          28,
          29,
          30,
          31,
          32,
          33,
          34,
          35,
          36,
          37,
          38,
          39,
          40,
          41,
          42,
          43,
          44,
          45,
          46,
          47,
          48,
          49,
          50,
          51,
          52,
          53,
          54,
          55,
          56,
          57,
          58,
          59,
          60,
          61,
          62,
          63,
          64,
          65,
          66,
          67,
          68,
          69,
          70,
          71,
          72,
          73,
          74,
          75,
          76,
          77,
          78,
          79,
          80,
          81,
          82,
          83,
          84,
          85,
          86,
          87,
          88,
          89,
          90,
          91,
          92,
          93,
          94,
          95,
          96,
          97,
          98
         ],
         "xaxis": "x",
         "y": [
          0,
          0.0004446359117349656,
          0.00030395535942485865,
          0.00030596760973142565,
          0.000205094990751126,
          0,
          0.0002888659821356021,
          6.957154222610453e-05,
          6.081810221552908e-05,
          9.143500484852042e-05,
          9.622244671581881e-05,
          1.6662915689377985e-05,
          7.259379567926865e-05,
          9.544751598009007e-05,
          0.00011941098278119205,
          0.0002253335494856701,
          7.590369451872964e-05,
          0.0001610179334504053,
          0.0002027089694384425,
          0.00017256167231706438,
          0.0002731863511834742,
          0.00021596734364392106,
          0.00026437629675558276,
          0.00017411531140360106,
          0.0003779085692795042,
          0.00037063938744215244,
          0.00038606352857562074,
          0.00036491264359027646,
          0.00040452600621088873,
          0.0006037392473645728,
          0.0004713797057868371,
          0.0006329341945731379,
          0.0006512476465372402,
          0.0005975214591866648,
          0.0005542436807178928,
          0.0006168855956188686,
          0.0008086326771631739,
          0.0007437395908929571,
          0.0014517760110973844,
          0.0008675425508152881,
          0.001530339403423241,
          0.0011192668607540382,
          0.0017615858804165116,
          0.0017813047237176523,
          0.0021956329835629597,
          0.0020664031275174468,
          0.0015919689508761426,
          0.00211451150617929,
          0.0020020640702952774,
          0.002822148777639741,
          0.0037125165305611912,
          0.004427331543979495,
          0.003222047456106499,
          0.003998904651231469,
          0.004723725890411067,
          0.005527432529971559,
          0.005944912013744327,
          0.01159010663409802,
          0.0061921038753483286,
          0.004762820086157492,
          0.007112326946646944,
          0.008061941101929369,
          0.003865610566037037,
          0.0060981680437081475,
          0.007127503386818364,
          0.013465644236047675,
          0.008414357872473799,
          0.06867987111404733,
          0.02122331386025494,
          0.020510237196327667,
          0.05878289708629643,
          0.006750543014047342,
          0.031503557167894415,
          0.30994322444947014,
          0.004874213991362709,
          0.12752093740804474,
          0.8764678830276377,
          0,
          0,
          0,
          0
         ],
         "yaxis": "y"
        },
        {
         "mode": "lines+markers",
         "name": "qx_vbt15",
         "type": "scatter",
         "x": [
          18,
          19,
          20,
          21,
          22,
          23,
          24,
          25,
          26,
          27,
          28,
          29,
          30,
          31,
          32,
          33,
          34,
          35,
          36,
          37,
          38,
          39,
          40,
          41,
          42,
          43,
          44,
          45,
          46,
          47,
          48,
          49,
          50,
          51,
          52,
          53,
          54,
          55,
          56,
          57,
          58,
          59,
          60,
          61,
          62,
          63,
          64,
          65,
          66,
          67,
          68,
          69,
          70,
          71,
          72,
          73,
          74,
          75,
          76,
          77,
          78,
          79,
          80,
          81,
          82,
          83,
          84,
          85,
          86,
          87,
          88,
          89,
          90,
          91,
          92,
          93,
          94,
          95,
          96,
          97,
          98
         ],
         "xaxis": "x",
         "y": [
          0.0004795709129336699,
          0.0004897221610519512,
          0.0004455979407674902,
          0.00039569295624801226,
          0.00035027640130575735,
          0.0003473828106603167,
          0.00031542913928941273,
          0.0002642755739484985,
          0.00023187611426714758,
          0.00020963405222250417,
          0.00017955662891668123,
          0.00016426314281917017,
          0.0001758904132325336,
          0.0001727384014373782,
          0.00017323422207503054,
          0.00020044406146899765,
          0.00021704021238133943,
          0.00022402952809767954,
          0.00024044586072852108,
          0.00027772369554308554,
          0.00031724770096269744,
          0.00036042230795006193,
          0.00038600604046379935,
          0.0004330894399029181,
          0.00048100416901913624,
          0.000525747698035003,
          0.0005715213257898107,
          0.0006135481587354593,
          0.0006857651464819271,
          0.0007750268980566383,
          0.0008405502960177348,
          0.000886709812933222,
          0.0009906827063509015,
          0.0010725339532186115,
          0.001187897133953217,
          0.0013151591534395983,
          0.0014538356229615425,
          0.0015834218407763286,
          0.001750408195011688,
          0.0019011022003666703,
          0.0021137507140341497,
          0.0022631966189662384,
          0.0024860869992811173,
          0.0027843526642098468,
          0.003093037658228172,
          0.003329508874347806,
          0.0036854780990698377,
          0.0040685823505242575,
          0.004560847827928858,
          0.005208389302074749,
          0.005803865755775157,
          0.006375946861419981,
          0.00703680459661503,
          0.007666596842794503,
          0.008739054322116527,
          0.009575953980506143,
          0.011488753661081035,
          0.012203883053043136,
          0.013741580301656365,
          0.015134933560396946,
          0.017032938343090824,
          0.018649936728204267,
          0.021392135919947926,
          0.02268591047068042,
          0.027945739515250423,
          0.027892713656207303,
          0.03173501378168513,
          0.046389944498694775,
          0.05579951524552737,
          0.05681749174488478,
          0.07100954815072959,
          0.10308611961520273,
          0.1122757383455183,
          0.12504774538635463,
          0.153882353121569,
          0.17678426279104617,
          0.19704091692006223,
          0.2046194853018279,
          0.2191132762949809,
          0.21329,
          0.23702
         ],
         "yaxis": "y"
        },
        {
         "mode": "lines+markers",
         "name": "qx_vbt15_rr60",
         "type": "scatter",
         "x": [
          18,
          19,
          20,
          21,
          22,
          23,
          24,
          25,
          26,
          27,
          28,
          29,
          30,
          31,
          32,
          33,
          34,
          35,
          36,
          37,
          38,
          39,
          40,
          41,
          42,
          43,
          44,
          45,
          46,
          47,
          48,
          49,
          50,
          51,
          52,
          53,
          54,
          55,
          56,
          57,
          58,
          59,
          60,
          61,
          62,
          63,
          64,
          65,
          66,
          67,
          68,
          69,
          70,
          71,
          72,
          73,
          74,
          75,
          76,
          77,
          78,
          79,
          80,
          81,
          82,
          83,
          84,
          85,
          86,
          87,
          88,
          89,
          90,
          91,
          92,
          93,
          94,
          95,
          96,
          97,
          98
         ],
         "xaxis": "x",
         "y": [
          0.00034470372559705783,
          0.0003525334577385836,
          0.0003217603287320792,
          0.0002826784242485853,
          0.0002513621430518265,
          0.0002473450130350251,
          0.0002250459073614486,
          0.00019291472244345277,
          0.00016689971963582776,
          0.00015077702467239837,
          0.00012836776551302802,
          0.0001160379966546975,
          0.00012206803204656718,
          0.00011673224877384613,
          0.00011533450049115742,
          0.00013258032322189855,
          0.0001405830973340911,
          0.0001449268409059597,
          0.00015163452966514445,
          0.00017538014758830496,
          0.00019286746356218394,
          0.00021677784800727616,
          0.00023130069757977477,
          0.0002535509428354001,
          0.00027849593636161956,
          0.00029937880098692283,
          0.00031772753653728727,
          0.00033893712988750725,
          0.00038462615848922077,
          0.000427151515831887,
          0.00046429122702496814,
          0.0004875983208242621,
          0.0005406428184080773,
          0.0005848104391664184,
          0.0006469876946554387,
          0.0007254218686757912,
          0.000802614362513262,
          0.0008764712244370462,
          0.0009760594913846912,
          0.001069763015753432,
          0.0012012075332132515,
          0.0013005917764225075,
          0.001441543514189775,
          0.0016302741891422925,
          0.0018408577038483709,
          0.002010008555333147,
          0.0022499392057349515,
          0.0025263688213939743,
          0.0028675190857035244,
          0.0033191087048503333,
          0.0037436932486069876,
          0.00418738155869661,
          0.004687903059267851,
          0.005203456746778579,
          0.006038336025876182,
          0.006708064456742832,
          0.0082093979793203,
          0.00886820985518806,
          0.010166045531714098,
          0.011383086403640982,
          0.013011293793406507,
          0.014485068177977905,
          0.01686350303012542,
          0.018135073955450737,
          0.022759626138445056,
          0.02266554472942041,
          0.026072742923030325,
          0.03924709931156315,
          0.04778727082886042,
          0.04876349109559416,
          0.06168733660226378,
          0.09302024595980096,
          0.1030833108912356,
          0.11499057935415564,
          0.14605014793330695,
          0.17249620769302648,
          0.1947150862378838,
          0.2046194853018279,
          0.2191132762949809,
          0.21329,
          0.23702
         ],
         "yaxis": "y"
        }
       ],
       "layout": {
        "autosize": true,
        "template": {
         "data": {
          "bar": [
           {
            "error_x": {
             "color": "#2a3f5f"
            },
            "error_y": {
             "color": "#2a3f5f"
            },
            "marker": {
             "line": {
              "color": "#E5ECF6",
              "width": 0.5
             },
             "pattern": {
              "fillmode": "overlay",
              "size": 10,
              "solidity": 0.2
             }
            },
            "type": "bar"
           }
          ],
          "barpolar": [
           {
            "marker": {
             "line": {
              "color": "#E5ECF6",
              "width": 0.5
             },
             "pattern": {
              "fillmode": "overlay",
              "size": 10,
              "solidity": 0.2
             }
            },
            "type": "barpolar"
           }
          ],
          "carpet": [
           {
            "aaxis": {
             "endlinecolor": "#2a3f5f",
             "gridcolor": "white",
             "linecolor": "white",
             "minorgridcolor": "white",
             "startlinecolor": "#2a3f5f"
            },
            "baxis": {
             "endlinecolor": "#2a3f5f",
             "gridcolor": "white",
             "linecolor": "white",
             "minorgridcolor": "white",
             "startlinecolor": "#2a3f5f"
            },
            "type": "carpet"
           }
          ],
          "choropleth": [
           {
            "colorbar": {
             "outlinewidth": 0,
             "ticks": ""
            },
            "type": "choropleth"
           }
          ],
          "contour": [
           {
            "colorbar": {
             "outlinewidth": 0,
             "ticks": ""
            },
            "colorscale": [
             [
              0,
              "#0d0887"
             ],
             [
              0.1111111111111111,
              "#46039f"
             ],
             [
              0.2222222222222222,
              "#7201a8"
             ],
             [
              0.3333333333333333,
              "#9c179e"
             ],
             [
              0.4444444444444444,
              "#bd3786"
             ],
             [
              0.5555555555555556,
              "#d8576b"
             ],
             [
              0.6666666666666666,
              "#ed7953"
             ],
             [
              0.7777777777777778,
              "#fb9f3a"
             ],
             [
              0.8888888888888888,
              "#fdca26"
             ],
             [
              1,
              "#f0f921"
             ]
            ],
            "type": "contour"
           }
          ],
          "contourcarpet": [
           {
            "colorbar": {
             "outlinewidth": 0,
             "ticks": ""
            },
            "type": "contourcarpet"
           }
          ],
          "heatmap": [
           {
            "colorbar": {
             "outlinewidth": 0,
             "ticks": ""
            },
            "colorscale": [
             [
              0,
              "#0d0887"
             ],
             [
              0.1111111111111111,
              "#46039f"
             ],
             [
              0.2222222222222222,
              "#7201a8"
             ],
             [
              0.3333333333333333,
              "#9c179e"
             ],
             [
              0.4444444444444444,
              "#bd3786"
             ],
             [
              0.5555555555555556,
              "#d8576b"
             ],
             [
              0.6666666666666666,
              "#ed7953"
             ],
             [
              0.7777777777777778,
              "#fb9f3a"
             ],
             [
              0.8888888888888888,
              "#fdca26"
             ],
             [
              1,
              "#f0f921"
             ]
            ],
            "type": "heatmap"
           }
          ],
          "heatmapgl": [
           {
            "colorbar": {
             "outlinewidth": 0,
             "ticks": ""
            },
            "colorscale": [
             [
              0,
              "#0d0887"
             ],
             [
              0.1111111111111111,
              "#46039f"
             ],
             [
              0.2222222222222222,
              "#7201a8"
             ],
             [
              0.3333333333333333,
              "#9c179e"
             ],
             [
              0.4444444444444444,
              "#bd3786"
             ],
             [
              0.5555555555555556,
              "#d8576b"
             ],
             [
              0.6666666666666666,
              "#ed7953"
             ],
             [
              0.7777777777777778,
              "#fb9f3a"
             ],
             [
              0.8888888888888888,
              "#fdca26"
             ],
             [
              1,
              "#f0f921"
             ]
            ],
            "type": "heatmapgl"
           }
          ],
          "histogram": [
           {
            "marker": {
             "pattern": {
              "fillmode": "overlay",
              "size": 10,
              "solidity": 0.2
             }
            },
            "type": "histogram"
           }
          ],
          "histogram2d": [
           {
            "colorbar": {
             "outlinewidth": 0,
             "ticks": ""
            },
            "colorscale": [
             [
              0,
              "#0d0887"
             ],
             [
              0.1111111111111111,
              "#46039f"
             ],
             [
              0.2222222222222222,
              "#7201a8"
             ],
             [
              0.3333333333333333,
              "#9c179e"
             ],
             [
              0.4444444444444444,
              "#bd3786"
             ],
             [
              0.5555555555555556,
              "#d8576b"
             ],
             [
              0.6666666666666666,
              "#ed7953"
             ],
             [
              0.7777777777777778,
              "#fb9f3a"
             ],
             [
              0.8888888888888888,
              "#fdca26"
             ],
             [
              1,
              "#f0f921"
             ]
            ],
            "type": "histogram2d"
           }
          ],
          "histogram2dcontour": [
           {
            "colorbar": {
             "outlinewidth": 0,
             "ticks": ""
            },
            "colorscale": [
             [
              0,
              "#0d0887"
             ],
             [
              0.1111111111111111,
              "#46039f"
             ],
             [
              0.2222222222222222,
              "#7201a8"
             ],
             [
              0.3333333333333333,
              "#9c179e"
             ],
             [
              0.4444444444444444,
              "#bd3786"
             ],
             [
              0.5555555555555556,
              "#d8576b"
             ],
             [
              0.6666666666666666,
              "#ed7953"
             ],
             [
              0.7777777777777778,
              "#fb9f3a"
             ],
             [
              0.8888888888888888,
              "#fdca26"
             ],
             [
              1,
              "#f0f921"
             ]
            ],
            "type": "histogram2dcontour"
           }
          ],
          "mesh3d": [
           {
            "colorbar": {
             "outlinewidth": 0,
             "ticks": ""
            },
            "type": "mesh3d"
           }
          ],
          "parcoords": [
           {
            "line": {
             "colorbar": {
              "outlinewidth": 0,
              "ticks": ""
             }
            },
            "type": "parcoords"
           }
          ],
          "pie": [
           {
            "automargin": true,
            "type": "pie"
           }
          ],
          "scatter": [
           {
            "fillpattern": {
             "fillmode": "overlay",
             "size": 10,
             "solidity": 0.2
            },
            "type": "scatter"
           }
          ],
          "scatter3d": [
           {
            "line": {
             "colorbar": {
              "outlinewidth": 0,
              "ticks": ""
             }
            },
            "marker": {
             "colorbar": {
              "outlinewidth": 0,
              "ticks": ""
             }
            },
            "type": "scatter3d"
           }
          ],
          "scattercarpet": [
           {
            "marker": {
             "colorbar": {
              "outlinewidth": 0,
              "ticks": ""
             }
            },
            "type": "scattercarpet"
           }
          ],
          "scattergeo": [
           {
            "marker": {
             "colorbar": {
              "outlinewidth": 0,
              "ticks": ""
             }
            },
            "type": "scattergeo"
           }
          ],
          "scattergl": [
           {
            "marker": {
             "colorbar": {
              "outlinewidth": 0,
              "ticks": ""
             }
            },
            "type": "scattergl"
           }
          ],
          "scattermapbox": [
           {
            "marker": {
             "colorbar": {
              "outlinewidth": 0,
              "ticks": ""
             }
            },
            "type": "scattermapbox"
           }
          ],
          "scatterpolar": [
           {
            "marker": {
             "colorbar": {
              "outlinewidth": 0,
              "ticks": ""
             }
            },
            "type": "scatterpolar"
           }
          ],
          "scatterpolargl": [
           {
            "marker": {
             "colorbar": {
              "outlinewidth": 0,
              "ticks": ""
             }
            },
            "type": "scatterpolargl"
           }
          ],
          "scatterternary": [
           {
            "marker": {
             "colorbar": {
              "outlinewidth": 0,
              "ticks": ""
             }
            },
            "type": "scatterternary"
           }
          ],
          "surface": [
           {
            "colorbar": {
             "outlinewidth": 0,
             "ticks": ""
            },
            "colorscale": [
             [
              0,
              "#0d0887"
             ],
             [
              0.1111111111111111,
              "#46039f"
             ],
             [
              0.2222222222222222,
              "#7201a8"
             ],
             [
              0.3333333333333333,
              "#9c179e"
             ],
             [
              0.4444444444444444,
              "#bd3786"
             ],
             [
              0.5555555555555556,
              "#d8576b"
             ],
             [
              0.6666666666666666,
              "#ed7953"
             ],
             [
              0.7777777777777778,
              "#fb9f3a"
             ],
             [
              0.8888888888888888,
              "#fdca26"
             ],
             [
              1,
              "#f0f921"
             ]
            ],
            "type": "surface"
           }
          ],
          "table": [
           {
            "cells": {
             "fill": {
              "color": "#EBF0F8"
             },
             "line": {
              "color": "white"
             }
            },
            "header": {
             "fill": {
              "color": "#C8D4E3"
             },
             "line": {
              "color": "white"
             }
            },
            "type": "table"
           }
          ]
         },
         "layout": {
          "annotationdefaults": {
           "arrowcolor": "#2a3f5f",
           "arrowhead": 0,
           "arrowwidth": 1
          },
          "autotypenumbers": "strict",
          "coloraxis": {
           "colorbar": {
            "outlinewidth": 0,
            "ticks": ""
           }
          },
          "colorscale": {
           "diverging": [
            [
             0,
             "#8e0152"
            ],
            [
             0.1,
             "#c51b7d"
            ],
            [
             0.2,
             "#de77ae"
            ],
            [
             0.3,
             "#f1b6da"
            ],
            [
             0.4,
             "#fde0ef"
            ],
            [
             0.5,
             "#f7f7f7"
            ],
            [
             0.6,
             "#e6f5d0"
            ],
            [
             0.7,
             "#b8e186"
            ],
            [
             0.8,
             "#7fbc41"
            ],
            [
             0.9,
             "#4d9221"
            ],
            [
             1,
             "#276419"
            ]
           ],
           "sequential": [
            [
             0,
             "#0d0887"
            ],
            [
             0.1111111111111111,
             "#46039f"
            ],
            [
             0.2222222222222222,
             "#7201a8"
            ],
            [
             0.3333333333333333,
             "#9c179e"
            ],
            [
             0.4444444444444444,
             "#bd3786"
            ],
            [
             0.5555555555555556,
             "#d8576b"
            ],
            [
             0.6666666666666666,
             "#ed7953"
            ],
            [
             0.7777777777777778,
             "#fb9f3a"
            ],
            [
             0.8888888888888888,
             "#fdca26"
            ],
            [
             1,
             "#f0f921"
            ]
           ],
           "sequentialminus": [
            [
             0,
             "#0d0887"
            ],
            [
             0.1111111111111111,
             "#46039f"
            ],
            [
             0.2222222222222222,
             "#7201a8"
            ],
            [
             0.3333333333333333,
             "#9c179e"
            ],
            [
             0.4444444444444444,
             "#bd3786"
            ],
            [
             0.5555555555555556,
             "#d8576b"
            ],
            [
             0.6666666666666666,
             "#ed7953"
            ],
            [
             0.7777777777777778,
             "#fb9f3a"
            ],
            [
             0.8888888888888888,
             "#fdca26"
            ],
            [
             1,
             "#f0f921"
            ]
           ]
          },
          "colorway": [
           "#636efa",
           "#EF553B",
           "#00cc96",
           "#ab63fa",
           "#FFA15A",
           "#19d3f3",
           "#FF6692",
           "#B6E880",
           "#FF97FF",
           "#FECB52"
          ],
          "font": {
           "color": "#2a3f5f"
          },
          "geo": {
           "bgcolor": "white",
           "lakecolor": "white",
           "landcolor": "#E5ECF6",
           "showlakes": true,
           "showland": true,
           "subunitcolor": "white"
          },
          "hoverlabel": {
           "align": "left"
          },
          "hovermode": "closest",
          "mapbox": {
           "style": "light"
          },
          "paper_bgcolor": "white",
          "plot_bgcolor": "#E5ECF6",
          "polar": {
           "angularaxis": {
            "gridcolor": "white",
            "linecolor": "white",
            "ticks": ""
           },
           "bgcolor": "#E5ECF6",
           "radialaxis": {
            "gridcolor": "white",
            "linecolor": "white",
            "ticks": ""
           }
          },
          "scene": {
           "xaxis": {
            "backgroundcolor": "#E5ECF6",
            "gridcolor": "white",
            "gridwidth": 2,
            "linecolor": "white",
            "showbackground": true,
            "ticks": "",
            "zerolinecolor": "white"
           },
           "yaxis": {
            "backgroundcolor": "#E5ECF6",
            "gridcolor": "white",
            "gridwidth": 2,
            "linecolor": "white",
            "showbackground": true,
            "ticks": "",
            "zerolinecolor": "white"
           },
           "zaxis": {
            "backgroundcolor": "#E5ECF6",
            "gridcolor": "white",
            "gridwidth": 2,
            "linecolor": "white",
            "showbackground": true,
            "ticks": "",
            "zerolinecolor": "white"
           }
          },
          "shapedefaults": {
           "line": {
            "color": "#2a3f5f"
           }
          },
          "ternary": {
           "aaxis": {
            "gridcolor": "white",
            "linecolor": "white",
            "ticks": ""
           },
           "baxis": {
            "gridcolor": "white",
            "linecolor": "white",
            "ticks": ""
           },
           "bgcolor": "#E5ECF6",
           "caxis": {
            "gridcolor": "white",
            "linecolor": "white",
            "ticks": ""
           }
          },
          "title": {
           "x": 0.05
          },
          "xaxis": {
           "automargin": true,
           "gridcolor": "white",
           "linecolor": "white",
           "ticks": "",
           "title": {
            "standoff": 15
           },
           "zerolinecolor": "white",
           "zerolinewidth": 2
          },
          "yaxis": {
           "automargin": true,
           "gridcolor": "white",
           "linecolor": "white",
           "ticks": "",
           "title": {
            "standoff": 15
           },
           "zerolinecolor": "white",
           "zerolinewidth": 2
          }
         }
        },
        "title": {
         "text": "Comparison of '['qx_raw', 'qx_vbt15', 'qx_vbt15_rr60']' by 'attained_age'"
        },
        "xaxis": {
         "anchor": "y",
         "autorange": true,
         "domain": [
          0,
          0.94
         ],
         "range": [
          13.083762193499442,
          102.91623780650056
         ],
         "title": {
          "text": "attained_age"
         },
         "type": "linear"
        },
        "yaxis": {
         "anchor": "x",
         "autorange": true,
         "domain": [
          0,
          1
         ],
         "range": [
          -5.167844853423423,
          0.33233185690636197
         ],
         "title": {
          "text": "Log Rates"
         },
         "type": "log"
        },
        "yaxis2": {
         "anchor": "x",
         "overlaying": "y",
         "side": "right"
        }
       }
      },
      "image/png": "[encoded data removed]",
      "text/html": [
       "<div>                            <div id=\"83d2e906-c4b8-479c-83c8-93e52438e1ca\" class=\"plotly-graph-div\" style=\"height:525px; width:100%;\"></div>            <script type=\"text/javascript\">                require([\"plotly\"], function(Plotly) {                    window.PLOTLYENV=window.PLOTLYENV || {};                                    if (document.getElementById(\"83d2e906-c4b8-479c-83c8-93e52438e1ca\")) {                    Plotly.newPlot(                        \"83d2e906-c4b8-479c-83c8-93e52438e1ca\",                        [{\"mode\":\"lines+markers\",\"name\":\"qx_raw\",\"x\":[18,19,20,21,22,23,24,25,26,27,28,29,30,31,32,33,34,35,36,37,38,39,40,41,42,43,44,45,46,47,48,49,50,51,52,53,54,55,56,57,58,59,60,61,62,63,64,65,66,67,68,69,70,71,72,73,74,75,76,77,78,79,80,81,82,83,84,85,86,87,88,89,90,91,92,93,94,95,96,97,98],\"y\":[0.0,0.0004446359117349656,0.00030395535942485865,0.00030596760973142565,0.000205094990751126,0.0,0.0002888659821356021,6.957154222610453e-05,6.081810221552908e-05,9.143500484852042e-05,9.622244671581881e-05,1.6662915689377985e-05,7.259379567926865e-05,9.544751598009007e-05,0.00011941098278119205,0.0002253335494856701,7.590369451872964e-05,0.0001610179334504053,0.0002027089694384425,0.00017256167231706438,0.0002731863511834742,0.00021596734364392106,0.00026437629675558276,0.00017411531140360106,0.0003779085692795042,0.00037063938744215244,0.00038606352857562074,0.00036491264359027646,0.00040452600621088873,0.0006037392473645728,0.0004713797057868371,0.0006329341945731379,0.0006512476465372402,0.0005975214591866648,0.0005542436807178928,0.0006168855956188686,0.0008086326771631739,0.0007437395908929571,0.0014517760110973844,0.0008675425508152881,0.001530339403423241,0.0011192668607540382,0.0017615858804165116,0.0017813047237176523,0.0021956329835629597,0.0020664031275174468,0.0015919689508761426,0.00211451150617929,0.0020020640702952774,0.002822148777639741,0.0037125165305611912,0.004427331543979495,0.003222047456106499,0.003998904651231469,0.004723725890411067,0.005527432529971559,0.005944912013744327,0.01159010663409802,0.0061921038753483286,0.004762820086157492,0.007112326946646944,0.008061941101929369,0.003865610566037037,0.0060981680437081475,0.007127503386818364,0.013465644236047675,0.008414357872473799,0.06867987111404733,0.02122331386025494,0.020510237196327667,0.05878289708629643,0.006750543014047342,0.031503557167894415,0.30994322444947014,0.004874213991362709,0.12752093740804474,0.8764678830276377,0.0,0.0,0.0,0.0],\"type\":\"scatter\",\"xaxis\":\"x\",\"yaxis\":\"y\"},{\"mode\":\"lines+markers\",\"name\":\"qx_vbt15\",\"x\":[18,19,20,21,22,23,24,25,26,27,28,29,30,31,32,33,34,35,36,37,38,39,40,41,42,43,44,45,46,47,48,49,50,51,52,53,54,55,56,57,58,59,60,61,62,63,64,65,66,67,68,69,70,71,72,73,74,75,76,77,78,79,80,81,82,83,84,85,86,87,88,89,90,91,92,93,94,95,96,97,98],\"y\":[0.0004795709129336699,0.0004897221610519512,0.0004455979407674902,0.00039569295624801226,0.00035027640130575735,0.0003473828106603167,0.00031542913928941273,0.0002642755739484985,0.00023187611426714758,0.00020963405222250417,0.00017955662891668123,0.00016426314281917017,0.0001758904132325336,0.0001727384014373782,0.00017323422207503054,0.00020044406146899765,0.00021704021238133943,0.00022402952809767954,0.00024044586072852108,0.00027772369554308554,0.00031724770096269744,0.00036042230795006193,0.00038600604046379935,0.0004330894399029181,0.00048100416901913624,0.000525747698035003,0.0005715213257898107,0.0006135481587354593,0.0006857651464819271,0.0007750268980566383,0.0008405502960177348,0.000886709812933222,0.0009906827063509015,0.0010725339532186115,0.001187897133953217,0.0013151591534395983,0.0014538356229615425,0.0015834218407763286,0.001750408195011688,0.0019011022003666703,0.0021137507140341497,0.0022631966189662384,0.0024860869992811173,0.0027843526642098468,0.003093037658228172,0.003329508874347806,0.0036854780990698377,0.0040685823505242575,0.004560847827928858,0.005208389302074749,0.005803865755775157,0.006375946861419981,0.00703680459661503,0.007666596842794503,0.008739054322116527,0.009575953980506143,0.011488753661081035,0.012203883053043136,0.013741580301656365,0.015134933560396946,0.017032938343090824,0.018649936728204267,0.021392135919947926,0.02268591047068042,0.027945739515250423,0.027892713656207303,0.03173501378168513,0.046389944498694775,0.05579951524552737,0.05681749174488478,0.07100954815072959,0.10308611961520273,0.1122757383455183,0.12504774538635463,0.153882353121569,0.17678426279104617,0.19704091692006223,0.2046194853018279,0.2191132762949809,0.21329,0.23702],\"type\":\"scatter\",\"xaxis\":\"x\",\"yaxis\":\"y\"},{\"mode\":\"lines+markers\",\"name\":\"qx_vbt15_rr60\",\"x\":[18,19,20,21,22,23,24,25,26,27,28,29,30,31,32,33,34,35,36,37,38,39,40,41,42,43,44,45,46,47,48,49,50,51,52,53,54,55,56,57,58,59,60,61,62,63,64,65,66,67,68,69,70,71,72,73,74,75,76,77,78,79,80,81,82,83,84,85,86,87,88,89,90,91,92,93,94,95,96,97,98],\"y\":[0.00034470372559705783,0.0003525334577385836,0.0003217603287320792,0.0002826784242485853,0.0002513621430518265,0.0002473450130350251,0.0002250459073614486,0.00019291472244345277,0.00016689971963582776,0.00015077702467239837,0.00012836776551302802,0.0001160379966546975,0.00012206803204656718,0.00011673224877384613,0.00011533450049115742,0.00013258032322189855,0.0001405830973340911,0.0001449268409059597,0.00015163452966514445,0.00017538014758830496,0.00019286746356218394,0.00021677784800727616,0.00023130069757977477,0.0002535509428354001,0.00027849593636161956,0.00029937880098692283,0.00031772753653728727,0.00033893712988750725,0.00038462615848922077,0.000427151515831887,0.00046429122702496814,0.0004875983208242621,0.0005406428184080773,0.0005848104391664184,0.0006469876946554387,0.0007254218686757912,0.000802614362513262,0.0008764712244370462,0.0009760594913846912,0.001069763015753432,0.0012012075332132515,0.0013005917764225075,0.001441543514189775,0.0016302741891422925,0.0018408577038483709,0.002010008555333147,0.0022499392057349515,0.0025263688213939743,0.0028675190857035244,0.0033191087048503333,0.0037436932486069876,0.00418738155869661,0.004687903059267851,0.005203456746778579,0.006038336025876182,0.006708064456742832,0.0082093979793203,0.00886820985518806,0.010166045531714098,0.011383086403640982,0.013011293793406507,0.014485068177977905,0.01686350303012542,0.018135073955450737,0.022759626138445056,0.02266554472942041,0.026072742923030325,0.03924709931156315,0.04778727082886042,0.04876349109559416,0.06168733660226378,0.09302024595980096,0.1030833108912356,0.11499057935415564,0.14605014793330695,0.17249620769302648,0.1947150862378838,0.2046194853018279,0.2191132762949809,0.21329,0.23702],\"type\":\"scatter\",\"xaxis\":\"x\",\"yaxis\":\"y\"}],                        {\"template\":{\"data\":{\"histogram2dcontour\":[{\"type\":\"histogram2dcontour\",\"colorbar\":{\"outlinewidth\":0,\"ticks\":\"\"},\"colorscale\":[[0.0,\"#0d0887\"],[0.1111111111111111,\"#46039f\"],[0.2222222222222222,\"#7201a8\"],[0.3333333333333333,\"#9c179e\"],[0.4444444444444444,\"#bd3786\"],[0.5555555555555556,\"#d8576b\"],[0.6666666666666666,\"#ed7953\"],[0.7777777777777778,\"#fb9f3a\"],[0.8888888888888888,\"#fdca26\"],[1.0,\"#f0f921\"]]}],\"choropleth\":[{\"type\":\"choropleth\",\"colorbar\":{\"outlinewidth\":0,\"ticks\":\"\"}}],\"histogram2d\":[{\"type\":\"histogram2d\",\"colorbar\":{\"outlinewidth\":0,\"ticks\":\"\"},\"colorscale\":[[0.0,\"#0d0887\"],[0.1111111111111111,\"#46039f\"],[0.2222222222222222,\"#7201a8\"],[0.3333333333333333,\"#9c179e\"],[0.4444444444444444,\"#bd3786\"],[0.5555555555555556,\"#d8576b\"],[0.6666666666666666,\"#ed7953\"],[0.7777777777777778,\"#fb9f3a\"],[0.8888888888888888,\"#fdca26\"],[1.0,\"#f0f921\"]]}],\"heatmap\":[{\"type\":\"heatmap\",\"colorbar\":{\"outlinewidth\":0,\"ticks\":\"\"},\"colorscale\":[[0.0,\"#0d0887\"],[0.1111111111111111,\"#46039f\"],[0.2222222222222222,\"#7201a8\"],[0.3333333333333333,\"#9c179e\"],[0.4444444444444444,\"#bd3786\"],[0.5555555555555556,\"#d8576b\"],[0.6666666666666666,\"#ed7953\"],[0.7777777777777778,\"#fb9f3a\"],[0.8888888888888888,\"#fdca26\"],[1.0,\"#f0f921\"]]}],\"heatmapgl\":[{\"type\":\"heatmapgl\",\"colorbar\":{\"outlinewidth\":0,\"ticks\":\"\"},\"colorscale\":[[0.0,\"#0d0887\"],[0.1111111111111111,\"#46039f\"],[0.2222222222222222,\"#7201a8\"],[0.3333333333333333,\"#9c179e\"],[0.4444444444444444,\"#bd3786\"],[0.5555555555555556,\"#d8576b\"],[0.6666666666666666,\"#ed7953\"],[0.7777777777777778,\"#fb9f3a\"],[0.8888888888888888,\"#fdca26\"],[1.0,\"#f0f921\"]]}],\"contourcarpet\":[{\"type\":\"contourcarpet\",\"colorbar\":{\"outlinewidth\":0,\"ticks\":\"\"}}],\"contour\":[{\"type\":\"contour\",\"colorbar\":{\"outlinewidth\":0,\"ticks\":\"\"},\"colorscale\":[[0.0,\"#0d0887\"],[0.1111111111111111,\"#46039f\"],[0.2222222222222222,\"#7201a8\"],[0.3333333333333333,\"#9c179e\"],[0.4444444444444444,\"#bd3786\"],[0.5555555555555556,\"#d8576b\"],[0.6666666666666666,\"#ed7953\"],[0.7777777777777778,\"#fb9f3a\"],[0.8888888888888888,\"#fdca26\"],[1.0,\"#f0f921\"]]}],\"surface\":[{\"type\":\"surface\",\"colorbar\":{\"outlinewidth\":0,\"ticks\":\"\"},\"colorscale\":[[0.0,\"#0d0887\"],[0.1111111111111111,\"#46039f\"],[0.2222222222222222,\"#7201a8\"],[0.3333333333333333,\"#9c179e\"],[0.4444444444444444,\"#bd3786\"],[0.5555555555555556,\"#d8576b\"],[0.6666666666666666,\"#ed7953\"],[0.7777777777777778,\"#fb9f3a\"],[0.8888888888888888,\"#fdca26\"],[1.0,\"#f0f921\"]]}],\"mesh3d\":[{\"type\":\"mesh3d\",\"colorbar\":{\"outlinewidth\":0,\"ticks\":\"\"}}],\"scatter\":[{\"fillpattern\":{\"fillmode\":\"overlay\",\"size\":10,\"solidity\":0.2},\"type\":\"scatter\"}],\"parcoords\":[{\"type\":\"parcoords\",\"line\":{\"colorbar\":{\"outlinewidth\":0,\"ticks\":\"\"}}}],\"scatterpolargl\":[{\"type\":\"scatterpolargl\",\"marker\":{\"colorbar\":{\"outlinewidth\":0,\"ticks\":\"\"}}}],\"bar\":[{\"error_x\":{\"color\":\"#2a3f5f\"},\"error_y\":{\"color\":\"#2a3f5f\"},\"marker\":{\"line\":{\"color\":\"#E5ECF6\",\"width\":0.5},\"pattern\":{\"fillmode\":\"overlay\",\"size\":10,\"solidity\":0.2}},\"type\":\"bar\"}],\"scattergeo\":[{\"type\":\"scattergeo\",\"marker\":{\"colorbar\":{\"outlinewidth\":0,\"ticks\":\"\"}}}],\"scatterpolar\":[{\"type\":\"scatterpolar\",\"marker\":{\"colorbar\":{\"outlinewidth\":0,\"ticks\":\"\"}}}],\"histogram\":[{\"marker\":{\"pattern\":{\"fillmode\":\"overlay\",\"size\":10,\"solidity\":0.2}},\"type\":\"histogram\"}],\"scattergl\":[{\"type\":\"scattergl\",\"marker\":{\"colorbar\":{\"outlinewidth\":0,\"ticks\":\"\"}}}],\"scatter3d\":[{\"type\":\"scatter3d\",\"line\":{\"colorbar\":{\"outlinewidth\":0,\"ticks\":\"\"}},\"marker\":{\"colorbar\":{\"outlinewidth\":0,\"ticks\":\"\"}}}],\"scattermapbox\":[{\"type\":\"scattermapbox\",\"marker\":{\"colorbar\":{\"outlinewidth\":0,\"ticks\":\"\"}}}],\"scatterternary\":[{\"type\":\"scatterternary\",\"marker\":{\"colorbar\":{\"outlinewidth\":0,\"ticks\":\"\"}}}],\"scattercarpet\":[{\"type\":\"scattercarpet\",\"marker\":{\"colorbar\":{\"outlinewidth\":0,\"ticks\":\"\"}}}],\"carpet\":[{\"aaxis\":{\"endlinecolor\":\"#2a3f5f\",\"gridcolor\":\"white\",\"linecolor\":\"white\",\"minorgridcolor\":\"white\",\"startlinecolor\":\"#2a3f5f\"},\"baxis\":{\"endlinecolor\":\"#2a3f5f\",\"gridcolor\":\"white\",\"linecolor\":\"white\",\"minorgridcolor\":\"white\",\"startlinecolor\":\"#2a3f5f\"},\"type\":\"carpet\"}],\"table\":[{\"cells\":{\"fill\":{\"color\":\"#EBF0F8\"},\"line\":{\"color\":\"white\"}},\"header\":{\"fill\":{\"color\":\"#C8D4E3\"},\"line\":{\"color\":\"white\"}},\"type\":\"table\"}],\"barpolar\":[{\"marker\":{\"line\":{\"color\":\"#E5ECF6\",\"width\":0.5},\"pattern\":{\"fillmode\":\"overlay\",\"size\":10,\"solidity\":0.2}},\"type\":\"barpolar\"}],\"pie\":[{\"automargin\":true,\"type\":\"pie\"}]},\"layout\":{\"autotypenumbers\":\"strict\",\"colorway\":[\"#636efa\",\"#EF553B\",\"#00cc96\",\"#ab63fa\",\"#FFA15A\",\"#19d3f3\",\"#FF6692\",\"#B6E880\",\"#FF97FF\",\"#FECB52\"],\"font\":{\"color\":\"#2a3f5f\"},\"hovermode\":\"closest\",\"hoverlabel\":{\"align\":\"left\"},\"paper_bgcolor\":\"white\",\"plot_bgcolor\":\"#E5ECF6\",\"polar\":{\"bgcolor\":\"#E5ECF6\",\"angularaxis\":{\"gridcolor\":\"white\",\"linecolor\":\"white\",\"ticks\":\"\"},\"radialaxis\":{\"gridcolor\":\"white\",\"linecolor\":\"white\",\"ticks\":\"\"}},\"ternary\":{\"bgcolor\":\"#E5ECF6\",\"aaxis\":{\"gridcolor\":\"white\",\"linecolor\":\"white\",\"ticks\":\"\"},\"baxis\":{\"gridcolor\":\"white\",\"linecolor\":\"white\",\"ticks\":\"\"},\"caxis\":{\"gridcolor\":\"white\",\"linecolor\":\"white\",\"ticks\":\"\"}},\"coloraxis\":{\"colorbar\":{\"outlinewidth\":0,\"ticks\":\"\"}},\"colorscale\":{\"sequential\":[[0.0,\"#0d0887\"],[0.1111111111111111,\"#46039f\"],[0.2222222222222222,\"#7201a8\"],[0.3333333333333333,\"#9c179e\"],[0.4444444444444444,\"#bd3786\"],[0.5555555555555556,\"#d8576b\"],[0.6666666666666666,\"#ed7953\"],[0.7777777777777778,\"#fb9f3a\"],[0.8888888888888888,\"#fdca26\"],[1.0,\"#f0f921\"]],\"sequentialminus\":[[0.0,\"#0d0887\"],[0.1111111111111111,\"#46039f\"],[0.2222222222222222,\"#7201a8\"],[0.3333333333333333,\"#9c179e\"],[0.4444444444444444,\"#bd3786\"],[0.5555555555555556,\"#d8576b\"],[0.6666666666666666,\"#ed7953\"],[0.7777777777777778,\"#fb9f3a\"],[0.8888888888888888,\"#fdca26\"],[1.0,\"#f0f921\"]],\"diverging\":[[0,\"#8e0152\"],[0.1,\"#c51b7d\"],[0.2,\"#de77ae\"],[0.3,\"#f1b6da\"],[0.4,\"#fde0ef\"],[0.5,\"#f7f7f7\"],[0.6,\"#e6f5d0\"],[0.7,\"#b8e186\"],[0.8,\"#7fbc41\"],[0.9,\"#4d9221\"],[1,\"#276419\"]]},\"xaxis\":{\"gridcolor\":\"white\",\"linecolor\":\"white\",\"ticks\":\"\",\"title\":{\"standoff\":15},\"zerolinecolor\":\"white\",\"automargin\":true,\"zerolinewidth\":2},\"yaxis\":{\"gridcolor\":\"white\",\"linecolor\":\"white\",\"ticks\":\"\",\"title\":{\"standoff\":15},\"zerolinecolor\":\"white\",\"automargin\":true,\"zerolinewidth\":2},\"scene\":{\"xaxis\":{\"backgroundcolor\":\"#E5ECF6\",\"gridcolor\":\"white\",\"linecolor\":\"white\",\"showbackground\":true,\"ticks\":\"\",\"zerolinecolor\":\"white\",\"gridwidth\":2},\"yaxis\":{\"backgroundcolor\":\"#E5ECF6\",\"gridcolor\":\"white\",\"linecolor\":\"white\",\"showbackground\":true,\"ticks\":\"\",\"zerolinecolor\":\"white\",\"gridwidth\":2},\"zaxis\":{\"backgroundcolor\":\"#E5ECF6\",\"gridcolor\":\"white\",\"linecolor\":\"white\",\"showbackground\":true,\"ticks\":\"\",\"zerolinecolor\":\"white\",\"gridwidth\":2}},\"shapedefaults\":{\"line\":{\"color\":\"#2a3f5f\"}},\"annotationdefaults\":{\"arrowcolor\":\"#2a3f5f\",\"arrowhead\":0,\"arrowwidth\":1},\"geo\":{\"bgcolor\":\"white\",\"landcolor\":\"#E5ECF6\",\"subunitcolor\":\"white\",\"showland\":true,\"showlakes\":true,\"lakecolor\":\"white\"},\"title\":{\"x\":0.05},\"mapbox\":{\"style\":\"light\"}}},\"xaxis\":{\"anchor\":\"y\",\"domain\":[0.0,0.94],\"title\":{\"text\":\"attained_age\"}},\"yaxis\":{\"anchor\":\"x\",\"domain\":[0.0,1.0],\"type\":\"log\",\"title\":{\"text\":\"Log Rates\"}},\"yaxis2\":{\"anchor\":\"x\",\"overlaying\":\"y\",\"side\":\"right\"},\"title\":{\"text\":\"Comparison of '['qx_raw', 'qx_vbt15', 'qx_vbt15_rr60']' by 'attained_age'\"}},                        {\"responsive\": true}                    ).then(function(){\n",
       "                            \n",
       "var gd = document.getElementById('83d2e906-c4b8-479c-83c8-93e52438e1ca');\n",
       "var x = new MutationObserver(function (mutations, observer) {{\n",
       "        var display = window.getComputedStyle(gd).display;\n",
       "        if (!display || display === 'none') {{\n",
       "            console.log([gd, 'removed!']);\n",
       "            Plotly.purge(gd);\n",
       "            observer.disconnect();\n",
       "        }}\n",
       "}});\n",
       "\n",
       "// Listen for the removal of the full notebook cells\n",
       "var notebookContainer = gd.closest('#notebook-container');\n",
       "if (notebookContainer) {{\n",
       "    x.observe(notebookContainer, {childList: true});\n",
       "}}\n",
       "\n",
       "// Listen for the clearing of the current output cell\n",
       "var outputEl = gd.closest('.output');\n",
       "if (outputEl) {{\n",
       "    x.observe(outputEl, {childList: true});\n",
       "}}\n",
       "\n",
       "                        })                };                });            </script>        </div>"
      ]
     },
     "metadata": {},
     "output_type": "display_data"
    }
   ],
   "source": [
    "charters.compare_rates(\n",
    "    df=filtered_df,\n",
    "    x_axis=\"attained_age\",\n",
    "    rates=[\"qx_raw\", \"qx_vbt15\", \"qx_vbt15_rr60\"],\n",
    "    weights=[\"amount_exposed\"],\n",
    "    y_log=True,\n",
    "    # x_bins=6,\n",
    "    display=True,\n",
    ")"
   ]
  },
  {
   "cell_type": "markdown",
   "id": "14a3acb3-a473-4aec-b3c2-6d7589b113ff",
   "metadata": {},
   "source": [
    "# Importance"
   ]
  },
  {
   "cell_type": "markdown",
   "id": "7175d6b1-640e-4c6c-bc2f-ece4643b3bde",
   "metadata": {},
   "source": [
    "As seen in the feature selection, the most important variables from permutation were. For credibility calculations these will be split.\n",
    "- attained age\n",
    "- duration\n",
    "- observation year (not statistically significant however)\n",
    "- class\n",
    "- faceband"
   ]
  },
  {
   "cell_type": "code",
   "execution_count": 151,
   "id": "c30966e8-1105-4b7f-a776-5bef25e3541a",
   "metadata": {},
   "outputs": [
    {
     "name": "stdout",
     "output_type": "stream",
     "text": [
      "\u001b[37m 2024-07-08 00:06:49 \u001b[0m|\u001b[37m morai.forecast.metrics \u001b[0m|\u001b[32m INFO     \u001b[0m|\u001b[32m loading results from C:\\Users\\johnk\\Desktop\\github\\morai\\files\\result\\model_results.json \u001b[0m\n",
      "\u001b[37m 2024-07-08 00:06:49 \u001b[0m|\u001b[37m morai.forecast.preprocessors \u001b[0m|\u001b[32m INFO     \u001b[0m|\u001b[32m model target: ['qx_raw'] \u001b[0m\n",
      "\u001b[37m 2024-07-08 00:06:49 \u001b[0m|\u001b[37m morai.forecast.preprocessors \u001b[0m|\u001b[32m INFO     \u001b[0m|\u001b[32m model weights: ['amount_exposed'] \u001b[0m\n",
      "\u001b[37m 2024-07-08 00:06:49 \u001b[0m|\u001b[37m morai.forecast.preprocessors \u001b[0m|\u001b[32m INFO     \u001b[0m|\u001b[32m adding a constant column to the data \u001b[0m\n",
      "\u001b[37m 2024-07-08 00:06:49 \u001b[0m|\u001b[37m morai.forecast.preprocessors \u001b[0m|\u001b[32m INFO     \u001b[0m|\u001b[32m passthrough - (generally numeric): ['duration', 'attained_age', 'observation_year', 'constant'] \u001b[0m\n",
      "\u001b[37m 2024-07-08 00:06:49 \u001b[0m|\u001b[37m morai.forecast.preprocessors \u001b[0m|\u001b[32m INFO     \u001b[0m|\u001b[32m ordinal - ordinal encoded: ['smoker_status', 'sex'] \u001b[0m\n",
      "\u001b[37m 2024-07-08 00:06:50 \u001b[0m|\u001b[37m morai.forecast.preprocessors \u001b[0m|\u001b[32m INFO     \u001b[0m|\u001b[32m nominal - one hot encoded (dropping first col): ['insurance_plan', 'binned_face', 'class_enh'] \u001b[0m\n",
      "\u001b[37m 2024-07-08 00:06:54 \u001b[0m|\u001b[37m __main__ \u001b[0m|\u001b[32m INFO     \u001b[0m|\u001b[32m loaded model 'glm'. type: <class 'statsmodels.genmod.generalized_linear_model.GLMResultsWrapper'> \u001b[0m\n"
     ]
    }
   ],
   "source": [
    "model_name = \"glm\"\n",
    "\n",
    "model_results = metrics.ModelResults(filepath='model_results.json')\n",
    "feature_dict = model_results.model[model_results.model[\"model_name\"] == model_name][\"feature_dict\"].iloc[0]\n",
    "\n",
    "preprocess_dict = preprocessors.preprocess_data(\n",
    "    grouped_df,\n",
    "    feature_dict=feature_dict,\n",
    "    standardize=False,\n",
    "    add_constant=True,\n",
    ")\n",
    "\n",
    "X = preprocess_dict[\"X\"]\n",
    "y = preprocess_dict[\"y\"]\n",
    "weights = preprocess_dict[\"weights\"]\n",
    "\n",
    "GLM = models.GLM()\n",
    "GLM.model = joblib.load(f\"files/models/{model_name}.joblib\")\n",
    "logger.info(f\"loaded model '{model_name}'. type: {type(GLM.model)}\")\n",
    "GLM.is_fitted_ = True"
   ]
  },
  {
   "cell_type": "code",
   "execution_count": 152,
   "id": "cf2ba5bc-5986-4760-837d-b485315f3282",
   "metadata": {},
   "outputs": [],
   "source": [
    "odds = GLM.get_odds()"
   ]
  },
  {
   "cell_type": "code",
   "execution_count": 156,
   "id": "419334a4-686e-4d27-a3a4-b805dcfe2cbf",
   "metadata": {},
   "outputs": [
    {
     "data": {
      "text/html": [
       "<div>\n",
       "<style scoped>\n",
       "    .dataframe tbody tr th:only-of-type {\n",
       "        vertical-align: middle;\n",
       "    }\n",
       "\n",
       "    .dataframe tbody tr th {\n",
       "        vertical-align: top;\n",
       "    }\n",
       "\n",
       "    .dataframe thead th {\n",
       "        text-align: right;\n",
       "    }\n",
       "</style>\n",
       "<table border=\"1\" class=\"dataframe\">\n",
       "  <thead>\n",
       "    <tr style=\"text-align: right;\">\n",
       "      <th></th>\n",
       "      <th>column</th>\n",
       "      <th>value</th>\n",
       "      <th>death_count</th>\n",
       "      <th>odds</th>\n",
       "    </tr>\n",
       "  </thead>\n",
       "  <tbody>\n",
       "    <tr>\n",
       "      <th>16</th>\n",
       "      <td>class_enh</td>\n",
       "      <td>4_1</td>\n",
       "      <td>2232</td>\n",
       "      <td>0.64</td>\n",
       "    </tr>\n",
       "    <tr>\n",
       "      <th>4</th>\n",
       "      <td>binned_face</td>\n",
       "      <td>05: 5,000,000+</td>\n",
       "      <td>341</td>\n",
       "      <td>0.66</td>\n",
       "    </tr>\n",
       "    <tr>\n",
       "      <th>3</th>\n",
       "      <td>binned_face</td>\n",
       "      <td>04: 250,000 - 4,999,999</td>\n",
       "      <td>17335</td>\n",
       "      <td>0.73</td>\n",
       "    </tr>\n",
       "    <tr>\n",
       "      <th>13</th>\n",
       "      <td>class_enh</td>\n",
       "      <td>3_1</td>\n",
       "      <td>2244</td>\n",
       "      <td>0.74</td>\n",
       "    </tr>\n",
       "    <tr>\n",
       "      <th>2</th>\n",
       "      <td>binned_face</td>\n",
       "      <td>03: 100,000 - 249,999</td>\n",
       "      <td>29853</td>\n",
       "      <td>0.77</td>\n",
       "    </tr>\n",
       "    <tr>\n",
       "      <th>17</th>\n",
       "      <td>class_enh</td>\n",
       "      <td>4_2</td>\n",
       "      <td>2235</td>\n",
       "      <td>0.79</td>\n",
       "    </tr>\n",
       "    <tr>\n",
       "      <th>14</th>\n",
       "      <td>class_enh</td>\n",
       "      <td>3_2</td>\n",
       "      <td>3192</td>\n",
       "      <td>0.80</td>\n",
       "    </tr>\n",
       "    <tr>\n",
       "      <th>1</th>\n",
       "      <td>binned_face</td>\n",
       "      <td>02: 25,000 - 99,999</td>\n",
       "      <td>54530</td>\n",
       "      <td>0.85</td>\n",
       "    </tr>\n",
       "    <tr>\n",
       "      <th>18</th>\n",
       "      <td>class_enh</td>\n",
       "      <td>4_3</td>\n",
       "      <td>1594</td>\n",
       "      <td>0.97</td>\n",
       "    </tr>\n",
       "    <tr>\n",
       "      <th>20</th>\n",
       "      <td>class_enh</td>\n",
       "      <td>NA_NA</td>\n",
       "      <td>105882</td>\n",
       "      <td>1.04</td>\n",
       "    </tr>\n",
       "    <tr>\n",
       "      <th>19</th>\n",
       "      <td>class_enh</td>\n",
       "      <td>4_4</td>\n",
       "      <td>1927</td>\n",
       "      <td>1.12</td>\n",
       "    </tr>\n",
       "    <tr>\n",
       "      <th>21</th>\n",
       "      <td>class_enh</td>\n",
       "      <td>U_U</td>\n",
       "      <td>1077</td>\n",
       "      <td>1.17</td>\n",
       "    </tr>\n",
       "    <tr>\n",
       "      <th>15</th>\n",
       "      <td>class_enh</td>\n",
       "      <td>3_3</td>\n",
       "      <td>6545</td>\n",
       "      <td>1.20</td>\n",
       "    </tr>\n",
       "    <tr>\n",
       "      <th>8</th>\n",
       "      <td>insurance_plan</td>\n",
       "      <td>ULSG</td>\n",
       "      <td>9498</td>\n",
       "      <td>1.21</td>\n",
       "    </tr>\n",
       "    <tr>\n",
       "      <th>9</th>\n",
       "      <td>insurance_plan</td>\n",
       "      <td>VL</td>\n",
       "      <td>6594</td>\n",
       "      <td>1.29</td>\n",
       "    </tr>\n",
       "    <tr>\n",
       "      <th>6</th>\n",
       "      <td>insurance_plan</td>\n",
       "      <td>Term</td>\n",
       "      <td>23139</td>\n",
       "      <td>1.31</td>\n",
       "    </tr>\n",
       "    <tr>\n",
       "      <th>12</th>\n",
       "      <td>class_enh</td>\n",
       "      <td>2_2</td>\n",
       "      <td>15852</td>\n",
       "      <td>1.31</td>\n",
       "    </tr>\n",
       "    <tr>\n",
       "      <th>7</th>\n",
       "      <td>insurance_plan</td>\n",
       "      <td>UL</td>\n",
       "      <td>39656</td>\n",
       "      <td>1.33</td>\n",
       "    </tr>\n",
       "    <tr>\n",
       "      <th>10</th>\n",
       "      <td>insurance_plan</td>\n",
       "      <td>VLSG</td>\n",
       "      <td>3150</td>\n",
       "      <td>1.34</td>\n",
       "    </tr>\n",
       "    <tr>\n",
       "      <th>0</th>\n",
       "      <td>binned_face</td>\n",
       "      <td>01: 0 - 24,999</td>\n",
       "      <td>48531</td>\n",
       "      <td>NaN</td>\n",
       "    </tr>\n",
       "    <tr>\n",
       "      <th>5</th>\n",
       "      <td>insurance_plan</td>\n",
       "      <td>Perm</td>\n",
       "      <td>68553</td>\n",
       "      <td>NaN</td>\n",
       "    </tr>\n",
       "    <tr>\n",
       "      <th>11</th>\n",
       "      <td>class_enh</td>\n",
       "      <td>2_1</td>\n",
       "      <td>7810</td>\n",
       "      <td>NaN</td>\n",
       "    </tr>\n",
       "  </tbody>\n",
       "</table>\n",
       "</div>"
      ],
      "text/plain": [
       "            column                    value  death_count  odds\n",
       "16       class_enh                      4_1         2232  0.64\n",
       "4      binned_face           05: 5,000,000+          341  0.66\n",
       "3      binned_face  04: 250,000 - 4,999,999        17335  0.73\n",
       "13       class_enh                      3_1         2244  0.74\n",
       "2      binned_face    03: 100,000 - 249,999        29853  0.77\n",
       "17       class_enh                      4_2         2235  0.79\n",
       "14       class_enh                      3_2         3192  0.80\n",
       "1      binned_face      02: 25,000 - 99,999        54530  0.85\n",
       "18       class_enh                      4_3         1594  0.97\n",
       "20       class_enh                    NA_NA       105882  1.04\n",
       "19       class_enh                      4_4         1927  1.12\n",
       "21       class_enh                      U_U         1077  1.17\n",
       "15       class_enh                      3_3         6545  1.20\n",
       "8   insurance_plan                     ULSG         9498  1.21\n",
       "9   insurance_plan                       VL         6594  1.29\n",
       "6   insurance_plan                     Term        23139  1.31\n",
       "12       class_enh                      2_2        15852  1.31\n",
       "7   insurance_plan                       UL        39656  1.33\n",
       "10  insurance_plan                     VLSG         3150  1.34\n",
       "0      binned_face           01: 0 - 24,999        48531   NaN\n",
       "5   insurance_plan                     Perm        68553   NaN\n",
       "11       class_enh                      2_1         7810   NaN"
      ]
     },
     "execution_count": 156,
     "metadata": {},
     "output_type": "execute_result"
    }
   ],
   "source": [
    "pivot_list = []\n",
    "for feature in feature_dict['ohe']:\n",
    "    pivot_df = grouped_df.pivot_table(values='death_count', index=feature, aggfunc='sum', observed=False).reset_index()\n",
    "    pivot_df['column'] = feature\n",
    "    pivot_df = pivot_df.rename(columns={feature: 'value'})\n",
    "    pivot_df = pivot_df[['column', 'value', 'death_count']]\n",
    "    pivot_df['odds'] = pivot_df.apply(lambda row: odds.get(f\"{feature}_{row['value']}\", None), axis=1)\n",
    "    pivot_list.append(pivot_df)\n",
    "result_df = pd.concat(pivot_list, ignore_index=True)\n",
    "result_df.sort_values(by='odds')"
   ]
  },
  {
   "cell_type": "code",
   "execution_count": null,
   "id": "f4942b68-7221-41e5-b50c-349fe1c24f75",
   "metadata": {
    "jupyter": {
     "source_hidden": true
    }
   },
   "outputs": [],
   "source": [
    "GLM.get_feature_contributions(X, y, weights=weights)"
   ]
  },
  {
   "cell_type": "markdown",
   "id": "4edad04f-f1eb-4c7a-9056-5aceaf92b38f",
   "metadata": {},
   "source": [
    "# Reload"
   ]
  },
  {
   "cell_type": "code",
   "execution_count": 14,
   "id": "88ab71f4-5454-4e62-b110-f0e303f5b684",
   "metadata": {},
   "outputs": [
    {
     "data": {
      "text/plain": [
       "<module 'morai.experience.tables' from 'C:\\\\Users\\\\johnk\\\\Desktop\\\\github\\\\morai\\\\morai\\\\experience\\\\tables.py'>"
      ]
     },
     "execution_count": 14,
     "metadata": {},
     "output_type": "execute_result"
    }
   ],
   "source": [
    "importlib.reload(tables)"
   ]
  },
  {
   "cell_type": "code",
   "execution_count": 37,
   "id": "26ea89bf-5e51-4398-9f2a-7e5b611114b6",
   "metadata": {},
   "outputs": [
    {
     "data": {
      "text/plain": [
       "<module 'morai.forecast.metrics' from 'C:\\\\Users\\\\johnk\\\\Desktop\\\\github\\\\morai\\\\morai\\\\forecast\\\\metrics.py'>"
      ]
     },
     "execution_count": 37,
     "metadata": {},
     "output_type": "execute_result"
    }
   ],
   "source": [
    "importlib.reload(metrics)"
   ]
  },
  {
   "cell_type": "markdown",
   "id": "60bd2799-9a66-4e5a-b1e8-f3168d9dd290",
   "metadata": {},
   "source": [
    "# Utilities"
   ]
  },
  {
   "cell_type": "code",
   "execution_count": 69,
   "id": "c92ef980-4682-44be-8a74-9a51b6c4525f",
   "metadata": {
    "scrolled": true
   },
   "outputs": [
    {
     "data": {
      "text/html": [
       "<div>\n",
       "<style scoped>\n",
       "    .dataframe tbody tr th:only-of-type {\n",
       "        vertical-align: middle;\n",
       "    }\n",
       "\n",
       "    .dataframe tbody tr th {\n",
       "        vertical-align: top;\n",
       "    }\n",
       "\n",
       "    .dataframe thead th {\n",
       "        text-align: right;\n",
       "    }\n",
       "</style>\n",
       "<table border=\"1\" class=\"dataframe\">\n",
       "  <thead>\n",
       "    <tr style=\"text-align: right;\">\n",
       "      <th></th>\n",
       "      <th>object</th>\n",
       "      <th>size_mb</th>\n",
       "    </tr>\n",
       "  </thead>\n",
       "  <tbody>\n",
       "    <tr>\n",
       "      <th>0</th>\n",
       "      <td>grouped_df</td>\n",
       "      <td>171.30</td>\n",
       "    </tr>\n",
       "    <tr>\n",
       "      <th>1</th>\n",
       "      <td>corr</td>\n",
       "      <td>0.00</td>\n",
       "    </tr>\n",
       "    <tr>\n",
       "      <th>2</th>\n",
       "      <td>nan_counts</td>\n",
       "      <td>0.00</td>\n",
       "    </tr>\n",
       "    <tr>\n",
       "      <th>3</th>\n",
       "      <td>desc</td>\n",
       "      <td>0.00</td>\n",
       "    </tr>\n",
       "    <tr>\n",
       "      <th>4</th>\n",
       "      <td>columns_needed</td>\n",
       "      <td>0.00</td>\n",
       "    </tr>\n",
       "    <tr>\n",
       "      <th>5</th>\n",
       "      <td>columns_not_needed</td>\n",
       "      <td>0.00</td>\n",
       "    </tr>\n",
       "    <tr>\n",
       "      <th>6</th>\n",
       "      <td>variables</td>\n",
       "      <td>0.00</td>\n",
       "    </tr>\n",
       "    <tr>\n",
       "      <th>7</th>\n",
       "      <td>pl_parquet_path</td>\n",
       "      <td>0.00</td>\n",
       "    </tr>\n",
       "    <tr>\n",
       "      <th>8</th>\n",
       "      <td>open</td>\n",
       "      <td>0.00</td>\n",
       "    </tr>\n",
       "    <tr>\n",
       "      <th>9</th>\n",
       "      <td>measures</td>\n",
       "      <td>0.00</td>\n",
       "    </tr>\n",
       "  </tbody>\n",
       "</table>\n",
       "</div>"
      ],
      "text/plain": [
       "               object  size_mb\n",
       "0          grouped_df   171.30\n",
       "1                corr     0.00\n",
       "2          nan_counts     0.00\n",
       "3                desc     0.00\n",
       "4      columns_needed     0.00\n",
       "5  columns_not_needed     0.00\n",
       "6           variables     0.00\n",
       "7     pl_parquet_path     0.00\n",
       "8                open     0.00\n",
       "9            measures     0.00"
      ]
     },
     "execution_count": 69,
     "metadata": {},
     "output_type": "execute_result"
    }
   ],
   "source": [
    "helpers.memory_usage_jupyter(globals=globals()).head(10)"
   ]
  }
 ],
 "metadata": {
  "kernelspec": {
   "display_name": "morai",
   "language": "python",
   "name": "morai"
  },
  "language_info": {
   "codemirror_mode": {
    "name": "ipython",
    "version": 3
   },
   "file_extension": ".py",
   "mimetype": "text/x-python",
   "name": "python",
   "nbconvert_exporter": "python",
   "pygments_lexer": "ipython3",
   "version": "3.9.19"
  },
  "toc-autonumbering": true
 },
 "nbformat": 4,
 "nbformat_minor": 5
}
