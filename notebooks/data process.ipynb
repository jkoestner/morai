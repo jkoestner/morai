version https://git-lfs.github.com/spec/v1
oid sha256:200e457b6acd6c7afc1a87bebb1f3d1c3830544db434c5cdb01bee8b0804ee3c
size 20402
