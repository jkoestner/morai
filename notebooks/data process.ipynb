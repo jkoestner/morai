version https://git-lfs.github.com/spec/v1
oid sha256:9560dd3fa350fdcbe3498c0a402e68800e173ed65cb33ac28a421673a371ec53
size 20405
