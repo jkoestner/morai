version https://git-lfs.github.com/spec/v1
oid sha256:27d4a4c7a2282ec2cf183e4cc2f859e411c5337507df3ba6327bd2ecc8542b8a
size 20403
