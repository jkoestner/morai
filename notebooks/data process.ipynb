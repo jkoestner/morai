version https://git-lfs.github.com/spec/v1
oid sha256:6187582c8a04fe79200206869ab4465fde2e22430f95f80ac61a3c8708013489
size 22680
