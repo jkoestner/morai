{
 "cells": [
  {
   "cell_type": "markdown",
   "id": "18a1b9b6-663e-42c4-a44f-522a61e41e96",
   "metadata": {},
   "source": [
    "# Categorical Data"
   ]
  },
  {
   "cell_type": "markdown",
   "id": "d245d557",
   "metadata": {},
   "source": [
    "There is a good website that explains the different methods of handling categorical data.\n",
    "\n",
    "https://www.kaggle.com/code/shahules/an-overview-of-encoding-techniques"
   ]
  },
  {
   "cell_type": "markdown",
   "id": "ebd160a9",
   "metadata": {},
   "source": [
    "There are currently 4 methods that the preprocessing module handles categorical data.\n",
    "- Passthrough\n",
    "- Ordinal (Label Encoding)\n",
    "- One Hot Encoding (OHE)\n",
    "- Target Encoding\n",
    "\n",
    "The following are not implemented yet.\n",
    "- Feature Hashing\n",
    "- Cyclical Encoding"
   ]
  },
  {
   "cell_type": "code",
   "execution_count": 1,
   "id": "59f89a8a-f18d-4dd6-a625-601e232d64cd",
   "metadata": {},
   "outputs": [],
   "source": [
    "import os\n",
    "import sys\n",
    "\n",
    "import pandas as pd\n",
    "\n",
    "os.chdir(\"../../\")\n",
    "sys.path.insert(0, os.getcwd())"
   ]
  },
  {
   "cell_type": "code",
   "execution_count": 2,
   "id": "8efe19d4-54f7-4c03-9143-553bb8515b56",
   "metadata": {},
   "outputs": [],
   "source": [
    "from morai.forecast import preprocessors"
   ]
  },
  {
   "cell_type": "markdown",
   "id": "549ce109-3904-47a5-ab38-b6820e3c10d0",
   "metadata": {},
   "source": [
    "We'll load the data into a `df` dataframe and then use the `sex` column to transform the feature"
   ]
  },
  {
   "cell_type": "code",
   "execution_count": 5,
   "id": "fa0d3ba1-9e18-481c-866d-77532fa6e864",
   "metadata": {},
   "outputs": [],
   "source": [
    "df = pd.read_csv(\"tests/files/experience/simple_experience.csv\")"
   ]
  },
  {
   "cell_type": "code",
   "execution_count": 6,
   "id": "28711b00-f560-4436-9f09-ecc97471f3a8",
   "metadata": {},
   "outputs": [
    {
     "data": {
      "text/html": [
       "<div>\n",
       "<style scoped>\n",
       "    .dataframe tbody tr th:only-of-type {\n",
       "        vertical-align: middle;\n",
       "    }\n",
       "\n",
       "    .dataframe tbody tr th {\n",
       "        vertical-align: top;\n",
       "    }\n",
       "\n",
       "    .dataframe thead th {\n",
       "        text-align: right;\n",
       "    }\n",
       "</style>\n",
       "<table border=\"1\" class=\"dataframe\">\n",
       "  <thead>\n",
       "    <tr style=\"text-align: right;\">\n",
       "      <th></th>\n",
       "      <th>sex</th>\n",
       "      <th>smoker_status</th>\n",
       "      <th>smoker_status_encode</th>\n",
       "      <th>rate</th>\n",
       "      <th>sex_rate</th>\n",
       "      <th>smoker_rate</th>\n",
       "      <th>exposed</th>\n",
       "      <th>expected</th>\n",
       "    </tr>\n",
       "  </thead>\n",
       "  <tbody>\n",
       "    <tr>\n",
       "      <th>0</th>\n",
       "      <td>F</td>\n",
       "      <td>NS</td>\n",
       "      <td>0</td>\n",
       "      <td>0.72</td>\n",
       "      <td>0.8</td>\n",
       "      <td>0.9</td>\n",
       "      <td>50</td>\n",
       "      <td>0.36</td>\n",
       "    </tr>\n",
       "    <tr>\n",
       "      <th>1</th>\n",
       "      <td>F</td>\n",
       "      <td>S</td>\n",
       "      <td>1</td>\n",
       "      <td>0.88</td>\n",
       "      <td>0.8</td>\n",
       "      <td>1.1</td>\n",
       "      <td>50</td>\n",
       "      <td>0.44</td>\n",
       "    </tr>\n",
       "    <tr>\n",
       "      <th>2</th>\n",
       "      <td>M</td>\n",
       "      <td>NS</td>\n",
       "      <td>0</td>\n",
       "      <td>1.08</td>\n",
       "      <td>1.2</td>\n",
       "      <td>0.9</td>\n",
       "      <td>100</td>\n",
       "      <td>1.08</td>\n",
       "    </tr>\n",
       "    <tr>\n",
       "      <th>3</th>\n",
       "      <td>M</td>\n",
       "      <td>S</td>\n",
       "      <td>1</td>\n",
       "      <td>1.32</td>\n",
       "      <td>1.2</td>\n",
       "      <td>1.1</td>\n",
       "      <td>100</td>\n",
       "      <td>1.32</td>\n",
       "    </tr>\n",
       "  </tbody>\n",
       "</table>\n",
       "</div>"
      ],
      "text/plain": [
       "  sex smoker_status  smoker_status_encode  rate  sex_rate  smoker_rate  \\\n",
       "0   F            NS                     0  0.72       0.8          0.9   \n",
       "1   F             S                     1  0.88       0.8          1.1   \n",
       "2   M            NS                     0  1.08       1.2          0.9   \n",
       "3   M             S                     1  1.32       1.2          1.1   \n",
       "\n",
       "   exposed  expected  \n",
       "0       50      0.36  \n",
       "1       50      0.44  \n",
       "2      100      1.08  \n",
       "3      100      1.32  "
      ]
     },
     "execution_count": 6,
     "metadata": {},
     "output_type": "execute_result"
    }
   ],
   "source": [
    "df.head()"
   ]
  },
  {
   "cell_type": "markdown",
   "id": "7141628d-b9b8-45ea-a015-fa38c518c444",
   "metadata": {},
   "source": [
    "## Passthrough"
   ]
  },
  {
   "cell_type": "code",
   "execution_count": 8,
   "id": "b0217f82-54c0-47e7-982f-0f54996f05dc",
   "metadata": {},
   "outputs": [
    {
     "name": "stdout",
     "output_type": "stream",
     "text": [
      "\u001b[37m 2024-05-15 22:43:22 \u001b[0m|\u001b[37m morai.forecast.preprocessors \u001b[0m|\u001b[32m INFO     \u001b[0m|\u001b[32m model target: ['rate'] \u001b[0m\n",
      "\u001b[37m 2024-05-15 22:43:22 \u001b[0m|\u001b[37m morai.forecast.preprocessors \u001b[0m|\u001b[32m INFO     \u001b[0m|\u001b[32m passthrough - (generally numeric): ['sex'] \u001b[0m\n"
     ]
    },
    {
     "data": {
      "text/html": [
       "<div>\n",
       "<style scoped>\n",
       "    .dataframe tbody tr th:only-of-type {\n",
       "        vertical-align: middle;\n",
       "    }\n",
       "\n",
       "    .dataframe tbody tr th {\n",
       "        vertical-align: top;\n",
       "    }\n",
       "\n",
       "    .dataframe thead th {\n",
       "        text-align: right;\n",
       "    }\n",
       "</style>\n",
       "<table border=\"1\" class=\"dataframe\">\n",
       "  <thead>\n",
       "    <tr style=\"text-align: right;\">\n",
       "      <th></th>\n",
       "      <th>sex</th>\n",
       "    </tr>\n",
       "  </thead>\n",
       "  <tbody>\n",
       "    <tr>\n",
       "      <th>0</th>\n",
       "      <td>F</td>\n",
       "    </tr>\n",
       "    <tr>\n",
       "      <th>1</th>\n",
       "      <td>F</td>\n",
       "    </tr>\n",
       "    <tr>\n",
       "      <th>2</th>\n",
       "      <td>M</td>\n",
       "    </tr>\n",
       "    <tr>\n",
       "      <th>3</th>\n",
       "      <td>M</td>\n",
       "    </tr>\n",
       "  </tbody>\n",
       "</table>\n",
       "</div>"
      ],
      "text/plain": [
       "  sex\n",
       "0   F\n",
       "1   F\n",
       "2   M\n",
       "3   M"
      ]
     },
     "execution_count": 8,
     "metadata": {},
     "output_type": "execute_result"
    }
   ],
   "source": [
    "preprocess_dict = preprocessors.preprocess_data(\n",
    "    df,\n",
    "    feature_dict={\n",
    "        \"target\": [\"rate\"],\n",
    "        \"weight\": [],\n",
    "        \"passthrough\": [\"sex\"],\n",
    "    },\n",
    "    standardize=False,\n",
    "    add_constant=False,\n",
    ")\n",
    "preprocess_dict[\"X\"]"
   ]
  },
  {
   "cell_type": "markdown",
   "id": "745723dc-6757-47d0-aa97-c29039ce995a",
   "metadata": {},
   "source": [
    "## Ordinal"
   ]
  },
  {
   "cell_type": "code",
   "execution_count": 9,
   "id": "1a0a312f-d5c7-4c4a-87ab-b12bbac84a82",
   "metadata": {},
   "outputs": [
    {
     "name": "stdout",
     "output_type": "stream",
     "text": [
      "\u001b[37m 2024-05-15 22:44:13 \u001b[0m|\u001b[37m morai.forecast.preprocessors \u001b[0m|\u001b[32m INFO     \u001b[0m|\u001b[32m model target: ['rate'] \u001b[0m\n",
      "\u001b[37m 2024-05-15 22:44:13 \u001b[0m|\u001b[37m morai.forecast.preprocessors \u001b[0m|\u001b[32m INFO     \u001b[0m|\u001b[32m ordinal - ordinal encoded: ['sex'] \u001b[0m\n"
     ]
    },
    {
     "data": {
      "text/html": [
       "<div>\n",
       "<style scoped>\n",
       "    .dataframe tbody tr th:only-of-type {\n",
       "        vertical-align: middle;\n",
       "    }\n",
       "\n",
       "    .dataframe tbody tr th {\n",
       "        vertical-align: top;\n",
       "    }\n",
       "\n",
       "    .dataframe thead th {\n",
       "        text-align: right;\n",
       "    }\n",
       "</style>\n",
       "<table border=\"1\" class=\"dataframe\">\n",
       "  <thead>\n",
       "    <tr style=\"text-align: right;\">\n",
       "      <th></th>\n",
       "      <th>sex</th>\n",
       "    </tr>\n",
       "  </thead>\n",
       "  <tbody>\n",
       "    <tr>\n",
       "      <th>0</th>\n",
       "      <td>0</td>\n",
       "    </tr>\n",
       "    <tr>\n",
       "      <th>1</th>\n",
       "      <td>0</td>\n",
       "    </tr>\n",
       "    <tr>\n",
       "      <th>2</th>\n",
       "      <td>1</td>\n",
       "    </tr>\n",
       "    <tr>\n",
       "      <th>3</th>\n",
       "      <td>1</td>\n",
       "    </tr>\n",
       "  </tbody>\n",
       "</table>\n",
       "</div>"
      ],
      "text/plain": [
       "   sex\n",
       "0    0\n",
       "1    0\n",
       "2    1\n",
       "3    1"
      ]
     },
     "execution_count": 9,
     "metadata": {},
     "output_type": "execute_result"
    }
   ],
   "source": [
    "preprocess_dict = preprocessors.preprocess_data(\n",
    "    df,\n",
    "    feature_dict={\n",
    "        \"target\": [\"rate\"],\n",
    "        \"weight\": [],\n",
    "        \"ordinal\": [\"sex\"],\n",
    "    },\n",
    "    standardize=False,\n",
    "    add_constant=False,\n",
    ")\n",
    "preprocess_dict[\"X\"]"
   ]
  },
  {
   "cell_type": "markdown",
   "id": "f7bed433-79c3-48f6-b845-47dc7def70c4",
   "metadata": {},
   "source": [
    "## OHE"
   ]
  },
  {
   "cell_type": "code",
   "execution_count": 10,
   "id": "32e9a17d-04e3-492d-b088-48995536b7c4",
   "metadata": {},
   "outputs": [
    {
     "name": "stdout",
     "output_type": "stream",
     "text": [
      "\u001b[37m 2024-05-15 22:44:26 \u001b[0m|\u001b[37m morai.forecast.preprocessors \u001b[0m|\u001b[32m INFO     \u001b[0m|\u001b[32m model target: ['rate'] \u001b[0m\n",
      "\u001b[37m 2024-05-15 22:44:26 \u001b[0m|\u001b[37m morai.forecast.preprocessors \u001b[0m|\u001b[32m INFO     \u001b[0m|\u001b[32m nominal - one hot encoded: ['sex'] \u001b[0m\n"
     ]
    },
    {
     "data": {
      "text/html": [
       "<div>\n",
       "<style scoped>\n",
       "    .dataframe tbody tr th:only-of-type {\n",
       "        vertical-align: middle;\n",
       "    }\n",
       "\n",
       "    .dataframe tbody tr th {\n",
       "        vertical-align: top;\n",
       "    }\n",
       "\n",
       "    .dataframe thead th {\n",
       "        text-align: right;\n",
       "    }\n",
       "</style>\n",
       "<table border=\"1\" class=\"dataframe\">\n",
       "  <thead>\n",
       "    <tr style=\"text-align: right;\">\n",
       "      <th></th>\n",
       "      <th>sex_F</th>\n",
       "      <th>sex_M</th>\n",
       "    </tr>\n",
       "  </thead>\n",
       "  <tbody>\n",
       "    <tr>\n",
       "      <th>0</th>\n",
       "      <td>1</td>\n",
       "      <td>0</td>\n",
       "    </tr>\n",
       "    <tr>\n",
       "      <th>1</th>\n",
       "      <td>1</td>\n",
       "      <td>0</td>\n",
       "    </tr>\n",
       "    <tr>\n",
       "      <th>2</th>\n",
       "      <td>0</td>\n",
       "      <td>1</td>\n",
       "    </tr>\n",
       "    <tr>\n",
       "      <th>3</th>\n",
       "      <td>0</td>\n",
       "      <td>1</td>\n",
       "    </tr>\n",
       "  </tbody>\n",
       "</table>\n",
       "</div>"
      ],
      "text/plain": [
       "   sex_F  sex_M\n",
       "0      1      0\n",
       "1      1      0\n",
       "2      0      1\n",
       "3      0      1"
      ]
     },
     "execution_count": 10,
     "metadata": {},
     "output_type": "execute_result"
    }
   ],
   "source": [
    "preprocess_dict = preprocessors.preprocess_data(\n",
    "    df,\n",
    "    feature_dict={\n",
    "        \"target\": [\"rate\"],\n",
    "        \"weight\": [],\n",
    "        \"ohe\": [\"sex\"],\n",
    "    },\n",
    "    standardize=False,\n",
    "    add_constant=False,\n",
    ")\n",
    "preprocess_dict[\"X\"]"
   ]
  },
  {
   "cell_type": "markdown",
   "id": "72e38e71-db1b-405f-936d-e4b2500c1b50",
   "metadata": {},
   "source": [
    "## Target (Nominal)"
   ]
  },
  {
   "cell_type": "code",
   "execution_count": 11,
   "id": "2dd4edf8-203e-4506-8d7f-e05e691c9188",
   "metadata": {},
   "outputs": [
    {
     "name": "stdout",
     "output_type": "stream",
     "text": [
      "\u001b[37m 2024-05-15 22:44:56 \u001b[0m|\u001b[37m morai.forecast.preprocessors \u001b[0m|\u001b[32m INFO     \u001b[0m|\u001b[32m model target: ['rate'] \u001b[0m\n",
      "\u001b[37m 2024-05-15 22:44:56 \u001b[0m|\u001b[37m morai.forecast.preprocessors \u001b[0m|\u001b[32m INFO     \u001b[0m|\u001b[32m nominal - weighted average of target encoded: ['sex'] \u001b[0m\n"
     ]
    },
    {
     "data": {
      "text/html": [
       "<div>\n",
       "<style scoped>\n",
       "    .dataframe tbody tr th:only-of-type {\n",
       "        vertical-align: middle;\n",
       "    }\n",
       "\n",
       "    .dataframe tbody tr th {\n",
       "        vertical-align: top;\n",
       "    }\n",
       "\n",
       "    .dataframe thead th {\n",
       "        text-align: right;\n",
       "    }\n",
       "</style>\n",
       "<table border=\"1\" class=\"dataframe\">\n",
       "  <thead>\n",
       "    <tr style=\"text-align: right;\">\n",
       "      <th></th>\n",
       "      <th>sex</th>\n",
       "    </tr>\n",
       "  </thead>\n",
       "  <tbody>\n",
       "    <tr>\n",
       "      <th>0</th>\n",
       "      <td>0.8</td>\n",
       "    </tr>\n",
       "    <tr>\n",
       "      <th>1</th>\n",
       "      <td>0.8</td>\n",
       "    </tr>\n",
       "    <tr>\n",
       "      <th>2</th>\n",
       "      <td>1.2</td>\n",
       "    </tr>\n",
       "    <tr>\n",
       "      <th>3</th>\n",
       "      <td>1.2</td>\n",
       "    </tr>\n",
       "  </tbody>\n",
       "</table>\n",
       "</div>"
      ],
      "text/plain": [
       "   sex\n",
       "0  0.8\n",
       "1  0.8\n",
       "2  1.2\n",
       "3  1.2"
      ]
     },
     "execution_count": 11,
     "metadata": {},
     "output_type": "execute_result"
    }
   ],
   "source": [
    "preprocess_dict = preprocessors.preprocess_data(\n",
    "    df,\n",
    "    feature_dict={\n",
    "        \"target\": [\"rate\"],\n",
    "        \"weight\": [],\n",
    "        \"nominal\": [\"sex\"],\n",
    "    },\n",
    "    standardize=False,\n",
    "    add_constant=False,\n",
    ")\n",
    "preprocess_dict[\"X\"]"
   ]
  }
 ],
 "metadata": {
  "kernelspec": {
   "display_name": "morai",
   "language": "python",
   "name": "morai"
  },
  "language_info": {
   "codemirror_mode": {
    "name": "ipython",
    "version": 3
   },
   "file_extension": ".py",
   "mimetype": "text/x-python",
   "name": "python",
   "nbconvert_exporter": "python",
   "pygments_lexer": "ipython3",
   "version": "3.9.19"
  },
  "toc-autonumbering": true
 },
 "nbformat": 4,
 "nbformat_minor": 5
}
