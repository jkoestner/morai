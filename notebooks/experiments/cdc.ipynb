{
 "cells": [
  {
   "cell_type": "markdown",
   "id": "5935d161-1b2e-434d-8549-0e6925ee9878",
   "metadata": {},
   "source": [
    "# CDC"
   ]
  },
  {
   "cell_type": "markdown",
   "id": "52dd7e2c-016f-4ab3-9caf-0872667c6132",
   "metadata": {},
   "source": [
    "https://wonder.cdc.gov/"
   ]
  },
  {
   "cell_type": "markdown",
   "id": "46f5f93b-05bb-42fc-b939-6b1590f1b06b",
   "metadata": {},
   "source": [
    "## Import"
   ]
  },
  {
   "cell_type": "code",
   "execution_count": 1,
   "id": "8aeed43f-4fc4-4a6b-a2aa-78fc4e157fbf",
   "metadata": {},
   "outputs": [],
   "source": [
    "import os\n",
    "import sys\n",
    "\n",
    "import numpy as np\n",
    "import pandas as pd\n",
    "import polars as pl\n",
    "from sklearn.linear_model import LinearRegression\n",
    "\n",
    "os.chdir(\"../../\")\n",
    "sys.path.insert(0, os.getcwd())"
   ]
  },
  {
   "cell_type": "code",
   "execution_count": 2,
   "id": "898a8feb-f241-4d9a-8d27-873cd899ae77",
   "metadata": {},
   "outputs": [],
   "source": [
    "from morai.experience import charters\n",
    "from morai.integrations import cdc\n",
    "from morai.utils import helpers, sql"
   ]
  },
  {
   "cell_type": "code",
   "execution_count": 3,
   "id": "8653900d-2bbd-42e5-be13-d1b57ca33c77",
   "metadata": {},
   "outputs": [],
   "source": [
    "pd.options.display.float_format = \"{:,.2f}\".format"
   ]
  },
  {
   "cell_type": "markdown",
   "id": "cd25f6ad-c3fd-479e-89f9-bdedcf7c5291",
   "metadata": {},
   "source": [
    "reference: https://github.com/alipphardt/cdc-wonder-api"
   ]
  },
  {
   "cell_type": "code",
   "execution_count": 4,
   "id": "01ea27c3-268a-4370-b522-ecd0c89f771c",
   "metadata": {},
   "outputs": [],
   "source": [
    "db_filepath = r\"files/integrations/cdc/cdc.sql\""
   ]
  },
  {
   "cell_type": "code",
   "execution_count": 5,
   "id": "4ca5bbac-c41f-46d7-98a4-4cd72c51da08",
   "metadata": {},
   "outputs": [
    {
     "data": {
      "text/plain": [
       "<module 'morai.utils.sql' from 'C:\\\\Users\\\\johnk\\\\Desktop\\\\github\\\\morai\\\\morai\\\\utils\\\\sql.py'>"
      ]
     },
     "execution_count": 5,
     "metadata": {},
     "output_type": "execute_result"
    }
   ],
   "source": [
    "import importlib\n",
    "\n",
    "importlib.reload(cdc)\n",
    "importlib.reload(sql)"
   ]
  },
  {
   "cell_type": "code",
   "execution_count": 55,
   "id": "1db7ddd0-45a6-4075-baf8-8f5fdf84ec44",
   "metadata": {},
   "outputs": [
    {
     "data": {
      "text/plain": [
       "['mcd99_check',\n",
       " 'mcd18_check',\n",
       " 'mi',\n",
       " 'test',\n",
       " 'mcd99_cod',\n",
       " 'mcd18_cod',\n",
       " 'mcd18_monthly']"
      ]
     },
     "execution_count": 55,
     "metadata": {},
     "output_type": "execute_result"
    }
   ],
   "source": [
    "tables = sql.get_tables(db_filepath=db_filepath)\n",
    "tables"
   ]
  },
  {
   "cell_type": "markdown",
   "id": "779e9c07-a826-4c9a-9b0d-1e910e71ecd7",
   "metadata": {},
   "source": [
    "## COD"
   ]
  },
  {
   "cell_type": "markdown",
   "id": "93100760-c811-484e-b1a8-6e93be34c1df",
   "metadata": {},
   "source": [
    "### CDC Query\n",
    "Querying the historical and provisional data"
   ]
  },
  {
   "cell_type": "code",
   "execution_count": 10,
   "id": "ad39d1b8-6b71-422d-adcd-3ff20e378e15",
   "metadata": {},
   "outputs": [],
   "source": [
    "df = cdc.get_cdc_data_xml(xml_filename=\"mcd99_cod.xml\")"
   ]
  },
  {
   "cell_type": "code",
   "execution_count": 11,
   "id": "ec86ddd9-adec-4736-be25-fb7323a3bc9c",
   "metadata": {},
   "outputs": [
    {
     "name": "stdout",
     "output_type": "stream",
     "text": [
      "\u001b[37m 2024-08-09 23:45:01 \u001b[0m|\u001b[37m morai.utils.sql \u001b[0m|\u001b[32m INFO     \u001b[0m|\u001b[32m replace data to SQLite database: `files/integrations/cdc/cdc.sql` and table: `mcd99_cod` \u001b[0m\n"
     ]
    }
   ],
   "source": [
    "sql.export_to_sql(\n",
    "    df=df,\n",
    "    db_filepath=db_filepath,\n",
    "    table_name=\"mcd99_cod\",\n",
    "    if_exists=\"replace\",\n",
    ")"
   ]
  },
  {
   "cell_type": "code",
   "execution_count": 12,
   "id": "f8da9e3f-8fb8-473b-9aad-311e30d5f618",
   "metadata": {},
   "outputs": [],
   "source": [
    "df = cdc.get_cdc_data_xml(xml_filename=\"mcd18_cod.xml\")"
   ]
  },
  {
   "cell_type": "code",
   "execution_count": 13,
   "id": "a1c387f7-dec9-4d8b-819a-3a3bd0d2945f",
   "metadata": {},
   "outputs": [
    {
     "name": "stdout",
     "output_type": "stream",
     "text": [
      "\u001b[37m 2024-08-09 23:45:06 \u001b[0m|\u001b[37m morai.utils.sql \u001b[0m|\u001b[32m INFO     \u001b[0m|\u001b[32m replace data to SQLite database: `files/integrations/cdc/cdc.sql` and table: `mcd18_cod` \u001b[0m\n"
     ]
    }
   ],
   "source": [
    "sql.export_to_sql(\n",
    "    df=df,\n",
    "    db_filepath=db_filepath,\n",
    "    table_name=\"mcd18_cod\",\n",
    "    if_exists=\"replace\",\n",
    ")"
   ]
  },
  {
   "cell_type": "markdown",
   "id": "814e4d5c-d085-4cf2-934a-8af320d4cf64",
   "metadata": {},
   "source": [
    "### SQL\n",
    "Load from SQL database"
   ]
  },
  {
   "cell_type": "code",
   "execution_count": 14,
   "id": "705e28ef-2be3-401a-afaa-04e6c98f8672",
   "metadata": {},
   "outputs": [
    {
     "name": "stdout",
     "output_type": "stream",
     "text": [
      "\u001b[37m 2024-08-09 23:45:10 \u001b[0m|\u001b[37m morai.integrations.cdc \u001b[0m|\u001b[32m INFO     \u001b[0m|\u001b[32m table `mcd99_cod` last updated at: 2024-08-09 23:45:01, rows: 3354 \u001b[0m\n"
     ]
    }
   ],
   "source": [
    "mcd99_cod = cdc.get_cdc_data_sql(db_filepath=db_filepath, table_name=\"mcd99_cod\")"
   ]
  },
  {
   "cell_type": "code",
   "execution_count": 15,
   "id": "047af8b0-9388-49f5-b7a2-7d1f1d9f707b",
   "metadata": {},
   "outputs": [
    {
     "name": "stdout",
     "output_type": "stream",
     "text": [
      "\u001b[37m 2024-08-09 23:45:11 \u001b[0m|\u001b[37m morai.integrations.cdc \u001b[0m|\u001b[32m INFO     \u001b[0m|\u001b[32m table `mcd18_cod` last updated at: 2024-08-09 23:45:06, rows: 1095 \u001b[0m\n"
     ]
    }
   ],
   "source": [
    "mcd18_cod = cdc.get_cdc_data_sql(db_filepath=db_filepath, table_name=\"mcd18_cod\")"
   ]
  },
  {
   "cell_type": "markdown",
   "id": "80933873-193c-40d6-8bee-4a4a86dabcc3",
   "metadata": {},
   "source": [
    "### Aggregate\n",
    "Aggregating the historical and provisional and mapping columns to more friendly names"
   ]
  },
  {
   "cell_type": "code",
   "execution_count": 16,
   "id": "56c82b93-527d-491e-8029-f69be6feaaf0",
   "metadata": {},
   "outputs": [],
   "source": [
    "# variable to map\n",
    "category_col = \"simple_grouping\""
   ]
  },
  {
   "cell_type": "code",
   "execution_count": 62,
   "id": "a36a90ca-2ced-4dfa-bdf8-8b1c58d48bdc",
   "metadata": {},
   "outputs": [],
   "source": [
    "# filter and concat\n",
    "mcd18_cod = mcd18_cod[mcd18_cod[\"year\"] >= 2021]\n",
    "cod_all = pd.concat([mcd99_cod, mcd18_cod], ignore_index=True)\n",
    "# cod_all = cod_all[(cod_all[\"year\"] != 2024)]"
   ]
  },
  {
   "cell_type": "code",
   "execution_count": 63,
   "id": "5b10bcc5-c1e8-4a9d-929f-f015f4c0c0fe",
   "metadata": {},
   "outputs": [
    {
     "name": "stdout",
     "output_type": "stream",
     "text": [
      "\u001b[37m 2024-08-13 23:12:27 \u001b[0m|\u001b[37m morai.integrations.cdc \u001b[0m|\u001b[32m INFO     \u001b[0m|\u001b[32m mapping reference column: simple_grouping \u001b[0m\n"
     ]
    }
   ],
   "source": [
    "# map the variable from reference\n",
    "cod_all = cdc.map_reference(\n",
    "    df=cod_all, col=category_col, on_dict={\"icd_-_sub-chapter\": \"wonder_sub_chapter\"}\n",
    ")"
   ]
  },
  {
   "cell_type": "code",
   "execution_count": 64,
   "id": "6abaf71d-f0a1-45c8-a757-47a48b6be34e",
   "metadata": {},
   "outputs": [],
   "source": [
    "# create totals column\n",
    "totals = cod_all.groupby(\"year\").sum(numeric_only=True).reset_index()\n",
    "totals[category_col] = \"total\"\n",
    "cod_all = pd.concat([cod_all, totals], ignore_index=True)"
   ]
  },
  {
   "cell_type": "code",
   "execution_count": 65,
   "id": "afdbc575-f5b8-4339-b53d-04d12694d397",
   "metadata": {},
   "outputs": [],
   "source": [
    "category_orders = charters.get_category_orders(\n",
    "    df=cod_all, category=category_col, measure=\"deaths\"\n",
    ")"
   ]
  },
  {
   "cell_type": "markdown",
   "id": "344bb0d1-f744-4bba-bb09-8f55e8aca9b2",
   "metadata": {},
   "source": [
    "### Predict"
   ]
  },
  {
   "cell_type": "code",
   "execution_count": 24,
   "id": "439e6594-d968-45f5-9724-73b74d33a83f",
   "metadata": {},
   "outputs": [],
   "source": [
    "# train the data based on year and the category using linear regression\n",
    "train_df = cod_all[(cod_all[\"year\"] >= 2015) & (cod_all[\"year\"] <= 2019)]\n",
    "train_df = train_df.groupby([\"year\", category_col])[\"deaths\"].sum().reset_index()"
   ]
  },
  {
   "cell_type": "code",
   "execution_count": 25,
   "id": "1647ffcd-55c7-463d-836f-46f9e643b6ff",
   "metadata": {},
   "outputs": [],
   "source": [
    "# create the models\n",
    "models = {}\n",
    "for cod in train_df[category_col].unique():\n",
    "    cod_subset = train_df[train_df[category_col] == cod]\n",
    "    X = (cod_subset[\"year\"] - 2015).values.reshape(-1, 1)\n",
    "    y = cod_subset[\"deaths\"].values\n",
    "    model = LinearRegression().fit(X, y)\n",
    "    models[cod] = {\n",
    "        \"model\": model,\n",
    "        \"coef\": model.coef_[0],\n",
    "        \"intercept\": model.intercept_,\n",
    "    }"
   ]
  },
  {
   "cell_type": "code",
   "execution_count": 26,
   "id": "071e05bb-a949-4e2c-91a6-d537d5021b34",
   "metadata": {},
   "outputs": [],
   "source": [
    "# make the predictions\n",
    "test_df = cod_all[(cod_all[\"year\"] >= 2020)]\n",
    "test_df = test_df.groupby([\"year\", category_col])[\"deaths\"].sum().reset_index()\n",
    "\n",
    "for cod, model in models.items():\n",
    "    mask = test_df[category_col] == cod\n",
    "    if mask.sum() > 0:\n",
    "        X = (test_df.loc[mask, \"year\"] - 2015).values.reshape(-1, 1)\n",
    "        test_df.loc[mask, \"pred\"] = model[\"model\"].predict(X)\n",
    "\n",
    "test_df[\"diff_abs\"] = test_df[\"deaths\"] - test_df[\"pred\"]\n",
    "test_df[\"diff_pct\"] = (test_df[\"deaths\"] - test_df[\"pred\"]) / test_df[\"pred\"]"
   ]
  },
  {
   "cell_type": "markdown",
   "id": "061b3d48-d7b0-41cc-9222-0ead71f028d7",
   "metadata": {},
   "source": [
    "### Chart"
   ]
  },
  {
   "cell_type": "code",
   "execution_count": 66,
   "id": "543c3ba0-b04d-4580-b4c1-1630b1c7d0df",
   "metadata": {},
   "outputs": [
    {
     "data": {
      "application/vnd.plotly.v1+json": {
       "config": {
        "plotlyServerURL": "https://plot.ly"
       },
       "data": [
        {
         "fillpattern": {
          "shape": ""
         },
         "hovertemplate": "simple_grouping=total<br>year=%{x}<br>deaths=%{y}<extra></extra>",
         "legendgroup": "total",
         "line": {
          "color": "#636efa"
         },
         "marker": {
          "symbol": "circle"
         },
         "mode": "lines",
         "name": "total",
         "orientation": "v",
         "showlegend": true,
         "stackgroup": "1",
         "type": "scatter",
         "x": [
          1999,
          2000,
          2001,
          2002,
          2003,
          2004,
          2005,
          2006,
          2007,
          2008,
          2009,
          2010,
          2011,
          2012,
          2013,
          2014,
          2015,
          2016,
          2017,
          2018,
          2019,
          2020,
          2021,
          2022,
          2023,
          2024
         ],
         "xaxis": "x",
         "y": [
          2391293,
          2403243,
          2416324,
          2443256,
          2448203,
          2397509,
          2447915,
          2426172,
          2423597,
          2471912,
          2437072,
          2468343,
          2515377,
          2543224,
          2596891,
          2626334,
          2712541,
          2744164,
          2813425,
          2839120,
          2854750,
          3383638,
          3464157,
          3279775,
          3090894,
          1691950
         ],
         "yaxis": "y"
        },
        {
         "fillpattern": {
          "shape": ""
         },
         "hovertemplate": "simple_grouping=circulatory<br>year=%{x}<br>deaths=%{y}<extra></extra>",
         "legendgroup": "circulatory",
         "line": {
          "color": "#EF553B"
         },
         "marker": {
          "symbol": "circle"
         },
         "mode": "lines",
         "name": "circulatory",
         "orientation": "v",
         "showlegend": true,
         "stackgroup": "1",
         "type": "scatter",
         "x": [
          1999,
          2000,
          2001,
          2002,
          2003,
          2004,
          2005,
          2006,
          2007,
          2008,
          2009,
          2010,
          2011,
          2012,
          2013,
          2014,
          2015,
          2016,
          2017,
          2018,
          2019,
          2020,
          2021,
          2022,
          2023,
          2024
         ],
         "xaxis": "x",
         "y": [
          954339,
          941526,
          926999,
          923339,
          907180,
          865863,
          860843,
          827741,
          810257,
          808525,
          784742,
          784454,
          783475,
          787431,
          800937,
          807775,
          836546,
          840678,
          859125,
          868662,
          874613,
          928741,
          931578,
          941652,
          915968,
          503812
         ],
         "yaxis": "y"
        },
        {
         "fillpattern": {
          "shape": ""
         },
         "hovertemplate": "simple_grouping=neoplasms<br>year=%{x}<br>deaths=%{y}<extra></extra>",
         "legendgroup": "neoplasms",
         "line": {
          "color": "#00cc96"
         },
         "marker": {
          "symbol": "circle"
         },
         "mode": "lines",
         "name": "neoplasms",
         "orientation": "v",
         "showlegend": true,
         "stackgroup": "1",
         "type": "scatter",
         "x": [
          1999,
          2000,
          2001,
          2002,
          2003,
          2004,
          2005,
          2006,
          2007,
          2008,
          2009,
          2010,
          2011,
          2012,
          2013,
          2014,
          2015,
          2016,
          2017,
          2018,
          2019,
          2020,
          2021,
          2022,
          2023,
          2024
         ],
         "xaxis": "x",
         "y": [
          563065,
          566637,
          567444,
          570570,
          570465,
          567460,
          573022,
          574010,
          577079,
          579939,
          582233,
          589660,
          591688,
          597679,
          600113,
          607739,
          612207,
          613832,
          614932,
          614914,
          615191,
          618579,
          621450,
          624405,
          629491,
          348181
         ],
         "yaxis": "y"
        },
        {
         "fillpattern": {
          "shape": ""
         },
         "hovertemplate": "simple_grouping=respiratory<br>year=%{x}<br>deaths=%{y}<extra></extra>",
         "legendgroup": "respiratory",
         "line": {
          "color": "#ab63fa"
         },
         "marker": {
          "symbol": "circle"
         },
         "mode": "lines",
         "name": "respiratory",
         "orientation": "v",
         "showlegend": true,
         "stackgroup": "1",
         "type": "scatter",
         "x": [
          1999,
          2000,
          2001,
          2002,
          2003,
          2004,
          2005,
          2006,
          2007,
          2008,
          2009,
          2010,
          2011,
          2012,
          2013,
          2014,
          2015,
          2016,
          2017,
          2018,
          2019,
          2020,
          2021,
          2022,
          2023,
          2024
         ],
         "xaxis": "x",
         "y": [
          229863,
          231079,
          230009,
          234629,
          235935,
          227093,
          239680,
          226661,
          227307,
          245099,
          238636,
          237433,
          248742,
          246311,
          261071,
          258333,
          271229,
          266037,
          278673,
          282641,
          271026,
          270506,
          250835,
          263381,
          261113,
          152040
         ],
         "yaxis": "y"
        },
        {
         "fillpattern": {
          "shape": ""
         },
         "hovertemplate": "simple_grouping=external<br>year=%{x}<br>deaths=%{y}<extra></extra>",
         "legendgroup": "external",
         "line": {
          "color": "#FFA15A"
         },
         "marker": {
          "symbol": "circle"
         },
         "mode": "lines",
         "name": "external",
         "orientation": "v",
         "showlegend": true,
         "stackgroup": "1",
         "type": "scatter",
         "x": [
          1999,
          2000,
          2001,
          2002,
          2003,
          2004,
          2005,
          2006,
          2007,
          2008,
          2009,
          2010,
          2011,
          2012,
          2013,
          2014,
          2015,
          2016,
          2017,
          2018,
          2019,
          2020,
          2021,
          2022,
          2023,
          2024
         ],
         "xaxis": "x",
         "y": [
          151109,
          151268,
          157173,
          164111,
          166857,
          170067,
          176406,
          181586,
          185076,
          183816,
          179770,
          183301,
          190048,
          192988,
          195710,
          202292,
          216689,
          235194,
          247496,
          245186,
          251350,
          283705,
          312137,
          311511,
          303901,
          25938
         ],
         "yaxis": "y"
        },
        {
         "fillpattern": {
          "shape": ""
         },
         "hovertemplate": "simple_grouping=nervous system<br>year=%{x}<br>deaths=%{y}<extra></extra>",
         "legendgroup": "nervous system",
         "line": {
          "color": "#19d3f3"
         },
         "marker": {
          "symbol": "circle"
         },
         "mode": "lines",
         "name": "nervous system",
         "orientation": "v",
         "showlegend": true,
         "stackgroup": "1",
         "type": "scatter",
         "x": [
          1999,
          2000,
          2001,
          2002,
          2003,
          2004,
          2005,
          2006,
          2007,
          2008,
          2009,
          2010,
          2011,
          2012,
          2013,
          2014,
          2015,
          2016,
          2017,
          2018,
          2019,
          2020,
          2021,
          2022,
          2023,
          2024
         ],
         "xaxis": "x",
         "y": [
          84077,
          91014,
          96524,
          103064,
          109640,
          111751,
          120713,
          122965,
          126997,
          136607,
          134168,
          141106,
          144920,
          146187,
          151784,
          165434,
          190512,
          202352,
          216353,
          224937,
          233715,
          262344,
          251546,
          264446,
          263619,
          151675
         ],
         "yaxis": "y"
        },
        {
         "fillpattern": {
          "shape": ""
         },
         "hovertemplate": "simple_grouping=metabolic<br>year=%{x}<br>deaths=%{y}<extra></extra>",
         "legendgroup": "metabolic",
         "line": {
          "color": "#FF6692"
         },
         "marker": {
          "symbol": "circle"
         },
         "mode": "lines",
         "name": "metabolic",
         "orientation": "v",
         "showlegend": true,
         "stackgroup": "1",
         "type": "scatter",
         "x": [
          1999,
          2000,
          2001,
          2002,
          2003,
          2004,
          2005,
          2006,
          2007,
          2008,
          2009,
          2010,
          2011,
          2012,
          2013,
          2014,
          2015,
          2016,
          2017,
          2018,
          2019,
          2020,
          2021,
          2022,
          2023,
          2024
         ],
         "xaxis": "x",
         "y": [
          92872,
          94345,
          96820,
          99458,
          100443,
          99042,
          103152,
          99204,
          99028,
          99326,
          97984,
          98891,
          105144,
          105926,
          109159,
          112738,
          118532,
          121258,
          127947,
          133156,
          140107,
          164128,
          171890,
          174196,
          169100,
          93582
         ],
         "yaxis": "y"
        },
        {
         "fillpattern": {
          "shape": ""
         },
         "hovertemplate": "simple_grouping=mental<br>year=%{x}<br>deaths=%{y}<extra></extra>",
         "legendgroup": "mental",
         "line": {
          "color": "#B6E880"
         },
         "marker": {
          "symbol": "circle"
         },
         "mode": "lines",
         "name": "mental",
         "orientation": "v",
         "showlegend": true,
         "stackgroup": "1",
         "type": "scatter",
         "x": [
          1999,
          2000,
          2001,
          2002,
          2003,
          2004,
          2005,
          2006,
          2007,
          2008,
          2009,
          2010,
          2011,
          2012,
          2013,
          2014,
          2015,
          2016,
          2017,
          2018,
          2019,
          2020,
          2021,
          2022,
          2023,
          2024
         ],
         "xaxis": "x",
         "y": [
          42114,
          46006,
          50803,
          55773,
          60052,
          61514,
          71456,
          91752,
          90268,
          104615,
          106232,
          120812,
          135941,
          147914,
          156405,
          151048,
          136651,
          132604,
          135768,
          135420,
          133953,
          148424,
          136339,
          138922,
          133073,
          71998
         ],
         "yaxis": "y"
        },
        {
         "fillpattern": {
          "shape": ""
         },
         "hovertemplate": "simple_grouping=digestive<br>year=%{x}<br>deaths=%{y}<extra></extra>",
         "legendgroup": "digestive",
         "line": {
          "color": "#FF97FF"
         },
         "marker": {
          "symbol": "circle"
         },
         "mode": "lines",
         "name": "digestive",
         "orientation": "v",
         "showlegend": true,
         "stackgroup": "1",
         "type": "scatter",
         "x": [
          1999,
          2000,
          2001,
          2002,
          2003,
          2004,
          2005,
          2006,
          2007,
          2008,
          2009,
          2010,
          2011,
          2012,
          2013,
          2014,
          2015,
          2016,
          2017,
          2018,
          2019,
          2020,
          2021,
          2022,
          2023,
          2024
         ],
         "xaxis": "x",
         "y": [
          82876,
          84015,
          85833,
          86710,
          87764,
          86337,
          87391,
          87607,
          89151,
          91097,
          89415,
          91314,
          94096,
          95284,
          98364,
          100975,
          104624,
          105916,
          107653,
          109780,
          112894,
          123940,
          133859,
          132739,
          128404,
          69596
         ],
         "yaxis": "y"
        },
        {
         "fillpattern": {
          "shape": ""
         },
         "hovertemplate": "simple_grouping=infectious<br>year=%{x}<br>deaths=%{y}<extra></extra>",
         "legendgroup": "infectious",
         "line": {
          "color": "#FECB52"
         },
         "marker": {
          "symbol": "circle"
         },
         "mode": "lines",
         "name": "infectious",
         "orientation": "v",
         "showlegend": true,
         "stackgroup": "1",
         "type": "scatter",
         "x": [
          1999,
          2000,
          2001,
          2002,
          2003,
          2004,
          2005,
          2006,
          2007,
          2008,
          2009,
          2010,
          2011,
          2012,
          2013,
          2014,
          2015,
          2016,
          2017,
          2018,
          2019,
          2020,
          2021,
          2022,
          2023,
          2024
         ],
         "xaxis": "x",
         "y": [
          59954,
          58988,
          60321,
          63965,
          64654,
          64609,
          66494,
          66984,
          66838,
          68423,
          69556,
          67577,
          68803,
          68403,
          70590,
          70408,
          72084,
          70046,
          69376,
          67957,
          64699,
          68308,
          68562,
          69937,
          69212,
          38014
         ],
         "yaxis": "y"
        },
        {
         "fillpattern": {
          "shape": ""
         },
         "hovertemplate": "simple_grouping=genitourinary<br>year=%{x}<br>deaths=%{y}<extra></extra>",
         "legendgroup": "genitourinary",
         "line": {
          "color": "#636efa"
         },
         "marker": {
          "symbol": "circle"
         },
         "mode": "lines",
         "name": "genitourinary",
         "orientation": "v",
         "showlegend": true,
         "stackgroup": "1",
         "type": "scatter",
         "x": [
          1999,
          2000,
          2001,
          2002,
          2003,
          2004,
          2005,
          2006,
          2007,
          2008,
          2009,
          2010,
          2011,
          2012,
          2013,
          2014,
          2015,
          2016,
          2017,
          2018,
          2019,
          2020,
          2021,
          2022,
          2023,
          2024
         ],
         "xaxis": "x",
         "y": [
          53127,
          54560,
          57026,
          58334,
          60081,
          60326,
          62773,
          63581,
          64743,
          63130,
          63538,
          65676,
          61592,
          62030,
          64085,
          66165,
          69373,
          70316,
          71453,
          72526,
          72871,
          76772,
          78968,
          80382,
          76889,
          42334
         ],
         "yaxis": "y"
        },
        {
         "fillpattern": {
          "shape": ""
         },
         "hovertemplate": "simple_grouping=special<br>year=%{x}<br>deaths=%{y}<extra></extra>",
         "legendgroup": "special",
         "line": {
          "color": "#EF553B"
         },
         "marker": {
          "symbol": "circle"
         },
         "mode": "lines",
         "name": "special",
         "orientation": "v",
         "showlegend": true,
         "stackgroup": "1",
         "type": "scatter",
         "x": [
          2001,
          2019,
          2020,
          2021,
          2022,
          2023,
          2024
         ],
         "xaxis": "x",
         "y": [
          2926,
          27,
          350921,
          416927,
          186579,
          49954,
          17938
         ],
         "yaxis": "y"
        },
        {
         "fillpattern": {
          "shape": ""
         },
         "hovertemplate": "simple_grouping=other<br>year=%{x}<br>deaths=%{y}<extra></extra>",
         "legendgroup": "other",
         "line": {
          "color": "#00cc96"
         },
         "marker": {
          "symbol": "circle"
         },
         "mode": "lines",
         "name": "other",
         "orientation": "v",
         "showlegend": true,
         "stackgroup": "1",
         "type": "scatter",
         "x": [
          1999,
          2000,
          2001,
          2002,
          2003,
          2004,
          2005,
          2006,
          2007,
          2008,
          2009,
          2010,
          2011,
          2012,
          2013,
          2014,
          2015,
          2016,
          2017,
          2018,
          2019,
          2020,
          2021,
          2022,
          2023,
          2024
         ],
         "xaxis": "x",
         "y": [
          26660,
          31865,
          32310,
          29962,
          31431,
          30119,
          31991,
          31710,
          33494,
          38514,
          39814,
          38353,
          40184,
          42050,
          37750,
          32233,
          32040,
          33373,
          32749,
          32529,
          32408,
          34098,
          34502,
          34110,
          33261,
          49309
         ],
         "yaxis": "y"
        },
        {
         "fillpattern": {
          "shape": ""
         },
         "hovertemplate": "simple_grouping=musculoskeletal<br>year=%{x}<br>deaths=%{y}<extra></extra>",
         "legendgroup": "musculoskeletal",
         "line": {
          "color": "#ab63fa"
         },
         "marker": {
          "symbol": "circle"
         },
         "mode": "lines",
         "name": "musculoskeletal",
         "orientation": "v",
         "showlegend": true,
         "stackgroup": "1",
         "type": "scatter",
         "x": [
          1999,
          2000,
          2001,
          2002,
          2003,
          2004,
          2005,
          2006,
          2007,
          2008,
          2009,
          2010,
          2011,
          2012,
          2013,
          2014,
          2015,
          2016,
          2017,
          2018,
          2019,
          2020,
          2021,
          2022,
          2023,
          2024
         ],
         "xaxis": "x",
         "y": [
          13340,
          13764,
          14053,
          14391,
          14480,
          14280,
          14414,
          13927,
          13909,
          13865,
          13322,
          13323,
          13693,
          13721,
          13526,
          13341,
          13665,
          13794,
          13836,
          13785,
          14548,
          15415,
          16234,
          16478,
          16690,
          9328
         ],
         "yaxis": "y"
        },
        {
         "fillpattern": {
          "shape": ""
         },
         "hovertemplate": "simple_grouping=perinatal<br>year=%{x}<br>deaths=%{y}<extra></extra>",
         "legendgroup": "perinatal",
         "line": {
          "color": "#FFA15A"
         },
         "marker": {
          "symbol": "circle"
         },
         "mode": "lines",
         "name": "perinatal",
         "orientation": "v",
         "showlegend": true,
         "stackgroup": "1",
         "type": "scatter",
         "x": [
          1999,
          2000,
          2001,
          2002,
          2003,
          2004,
          2005,
          2006,
          2007,
          2008,
          2009,
          2010,
          2011,
          2012,
          2013,
          2014,
          2015,
          2016,
          2017,
          2018,
          2019,
          2020,
          2021,
          2022,
          2023,
          2024
         ],
         "xaxis": "x",
         "y": [
          14259,
          14069,
          13887,
          14254,
          14378,
          14207,
          14549,
          14442,
          14599,
          13933,
          13116,
          12124,
          12036,
          11917,
          12076,
          11888,
          11709,
          11493,
          11108,
          10712,
          10412,
          9665,
          9579,
          10203,
          10001,
          4944
         ],
         "yaxis": "y"
        },
        {
         "fillpattern": {
          "shape": ""
         },
         "hovertemplate": "simple_grouping=blood<br>year=%{x}<br>deaths=%{y}<extra></extra>",
         "legendgroup": "blood",
         "line": {
          "color": "#19d3f3"
         },
         "marker": {
          "symbol": "circle"
         },
         "mode": "lines",
         "name": "blood",
         "orientation": "v",
         "showlegend": true,
         "stackgroup": "1",
         "type": "scatter",
         "x": [
          1999,
          2000,
          2001,
          2002,
          2003,
          2004,
          2005,
          2006,
          2007,
          2008,
          2009,
          2010,
          2011,
          2012,
          2013,
          2014,
          2015,
          2016,
          2017,
          2018,
          2019,
          2020,
          2021,
          2022,
          2023,
          2024
         ],
         "xaxis": "x",
         "y": [
          9067,
          9315,
          9535,
          9661,
          9585,
          9424,
          9591,
          8834,
          9745,
          9873,
          9644,
          9774,
          10158,
          10474,
          10216,
          10744,
          10699,
          10927,
          10790,
          10906,
          10815,
          11466,
          11947,
          12069,
          11948,
          6514
         ],
         "yaxis": "y"
        },
        {
         "fillpattern": {
          "shape": ""
         },
         "hovertemplate": "simple_grouping=malformations<br>year=%{x}<br>deaths=%{y}<extra></extra>",
         "legendgroup": "malformations",
         "line": {
          "color": "#FF6692"
         },
         "marker": {
          "symbol": "circle"
         },
         "mode": "lines",
         "name": "malformations",
         "orientation": "v",
         "showlegend": true,
         "stackgroup": "1",
         "type": "scatter",
         "x": [
          1999,
          2000,
          2001,
          2002,
          2003,
          2004,
          2005,
          2006,
          2007,
          2008,
          2009,
          2010,
          2011,
          2012,
          2013,
          2014,
          2015,
          2016,
          2017,
          2018,
          2019,
          2020,
          2021,
          2022,
          2023,
          2024
         ],
         "xaxis": "x",
         "y": [
          10384,
          10560,
          10430,
          10664,
          10512,
          10488,
          10389,
          10484,
          10404,
          10286,
          9867,
          9656,
          9687,
          9625,
          9573,
          9599,
          10004,
          10114,
          9890,
          9723,
          9697,
          9561,
          9652,
          10130,
          9915,
          5066
         ],
         "yaxis": "y"
        },
        {
         "fillpattern": {
          "shape": ""
         },
         "hovertemplate": "simple_grouping=skin<br>year=%{x}<br>deaths=%{y}<extra></extra>",
         "legendgroup": "skin",
         "line": {
          "color": "#B6E880"
         },
         "marker": {
          "symbol": "circle"
         },
         "mode": "lines",
         "name": "skin",
         "orientation": "v",
         "showlegend": true,
         "stackgroup": "1",
         "type": "scatter",
         "x": [
          1999,
          2000,
          2001,
          2002,
          2003,
          2004,
          2005,
          2006,
          2007,
          2008,
          2009,
          2010,
          2011,
          2012,
          2013,
          2014,
          2015,
          2016,
          2017,
          2018,
          2019,
          2020,
          2021,
          2022,
          2023,
          2024
         ],
         "xaxis": "x",
         "y": [
          3690,
          3744,
          3741,
          3931,
          4125,
          4179,
          4226,
          3857,
          3875,
          3975,
          4014,
          3986,
          4147,
          4191,
          4321,
          4455,
          4758,
          4923,
          4993,
          5207,
          5227,
          5686,
          6364,
          7268,
          7153,
          3768
         ],
         "yaxis": "y"
        },
        {
         "fillpattern": {
          "shape": ""
         },
         "hovertemplate": "simple_grouping=delay<br>year=%{x}<br>deaths=%{y}<extra></extra>",
         "legendgroup": "delay",
         "line": {
          "color": "#FF97FF"
         },
         "marker": {
          "symbol": "circle"
         },
         "mode": "lines",
         "name": "delay",
         "orientation": "v",
         "showlegend": true,
         "stackgroup": "1",
         "type": "scatter",
         "x": [
          2024
         ],
         "xaxis": "x",
         "y": [
          97274
         ],
         "yaxis": "y"
        },
        {
         "fillpattern": {
          "shape": ""
         },
         "hovertemplate": "simple_grouping=pregnancy<br>year=%{x}<br>deaths=%{y}<extra></extra>",
         "legendgroup": "pregnancy",
         "line": {
          "color": "#FECB52"
         },
         "marker": {
          "symbol": "circle"
         },
         "mode": "lines",
         "name": "pregnancy",
         "orientation": "v",
         "showlegend": true,
         "stackgroup": "1",
         "type": "scatter",
         "x": [
          1999,
          2000,
          2001,
          2002,
          2003,
          2004,
          2005,
          2006,
          2007,
          2008,
          2009,
          2010,
          2011,
          2012,
          2013,
          2014,
          2015,
          2016,
          2017,
          2018,
          2019,
          2020,
          2021,
          2022,
          2023,
          2024
         ],
         "xaxis": "x",
         "y": [
          406,
          404,
          416,
          379,
          545,
          697,
          760,
          760,
          769,
          795,
          960,
          825,
          931,
          990,
          1138,
          1123,
          1140,
          1231,
          1208,
          973,
          1103,
          1288,
          1687,
          1263,
          1054,
          587
         ],
         "yaxis": "y"
        },
        {
         "fillpattern": {
          "shape": ""
         },
         "hovertemplate": "simple_grouping=ear<br>year=%{x}<br>deaths=%{y}<extra></extra>",
         "legendgroup": "ear",
         "line": {
          "color": "#636efa"
         },
         "marker": {
          "symbol": "circle"
         },
         "mode": "lines",
         "name": "ear",
         "orientation": "v",
         "showlegend": true,
         "stackgroup": "1",
         "type": "scatter",
         "x": [
          1999,
          2000,
          2001,
          2002,
          2003,
          2004,
          2005,
          2006,
          2007,
          2008,
          2009,
          2010,
          2011,
          2012,
          2013,
          2014,
          2015,
          2016,
          2017,
          2018,
          2019,
          2020,
          2021,
          2022,
          2023,
          2024
         ],
         "xaxis": "x",
         "y": [
          70,
          58,
          61,
          61,
          63,
          53,
          53,
          55,
          58,
          74,
          48,
          53,
          66,
          52,
          63,
          44,
          66,
          65,
          65,
          70,
          79,
          76,
          74,
          89,
          110,
          52
         ],
         "yaxis": "y"
        },
        {
         "fillpattern": {
          "shape": ""
         },
         "hovertemplate": "simple_grouping=eye<br>year=%{x}<br>deaths=%{y}<extra></extra>",
         "legendgroup": "eye",
         "line": {
          "color": "#EF553B"
         },
         "marker": {
          "symbol": "circle"
         },
         "mode": "lines",
         "name": "eye",
         "orientation": "v",
         "showlegend": true,
         "stackgroup": "1",
         "type": "scatter",
         "x": [
          1999,
          2000,
          2001,
          2003,
          2005,
          2006,
          2008,
          2009,
          2010,
          2011,
          2012,
          2013,
          2015,
          2016,
          2017,
          2018,
          2019,
          2020,
          2021,
          2022,
          2023
         ],
         "xaxis": "x",
         "y": [
          21,
          26,
          13,
          13,
          12,
          12,
          20,
          13,
          25,
          26,
          51,
          10,
          13,
          11,
          10,
          36,
          15,
          15,
          27,
          15,
          38
         ],
         "yaxis": "y"
        }
       ],
       "layout": {
        "autosize": true,
        "legend": {
         "title": {
          "text": "simple_grouping"
         },
         "tracegroupgap": 0
        },
        "template": {
         "data": {
          "bar": [
           {
            "error_x": {
             "color": "#2a3f5f"
            },
            "error_y": {
             "color": "#2a3f5f"
            },
            "marker": {
             "line": {
              "color": "#E5ECF6",
              "width": 0.5
             },
             "pattern": {
              "fillmode": "overlay",
              "size": 10,
              "solidity": 0.2
             }
            },
            "type": "bar"
           }
          ],
          "barpolar": [
           {
            "marker": {
             "line": {
              "color": "#E5ECF6",
              "width": 0.5
             },
             "pattern": {
              "fillmode": "overlay",
              "size": 10,
              "solidity": 0.2
             }
            },
            "type": "barpolar"
           }
          ],
          "carpet": [
           {
            "aaxis": {
             "endlinecolor": "#2a3f5f",
             "gridcolor": "white",
             "linecolor": "white",
             "minorgridcolor": "white",
             "startlinecolor": "#2a3f5f"
            },
            "baxis": {
             "endlinecolor": "#2a3f5f",
             "gridcolor": "white",
             "linecolor": "white",
             "minorgridcolor": "white",
             "startlinecolor": "#2a3f5f"
            },
            "type": "carpet"
           }
          ],
          "choropleth": [
           {
            "colorbar": {
             "outlinewidth": 0,
             "ticks": ""
            },
            "type": "choropleth"
           }
          ],
          "contour": [
           {
            "colorbar": {
             "outlinewidth": 0,
             "ticks": ""
            },
            "colorscale": [
             [
              0,
              "#0d0887"
             ],
             [
              0.1111111111111111,
              "#46039f"
             ],
             [
              0.2222222222222222,
              "#7201a8"
             ],
             [
              0.3333333333333333,
              "#9c179e"
             ],
             [
              0.4444444444444444,
              "#bd3786"
             ],
             [
              0.5555555555555556,
              "#d8576b"
             ],
             [
              0.6666666666666666,
              "#ed7953"
             ],
             [
              0.7777777777777778,
              "#fb9f3a"
             ],
             [
              0.8888888888888888,
              "#fdca26"
             ],
             [
              1,
              "#f0f921"
             ]
            ],
            "type": "contour"
           }
          ],
          "contourcarpet": [
           {
            "colorbar": {
             "outlinewidth": 0,
             "ticks": ""
            },
            "type": "contourcarpet"
           }
          ],
          "heatmap": [
           {
            "colorbar": {
             "outlinewidth": 0,
             "ticks": ""
            },
            "colorscale": [
             [
              0,
              "#0d0887"
             ],
             [
              0.1111111111111111,
              "#46039f"
             ],
             [
              0.2222222222222222,
              "#7201a8"
             ],
             [
              0.3333333333333333,
              "#9c179e"
             ],
             [
              0.4444444444444444,
              "#bd3786"
             ],
             [
              0.5555555555555556,
              "#d8576b"
             ],
             [
              0.6666666666666666,
              "#ed7953"
             ],
             [
              0.7777777777777778,
              "#fb9f3a"
             ],
             [
              0.8888888888888888,
              "#fdca26"
             ],
             [
              1,
              "#f0f921"
             ]
            ],
            "type": "heatmap"
           }
          ],
          "heatmapgl": [
           {
            "colorbar": {
             "outlinewidth": 0,
             "ticks": ""
            },
            "colorscale": [
             [
              0,
              "#0d0887"
             ],
             [
              0.1111111111111111,
              "#46039f"
             ],
             [
              0.2222222222222222,
              "#7201a8"
             ],
             [
              0.3333333333333333,
              "#9c179e"
             ],
             [
              0.4444444444444444,
              "#bd3786"
             ],
             [
              0.5555555555555556,
              "#d8576b"
             ],
             [
              0.6666666666666666,
              "#ed7953"
             ],
             [
              0.7777777777777778,
              "#fb9f3a"
             ],
             [
              0.8888888888888888,
              "#fdca26"
             ],
             [
              1,
              "#f0f921"
             ]
            ],
            "type": "heatmapgl"
           }
          ],
          "histogram": [
           {
            "marker": {
             "pattern": {
              "fillmode": "overlay",
              "size": 10,
              "solidity": 0.2
             }
            },
            "type": "histogram"
           }
          ],
          "histogram2d": [
           {
            "colorbar": {
             "outlinewidth": 0,
             "ticks": ""
            },
            "colorscale": [
             [
              0,
              "#0d0887"
             ],
             [
              0.1111111111111111,
              "#46039f"
             ],
             [
              0.2222222222222222,
              "#7201a8"
             ],
             [
              0.3333333333333333,
              "#9c179e"
             ],
             [
              0.4444444444444444,
              "#bd3786"
             ],
             [
              0.5555555555555556,
              "#d8576b"
             ],
             [
              0.6666666666666666,
              "#ed7953"
             ],
             [
              0.7777777777777778,
              "#fb9f3a"
             ],
             [
              0.8888888888888888,
              "#fdca26"
             ],
             [
              1,
              "#f0f921"
             ]
            ],
            "type": "histogram2d"
           }
          ],
          "histogram2dcontour": [
           {
            "colorbar": {
             "outlinewidth": 0,
             "ticks": ""
            },
            "colorscale": [
             [
              0,
              "#0d0887"
             ],
             [
              0.1111111111111111,
              "#46039f"
             ],
             [
              0.2222222222222222,
              "#7201a8"
             ],
             [
              0.3333333333333333,
              "#9c179e"
             ],
             [
              0.4444444444444444,
              "#bd3786"
             ],
             [
              0.5555555555555556,
              "#d8576b"
             ],
             [
              0.6666666666666666,
              "#ed7953"
             ],
             [
              0.7777777777777778,
              "#fb9f3a"
             ],
             [
              0.8888888888888888,
              "#fdca26"
             ],
             [
              1,
              "#f0f921"
             ]
            ],
            "type": "histogram2dcontour"
           }
          ],
          "mesh3d": [
           {
            "colorbar": {
             "outlinewidth": 0,
             "ticks": ""
            },
            "type": "mesh3d"
           }
          ],
          "parcoords": [
           {
            "line": {
             "colorbar": {
              "outlinewidth": 0,
              "ticks": ""
             }
            },
            "type": "parcoords"
           }
          ],
          "pie": [
           {
            "automargin": true,
            "type": "pie"
           }
          ],
          "scatter": [
           {
            "fillpattern": {
             "fillmode": "overlay",
             "size": 10,
             "solidity": 0.2
            },
            "type": "scatter"
           }
          ],
          "scatter3d": [
           {
            "line": {
             "colorbar": {
              "outlinewidth": 0,
              "ticks": ""
             }
            },
            "marker": {
             "colorbar": {
              "outlinewidth": 0,
              "ticks": ""
             }
            },
            "type": "scatter3d"
           }
          ],
          "scattercarpet": [
           {
            "marker": {
             "colorbar": {
              "outlinewidth": 0,
              "ticks": ""
             }
            },
            "type": "scattercarpet"
           }
          ],
          "scattergeo": [
           {
            "marker": {
             "colorbar": {
              "outlinewidth": 0,
              "ticks": ""
             }
            },
            "type": "scattergeo"
           }
          ],
          "scattergl": [
           {
            "marker": {
             "colorbar": {
              "outlinewidth": 0,
              "ticks": ""
             }
            },
            "type": "scattergl"
           }
          ],
          "scattermapbox": [
           {
            "marker": {
             "colorbar": {
              "outlinewidth": 0,
              "ticks": ""
             }
            },
            "type": "scattermapbox"
           }
          ],
          "scatterpolar": [
           {
            "marker": {
             "colorbar": {
              "outlinewidth": 0,
              "ticks": ""
             }
            },
            "type": "scatterpolar"
           }
          ],
          "scatterpolargl": [
           {
            "marker": {
             "colorbar": {
              "outlinewidth": 0,
              "ticks": ""
             }
            },
            "type": "scatterpolargl"
           }
          ],
          "scatterternary": [
           {
            "marker": {
             "colorbar": {
              "outlinewidth": 0,
              "ticks": ""
             }
            },
            "type": "scatterternary"
           }
          ],
          "surface": [
           {
            "colorbar": {
             "outlinewidth": 0,
             "ticks": ""
            },
            "colorscale": [
             [
              0,
              "#0d0887"
             ],
             [
              0.1111111111111111,
              "#46039f"
             ],
             [
              0.2222222222222222,
              "#7201a8"
             ],
             [
              0.3333333333333333,
              "#9c179e"
             ],
             [
              0.4444444444444444,
              "#bd3786"
             ],
             [
              0.5555555555555556,
              "#d8576b"
             ],
             [
              0.6666666666666666,
              "#ed7953"
             ],
             [
              0.7777777777777778,
              "#fb9f3a"
             ],
             [
              0.8888888888888888,
              "#fdca26"
             ],
             [
              1,
              "#f0f921"
             ]
            ],
            "type": "surface"
           }
          ],
          "table": [
           {
            "cells": {
             "fill": {
              "color": "#EBF0F8"
             },
             "line": {
              "color": "white"
             }
            },
            "header": {
             "fill": {
              "color": "#C8D4E3"
             },
             "line": {
              "color": "white"
             }
            },
            "type": "table"
           }
          ]
         },
         "layout": {
          "annotationdefaults": {
           "arrowcolor": "#2a3f5f",
           "arrowhead": 0,
           "arrowwidth": 1
          },
          "autotypenumbers": "strict",
          "coloraxis": {
           "colorbar": {
            "outlinewidth": 0,
            "ticks": ""
           }
          },
          "colorscale": {
           "diverging": [
            [
             0,
             "#8e0152"
            ],
            [
             0.1,
             "#c51b7d"
            ],
            [
             0.2,
             "#de77ae"
            ],
            [
             0.3,
             "#f1b6da"
            ],
            [
             0.4,
             "#fde0ef"
            ],
            [
             0.5,
             "#f7f7f7"
            ],
            [
             0.6,
             "#e6f5d0"
            ],
            [
             0.7,
             "#b8e186"
            ],
            [
             0.8,
             "#7fbc41"
            ],
            [
             0.9,
             "#4d9221"
            ],
            [
             1,
             "#276419"
            ]
           ],
           "sequential": [
            [
             0,
             "#0d0887"
            ],
            [
             0.1111111111111111,
             "#46039f"
            ],
            [
             0.2222222222222222,
             "#7201a8"
            ],
            [
             0.3333333333333333,
             "#9c179e"
            ],
            [
             0.4444444444444444,
             "#bd3786"
            ],
            [
             0.5555555555555556,
             "#d8576b"
            ],
            [
             0.6666666666666666,
             "#ed7953"
            ],
            [
             0.7777777777777778,
             "#fb9f3a"
            ],
            [
             0.8888888888888888,
             "#fdca26"
            ],
            [
             1,
             "#f0f921"
            ]
           ],
           "sequentialminus": [
            [
             0,
             "#0d0887"
            ],
            [
             0.1111111111111111,
             "#46039f"
            ],
            [
             0.2222222222222222,
             "#7201a8"
            ],
            [
             0.3333333333333333,
             "#9c179e"
            ],
            [
             0.4444444444444444,
             "#bd3786"
            ],
            [
             0.5555555555555556,
             "#d8576b"
            ],
            [
             0.6666666666666666,
             "#ed7953"
            ],
            [
             0.7777777777777778,
             "#fb9f3a"
            ],
            [
             0.8888888888888888,
             "#fdca26"
            ],
            [
             1,
             "#f0f921"
            ]
           ]
          },
          "colorway": [
           "#636efa",
           "#EF553B",
           "#00cc96",
           "#ab63fa",
           "#FFA15A",
           "#19d3f3",
           "#FF6692",
           "#B6E880",
           "#FF97FF",
           "#FECB52"
          ],
          "font": {
           "color": "#2a3f5f"
          },
          "geo": {
           "bgcolor": "white",
           "lakecolor": "white",
           "landcolor": "#E5ECF6",
           "showlakes": true,
           "showland": true,
           "subunitcolor": "white"
          },
          "hoverlabel": {
           "align": "left"
          },
          "hovermode": "closest",
          "mapbox": {
           "style": "light"
          },
          "paper_bgcolor": "white",
          "plot_bgcolor": "#E5ECF6",
          "polar": {
           "angularaxis": {
            "gridcolor": "white",
            "linecolor": "white",
            "ticks": ""
           },
           "bgcolor": "#E5ECF6",
           "radialaxis": {
            "gridcolor": "white",
            "linecolor": "white",
            "ticks": ""
           }
          },
          "scene": {
           "xaxis": {
            "backgroundcolor": "#E5ECF6",
            "gridcolor": "white",
            "gridwidth": 2,
            "linecolor": "white",
            "showbackground": true,
            "ticks": "",
            "zerolinecolor": "white"
           },
           "yaxis": {
            "backgroundcolor": "#E5ECF6",
            "gridcolor": "white",
            "gridwidth": 2,
            "linecolor": "white",
            "showbackground": true,
            "ticks": "",
            "zerolinecolor": "white"
           },
           "zaxis": {
            "backgroundcolor": "#E5ECF6",
            "gridcolor": "white",
            "gridwidth": 2,
            "linecolor": "white",
            "showbackground": true,
            "ticks": "",
            "zerolinecolor": "white"
           }
          },
          "shapedefaults": {
           "line": {
            "color": "#2a3f5f"
           }
          },
          "ternary": {
           "aaxis": {
            "gridcolor": "white",
            "linecolor": "white",
            "ticks": ""
           },
           "baxis": {
            "gridcolor": "white",
            "linecolor": "white",
            "ticks": ""
           },
           "bgcolor": "#E5ECF6",
           "caxis": {
            "gridcolor": "white",
            "linecolor": "white",
            "ticks": ""
           }
          },
          "title": {
           "x": 0.05
          },
          "xaxis": {
           "automargin": true,
           "gridcolor": "white",
           "linecolor": "white",
           "ticks": "",
           "title": {
            "standoff": 15
           },
           "zerolinecolor": "white",
           "zerolinewidth": 2
          },
          "yaxis": {
           "automargin": true,
           "gridcolor": "white",
           "linecolor": "white",
           "ticks": "",
           "title": {
            "standoff": 15
           },
           "zerolinecolor": "white",
           "zerolinewidth": 2
          }
         }
        },
        "title": {
         "text": "'deaths' by 'year' and 'simple_grouping'"
        },
        "xaxis": {
         "anchor": "y",
         "autorange": true,
         "domain": [
          0,
          1
         ],
         "range": [
          1999,
          2024
         ],
         "title": {
          "text": "year"
         },
         "type": "linear"
        },
        "yaxis": {
         "anchor": "x",
         "autorange": true,
         "domain": [
          0,
          1
         ],
         "range": [
          0,
          7292962.105263158
         ],
         "title": {
          "text": "deaths"
         },
         "type": "linear"
        }
       }
      },
      "image/png": "[encoded data removed]",
      "text/html": [
       "<div>                            <div id=\"7e8cf720-1fd8-4e40-8b24-5837b0c9da6c\" class=\"plotly-graph-div\" style=\"height:525px; width:100%;\"></div>            <script type=\"text/javascript\">                require([\"plotly\"], function(Plotly) {                    window.PLOTLYENV=window.PLOTLYENV || {};                                    if (document.getElementById(\"7e8cf720-1fd8-4e40-8b24-5837b0c9da6c\")) {                    Plotly.newPlot(                        \"7e8cf720-1fd8-4e40-8b24-5837b0c9da6c\",                        [{\"fillpattern\":{\"shape\":\"\"},\"hovertemplate\":\"simple_grouping=total\\u003cbr\\u003eyear=%{x}\\u003cbr\\u003edeaths=%{y}\\u003cextra\\u003e\\u003c\\u002fextra\\u003e\",\"legendgroup\":\"total\",\"line\":{\"color\":\"#636efa\"},\"marker\":{\"symbol\":\"circle\"},\"mode\":\"lines\",\"name\":\"total\",\"orientation\":\"v\",\"showlegend\":true,\"stackgroup\":\"1\",\"x\":[1999,2000,2001,2002,2003,2004,2005,2006,2007,2008,2009,2010,2011,2012,2013,2014,2015,2016,2017,2018,2019,2020,2021,2022,2023,2024],\"xaxis\":\"x\",\"y\":[2391293,2403243,2416324,2443256,2448203,2397509,2447915,2426172,2423597,2471912,2437072,2468343,2515377,2543224,2596891,2626334,2712541,2744164,2813425,2839120,2854750,3383638,3464157,3279775,3090894,1691950],\"yaxis\":\"y\",\"type\":\"scatter\"},{\"fillpattern\":{\"shape\":\"\"},\"hovertemplate\":\"simple_grouping=circulatory\\u003cbr\\u003eyear=%{x}\\u003cbr\\u003edeaths=%{y}\\u003cextra\\u003e\\u003c\\u002fextra\\u003e\",\"legendgroup\":\"circulatory\",\"line\":{\"color\":\"#EF553B\"},\"marker\":{\"symbol\":\"circle\"},\"mode\":\"lines\",\"name\":\"circulatory\",\"orientation\":\"v\",\"showlegend\":true,\"stackgroup\":\"1\",\"x\":[1999,2000,2001,2002,2003,2004,2005,2006,2007,2008,2009,2010,2011,2012,2013,2014,2015,2016,2017,2018,2019,2020,2021,2022,2023,2024],\"xaxis\":\"x\",\"y\":[954339,941526,926999,923339,907180,865863,860843,827741,810257,808525,784742,784454,783475,787431,800937,807775,836546,840678,859125,868662,874613,928741,931578,941652,915968,503812],\"yaxis\":\"y\",\"type\":\"scatter\"},{\"fillpattern\":{\"shape\":\"\"},\"hovertemplate\":\"simple_grouping=neoplasms\\u003cbr\\u003eyear=%{x}\\u003cbr\\u003edeaths=%{y}\\u003cextra\\u003e\\u003c\\u002fextra\\u003e\",\"legendgroup\":\"neoplasms\",\"line\":{\"color\":\"#00cc96\"},\"marker\":{\"symbol\":\"circle\"},\"mode\":\"lines\",\"name\":\"neoplasms\",\"orientation\":\"v\",\"showlegend\":true,\"stackgroup\":\"1\",\"x\":[1999,2000,2001,2002,2003,2004,2005,2006,2007,2008,2009,2010,2011,2012,2013,2014,2015,2016,2017,2018,2019,2020,2021,2022,2023,2024],\"xaxis\":\"x\",\"y\":[563065,566637,567444,570570,570465,567460,573022,574010,577079,579939,582233,589660,591688,597679,600113,607739,612207,613832,614932,614914,615191,618579,621450,624405,629491,348181],\"yaxis\":\"y\",\"type\":\"scatter\"},{\"fillpattern\":{\"shape\":\"\"},\"hovertemplate\":\"simple_grouping=respiratory\\u003cbr\\u003eyear=%{x}\\u003cbr\\u003edeaths=%{y}\\u003cextra\\u003e\\u003c\\u002fextra\\u003e\",\"legendgroup\":\"respiratory\",\"line\":{\"color\":\"#ab63fa\"},\"marker\":{\"symbol\":\"circle\"},\"mode\":\"lines\",\"name\":\"respiratory\",\"orientation\":\"v\",\"showlegend\":true,\"stackgroup\":\"1\",\"x\":[1999,2000,2001,2002,2003,2004,2005,2006,2007,2008,2009,2010,2011,2012,2013,2014,2015,2016,2017,2018,2019,2020,2021,2022,2023,2024],\"xaxis\":\"x\",\"y\":[229863,231079,230009,234629,235935,227093,239680,226661,227307,245099,238636,237433,248742,246311,261071,258333,271229,266037,278673,282641,271026,270506,250835,263381,261113,152040],\"yaxis\":\"y\",\"type\":\"scatter\"},{\"fillpattern\":{\"shape\":\"\"},\"hovertemplate\":\"simple_grouping=external\\u003cbr\\u003eyear=%{x}\\u003cbr\\u003edeaths=%{y}\\u003cextra\\u003e\\u003c\\u002fextra\\u003e\",\"legendgroup\":\"external\",\"line\":{\"color\":\"#FFA15A\"},\"marker\":{\"symbol\":\"circle\"},\"mode\":\"lines\",\"name\":\"external\",\"orientation\":\"v\",\"showlegend\":true,\"stackgroup\":\"1\",\"x\":[1999,2000,2001,2002,2003,2004,2005,2006,2007,2008,2009,2010,2011,2012,2013,2014,2015,2016,2017,2018,2019,2020,2021,2022,2023,2024],\"xaxis\":\"x\",\"y\":[151109,151268,157173,164111,166857,170067,176406,181586,185076,183816,179770,183301,190048,192988,195710,202292,216689,235194,247496,245186,251350,283705,312137,311511,303901,25938],\"yaxis\":\"y\",\"type\":\"scatter\"},{\"fillpattern\":{\"shape\":\"\"},\"hovertemplate\":\"simple_grouping=nervous system\\u003cbr\\u003eyear=%{x}\\u003cbr\\u003edeaths=%{y}\\u003cextra\\u003e\\u003c\\u002fextra\\u003e\",\"legendgroup\":\"nervous system\",\"line\":{\"color\":\"#19d3f3\"},\"marker\":{\"symbol\":\"circle\"},\"mode\":\"lines\",\"name\":\"nervous system\",\"orientation\":\"v\",\"showlegend\":true,\"stackgroup\":\"1\",\"x\":[1999,2000,2001,2002,2003,2004,2005,2006,2007,2008,2009,2010,2011,2012,2013,2014,2015,2016,2017,2018,2019,2020,2021,2022,2023,2024],\"xaxis\":\"x\",\"y\":[84077,91014,96524,103064,109640,111751,120713,122965,126997,136607,134168,141106,144920,146187,151784,165434,190512,202352,216353,224937,233715,262344,251546,264446,263619,151675],\"yaxis\":\"y\",\"type\":\"scatter\"},{\"fillpattern\":{\"shape\":\"\"},\"hovertemplate\":\"simple_grouping=metabolic\\u003cbr\\u003eyear=%{x}\\u003cbr\\u003edeaths=%{y}\\u003cextra\\u003e\\u003c\\u002fextra\\u003e\",\"legendgroup\":\"metabolic\",\"line\":{\"color\":\"#FF6692\"},\"marker\":{\"symbol\":\"circle\"},\"mode\":\"lines\",\"name\":\"metabolic\",\"orientation\":\"v\",\"showlegend\":true,\"stackgroup\":\"1\",\"x\":[1999,2000,2001,2002,2003,2004,2005,2006,2007,2008,2009,2010,2011,2012,2013,2014,2015,2016,2017,2018,2019,2020,2021,2022,2023,2024],\"xaxis\":\"x\",\"y\":[92872,94345,96820,99458,100443,99042,103152,99204,99028,99326,97984,98891,105144,105926,109159,112738,118532,121258,127947,133156,140107,164128,171890,174196,169100,93582],\"yaxis\":\"y\",\"type\":\"scatter\"},{\"fillpattern\":{\"shape\":\"\"},\"hovertemplate\":\"simple_grouping=mental\\u003cbr\\u003eyear=%{x}\\u003cbr\\u003edeaths=%{y}\\u003cextra\\u003e\\u003c\\u002fextra\\u003e\",\"legendgroup\":\"mental\",\"line\":{\"color\":\"#B6E880\"},\"marker\":{\"symbol\":\"circle\"},\"mode\":\"lines\",\"name\":\"mental\",\"orientation\":\"v\",\"showlegend\":true,\"stackgroup\":\"1\",\"x\":[1999,2000,2001,2002,2003,2004,2005,2006,2007,2008,2009,2010,2011,2012,2013,2014,2015,2016,2017,2018,2019,2020,2021,2022,2023,2024],\"xaxis\":\"x\",\"y\":[42114,46006,50803,55773,60052,61514,71456,91752,90268,104615,106232,120812,135941,147914,156405,151048,136651,132604,135768,135420,133953,148424,136339,138922,133073,71998],\"yaxis\":\"y\",\"type\":\"scatter\"},{\"fillpattern\":{\"shape\":\"\"},\"hovertemplate\":\"simple_grouping=digestive\\u003cbr\\u003eyear=%{x}\\u003cbr\\u003edeaths=%{y}\\u003cextra\\u003e\\u003c\\u002fextra\\u003e\",\"legendgroup\":\"digestive\",\"line\":{\"color\":\"#FF97FF\"},\"marker\":{\"symbol\":\"circle\"},\"mode\":\"lines\",\"name\":\"digestive\",\"orientation\":\"v\",\"showlegend\":true,\"stackgroup\":\"1\",\"x\":[1999,2000,2001,2002,2003,2004,2005,2006,2007,2008,2009,2010,2011,2012,2013,2014,2015,2016,2017,2018,2019,2020,2021,2022,2023,2024],\"xaxis\":\"x\",\"y\":[82876,84015,85833,86710,87764,86337,87391,87607,89151,91097,89415,91314,94096,95284,98364,100975,104624,105916,107653,109780,112894,123940,133859,132739,128404,69596],\"yaxis\":\"y\",\"type\":\"scatter\"},{\"fillpattern\":{\"shape\":\"\"},\"hovertemplate\":\"simple_grouping=infectious\\u003cbr\\u003eyear=%{x}\\u003cbr\\u003edeaths=%{y}\\u003cextra\\u003e\\u003c\\u002fextra\\u003e\",\"legendgroup\":\"infectious\",\"line\":{\"color\":\"#FECB52\"},\"marker\":{\"symbol\":\"circle\"},\"mode\":\"lines\",\"name\":\"infectious\",\"orientation\":\"v\",\"showlegend\":true,\"stackgroup\":\"1\",\"x\":[1999,2000,2001,2002,2003,2004,2005,2006,2007,2008,2009,2010,2011,2012,2013,2014,2015,2016,2017,2018,2019,2020,2021,2022,2023,2024],\"xaxis\":\"x\",\"y\":[59954,58988,60321,63965,64654,64609,66494,66984,66838,68423,69556,67577,68803,68403,70590,70408,72084,70046,69376,67957,64699,68308,68562,69937,69212,38014],\"yaxis\":\"y\",\"type\":\"scatter\"},{\"fillpattern\":{\"shape\":\"\"},\"hovertemplate\":\"simple_grouping=genitourinary\\u003cbr\\u003eyear=%{x}\\u003cbr\\u003edeaths=%{y}\\u003cextra\\u003e\\u003c\\u002fextra\\u003e\",\"legendgroup\":\"genitourinary\",\"line\":{\"color\":\"#636efa\"},\"marker\":{\"symbol\":\"circle\"},\"mode\":\"lines\",\"name\":\"genitourinary\",\"orientation\":\"v\",\"showlegend\":true,\"stackgroup\":\"1\",\"x\":[1999,2000,2001,2002,2003,2004,2005,2006,2007,2008,2009,2010,2011,2012,2013,2014,2015,2016,2017,2018,2019,2020,2021,2022,2023,2024],\"xaxis\":\"x\",\"y\":[53127,54560,57026,58334,60081,60326,62773,63581,64743,63130,63538,65676,61592,62030,64085,66165,69373,70316,71453,72526,72871,76772,78968,80382,76889,42334],\"yaxis\":\"y\",\"type\":\"scatter\"},{\"fillpattern\":{\"shape\":\"\"},\"hovertemplate\":\"simple_grouping=special\\u003cbr\\u003eyear=%{x}\\u003cbr\\u003edeaths=%{y}\\u003cextra\\u003e\\u003c\\u002fextra\\u003e\",\"legendgroup\":\"special\",\"line\":{\"color\":\"#EF553B\"},\"marker\":{\"symbol\":\"circle\"},\"mode\":\"lines\",\"name\":\"special\",\"orientation\":\"v\",\"showlegend\":true,\"stackgroup\":\"1\",\"x\":[2001,2019,2020,2021,2022,2023,2024],\"xaxis\":\"x\",\"y\":[2926,27,350921,416927,186579,49954,17938],\"yaxis\":\"y\",\"type\":\"scatter\"},{\"fillpattern\":{\"shape\":\"\"},\"hovertemplate\":\"simple_grouping=other\\u003cbr\\u003eyear=%{x}\\u003cbr\\u003edeaths=%{y}\\u003cextra\\u003e\\u003c\\u002fextra\\u003e\",\"legendgroup\":\"other\",\"line\":{\"color\":\"#00cc96\"},\"marker\":{\"symbol\":\"circle\"},\"mode\":\"lines\",\"name\":\"other\",\"orientation\":\"v\",\"showlegend\":true,\"stackgroup\":\"1\",\"x\":[1999,2000,2001,2002,2003,2004,2005,2006,2007,2008,2009,2010,2011,2012,2013,2014,2015,2016,2017,2018,2019,2020,2021,2022,2023,2024],\"xaxis\":\"x\",\"y\":[26660,31865,32310,29962,31431,30119,31991,31710,33494,38514,39814,38353,40184,42050,37750,32233,32040,33373,32749,32529,32408,34098,34502,34110,33261,49309],\"yaxis\":\"y\",\"type\":\"scatter\"},{\"fillpattern\":{\"shape\":\"\"},\"hovertemplate\":\"simple_grouping=musculoskeletal\\u003cbr\\u003eyear=%{x}\\u003cbr\\u003edeaths=%{y}\\u003cextra\\u003e\\u003c\\u002fextra\\u003e\",\"legendgroup\":\"musculoskeletal\",\"line\":{\"color\":\"#ab63fa\"},\"marker\":{\"symbol\":\"circle\"},\"mode\":\"lines\",\"name\":\"musculoskeletal\",\"orientation\":\"v\",\"showlegend\":true,\"stackgroup\":\"1\",\"x\":[1999,2000,2001,2002,2003,2004,2005,2006,2007,2008,2009,2010,2011,2012,2013,2014,2015,2016,2017,2018,2019,2020,2021,2022,2023,2024],\"xaxis\":\"x\",\"y\":[13340,13764,14053,14391,14480,14280,14414,13927,13909,13865,13322,13323,13693,13721,13526,13341,13665,13794,13836,13785,14548,15415,16234,16478,16690,9328],\"yaxis\":\"y\",\"type\":\"scatter\"},{\"fillpattern\":{\"shape\":\"\"},\"hovertemplate\":\"simple_grouping=perinatal\\u003cbr\\u003eyear=%{x}\\u003cbr\\u003edeaths=%{y}\\u003cextra\\u003e\\u003c\\u002fextra\\u003e\",\"legendgroup\":\"perinatal\",\"line\":{\"color\":\"#FFA15A\"},\"marker\":{\"symbol\":\"circle\"},\"mode\":\"lines\",\"name\":\"perinatal\",\"orientation\":\"v\",\"showlegend\":true,\"stackgroup\":\"1\",\"x\":[1999,2000,2001,2002,2003,2004,2005,2006,2007,2008,2009,2010,2011,2012,2013,2014,2015,2016,2017,2018,2019,2020,2021,2022,2023,2024],\"xaxis\":\"x\",\"y\":[14259,14069,13887,14254,14378,14207,14549,14442,14599,13933,13116,12124,12036,11917,12076,11888,11709,11493,11108,10712,10412,9665,9579,10203,10001,4944],\"yaxis\":\"y\",\"type\":\"scatter\"},{\"fillpattern\":{\"shape\":\"\"},\"hovertemplate\":\"simple_grouping=blood\\u003cbr\\u003eyear=%{x}\\u003cbr\\u003edeaths=%{y}\\u003cextra\\u003e\\u003c\\u002fextra\\u003e\",\"legendgroup\":\"blood\",\"line\":{\"color\":\"#19d3f3\"},\"marker\":{\"symbol\":\"circle\"},\"mode\":\"lines\",\"name\":\"blood\",\"orientation\":\"v\",\"showlegend\":true,\"stackgroup\":\"1\",\"x\":[1999,2000,2001,2002,2003,2004,2005,2006,2007,2008,2009,2010,2011,2012,2013,2014,2015,2016,2017,2018,2019,2020,2021,2022,2023,2024],\"xaxis\":\"x\",\"y\":[9067,9315,9535,9661,9585,9424,9591,8834,9745,9873,9644,9774,10158,10474,10216,10744,10699,10927,10790,10906,10815,11466,11947,12069,11948,6514],\"yaxis\":\"y\",\"type\":\"scatter\"},{\"fillpattern\":{\"shape\":\"\"},\"hovertemplate\":\"simple_grouping=malformations\\u003cbr\\u003eyear=%{x}\\u003cbr\\u003edeaths=%{y}\\u003cextra\\u003e\\u003c\\u002fextra\\u003e\",\"legendgroup\":\"malformations\",\"line\":{\"color\":\"#FF6692\"},\"marker\":{\"symbol\":\"circle\"},\"mode\":\"lines\",\"name\":\"malformations\",\"orientation\":\"v\",\"showlegend\":true,\"stackgroup\":\"1\",\"x\":[1999,2000,2001,2002,2003,2004,2005,2006,2007,2008,2009,2010,2011,2012,2013,2014,2015,2016,2017,2018,2019,2020,2021,2022,2023,2024],\"xaxis\":\"x\",\"y\":[10384,10560,10430,10664,10512,10488,10389,10484,10404,10286,9867,9656,9687,9625,9573,9599,10004,10114,9890,9723,9697,9561,9652,10130,9915,5066],\"yaxis\":\"y\",\"type\":\"scatter\"},{\"fillpattern\":{\"shape\":\"\"},\"hovertemplate\":\"simple_grouping=skin\\u003cbr\\u003eyear=%{x}\\u003cbr\\u003edeaths=%{y}\\u003cextra\\u003e\\u003c\\u002fextra\\u003e\",\"legendgroup\":\"skin\",\"line\":{\"color\":\"#B6E880\"},\"marker\":{\"symbol\":\"circle\"},\"mode\":\"lines\",\"name\":\"skin\",\"orientation\":\"v\",\"showlegend\":true,\"stackgroup\":\"1\",\"x\":[1999,2000,2001,2002,2003,2004,2005,2006,2007,2008,2009,2010,2011,2012,2013,2014,2015,2016,2017,2018,2019,2020,2021,2022,2023,2024],\"xaxis\":\"x\",\"y\":[3690,3744,3741,3931,4125,4179,4226,3857,3875,3975,4014,3986,4147,4191,4321,4455,4758,4923,4993,5207,5227,5686,6364,7268,7153,3768],\"yaxis\":\"y\",\"type\":\"scatter\"},{\"fillpattern\":{\"shape\":\"\"},\"hovertemplate\":\"simple_grouping=delay\\u003cbr\\u003eyear=%{x}\\u003cbr\\u003edeaths=%{y}\\u003cextra\\u003e\\u003c\\u002fextra\\u003e\",\"legendgroup\":\"delay\",\"line\":{\"color\":\"#FF97FF\"},\"marker\":{\"symbol\":\"circle\"},\"mode\":\"lines\",\"name\":\"delay\",\"orientation\":\"v\",\"showlegend\":true,\"stackgroup\":\"1\",\"x\":[2024],\"xaxis\":\"x\",\"y\":[97274],\"yaxis\":\"y\",\"type\":\"scatter\"},{\"fillpattern\":{\"shape\":\"\"},\"hovertemplate\":\"simple_grouping=pregnancy\\u003cbr\\u003eyear=%{x}\\u003cbr\\u003edeaths=%{y}\\u003cextra\\u003e\\u003c\\u002fextra\\u003e\",\"legendgroup\":\"pregnancy\",\"line\":{\"color\":\"#FECB52\"},\"marker\":{\"symbol\":\"circle\"},\"mode\":\"lines\",\"name\":\"pregnancy\",\"orientation\":\"v\",\"showlegend\":true,\"stackgroup\":\"1\",\"x\":[1999,2000,2001,2002,2003,2004,2005,2006,2007,2008,2009,2010,2011,2012,2013,2014,2015,2016,2017,2018,2019,2020,2021,2022,2023,2024],\"xaxis\":\"x\",\"y\":[406,404,416,379,545,697,760,760,769,795,960,825,931,990,1138,1123,1140,1231,1208,973,1103,1288,1687,1263,1054,587],\"yaxis\":\"y\",\"type\":\"scatter\"},{\"fillpattern\":{\"shape\":\"\"},\"hovertemplate\":\"simple_grouping=ear\\u003cbr\\u003eyear=%{x}\\u003cbr\\u003edeaths=%{y}\\u003cextra\\u003e\\u003c\\u002fextra\\u003e\",\"legendgroup\":\"ear\",\"line\":{\"color\":\"#636efa\"},\"marker\":{\"symbol\":\"circle\"},\"mode\":\"lines\",\"name\":\"ear\",\"orientation\":\"v\",\"showlegend\":true,\"stackgroup\":\"1\",\"x\":[1999,2000,2001,2002,2003,2004,2005,2006,2007,2008,2009,2010,2011,2012,2013,2014,2015,2016,2017,2018,2019,2020,2021,2022,2023,2024],\"xaxis\":\"x\",\"y\":[70,58,61,61,63,53,53,55,58,74,48,53,66,52,63,44,66,65,65,70,79,76,74,89,110,52],\"yaxis\":\"y\",\"type\":\"scatter\"},{\"fillpattern\":{\"shape\":\"\"},\"hovertemplate\":\"simple_grouping=eye\\u003cbr\\u003eyear=%{x}\\u003cbr\\u003edeaths=%{y}\\u003cextra\\u003e\\u003c\\u002fextra\\u003e\",\"legendgroup\":\"eye\",\"line\":{\"color\":\"#EF553B\"},\"marker\":{\"symbol\":\"circle\"},\"mode\":\"lines\",\"name\":\"eye\",\"orientation\":\"v\",\"showlegend\":true,\"stackgroup\":\"1\",\"x\":[1999,2000,2001,2003,2005,2006,2008,2009,2010,2011,2012,2013,2015,2016,2017,2018,2019,2020,2021,2022,2023],\"xaxis\":\"x\",\"y\":[21,26,13,13,12,12,20,13,25,26,51,10,13,11,10,36,15,15,27,15,38],\"yaxis\":\"y\",\"type\":\"scatter\"}],                        {\"template\":{\"data\":{\"histogram2dcontour\":[{\"type\":\"histogram2dcontour\",\"colorbar\":{\"outlinewidth\":0,\"ticks\":\"\"},\"colorscale\":[[0.0,\"#0d0887\"],[0.1111111111111111,\"#46039f\"],[0.2222222222222222,\"#7201a8\"],[0.3333333333333333,\"#9c179e\"],[0.4444444444444444,\"#bd3786\"],[0.5555555555555556,\"#d8576b\"],[0.6666666666666666,\"#ed7953\"],[0.7777777777777778,\"#fb9f3a\"],[0.8888888888888888,\"#fdca26\"],[1.0,\"#f0f921\"]]}],\"choropleth\":[{\"type\":\"choropleth\",\"colorbar\":{\"outlinewidth\":0,\"ticks\":\"\"}}],\"histogram2d\":[{\"type\":\"histogram2d\",\"colorbar\":{\"outlinewidth\":0,\"ticks\":\"\"},\"colorscale\":[[0.0,\"#0d0887\"],[0.1111111111111111,\"#46039f\"],[0.2222222222222222,\"#7201a8\"],[0.3333333333333333,\"#9c179e\"],[0.4444444444444444,\"#bd3786\"],[0.5555555555555556,\"#d8576b\"],[0.6666666666666666,\"#ed7953\"],[0.7777777777777778,\"#fb9f3a\"],[0.8888888888888888,\"#fdca26\"],[1.0,\"#f0f921\"]]}],\"heatmap\":[{\"type\":\"heatmap\",\"colorbar\":{\"outlinewidth\":0,\"ticks\":\"\"},\"colorscale\":[[0.0,\"#0d0887\"],[0.1111111111111111,\"#46039f\"],[0.2222222222222222,\"#7201a8\"],[0.3333333333333333,\"#9c179e\"],[0.4444444444444444,\"#bd3786\"],[0.5555555555555556,\"#d8576b\"],[0.6666666666666666,\"#ed7953\"],[0.7777777777777778,\"#fb9f3a\"],[0.8888888888888888,\"#fdca26\"],[1.0,\"#f0f921\"]]}],\"heatmapgl\":[{\"type\":\"heatmapgl\",\"colorbar\":{\"outlinewidth\":0,\"ticks\":\"\"},\"colorscale\":[[0.0,\"#0d0887\"],[0.1111111111111111,\"#46039f\"],[0.2222222222222222,\"#7201a8\"],[0.3333333333333333,\"#9c179e\"],[0.4444444444444444,\"#bd3786\"],[0.5555555555555556,\"#d8576b\"],[0.6666666666666666,\"#ed7953\"],[0.7777777777777778,\"#fb9f3a\"],[0.8888888888888888,\"#fdca26\"],[1.0,\"#f0f921\"]]}],\"contourcarpet\":[{\"type\":\"contourcarpet\",\"colorbar\":{\"outlinewidth\":0,\"ticks\":\"\"}}],\"contour\":[{\"type\":\"contour\",\"colorbar\":{\"outlinewidth\":0,\"ticks\":\"\"},\"colorscale\":[[0.0,\"#0d0887\"],[0.1111111111111111,\"#46039f\"],[0.2222222222222222,\"#7201a8\"],[0.3333333333333333,\"#9c179e\"],[0.4444444444444444,\"#bd3786\"],[0.5555555555555556,\"#d8576b\"],[0.6666666666666666,\"#ed7953\"],[0.7777777777777778,\"#fb9f3a\"],[0.8888888888888888,\"#fdca26\"],[1.0,\"#f0f921\"]]}],\"surface\":[{\"type\":\"surface\",\"colorbar\":{\"outlinewidth\":0,\"ticks\":\"\"},\"colorscale\":[[0.0,\"#0d0887\"],[0.1111111111111111,\"#46039f\"],[0.2222222222222222,\"#7201a8\"],[0.3333333333333333,\"#9c179e\"],[0.4444444444444444,\"#bd3786\"],[0.5555555555555556,\"#d8576b\"],[0.6666666666666666,\"#ed7953\"],[0.7777777777777778,\"#fb9f3a\"],[0.8888888888888888,\"#fdca26\"],[1.0,\"#f0f921\"]]}],\"mesh3d\":[{\"type\":\"mesh3d\",\"colorbar\":{\"outlinewidth\":0,\"ticks\":\"\"}}],\"scatter\":[{\"fillpattern\":{\"fillmode\":\"overlay\",\"size\":10,\"solidity\":0.2},\"type\":\"scatter\"}],\"parcoords\":[{\"type\":\"parcoords\",\"line\":{\"colorbar\":{\"outlinewidth\":0,\"ticks\":\"\"}}}],\"scatterpolargl\":[{\"type\":\"scatterpolargl\",\"marker\":{\"colorbar\":{\"outlinewidth\":0,\"ticks\":\"\"}}}],\"bar\":[{\"error_x\":{\"color\":\"#2a3f5f\"},\"error_y\":{\"color\":\"#2a3f5f\"},\"marker\":{\"line\":{\"color\":\"#E5ECF6\",\"width\":0.5},\"pattern\":{\"fillmode\":\"overlay\",\"size\":10,\"solidity\":0.2}},\"type\":\"bar\"}],\"scattergeo\":[{\"type\":\"scattergeo\",\"marker\":{\"colorbar\":{\"outlinewidth\":0,\"ticks\":\"\"}}}],\"scatterpolar\":[{\"type\":\"scatterpolar\",\"marker\":{\"colorbar\":{\"outlinewidth\":0,\"ticks\":\"\"}}}],\"histogram\":[{\"marker\":{\"pattern\":{\"fillmode\":\"overlay\",\"size\":10,\"solidity\":0.2}},\"type\":\"histogram\"}],\"scattergl\":[{\"type\":\"scattergl\",\"marker\":{\"colorbar\":{\"outlinewidth\":0,\"ticks\":\"\"}}}],\"scatter3d\":[{\"type\":\"scatter3d\",\"line\":{\"colorbar\":{\"outlinewidth\":0,\"ticks\":\"\"}},\"marker\":{\"colorbar\":{\"outlinewidth\":0,\"ticks\":\"\"}}}],\"scattermapbox\":[{\"type\":\"scattermapbox\",\"marker\":{\"colorbar\":{\"outlinewidth\":0,\"ticks\":\"\"}}}],\"scatterternary\":[{\"type\":\"scatterternary\",\"marker\":{\"colorbar\":{\"outlinewidth\":0,\"ticks\":\"\"}}}],\"scattercarpet\":[{\"type\":\"scattercarpet\",\"marker\":{\"colorbar\":{\"outlinewidth\":0,\"ticks\":\"\"}}}],\"carpet\":[{\"aaxis\":{\"endlinecolor\":\"#2a3f5f\",\"gridcolor\":\"white\",\"linecolor\":\"white\",\"minorgridcolor\":\"white\",\"startlinecolor\":\"#2a3f5f\"},\"baxis\":{\"endlinecolor\":\"#2a3f5f\",\"gridcolor\":\"white\",\"linecolor\":\"white\",\"minorgridcolor\":\"white\",\"startlinecolor\":\"#2a3f5f\"},\"type\":\"carpet\"}],\"table\":[{\"cells\":{\"fill\":{\"color\":\"#EBF0F8\"},\"line\":{\"color\":\"white\"}},\"header\":{\"fill\":{\"color\":\"#C8D4E3\"},\"line\":{\"color\":\"white\"}},\"type\":\"table\"}],\"barpolar\":[{\"marker\":{\"line\":{\"color\":\"#E5ECF6\",\"width\":0.5},\"pattern\":{\"fillmode\":\"overlay\",\"size\":10,\"solidity\":0.2}},\"type\":\"barpolar\"}],\"pie\":[{\"automargin\":true,\"type\":\"pie\"}]},\"layout\":{\"autotypenumbers\":\"strict\",\"colorway\":[\"#636efa\",\"#EF553B\",\"#00cc96\",\"#ab63fa\",\"#FFA15A\",\"#19d3f3\",\"#FF6692\",\"#B6E880\",\"#FF97FF\",\"#FECB52\"],\"font\":{\"color\":\"#2a3f5f\"},\"hovermode\":\"closest\",\"hoverlabel\":{\"align\":\"left\"},\"paper_bgcolor\":\"white\",\"plot_bgcolor\":\"#E5ECF6\",\"polar\":{\"bgcolor\":\"#E5ECF6\",\"angularaxis\":{\"gridcolor\":\"white\",\"linecolor\":\"white\",\"ticks\":\"\"},\"radialaxis\":{\"gridcolor\":\"white\",\"linecolor\":\"white\",\"ticks\":\"\"}},\"ternary\":{\"bgcolor\":\"#E5ECF6\",\"aaxis\":{\"gridcolor\":\"white\",\"linecolor\":\"white\",\"ticks\":\"\"},\"baxis\":{\"gridcolor\":\"white\",\"linecolor\":\"white\",\"ticks\":\"\"},\"caxis\":{\"gridcolor\":\"white\",\"linecolor\":\"white\",\"ticks\":\"\"}},\"coloraxis\":{\"colorbar\":{\"outlinewidth\":0,\"ticks\":\"\"}},\"colorscale\":{\"sequential\":[[0.0,\"#0d0887\"],[0.1111111111111111,\"#46039f\"],[0.2222222222222222,\"#7201a8\"],[0.3333333333333333,\"#9c179e\"],[0.4444444444444444,\"#bd3786\"],[0.5555555555555556,\"#d8576b\"],[0.6666666666666666,\"#ed7953\"],[0.7777777777777778,\"#fb9f3a\"],[0.8888888888888888,\"#fdca26\"],[1.0,\"#f0f921\"]],\"sequentialminus\":[[0.0,\"#0d0887\"],[0.1111111111111111,\"#46039f\"],[0.2222222222222222,\"#7201a8\"],[0.3333333333333333,\"#9c179e\"],[0.4444444444444444,\"#bd3786\"],[0.5555555555555556,\"#d8576b\"],[0.6666666666666666,\"#ed7953\"],[0.7777777777777778,\"#fb9f3a\"],[0.8888888888888888,\"#fdca26\"],[1.0,\"#f0f921\"]],\"diverging\":[[0,\"#8e0152\"],[0.1,\"#c51b7d\"],[0.2,\"#de77ae\"],[0.3,\"#f1b6da\"],[0.4,\"#fde0ef\"],[0.5,\"#f7f7f7\"],[0.6,\"#e6f5d0\"],[0.7,\"#b8e186\"],[0.8,\"#7fbc41\"],[0.9,\"#4d9221\"],[1,\"#276419\"]]},\"xaxis\":{\"gridcolor\":\"white\",\"linecolor\":\"white\",\"ticks\":\"\",\"title\":{\"standoff\":15},\"zerolinecolor\":\"white\",\"automargin\":true,\"zerolinewidth\":2},\"yaxis\":{\"gridcolor\":\"white\",\"linecolor\":\"white\",\"ticks\":\"\",\"title\":{\"standoff\":15},\"zerolinecolor\":\"white\",\"automargin\":true,\"zerolinewidth\":2},\"scene\":{\"xaxis\":{\"backgroundcolor\":\"#E5ECF6\",\"gridcolor\":\"white\",\"linecolor\":\"white\",\"showbackground\":true,\"ticks\":\"\",\"zerolinecolor\":\"white\",\"gridwidth\":2},\"yaxis\":{\"backgroundcolor\":\"#E5ECF6\",\"gridcolor\":\"white\",\"linecolor\":\"white\",\"showbackground\":true,\"ticks\":\"\",\"zerolinecolor\":\"white\",\"gridwidth\":2},\"zaxis\":{\"backgroundcolor\":\"#E5ECF6\",\"gridcolor\":\"white\",\"linecolor\":\"white\",\"showbackground\":true,\"ticks\":\"\",\"zerolinecolor\":\"white\",\"gridwidth\":2}},\"shapedefaults\":{\"line\":{\"color\":\"#2a3f5f\"}},\"annotationdefaults\":{\"arrowcolor\":\"#2a3f5f\",\"arrowhead\":0,\"arrowwidth\":1},\"geo\":{\"bgcolor\":\"white\",\"landcolor\":\"#E5ECF6\",\"subunitcolor\":\"white\",\"showland\":true,\"showlakes\":true,\"lakecolor\":\"white\"},\"title\":{\"x\":0.05},\"mapbox\":{\"style\":\"light\"}}},\"xaxis\":{\"anchor\":\"y\",\"domain\":[0.0,1.0],\"title\":{\"text\":\"year\"}},\"yaxis\":{\"anchor\":\"x\",\"domain\":[0.0,1.0],\"title\":{\"text\":\"deaths\"},\"type\":\"-\"},\"legend\":{\"title\":{\"text\":\"simple_grouping\"},\"tracegroupgap\":0},\"title\":{\"text\":\"'deaths' by 'year' and 'simple_grouping'\"}},                        {\"responsive\": true}                    ).then(function(){\n",
       "                            \n",
       "var gd = document.getElementById('7e8cf720-1fd8-4e40-8b24-5837b0c9da6c');\n",
       "var x = new MutationObserver(function (mutations, observer) {{\n",
       "        var display = window.getComputedStyle(gd).display;\n",
       "        if (!display || display === 'none') {{\n",
       "            console.log([gd, 'removed!']);\n",
       "            Plotly.purge(gd);\n",
       "            observer.disconnect();\n",
       "        }}\n",
       "}});\n",
       "\n",
       "// Listen for the removal of the full notebook cells\n",
       "var notebookContainer = gd.closest('#notebook-container');\n",
       "if (notebookContainer) {{\n",
       "    x.observe(notebookContainer, {childList: true});\n",
       "}}\n",
       "\n",
       "// Listen for the clearing of the current output cell\n",
       "var outputEl = gd.closest('.output');\n",
       "if (outputEl) {{\n",
       "    x.observe(outputEl, {childList: true});\n",
       "}}\n",
       "\n",
       "                        })                };                });            </script>        </div>"
      ]
     },
     "metadata": {},
     "output_type": "display_data"
    }
   ],
   "source": [
    "charters.chart(\n",
    "    df=cod_all,\n",
    "    x_axis=\"year\",\n",
    "    y_axis=\"deaths\",\n",
    "    color=category_col,\n",
    "    type=\"area\",\n",
    "    category_orders=category_orders,\n",
    ")"
   ]
  },
  {
   "cell_type": "code",
   "execution_count": 109,
   "id": "e8a69bed-454c-4ad6-a991-efa60b168529",
   "metadata": {},
   "outputs": [],
   "source": [
    "cod_all['crude_rate'] = cod_all['deaths'] / cod_all['population'] * 1000"
   ]
  },
  {
   "cell_type": "code",
   "execution_count": 112,
   "id": "6a5f10f4-b952-4843-8483-e5d45adbd2ac",
   "metadata": {},
   "outputs": [
    {
     "data": {
      "text/html": [
       "<div>\n",
       "<style scoped>\n",
       "    .dataframe tbody tr th:only-of-type {\n",
       "        vertical-align: middle;\n",
       "    }\n",
       "\n",
       "    .dataframe tbody tr th {\n",
       "        vertical-align: top;\n",
       "    }\n",
       "\n",
       "    .dataframe thead th {\n",
       "        text-align: right;\n",
       "    }\n",
       "</style>\n",
       "<table border=\"1\" class=\"dataframe\">\n",
       "  <thead>\n",
       "    <tr style=\"text-align: right;\">\n",
       "      <th></th>\n",
       "      <th>year</th>\n",
       "      <th>icd_-_sub-chapter</th>\n",
       "      <th>deaths</th>\n",
       "      <th>population</th>\n",
       "      <th>crude_rate</th>\n",
       "      <th>added_at</th>\n",
       "      <th>simple_grouping</th>\n",
       "    </tr>\n",
       "  </thead>\n",
       "  <tbody>\n",
       "    <tr>\n",
       "      <th>3689</th>\n",
       "      <td>2023</td>\n",
       "      <td>Malignant neoplasms</td>\n",
       "      <td>613352</td>\n",
       "      <td>333287557</td>\n",
       "      <td>1.84</td>\n",
       "      <td>2024-08-09 23:45:06</td>\n",
       "      <td>neoplasms</td>\n",
       "    </tr>\n",
       "    <tr>\n",
       "      <th>3690</th>\n",
       "      <td>2023</td>\n",
       "      <td>In situ neoplasms</td>\n",
       "      <td>97</td>\n",
       "      <td>333287557</td>\n",
       "      <td>0.00</td>\n",
       "      <td>2024-08-09 23:45:06</td>\n",
       "      <td>neoplasms</td>\n",
       "    </tr>\n",
       "    <tr>\n",
       "      <th>3691</th>\n",
       "      <td>2023</td>\n",
       "      <td>Benign neoplasms</td>\n",
       "      <td>1686</td>\n",
       "      <td>333287557</td>\n",
       "      <td>0.01</td>\n",
       "      <td>2024-08-09 23:45:06</td>\n",
       "      <td>neoplasms</td>\n",
       "    </tr>\n",
       "    <tr>\n",
       "      <th>3692</th>\n",
       "      <td>2023</td>\n",
       "      <td>Neoplasms of uncertain or unknown behaviour</td>\n",
       "      <td>14356</td>\n",
       "      <td>333287557</td>\n",
       "      <td>0.04</td>\n",
       "      <td>2024-08-09 23:45:06</td>\n",
       "      <td>neoplasms</td>\n",
       "    </tr>\n",
       "  </tbody>\n",
       "</table>\n",
       "</div>"
      ],
      "text/plain": [
       "      year                            icd_-_sub-chapter  deaths  population  \\\n",
       "3689  2023                          Malignant neoplasms  613352   333287557   \n",
       "3690  2023                            In situ neoplasms      97   333287557   \n",
       "3691  2023                             Benign neoplasms    1686   333287557   \n",
       "3692  2023  Neoplasms of uncertain or unknown behaviour   14356   333287557   \n",
       "\n",
       "      crude_rate             added_at simple_grouping  \n",
       "3689        1.84  2024-08-09 23:45:06       neoplasms  \n",
       "3690        0.00  2024-08-09 23:45:06       neoplasms  \n",
       "3691        0.01  2024-08-09 23:45:06       neoplasms  \n",
       "3692        0.04  2024-08-09 23:45:06       neoplasms  "
      ]
     },
     "execution_count": 112,
     "metadata": {},
     "output_type": "execute_result"
    }
   ],
   "source": [
    "cod_all[(cod_all['simple_grouping']=='neoplasms')&(cod_all['year']==2023)]"
   ]
  },
  {
   "cell_type": "code",
   "execution_count": 113,
   "id": "7089cc17-e1af-47ce-9f7c-89e0a125e915",
   "metadata": {},
   "outputs": [
    {
     "data": {
      "application/vnd.plotly.v1+json": {
       "config": {
        "plotlyServerURL": "https://plot.ly"
       },
       "data": [
        {
         "branchvalues": "total",
         "domain": {
          "x": [
           0,
           1
          ],
          "y": [
           0,
           1
          ]
         },
         "hovertemplate": "labels=%{label}<br>deaths=%{value}<br>parent=%{parent}<br>id=%{id}<extra></extra>",
         "ids": [
          "all/other/Abnormal findings on diagnostic imaging and in function studies, without diagnosis",
          "all/other/Abnormal findings on examination of blood, without diagnosis",
          "all/circulatory/Acute rheumatic fever",
          "all/respiratory/Acute upper respiratory infections",
          "all/blood/Aplastic and other anaemias",
          "all/musculoskeletal/Arthropathies",
          "all/infectious/Arthropod-borne viral fevers and viral haemorrhagic fevers",
          "all/external/Assault",
          "all/mental/Behavioural and emotional disorders with onset usually occurring in childhood and adolescence",
          "all/mental/Behavioural syndromes associated with physiological disturbances and physical factors",
          "all/neoplasms/Benign neoplasms",
          "all/perinatal/Birth trauma",
          "all/skin/Bullous disorders",
          "all/nervous system/Cerebral palsy and other paralytic syndromes",
          "all/circulatory/Cerebrovascular diseases",
          "all/blood/Certain disorders involving the immune mechanism",
          "all/infectious/Certain zoonotic bacterial diseases",
          "all/malformations/Chromosomal abnormalities, not elsewhere classified",
          "all/respiratory/Chronic lower respiratory diseases",
          "all/circulatory/Chronic rheumatic heart diseases",
          "all/blood/Coagulation defects, purpura and other haemorrhagic conditions",
          "all/pregnancy/Complications of labour and delivery",
          "all/external/Complications of medical and surgical care",
          "all/pregnancy/Complications predominantly related to the puerperium",
          "all/perinatal/Conditions involving the integument and temperature regulation of newborn",
          "all/malformations/Congenital malformations and deformations of the musculoskeletal system",
          "all/malformations/Congenital malformations of the circulatory system",
          "all/malformations/Congenital malformations of the nervous system",
          "all/malformations/Congenital malformations of the respiratory system",
          "all/malformations/Congenital malformations of the urinary system",
          "all/nervous system/Demyelinating diseases of the central nervous system",
          "all/skin/Dermatitis and eczema",
          "all/metabolic/Diabetes mellitus",
          "all/perinatal/Digestive system disorders of newborn",
          "all/digestive/Diseases of appendix",
          "all/circulatory/Diseases of arteries, arterioles and capillaries",
          "all/ear/Diseases of external ear",
          "all/digestive/Diseases of liver",
          "all/genitourinary/Diseases of male genital organs",
          "all/ear/Diseases of middle ear and mastoid",
          "all/nervous system/Diseases of myoneural junction and muscle",
          "all/digestive/Diseases of oesophagus, stomach and duodenum",
          "all/digestive/Diseases of oral cavity, salivary glands and jaws",
          "all/digestive/Diseases of peritoneum",
          "all/circulatory/Diseases of veins, lymphatic vessels and lymph nodes, not elsewhere classified",
          "all/genitourinary/Disorders of breast",
          "all/eye/Disorders of eyelid, lacrimal system and orbit",
          "all/digestive/Disorders of gallbladder, biliary tract and pancreas",
          "all/metabolic/Disorders of other endocrine glands",
          "all/mental/Disorders of psychological development",
          "all/skin/Disorders of skin appendages",
          "all/metabolic/Disorders of thyroid gland",
          "all/perinatal/Disorders related to length of gestation and fetal growth",
          "all/musculoskeletal/Dorsopathies",
          "all/nervous system/Episodic and paroxysmal disorders",
          "all/external/Event of undetermined intent",
          "all/nervous system/Extrapyramidal and movement disorders",
          "all/other/General symptoms and signs",
          "all/genitourinary/Glomerular diseases",
          "all/blood/Haemolytic anaemias",
          "all/perinatal/Haemorrhagic and haematological disorders of newborn",
          "all/infectious/Helminthiases",
          "all/digestive/Hernia",
          "all/infectious/Human immunodeficiency virus [HIV] disease",
          "all/circulatory/Hypertensive diseases",
          "all/other/Ill-defined and unknown causes of mortality",
          "all/neoplasms/In situ neoplasms",
          "all/skin/Infections of the skin and subcutaneous tissue",
          "all/perinatal/Infections specific to the perinatal period",
          "all/infectious/Infections with a predominantly sexual mode of transmission",
          "all/genitourinary/Inflammatory diseases of female pelvic organs",
          "all/nervous system/Inflammatory diseases of the central nervous system",
          "all/respiratory/Influenza and pneumonia",
          "all/external/Intentional self-harm",
          "all/infectious/Intestinal infectious diseases",
          "all/circulatory/Ischaemic heart diseases",
          "all/external/Legal intervention and operations of war",
          "all/respiratory/Lung diseases due to external agents",
          "all/neoplasms/Malignant neoplasms",
          "all/metabolic/Malnutrition",
          "all/pregnancy/Maternal care related to the fetus and amniotic cavity and possible delivery problems",
          "all/mental/Mental and behavioural disorders due to psychoactive substance use",
          "all/mental/Mental retardation",
          "all/metabolic/Metabolic disorders",
          "all/mental/Mood [affective] disorders",
          "all/infectious/Mycoses",
          "all/neoplasms/Neoplasms of uncertain or unknown behaviour",
          "all/nervous system/Nerve, nerve root and plexus disorders",
          "all/mental/Neurotic, stress-related and somatoform disorders",
          "all/perinatal/Newborn affected by maternal factors and by complications of pregnancy, labour and delivery",
          "all/digestive/Noninfective enteritis and colitis",
          "all/genitourinary/Noninflammatory disorders of female genital tract",
          "all/blood/Nutritional anaemias",
          "all/metabolic/Obesity and other hyperalimentation",
          "all/pregnancy/Oedema, proteinuria and hypertensive disorders in pregnancy, childbirth and the puerperium",
          "all/mental/Organic, including symptomatic, mental disorders",
          "all/musculoskeletal/Osteopathies and chondropathies",
          "all/respiratory/Other acute lower respiratory infections",
          "all/circulatory/Other and unspecified disorders of the circulatory system",
          "all/infectious/Other bacterial diseases",
          "all/malformations/Other congenital malformations",
          "all/malformations/Other congenital malformations of the digestive system",
          "all/nervous system/Other degenerative diseases of the nervous system",
          "all/blood/Other diseases of blood and blood-forming organs",
          "all/digestive/Other diseases of intestines",
          "all/respiratory/Other diseases of pleura",
          "all/digestive/Other diseases of the digestive system",
          "all/respiratory/Other diseases of the respiratory system",
          "all/respiratory/Other diseases of upper respiratory tract",
          "all/genitourinary/Other diseases of urinary system",
          "all/ear/Other disorders of ear",
          "all/metabolic/Other disorders of glucose regulation and pancreatic internal secretion",
          "all/genitourinary/Other disorders of kidney and ureter",
          "all/nervous system/Other disorders of the nervous system",
          "all/skin/Other disorders of the skin and subcutaneous tissue",
          "all/perinatal/Other disorders originating in the perinatal period",
          "all/external/Other external causes of accidental injury",
          "all/circulatory/Other forms of heart disease",
          "all/infectious/Other infectious diseases",
          "all/pregnancy/Other maternal disorders predominantly related to pregnancy",
          "all/metabolic/Other nutritional deficiencies",
          "all/pregnancy/Other obstetric conditions, not elsewhere classified",
          "all/respiratory/Other respiratory diseases principally affecting the interstitium",
          "all/infectious/Other spirochaetal diseases",
          "all/infectious/Other viral diseases",
          "all/skin/Papulosquamous disorders",
          "all/nervous system/Polyneuropathies and other disorders of the peripheral nervous system",
          "all/pregnancy/Pregnancy with abortive outcome",
          "all/infectious/Protozoal diseases",
          "all/special/Provisional assignment of new diseases of uncertain etiology",
          "all/circulatory/Pulmonary heart disease and diseases of pulmonary circulation",
          "all/genitourinary/Renal failure",
          "all/genitourinary/Renal tubulo-interstitial diseases",
          "all/perinatal/Respiratory and cardiovascular disorders specific to the perinatal period",
          "all/infectious/Rickettsioses",
          "all/mental/Schizophrenia, schizotypal and delusional disorders",
          "all/external/Sequelae of external causes of morbidity and mortality",
          "all/infectious/Sequelae of infectious and parasitic diseases",
          "all/musculoskeletal/Soft tissue disorders",
          "all/respiratory/Suppurative and necrotic conditions of lower respiratory tract",
          "all/other/Symptoms and signs involving cognition, perception, emotional state and behaviour",
          "all/other/Symptoms and signs involving speech and voice",
          "all/other/Symptoms and signs involving the circulatory and respiratory systems",
          "all/other/Symptoms and signs involving the digestive system and abdomen",
          "all/other/Symptoms and signs involving the nervous and musculoskeletal systems",
          "all/other/Symptoms and signs involving the skin and subcutaneous tissue",
          "all/other/Symptoms and signs involving the urinary system",
          "all/nervous system/Systemic atrophies primarily affecting the central nervous system",
          "all/musculoskeletal/Systemic connective tissue disorders",
          "all/external/Transport accidents",
          "all/infectious/Tuberculosis",
          "all/mental/Unspecified mental disorder",
          "all/genitourinary/Urolithiasis",
          "all/skin/Urticaria and erythema",
          "all/infectious/Viral hepatitis",
          "all/infectious/Viral infections characterized by skin and mucous membrane lesions",
          "all/infectious/Viral infections of the central nervous system",
          "all/eye/Visual disturbances and blindness",
          "all/blood",
          "all/circulatory",
          "all/digestive",
          "all/ear",
          "all/external",
          "all/eye",
          "all/genitourinary",
          "all/infectious",
          "all/malformations",
          "all/mental",
          "all/metabolic",
          "all/musculoskeletal",
          "all/neoplasms",
          "all/nervous system",
          "all/other",
          "all/perinatal",
          "all/pregnancy",
          "all/respiratory",
          "all/skin",
          "all/special",
          "all"
         ],
         "labels": [
          "Abnormal findings on diagnostic imaging and in function studies, without diagnosis",
          "Abnormal findings on examination of blood, without diagnosis",
          "Acute rheumatic fever",
          "Acute upper respiratory infections",
          "Aplastic and other anaemias",
          "Arthropathies",
          "Arthropod-borne viral fevers and viral haemorrhagic fevers",
          "Assault",
          "Behavioural and emotional disorders with onset usually occurring in childhood and adolescence",
          "Behavioural syndromes associated with physiological disturbances and physical factors",
          "Benign neoplasms",
          "Birth trauma",
          "Bullous disorders",
          "Cerebral palsy and other paralytic syndromes",
          "Cerebrovascular diseases",
          "Certain disorders involving the immune mechanism",
          "Certain zoonotic bacterial diseases",
          "Chromosomal abnormalities, not elsewhere classified",
          "Chronic lower respiratory diseases",
          "Chronic rheumatic heart diseases",
          "Coagulation defects, purpura and other haemorrhagic conditions",
          "Complications of labour and delivery",
          "Complications of medical and surgical care",
          "Complications predominantly related to the puerperium",
          "Conditions involving the integument and temperature regulation of newborn",
          "Congenital malformations and deformations of the musculoskeletal system",
          "Congenital malformations of the circulatory system",
          "Congenital malformations of the nervous system",
          "Congenital malformations of the respiratory system",
          "Congenital malformations of the urinary system",
          "Demyelinating diseases of the central nervous system",
          "Dermatitis and eczema",
          "Diabetes mellitus",
          "Digestive system disorders of newborn",
          "Diseases of appendix",
          "Diseases of arteries, arterioles and capillaries",
          "Diseases of external ear",
          "Diseases of liver",
          "Diseases of male genital organs",
          "Diseases of middle ear and mastoid",
          "Diseases of myoneural junction and muscle",
          "Diseases of oesophagus, stomach and duodenum",
          "Diseases of oral cavity, salivary glands and jaws",
          "Diseases of peritoneum",
          "Diseases of veins, lymphatic vessels and lymph nodes, not elsewhere classified",
          "Disorders of breast",
          "Disorders of eyelid, lacrimal system and orbit",
          "Disorders of gallbladder, biliary tract and pancreas",
          "Disorders of other endocrine glands",
          "Disorders of psychological development",
          "Disorders of skin appendages",
          "Disorders of thyroid gland",
          "Disorders related to length of gestation and fetal growth",
          "Dorsopathies",
          "Episodic and paroxysmal disorders",
          "Event of undetermined intent",
          "Extrapyramidal and movement disorders",
          "General symptoms and signs",
          "Glomerular diseases",
          "Haemolytic anaemias",
          "Haemorrhagic and haematological disorders of newborn",
          "Helminthiases",
          "Hernia",
          "Human immunodeficiency virus [HIV] disease",
          "Hypertensive diseases",
          "Ill-defined and unknown causes of mortality",
          "In situ neoplasms",
          "Infections of the skin and subcutaneous tissue",
          "Infections specific to the perinatal period",
          "Infections with a predominantly sexual mode of transmission",
          "Inflammatory diseases of female pelvic organs",
          "Inflammatory diseases of the central nervous system",
          "Influenza and pneumonia",
          "Intentional self-harm",
          "Intestinal infectious diseases",
          "Ischaemic heart diseases",
          "Legal intervention and operations of war",
          "Lung diseases due to external agents",
          "Malignant neoplasms",
          "Malnutrition",
          "Maternal care related to the fetus and amniotic cavity and possible delivery problems",
          "Mental and behavioural disorders due to psychoactive substance use",
          "Mental retardation",
          "Metabolic disorders",
          "Mood [affective] disorders",
          "Mycoses",
          "Neoplasms of uncertain or unknown behaviour",
          "Nerve, nerve root and plexus disorders",
          "Neurotic, stress-related and somatoform disorders",
          "Newborn affected by maternal factors and by complications of pregnancy, labour and delivery",
          "Noninfective enteritis and colitis",
          "Noninflammatory disorders of female genital tract",
          "Nutritional anaemias",
          "Obesity and other hyperalimentation",
          "Oedema, proteinuria and hypertensive disorders in pregnancy, childbirth and the puerperium",
          "Organic, including symptomatic, mental disorders",
          "Osteopathies and chondropathies",
          "Other acute lower respiratory infections",
          "Other and unspecified disorders of the circulatory system",
          "Other bacterial diseases",
          "Other congenital malformations",
          "Other congenital malformations of the digestive system",
          "Other degenerative diseases of the nervous system",
          "Other diseases of blood and blood-forming organs",
          "Other diseases of intestines",
          "Other diseases of pleura",
          "Other diseases of the digestive system",
          "Other diseases of the respiratory system",
          "Other diseases of upper respiratory tract",
          "Other diseases of urinary system",
          "Other disorders of ear",
          "Other disorders of glucose regulation and pancreatic internal secretion",
          "Other disorders of kidney and ureter",
          "Other disorders of the nervous system",
          "Other disorders of the skin and subcutaneous tissue",
          "Other disorders originating in the perinatal period",
          "Other external causes of accidental injury",
          "Other forms of heart disease",
          "Other infectious diseases",
          "Other maternal disorders predominantly related to pregnancy",
          "Other nutritional deficiencies",
          "Other obstetric conditions, not elsewhere classified",
          "Other respiratory diseases principally affecting the interstitium",
          "Other spirochaetal diseases",
          "Other viral diseases",
          "Papulosquamous disorders",
          "Polyneuropathies and other disorders of the peripheral nervous system",
          "Pregnancy with abortive outcome",
          "Protozoal diseases",
          "Provisional assignment of new diseases of uncertain etiology",
          "Pulmonary heart disease and diseases of pulmonary circulation",
          "Renal failure",
          "Renal tubulo-interstitial diseases",
          "Respiratory and cardiovascular disorders specific to the perinatal period",
          "Rickettsioses",
          "Schizophrenia, schizotypal and delusional disorders",
          "Sequelae of external causes of morbidity and mortality",
          "Sequelae of infectious and parasitic diseases",
          "Soft tissue disorders",
          "Suppurative and necrotic conditions of lower respiratory tract",
          "Symptoms and signs involving cognition, perception, emotional state and behaviour",
          "Symptoms and signs involving speech and voice",
          "Symptoms and signs involving the circulatory and respiratory systems",
          "Symptoms and signs involving the digestive system and abdomen",
          "Symptoms and signs involving the nervous and musculoskeletal systems",
          "Symptoms and signs involving the skin and subcutaneous tissue",
          "Symptoms and signs involving the urinary system",
          "Systemic atrophies primarily affecting the central nervous system",
          "Systemic connective tissue disorders",
          "Transport accidents",
          "Tuberculosis",
          "Unspecified mental disorder",
          "Urolithiasis",
          "Urticaria and erythema",
          "Viral hepatitis",
          "Viral infections characterized by skin and mucous membrane lesions",
          "Viral infections of the central nervous system",
          "Visual disturbances and blindness",
          "blood",
          "circulatory",
          "digestive",
          "ear",
          "external",
          "eye",
          "genitourinary",
          "infectious",
          "malformations",
          "mental",
          "metabolic",
          "musculoskeletal",
          "neoplasms",
          "nervous system",
          "other",
          "perinatal",
          "pregnancy",
          "respiratory",
          "skin",
          "special",
          "all"
         ],
         "name": "",
         "parents": [
          "all/other",
          "all/other",
          "all/circulatory",
          "all/respiratory",
          "all/blood",
          "all/musculoskeletal",
          "all/infectious",
          "all/external",
          "all/mental",
          "all/mental",
          "all/neoplasms",
          "all/perinatal",
          "all/skin",
          "all/nervous system",
          "all/circulatory",
          "all/blood",
          "all/infectious",
          "all/malformations",
          "all/respiratory",
          "all/circulatory",
          "all/blood",
          "all/pregnancy",
          "all/external",
          "all/pregnancy",
          "all/perinatal",
          "all/malformations",
          "all/malformations",
          "all/malformations",
          "all/malformations",
          "all/malformations",
          "all/nervous system",
          "all/skin",
          "all/metabolic",
          "all/perinatal",
          "all/digestive",
          "all/circulatory",
          "all/ear",
          "all/digestive",
          "all/genitourinary",
          "all/ear",
          "all/nervous system",
          "all/digestive",
          "all/digestive",
          "all/digestive",
          "all/circulatory",
          "all/genitourinary",
          "all/eye",
          "all/digestive",
          "all/metabolic",
          "all/mental",
          "all/skin",
          "all/metabolic",
          "all/perinatal",
          "all/musculoskeletal",
          "all/nervous system",
          "all/external",
          "all/nervous system",
          "all/other",
          "all/genitourinary",
          "all/blood",
          "all/perinatal",
          "all/infectious",
          "all/digestive",
          "all/infectious",
          "all/circulatory",
          "all/other",
          "all/neoplasms",
          "all/skin",
          "all/perinatal",
          "all/infectious",
          "all/genitourinary",
          "all/nervous system",
          "all/respiratory",
          "all/external",
          "all/infectious",
          "all/circulatory",
          "all/external",
          "all/respiratory",
          "all/neoplasms",
          "all/metabolic",
          "all/pregnancy",
          "all/mental",
          "all/mental",
          "all/metabolic",
          "all/mental",
          "all/infectious",
          "all/neoplasms",
          "all/nervous system",
          "all/mental",
          "all/perinatal",
          "all/digestive",
          "all/genitourinary",
          "all/blood",
          "all/metabolic",
          "all/pregnancy",
          "all/mental",
          "all/musculoskeletal",
          "all/respiratory",
          "all/circulatory",
          "all/infectious",
          "all/malformations",
          "all/malformations",
          "all/nervous system",
          "all/blood",
          "all/digestive",
          "all/respiratory",
          "all/digestive",
          "all/respiratory",
          "all/respiratory",
          "all/genitourinary",
          "all/ear",
          "all/metabolic",
          "all/genitourinary",
          "all/nervous system",
          "all/skin",
          "all/perinatal",
          "all/external",
          "all/circulatory",
          "all/infectious",
          "all/pregnancy",
          "all/metabolic",
          "all/pregnancy",
          "all/respiratory",
          "all/infectious",
          "all/infectious",
          "all/skin",
          "all/nervous system",
          "all/pregnancy",
          "all/infectious",
          "all/special",
          "all/circulatory",
          "all/genitourinary",
          "all/genitourinary",
          "all/perinatal",
          "all/infectious",
          "all/mental",
          "all/external",
          "all/infectious",
          "all/musculoskeletal",
          "all/respiratory",
          "all/other",
          "all/other",
          "all/other",
          "all/other",
          "all/other",
          "all/other",
          "all/other",
          "all/nervous system",
          "all/musculoskeletal",
          "all/external",
          "all/infectious",
          "all/mental",
          "all/genitourinary",
          "all/skin",
          "all/infectious",
          "all/infectious",
          "all/infectious",
          "all/eye",
          "all",
          "all",
          "all",
          "all",
          "all",
          "all",
          "all",
          "all",
          "all",
          "all",
          "all",
          "all",
          "all",
          "all",
          "all",
          "all",
          "all",
          "all",
          "all",
          "all",
          ""
         ],
         "type": "treemap",
         "values": [
          408,
          29,
          59,
          243,
          4467,
          3275,
          162,
          22426,
          29,
          274,
          1686,
          24,
          158,
          3914,
          162641,
          1842,
          53,
          2367,
          145357,
          4284,
          2758,
          43,
          2796,
          88,
          193,
          588,
          3060,
          1240,
          273,
          891,
          4994,
          25,
          95190,
          458,
          460,
          25059,
          10,
          66787,
          1324,
          89,
          3225,
          8411,
          311,
          2562,
          4272,
          128,
          23,
          10796,
          844,
          246,
          44,
          2266,
          3047,
          2191,
          5319,
          5228,
          42155,
          14343,
          1035,
          874,
          451,
          15,
          2653,
          4748,
          132824,
          13803,
          97,
          3860,
          828,
          55,
          205,
          1836,
          45185,
          49245,
          7135,
          349471,
          760,
          20287,
          613352,
          22285,
          25,
          19878,
          135,
          38065,
          686,
          1699,
          14356,
          41,
          302,
          2047,
          1455,
          344,
          587,
          9353,
          53,
          110823,
          4275,
          225,
          647,
          46686,
          1260,
          236,
          177434,
          1420,
          24608,
          2516,
          10361,
          20279,
          709,
          14561,
          11,
          615,
          1964,
          14558,
          2881,
          465,
          172898,
          217335,
          622,
          126,
          482,
          666,
          25013,
          17,
          2466,
          57,
          965,
          53,
          339,
          49954,
          19376,
          54102,
          2142,
          2488,
          38,
          669,
          3798,
          523,
          3801,
          1299,
          466,
          38,
          3233,
          658,
          238,
          21,
          24,
          9178,
          3148,
          46750,
          572,
          31,
          1084,
          128,
          2748,
          571,
          763,
          15,
          11948,
          915968,
          128404,
          110,
          303901,
          38,
          76889,
          69212,
          9915,
          133073,
          169100,
          16690,
          629491,
          263619,
          33261,
          10001,
          1054,
          261113,
          7153,
          49954,
          3090894
         ]
        }
       ],
       "layout": {
        "autosize": true,
        "legend": {
         "tracegroupgap": 0
        },
        "margin": {
         "t": 60
        },
        "template": {
         "data": {
          "bar": [
           {
            "error_x": {
             "color": "#2a3f5f"
            },
            "error_y": {
             "color": "#2a3f5f"
            },
            "marker": {
             "line": {
              "color": "#E5ECF6",
              "width": 0.5
             },
             "pattern": {
              "fillmode": "overlay",
              "size": 10,
              "solidity": 0.2
             }
            },
            "type": "bar"
           }
          ],
          "barpolar": [
           {
            "marker": {
             "line": {
              "color": "#E5ECF6",
              "width": 0.5
             },
             "pattern": {
              "fillmode": "overlay",
              "size": 10,
              "solidity": 0.2
             }
            },
            "type": "barpolar"
           }
          ],
          "carpet": [
           {
            "aaxis": {
             "endlinecolor": "#2a3f5f",
             "gridcolor": "white",
             "linecolor": "white",
             "minorgridcolor": "white",
             "startlinecolor": "#2a3f5f"
            },
            "baxis": {
             "endlinecolor": "#2a3f5f",
             "gridcolor": "white",
             "linecolor": "white",
             "minorgridcolor": "white",
             "startlinecolor": "#2a3f5f"
            },
            "type": "carpet"
           }
          ],
          "choropleth": [
           {
            "colorbar": {
             "outlinewidth": 0,
             "ticks": ""
            },
            "type": "choropleth"
           }
          ],
          "contour": [
           {
            "colorbar": {
             "outlinewidth": 0,
             "ticks": ""
            },
            "colorscale": [
             [
              0,
              "#0d0887"
             ],
             [
              0.1111111111111111,
              "#46039f"
             ],
             [
              0.2222222222222222,
              "#7201a8"
             ],
             [
              0.3333333333333333,
              "#9c179e"
             ],
             [
              0.4444444444444444,
              "#bd3786"
             ],
             [
              0.5555555555555556,
              "#d8576b"
             ],
             [
              0.6666666666666666,
              "#ed7953"
             ],
             [
              0.7777777777777778,
              "#fb9f3a"
             ],
             [
              0.8888888888888888,
              "#fdca26"
             ],
             [
              1,
              "#f0f921"
             ]
            ],
            "type": "contour"
           }
          ],
          "contourcarpet": [
           {
            "colorbar": {
             "outlinewidth": 0,
             "ticks": ""
            },
            "type": "contourcarpet"
           }
          ],
          "heatmap": [
           {
            "colorbar": {
             "outlinewidth": 0,
             "ticks": ""
            },
            "colorscale": [
             [
              0,
              "#0d0887"
             ],
             [
              0.1111111111111111,
              "#46039f"
             ],
             [
              0.2222222222222222,
              "#7201a8"
             ],
             [
              0.3333333333333333,
              "#9c179e"
             ],
             [
              0.4444444444444444,
              "#bd3786"
             ],
             [
              0.5555555555555556,
              "#d8576b"
             ],
             [
              0.6666666666666666,
              "#ed7953"
             ],
             [
              0.7777777777777778,
              "#fb9f3a"
             ],
             [
              0.8888888888888888,
              "#fdca26"
             ],
             [
              1,
              "#f0f921"
             ]
            ],
            "type": "heatmap"
           }
          ],
          "heatmapgl": [
           {
            "colorbar": {
             "outlinewidth": 0,
             "ticks": ""
            },
            "colorscale": [
             [
              0,
              "#0d0887"
             ],
             [
              0.1111111111111111,
              "#46039f"
             ],
             [
              0.2222222222222222,
              "#7201a8"
             ],
             [
              0.3333333333333333,
              "#9c179e"
             ],
             [
              0.4444444444444444,
              "#bd3786"
             ],
             [
              0.5555555555555556,
              "#d8576b"
             ],
             [
              0.6666666666666666,
              "#ed7953"
             ],
             [
              0.7777777777777778,
              "#fb9f3a"
             ],
             [
              0.8888888888888888,
              "#fdca26"
             ],
             [
              1,
              "#f0f921"
             ]
            ],
            "type": "heatmapgl"
           }
          ],
          "histogram": [
           {
            "marker": {
             "pattern": {
              "fillmode": "overlay",
              "size": 10,
              "solidity": 0.2
             }
            },
            "type": "histogram"
           }
          ],
          "histogram2d": [
           {
            "colorbar": {
             "outlinewidth": 0,
             "ticks": ""
            },
            "colorscale": [
             [
              0,
              "#0d0887"
             ],
             [
              0.1111111111111111,
              "#46039f"
             ],
             [
              0.2222222222222222,
              "#7201a8"
             ],
             [
              0.3333333333333333,
              "#9c179e"
             ],
             [
              0.4444444444444444,
              "#bd3786"
             ],
             [
              0.5555555555555556,
              "#d8576b"
             ],
             [
              0.6666666666666666,
              "#ed7953"
             ],
             [
              0.7777777777777778,
              "#fb9f3a"
             ],
             [
              0.8888888888888888,
              "#fdca26"
             ],
             [
              1,
              "#f0f921"
             ]
            ],
            "type": "histogram2d"
           }
          ],
          "histogram2dcontour": [
           {
            "colorbar": {
             "outlinewidth": 0,
             "ticks": ""
            },
            "colorscale": [
             [
              0,
              "#0d0887"
             ],
             [
              0.1111111111111111,
              "#46039f"
             ],
             [
              0.2222222222222222,
              "#7201a8"
             ],
             [
              0.3333333333333333,
              "#9c179e"
             ],
             [
              0.4444444444444444,
              "#bd3786"
             ],
             [
              0.5555555555555556,
              "#d8576b"
             ],
             [
              0.6666666666666666,
              "#ed7953"
             ],
             [
              0.7777777777777778,
              "#fb9f3a"
             ],
             [
              0.8888888888888888,
              "#fdca26"
             ],
             [
              1,
              "#f0f921"
             ]
            ],
            "type": "histogram2dcontour"
           }
          ],
          "mesh3d": [
           {
            "colorbar": {
             "outlinewidth": 0,
             "ticks": ""
            },
            "type": "mesh3d"
           }
          ],
          "parcoords": [
           {
            "line": {
             "colorbar": {
              "outlinewidth": 0,
              "ticks": ""
             }
            },
            "type": "parcoords"
           }
          ],
          "pie": [
           {
            "automargin": true,
            "type": "pie"
           }
          ],
          "scatter": [
           {
            "fillpattern": {
             "fillmode": "overlay",
             "size": 10,
             "solidity": 0.2
            },
            "type": "scatter"
           }
          ],
          "scatter3d": [
           {
            "line": {
             "colorbar": {
              "outlinewidth": 0,
              "ticks": ""
             }
            },
            "marker": {
             "colorbar": {
              "outlinewidth": 0,
              "ticks": ""
             }
            },
            "type": "scatter3d"
           }
          ],
          "scattercarpet": [
           {
            "marker": {
             "colorbar": {
              "outlinewidth": 0,
              "ticks": ""
             }
            },
            "type": "scattercarpet"
           }
          ],
          "scattergeo": [
           {
            "marker": {
             "colorbar": {
              "outlinewidth": 0,
              "ticks": ""
             }
            },
            "type": "scattergeo"
           }
          ],
          "scattergl": [
           {
            "marker": {
             "colorbar": {
              "outlinewidth": 0,
              "ticks": ""
             }
            },
            "type": "scattergl"
           }
          ],
          "scattermapbox": [
           {
            "marker": {
             "colorbar": {
              "outlinewidth": 0,
              "ticks": ""
             }
            },
            "type": "scattermapbox"
           }
          ],
          "scatterpolar": [
           {
            "marker": {
             "colorbar": {
              "outlinewidth": 0,
              "ticks": ""
             }
            },
            "type": "scatterpolar"
           }
          ],
          "scatterpolargl": [
           {
            "marker": {
             "colorbar": {
              "outlinewidth": 0,
              "ticks": ""
             }
            },
            "type": "scatterpolargl"
           }
          ],
          "scatterternary": [
           {
            "marker": {
             "colorbar": {
              "outlinewidth": 0,
              "ticks": ""
             }
            },
            "type": "scatterternary"
           }
          ],
          "surface": [
           {
            "colorbar": {
             "outlinewidth": 0,
             "ticks": ""
            },
            "colorscale": [
             [
              0,
              "#0d0887"
             ],
             [
              0.1111111111111111,
              "#46039f"
             ],
             [
              0.2222222222222222,
              "#7201a8"
             ],
             [
              0.3333333333333333,
              "#9c179e"
             ],
             [
              0.4444444444444444,
              "#bd3786"
             ],
             [
              0.5555555555555556,
              "#d8576b"
             ],
             [
              0.6666666666666666,
              "#ed7953"
             ],
             [
              0.7777777777777778,
              "#fb9f3a"
             ],
             [
              0.8888888888888888,
              "#fdca26"
             ],
             [
              1,
              "#f0f921"
             ]
            ],
            "type": "surface"
           }
          ],
          "table": [
           {
            "cells": {
             "fill": {
              "color": "#EBF0F8"
             },
             "line": {
              "color": "white"
             }
            },
            "header": {
             "fill": {
              "color": "#C8D4E3"
             },
             "line": {
              "color": "white"
             }
            },
            "type": "table"
           }
          ]
         },
         "layout": {
          "annotationdefaults": {
           "arrowcolor": "#2a3f5f",
           "arrowhead": 0,
           "arrowwidth": 1
          },
          "autotypenumbers": "strict",
          "coloraxis": {
           "colorbar": {
            "outlinewidth": 0,
            "ticks": ""
           }
          },
          "colorscale": {
           "diverging": [
            [
             0,
             "#8e0152"
            ],
            [
             0.1,
             "#c51b7d"
            ],
            [
             0.2,
             "#de77ae"
            ],
            [
             0.3,
             "#f1b6da"
            ],
            [
             0.4,
             "#fde0ef"
            ],
            [
             0.5,
             "#f7f7f7"
            ],
            [
             0.6,
             "#e6f5d0"
            ],
            [
             0.7,
             "#b8e186"
            ],
            [
             0.8,
             "#7fbc41"
            ],
            [
             0.9,
             "#4d9221"
            ],
            [
             1,
             "#276419"
            ]
           ],
           "sequential": [
            [
             0,
             "#0d0887"
            ],
            [
             0.1111111111111111,
             "#46039f"
            ],
            [
             0.2222222222222222,
             "#7201a8"
            ],
            [
             0.3333333333333333,
             "#9c179e"
            ],
            [
             0.4444444444444444,
             "#bd3786"
            ],
            [
             0.5555555555555556,
             "#d8576b"
            ],
            [
             0.6666666666666666,
             "#ed7953"
            ],
            [
             0.7777777777777778,
             "#fb9f3a"
            ],
            [
             0.8888888888888888,
             "#fdca26"
            ],
            [
             1,
             "#f0f921"
            ]
           ],
           "sequentialminus": [
            [
             0,
             "#0d0887"
            ],
            [
             0.1111111111111111,
             "#46039f"
            ],
            [
             0.2222222222222222,
             "#7201a8"
            ],
            [
             0.3333333333333333,
             "#9c179e"
            ],
            [
             0.4444444444444444,
             "#bd3786"
            ],
            [
             0.5555555555555556,
             "#d8576b"
            ],
            [
             0.6666666666666666,
             "#ed7953"
            ],
            [
             0.7777777777777778,
             "#fb9f3a"
            ],
            [
             0.8888888888888888,
             "#fdca26"
            ],
            [
             1,
             "#f0f921"
            ]
           ]
          },
          "colorway": [
           "#636efa",
           "#EF553B",
           "#00cc96",
           "#ab63fa",
           "#FFA15A",
           "#19d3f3",
           "#FF6692",
           "#B6E880",
           "#FF97FF",
           "#FECB52"
          ],
          "font": {
           "color": "#2a3f5f"
          },
          "geo": {
           "bgcolor": "white",
           "lakecolor": "white",
           "landcolor": "#E5ECF6",
           "showlakes": true,
           "showland": true,
           "subunitcolor": "white"
          },
          "hoverlabel": {
           "align": "left"
          },
          "hovermode": "closest",
          "mapbox": {
           "style": "light"
          },
          "paper_bgcolor": "white",
          "plot_bgcolor": "#E5ECF6",
          "polar": {
           "angularaxis": {
            "gridcolor": "white",
            "linecolor": "white",
            "ticks": ""
           },
           "bgcolor": "#E5ECF6",
           "radialaxis": {
            "gridcolor": "white",
            "linecolor": "white",
            "ticks": ""
           }
          },
          "scene": {
           "xaxis": {
            "backgroundcolor": "#E5ECF6",
            "gridcolor": "white",
            "gridwidth": 2,
            "linecolor": "white",
            "showbackground": true,
            "ticks": "",
            "zerolinecolor": "white"
           },
           "yaxis": {
            "backgroundcolor": "#E5ECF6",
            "gridcolor": "white",
            "gridwidth": 2,
            "linecolor": "white",
            "showbackground": true,
            "ticks": "",
            "zerolinecolor": "white"
           },
           "zaxis": {
            "backgroundcolor": "#E5ECF6",
            "gridcolor": "white",
            "gridwidth": 2,
            "linecolor": "white",
            "showbackground": true,
            "ticks": "",
            "zerolinecolor": "white"
           }
          },
          "shapedefaults": {
           "line": {
            "color": "#2a3f5f"
           }
          },
          "ternary": {
           "aaxis": {
            "gridcolor": "white",
            "linecolor": "white",
            "ticks": ""
           },
           "baxis": {
            "gridcolor": "white",
            "linecolor": "white",
            "ticks": ""
           },
           "bgcolor": "#E5ECF6",
           "caxis": {
            "gridcolor": "white",
            "linecolor": "white",
            "ticks": ""
           }
          },
          "title": {
           "x": 0.05
          },
          "xaxis": {
           "automargin": true,
           "gridcolor": "white",
           "linecolor": "white",
           "ticks": "",
           "title": {
            "standoff": 15
           },
           "zerolinecolor": "white",
           "zerolinewidth": 2
          },
          "yaxis": {
           "automargin": true,
           "gridcolor": "white",
           "linecolor": "white",
           "ticks": "",
           "title": {
            "standoff": 15
           },
           "zerolinecolor": "white",
           "zerolinewidth": 2
          }
         }
        }
       }
      },
      "image/png": "[encoded data removed]",
      "text/html": [
       "<div>                            <div id=\"5a11e362-c2f9-4134-a568-c6da34a93ae8\" class=\"plotly-graph-div\" style=\"height:525px; width:100%;\"></div>            <script type=\"text/javascript\">                require([\"plotly\"], function(Plotly) {                    window.PLOTLYENV=window.PLOTLYENV || {};                                    if (document.getElementById(\"5a11e362-c2f9-4134-a568-c6da34a93ae8\")) {                    Plotly.newPlot(                        \"5a11e362-c2f9-4134-a568-c6da34a93ae8\",                        [{\"branchvalues\":\"total\",\"domain\":{\"x\":[0.0,1.0],\"y\":[0.0,1.0]},\"hovertemplate\":\"labels=%{label}\\u003cbr\\u003edeaths=%{value}\\u003cbr\\u003eparent=%{parent}\\u003cbr\\u003eid=%{id}\\u003cextra\\u003e\\u003c\\u002fextra\\u003e\",\"ids\":[\"all\\u002fother\\u002fAbnormal findings on diagnostic imaging and in function studies, without diagnosis\",\"all\\u002fother\\u002fAbnormal findings on examination of blood, without diagnosis\",\"all\\u002fcirculatory\\u002fAcute rheumatic fever\",\"all\\u002frespiratory\\u002fAcute upper respiratory infections\",\"all\\u002fblood\\u002fAplastic and other anaemias\",\"all\\u002fmusculoskeletal\\u002fArthropathies\",\"all\\u002finfectious\\u002fArthropod-borne viral fevers and viral haemorrhagic fevers\",\"all\\u002fexternal\\u002fAssault\",\"all\\u002fmental\\u002fBehavioural and emotional disorders with onset usually occurring in childhood and adolescence\",\"all\\u002fmental\\u002fBehavioural syndromes associated with physiological disturbances and physical factors\",\"all\\u002fneoplasms\\u002fBenign neoplasms\",\"all\\u002fperinatal\\u002fBirth trauma\",\"all\\u002fskin\\u002fBullous disorders\",\"all\\u002fnervous system\\u002fCerebral palsy and other paralytic syndromes\",\"all\\u002fcirculatory\\u002fCerebrovascular diseases\",\"all\\u002fblood\\u002fCertain disorders involving the immune mechanism\",\"all\\u002finfectious\\u002fCertain zoonotic bacterial diseases\",\"all\\u002fmalformations\\u002fChromosomal abnormalities, not elsewhere classified\",\"all\\u002frespiratory\\u002fChronic lower respiratory diseases\",\"all\\u002fcirculatory\\u002fChronic rheumatic heart diseases\",\"all\\u002fblood\\u002fCoagulation defects, purpura and other haemorrhagic conditions\",\"all\\u002fpregnancy\\u002fComplications of labour and delivery\",\"all\\u002fexternal\\u002fComplications of medical and surgical care\",\"all\\u002fpregnancy\\u002fComplications predominantly related to the puerperium\",\"all\\u002fperinatal\\u002fConditions involving the integument and temperature regulation of newborn\",\"all\\u002fmalformations\\u002fCongenital malformations and deformations of the musculoskeletal system\",\"all\\u002fmalformations\\u002fCongenital malformations of the circulatory system\",\"all\\u002fmalformations\\u002fCongenital malformations of the nervous system\",\"all\\u002fmalformations\\u002fCongenital malformations of the respiratory system\",\"all\\u002fmalformations\\u002fCongenital malformations of the urinary system\",\"all\\u002fnervous system\\u002fDemyelinating diseases of the central nervous system\",\"all\\u002fskin\\u002fDermatitis and eczema\",\"all\\u002fmetabolic\\u002fDiabetes mellitus\",\"all\\u002fperinatal\\u002fDigestive system disorders of newborn\",\"all\\u002fdigestive\\u002fDiseases of appendix\",\"all\\u002fcirculatory\\u002fDiseases of arteries, arterioles and capillaries\",\"all\\u002fear\\u002fDiseases of external ear\",\"all\\u002fdigestive\\u002fDiseases of liver\",\"all\\u002fgenitourinary\\u002fDiseases of male genital organs\",\"all\\u002fear\\u002fDiseases of middle ear and mastoid\",\"all\\u002fnervous system\\u002fDiseases of myoneural junction and muscle\",\"all\\u002fdigestive\\u002fDiseases of oesophagus, stomach and duodenum\",\"all\\u002fdigestive\\u002fDiseases of oral cavity, salivary glands and jaws\",\"all\\u002fdigestive\\u002fDiseases of peritoneum\",\"all\\u002fcirculatory\\u002fDiseases of veins, lymphatic vessels and lymph nodes, not elsewhere classified\",\"all\\u002fgenitourinary\\u002fDisorders of breast\",\"all\\u002feye\\u002fDisorders of eyelid, lacrimal system and orbit\",\"all\\u002fdigestive\\u002fDisorders of gallbladder, biliary tract and pancreas\",\"all\\u002fmetabolic\\u002fDisorders of other endocrine glands\",\"all\\u002fmental\\u002fDisorders of psychological development\",\"all\\u002fskin\\u002fDisorders of skin appendages\",\"all\\u002fmetabolic\\u002fDisorders of thyroid gland\",\"all\\u002fperinatal\\u002fDisorders related to length of gestation and fetal growth\",\"all\\u002fmusculoskeletal\\u002fDorsopathies\",\"all\\u002fnervous system\\u002fEpisodic and paroxysmal disorders\",\"all\\u002fexternal\\u002fEvent of undetermined intent\",\"all\\u002fnervous system\\u002fExtrapyramidal and movement disorders\",\"all\\u002fother\\u002fGeneral symptoms and signs\",\"all\\u002fgenitourinary\\u002fGlomerular diseases\",\"all\\u002fblood\\u002fHaemolytic anaemias\",\"all\\u002fperinatal\\u002fHaemorrhagic and haematological disorders of newborn\",\"all\\u002finfectious\\u002fHelminthiases\",\"all\\u002fdigestive\\u002fHernia\",\"all\\u002finfectious\\u002fHuman immunodeficiency virus [HIV] disease\",\"all\\u002fcirculatory\\u002fHypertensive diseases\",\"all\\u002fother\\u002fIll-defined and unknown causes of mortality\",\"all\\u002fneoplasms\\u002fIn situ neoplasms\",\"all\\u002fskin\\u002fInfections of the skin and subcutaneous tissue\",\"all\\u002fperinatal\\u002fInfections specific to the perinatal period\",\"all\\u002finfectious\\u002fInfections with a predominantly sexual mode of transmission\",\"all\\u002fgenitourinary\\u002fInflammatory diseases of female pelvic organs\",\"all\\u002fnervous system\\u002fInflammatory diseases of the central nervous system\",\"all\\u002frespiratory\\u002fInfluenza and pneumonia\",\"all\\u002fexternal\\u002fIntentional self-harm\",\"all\\u002finfectious\\u002fIntestinal infectious diseases\",\"all\\u002fcirculatory\\u002fIschaemic heart diseases\",\"all\\u002fexternal\\u002fLegal intervention and operations of war\",\"all\\u002frespiratory\\u002fLung diseases due to external agents\",\"all\\u002fneoplasms\\u002fMalignant neoplasms\",\"all\\u002fmetabolic\\u002fMalnutrition\",\"all\\u002fpregnancy\\u002fMaternal care related to the fetus and amniotic cavity and possible delivery problems\",\"all\\u002fmental\\u002fMental and behavioural disorders due to psychoactive substance use\",\"all\\u002fmental\\u002fMental retardation\",\"all\\u002fmetabolic\\u002fMetabolic disorders\",\"all\\u002fmental\\u002fMood [affective] disorders\",\"all\\u002finfectious\\u002fMycoses\",\"all\\u002fneoplasms\\u002fNeoplasms of uncertain or unknown behaviour\",\"all\\u002fnervous system\\u002fNerve, nerve root and plexus disorders\",\"all\\u002fmental\\u002fNeurotic, stress-related and somatoform disorders\",\"all\\u002fperinatal\\u002fNewborn affected by maternal factors and by complications of pregnancy, labour and delivery\",\"all\\u002fdigestive\\u002fNoninfective enteritis and colitis\",\"all\\u002fgenitourinary\\u002fNoninflammatory disorders of female genital tract\",\"all\\u002fblood\\u002fNutritional anaemias\",\"all\\u002fmetabolic\\u002fObesity and other hyperalimentation\",\"all\\u002fpregnancy\\u002fOedema, proteinuria and hypertensive disorders in pregnancy, childbirth and the puerperium\",\"all\\u002fmental\\u002fOrganic, including symptomatic, mental disorders\",\"all\\u002fmusculoskeletal\\u002fOsteopathies and chondropathies\",\"all\\u002frespiratory\\u002fOther acute lower respiratory infections\",\"all\\u002fcirculatory\\u002fOther and unspecified disorders of the circulatory system\",\"all\\u002finfectious\\u002fOther bacterial diseases\",\"all\\u002fmalformations\\u002fOther congenital malformations\",\"all\\u002fmalformations\\u002fOther congenital malformations of the digestive system\",\"all\\u002fnervous system\\u002fOther degenerative diseases of the nervous system\",\"all\\u002fblood\\u002fOther diseases of blood and blood-forming organs\",\"all\\u002fdigestive\\u002fOther diseases of intestines\",\"all\\u002frespiratory\\u002fOther diseases of pleura\",\"all\\u002fdigestive\\u002fOther diseases of the digestive system\",\"all\\u002frespiratory\\u002fOther diseases of the respiratory system\",\"all\\u002frespiratory\\u002fOther diseases of upper respiratory tract\",\"all\\u002fgenitourinary\\u002fOther diseases of urinary system\",\"all\\u002fear\\u002fOther disorders of ear\",\"all\\u002fmetabolic\\u002fOther disorders of glucose regulation and pancreatic internal secretion\",\"all\\u002fgenitourinary\\u002fOther disorders of kidney and ureter\",\"all\\u002fnervous system\\u002fOther disorders of the nervous system\",\"all\\u002fskin\\u002fOther disorders of the skin and subcutaneous tissue\",\"all\\u002fperinatal\\u002fOther disorders originating in the perinatal period\",\"all\\u002fexternal\\u002fOther external causes of accidental injury\",\"all\\u002fcirculatory\\u002fOther forms of heart disease\",\"all\\u002finfectious\\u002fOther infectious diseases\",\"all\\u002fpregnancy\\u002fOther maternal disorders predominantly related to pregnancy\",\"all\\u002fmetabolic\\u002fOther nutritional deficiencies\",\"all\\u002fpregnancy\\u002fOther obstetric conditions, not elsewhere classified\",\"all\\u002frespiratory\\u002fOther respiratory diseases principally affecting the interstitium\",\"all\\u002finfectious\\u002fOther spirochaetal diseases\",\"all\\u002finfectious\\u002fOther viral diseases\",\"all\\u002fskin\\u002fPapulosquamous disorders\",\"all\\u002fnervous system\\u002fPolyneuropathies and other disorders of the peripheral nervous system\",\"all\\u002fpregnancy\\u002fPregnancy with abortive outcome\",\"all\\u002finfectious\\u002fProtozoal diseases\",\"all\\u002fspecial\\u002fProvisional assignment of new diseases of uncertain etiology\",\"all\\u002fcirculatory\\u002fPulmonary heart disease and diseases of pulmonary circulation\",\"all\\u002fgenitourinary\\u002fRenal failure\",\"all\\u002fgenitourinary\\u002fRenal tubulo-interstitial diseases\",\"all\\u002fperinatal\\u002fRespiratory and cardiovascular disorders specific to the perinatal period\",\"all\\u002finfectious\\u002fRickettsioses\",\"all\\u002fmental\\u002fSchizophrenia, schizotypal and delusional disorders\",\"all\\u002fexternal\\u002fSequelae of external causes of morbidity and mortality\",\"all\\u002finfectious\\u002fSequelae of infectious and parasitic diseases\",\"all\\u002fmusculoskeletal\\u002fSoft tissue disorders\",\"all\\u002frespiratory\\u002fSuppurative and necrotic conditions of lower respiratory tract\",\"all\\u002fother\\u002fSymptoms and signs involving cognition, perception, emotional state and behaviour\",\"all\\u002fother\\u002fSymptoms and signs involving speech and voice\",\"all\\u002fother\\u002fSymptoms and signs involving the circulatory and respiratory systems\",\"all\\u002fother\\u002fSymptoms and signs involving the digestive system and abdomen\",\"all\\u002fother\\u002fSymptoms and signs involving the nervous and musculoskeletal systems\",\"all\\u002fother\\u002fSymptoms and signs involving the skin and subcutaneous tissue\",\"all\\u002fother\\u002fSymptoms and signs involving the urinary system\",\"all\\u002fnervous system\\u002fSystemic atrophies primarily affecting the central nervous system\",\"all\\u002fmusculoskeletal\\u002fSystemic connective tissue disorders\",\"all\\u002fexternal\\u002fTransport accidents\",\"all\\u002finfectious\\u002fTuberculosis\",\"all\\u002fmental\\u002fUnspecified mental disorder\",\"all\\u002fgenitourinary\\u002fUrolithiasis\",\"all\\u002fskin\\u002fUrticaria and erythema\",\"all\\u002finfectious\\u002fViral hepatitis\",\"all\\u002finfectious\\u002fViral infections characterized by skin and mucous membrane lesions\",\"all\\u002finfectious\\u002fViral infections of the central nervous system\",\"all\\u002feye\\u002fVisual disturbances and blindness\",\"all\\u002fblood\",\"all\\u002fcirculatory\",\"all\\u002fdigestive\",\"all\\u002fear\",\"all\\u002fexternal\",\"all\\u002feye\",\"all\\u002fgenitourinary\",\"all\\u002finfectious\",\"all\\u002fmalformations\",\"all\\u002fmental\",\"all\\u002fmetabolic\",\"all\\u002fmusculoskeletal\",\"all\\u002fneoplasms\",\"all\\u002fnervous system\",\"all\\u002fother\",\"all\\u002fperinatal\",\"all\\u002fpregnancy\",\"all\\u002frespiratory\",\"all\\u002fskin\",\"all\\u002fspecial\",\"all\"],\"labels\":[\"Abnormal findings on diagnostic imaging and in function studies, without diagnosis\",\"Abnormal findings on examination of blood, without diagnosis\",\"Acute rheumatic fever\",\"Acute upper respiratory infections\",\"Aplastic and other anaemias\",\"Arthropathies\",\"Arthropod-borne viral fevers and viral haemorrhagic fevers\",\"Assault\",\"Behavioural and emotional disorders with onset usually occurring in childhood and adolescence\",\"Behavioural syndromes associated with physiological disturbances and physical factors\",\"Benign neoplasms\",\"Birth trauma\",\"Bullous disorders\",\"Cerebral palsy and other paralytic syndromes\",\"Cerebrovascular diseases\",\"Certain disorders involving the immune mechanism\",\"Certain zoonotic bacterial diseases\",\"Chromosomal abnormalities, not elsewhere classified\",\"Chronic lower respiratory diseases\",\"Chronic rheumatic heart diseases\",\"Coagulation defects, purpura and other haemorrhagic conditions\",\"Complications of labour and delivery\",\"Complications of medical and surgical care\",\"Complications predominantly related to the puerperium\",\"Conditions involving the integument and temperature regulation of newborn\",\"Congenital malformations and deformations of the musculoskeletal system\",\"Congenital malformations of the circulatory system\",\"Congenital malformations of the nervous system\",\"Congenital malformations of the respiratory system\",\"Congenital malformations of the urinary system\",\"Demyelinating diseases of the central nervous system\",\"Dermatitis and eczema\",\"Diabetes mellitus\",\"Digestive system disorders of newborn\",\"Diseases of appendix\",\"Diseases of arteries, arterioles and capillaries\",\"Diseases of external ear\",\"Diseases of liver\",\"Diseases of male genital organs\",\"Diseases of middle ear and mastoid\",\"Diseases of myoneural junction and muscle\",\"Diseases of oesophagus, stomach and duodenum\",\"Diseases of oral cavity, salivary glands and jaws\",\"Diseases of peritoneum\",\"Diseases of veins, lymphatic vessels and lymph nodes, not elsewhere classified\",\"Disorders of breast\",\"Disorders of eyelid, lacrimal system and orbit\",\"Disorders of gallbladder, biliary tract and pancreas\",\"Disorders of other endocrine glands\",\"Disorders of psychological development\",\"Disorders of skin appendages\",\"Disorders of thyroid gland\",\"Disorders related to length of gestation and fetal growth\",\"Dorsopathies\",\"Episodic and paroxysmal disorders\",\"Event of undetermined intent\",\"Extrapyramidal and movement disorders\",\"General symptoms and signs\",\"Glomerular diseases\",\"Haemolytic anaemias\",\"Haemorrhagic and haematological disorders of newborn\",\"Helminthiases\",\"Hernia\",\"Human immunodeficiency virus [HIV] disease\",\"Hypertensive diseases\",\"Ill-defined and unknown causes of mortality\",\"In situ neoplasms\",\"Infections of the skin and subcutaneous tissue\",\"Infections specific to the perinatal period\",\"Infections with a predominantly sexual mode of transmission\",\"Inflammatory diseases of female pelvic organs\",\"Inflammatory diseases of the central nervous system\",\"Influenza and pneumonia\",\"Intentional self-harm\",\"Intestinal infectious diseases\",\"Ischaemic heart diseases\",\"Legal intervention and operations of war\",\"Lung diseases due to external agents\",\"Malignant neoplasms\",\"Malnutrition\",\"Maternal care related to the fetus and amniotic cavity and possible delivery problems\",\"Mental and behavioural disorders due to psychoactive substance use\",\"Mental retardation\",\"Metabolic disorders\",\"Mood [affective] disorders\",\"Mycoses\",\"Neoplasms of uncertain or unknown behaviour\",\"Nerve, nerve root and plexus disorders\",\"Neurotic, stress-related and somatoform disorders\",\"Newborn affected by maternal factors and by complications of pregnancy, labour and delivery\",\"Noninfective enteritis and colitis\",\"Noninflammatory disorders of female genital tract\",\"Nutritional anaemias\",\"Obesity and other hyperalimentation\",\"Oedema, proteinuria and hypertensive disorders in pregnancy, childbirth and the puerperium\",\"Organic, including symptomatic, mental disorders\",\"Osteopathies and chondropathies\",\"Other acute lower respiratory infections\",\"Other and unspecified disorders of the circulatory system\",\"Other bacterial diseases\",\"Other congenital malformations\",\"Other congenital malformations of the digestive system\",\"Other degenerative diseases of the nervous system\",\"Other diseases of blood and blood-forming organs\",\"Other diseases of intestines\",\"Other diseases of pleura\",\"Other diseases of the digestive system\",\"Other diseases of the respiratory system\",\"Other diseases of upper respiratory tract\",\"Other diseases of urinary system\",\"Other disorders of ear\",\"Other disorders of glucose regulation and pancreatic internal secretion\",\"Other disorders of kidney and ureter\",\"Other disorders of the nervous system\",\"Other disorders of the skin and subcutaneous tissue\",\"Other disorders originating in the perinatal period\",\"Other external causes of accidental injury\",\"Other forms of heart disease\",\"Other infectious diseases\",\"Other maternal disorders predominantly related to pregnancy\",\"Other nutritional deficiencies\",\"Other obstetric conditions, not elsewhere classified\",\"Other respiratory diseases principally affecting the interstitium\",\"Other spirochaetal diseases\",\"Other viral diseases\",\"Papulosquamous disorders\",\"Polyneuropathies and other disorders of the peripheral nervous system\",\"Pregnancy with abortive outcome\",\"Protozoal diseases\",\"Provisional assignment of new diseases of uncertain etiology\",\"Pulmonary heart disease and diseases of pulmonary circulation\",\"Renal failure\",\"Renal tubulo-interstitial diseases\",\"Respiratory and cardiovascular disorders specific to the perinatal period\",\"Rickettsioses\",\"Schizophrenia, schizotypal and delusional disorders\",\"Sequelae of external causes of morbidity and mortality\",\"Sequelae of infectious and parasitic diseases\",\"Soft tissue disorders\",\"Suppurative and necrotic conditions of lower respiratory tract\",\"Symptoms and signs involving cognition, perception, emotional state and behaviour\",\"Symptoms and signs involving speech and voice\",\"Symptoms and signs involving the circulatory and respiratory systems\",\"Symptoms and signs involving the digestive system and abdomen\",\"Symptoms and signs involving the nervous and musculoskeletal systems\",\"Symptoms and signs involving the skin and subcutaneous tissue\",\"Symptoms and signs involving the urinary system\",\"Systemic atrophies primarily affecting the central nervous system\",\"Systemic connective tissue disorders\",\"Transport accidents\",\"Tuberculosis\",\"Unspecified mental disorder\",\"Urolithiasis\",\"Urticaria and erythema\",\"Viral hepatitis\",\"Viral infections characterized by skin and mucous membrane lesions\",\"Viral infections of the central nervous system\",\"Visual disturbances and blindness\",\"blood\",\"circulatory\",\"digestive\",\"ear\",\"external\",\"eye\",\"genitourinary\",\"infectious\",\"malformations\",\"mental\",\"metabolic\",\"musculoskeletal\",\"neoplasms\",\"nervous system\",\"other\",\"perinatal\",\"pregnancy\",\"respiratory\",\"skin\",\"special\",\"all\"],\"name\":\"\",\"parents\":[\"all\\u002fother\",\"all\\u002fother\",\"all\\u002fcirculatory\",\"all\\u002frespiratory\",\"all\\u002fblood\",\"all\\u002fmusculoskeletal\",\"all\\u002finfectious\",\"all\\u002fexternal\",\"all\\u002fmental\",\"all\\u002fmental\",\"all\\u002fneoplasms\",\"all\\u002fperinatal\",\"all\\u002fskin\",\"all\\u002fnervous system\",\"all\\u002fcirculatory\",\"all\\u002fblood\",\"all\\u002finfectious\",\"all\\u002fmalformations\",\"all\\u002frespiratory\",\"all\\u002fcirculatory\",\"all\\u002fblood\",\"all\\u002fpregnancy\",\"all\\u002fexternal\",\"all\\u002fpregnancy\",\"all\\u002fperinatal\",\"all\\u002fmalformations\",\"all\\u002fmalformations\",\"all\\u002fmalformations\",\"all\\u002fmalformations\",\"all\\u002fmalformations\",\"all\\u002fnervous system\",\"all\\u002fskin\",\"all\\u002fmetabolic\",\"all\\u002fperinatal\",\"all\\u002fdigestive\",\"all\\u002fcirculatory\",\"all\\u002fear\",\"all\\u002fdigestive\",\"all\\u002fgenitourinary\",\"all\\u002fear\",\"all\\u002fnervous system\",\"all\\u002fdigestive\",\"all\\u002fdigestive\",\"all\\u002fdigestive\",\"all\\u002fcirculatory\",\"all\\u002fgenitourinary\",\"all\\u002feye\",\"all\\u002fdigestive\",\"all\\u002fmetabolic\",\"all\\u002fmental\",\"all\\u002fskin\",\"all\\u002fmetabolic\",\"all\\u002fperinatal\",\"all\\u002fmusculoskeletal\",\"all\\u002fnervous system\",\"all\\u002fexternal\",\"all\\u002fnervous system\",\"all\\u002fother\",\"all\\u002fgenitourinary\",\"all\\u002fblood\",\"all\\u002fperinatal\",\"all\\u002finfectious\",\"all\\u002fdigestive\",\"all\\u002finfectious\",\"all\\u002fcirculatory\",\"all\\u002fother\",\"all\\u002fneoplasms\",\"all\\u002fskin\",\"all\\u002fperinatal\",\"all\\u002finfectious\",\"all\\u002fgenitourinary\",\"all\\u002fnervous system\",\"all\\u002frespiratory\",\"all\\u002fexternal\",\"all\\u002finfectious\",\"all\\u002fcirculatory\",\"all\\u002fexternal\",\"all\\u002frespiratory\",\"all\\u002fneoplasms\",\"all\\u002fmetabolic\",\"all\\u002fpregnancy\",\"all\\u002fmental\",\"all\\u002fmental\",\"all\\u002fmetabolic\",\"all\\u002fmental\",\"all\\u002finfectious\",\"all\\u002fneoplasms\",\"all\\u002fnervous system\",\"all\\u002fmental\",\"all\\u002fperinatal\",\"all\\u002fdigestive\",\"all\\u002fgenitourinary\",\"all\\u002fblood\",\"all\\u002fmetabolic\",\"all\\u002fpregnancy\",\"all\\u002fmental\",\"all\\u002fmusculoskeletal\",\"all\\u002frespiratory\",\"all\\u002fcirculatory\",\"all\\u002finfectious\",\"all\\u002fmalformations\",\"all\\u002fmalformations\",\"all\\u002fnervous system\",\"all\\u002fblood\",\"all\\u002fdigestive\",\"all\\u002frespiratory\",\"all\\u002fdigestive\",\"all\\u002frespiratory\",\"all\\u002frespiratory\",\"all\\u002fgenitourinary\",\"all\\u002fear\",\"all\\u002fmetabolic\",\"all\\u002fgenitourinary\",\"all\\u002fnervous system\",\"all\\u002fskin\",\"all\\u002fperinatal\",\"all\\u002fexternal\",\"all\\u002fcirculatory\",\"all\\u002finfectious\",\"all\\u002fpregnancy\",\"all\\u002fmetabolic\",\"all\\u002fpregnancy\",\"all\\u002frespiratory\",\"all\\u002finfectious\",\"all\\u002finfectious\",\"all\\u002fskin\",\"all\\u002fnervous system\",\"all\\u002fpregnancy\",\"all\\u002finfectious\",\"all\\u002fspecial\",\"all\\u002fcirculatory\",\"all\\u002fgenitourinary\",\"all\\u002fgenitourinary\",\"all\\u002fperinatal\",\"all\\u002finfectious\",\"all\\u002fmental\",\"all\\u002fexternal\",\"all\\u002finfectious\",\"all\\u002fmusculoskeletal\",\"all\\u002frespiratory\",\"all\\u002fother\",\"all\\u002fother\",\"all\\u002fother\",\"all\\u002fother\",\"all\\u002fother\",\"all\\u002fother\",\"all\\u002fother\",\"all\\u002fnervous system\",\"all\\u002fmusculoskeletal\",\"all\\u002fexternal\",\"all\\u002finfectious\",\"all\\u002fmental\",\"all\\u002fgenitourinary\",\"all\\u002fskin\",\"all\\u002finfectious\",\"all\\u002finfectious\",\"all\\u002finfectious\",\"all\\u002feye\",\"all\",\"all\",\"all\",\"all\",\"all\",\"all\",\"all\",\"all\",\"all\",\"all\",\"all\",\"all\",\"all\",\"all\",\"all\",\"all\",\"all\",\"all\",\"all\",\"all\",\"\"],\"values\":[408,29,59,243,4467,3275,162,22426,29,274,1686,24,158,3914,162641,1842,53,2367,145357,4284,2758,43,2796,88,193,588,3060,1240,273,891,4994,25,95190,458,460,25059,10,66787,1324,89,3225,8411,311,2562,4272,128,23,10796,844,246,44,2266,3047,2191,5319,5228,42155,14343,1035,874,451,15,2653,4748,132824,13803,97,3860,828,55,205,1836,45185,49245,7135,349471,760,20287,613352,22285,25,19878,135,38065,686,1699,14356,41,302,2047,1455,344,587,9353,53,110823,4275,225,647,46686,1260,236,177434,1420,24608,2516,10361,20279,709,14561,11,615,1964,14558,2881,465,172898,217335,622,126,482,666,25013,17,2466,57,965,53,339,49954,19376,54102,2142,2488,38,669,3798,523,3801,1299,466,38,3233,658,238,21,24,9178,3148,46750,572,31,1084,128,2748,571,763,15,11948,915968,128404,110,303901,38,76889,69212,9915,133073,169100,16690,629491,263619,33261,10001,1054,261113,7153,49954,3090894],\"type\":\"treemap\"}],                        {\"template\":{\"data\":{\"histogram2dcontour\":[{\"type\":\"histogram2dcontour\",\"colorbar\":{\"outlinewidth\":0,\"ticks\":\"\"},\"colorscale\":[[0.0,\"#0d0887\"],[0.1111111111111111,\"#46039f\"],[0.2222222222222222,\"#7201a8\"],[0.3333333333333333,\"#9c179e\"],[0.4444444444444444,\"#bd3786\"],[0.5555555555555556,\"#d8576b\"],[0.6666666666666666,\"#ed7953\"],[0.7777777777777778,\"#fb9f3a\"],[0.8888888888888888,\"#fdca26\"],[1.0,\"#f0f921\"]]}],\"choropleth\":[{\"type\":\"choropleth\",\"colorbar\":{\"outlinewidth\":0,\"ticks\":\"\"}}],\"histogram2d\":[{\"type\":\"histogram2d\",\"colorbar\":{\"outlinewidth\":0,\"ticks\":\"\"},\"colorscale\":[[0.0,\"#0d0887\"],[0.1111111111111111,\"#46039f\"],[0.2222222222222222,\"#7201a8\"],[0.3333333333333333,\"#9c179e\"],[0.4444444444444444,\"#bd3786\"],[0.5555555555555556,\"#d8576b\"],[0.6666666666666666,\"#ed7953\"],[0.7777777777777778,\"#fb9f3a\"],[0.8888888888888888,\"#fdca26\"],[1.0,\"#f0f921\"]]}],\"heatmap\":[{\"type\":\"heatmap\",\"colorbar\":{\"outlinewidth\":0,\"ticks\":\"\"},\"colorscale\":[[0.0,\"#0d0887\"],[0.1111111111111111,\"#46039f\"],[0.2222222222222222,\"#7201a8\"],[0.3333333333333333,\"#9c179e\"],[0.4444444444444444,\"#bd3786\"],[0.5555555555555556,\"#d8576b\"],[0.6666666666666666,\"#ed7953\"],[0.7777777777777778,\"#fb9f3a\"],[0.8888888888888888,\"#fdca26\"],[1.0,\"#f0f921\"]]}],\"heatmapgl\":[{\"type\":\"heatmapgl\",\"colorbar\":{\"outlinewidth\":0,\"ticks\":\"\"},\"colorscale\":[[0.0,\"#0d0887\"],[0.1111111111111111,\"#46039f\"],[0.2222222222222222,\"#7201a8\"],[0.3333333333333333,\"#9c179e\"],[0.4444444444444444,\"#bd3786\"],[0.5555555555555556,\"#d8576b\"],[0.6666666666666666,\"#ed7953\"],[0.7777777777777778,\"#fb9f3a\"],[0.8888888888888888,\"#fdca26\"],[1.0,\"#f0f921\"]]}],\"contourcarpet\":[{\"type\":\"contourcarpet\",\"colorbar\":{\"outlinewidth\":0,\"ticks\":\"\"}}],\"contour\":[{\"type\":\"contour\",\"colorbar\":{\"outlinewidth\":0,\"ticks\":\"\"},\"colorscale\":[[0.0,\"#0d0887\"],[0.1111111111111111,\"#46039f\"],[0.2222222222222222,\"#7201a8\"],[0.3333333333333333,\"#9c179e\"],[0.4444444444444444,\"#bd3786\"],[0.5555555555555556,\"#d8576b\"],[0.6666666666666666,\"#ed7953\"],[0.7777777777777778,\"#fb9f3a\"],[0.8888888888888888,\"#fdca26\"],[1.0,\"#f0f921\"]]}],\"surface\":[{\"type\":\"surface\",\"colorbar\":{\"outlinewidth\":0,\"ticks\":\"\"},\"colorscale\":[[0.0,\"#0d0887\"],[0.1111111111111111,\"#46039f\"],[0.2222222222222222,\"#7201a8\"],[0.3333333333333333,\"#9c179e\"],[0.4444444444444444,\"#bd3786\"],[0.5555555555555556,\"#d8576b\"],[0.6666666666666666,\"#ed7953\"],[0.7777777777777778,\"#fb9f3a\"],[0.8888888888888888,\"#fdca26\"],[1.0,\"#f0f921\"]]}],\"mesh3d\":[{\"type\":\"mesh3d\",\"colorbar\":{\"outlinewidth\":0,\"ticks\":\"\"}}],\"scatter\":[{\"fillpattern\":{\"fillmode\":\"overlay\",\"size\":10,\"solidity\":0.2},\"type\":\"scatter\"}],\"parcoords\":[{\"type\":\"parcoords\",\"line\":{\"colorbar\":{\"outlinewidth\":0,\"ticks\":\"\"}}}],\"scatterpolargl\":[{\"type\":\"scatterpolargl\",\"marker\":{\"colorbar\":{\"outlinewidth\":0,\"ticks\":\"\"}}}],\"bar\":[{\"error_x\":{\"color\":\"#2a3f5f\"},\"error_y\":{\"color\":\"#2a3f5f\"},\"marker\":{\"line\":{\"color\":\"#E5ECF6\",\"width\":0.5},\"pattern\":{\"fillmode\":\"overlay\",\"size\":10,\"solidity\":0.2}},\"type\":\"bar\"}],\"scattergeo\":[{\"type\":\"scattergeo\",\"marker\":{\"colorbar\":{\"outlinewidth\":0,\"ticks\":\"\"}}}],\"scatterpolar\":[{\"type\":\"scatterpolar\",\"marker\":{\"colorbar\":{\"outlinewidth\":0,\"ticks\":\"\"}}}],\"histogram\":[{\"marker\":{\"pattern\":{\"fillmode\":\"overlay\",\"size\":10,\"solidity\":0.2}},\"type\":\"histogram\"}],\"scattergl\":[{\"type\":\"scattergl\",\"marker\":{\"colorbar\":{\"outlinewidth\":0,\"ticks\":\"\"}}}],\"scatter3d\":[{\"type\":\"scatter3d\",\"line\":{\"colorbar\":{\"outlinewidth\":0,\"ticks\":\"\"}},\"marker\":{\"colorbar\":{\"outlinewidth\":0,\"ticks\":\"\"}}}],\"scattermapbox\":[{\"type\":\"scattermapbox\",\"marker\":{\"colorbar\":{\"outlinewidth\":0,\"ticks\":\"\"}}}],\"scatterternary\":[{\"type\":\"scatterternary\",\"marker\":{\"colorbar\":{\"outlinewidth\":0,\"ticks\":\"\"}}}],\"scattercarpet\":[{\"type\":\"scattercarpet\",\"marker\":{\"colorbar\":{\"outlinewidth\":0,\"ticks\":\"\"}}}],\"carpet\":[{\"aaxis\":{\"endlinecolor\":\"#2a3f5f\",\"gridcolor\":\"white\",\"linecolor\":\"white\",\"minorgridcolor\":\"white\",\"startlinecolor\":\"#2a3f5f\"},\"baxis\":{\"endlinecolor\":\"#2a3f5f\",\"gridcolor\":\"white\",\"linecolor\":\"white\",\"minorgridcolor\":\"white\",\"startlinecolor\":\"#2a3f5f\"},\"type\":\"carpet\"}],\"table\":[{\"cells\":{\"fill\":{\"color\":\"#EBF0F8\"},\"line\":{\"color\":\"white\"}},\"header\":{\"fill\":{\"color\":\"#C8D4E3\"},\"line\":{\"color\":\"white\"}},\"type\":\"table\"}],\"barpolar\":[{\"marker\":{\"line\":{\"color\":\"#E5ECF6\",\"width\":0.5},\"pattern\":{\"fillmode\":\"overlay\",\"size\":10,\"solidity\":0.2}},\"type\":\"barpolar\"}],\"pie\":[{\"automargin\":true,\"type\":\"pie\"}]},\"layout\":{\"autotypenumbers\":\"strict\",\"colorway\":[\"#636efa\",\"#EF553B\",\"#00cc96\",\"#ab63fa\",\"#FFA15A\",\"#19d3f3\",\"#FF6692\",\"#B6E880\",\"#FF97FF\",\"#FECB52\"],\"font\":{\"color\":\"#2a3f5f\"},\"hovermode\":\"closest\",\"hoverlabel\":{\"align\":\"left\"},\"paper_bgcolor\":\"white\",\"plot_bgcolor\":\"#E5ECF6\",\"polar\":{\"bgcolor\":\"#E5ECF6\",\"angularaxis\":{\"gridcolor\":\"white\",\"linecolor\":\"white\",\"ticks\":\"\"},\"radialaxis\":{\"gridcolor\":\"white\",\"linecolor\":\"white\",\"ticks\":\"\"}},\"ternary\":{\"bgcolor\":\"#E5ECF6\",\"aaxis\":{\"gridcolor\":\"white\",\"linecolor\":\"white\",\"ticks\":\"\"},\"baxis\":{\"gridcolor\":\"white\",\"linecolor\":\"white\",\"ticks\":\"\"},\"caxis\":{\"gridcolor\":\"white\",\"linecolor\":\"white\",\"ticks\":\"\"}},\"coloraxis\":{\"colorbar\":{\"outlinewidth\":0,\"ticks\":\"\"}},\"colorscale\":{\"sequential\":[[0.0,\"#0d0887\"],[0.1111111111111111,\"#46039f\"],[0.2222222222222222,\"#7201a8\"],[0.3333333333333333,\"#9c179e\"],[0.4444444444444444,\"#bd3786\"],[0.5555555555555556,\"#d8576b\"],[0.6666666666666666,\"#ed7953\"],[0.7777777777777778,\"#fb9f3a\"],[0.8888888888888888,\"#fdca26\"],[1.0,\"#f0f921\"]],\"sequentialminus\":[[0.0,\"#0d0887\"],[0.1111111111111111,\"#46039f\"],[0.2222222222222222,\"#7201a8\"],[0.3333333333333333,\"#9c179e\"],[0.4444444444444444,\"#bd3786\"],[0.5555555555555556,\"#d8576b\"],[0.6666666666666666,\"#ed7953\"],[0.7777777777777778,\"#fb9f3a\"],[0.8888888888888888,\"#fdca26\"],[1.0,\"#f0f921\"]],\"diverging\":[[0,\"#8e0152\"],[0.1,\"#c51b7d\"],[0.2,\"#de77ae\"],[0.3,\"#f1b6da\"],[0.4,\"#fde0ef\"],[0.5,\"#f7f7f7\"],[0.6,\"#e6f5d0\"],[0.7,\"#b8e186\"],[0.8,\"#7fbc41\"],[0.9,\"#4d9221\"],[1,\"#276419\"]]},\"xaxis\":{\"gridcolor\":\"white\",\"linecolor\":\"white\",\"ticks\":\"\",\"title\":{\"standoff\":15},\"zerolinecolor\":\"white\",\"automargin\":true,\"zerolinewidth\":2},\"yaxis\":{\"gridcolor\":\"white\",\"linecolor\":\"white\",\"ticks\":\"\",\"title\":{\"standoff\":15},\"zerolinecolor\":\"white\",\"automargin\":true,\"zerolinewidth\":2},\"scene\":{\"xaxis\":{\"backgroundcolor\":\"#E5ECF6\",\"gridcolor\":\"white\",\"linecolor\":\"white\",\"showbackground\":true,\"ticks\":\"\",\"zerolinecolor\":\"white\",\"gridwidth\":2},\"yaxis\":{\"backgroundcolor\":\"#E5ECF6\",\"gridcolor\":\"white\",\"linecolor\":\"white\",\"showbackground\":true,\"ticks\":\"\",\"zerolinecolor\":\"white\",\"gridwidth\":2},\"zaxis\":{\"backgroundcolor\":\"#E5ECF6\",\"gridcolor\":\"white\",\"linecolor\":\"white\",\"showbackground\":true,\"ticks\":\"\",\"zerolinecolor\":\"white\",\"gridwidth\":2}},\"shapedefaults\":{\"line\":{\"color\":\"#2a3f5f\"}},\"annotationdefaults\":{\"arrowcolor\":\"#2a3f5f\",\"arrowhead\":0,\"arrowwidth\":1},\"geo\":{\"bgcolor\":\"white\",\"landcolor\":\"#E5ECF6\",\"subunitcolor\":\"white\",\"showland\":true,\"showlakes\":true,\"lakecolor\":\"white\"},\"title\":{\"x\":0.05},\"mapbox\":{\"style\":\"light\"}}},\"legend\":{\"tracegroupgap\":0},\"margin\":{\"t\":60}},                        {\"responsive\": true}                    ).then(function(){\n",
       "                            \n",
       "var gd = document.getElementById('5a11e362-c2f9-4134-a568-c6da34a93ae8');\n",
       "var x = new MutationObserver(function (mutations, observer) {{\n",
       "        var display = window.getComputedStyle(gd).display;\n",
       "        if (!display || display === 'none') {{\n",
       "            console.log([gd, 'removed!']);\n",
       "            Plotly.purge(gd);\n",
       "            observer.disconnect();\n",
       "        }}\n",
       "}});\n",
       "\n",
       "// Listen for the removal of the full notebook cells\n",
       "var notebookContainer = gd.closest('#notebook-container');\n",
       "if (notebookContainer) {{\n",
       "    x.observe(notebookContainer, {childList: true});\n",
       "}}\n",
       "\n",
       "// Listen for the clearing of the current output cell\n",
       "var outputEl = gd.closest('.output');\n",
       "if (outputEl) {{\n",
       "    x.observe(outputEl, {childList: true});\n",
       "}}\n",
       "\n",
       "                        })                };                });            </script>        </div>"
      ]
     },
     "metadata": {},
     "output_type": "display_data"
    }
   ],
   "source": [
    "import plotly.express as px\n",
    "\n",
    "fig = px.treemap(\n",
    "    cod_all[(cod_all['simple_grouping']!='total')&(cod_all['year']==2023)],\n",
    "    path=[px.Constant(\"all\"), \"simple_grouping\", \"icd_-_sub-chapter\"],\n",
    "    values=\"deaths\",\n",
    "    # color=\"crude_rate\",\n",
    "    # color_continuous_scale=\"armyrose\",\n",
    "    # color_continuous_midpoint=1,\n",
    ")\n",
    "fig"
   ]
  },
  {
   "cell_type": "code",
   "execution_count": 75,
   "id": "23a770af-27f7-4b38-a122-44cf372c7875",
   "metadata": {},
   "outputs": [
    {
     "data": {
      "text/html": [
       "<div>\n",
       "<style scoped>\n",
       "    .dataframe tbody tr th:only-of-type {\n",
       "        vertical-align: middle;\n",
       "    }\n",
       "\n",
       "    .dataframe tbody tr th {\n",
       "        vertical-align: top;\n",
       "    }\n",
       "\n",
       "    .dataframe thead th {\n",
       "        text-align: right;\n",
       "    }\n",
       "</style>\n",
       "<table border=\"1\" class=\"dataframe\">\n",
       "  <thead>\n",
       "    <tr style=\"text-align: right;\">\n",
       "      <th>year</th>\n",
       "      <th>index</th>\n",
       "      <th>2020</th>\n",
       "      <th>2021</th>\n",
       "      <th>2022</th>\n",
       "      <th>2023</th>\n",
       "    </tr>\n",
       "  </thead>\n",
       "  <tbody>\n",
       "    <tr>\n",
       "      <th>0</th>\n",
       "      <td>total</td>\n",
       "      <td>0.16</td>\n",
       "      <td>0.18</td>\n",
       "      <td>0.10</td>\n",
       "      <td>0.02</td>\n",
       "    </tr>\n",
       "    <tr>\n",
       "      <th>1</th>\n",
       "      <td>circulatory</td>\n",
       "      <td>0.05</td>\n",
       "      <td>0.04</td>\n",
       "      <td>0.04</td>\n",
       "      <td>-0.00</td>\n",
       "    </tr>\n",
       "    <tr>\n",
       "      <th>2</th>\n",
       "      <td>neoplasms</td>\n",
       "      <td>0.00</td>\n",
       "      <td>0.01</td>\n",
       "      <td>0.01</td>\n",
       "      <td>0.02</td>\n",
       "    </tr>\n",
       "    <tr>\n",
       "      <th>3</th>\n",
       "      <td>respiratory</td>\n",
       "      <td>-0.03</td>\n",
       "      <td>-0.11</td>\n",
       "      <td>-0.07</td>\n",
       "      <td>-0.08</td>\n",
       "    </tr>\n",
       "    <tr>\n",
       "      <th>4</th>\n",
       "      <td>external</td>\n",
       "      <td>0.08</td>\n",
       "      <td>0.15</td>\n",
       "      <td>0.12</td>\n",
       "      <td>0.06</td>\n",
       "    </tr>\n",
       "    <tr>\n",
       "      <th>5</th>\n",
       "      <td>nervous system</td>\n",
       "      <td>0.07</td>\n",
       "      <td>-0.02</td>\n",
       "      <td>-0.01</td>\n",
       "      <td>-0.06</td>\n",
       "    </tr>\n",
       "    <tr>\n",
       "      <th>6</th>\n",
       "      <td>metabolic</td>\n",
       "      <td>0.13</td>\n",
       "      <td>0.14</td>\n",
       "      <td>0.12</td>\n",
       "      <td>0.05</td>\n",
       "    </tr>\n",
       "    <tr>\n",
       "      <th>7</th>\n",
       "      <td>mental</td>\n",
       "      <td>0.11</td>\n",
       "      <td>0.02</td>\n",
       "      <td>0.04</td>\n",
       "      <td>-0.00</td>\n",
       "    </tr>\n",
       "    <tr>\n",
       "      <th>8</th>\n",
       "      <td>digestive</td>\n",
       "      <td>0.08</td>\n",
       "      <td>0.15</td>\n",
       "      <td>0.12</td>\n",
       "      <td>0.07</td>\n",
       "    </tr>\n",
       "    <tr>\n",
       "      <th>9</th>\n",
       "      <td>infectious</td>\n",
       "      <td>0.07</td>\n",
       "      <td>0.10</td>\n",
       "      <td>0.16</td>\n",
       "      <td>0.18</td>\n",
       "    </tr>\n",
       "    <tr>\n",
       "      <th>10</th>\n",
       "      <td>genitourinary</td>\n",
       "      <td>0.04</td>\n",
       "      <td>0.05</td>\n",
       "      <td>0.06</td>\n",
       "      <td>0.00</td>\n",
       "    </tr>\n",
       "    <tr>\n",
       "      <th>11</th>\n",
       "      <td>special</td>\n",
       "      <td>12,996.07</td>\n",
       "      <td>15,440.74</td>\n",
       "      <td>6,909.33</td>\n",
       "      <td>1,849.15</td>\n",
       "    </tr>\n",
       "    <tr>\n",
       "      <th>12</th>\n",
       "      <td>other</td>\n",
       "      <td>0.05</td>\n",
       "      <td>0.06</td>\n",
       "      <td>0.05</td>\n",
       "      <td>0.02</td>\n",
       "    </tr>\n",
       "    <tr>\n",
       "      <th>13</th>\n",
       "      <td>musculoskeletal</td>\n",
       "      <td>0.07</td>\n",
       "      <td>0.11</td>\n",
       "      <td>0.11</td>\n",
       "      <td>0.11</td>\n",
       "    </tr>\n",
       "    <tr>\n",
       "      <th>14</th>\n",
       "      <td>perinatal</td>\n",
       "      <td>-0.04</td>\n",
       "      <td>-0.02</td>\n",
       "      <td>0.09</td>\n",
       "      <td>0.10</td>\n",
       "    </tr>\n",
       "    <tr>\n",
       "      <th>15</th>\n",
       "      <td>blood</td>\n",
       "      <td>0.05</td>\n",
       "      <td>0.09</td>\n",
       "      <td>0.10</td>\n",
       "      <td>0.09</td>\n",
       "    </tr>\n",
       "    <tr>\n",
       "      <th>16</th>\n",
       "      <td>malformations</td>\n",
       "      <td>-0.00</td>\n",
       "      <td>0.02</td>\n",
       "      <td>0.08</td>\n",
       "      <td>0.07</td>\n",
       "    </tr>\n",
       "    <tr>\n",
       "      <th>17</th>\n",
       "      <td>skin</td>\n",
       "      <td>0.06</td>\n",
       "      <td>0.15</td>\n",
       "      <td>0.29</td>\n",
       "      <td>0.24</td>\n",
       "    </tr>\n",
       "    <tr>\n",
       "      <th>18</th>\n",
       "      <td>pregnancy</td>\n",
       "      <td>0.25</td>\n",
       "      <td>0.69</td>\n",
       "      <td>0.31</td>\n",
       "      <td>0.13</td>\n",
       "    </tr>\n",
       "    <tr>\n",
       "      <th>19</th>\n",
       "      <td>ear</td>\n",
       "      <td>-0.03</td>\n",
       "      <td>-0.09</td>\n",
       "      <td>0.05</td>\n",
       "      <td>0.26</td>\n",
       "    </tr>\n",
       "    <tr>\n",
       "      <th>20</th>\n",
       "      <td>eye</td>\n",
       "      <td>-0.42</td>\n",
       "      <td>-0.06</td>\n",
       "      <td>-0.52</td>\n",
       "      <td>0.10</td>\n",
       "    </tr>\n",
       "  </tbody>\n",
       "</table>\n",
       "</div>"
      ],
      "text/plain": [
       "year            index      2020      2021     2022     2023\n",
       "0               total      0.16      0.18     0.10     0.02\n",
       "1         circulatory      0.05      0.04     0.04    -0.00\n",
       "2           neoplasms      0.00      0.01     0.01     0.02\n",
       "3         respiratory     -0.03     -0.11    -0.07    -0.08\n",
       "4            external      0.08      0.15     0.12     0.06\n",
       "5      nervous system      0.07     -0.02    -0.01    -0.06\n",
       "6           metabolic      0.13      0.14     0.12     0.05\n",
       "7              mental      0.11      0.02     0.04    -0.00\n",
       "8           digestive      0.08      0.15     0.12     0.07\n",
       "9          infectious      0.07      0.10     0.16     0.18\n",
       "10      genitourinary      0.04      0.05     0.06     0.00\n",
       "11            special 12,996.07 15,440.74 6,909.33 1,849.15\n",
       "12              other      0.05      0.06     0.05     0.02\n",
       "13    musculoskeletal      0.07      0.11     0.11     0.11\n",
       "14          perinatal     -0.04     -0.02     0.09     0.10\n",
       "15              blood      0.05      0.09     0.10     0.09\n",
       "16      malformations     -0.00      0.02     0.08     0.07\n",
       "17               skin      0.06      0.15     0.29     0.24\n",
       "18          pregnancy      0.25      0.69     0.31     0.13\n",
       "19                ear     -0.03     -0.09     0.05     0.26\n",
       "20                eye     -0.42     -0.06    -0.52     0.10"
      ]
     },
     "execution_count": 75,
     "metadata": {},
     "output_type": "execute_result"
    }
   ],
   "source": [
    "summary = charters.chart(\n",
    "    df=test_df,\n",
    "    x_axis=\"year\",\n",
    "    y_axis=\"diff_pct\",\n",
    "    color=category_col,\n",
    "    type=\"area\",\n",
    "    category_orders=category_orders,\n",
    "    display=False,\n",
    ")\n",
    "pivot = summary.pivot(index=category_col, columns=\"year\", values=\"diff_pct\")\n",
    "pivot.index = pd.Categorical(\n",
    "    pivot.index, categories=category_orders[category_col], ordered=True\n",
    ")\n",
    "pivot = pivot.sort_index().reset_index()\n",
    "pivot"
   ]
  },
  {
   "cell_type": "code",
   "execution_count": 76,
   "id": "b8e61660-a57e-4c03-bf09-0f537e7b3698",
   "metadata": {},
   "outputs": [
    {
     "data": {
      "text/html": [
       "<div>\n",
       "<style scoped>\n",
       "    .dataframe tbody tr th:only-of-type {\n",
       "        vertical-align: middle;\n",
       "    }\n",
       "\n",
       "    .dataframe tbody tr th {\n",
       "        vertical-align: top;\n",
       "    }\n",
       "\n",
       "    .dataframe thead th {\n",
       "        text-align: right;\n",
       "    }\n",
       "</style>\n",
       "<table border=\"1\" class=\"dataframe\">\n",
       "  <thead>\n",
       "    <tr style=\"text-align: right;\">\n",
       "      <th>year</th>\n",
       "      <th>2020</th>\n",
       "      <th>2021</th>\n",
       "      <th>2022</th>\n",
       "      <th>2023</th>\n",
       "    </tr>\n",
       "  </thead>\n",
       "  <tbody>\n",
       "    <tr>\n",
       "      <th>total</th>\n",
       "      <td>477,025.80</td>\n",
       "      <td>519,607.40</td>\n",
       "      <td>297,288.00</td>\n",
       "      <td>70,469.60</td>\n",
       "    </tr>\n",
       "    <tr>\n",
       "      <th>circulatory</th>\n",
       "      <td>41,580.80</td>\n",
       "      <td>34,006.00</td>\n",
       "      <td>33,668.20</td>\n",
       "      <td>-2,427.60</td>\n",
       "    </tr>\n",
       "    <tr>\n",
       "      <th>neoplasms</th>\n",
       "      <td>2,248.80</td>\n",
       "      <td>4,414.80</td>\n",
       "      <td>6,664.80</td>\n",
       "      <td>11,045.80</td>\n",
       "    </tr>\n",
       "    <tr>\n",
       "      <th>respiratory</th>\n",
       "      <td>-8,274.60</td>\n",
       "      <td>-29,565.40</td>\n",
       "      <td>-18,639.20</td>\n",
       "      <td>-22,527.00</td>\n",
       "    </tr>\n",
       "    <tr>\n",
       "      <th>external</th>\n",
       "      <td>20,727.80</td>\n",
       "      <td>41,228.40</td>\n",
       "      <td>32,671.00</td>\n",
       "      <td>17,129.60</td>\n",
       "    </tr>\n",
       "    <tr>\n",
       "      <th>nervous system</th>\n",
       "      <td>16,072.90</td>\n",
       "      <td>-5,624.20</td>\n",
       "      <td>-3,623.30</td>\n",
       "      <td>-15,349.40</td>\n",
       "    </tr>\n",
       "    <tr>\n",
       "      <th>metabolic</th>\n",
       "      <td>19,413.60</td>\n",
       "      <td>21,670.80</td>\n",
       "      <td>18,472.00</td>\n",
       "      <td>7,871.20</td>\n",
       "    </tr>\n",
       "    <tr>\n",
       "      <th>mental</th>\n",
       "      <td>14,318.80</td>\n",
       "      <td>2,491.80</td>\n",
       "      <td>5,332.80</td>\n",
       "      <td>-258.20</td>\n",
       "    </tr>\n",
       "    <tr>\n",
       "      <th>digestive</th>\n",
       "      <td>9,645.40</td>\n",
       "      <td>17,524.00</td>\n",
       "      <td>14,363.60</td>\n",
       "      <td>7,988.20</td>\n",
       "    </tr>\n",
       "    <tr>\n",
       "      <th>infectious</th>\n",
       "      <td>4,533.30</td>\n",
       "      <td>6,473.20</td>\n",
       "      <td>9,534.10</td>\n",
       "      <td>10,495.00</td>\n",
       "    </tr>\n",
       "    <tr>\n",
       "      <th>genitourinary</th>\n",
       "      <td>2,702.40</td>\n",
       "      <td>3,977.80</td>\n",
       "      <td>4,471.20</td>\n",
       "      <td>57.60</td>\n",
       "    </tr>\n",
       "    <tr>\n",
       "      <th>special</th>\n",
       "      <td>350,894.00</td>\n",
       "      <td>416,900.00</td>\n",
       "      <td>186,552.00</td>\n",
       "      <td>49,927.00</td>\n",
       "    </tr>\n",
       "    <tr>\n",
       "      <th>other</th>\n",
       "      <td>1,510.60</td>\n",
       "      <td>1,925.40</td>\n",
       "      <td>1,544.20</td>\n",
       "      <td>706.00</td>\n",
       "    </tr>\n",
       "    <tr>\n",
       "      <th>musculoskeletal</th>\n",
       "      <td>962.30</td>\n",
       "      <td>1,605.60</td>\n",
       "      <td>1,673.90</td>\n",
       "      <td>1,710.20</td>\n",
       "    </tr>\n",
       "    <tr>\n",
       "      <th>perinatal</th>\n",
       "      <td>-409.30</td>\n",
       "      <td>-157.80</td>\n",
       "      <td>803.70</td>\n",
       "      <td>939.20</td>\n",
       "    </tr>\n",
       "    <tr>\n",
       "      <th>blood</th>\n",
       "      <td>575.30</td>\n",
       "      <td>1,035.20</td>\n",
       "      <td>1,136.10</td>\n",
       "      <td>994.00</td>\n",
       "    </tr>\n",
       "    <tr>\n",
       "      <th>malformations</th>\n",
       "      <td>-23.10</td>\n",
       "      <td>168.40</td>\n",
       "      <td>746.90</td>\n",
       "      <td>632.40</td>\n",
       "    </tr>\n",
       "    <tr>\n",
       "      <th>skin</th>\n",
       "      <td>297.80</td>\n",
       "      <td>853.60</td>\n",
       "      <td>1,635.40</td>\n",
       "      <td>1,398.20</td>\n",
       "    </tr>\n",
       "    <tr>\n",
       "      <th>pregnancy</th>\n",
       "      <td>256.60</td>\n",
       "      <td>688.80</td>\n",
       "      <td>298.00</td>\n",
       "      <td>122.20</td>\n",
       "    </tr>\n",
       "    <tr>\n",
       "      <th>ear</th>\n",
       "      <td>-2.30</td>\n",
       "      <td>-7.40</td>\n",
       "      <td>4.50</td>\n",
       "      <td>22.40</td>\n",
       "    </tr>\n",
       "    <tr>\n",
       "      <th>eye</th>\n",
       "      <td>-10.70</td>\n",
       "      <td>-1.60</td>\n",
       "      <td>-16.50</td>\n",
       "      <td>3.60</td>\n",
       "    </tr>\n",
       "  </tbody>\n",
       "</table>\n",
       "</div>"
      ],
      "text/plain": [
       "year                  2020       2021       2022       2023\n",
       "total           477,025.80 519,607.40 297,288.00  70,469.60\n",
       "circulatory      41,580.80  34,006.00  33,668.20  -2,427.60\n",
       "neoplasms         2,248.80   4,414.80   6,664.80  11,045.80\n",
       "respiratory      -8,274.60 -29,565.40 -18,639.20 -22,527.00\n",
       "external         20,727.80  41,228.40  32,671.00  17,129.60\n",
       "nervous system   16,072.90  -5,624.20  -3,623.30 -15,349.40\n",
       "metabolic        19,413.60  21,670.80  18,472.00   7,871.20\n",
       "mental           14,318.80   2,491.80   5,332.80    -258.20\n",
       "digestive         9,645.40  17,524.00  14,363.60   7,988.20\n",
       "infectious        4,533.30   6,473.20   9,534.10  10,495.00\n",
       "genitourinary     2,702.40   3,977.80   4,471.20      57.60\n",
       "special         350,894.00 416,900.00 186,552.00  49,927.00\n",
       "other             1,510.60   1,925.40   1,544.20     706.00\n",
       "musculoskeletal     962.30   1,605.60   1,673.90   1,710.20\n",
       "perinatal          -409.30    -157.80     803.70     939.20\n",
       "blood               575.30   1,035.20   1,136.10     994.00\n",
       "malformations       -23.10     168.40     746.90     632.40\n",
       "skin                297.80     853.60   1,635.40   1,398.20\n",
       "pregnancy           256.60     688.80     298.00     122.20\n",
       "ear                  -2.30      -7.40       4.50      22.40\n",
       "eye                 -10.70      -1.60     -16.50       3.60"
      ]
     },
     "execution_count": 76,
     "metadata": {},
     "output_type": "execute_result"
    }
   ],
   "source": [
    "summary = charters.chart(\n",
    "    df=test_df,\n",
    "    x_axis=\"year\",\n",
    "    y_axis=\"diff_abs\",\n",
    "    color=category_col,\n",
    "    type=\"area\",\n",
    "    category_orders=category_orders,\n",
    "    display=False,\n",
    ")\n",
    "pivot = summary.pivot(index=category_col, columns=\"year\", values=\"diff_abs\")\n",
    "pivot.index = pd.Categorical(\n",
    "    pivot.index, categories=category_orders[category_col], ordered=True\n",
    ")\n",
    "pivot = pivot.sort_index()\n",
    "pivot"
   ]
  },
  {
   "cell_type": "markdown",
   "id": "f5b41604-6965-4111-82f7-0b94957ba343",
   "metadata": {},
   "source": [
    "## Monthly"
   ]
  },
  {
   "cell_type": "markdown",
   "id": "12039f98-3246-4bcd-b291-23e272a9438c",
   "metadata": {},
   "source": [
    "### CDC Query"
   ]
  },
  {
   "cell_type": "code",
   "execution_count": 35,
   "id": "d95b9ace-d220-4b7d-a0be-c43c8dcc46da",
   "metadata": {},
   "outputs": [],
   "source": [
    "df = cdc.get_cdc_data_xml(xml_filename=\"mcd18_monthly.xml\", parse_date_col=\"Month\")"
   ]
  },
  {
   "cell_type": "code",
   "execution_count": 36,
   "id": "81116599-d2e2-475c-b371-177f24b20d10",
   "metadata": {},
   "outputs": [
    {
     "name": "stdout",
     "output_type": "stream",
     "text": [
      "\u001b[37m 2024-08-09 23:56:02 \u001b[0m|\u001b[37m morai.utils.sql \u001b[0m|\u001b[32m INFO     \u001b[0m|\u001b[32m replace data to SQLite database: `files/integrations/cdc/cdc.sql` and table: `mcd18_monthly` \u001b[0m\n"
     ]
    }
   ],
   "source": [
    "sql.export_to_sql(\n",
    "    df=df,\n",
    "    db_filepath=db_filepath,\n",
    "    table_name=\"mcd18_monthly\",\n",
    "    if_exists=\"replace\",\n",
    ")"
   ]
  },
  {
   "cell_type": "markdown",
   "id": "1ec12d14-7a68-45ad-bf82-cb04dcf6b282",
   "metadata": {},
   "source": [
    "### SQL"
   ]
  },
  {
   "cell_type": "code",
   "execution_count": 37,
   "id": "ce851603-212e-4fe3-be23-38723f5163bc",
   "metadata": {},
   "outputs": [
    {
     "name": "stdout",
     "output_type": "stream",
     "text": [
      "\u001b[37m 2024-08-09 23:56:03 \u001b[0m|\u001b[37m morai.integrations.cdc \u001b[0m|\u001b[32m INFO     \u001b[0m|\u001b[32m table `mcd18_monthly` last updated at: 2024-08-09 23:56:02, rows: 79 \u001b[0m\n"
     ]
    }
   ],
   "source": [
    "mcd18_monthly = cdc.get_cdc_data_sql(\n",
    "    db_filepath=db_filepath, table_name=\"mcd18_monthly\"\n",
    ")"
   ]
  },
  {
   "cell_type": "code",
   "execution_count": 45,
   "id": "f8607472-136a-4dbe-9544-70b4e1d5f217",
   "metadata": {},
   "outputs": [
    {
     "data": {
      "text/plain": [
       "'2024-08-09 23:56:02'"
      ]
     },
     "execution_count": 45,
     "metadata": {},
     "output_type": "execute_result"
    }
   ],
   "source": [
    "mcd18_monthly['added_at'].max()"
   ]
  },
  {
   "cell_type": "markdown",
   "id": "f0c6eb4e-9157-48aa-9cf6-148f0ebe0a4a",
   "metadata": {},
   "source": [
    "### Chart"
   ]
  },
  {
   "cell_type": "code",
   "execution_count": 38,
   "id": "68cb0caf-923a-43c4-be8a-09d3e9b3414d",
   "metadata": {},
   "outputs": [
    {
     "data": {
      "application/vnd.plotly.v1+json": {
       "config": {
        "plotlyServerURL": "https://plot.ly"
       },
       "data": [
        {
         "fillpattern": {
          "shape": ""
         },
         "hovertemplate": "month=%{x}<br>deaths=%{y}<extra></extra>",
         "legendgroup": "",
         "line": {
          "color": "#636efa"
         },
         "marker": {
          "symbol": "circle"
         },
         "mode": "lines",
         "name": "",
         "orientation": "v",
         "showlegend": false,
         "stackgroup": "1",
         "type": "scatter",
         "x": [
          "2018-01-01 00:00:00",
          "2018-02-01 00:00:00",
          "2018-03-01 00:00:00",
          "2018-04-01 00:00:00",
          "2018-05-01 00:00:00",
          "2018-06-01 00:00:00",
          "2018-07-01 00:00:00",
          "2018-08-01 00:00:00",
          "2018-09-01 00:00:00",
          "2018-10-01 00:00:00",
          "2018-11-01 00:00:00",
          "2018-12-01 00:00:00",
          "2019-01-01 00:00:00",
          "2019-02-01 00:00:00",
          "2019-03-01 00:00:00",
          "2019-04-01 00:00:00",
          "2019-05-01 00:00:00",
          "2019-06-01 00:00:00",
          "2019-07-01 00:00:00",
          "2019-08-01 00:00:00",
          "2019-09-01 00:00:00",
          "2019-10-01 00:00:00",
          "2019-11-01 00:00:00",
          "2019-12-01 00:00:00",
          "2020-01-01 00:00:00",
          "2020-02-01 00:00:00",
          "2020-03-01 00:00:00",
          "2020-04-01 00:00:00",
          "2020-05-01 00:00:00",
          "2020-06-01 00:00:00",
          "2020-07-01 00:00:00",
          "2020-08-01 00:00:00",
          "2020-09-01 00:00:00",
          "2020-10-01 00:00:00",
          "2020-11-01 00:00:00",
          "2020-12-01 00:00:00",
          "2021-01-01 00:00:00",
          "2021-02-01 00:00:00",
          "2021-03-01 00:00:00",
          "2021-04-01 00:00:00",
          "2021-05-01 00:00:00",
          "2021-06-01 00:00:00",
          "2021-07-01 00:00:00",
          "2021-08-01 00:00:00",
          "2021-09-01 00:00:00",
          "2021-10-01 00:00:00",
          "2021-11-01 00:00:00",
          "2021-12-01 00:00:00",
          "2022-01-01 00:00:00",
          "2022-02-01 00:00:00",
          "2022-03-01 00:00:00",
          "2022-04-01 00:00:00",
          "2022-05-01 00:00:00",
          "2022-06-01 00:00:00",
          "2022-07-01 00:00:00",
          "2022-08-01 00:00:00",
          "2022-09-01 00:00:00",
          "2022-10-01 00:00:00",
          "2022-11-01 00:00:00",
          "2022-12-01 00:00:00",
          "2023-01-01 00:00:00",
          "2023-02-01 00:00:00",
          "2023-03-01 00:00:00",
          "2023-04-01 00:00:00",
          "2023-05-01 00:00:00",
          "2023-06-01 00:00:00",
          "2023-07-01 00:00:00",
          "2023-08-01 00:00:00",
          "2023-09-01 00:00:00",
          "2023-10-01 00:00:00",
          "2023-11-01 00:00:00",
          "2023-12-01 00:00:00",
          "2024-01-01 00:00:00",
          "2024-02-01 00:00:00",
          "2024-03-01 00:00:00",
          "2024-04-01 00:00:00",
          "2024-05-01 00:00:00",
          "2024-06-01 00:00:00",
          "2024-07-01 00:00:00"
         ],
         "xaxis": "x",
         "y": [
          286744,
          236998,
          248805,
          233164,
          228772,
          220103,
          225111,
          224254,
          218696,
          233903,
          233375,
          249280,
          257649,
          232821,
          254929,
          235254,
          236893,
          225422,
          229211,
          227280,
          222715,
          237661,
          239028,
          255975,
          264062,
          244431,
          269239,
          321879,
          280152,
          249993,
          278409,
          276731,
          256732,
          273443,
          302090,
          366568,
          372916,
          282015,
          270527,
          256523,
          257798,
          244671,
          257328,
          303261,
          311830,
          299591,
          288483,
          319288,
          369459,
          290309,
          268246,
          246083,
          254396,
          248080,
          260129,
          258926,
          250891,
          264956,
          268002,
          300380,
          288757,
          248665,
          268769,
          251834,
          252168,
          240809,
          246581,
          249931,
          244478,
          258159,
          257441,
          283375,
          294123,
          254598,
          262354,
          247710,
          247251,
          230271,
          155704
         ],
         "yaxis": "y"
        }
       ],
       "layout": {
        "height": 360,
        "legend": {
         "tracegroupgap": 0
        },
        "template": {
         "data": {
          "bar": [
           {
            "error_x": {
             "color": "#2a3f5f"
            },
            "error_y": {
             "color": "#2a3f5f"
            },
            "marker": {
             "line": {
              "color": "#E5ECF6",
              "width": 0.5
             },
             "pattern": {
              "fillmode": "overlay",
              "size": 10,
              "solidity": 0.2
             }
            },
            "type": "bar"
           }
          ],
          "barpolar": [
           {
            "marker": {
             "line": {
              "color": "#E5ECF6",
              "width": 0.5
             },
             "pattern": {
              "fillmode": "overlay",
              "size": 10,
              "solidity": 0.2
             }
            },
            "type": "barpolar"
           }
          ],
          "carpet": [
           {
            "aaxis": {
             "endlinecolor": "#2a3f5f",
             "gridcolor": "white",
             "linecolor": "white",
             "minorgridcolor": "white",
             "startlinecolor": "#2a3f5f"
            },
            "baxis": {
             "endlinecolor": "#2a3f5f",
             "gridcolor": "white",
             "linecolor": "white",
             "minorgridcolor": "white",
             "startlinecolor": "#2a3f5f"
            },
            "type": "carpet"
           }
          ],
          "choropleth": [
           {
            "colorbar": {
             "outlinewidth": 0,
             "ticks": ""
            },
            "type": "choropleth"
           }
          ],
          "contour": [
           {
            "colorbar": {
             "outlinewidth": 0,
             "ticks": ""
            },
            "colorscale": [
             [
              0,
              "#0d0887"
             ],
             [
              0.1111111111111111,
              "#46039f"
             ],
             [
              0.2222222222222222,
              "#7201a8"
             ],
             [
              0.3333333333333333,
              "#9c179e"
             ],
             [
              0.4444444444444444,
              "#bd3786"
             ],
             [
              0.5555555555555556,
              "#d8576b"
             ],
             [
              0.6666666666666666,
              "#ed7953"
             ],
             [
              0.7777777777777778,
              "#fb9f3a"
             ],
             [
              0.8888888888888888,
              "#fdca26"
             ],
             [
              1,
              "#f0f921"
             ]
            ],
            "type": "contour"
           }
          ],
          "contourcarpet": [
           {
            "colorbar": {
             "outlinewidth": 0,
             "ticks": ""
            },
            "type": "contourcarpet"
           }
          ],
          "heatmap": [
           {
            "colorbar": {
             "outlinewidth": 0,
             "ticks": ""
            },
            "colorscale": [
             [
              0,
              "#0d0887"
             ],
             [
              0.1111111111111111,
              "#46039f"
             ],
             [
              0.2222222222222222,
              "#7201a8"
             ],
             [
              0.3333333333333333,
              "#9c179e"
             ],
             [
              0.4444444444444444,
              "#bd3786"
             ],
             [
              0.5555555555555556,
              "#d8576b"
             ],
             [
              0.6666666666666666,
              "#ed7953"
             ],
             [
              0.7777777777777778,
              "#fb9f3a"
             ],
             [
              0.8888888888888888,
              "#fdca26"
             ],
             [
              1,
              "#f0f921"
             ]
            ],
            "type": "heatmap"
           }
          ],
          "heatmapgl": [
           {
            "colorbar": {
             "outlinewidth": 0,
             "ticks": ""
            },
            "colorscale": [
             [
              0,
              "#0d0887"
             ],
             [
              0.1111111111111111,
              "#46039f"
             ],
             [
              0.2222222222222222,
              "#7201a8"
             ],
             [
              0.3333333333333333,
              "#9c179e"
             ],
             [
              0.4444444444444444,
              "#bd3786"
             ],
             [
              0.5555555555555556,
              "#d8576b"
             ],
             [
              0.6666666666666666,
              "#ed7953"
             ],
             [
              0.7777777777777778,
              "#fb9f3a"
             ],
             [
              0.8888888888888888,
              "#fdca26"
             ],
             [
              1,
              "#f0f921"
             ]
            ],
            "type": "heatmapgl"
           }
          ],
          "histogram": [
           {
            "marker": {
             "pattern": {
              "fillmode": "overlay",
              "size": 10,
              "solidity": 0.2
             }
            },
            "type": "histogram"
           }
          ],
          "histogram2d": [
           {
            "colorbar": {
             "outlinewidth": 0,
             "ticks": ""
            },
            "colorscale": [
             [
              0,
              "#0d0887"
             ],
             [
              0.1111111111111111,
              "#46039f"
             ],
             [
              0.2222222222222222,
              "#7201a8"
             ],
             [
              0.3333333333333333,
              "#9c179e"
             ],
             [
              0.4444444444444444,
              "#bd3786"
             ],
             [
              0.5555555555555556,
              "#d8576b"
             ],
             [
              0.6666666666666666,
              "#ed7953"
             ],
             [
              0.7777777777777778,
              "#fb9f3a"
             ],
             [
              0.8888888888888888,
              "#fdca26"
             ],
             [
              1,
              "#f0f921"
             ]
            ],
            "type": "histogram2d"
           }
          ],
          "histogram2dcontour": [
           {
            "colorbar": {
             "outlinewidth": 0,
             "ticks": ""
            },
            "colorscale": [
             [
              0,
              "#0d0887"
             ],
             [
              0.1111111111111111,
              "#46039f"
             ],
             [
              0.2222222222222222,
              "#7201a8"
             ],
             [
              0.3333333333333333,
              "#9c179e"
             ],
             [
              0.4444444444444444,
              "#bd3786"
             ],
             [
              0.5555555555555556,
              "#d8576b"
             ],
             [
              0.6666666666666666,
              "#ed7953"
             ],
             [
              0.7777777777777778,
              "#fb9f3a"
             ],
             [
              0.8888888888888888,
              "#fdca26"
             ],
             [
              1,
              "#f0f921"
             ]
            ],
            "type": "histogram2dcontour"
           }
          ],
          "mesh3d": [
           {
            "colorbar": {
             "outlinewidth": 0,
             "ticks": ""
            },
            "type": "mesh3d"
           }
          ],
          "parcoords": [
           {
            "line": {
             "colorbar": {
              "outlinewidth": 0,
              "ticks": ""
             }
            },
            "type": "parcoords"
           }
          ],
          "pie": [
           {
            "automargin": true,
            "type": "pie"
           }
          ],
          "scatter": [
           {
            "fillpattern": {
             "fillmode": "overlay",
             "size": 10,
             "solidity": 0.2
            },
            "type": "scatter"
           }
          ],
          "scatter3d": [
           {
            "line": {
             "colorbar": {
              "outlinewidth": 0,
              "ticks": ""
             }
            },
            "marker": {
             "colorbar": {
              "outlinewidth": 0,
              "ticks": ""
             }
            },
            "type": "scatter3d"
           }
          ],
          "scattercarpet": [
           {
            "marker": {
             "colorbar": {
              "outlinewidth": 0,
              "ticks": ""
             }
            },
            "type": "scattercarpet"
           }
          ],
          "scattergeo": [
           {
            "marker": {
             "colorbar": {
              "outlinewidth": 0,
              "ticks": ""
             }
            },
            "type": "scattergeo"
           }
          ],
          "scattergl": [
           {
            "marker": {
             "colorbar": {
              "outlinewidth": 0,
              "ticks": ""
             }
            },
            "type": "scattergl"
           }
          ],
          "scattermapbox": [
           {
            "marker": {
             "colorbar": {
              "outlinewidth": 0,
              "ticks": ""
             }
            },
            "type": "scattermapbox"
           }
          ],
          "scatterpolar": [
           {
            "marker": {
             "colorbar": {
              "outlinewidth": 0,
              "ticks": ""
             }
            },
            "type": "scatterpolar"
           }
          ],
          "scatterpolargl": [
           {
            "marker": {
             "colorbar": {
              "outlinewidth": 0,
              "ticks": ""
             }
            },
            "type": "scatterpolargl"
           }
          ],
          "scatterternary": [
           {
            "marker": {
             "colorbar": {
              "outlinewidth": 0,
              "ticks": ""
             }
            },
            "type": "scatterternary"
           }
          ],
          "surface": [
           {
            "colorbar": {
             "outlinewidth": 0,
             "ticks": ""
            },
            "colorscale": [
             [
              0,
              "#0d0887"
             ],
             [
              0.1111111111111111,
              "#46039f"
             ],
             [
              0.2222222222222222,
              "#7201a8"
             ],
             [
              0.3333333333333333,
              "#9c179e"
             ],
             [
              0.4444444444444444,
              "#bd3786"
             ],
             [
              0.5555555555555556,
              "#d8576b"
             ],
             [
              0.6666666666666666,
              "#ed7953"
             ],
             [
              0.7777777777777778,
              "#fb9f3a"
             ],
             [
              0.8888888888888888,
              "#fdca26"
             ],
             [
              1,
              "#f0f921"
             ]
            ],
            "type": "surface"
           }
          ],
          "table": [
           {
            "cells": {
             "fill": {
              "color": "#EBF0F8"
             },
             "line": {
              "color": "white"
             }
            },
            "header": {
             "fill": {
              "color": "#C8D4E3"
             },
             "line": {
              "color": "white"
             }
            },
            "type": "table"
           }
          ]
         },
         "layout": {
          "annotationdefaults": {
           "arrowcolor": "#2a3f5f",
           "arrowhead": 0,
           "arrowwidth": 1
          },
          "autotypenumbers": "strict",
          "coloraxis": {
           "colorbar": {
            "outlinewidth": 0,
            "ticks": ""
           }
          },
          "colorscale": {
           "diverging": [
            [
             0,
             "#8e0152"
            ],
            [
             0.1,
             "#c51b7d"
            ],
            [
             0.2,
             "#de77ae"
            ],
            [
             0.3,
             "#f1b6da"
            ],
            [
             0.4,
             "#fde0ef"
            ],
            [
             0.5,
             "#f7f7f7"
            ],
            [
             0.6,
             "#e6f5d0"
            ],
            [
             0.7,
             "#b8e186"
            ],
            [
             0.8,
             "#7fbc41"
            ],
            [
             0.9,
             "#4d9221"
            ],
            [
             1,
             "#276419"
            ]
           ],
           "sequential": [
            [
             0,
             "#0d0887"
            ],
            [
             0.1111111111111111,
             "#46039f"
            ],
            [
             0.2222222222222222,
             "#7201a8"
            ],
            [
             0.3333333333333333,
             "#9c179e"
            ],
            [
             0.4444444444444444,
             "#bd3786"
            ],
            [
             0.5555555555555556,
             "#d8576b"
            ],
            [
             0.6666666666666666,
             "#ed7953"
            ],
            [
             0.7777777777777778,
             "#fb9f3a"
            ],
            [
             0.8888888888888888,
             "#fdca26"
            ],
            [
             1,
             "#f0f921"
            ]
           ],
           "sequentialminus": [
            [
             0,
             "#0d0887"
            ],
            [
             0.1111111111111111,
             "#46039f"
            ],
            [
             0.2222222222222222,
             "#7201a8"
            ],
            [
             0.3333333333333333,
             "#9c179e"
            ],
            [
             0.4444444444444444,
             "#bd3786"
            ],
            [
             0.5555555555555556,
             "#d8576b"
            ],
            [
             0.6666666666666666,
             "#ed7953"
            ],
            [
             0.7777777777777778,
             "#fb9f3a"
            ],
            [
             0.8888888888888888,
             "#fdca26"
            ],
            [
             1,
             "#f0f921"
            ]
           ]
          },
          "colorway": [
           "#636efa",
           "#EF553B",
           "#00cc96",
           "#ab63fa",
           "#FFA15A",
           "#19d3f3",
           "#FF6692",
           "#B6E880",
           "#FF97FF",
           "#FECB52"
          ],
          "font": {
           "color": "#2a3f5f"
          },
          "geo": {
           "bgcolor": "white",
           "lakecolor": "white",
           "landcolor": "#E5ECF6",
           "showlakes": true,
           "showland": true,
           "subunitcolor": "white"
          },
          "hoverlabel": {
           "align": "left"
          },
          "hovermode": "closest",
          "mapbox": {
           "style": "light"
          },
          "paper_bgcolor": "white",
          "plot_bgcolor": "#E5ECF6",
          "polar": {
           "angularaxis": {
            "gridcolor": "white",
            "linecolor": "white",
            "ticks": ""
           },
           "bgcolor": "#E5ECF6",
           "radialaxis": {
            "gridcolor": "white",
            "linecolor": "white",
            "ticks": ""
           }
          },
          "scene": {
           "xaxis": {
            "backgroundcolor": "#E5ECF6",
            "gridcolor": "white",
            "gridwidth": 2,
            "linecolor": "white",
            "showbackground": true,
            "ticks": "",
            "zerolinecolor": "white"
           },
           "yaxis": {
            "backgroundcolor": "#E5ECF6",
            "gridcolor": "white",
            "gridwidth": 2,
            "linecolor": "white",
            "showbackground": true,
            "ticks": "",
            "zerolinecolor": "white"
           },
           "zaxis": {
            "backgroundcolor": "#E5ECF6",
            "gridcolor": "white",
            "gridwidth": 2,
            "linecolor": "white",
            "showbackground": true,
            "ticks": "",
            "zerolinecolor": "white"
           }
          },
          "shapedefaults": {
           "line": {
            "color": "#2a3f5f"
           }
          },
          "ternary": {
           "aaxis": {
            "gridcolor": "white",
            "linecolor": "white",
            "ticks": ""
           },
           "baxis": {
            "gridcolor": "white",
            "linecolor": "white",
            "ticks": ""
           },
           "bgcolor": "#E5ECF6",
           "caxis": {
            "gridcolor": "white",
            "linecolor": "white",
            "ticks": ""
           }
          },
          "title": {
           "x": 0.05
          },
          "xaxis": {
           "automargin": true,
           "gridcolor": "white",
           "linecolor": "white",
           "ticks": "",
           "title": {
            "standoff": 15
           },
           "zerolinecolor": "white",
           "zerolinewidth": 2
          },
          "yaxis": {
           "automargin": true,
           "gridcolor": "white",
           "linecolor": "white",
           "ticks": "",
           "title": {
            "standoff": 15
           },
           "zerolinecolor": "white",
           "zerolinewidth": 2
          }
         }
        },
        "title": {
         "text": "'deaths' by 'month' and 'None'"
        },
        "xaxis": {
         "anchor": "y",
         "autorange": true,
         "domain": [
          0,
          1
         ],
         "range": [
          "2018-01-01",
          "2024-07-01"
         ],
         "title": {
          "text": "month"
         },
         "type": "date"
        },
        "yaxis": {
         "anchor": "x",
         "autorange": true,
         "domain": [
          0,
          1
         ],
         "range": [
          0,
          392543.15789473685
         ],
         "title": {
          "text": "deaths"
         },
         "type": "linear"
        }
       }
      },
      "image/png": "[encoded data removed]",
      "text/html": [
       "<div>                            <div id=\"e37824d2-339f-4ff5-a70c-d8fa1b4e8b0e\" class=\"plotly-graph-div\" style=\"height:525px; width:100%;\"></div>            <script type=\"text/javascript\">                require([\"plotly\"], function(Plotly) {                    window.PLOTLYENV=window.PLOTLYENV || {};                                    if (document.getElementById(\"e37824d2-339f-4ff5-a70c-d8fa1b4e8b0e\")) {                    Plotly.newPlot(                        \"e37824d2-339f-4ff5-a70c-d8fa1b4e8b0e\",                        [{\"fillpattern\":{\"shape\":\"\"},\"hovertemplate\":\"month=%{x}\\u003cbr\\u003edeaths=%{y}\\u003cextra\\u003e\\u003c\\u002fextra\\u003e\",\"legendgroup\":\"\",\"line\":{\"color\":\"#636efa\"},\"marker\":{\"symbol\":\"circle\"},\"mode\":\"lines\",\"name\":\"\",\"orientation\":\"v\",\"showlegend\":false,\"stackgroup\":\"1\",\"x\":[\"2018-01-01 00:00:00\",\"2018-02-01 00:00:00\",\"2018-03-01 00:00:00\",\"2018-04-01 00:00:00\",\"2018-05-01 00:00:00\",\"2018-06-01 00:00:00\",\"2018-07-01 00:00:00\",\"2018-08-01 00:00:00\",\"2018-09-01 00:00:00\",\"2018-10-01 00:00:00\",\"2018-11-01 00:00:00\",\"2018-12-01 00:00:00\",\"2019-01-01 00:00:00\",\"2019-02-01 00:00:00\",\"2019-03-01 00:00:00\",\"2019-04-01 00:00:00\",\"2019-05-01 00:00:00\",\"2019-06-01 00:00:00\",\"2019-07-01 00:00:00\",\"2019-08-01 00:00:00\",\"2019-09-01 00:00:00\",\"2019-10-01 00:00:00\",\"2019-11-01 00:00:00\",\"2019-12-01 00:00:00\",\"2020-01-01 00:00:00\",\"2020-02-01 00:00:00\",\"2020-03-01 00:00:00\",\"2020-04-01 00:00:00\",\"2020-05-01 00:00:00\",\"2020-06-01 00:00:00\",\"2020-07-01 00:00:00\",\"2020-08-01 00:00:00\",\"2020-09-01 00:00:00\",\"2020-10-01 00:00:00\",\"2020-11-01 00:00:00\",\"2020-12-01 00:00:00\",\"2021-01-01 00:00:00\",\"2021-02-01 00:00:00\",\"2021-03-01 00:00:00\",\"2021-04-01 00:00:00\",\"2021-05-01 00:00:00\",\"2021-06-01 00:00:00\",\"2021-07-01 00:00:00\",\"2021-08-01 00:00:00\",\"2021-09-01 00:00:00\",\"2021-10-01 00:00:00\",\"2021-11-01 00:00:00\",\"2021-12-01 00:00:00\",\"2022-01-01 00:00:00\",\"2022-02-01 00:00:00\",\"2022-03-01 00:00:00\",\"2022-04-01 00:00:00\",\"2022-05-01 00:00:00\",\"2022-06-01 00:00:00\",\"2022-07-01 00:00:00\",\"2022-08-01 00:00:00\",\"2022-09-01 00:00:00\",\"2022-10-01 00:00:00\",\"2022-11-01 00:00:00\",\"2022-12-01 00:00:00\",\"2023-01-01 00:00:00\",\"2023-02-01 00:00:00\",\"2023-03-01 00:00:00\",\"2023-04-01 00:00:00\",\"2023-05-01 00:00:00\",\"2023-06-01 00:00:00\",\"2023-07-01 00:00:00\",\"2023-08-01 00:00:00\",\"2023-09-01 00:00:00\",\"2023-10-01 00:00:00\",\"2023-11-01 00:00:00\",\"2023-12-01 00:00:00\",\"2024-01-01 00:00:00\",\"2024-02-01 00:00:00\",\"2024-03-01 00:00:00\",\"2024-04-01 00:00:00\",\"2024-05-01 00:00:00\",\"2024-06-01 00:00:00\",\"2024-07-01 00:00:00\"],\"xaxis\":\"x\",\"y\":[286744,236998,248805,233164,228772,220103,225111,224254,218696,233903,233375,249280,257649,232821,254929,235254,236893,225422,229211,227280,222715,237661,239028,255975,264062,244431,269239,321879,280152,249993,278409,276731,256732,273443,302090,366568,372916,282015,270527,256523,257798,244671,257328,303261,311830,299591,288483,319288,369459,290309,268246,246083,254396,248080,260129,258926,250891,264956,268002,300380,288757,248665,268769,251834,252168,240809,246581,249931,244478,258159,257441,283375,294123,254598,262354,247710,247251,230271,155704],\"yaxis\":\"y\",\"type\":\"scatter\"}],                        {\"template\":{\"data\":{\"histogram2dcontour\":[{\"type\":\"histogram2dcontour\",\"colorbar\":{\"outlinewidth\":0,\"ticks\":\"\"},\"colorscale\":[[0.0,\"#0d0887\"],[0.1111111111111111,\"#46039f\"],[0.2222222222222222,\"#7201a8\"],[0.3333333333333333,\"#9c179e\"],[0.4444444444444444,\"#bd3786\"],[0.5555555555555556,\"#d8576b\"],[0.6666666666666666,\"#ed7953\"],[0.7777777777777778,\"#fb9f3a\"],[0.8888888888888888,\"#fdca26\"],[1.0,\"#f0f921\"]]}],\"choropleth\":[{\"type\":\"choropleth\",\"colorbar\":{\"outlinewidth\":0,\"ticks\":\"\"}}],\"histogram2d\":[{\"type\":\"histogram2d\",\"colorbar\":{\"outlinewidth\":0,\"ticks\":\"\"},\"colorscale\":[[0.0,\"#0d0887\"],[0.1111111111111111,\"#46039f\"],[0.2222222222222222,\"#7201a8\"],[0.3333333333333333,\"#9c179e\"],[0.4444444444444444,\"#bd3786\"],[0.5555555555555556,\"#d8576b\"],[0.6666666666666666,\"#ed7953\"],[0.7777777777777778,\"#fb9f3a\"],[0.8888888888888888,\"#fdca26\"],[1.0,\"#f0f921\"]]}],\"heatmap\":[{\"type\":\"heatmap\",\"colorbar\":{\"outlinewidth\":0,\"ticks\":\"\"},\"colorscale\":[[0.0,\"#0d0887\"],[0.1111111111111111,\"#46039f\"],[0.2222222222222222,\"#7201a8\"],[0.3333333333333333,\"#9c179e\"],[0.4444444444444444,\"#bd3786\"],[0.5555555555555556,\"#d8576b\"],[0.6666666666666666,\"#ed7953\"],[0.7777777777777778,\"#fb9f3a\"],[0.8888888888888888,\"#fdca26\"],[1.0,\"#f0f921\"]]}],\"heatmapgl\":[{\"type\":\"heatmapgl\",\"colorbar\":{\"outlinewidth\":0,\"ticks\":\"\"},\"colorscale\":[[0.0,\"#0d0887\"],[0.1111111111111111,\"#46039f\"],[0.2222222222222222,\"#7201a8\"],[0.3333333333333333,\"#9c179e\"],[0.4444444444444444,\"#bd3786\"],[0.5555555555555556,\"#d8576b\"],[0.6666666666666666,\"#ed7953\"],[0.7777777777777778,\"#fb9f3a\"],[0.8888888888888888,\"#fdca26\"],[1.0,\"#f0f921\"]]}],\"contourcarpet\":[{\"type\":\"contourcarpet\",\"colorbar\":{\"outlinewidth\":0,\"ticks\":\"\"}}],\"contour\":[{\"type\":\"contour\",\"colorbar\":{\"outlinewidth\":0,\"ticks\":\"\"},\"colorscale\":[[0.0,\"#0d0887\"],[0.1111111111111111,\"#46039f\"],[0.2222222222222222,\"#7201a8\"],[0.3333333333333333,\"#9c179e\"],[0.4444444444444444,\"#bd3786\"],[0.5555555555555556,\"#d8576b\"],[0.6666666666666666,\"#ed7953\"],[0.7777777777777778,\"#fb9f3a\"],[0.8888888888888888,\"#fdca26\"],[1.0,\"#f0f921\"]]}],\"surface\":[{\"type\":\"surface\",\"colorbar\":{\"outlinewidth\":0,\"ticks\":\"\"},\"colorscale\":[[0.0,\"#0d0887\"],[0.1111111111111111,\"#46039f\"],[0.2222222222222222,\"#7201a8\"],[0.3333333333333333,\"#9c179e\"],[0.4444444444444444,\"#bd3786\"],[0.5555555555555556,\"#d8576b\"],[0.6666666666666666,\"#ed7953\"],[0.7777777777777778,\"#fb9f3a\"],[0.8888888888888888,\"#fdca26\"],[1.0,\"#f0f921\"]]}],\"mesh3d\":[{\"type\":\"mesh3d\",\"colorbar\":{\"outlinewidth\":0,\"ticks\":\"\"}}],\"scatter\":[{\"fillpattern\":{\"fillmode\":\"overlay\",\"size\":10,\"solidity\":0.2},\"type\":\"scatter\"}],\"parcoords\":[{\"type\":\"parcoords\",\"line\":{\"colorbar\":{\"outlinewidth\":0,\"ticks\":\"\"}}}],\"scatterpolargl\":[{\"type\":\"scatterpolargl\",\"marker\":{\"colorbar\":{\"outlinewidth\":0,\"ticks\":\"\"}}}],\"bar\":[{\"error_x\":{\"color\":\"#2a3f5f\"},\"error_y\":{\"color\":\"#2a3f5f\"},\"marker\":{\"line\":{\"color\":\"#E5ECF6\",\"width\":0.5},\"pattern\":{\"fillmode\":\"overlay\",\"size\":10,\"solidity\":0.2}},\"type\":\"bar\"}],\"scattergeo\":[{\"type\":\"scattergeo\",\"marker\":{\"colorbar\":{\"outlinewidth\":0,\"ticks\":\"\"}}}],\"scatterpolar\":[{\"type\":\"scatterpolar\",\"marker\":{\"colorbar\":{\"outlinewidth\":0,\"ticks\":\"\"}}}],\"histogram\":[{\"marker\":{\"pattern\":{\"fillmode\":\"overlay\",\"size\":10,\"solidity\":0.2}},\"type\":\"histogram\"}],\"scattergl\":[{\"type\":\"scattergl\",\"marker\":{\"colorbar\":{\"outlinewidth\":0,\"ticks\":\"\"}}}],\"scatter3d\":[{\"type\":\"scatter3d\",\"line\":{\"colorbar\":{\"outlinewidth\":0,\"ticks\":\"\"}},\"marker\":{\"colorbar\":{\"outlinewidth\":0,\"ticks\":\"\"}}}],\"scattermapbox\":[{\"type\":\"scattermapbox\",\"marker\":{\"colorbar\":{\"outlinewidth\":0,\"ticks\":\"\"}}}],\"scatterternary\":[{\"type\":\"scatterternary\",\"marker\":{\"colorbar\":{\"outlinewidth\":0,\"ticks\":\"\"}}}],\"scattercarpet\":[{\"type\":\"scattercarpet\",\"marker\":{\"colorbar\":{\"outlinewidth\":0,\"ticks\":\"\"}}}],\"carpet\":[{\"aaxis\":{\"endlinecolor\":\"#2a3f5f\",\"gridcolor\":\"white\",\"linecolor\":\"white\",\"minorgridcolor\":\"white\",\"startlinecolor\":\"#2a3f5f\"},\"baxis\":{\"endlinecolor\":\"#2a3f5f\",\"gridcolor\":\"white\",\"linecolor\":\"white\",\"minorgridcolor\":\"white\",\"startlinecolor\":\"#2a3f5f\"},\"type\":\"carpet\"}],\"table\":[{\"cells\":{\"fill\":{\"color\":\"#EBF0F8\"},\"line\":{\"color\":\"white\"}},\"header\":{\"fill\":{\"color\":\"#C8D4E3\"},\"line\":{\"color\":\"white\"}},\"type\":\"table\"}],\"barpolar\":[{\"marker\":{\"line\":{\"color\":\"#E5ECF6\",\"width\":0.5},\"pattern\":{\"fillmode\":\"overlay\",\"size\":10,\"solidity\":0.2}},\"type\":\"barpolar\"}],\"pie\":[{\"automargin\":true,\"type\":\"pie\"}]},\"layout\":{\"autotypenumbers\":\"strict\",\"colorway\":[\"#636efa\",\"#EF553B\",\"#00cc96\",\"#ab63fa\",\"#FFA15A\",\"#19d3f3\",\"#FF6692\",\"#B6E880\",\"#FF97FF\",\"#FECB52\"],\"font\":{\"color\":\"#2a3f5f\"},\"hovermode\":\"closest\",\"hoverlabel\":{\"align\":\"left\"},\"paper_bgcolor\":\"white\",\"plot_bgcolor\":\"#E5ECF6\",\"polar\":{\"bgcolor\":\"#E5ECF6\",\"angularaxis\":{\"gridcolor\":\"white\",\"linecolor\":\"white\",\"ticks\":\"\"},\"radialaxis\":{\"gridcolor\":\"white\",\"linecolor\":\"white\",\"ticks\":\"\"}},\"ternary\":{\"bgcolor\":\"#E5ECF6\",\"aaxis\":{\"gridcolor\":\"white\",\"linecolor\":\"white\",\"ticks\":\"\"},\"baxis\":{\"gridcolor\":\"white\",\"linecolor\":\"white\",\"ticks\":\"\"},\"caxis\":{\"gridcolor\":\"white\",\"linecolor\":\"white\",\"ticks\":\"\"}},\"coloraxis\":{\"colorbar\":{\"outlinewidth\":0,\"ticks\":\"\"}},\"colorscale\":{\"sequential\":[[0.0,\"#0d0887\"],[0.1111111111111111,\"#46039f\"],[0.2222222222222222,\"#7201a8\"],[0.3333333333333333,\"#9c179e\"],[0.4444444444444444,\"#bd3786\"],[0.5555555555555556,\"#d8576b\"],[0.6666666666666666,\"#ed7953\"],[0.7777777777777778,\"#fb9f3a\"],[0.8888888888888888,\"#fdca26\"],[1.0,\"#f0f921\"]],\"sequentialminus\":[[0.0,\"#0d0887\"],[0.1111111111111111,\"#46039f\"],[0.2222222222222222,\"#7201a8\"],[0.3333333333333333,\"#9c179e\"],[0.4444444444444444,\"#bd3786\"],[0.5555555555555556,\"#d8576b\"],[0.6666666666666666,\"#ed7953\"],[0.7777777777777778,\"#fb9f3a\"],[0.8888888888888888,\"#fdca26\"],[1.0,\"#f0f921\"]],\"diverging\":[[0,\"#8e0152\"],[0.1,\"#c51b7d\"],[0.2,\"#de77ae\"],[0.3,\"#f1b6da\"],[0.4,\"#fde0ef\"],[0.5,\"#f7f7f7\"],[0.6,\"#e6f5d0\"],[0.7,\"#b8e186\"],[0.8,\"#7fbc41\"],[0.9,\"#4d9221\"],[1,\"#276419\"]]},\"xaxis\":{\"gridcolor\":\"white\",\"linecolor\":\"white\",\"ticks\":\"\",\"title\":{\"standoff\":15},\"zerolinecolor\":\"white\",\"automargin\":true,\"zerolinewidth\":2},\"yaxis\":{\"gridcolor\":\"white\",\"linecolor\":\"white\",\"ticks\":\"\",\"title\":{\"standoff\":15},\"zerolinecolor\":\"white\",\"automargin\":true,\"zerolinewidth\":2},\"scene\":{\"xaxis\":{\"backgroundcolor\":\"#E5ECF6\",\"gridcolor\":\"white\",\"linecolor\":\"white\",\"showbackground\":true,\"ticks\":\"\",\"zerolinecolor\":\"white\",\"gridwidth\":2},\"yaxis\":{\"backgroundcolor\":\"#E5ECF6\",\"gridcolor\":\"white\",\"linecolor\":\"white\",\"showbackground\":true,\"ticks\":\"\",\"zerolinecolor\":\"white\",\"gridwidth\":2},\"zaxis\":{\"backgroundcolor\":\"#E5ECF6\",\"gridcolor\":\"white\",\"linecolor\":\"white\",\"showbackground\":true,\"ticks\":\"\",\"zerolinecolor\":\"white\",\"gridwidth\":2}},\"shapedefaults\":{\"line\":{\"color\":\"#2a3f5f\"}},\"annotationdefaults\":{\"arrowcolor\":\"#2a3f5f\",\"arrowhead\":0,\"arrowwidth\":1},\"geo\":{\"bgcolor\":\"white\",\"landcolor\":\"#E5ECF6\",\"subunitcolor\":\"white\",\"showland\":true,\"showlakes\":true,\"lakecolor\":\"white\"},\"title\":{\"x\":0.05},\"mapbox\":{\"style\":\"light\"}}},\"xaxis\":{\"anchor\":\"y\",\"domain\":[0.0,1.0],\"title\":{\"text\":\"month\"}},\"yaxis\":{\"anchor\":\"x\",\"domain\":[0.0,1.0],\"title\":{\"text\":\"deaths\"},\"type\":\"-\"},\"legend\":{\"tracegroupgap\":0},\"title\":{\"text\":\"'deaths' by 'month' and 'None'\"}},                        {\"responsive\": true}                    ).then(function(){\n",
       "                            \n",
       "var gd = document.getElementById('e37824d2-339f-4ff5-a70c-d8fa1b4e8b0e');\n",
       "var x = new MutationObserver(function (mutations, observer) {{\n",
       "        var display = window.getComputedStyle(gd).display;\n",
       "        if (!display || display === 'none') {{\n",
       "            console.log([gd, 'removed!']);\n",
       "            Plotly.purge(gd);\n",
       "            observer.disconnect();\n",
       "        }}\n",
       "}});\n",
       "\n",
       "// Listen for the removal of the full notebook cells\n",
       "var notebookContainer = gd.closest('#notebook-container');\n",
       "if (notebookContainer) {{\n",
       "    x.observe(notebookContainer, {childList: true});\n",
       "}}\n",
       "\n",
       "// Listen for the clearing of the current output cell\n",
       "var outputEl = gd.closest('.output');\n",
       "if (outputEl) {{\n",
       "    x.observe(outputEl, {childList: true});\n",
       "}}\n",
       "\n",
       "                        })                };                });            </script>        </div>"
      ]
     },
     "metadata": {},
     "output_type": "display_data"
    }
   ],
   "source": [
    "charters.chart(\n",
    "    df=mcd18_monthly,\n",
    "    x_axis=\"month\",\n",
    "    y_axis=\"deaths\",\n",
    "    type=\"area\",\n",
    ")"
   ]
  },
  {
   "cell_type": "markdown",
   "id": "cf7ec7d2-722b-43c0-9ca7-9c213230e4df",
   "metadata": {},
   "source": [
    "## MI"
   ]
  },
  {
   "cell_type": "markdown",
   "id": "a399ff8a-4af9-4188-a1ed-5a631d332576",
   "metadata": {},
   "source": [
    "### CDC Query"
   ]
  },
  {
   "cell_type": "code",
   "execution_count": 259,
   "id": "23a19161-b4b5-4226-927c-900ae7315382",
   "metadata": {},
   "outputs": [
    {
     "name": "stdout",
     "output_type": "stream",
     "text": [
      "\u001b[37m 2024-07-30 23:39:26 \u001b[0m|\u001b[37m morai.utils.sql \u001b[0m|\u001b[32m INFO     \u001b[0m|\u001b[32m replace data to SQLite database: `files/integrations/cdc/cdc.sql` and table: `mi` \u001b[0m\n",
      "\u001b[37m 2024-07-30 23:39:29 \u001b[0m|\u001b[37m morai.utils.sql \u001b[0m|\u001b[32m INFO     \u001b[0m|\u001b[32m append data to SQLite database: `files/integrations/cdc/cdc.sql` and table: `mi` \u001b[0m\n"
     ]
    }
   ],
   "source": [
    "df = cdc.get_cdc_data_xml(xml_filename=\"mcd99_mi.xml\")\n",
    "df[\"quintile\"] = \"total\"\n",
    "sql.export_to_sql(\n",
    "    df=df,\n",
    "    db_filepath=db_filepath,\n",
    "    table_name=\"mi\",\n",
    "    if_exists=\"replace\",\n",
    ")\n",
    "df = cdc.get_cdc_data_xml(xml_filename=\"mcd79_mi.xml\")\n",
    "df[\"quintile\"] = \"total\"\n",
    "sql.export_to_sql(\n",
    "    df=df,\n",
    "    db_filepath=db_filepath,\n",
    "    table_name=\"mi\",\n",
    ")"
   ]
  },
  {
   "cell_type": "markdown",
   "id": "e502937f-576e-4e85-b87c-dc6fcf7ef46b",
   "metadata": {},
   "source": [
    "### SQL"
   ]
  },
  {
   "cell_type": "code",
   "execution_count": 47,
   "id": "cca9c430-e3ab-4202-b9da-5e9498d494e9",
   "metadata": {},
   "outputs": [
    {
     "name": "stdout",
     "output_type": "stream",
     "text": [
      "\u001b[37m 2024-08-10 00:56:58 \u001b[0m|\u001b[37m morai.integrations.cdc \u001b[0m|\u001b[32m INFO     \u001b[0m|\u001b[32m table `mi` last updated at: 2024-07-30 23:39:29, rows: 1088 \u001b[0m\n"
     ]
    }
   ],
   "source": [
    "mi = cdc.get_cdc_data_sql(db_filepath=db_filepath, table_name=\"mi\")"
   ]
  },
  {
   "cell_type": "markdown",
   "id": "1ee781b7-246d-4e37-b67e-74c27c41f703",
   "metadata": {},
   "source": [
    "### Aggregate"
   ]
  },
  {
   "cell_type": "markdown",
   "id": "c98a4fd0-f487-491d-99be-8360d8172dc0",
   "metadata": {},
   "source": [
    "### Calculate"
   ]
  },
  {
   "cell_type": "code",
   "execution_count": 48,
   "id": "f665d858-949f-4ed6-a4cf-93528655c1e7",
   "metadata": {},
   "outputs": [],
   "source": [
    "# filters\n",
    "mi = mi[mi[\"year\"] < 2020]"
   ]
  },
  {
   "cell_type": "code",
   "execution_count": 49,
   "id": "8cab3093-b786-4c04-9a98-553b6694b7a9",
   "metadata": {},
   "outputs": [
    {
     "name": "stdout",
     "output_type": "stream",
     "text": [
      "\u001b[37m 2024-08-10 00:57:02 \u001b[0m|\u001b[37m morai.integrations.cdc \u001b[0m|\u001b[32m INFO     \u001b[0m|\u001b[32m calculating mortality improvement by using a `2000 age adjusted` crude mortality rate \u001b[0m\n",
      "\u001b[37m 2024-08-10 00:57:02 \u001b[0m|\u001b[37m morai.integrations.cdc \u001b[0m|\u001b[32m INFO     \u001b[0m|\u001b[32m mapping reference column: value \u001b[0m\n",
      "\u001b[37m 2024-08-10 00:57:02 \u001b[0m|\u001b[37m morai.integrations.cdc \u001b[0m|\u001b[32m INFO     \u001b[0m|\u001b[32m mapping reference column: population_% \u001b[0m\n"
     ]
    }
   ],
   "source": [
    "mi_df = cdc.calc_mi(df=mi, rolling=10)"
   ]
  },
  {
   "cell_type": "markdown",
   "id": "03f7ea44-f7a4-4180-9962-133aa2c7f9f9",
   "metadata": {},
   "source": [
    "### Chart"
   ]
  },
  {
   "cell_type": "code",
   "execution_count": 313,
   "id": "383333cf-cb8d-439c-a757-2a8a5bff35fd",
   "metadata": {},
   "outputs": [
    {
     "data": {
      "application/vnd.plotly.v1+json": {
       "config": {
        "plotlyServerURL": "https://plot.ly"
       },
       "data": [
        {
         "mode": "lines+markers",
         "name": "1_year_mi",
         "type": "scatter",
         "x": [
          1979,
          1980,
          1981,
          1982,
          1983,
          1984,
          1985,
          1986,
          1987,
          1988,
          1989,
          1990,
          1991,
          1992,
          1993,
          1994,
          1995,
          1996,
          1997,
          1998,
          1999,
          2000,
          2001,
          2002,
          2003,
          2004,
          2005,
          2006,
          2007,
          2008,
          2009,
          2010,
          2011,
          2012,
          2013,
          2014,
          2015,
          2016,
          2017,
          2018,
          2019
         ],
         "xaxis": "x",
         "y": [
          null,
          -0.0268411842675218,
          0.0312411538479741,
          0.02268530345909714,
          -0.0037370360248765166,
          0.008135482573245478,
          -0.005300328055118486,
          0.008741237804256619,
          0.009465070440056178,
          -0.005527866797981895,
          0.02588986444806085,
          0.01240930071744284,
          0.016914896393572354,
          0.018998342648975486,
          -0.022499065174511612,
          0.013520159725593395,
          0.004557944866573349,
          0.017721705438570545,
          0.01812482638945756,
          0.009393862114966178,
          0.009971927196442465,
          0.007319405291119296,
          0.011675418117161218,
          0.003273198912643549,
          0.014256575586252596,
          0.03498368787261352,
          -0.0017590508715228381,
          0.02821577430045119,
          0.020767731863609584,
          0.0002745169671187764,
          0.03250723423779678,
          0.0035091737341254037,
          0.007423748483241344,
          0.011514997393901938,
          0.0012136393145739666,
          0.009985232712147019,
          -0.01137252232135122,
          0.006094165932442497,
          -0.004005958451447134,
          0.01148919059820197,
          0.01175201365458134
         ],
         "yaxis": "y"
        },
        {
         "mode": "lines+markers",
         "name": "10_year_mi",
         "type": "scatter",
         "x": [
          1979,
          1980,
          1981,
          1982,
          1983,
          1984,
          1985,
          1986,
          1987,
          1988,
          1989,
          1990,
          1991,
          1992,
          1993,
          1994,
          1995,
          1996,
          1997,
          1998,
          1999,
          2000,
          2001,
          2002,
          2003,
          2004,
          2005,
          2006,
          2007,
          2008,
          2009,
          2010,
          2011,
          2012,
          2013,
          2014,
          2015,
          2016,
          2017,
          2018,
          2019
         ],
         "xaxis": "x",
         "y": [
          null,
          null,
          null,
          null,
          null,
          null,
          null,
          null,
          null,
          null,
          0.006475169742719167,
          0.01040021824121563,
          0.008967592495775455,
          0.008598896414763291,
          0.0067226934997997815,
          0.007261161215034573,
          0.008246988507203757,
          0.009145035270635149,
          0.010011010865575288,
          0.011503183756870095,
          0.009911390031708257,
          0.009402400489075901,
          0.008878452661434787,
          0.007305938287801595,
          0.010981502363878015,
          0.013127855178580028,
          0.01249615560477041,
          0.013545562490958474,
          0.013809853038373676,
          0.012897918523588936,
          0.015151449227724368,
          0.014770426072024978,
          0.01434525910863299,
          0.015169438956758829,
          0.013865145329590966,
          0.011365299813544316,
          0.010403952668561478,
          0.008191791831760609,
          0.005714422800254937,
          0.006835890163363256,
          0.004760368105041712
         ],
         "yaxis": "y"
        }
       ],
       "layout": {
        "height": 360,
        "template": {
         "data": {
          "bar": [
           {
            "error_x": {
             "color": "#2a3f5f"
            },
            "error_y": {
             "color": "#2a3f5f"
            },
            "marker": {
             "line": {
              "color": "#E5ECF6",
              "width": 0.5
             },
             "pattern": {
              "fillmode": "overlay",
              "size": 10,
              "solidity": 0.2
             }
            },
            "type": "bar"
           }
          ],
          "barpolar": [
           {
            "marker": {
             "line": {
              "color": "#E5ECF6",
              "width": 0.5
             },
             "pattern": {
              "fillmode": "overlay",
              "size": 10,
              "solidity": 0.2
             }
            },
            "type": "barpolar"
           }
          ],
          "carpet": [
           {
            "aaxis": {
             "endlinecolor": "#2a3f5f",
             "gridcolor": "white",
             "linecolor": "white",
             "minorgridcolor": "white",
             "startlinecolor": "#2a3f5f"
            },
            "baxis": {
             "endlinecolor": "#2a3f5f",
             "gridcolor": "white",
             "linecolor": "white",
             "minorgridcolor": "white",
             "startlinecolor": "#2a3f5f"
            },
            "type": "carpet"
           }
          ],
          "choropleth": [
           {
            "colorbar": {
             "outlinewidth": 0,
             "ticks": ""
            },
            "type": "choropleth"
           }
          ],
          "contour": [
           {
            "colorbar": {
             "outlinewidth": 0,
             "ticks": ""
            },
            "colorscale": [
             [
              0,
              "#0d0887"
             ],
             [
              0.1111111111111111,
              "#46039f"
             ],
             [
              0.2222222222222222,
              "#7201a8"
             ],
             [
              0.3333333333333333,
              "#9c179e"
             ],
             [
              0.4444444444444444,
              "#bd3786"
             ],
             [
              0.5555555555555556,
              "#d8576b"
             ],
             [
              0.6666666666666666,
              "#ed7953"
             ],
             [
              0.7777777777777778,
              "#fb9f3a"
             ],
             [
              0.8888888888888888,
              "#fdca26"
             ],
             [
              1,
              "#f0f921"
             ]
            ],
            "type": "contour"
           }
          ],
          "contourcarpet": [
           {
            "colorbar": {
             "outlinewidth": 0,
             "ticks": ""
            },
            "type": "contourcarpet"
           }
          ],
          "heatmap": [
           {
            "colorbar": {
             "outlinewidth": 0,
             "ticks": ""
            },
            "colorscale": [
             [
              0,
              "#0d0887"
             ],
             [
              0.1111111111111111,
              "#46039f"
             ],
             [
              0.2222222222222222,
              "#7201a8"
             ],
             [
              0.3333333333333333,
              "#9c179e"
             ],
             [
              0.4444444444444444,
              "#bd3786"
             ],
             [
              0.5555555555555556,
              "#d8576b"
             ],
             [
              0.6666666666666666,
              "#ed7953"
             ],
             [
              0.7777777777777778,
              "#fb9f3a"
             ],
             [
              0.8888888888888888,
              "#fdca26"
             ],
             [
              1,
              "#f0f921"
             ]
            ],
            "type": "heatmap"
           }
          ],
          "heatmapgl": [
           {
            "colorbar": {
             "outlinewidth": 0,
             "ticks": ""
            },
            "colorscale": [
             [
              0,
              "#0d0887"
             ],
             [
              0.1111111111111111,
              "#46039f"
             ],
             [
              0.2222222222222222,
              "#7201a8"
             ],
             [
              0.3333333333333333,
              "#9c179e"
             ],
             [
              0.4444444444444444,
              "#bd3786"
             ],
             [
              0.5555555555555556,
              "#d8576b"
             ],
             [
              0.6666666666666666,
              "#ed7953"
             ],
             [
              0.7777777777777778,
              "#fb9f3a"
             ],
             [
              0.8888888888888888,
              "#fdca26"
             ],
             [
              1,
              "#f0f921"
             ]
            ],
            "type": "heatmapgl"
           }
          ],
          "histogram": [
           {
            "marker": {
             "pattern": {
              "fillmode": "overlay",
              "size": 10,
              "solidity": 0.2
             }
            },
            "type": "histogram"
           }
          ],
          "histogram2d": [
           {
            "colorbar": {
             "outlinewidth": 0,
             "ticks": ""
            },
            "colorscale": [
             [
              0,
              "#0d0887"
             ],
             [
              0.1111111111111111,
              "#46039f"
             ],
             [
              0.2222222222222222,
              "#7201a8"
             ],
             [
              0.3333333333333333,
              "#9c179e"
             ],
             [
              0.4444444444444444,
              "#bd3786"
             ],
             [
              0.5555555555555556,
              "#d8576b"
             ],
             [
              0.6666666666666666,
              "#ed7953"
             ],
             [
              0.7777777777777778,
              "#fb9f3a"
             ],
             [
              0.8888888888888888,
              "#fdca26"
             ],
             [
              1,
              "#f0f921"
             ]
            ],
            "type": "histogram2d"
           }
          ],
          "histogram2dcontour": [
           {
            "colorbar": {
             "outlinewidth": 0,
             "ticks": ""
            },
            "colorscale": [
             [
              0,
              "#0d0887"
             ],
             [
              0.1111111111111111,
              "#46039f"
             ],
             [
              0.2222222222222222,
              "#7201a8"
             ],
             [
              0.3333333333333333,
              "#9c179e"
             ],
             [
              0.4444444444444444,
              "#bd3786"
             ],
             [
              0.5555555555555556,
              "#d8576b"
             ],
             [
              0.6666666666666666,
              "#ed7953"
             ],
             [
              0.7777777777777778,
              "#fb9f3a"
             ],
             [
              0.8888888888888888,
              "#fdca26"
             ],
             [
              1,
              "#f0f921"
             ]
            ],
            "type": "histogram2dcontour"
           }
          ],
          "mesh3d": [
           {
            "colorbar": {
             "outlinewidth": 0,
             "ticks": ""
            },
            "type": "mesh3d"
           }
          ],
          "parcoords": [
           {
            "line": {
             "colorbar": {
              "outlinewidth": 0,
              "ticks": ""
             }
            },
            "type": "parcoords"
           }
          ],
          "pie": [
           {
            "automargin": true,
            "type": "pie"
           }
          ],
          "scatter": [
           {
            "fillpattern": {
             "fillmode": "overlay",
             "size": 10,
             "solidity": 0.2
            },
            "type": "scatter"
           }
          ],
          "scatter3d": [
           {
            "line": {
             "colorbar": {
              "outlinewidth": 0,
              "ticks": ""
             }
            },
            "marker": {
             "colorbar": {
              "outlinewidth": 0,
              "ticks": ""
             }
            },
            "type": "scatter3d"
           }
          ],
          "scattercarpet": [
           {
            "marker": {
             "colorbar": {
              "outlinewidth": 0,
              "ticks": ""
             }
            },
            "type": "scattercarpet"
           }
          ],
          "scattergeo": [
           {
            "marker": {
             "colorbar": {
              "outlinewidth": 0,
              "ticks": ""
             }
            },
            "type": "scattergeo"
           }
          ],
          "scattergl": [
           {
            "marker": {
             "colorbar": {
              "outlinewidth": 0,
              "ticks": ""
             }
            },
            "type": "scattergl"
           }
          ],
          "scattermapbox": [
           {
            "marker": {
             "colorbar": {
              "outlinewidth": 0,
              "ticks": ""
             }
            },
            "type": "scattermapbox"
           }
          ],
          "scatterpolar": [
           {
            "marker": {
             "colorbar": {
              "outlinewidth": 0,
              "ticks": ""
             }
            },
            "type": "scatterpolar"
           }
          ],
          "scatterpolargl": [
           {
            "marker": {
             "colorbar": {
              "outlinewidth": 0,
              "ticks": ""
             }
            },
            "type": "scatterpolargl"
           }
          ],
          "scatterternary": [
           {
            "marker": {
             "colorbar": {
              "outlinewidth": 0,
              "ticks": ""
             }
            },
            "type": "scatterternary"
           }
          ],
          "surface": [
           {
            "colorbar": {
             "outlinewidth": 0,
             "ticks": ""
            },
            "colorscale": [
             [
              0,
              "#0d0887"
             ],
             [
              0.1111111111111111,
              "#46039f"
             ],
             [
              0.2222222222222222,
              "#7201a8"
             ],
             [
              0.3333333333333333,
              "#9c179e"
             ],
             [
              0.4444444444444444,
              "#bd3786"
             ],
             [
              0.5555555555555556,
              "#d8576b"
             ],
             [
              0.6666666666666666,
              "#ed7953"
             ],
             [
              0.7777777777777778,
              "#fb9f3a"
             ],
             [
              0.8888888888888888,
              "#fdca26"
             ],
             [
              1,
              "#f0f921"
             ]
            ],
            "type": "surface"
           }
          ],
          "table": [
           {
            "cells": {
             "fill": {
              "color": "#EBF0F8"
             },
             "line": {
              "color": "white"
             }
            },
            "header": {
             "fill": {
              "color": "#C8D4E3"
             },
             "line": {
              "color": "white"
             }
            },
            "type": "table"
           }
          ]
         },
         "layout": {
          "annotationdefaults": {
           "arrowcolor": "#2a3f5f",
           "arrowhead": 0,
           "arrowwidth": 1
          },
          "autotypenumbers": "strict",
          "coloraxis": {
           "colorbar": {
            "outlinewidth": 0,
            "ticks": ""
           }
          },
          "colorscale": {
           "diverging": [
            [
             0,
             "#8e0152"
            ],
            [
             0.1,
             "#c51b7d"
            ],
            [
             0.2,
             "#de77ae"
            ],
            [
             0.3,
             "#f1b6da"
            ],
            [
             0.4,
             "#fde0ef"
            ],
            [
             0.5,
             "#f7f7f7"
            ],
            [
             0.6,
             "#e6f5d0"
            ],
            [
             0.7,
             "#b8e186"
            ],
            [
             0.8,
             "#7fbc41"
            ],
            [
             0.9,
             "#4d9221"
            ],
            [
             1,
             "#276419"
            ]
           ],
           "sequential": [
            [
             0,
             "#0d0887"
            ],
            [
             0.1111111111111111,
             "#46039f"
            ],
            [
             0.2222222222222222,
             "#7201a8"
            ],
            [
             0.3333333333333333,
             "#9c179e"
            ],
            [
             0.4444444444444444,
             "#bd3786"
            ],
            [
             0.5555555555555556,
             "#d8576b"
            ],
            [
             0.6666666666666666,
             "#ed7953"
            ],
            [
             0.7777777777777778,
             "#fb9f3a"
            ],
            [
             0.8888888888888888,
             "#fdca26"
            ],
            [
             1,
             "#f0f921"
            ]
           ],
           "sequentialminus": [
            [
             0,
             "#0d0887"
            ],
            [
             0.1111111111111111,
             "#46039f"
            ],
            [
             0.2222222222222222,
             "#7201a8"
            ],
            [
             0.3333333333333333,
             "#9c179e"
            ],
            [
             0.4444444444444444,
             "#bd3786"
            ],
            [
             0.5555555555555556,
             "#d8576b"
            ],
            [
             0.6666666666666666,
             "#ed7953"
            ],
            [
             0.7777777777777778,
             "#fb9f3a"
            ],
            [
             0.8888888888888888,
             "#fdca26"
            ],
            [
             1,
             "#f0f921"
            ]
           ]
          },
          "colorway": [
           "#636efa",
           "#EF553B",
           "#00cc96",
           "#ab63fa",
           "#FFA15A",
           "#19d3f3",
           "#FF6692",
           "#B6E880",
           "#FF97FF",
           "#FECB52"
          ],
          "font": {
           "color": "#2a3f5f"
          },
          "geo": {
           "bgcolor": "white",
           "lakecolor": "white",
           "landcolor": "#E5ECF6",
           "showlakes": true,
           "showland": true,
           "subunitcolor": "white"
          },
          "hoverlabel": {
           "align": "left"
          },
          "hovermode": "closest",
          "mapbox": {
           "style": "light"
          },
          "paper_bgcolor": "white",
          "plot_bgcolor": "#E5ECF6",
          "polar": {
           "angularaxis": {
            "gridcolor": "white",
            "linecolor": "white",
            "ticks": ""
           },
           "bgcolor": "#E5ECF6",
           "radialaxis": {
            "gridcolor": "white",
            "linecolor": "white",
            "ticks": ""
           }
          },
          "scene": {
           "xaxis": {
            "backgroundcolor": "#E5ECF6",
            "gridcolor": "white",
            "gridwidth": 2,
            "linecolor": "white",
            "showbackground": true,
            "ticks": "",
            "zerolinecolor": "white"
           },
           "yaxis": {
            "backgroundcolor": "#E5ECF6",
            "gridcolor": "white",
            "gridwidth": 2,
            "linecolor": "white",
            "showbackground": true,
            "ticks": "",
            "zerolinecolor": "white"
           },
           "zaxis": {
            "backgroundcolor": "#E5ECF6",
            "gridcolor": "white",
            "gridwidth": 2,
            "linecolor": "white",
            "showbackground": true,
            "ticks": "",
            "zerolinecolor": "white"
           }
          },
          "shapedefaults": {
           "line": {
            "color": "#2a3f5f"
           }
          },
          "ternary": {
           "aaxis": {
            "gridcolor": "white",
            "linecolor": "white",
            "ticks": ""
           },
           "baxis": {
            "gridcolor": "white",
            "linecolor": "white",
            "ticks": ""
           },
           "bgcolor": "#E5ECF6",
           "caxis": {
            "gridcolor": "white",
            "linecolor": "white",
            "ticks": ""
           }
          },
          "title": {
           "x": 0.05
          },
          "xaxis": {
           "automargin": true,
           "gridcolor": "white",
           "linecolor": "white",
           "ticks": "",
           "title": {
            "standoff": 15
           },
           "zerolinecolor": "white",
           "zerolinewidth": 2
          },
          "yaxis": {
           "automargin": true,
           "gridcolor": "white",
           "linecolor": "white",
           "ticks": "",
           "title": {
            "standoff": 15
           },
           "zerolinecolor": "white",
           "zerolinewidth": 2
          }
         }
        },
        "title": {
         "text": "Comparison of '['1_year_mi', '10_year_mi']' by 'year'"
        },
        "xaxis": {
         "anchor": "y",
         "autorange": true,
         "domain": [
          0,
          0.94
         ],
         "range": [
          1976.5468582006008,
          2021.4531417993992
         ],
         "title": {
          "text": "year"
         },
         "type": "linear"
        },
        "yaxis": {
         "anchor": "x",
         "autorange": true,
         "domain": [
          0,
          1
         ],
         "range": [
          -0.03194323682277569,
          0.04008574042786741
         ],
         "title": {
          "text": "Rates"
         },
         "type": "linear"
        },
        "yaxis2": {
         "anchor": "x",
         "overlaying": "y",
         "side": "right"
        }
       }
      },
      "image/png": "[encoded data removed]",
      "text/html": [
       "<div>                            <div id=\"b5be24ef-644b-4c92-a6c3-31ccc2d4fb6a\" class=\"plotly-graph-div\" style=\"height:525px; width:100%;\"></div>            <script type=\"text/javascript\">                require([\"plotly\"], function(Plotly) {                    window.PLOTLYENV=window.PLOTLYENV || {};                                    if (document.getElementById(\"b5be24ef-644b-4c92-a6c3-31ccc2d4fb6a\")) {                    Plotly.newPlot(                        \"b5be24ef-644b-4c92-a6c3-31ccc2d4fb6a\",                        [{\"mode\":\"lines+markers\",\"name\":\"1_year_mi\",\"x\":[1979,1980,1981,1982,1983,1984,1985,1986,1987,1988,1989,1990,1991,1992,1993,1994,1995,1996,1997,1998,1999,2000,2001,2002,2003,2004,2005,2006,2007,2008,2009,2010,2011,2012,2013,2014,2015,2016,2017,2018,2019],\"y\":[null,-0.0268411842675218,0.0312411538479741,0.02268530345909714,-0.0037370360248765166,0.008135482573245478,-0.005300328055118486,0.008741237804256619,0.009465070440056178,-0.005527866797981895,0.02588986444806085,0.01240930071744284,0.016914896393572354,0.018998342648975486,-0.022499065174511612,0.013520159725593395,0.004557944866573349,0.017721705438570545,0.01812482638945756,0.009393862114966178,0.009971927196442465,0.007319405291119296,0.011675418117161218,0.003273198912643549,0.014256575586252596,0.03498368787261352,-0.0017590508715228381,0.02821577430045119,0.020767731863609584,0.0002745169671187764,0.03250723423779678,0.0035091737341254037,0.007423748483241344,0.011514997393901938,0.0012136393145739666,0.009985232712147019,-0.01137252232135122,0.006094165932442497,-0.004005958451447134,0.01148919059820197,0.01175201365458134],\"type\":\"scatter\",\"xaxis\":\"x\",\"yaxis\":\"y\"},{\"mode\":\"lines+markers\",\"name\":\"10_year_mi\",\"x\":[1979,1980,1981,1982,1983,1984,1985,1986,1987,1988,1989,1990,1991,1992,1993,1994,1995,1996,1997,1998,1999,2000,2001,2002,2003,2004,2005,2006,2007,2008,2009,2010,2011,2012,2013,2014,2015,2016,2017,2018,2019],\"y\":[null,null,null,null,null,null,null,null,null,null,0.006475169742719167,0.01040021824121563,0.008967592495775455,0.008598896414763291,0.0067226934997997815,0.007261161215034573,0.008246988507203757,0.009145035270635149,0.010011010865575288,0.011503183756870095,0.009911390031708257,0.009402400489075901,0.008878452661434787,0.007305938287801595,0.010981502363878015,0.013127855178580028,0.01249615560477041,0.013545562490958474,0.013809853038373676,0.012897918523588936,0.015151449227724368,0.014770426072024978,0.01434525910863299,0.015169438956758829,0.013865145329590966,0.011365299813544316,0.010403952668561478,0.008191791831760609,0.005714422800254937,0.006835890163363256,0.004760368105041712],\"type\":\"scatter\",\"xaxis\":\"x\",\"yaxis\":\"y\"}],                        {\"template\":{\"data\":{\"histogram2dcontour\":[{\"type\":\"histogram2dcontour\",\"colorbar\":{\"outlinewidth\":0,\"ticks\":\"\"},\"colorscale\":[[0.0,\"#0d0887\"],[0.1111111111111111,\"#46039f\"],[0.2222222222222222,\"#7201a8\"],[0.3333333333333333,\"#9c179e\"],[0.4444444444444444,\"#bd3786\"],[0.5555555555555556,\"#d8576b\"],[0.6666666666666666,\"#ed7953\"],[0.7777777777777778,\"#fb9f3a\"],[0.8888888888888888,\"#fdca26\"],[1.0,\"#f0f921\"]]}],\"choropleth\":[{\"type\":\"choropleth\",\"colorbar\":{\"outlinewidth\":0,\"ticks\":\"\"}}],\"histogram2d\":[{\"type\":\"histogram2d\",\"colorbar\":{\"outlinewidth\":0,\"ticks\":\"\"},\"colorscale\":[[0.0,\"#0d0887\"],[0.1111111111111111,\"#46039f\"],[0.2222222222222222,\"#7201a8\"],[0.3333333333333333,\"#9c179e\"],[0.4444444444444444,\"#bd3786\"],[0.5555555555555556,\"#d8576b\"],[0.6666666666666666,\"#ed7953\"],[0.7777777777777778,\"#fb9f3a\"],[0.8888888888888888,\"#fdca26\"],[1.0,\"#f0f921\"]]}],\"heatmap\":[{\"type\":\"heatmap\",\"colorbar\":{\"outlinewidth\":0,\"ticks\":\"\"},\"colorscale\":[[0.0,\"#0d0887\"],[0.1111111111111111,\"#46039f\"],[0.2222222222222222,\"#7201a8\"],[0.3333333333333333,\"#9c179e\"],[0.4444444444444444,\"#bd3786\"],[0.5555555555555556,\"#d8576b\"],[0.6666666666666666,\"#ed7953\"],[0.7777777777777778,\"#fb9f3a\"],[0.8888888888888888,\"#fdca26\"],[1.0,\"#f0f921\"]]}],\"heatmapgl\":[{\"type\":\"heatmapgl\",\"colorbar\":{\"outlinewidth\":0,\"ticks\":\"\"},\"colorscale\":[[0.0,\"#0d0887\"],[0.1111111111111111,\"#46039f\"],[0.2222222222222222,\"#7201a8\"],[0.3333333333333333,\"#9c179e\"],[0.4444444444444444,\"#bd3786\"],[0.5555555555555556,\"#d8576b\"],[0.6666666666666666,\"#ed7953\"],[0.7777777777777778,\"#fb9f3a\"],[0.8888888888888888,\"#fdca26\"],[1.0,\"#f0f921\"]]}],\"contourcarpet\":[{\"type\":\"contourcarpet\",\"colorbar\":{\"outlinewidth\":0,\"ticks\":\"\"}}],\"contour\":[{\"type\":\"contour\",\"colorbar\":{\"outlinewidth\":0,\"ticks\":\"\"},\"colorscale\":[[0.0,\"#0d0887\"],[0.1111111111111111,\"#46039f\"],[0.2222222222222222,\"#7201a8\"],[0.3333333333333333,\"#9c179e\"],[0.4444444444444444,\"#bd3786\"],[0.5555555555555556,\"#d8576b\"],[0.6666666666666666,\"#ed7953\"],[0.7777777777777778,\"#fb9f3a\"],[0.8888888888888888,\"#fdca26\"],[1.0,\"#f0f921\"]]}],\"surface\":[{\"type\":\"surface\",\"colorbar\":{\"outlinewidth\":0,\"ticks\":\"\"},\"colorscale\":[[0.0,\"#0d0887\"],[0.1111111111111111,\"#46039f\"],[0.2222222222222222,\"#7201a8\"],[0.3333333333333333,\"#9c179e\"],[0.4444444444444444,\"#bd3786\"],[0.5555555555555556,\"#d8576b\"],[0.6666666666666666,\"#ed7953\"],[0.7777777777777778,\"#fb9f3a\"],[0.8888888888888888,\"#fdca26\"],[1.0,\"#f0f921\"]]}],\"mesh3d\":[{\"type\":\"mesh3d\",\"colorbar\":{\"outlinewidth\":0,\"ticks\":\"\"}}],\"scatter\":[{\"fillpattern\":{\"fillmode\":\"overlay\",\"size\":10,\"solidity\":0.2},\"type\":\"scatter\"}],\"parcoords\":[{\"type\":\"parcoords\",\"line\":{\"colorbar\":{\"outlinewidth\":0,\"ticks\":\"\"}}}],\"scatterpolargl\":[{\"type\":\"scatterpolargl\",\"marker\":{\"colorbar\":{\"outlinewidth\":0,\"ticks\":\"\"}}}],\"bar\":[{\"error_x\":{\"color\":\"#2a3f5f\"},\"error_y\":{\"color\":\"#2a3f5f\"},\"marker\":{\"line\":{\"color\":\"#E5ECF6\",\"width\":0.5},\"pattern\":{\"fillmode\":\"overlay\",\"size\":10,\"solidity\":0.2}},\"type\":\"bar\"}],\"scattergeo\":[{\"type\":\"scattergeo\",\"marker\":{\"colorbar\":{\"outlinewidth\":0,\"ticks\":\"\"}}}],\"scatterpolar\":[{\"type\":\"scatterpolar\",\"marker\":{\"colorbar\":{\"outlinewidth\":0,\"ticks\":\"\"}}}],\"histogram\":[{\"marker\":{\"pattern\":{\"fillmode\":\"overlay\",\"size\":10,\"solidity\":0.2}},\"type\":\"histogram\"}],\"scattergl\":[{\"type\":\"scattergl\",\"marker\":{\"colorbar\":{\"outlinewidth\":0,\"ticks\":\"\"}}}],\"scatter3d\":[{\"type\":\"scatter3d\",\"line\":{\"colorbar\":{\"outlinewidth\":0,\"ticks\":\"\"}},\"marker\":{\"colorbar\":{\"outlinewidth\":0,\"ticks\":\"\"}}}],\"scattermapbox\":[{\"type\":\"scattermapbox\",\"marker\":{\"colorbar\":{\"outlinewidth\":0,\"ticks\":\"\"}}}],\"scatterternary\":[{\"type\":\"scatterternary\",\"marker\":{\"colorbar\":{\"outlinewidth\":0,\"ticks\":\"\"}}}],\"scattercarpet\":[{\"type\":\"scattercarpet\",\"marker\":{\"colorbar\":{\"outlinewidth\":0,\"ticks\":\"\"}}}],\"carpet\":[{\"aaxis\":{\"endlinecolor\":\"#2a3f5f\",\"gridcolor\":\"white\",\"linecolor\":\"white\",\"minorgridcolor\":\"white\",\"startlinecolor\":\"#2a3f5f\"},\"baxis\":{\"endlinecolor\":\"#2a3f5f\",\"gridcolor\":\"white\",\"linecolor\":\"white\",\"minorgridcolor\":\"white\",\"startlinecolor\":\"#2a3f5f\"},\"type\":\"carpet\"}],\"table\":[{\"cells\":{\"fill\":{\"color\":\"#EBF0F8\"},\"line\":{\"color\":\"white\"}},\"header\":{\"fill\":{\"color\":\"#C8D4E3\"},\"line\":{\"color\":\"white\"}},\"type\":\"table\"}],\"barpolar\":[{\"marker\":{\"line\":{\"color\":\"#E5ECF6\",\"width\":0.5},\"pattern\":{\"fillmode\":\"overlay\",\"size\":10,\"solidity\":0.2}},\"type\":\"barpolar\"}],\"pie\":[{\"automargin\":true,\"type\":\"pie\"}]},\"layout\":{\"autotypenumbers\":\"strict\",\"colorway\":[\"#636efa\",\"#EF553B\",\"#00cc96\",\"#ab63fa\",\"#FFA15A\",\"#19d3f3\",\"#FF6692\",\"#B6E880\",\"#FF97FF\",\"#FECB52\"],\"font\":{\"color\":\"#2a3f5f\"},\"hovermode\":\"closest\",\"hoverlabel\":{\"align\":\"left\"},\"paper_bgcolor\":\"white\",\"plot_bgcolor\":\"#E5ECF6\",\"polar\":{\"bgcolor\":\"#E5ECF6\",\"angularaxis\":{\"gridcolor\":\"white\",\"linecolor\":\"white\",\"ticks\":\"\"},\"radialaxis\":{\"gridcolor\":\"white\",\"linecolor\":\"white\",\"ticks\":\"\"}},\"ternary\":{\"bgcolor\":\"#E5ECF6\",\"aaxis\":{\"gridcolor\":\"white\",\"linecolor\":\"white\",\"ticks\":\"\"},\"baxis\":{\"gridcolor\":\"white\",\"linecolor\":\"white\",\"ticks\":\"\"},\"caxis\":{\"gridcolor\":\"white\",\"linecolor\":\"white\",\"ticks\":\"\"}},\"coloraxis\":{\"colorbar\":{\"outlinewidth\":0,\"ticks\":\"\"}},\"colorscale\":{\"sequential\":[[0.0,\"#0d0887\"],[0.1111111111111111,\"#46039f\"],[0.2222222222222222,\"#7201a8\"],[0.3333333333333333,\"#9c179e\"],[0.4444444444444444,\"#bd3786\"],[0.5555555555555556,\"#d8576b\"],[0.6666666666666666,\"#ed7953\"],[0.7777777777777778,\"#fb9f3a\"],[0.8888888888888888,\"#fdca26\"],[1.0,\"#f0f921\"]],\"sequentialminus\":[[0.0,\"#0d0887\"],[0.1111111111111111,\"#46039f\"],[0.2222222222222222,\"#7201a8\"],[0.3333333333333333,\"#9c179e\"],[0.4444444444444444,\"#bd3786\"],[0.5555555555555556,\"#d8576b\"],[0.6666666666666666,\"#ed7953\"],[0.7777777777777778,\"#fb9f3a\"],[0.8888888888888888,\"#fdca26\"],[1.0,\"#f0f921\"]],\"diverging\":[[0,\"#8e0152\"],[0.1,\"#c51b7d\"],[0.2,\"#de77ae\"],[0.3,\"#f1b6da\"],[0.4,\"#fde0ef\"],[0.5,\"#f7f7f7\"],[0.6,\"#e6f5d0\"],[0.7,\"#b8e186\"],[0.8,\"#7fbc41\"],[0.9,\"#4d9221\"],[1,\"#276419\"]]},\"xaxis\":{\"gridcolor\":\"white\",\"linecolor\":\"white\",\"ticks\":\"\",\"title\":{\"standoff\":15},\"zerolinecolor\":\"white\",\"automargin\":true,\"zerolinewidth\":2},\"yaxis\":{\"gridcolor\":\"white\",\"linecolor\":\"white\",\"ticks\":\"\",\"title\":{\"standoff\":15},\"zerolinecolor\":\"white\",\"automargin\":true,\"zerolinewidth\":2},\"scene\":{\"xaxis\":{\"backgroundcolor\":\"#E5ECF6\",\"gridcolor\":\"white\",\"linecolor\":\"white\",\"showbackground\":true,\"ticks\":\"\",\"zerolinecolor\":\"white\",\"gridwidth\":2},\"yaxis\":{\"backgroundcolor\":\"#E5ECF6\",\"gridcolor\":\"white\",\"linecolor\":\"white\",\"showbackground\":true,\"ticks\":\"\",\"zerolinecolor\":\"white\",\"gridwidth\":2},\"zaxis\":{\"backgroundcolor\":\"#E5ECF6\",\"gridcolor\":\"white\",\"linecolor\":\"white\",\"showbackground\":true,\"ticks\":\"\",\"zerolinecolor\":\"white\",\"gridwidth\":2}},\"shapedefaults\":{\"line\":{\"color\":\"#2a3f5f\"}},\"annotationdefaults\":{\"arrowcolor\":\"#2a3f5f\",\"arrowhead\":0,\"arrowwidth\":1},\"geo\":{\"bgcolor\":\"white\",\"landcolor\":\"#E5ECF6\",\"subunitcolor\":\"white\",\"showland\":true,\"showlakes\":true,\"lakecolor\":\"white\"},\"title\":{\"x\":0.05},\"mapbox\":{\"style\":\"light\"}}},\"xaxis\":{\"anchor\":\"y\",\"domain\":[0.0,0.94],\"title\":{\"text\":\"year\"}},\"yaxis\":{\"anchor\":\"x\",\"domain\":[0.0,1.0],\"type\":\"-\",\"title\":{\"text\":\"Rates\"}},\"yaxis2\":{\"anchor\":\"x\",\"overlaying\":\"y\",\"side\":\"right\"},\"title\":{\"text\":\"Comparison of '['1_year_mi', '10_year_mi']' by 'year'\"}},                        {\"responsive\": true}                    ).then(function(){\n",
       "                            \n",
       "var gd = document.getElementById('b5be24ef-644b-4c92-a6c3-31ccc2d4fb6a');\n",
       "var x = new MutationObserver(function (mutations, observer) {{\n",
       "        var display = window.getComputedStyle(gd).display;\n",
       "        if (!display || display === 'none') {{\n",
       "            console.log([gd, 'removed!']);\n",
       "            Plotly.purge(gd);\n",
       "            observer.disconnect();\n",
       "        }}\n",
       "}});\n",
       "\n",
       "// Listen for the removal of the full notebook cells\n",
       "var notebookContainer = gd.closest('#notebook-container');\n",
       "if (notebookContainer) {{\n",
       "    x.observe(notebookContainer, {childList: true});\n",
       "}}\n",
       "\n",
       "// Listen for the clearing of the current output cell\n",
       "var outputEl = gd.closest('.output');\n",
       "if (outputEl) {{\n",
       "    x.observe(outputEl, {childList: true});\n",
       "}}\n",
       "\n",
       "                        })                };                });            </script>        </div>"
      ]
     },
     "metadata": {},
     "output_type": "display_data"
    }
   ],
   "source": [
    "charters.compare_rates(\n",
    "    df=mi_df,\n",
    "    x_axis=\"year\",\n",
    "    rates=[\"1_year_mi\", \"10_year_mi\"],\n",
    ")"
   ]
  },
  {
   "cell_type": "markdown",
   "id": "6920b235-18c0-43b0-b6fe-0f513bf0fa87",
   "metadata": {},
   "source": [
    "## Check"
   ]
  },
  {
   "cell_type": "markdown",
   "id": "10b716f1-8ac3-47c1-97a7-536ba42cef8c",
   "metadata": {},
   "source": [
    "### CDC Query"
   ]
  },
  {
   "cell_type": "code",
   "execution_count": 80,
   "id": "c85f7542-1019-4037-831a-cec29866c26c",
   "metadata": {},
   "outputs": [],
   "source": [
    "df = cdc.get_cdc_data_xml(xml_filename=\"mcd99_check.xml\")"
   ]
  },
  {
   "cell_type": "code",
   "execution_count": 81,
   "id": "ce4417f2-c3df-46aa-adf0-21e28287cd31",
   "metadata": {},
   "outputs": [
    {
     "name": "stdout",
     "output_type": "stream",
     "text": [
      "\u001b[37m 2024-07-30 22:02:12 \u001b[0m|\u001b[37m morai.utils.sql \u001b[0m|\u001b[32m INFO     \u001b[0m|\u001b[32m exporting data to SQLite database: files/integrations/cdc/cdc.sql and table: mcd99_check \u001b[0m\n"
     ]
    }
   ],
   "source": [
    "sql.export_to_sql(\n",
    "    df=df,\n",
    "    db_filepath=db_filepath,\n",
    "    table_name=\"mcd99_check\",\n",
    "    if_exists=\"replace\",\n",
    ")"
   ]
  },
  {
   "cell_type": "code",
   "execution_count": 89,
   "id": "3b159f98-0cb4-4ced-be13-e69872f68605",
   "metadata": {},
   "outputs": [],
   "source": [
    "df = cdc.get_cdc_data_xml(xml_filename=\"mcd18_check.xml\")"
   ]
  },
  {
   "cell_type": "code",
   "execution_count": 90,
   "id": "8645b987-7a67-4bcd-8137-9060473f6888",
   "metadata": {},
   "outputs": [
    {
     "name": "stdout",
     "output_type": "stream",
     "text": [
      "\u001b[37m 2024-07-30 22:04:06 \u001b[0m|\u001b[37m morai.utils.sql \u001b[0m|\u001b[32m INFO     \u001b[0m|\u001b[32m exporting data to SQLite database: files/integrations/cdc/cdc.sql and table: mcd18_check \u001b[0m\n"
     ]
    }
   ],
   "source": [
    "sql.export_to_sql(\n",
    "    df=df,\n",
    "    db_filepath=db_filepath,\n",
    "    table_name=\"mcd18_check\",\n",
    "    if_exists=\"replace\",\n",
    ")"
   ]
  },
  {
   "cell_type": "markdown",
   "id": "13af34bf-9f1f-41a4-9efc-932423d41cac",
   "metadata": {},
   "source": [
    "### SQL"
   ]
  },
  {
   "cell_type": "code",
   "execution_count": 31,
   "id": "3c552552-37d4-4590-9e2e-fee3911c47e8",
   "metadata": {},
   "outputs": [
    {
     "name": "stdout",
     "output_type": "stream",
     "text": [
      "\u001b[37m 2024-08-09 23:54:34 \u001b[0m|\u001b[37m morai.integrations.cdc \u001b[0m|\u001b[32m INFO     \u001b[0m|\u001b[32m table `mcd99_check` last updated at: 2024-07-30 22:02:12, rows: 22 \u001b[0m\n"
     ]
    }
   ],
   "source": [
    "mcd99_check = cdc.get_cdc_data_sql(db_filepath=db_filepath, table_name=\"mcd99_check\")"
   ]
  },
  {
   "cell_type": "code",
   "execution_count": 32,
   "id": "ad0b9dec-0ae5-4db5-a14c-06b96c77a20d",
   "metadata": {},
   "outputs": [
    {
     "name": "stdout",
     "output_type": "stream",
     "text": [
      "\u001b[37m 2024-08-09 23:54:34 \u001b[0m|\u001b[37m morai.integrations.cdc \u001b[0m|\u001b[32m INFO     \u001b[0m|\u001b[32m table `mcd18_check` last updated at: 2024-07-30 22:04:06, rows: 7 \u001b[0m\n"
     ]
    }
   ],
   "source": [
    "mcd18_check = cdc.get_cdc_data_sql(db_filepath=db_filepath, table_name=\"mcd18_check\")"
   ]
  },
  {
   "cell_type": "markdown",
   "id": "08ff6433-c9ad-4bf0-a629-12a6a8ee971d",
   "metadata": {},
   "source": [
    "### Compare"
   ]
  },
  {
   "cell_type": "code",
   "execution_count": 33,
   "id": "b0a259ba-1c99-433b-85f9-e1c683095a6d",
   "metadata": {},
   "outputs": [
    {
     "data": {
      "text/html": [
       "<div>\n",
       "<style scoped>\n",
       "    .dataframe tbody tr th:only-of-type {\n",
       "        vertical-align: middle;\n",
       "    }\n",
       "\n",
       "    .dataframe tbody tr th {\n",
       "        vertical-align: top;\n",
       "    }\n",
       "\n",
       "    .dataframe thead th {\n",
       "        text-align: right;\n",
       "    }\n",
       "</style>\n",
       "<table border=\"1\" class=\"dataframe\">\n",
       "  <thead>\n",
       "    <tr style=\"text-align: right;\">\n",
       "      <th></th>\n",
       "      <th>year</th>\n",
       "      <th>deaths_left</th>\n",
       "      <th>deaths_right</th>\n",
       "      <th>deaths_diff</th>\n",
       "    </tr>\n",
       "  </thead>\n",
       "  <tbody>\n",
       "    <tr>\n",
       "      <th>0</th>\n",
       "      <td>1999</td>\n",
       "      <td>2391399</td>\n",
       "      <td>2391293</td>\n",
       "      <td>106</td>\n",
       "    </tr>\n",
       "    <tr>\n",
       "      <th>1</th>\n",
       "      <td>2000</td>\n",
       "      <td>2403351</td>\n",
       "      <td>2403243</td>\n",
       "      <td>108</td>\n",
       "    </tr>\n",
       "    <tr>\n",
       "      <th>2</th>\n",
       "      <td>2001</td>\n",
       "      <td>2416425</td>\n",
       "      <td>2416324</td>\n",
       "      <td>101</td>\n",
       "    </tr>\n",
       "    <tr>\n",
       "      <th>3</th>\n",
       "      <td>2002</td>\n",
       "      <td>2443387</td>\n",
       "      <td>2443256</td>\n",
       "      <td>131</td>\n",
       "    </tr>\n",
       "    <tr>\n",
       "      <th>4</th>\n",
       "      <td>2003</td>\n",
       "      <td>2448288</td>\n",
       "      <td>2448203</td>\n",
       "      <td>85</td>\n",
       "    </tr>\n",
       "    <tr>\n",
       "      <th>5</th>\n",
       "      <td>2004</td>\n",
       "      <td>2397615</td>\n",
       "      <td>2397509</td>\n",
       "      <td>106</td>\n",
       "    </tr>\n",
       "    <tr>\n",
       "      <th>6</th>\n",
       "      <td>2005</td>\n",
       "      <td>2448017</td>\n",
       "      <td>2447915</td>\n",
       "      <td>102</td>\n",
       "    </tr>\n",
       "    <tr>\n",
       "      <th>7</th>\n",
       "      <td>2006</td>\n",
       "      <td>2426264</td>\n",
       "      <td>2426172</td>\n",
       "      <td>92</td>\n",
       "    </tr>\n",
       "    <tr>\n",
       "      <th>8</th>\n",
       "      <td>2007</td>\n",
       "      <td>2423712</td>\n",
       "      <td>2423597</td>\n",
       "      <td>115</td>\n",
       "    </tr>\n",
       "    <tr>\n",
       "      <th>9</th>\n",
       "      <td>2008</td>\n",
       "      <td>2471984</td>\n",
       "      <td>2471912</td>\n",
       "      <td>72</td>\n",
       "    </tr>\n",
       "    <tr>\n",
       "      <th>10</th>\n",
       "      <td>2009</td>\n",
       "      <td>2437163</td>\n",
       "      <td>2437072</td>\n",
       "      <td>91</td>\n",
       "    </tr>\n",
       "    <tr>\n",
       "      <th>11</th>\n",
       "      <td>2010</td>\n",
       "      <td>2468435</td>\n",
       "      <td>2468343</td>\n",
       "      <td>92</td>\n",
       "    </tr>\n",
       "    <tr>\n",
       "      <th>12</th>\n",
       "      <td>2011</td>\n",
       "      <td>2515458</td>\n",
       "      <td>2515377</td>\n",
       "      <td>81</td>\n",
       "    </tr>\n",
       "    <tr>\n",
       "      <th>13</th>\n",
       "      <td>2012</td>\n",
       "      <td>2543279</td>\n",
       "      <td>2543224</td>\n",
       "      <td>55</td>\n",
       "    </tr>\n",
       "    <tr>\n",
       "      <th>14</th>\n",
       "      <td>2013</td>\n",
       "      <td>2596993</td>\n",
       "      <td>2596891</td>\n",
       "      <td>102</td>\n",
       "    </tr>\n",
       "    <tr>\n",
       "      <th>15</th>\n",
       "      <td>2014</td>\n",
       "      <td>2626418</td>\n",
       "      <td>2626334</td>\n",
       "      <td>84</td>\n",
       "    </tr>\n",
       "    <tr>\n",
       "      <th>16</th>\n",
       "      <td>2015</td>\n",
       "      <td>2712630</td>\n",
       "      <td>2712541</td>\n",
       "      <td>89</td>\n",
       "    </tr>\n",
       "    <tr>\n",
       "      <th>17</th>\n",
       "      <td>2016</td>\n",
       "      <td>2744248</td>\n",
       "      <td>2744164</td>\n",
       "      <td>84</td>\n",
       "    </tr>\n",
       "    <tr>\n",
       "      <th>18</th>\n",
       "      <td>2017</td>\n",
       "      <td>2813503</td>\n",
       "      <td>2813425</td>\n",
       "      <td>78</td>\n",
       "    </tr>\n",
       "    <tr>\n",
       "      <th>19</th>\n",
       "      <td>2018</td>\n",
       "      <td>2839205</td>\n",
       "      <td>2839120</td>\n",
       "      <td>85</td>\n",
       "    </tr>\n",
       "    <tr>\n",
       "      <th>20</th>\n",
       "      <td>2019</td>\n",
       "      <td>2854838</td>\n",
       "      <td>2854750</td>\n",
       "      <td>88</td>\n",
       "    </tr>\n",
       "    <tr>\n",
       "      <th>21</th>\n",
       "      <td>2020</td>\n",
       "      <td>3383729</td>\n",
       "      <td>3383638</td>\n",
       "      <td>91</td>\n",
       "    </tr>\n",
       "  </tbody>\n",
       "</table>\n",
       "</div>"
      ],
      "text/plain": [
       "    year  deaths_left  deaths_right  deaths_diff\n",
       "0   1999      2391399       2391293          106\n",
       "1   2000      2403351       2403243          108\n",
       "2   2001      2416425       2416324          101\n",
       "3   2002      2443387       2443256          131\n",
       "4   2003      2448288       2448203           85\n",
       "5   2004      2397615       2397509          106\n",
       "6   2005      2448017       2447915          102\n",
       "7   2006      2426264       2426172           92\n",
       "8   2007      2423712       2423597          115\n",
       "9   2008      2471984       2471912           72\n",
       "10  2009      2437163       2437072           91\n",
       "11  2010      2468435       2468343           92\n",
       "12  2011      2515458       2515377           81\n",
       "13  2012      2543279       2543224           55\n",
       "14  2013      2596993       2596891          102\n",
       "15  2014      2626418       2626334           84\n",
       "16  2015      2712630       2712541           89\n",
       "17  2016      2744248       2744164           84\n",
       "18  2017      2813503       2813425           78\n",
       "19  2018      2839205       2839120           85\n",
       "20  2019      2854838       2854750           88\n",
       "21  2020      3383729       3383638           91"
      ]
     },
     "execution_count": 33,
     "metadata": {},
     "output_type": "execute_result"
    }
   ],
   "source": [
    "cdc.compare_dfs(mcd99_check, mcd99_cod)"
   ]
  },
  {
   "cell_type": "code",
   "execution_count": 34,
   "id": "aecfdc40-326c-4e2d-99e2-25bde5c50b5d",
   "metadata": {},
   "outputs": [
    {
     "data": {
      "text/html": [
       "<div>\n",
       "<style scoped>\n",
       "    .dataframe tbody tr th:only-of-type {\n",
       "        vertical-align: middle;\n",
       "    }\n",
       "\n",
       "    .dataframe tbody tr th {\n",
       "        vertical-align: top;\n",
       "    }\n",
       "\n",
       "    .dataframe thead th {\n",
       "        text-align: right;\n",
       "    }\n",
       "</style>\n",
       "<table border=\"1\" class=\"dataframe\">\n",
       "  <thead>\n",
       "    <tr style=\"text-align: right;\">\n",
       "      <th></th>\n",
       "      <th>year</th>\n",
       "      <th>deaths_left</th>\n",
       "      <th>deaths_right</th>\n",
       "      <th>deaths_diff</th>\n",
       "    </tr>\n",
       "  </thead>\n",
       "  <tbody>\n",
       "    <tr>\n",
       "      <th>0</th>\n",
       "      <td>2018</td>\n",
       "      <td>2839205</td>\n",
       "      <td>NaN</td>\n",
       "      <td>NaN</td>\n",
       "    </tr>\n",
       "    <tr>\n",
       "      <th>1</th>\n",
       "      <td>2019</td>\n",
       "      <td>2854838</td>\n",
       "      <td>NaN</td>\n",
       "      <td>NaN</td>\n",
       "    </tr>\n",
       "    <tr>\n",
       "      <th>2</th>\n",
       "      <td>2020</td>\n",
       "      <td>3383729</td>\n",
       "      <td>NaN</td>\n",
       "      <td>NaN</td>\n",
       "    </tr>\n",
       "    <tr>\n",
       "      <th>3</th>\n",
       "      <td>2021</td>\n",
       "      <td>3464231</td>\n",
       "      <td>3,464,157.00</td>\n",
       "      <td>74.00</td>\n",
       "    </tr>\n",
       "    <tr>\n",
       "      <th>4</th>\n",
       "      <td>2022</td>\n",
       "      <td>3279857</td>\n",
       "      <td>3,279,775.00</td>\n",
       "      <td>82.00</td>\n",
       "    </tr>\n",
       "    <tr>\n",
       "      <th>5</th>\n",
       "      <td>2023</td>\n",
       "      <td>3090967</td>\n",
       "      <td>3,090,894.00</td>\n",
       "      <td>73.00</td>\n",
       "    </tr>\n",
       "    <tr>\n",
       "      <th>6</th>\n",
       "      <td>2024</td>\n",
       "      <td>1640826</td>\n",
       "      <td>1,691,950.00</td>\n",
       "      <td>-51,124.00</td>\n",
       "    </tr>\n",
       "  </tbody>\n",
       "</table>\n",
       "</div>"
      ],
      "text/plain": [
       "   year  deaths_left  deaths_right  deaths_diff\n",
       "0  2018      2839205           NaN          NaN\n",
       "1  2019      2854838           NaN          NaN\n",
       "2  2020      3383729           NaN          NaN\n",
       "3  2021      3464231  3,464,157.00        74.00\n",
       "4  2022      3279857  3,279,775.00        82.00\n",
       "5  2023      3090967  3,090,894.00        73.00\n",
       "6  2024      1640826  1,691,950.00   -51,124.00"
      ]
     },
     "execution_count": 34,
     "metadata": {},
     "output_type": "execute_result"
    }
   ],
   "source": [
    "cdc.compare_dfs(mcd18_check, mcd18_cod)"
   ]
  },
  {
   "cell_type": "markdown",
   "id": "17fe0898-e4f5-480d-b94c-1c765d38885f",
   "metadata": {},
   "source": [
    "## Other Functions"
   ]
  },
  {
   "cell_type": "code",
   "execution_count": 293,
   "id": "9ce7ab01-1f0d-4c28-903b-85387ce8d128",
   "metadata": {},
   "outputs": [
    {
     "name": "stdout",
     "output_type": "stream",
     "text": [
      "\u001b[37m 2024-07-31 00:23:38 \u001b[0m|\u001b[37m morai.utils.sql \u001b[0m|\u001b[32m INFO     \u001b[0m|\u001b[32m table `test` removed from `files/integrations/cdc/cdc.sql` \u001b[0m\n"
     ]
    }
   ],
   "source": [
    "sql.table_remove(db_filepath=db_filepath, table_name=\"test\")"
   ]
  },
  {
   "cell_type": "code",
   "execution_count": 466,
   "id": "09b23966-f263-4583-baf1-5053d504b64e",
   "metadata": {},
   "outputs": [
    {
     "data": {
      "text/plain": [
       "{'year': 'INTEGER',\n",
       " 'month': 'TIMESTAMP',\n",
       " 'deaths': 'INTEGER',\n",
       " 'population': 'TEXT',\n",
       " 'crude_rate': 'TEXT',\n",
       " 'added_at': 'TEXT'}"
      ]
     },
     "execution_count": 466,
     "metadata": {},
     "output_type": "execute_result"
    }
   ],
   "source": [
    "sql.table_dtypes(db_filepath=db_filepath, table_name=\"cod_monthly\")"
   ]
  },
  {
   "cell_type": "markdown",
   "id": "091961cc-6001-449c-82e3-232b5e654d99",
   "metadata": {},
   "source": [
    "## Test"
   ]
  },
  {
   "cell_type": "code",
   "execution_count": 302,
   "id": "fe72dd8a-09c5-481a-a5d7-ce3adb746f24",
   "metadata": {},
   "outputs": [],
   "source": [
    "df = cdc.get_cdc_data_txt(txt_filename=\"mcd99_mi_q5.txt\")\n",
    "df = df.rename(columns={'ten-year_age_groups': 'age_groups'})\n",
    "df = df.drop(columns=[\"ten-year_age_groups_code\", \"gender_code\", \"year_code\"])"
   ]
  },
  {
   "cell_type": "code",
   "execution_count": 303,
   "id": "05fcf044-5d60-40d2-9430-5759632067ea",
   "metadata": {},
   "outputs": [
    {
     "name": "stdout",
     "output_type": "stream",
     "text": [
      "\u001b[37m 2024-07-31 00:24:30 \u001b[0m|\u001b[37m morai.utils.sql \u001b[0m|\u001b[32m INFO     \u001b[0m|\u001b[32m append data to SQLite database: `files/integrations/cdc/cdc.sql` and table: `test` \u001b[0m\n"
     ]
    }
   ],
   "source": [
    "sql.export_to_sql(\n",
    "    df=df,\n",
    "    db_filepath=db_filepath,\n",
    "    table_name=\"test\",\n",
    ")"
   ]
  },
  {
   "cell_type": "code",
   "execution_count": 318,
   "id": "1d74a4b6-7611-470c-9146-caf74fb7b57e",
   "metadata": {},
   "outputs": [
    {
     "name": "stdout",
     "output_type": "stream",
     "text": [
      "\u001b[37m 2024-08-03 23:08:10 \u001b[0m|\u001b[37m morai.integrations.cdc \u001b[0m|\u001b[32m INFO     \u001b[0m|\u001b[32m table `test` last updated at: 2024-07-31 00:24:30, rows: 2321 \u001b[0m\n"
     ]
    }
   ],
   "source": [
    "mi_test = cdc.get_cdc_data_sql(db_filepath=db_filepath, table_name=\"test\")"
   ]
  }
 ],
 "metadata": {
  "kernelspec": {
   "display_name": "morai",
   "language": "python",
   "name": "morai"
  },
  "language_info": {
   "codemirror_mode": {
    "name": "ipython",
    "version": 3
   },
   "file_extension": ".py",
   "mimetype": "text/x-python",
   "name": "python",
   "nbconvert_exporter": "python",
   "pygments_lexer": "ipython3",
   "version": "3.9.19"
  },
  "toc-autonumbering": true
 },
 "nbformat": 4,
 "nbformat_minor": 5
}
