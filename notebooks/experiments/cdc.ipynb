{
 "cells": [
  {
   "cell_type": "markdown",
   "id": "5935d161-1b2e-434d-8549-0e6925ee9878",
   "metadata": {},
   "source": [
    "# CDC"
   ]
  },
  {
   "cell_type": "markdown",
   "id": "52dd7e2c-016f-4ab3-9caf-0872667c6132",
   "metadata": {},
   "source": [
    "https://wonder.cdc.gov/"
   ]
  },
  {
   "cell_type": "markdown",
   "id": "46f5f93b-05bb-42fc-b939-6b1590f1b06b",
   "metadata": {},
   "source": [
    "## Import"
   ]
  },
  {
   "cell_type": "code",
   "execution_count": 1,
   "id": "8aeed43f-4fc4-4a6b-a2aa-78fc4e157fbf",
   "metadata": {},
   "outputs": [],
   "source": [
    "import os\n",
    "import sys\n",
    "\n",
    "import numpy as np\n",
    "import pandas as pd\n",
    "import polars as pl\n",
    "from sklearn.linear_model import LinearRegression\n",
    "\n",
    "os.chdir(\"../../\")\n",
    "sys.path.insert(0, os.getcwd())"
   ]
  },
  {
   "cell_type": "code",
   "execution_count": 2,
   "id": "898a8feb-f241-4d9a-8d27-873cd899ae77",
   "metadata": {},
   "outputs": [],
   "source": [
    "from morai.experience import charters\n",
    "from morai.integrations import cdc\n",
    "from morai.utils import helpers, sql"
   ]
  },
  {
   "cell_type": "code",
   "execution_count": 3,
   "id": "8653900d-2bbd-42e5-be13-d1b57ca33c77",
   "metadata": {},
   "outputs": [],
   "source": [
    "pd.options.display.float_format = \"{:,.2f}\".format"
   ]
  },
  {
   "cell_type": "markdown",
   "id": "cd25f6ad-c3fd-479e-89f9-bdedcf7c5291",
   "metadata": {},
   "source": [
    "reference: https://github.com/alipphardt/cdc-wonder-api"
   ]
  },
  {
   "cell_type": "code",
   "execution_count": 4,
   "id": "01ea27c3-268a-4370-b522-ecd0c89f771c",
   "metadata": {},
   "outputs": [],
   "source": [
    "db_filepath = r\"files/integrations/cdc/cdc.sql\""
   ]
  },
  {
   "cell_type": "code",
   "execution_count": 278,
   "id": "4ca5bbac-c41f-46d7-98a4-4cd72c51da08",
   "metadata": {},
   "outputs": [
    {
     "data": {
      "text/plain": [
       "<module 'morai.utils.sql' from 'C:\\\\Users\\\\johnk\\\\Desktop\\\\github\\\\morai\\\\morai\\\\utils\\\\sql.py'>"
      ]
     },
     "execution_count": 278,
     "metadata": {},
     "output_type": "execute_result"
    }
   ],
   "source": [
    "import importlib\n",
    "\n",
    "importlib.reload(cdc)\n",
    "importlib.reload(sql)"
   ]
  },
  {
   "cell_type": "code",
   "execution_count": 233,
   "id": "1db7ddd0-45a6-4075-baf8-8f5fdf84ec44",
   "metadata": {},
   "outputs": [
    {
     "data": {
      "text/plain": [
       "['mcd99_cod',\n",
       " 'mcd18_cod',\n",
       " 'mcd18_monthly',\n",
       " 'mcd99_check',\n",
       " 'mcd18_check',\n",
       " 'mi',\n",
       " 'mi_test']"
      ]
     },
     "execution_count": 233,
     "metadata": {},
     "output_type": "execute_result"
    }
   ],
   "source": [
    "sql.get_tables(db_filepath=db_filepath)"
   ]
  },
  {
   "cell_type": "markdown",
   "id": "779e9c07-a826-4c9a-9b0d-1e910e71ecd7",
   "metadata": {},
   "source": [
    "## COD"
   ]
  },
  {
   "cell_type": "markdown",
   "id": "93100760-c811-484e-b1a8-6e93be34c1df",
   "metadata": {},
   "source": [
    "### CDC Query\n",
    "Querying the historical and provisional data"
   ]
  },
  {
   "cell_type": "code",
   "execution_count": 51,
   "id": "ad39d1b8-6b71-422d-adcd-3ff20e378e15",
   "metadata": {},
   "outputs": [],
   "source": [
    "df = cdc.get_cdc_data_xml(xml_filename=\"mcd99_cod.xml\")"
   ]
  },
  {
   "cell_type": "code",
   "execution_count": 52,
   "id": "ec86ddd9-adec-4736-be25-fb7323a3bc9c",
   "metadata": {},
   "outputs": [
    {
     "name": "stdout",
     "output_type": "stream",
     "text": [
      "\u001b[37m 2024-07-30 21:56:38 \u001b[0m|\u001b[37m morai.utils.sql \u001b[0m|\u001b[32m INFO     \u001b[0m|\u001b[32m exporting data to SQLite database: files/integrations/cdc/cdc.sql and table: mcd99_cod \u001b[0m\n"
     ]
    }
   ],
   "source": [
    "sql.export_to_sql(\n",
    "    df=df,\n",
    "    db_filepath=db_filepath,\n",
    "    table_name=\"mcd99_cod\",\n",
    "    if_exists=\"replace\",\n",
    ")"
   ]
  },
  {
   "cell_type": "code",
   "execution_count": 53,
   "id": "f8da9e3f-8fb8-473b-9aad-311e30d5f618",
   "metadata": {},
   "outputs": [],
   "source": [
    "df = cdc.get_cdc_data_xml(xml_filename=\"mcd18_cod.xml\")"
   ]
  },
  {
   "cell_type": "code",
   "execution_count": 54,
   "id": "a1c387f7-dec9-4d8b-819a-3a3bd0d2945f",
   "metadata": {},
   "outputs": [
    {
     "name": "stdout",
     "output_type": "stream",
     "text": [
      "\u001b[37m 2024-07-30 21:56:50 \u001b[0m|\u001b[37m morai.utils.sql \u001b[0m|\u001b[32m INFO     \u001b[0m|\u001b[32m exporting data to SQLite database: files/integrations/cdc/cdc.sql and table: mcd18_cod \u001b[0m\n"
     ]
    }
   ],
   "source": [
    "sql.export_to_sql(\n",
    "    df=df,\n",
    "    db_filepath=db_filepath,\n",
    "    table_name=\"mcd18_cod\",\n",
    "    if_exists=\"replace\",\n",
    ")"
   ]
  },
  {
   "cell_type": "markdown",
   "id": "814e4d5c-d085-4cf2-934a-8af320d4cf64",
   "metadata": {},
   "source": [
    "### SQL\n",
    "Load from SQL database"
   ]
  },
  {
   "cell_type": "code",
   "execution_count": 55,
   "id": "705e28ef-2be3-401a-afaa-04e6c98f8672",
   "metadata": {},
   "outputs": [
    {
     "name": "stdout",
     "output_type": "stream",
     "text": [
      "\u001b[37m 2024-07-30 21:57:03 \u001b[0m|\u001b[37m morai.integrations.cdc \u001b[0m|\u001b[32m INFO     \u001b[0m|\u001b[32m table `mcd99_cod` last updated at: 2024-07-30 21:56:38 \u001b[0m\n"
     ]
    }
   ],
   "source": [
    "mcd99_cod = cdc.get_cdc_data_sql(db_filepath=db_filepath, table_name=\"mcd99_cod\")"
   ]
  },
  {
   "cell_type": "code",
   "execution_count": 56,
   "id": "047af8b0-9388-49f5-b7a2-7d1f1d9f707b",
   "metadata": {},
   "outputs": [
    {
     "name": "stdout",
     "output_type": "stream",
     "text": [
      "\u001b[37m 2024-07-30 21:57:04 \u001b[0m|\u001b[37m morai.integrations.cdc \u001b[0m|\u001b[32m INFO     \u001b[0m|\u001b[32m table `mcd18_cod` last updated at: 2024-07-30 21:56:50 \u001b[0m\n"
     ]
    }
   ],
   "source": [
    "mcd18_cod = cdc.get_cdc_data_sql(db_filepath=db_filepath, table_name=\"mcd18_cod\")"
   ]
  },
  {
   "cell_type": "markdown",
   "id": "80933873-193c-40d6-8bee-4a4a86dabcc3",
   "metadata": {},
   "source": [
    "### Aggregate\n",
    "Aggregating the historical and provisional and mapping columns to more friendly names"
   ]
  },
  {
   "cell_type": "code",
   "execution_count": 57,
   "id": "56c82b93-527d-491e-8029-f69be6feaaf0",
   "metadata": {},
   "outputs": [],
   "source": [
    "# variable initiation\n",
    "category_col = \"chapter_simple\""
   ]
  },
  {
   "cell_type": "code",
   "execution_count": 58,
   "id": "a36a90ca-2ced-4dfa-bdf8-8b1c58d48bdc",
   "metadata": {},
   "outputs": [],
   "source": [
    "# filter and concat\n",
    "mcd18_cod = mcd18_cod[mcd18_cod[\"year\"] >= 2021]\n",
    "cod_all = pd.concat([mcd99_cod, mcd18_cod], ignore_index=True)\n",
    "cod_all = cod_all[(cod_all[\"year\"] != 2024)]"
   ]
  },
  {
   "cell_type": "code",
   "execution_count": 60,
   "id": "5b10bcc5-c1e8-4a9d-929f-f015f4c0c0fe",
   "metadata": {},
   "outputs": [
    {
     "name": "stdout",
     "output_type": "stream",
     "text": [
      "\u001b[37m 2024-07-30 21:57:34 \u001b[0m|\u001b[37m morai.integrations.cdc \u001b[0m|\u001b[32m INFO     \u001b[0m|\u001b[32m mapping reference column: chapter_simple \u001b[0m\n"
     ]
    }
   ],
   "source": [
    "# map the variable from reference\n",
    "cod_all = cdc.map_reference(\n",
    "    df=cod_all, col=category_col, on_dict={\"icd_-_chapter\": \"chapter_wonder\"}\n",
    ")"
   ]
  },
  {
   "cell_type": "code",
   "execution_count": 61,
   "id": "6abaf71d-f0a1-45c8-a757-47a48b6be34e",
   "metadata": {},
   "outputs": [],
   "source": [
    "# create totals column\n",
    "totals = cod_all.groupby(\"year\").sum(numeric_only=True).reset_index()\n",
    "totals[category_col] = \"total\"\n",
    "cod_all = pd.concat([cod_all, totals], ignore_index=True)"
   ]
  },
  {
   "cell_type": "code",
   "execution_count": 62,
   "id": "afdbc575-f5b8-4339-b53d-04d12694d397",
   "metadata": {},
   "outputs": [],
   "source": [
    "category_orders = charters.get_category_orders(\n",
    "    df=cod_all, category=category_col, measure=\"deaths\"\n",
    ")"
   ]
  },
  {
   "cell_type": "markdown",
   "id": "344bb0d1-f744-4bba-bb09-8f55e8aca9b2",
   "metadata": {},
   "source": [
    "### Predict"
   ]
  },
  {
   "cell_type": "code",
   "execution_count": 63,
   "id": "439e6594-d968-45f5-9724-73b74d33a83f",
   "metadata": {},
   "outputs": [],
   "source": [
    "# train the data based on year and the category using linear regression\n",
    "train_df = cod_all[(cod_all[\"year\"] >= 2015) & (cod_all[\"year\"] <= 2019)]\n",
    "train_df = train_df.groupby([\"year\", category_col])[\"deaths\"].sum().reset_index()"
   ]
  },
  {
   "cell_type": "code",
   "execution_count": 64,
   "id": "1647ffcd-55c7-463d-836f-46f9e643b6ff",
   "metadata": {},
   "outputs": [],
   "source": [
    "# create the models\n",
    "models = {}\n",
    "for cod in train_df[category_col].unique():\n",
    "    cod_subset = train_df[train_df[category_col] == cod]\n",
    "    X = (cod_subset[\"year\"] - 2015).values.reshape(-1, 1)\n",
    "    y = cod_subset[\"deaths\"].values\n",
    "    model = LinearRegression().fit(X, y)\n",
    "    models[cod] = {\n",
    "        \"model\": model,\n",
    "        \"coef\": model.coef_[0],\n",
    "        \"intercept\": model.intercept_,\n",
    "    }"
   ]
  },
  {
   "cell_type": "code",
   "execution_count": 65,
   "id": "071e05bb-a949-4e2c-91a6-d537d5021b34",
   "metadata": {},
   "outputs": [],
   "source": [
    "# make the predictions\n",
    "test_df = cod_all[(cod_all[\"year\"] >= 2020)]\n",
    "test_df = test_df.groupby([\"year\", category_col])[\"deaths\"].sum().reset_index()\n",
    "\n",
    "for cod, model in models.items():\n",
    "    mask = test_df[category_col] == cod\n",
    "    if mask.sum() > 0:\n",
    "        X = (test_df.loc[mask, \"year\"] - 2015).values.reshape(-1, 1)\n",
    "        test_df.loc[mask, \"pred\"] = model[\"model\"].predict(X)\n",
    "\n",
    "test_df[\"diff_abs\"] = test_df[\"deaths\"] - test_df[\"pred\"]\n",
    "test_df[\"diff_pct\"] = (test_df[\"deaths\"] - test_df[\"pred\"]) / test_df[\"pred\"]"
   ]
  },
  {
   "cell_type": "markdown",
   "id": "061b3d48-d7b0-41cc-9222-0ead71f028d7",
   "metadata": {},
   "source": [
    "### Chart"
   ]
  },
  {
   "cell_type": "code",
   "execution_count": 66,
   "id": "543c3ba0-b04d-4580-b4c1-1630b1c7d0df",
   "metadata": {},
   "outputs": [
    {
     "data": {
      "application/vnd.plotly.v1+json": {
       "config": {
        "plotlyServerURL": "https://plot.ly"
       },
       "data": [
        {
         "fillpattern": {
          "shape": ""
         },
         "hovertemplate": "chapter_simple=total<br>year=%{x}<br>deaths=%{y}<extra></extra>",
         "legendgroup": "total",
         "line": {
          "color": "#636efa"
         },
         "marker": {
          "symbol": "circle"
         },
         "mode": "lines",
         "name": "total",
         "orientation": "v",
         "showlegend": true,
         "stackgroup": "1",
         "type": "scatter",
         "visible": "legendonly",
         "x": [
          1999,
          2000,
          2001,
          2002,
          2003,
          2004,
          2005,
          2006,
          2007,
          2008,
          2009,
          2010,
          2011,
          2012,
          2013,
          2014,
          2015,
          2016,
          2017,
          2018,
          2019,
          2020,
          2021,
          2022,
          2023
         ],
         "xaxis": "x",
         "y": [
          2391399,
          2403351,
          2416425,
          2443386,
          2448288,
          2397615,
          2448017,
          2426264,
          2423712,
          2471984,
          2437163,
          2468435,
          2515458,
          2543279,
          2596990,
          2626418,
          2712625,
          2744248,
          2813501,
          2839204,
          2854838,
          3383729,
          3464231,
          3279857,
          3090967
         ],
         "yaxis": "y"
        },
        {
         "fillpattern": {
          "shape": ""
         },
         "hovertemplate": "chapter_simple=circulatory<br>year=%{x}<br>deaths=%{y}<extra></extra>",
         "legendgroup": "circulatory",
         "line": {
          "color": "#EF553B"
         },
         "marker": {
          "symbol": "circle"
         },
         "mode": "lines",
         "name": "circulatory",
         "orientation": "v",
         "showlegend": true,
         "stackgroup": "1",
         "type": "scatter",
         "x": [
          1999,
          2000,
          2001,
          2002,
          2003,
          2004,
          2005,
          2006,
          2007,
          2008,
          2009,
          2010,
          2011,
          2012,
          2013,
          2014,
          2015,
          2016,
          2017,
          2018,
          2019,
          2020,
          2021,
          2022,
          2023
         ],
         "xaxis": "x",
         "y": [
          954339,
          941526,
          926999,
          923339,
          907180,
          865863,
          860843,
          827741,
          810257,
          808525,
          784742,
          784454,
          783475,
          787431,
          800937,
          807775,
          836546,
          840678,
          859125,
          868662,
          874613,
          928741,
          931578,
          941652,
          915968
         ],
         "yaxis": "y"
        },
        {
         "fillpattern": {
          "shape": ""
         },
         "hovertemplate": "chapter_simple=neoplasms<br>year=%{x}<br>deaths=%{y}<extra></extra>",
         "legendgroup": "neoplasms",
         "line": {
          "color": "#00cc96"
         },
         "marker": {
          "symbol": "circle"
         },
         "mode": "lines",
         "name": "neoplasms",
         "orientation": "v",
         "showlegend": true,
         "stackgroup": "1",
         "type": "scatter",
         "x": [
          1999,
          2000,
          2001,
          2002,
          2003,
          2004,
          2005,
          2006,
          2007,
          2008,
          2009,
          2010,
          2011,
          2012,
          2013,
          2014,
          2015,
          2016,
          2017,
          2018,
          2019,
          2020,
          2021,
          2022,
          2023
         ],
         "xaxis": "x",
         "y": [
          563065,
          566637,
          567444,
          570570,
          570465,
          567468,
          573022,
          574010,
          577079,
          579939,
          582233,
          589660,
          591688,
          597679,
          600113,
          607739,
          612207,
          613832,
          614932,
          614914,
          615191,
          618579,
          621450,
          624405,
          629491
         ],
         "yaxis": "y"
        },
        {
         "fillpattern": {
          "shape": ""
         },
         "hovertemplate": "chapter_simple=respiratory<br>year=%{x}<br>deaths=%{y}<extra></extra>",
         "legendgroup": "respiratory",
         "line": {
          "color": "#ab63fa"
         },
         "marker": {
          "symbol": "circle"
         },
         "mode": "lines",
         "name": "respiratory",
         "orientation": "v",
         "showlegend": true,
         "stackgroup": "1",
         "type": "scatter",
         "x": [
          1999,
          2000,
          2001,
          2002,
          2003,
          2004,
          2005,
          2006,
          2007,
          2008,
          2009,
          2010,
          2011,
          2012,
          2013,
          2014,
          2015,
          2016,
          2017,
          2018,
          2019,
          2020,
          2021,
          2022,
          2023
         ],
         "xaxis": "x",
         "y": [
          229863,
          231079,
          230009,
          234629,
          235935,
          227093,
          239680,
          226661,
          227307,
          245099,
          238636,
          237433,
          248742,
          246311,
          261071,
          258333,
          271229,
          266037,
          278673,
          282641,
          271026,
          270506,
          250835,
          263381,
          261113
         ],
         "yaxis": "y"
        },
        {
         "fillpattern": {
          "shape": ""
         },
         "hovertemplate": "chapter_simple=external<br>year=%{x}<br>deaths=%{y}<extra></extra>",
         "legendgroup": "external",
         "line": {
          "color": "#FFA15A"
         },
         "marker": {
          "symbol": "circle"
         },
         "mode": "lines",
         "name": "external",
         "orientation": "v",
         "showlegend": true,
         "stackgroup": "1",
         "type": "scatter",
         "x": [
          1999,
          2000,
          2001,
          2002,
          2003,
          2004,
          2005,
          2006,
          2007,
          2008,
          2009,
          2010,
          2011,
          2012,
          2013,
          2014,
          2015,
          2016,
          2017,
          2018,
          2019,
          2020,
          2021,
          2022,
          2023
         ],
         "xaxis": "x",
         "y": [
          151109,
          151268,
          157173,
          164111,
          166857,
          170067,
          176406,
          181586,
          185076,
          183816,
          179770,
          183301,
          190048,
          192988,
          195710,
          202292,
          216689,
          235194,
          247496,
          245186,
          251350,
          283705,
          312137,
          311511,
          303901
         ],
         "yaxis": "y"
        },
        {
         "fillpattern": {
          "shape": ""
         },
         "hovertemplate": "chapter_simple=nervous system<br>year=%{x}<br>deaths=%{y}<extra></extra>",
         "legendgroup": "nervous system",
         "line": {
          "color": "#19d3f3"
         },
         "marker": {
          "symbol": "circle"
         },
         "mode": "lines",
         "name": "nervous system",
         "orientation": "v",
         "showlegend": true,
         "stackgroup": "1",
         "type": "scatter",
         "x": [
          1999,
          2000,
          2001,
          2002,
          2003,
          2004,
          2005,
          2006,
          2007,
          2008,
          2009,
          2010,
          2011,
          2012,
          2013,
          2014,
          2015,
          2016,
          2017,
          2018,
          2019,
          2020,
          2021,
          2022,
          2023
         ],
         "xaxis": "x",
         "y": [
          84077,
          91014,
          96524,
          103064,
          109640,
          111751,
          120713,
          122965,
          126997,
          136607,
          134168,
          141106,
          144920,
          146187,
          151784,
          165434,
          190512,
          202352,
          216353,
          224937,
          233715,
          262344,
          251546,
          264446,
          263619
         ],
         "yaxis": "y"
        },
        {
         "fillpattern": {
          "shape": ""
         },
         "hovertemplate": "chapter_simple=other<br>year=%{x}<br>deaths=%{y}<extra></extra>",
         "legendgroup": "other",
         "line": {
          "color": "#FF6692"
         },
         "marker": {
          "symbol": "circle"
         },
         "mode": "lines",
         "name": "other",
         "orientation": "v",
         "showlegend": true,
         "stackgroup": "1",
         "type": "scatter",
         "x": [
          1999,
          2000,
          2001,
          2002,
          2003,
          2004,
          2005,
          2006,
          2007,
          2008,
          2009,
          2010,
          2011,
          2012,
          2013,
          2014,
          2015,
          2016,
          2017,
          2018,
          2019,
          2020,
          2021,
          2022,
          2023
         ],
         "xaxis": "x",
         "y": [
          59290,
          63658,
          68729,
          74234,
          78792,
          80092,
          90221,
          109666,
          108190,
          122602,
          123687,
          138257,
          153924,
          165967,
          174393,
          168939,
          155210,
          151458,
          154726,
          154568,
          153887,
          169680,
          159099,
          162835,
          157106
         ],
         "yaxis": "y"
        },
        {
         "fillpattern": {
          "shape": ""
         },
         "hovertemplate": "chapter_simple=endocrine<br>year=%{x}<br>deaths=%{y}<extra></extra>",
         "legendgroup": "endocrine",
         "line": {
          "color": "#B6E880"
         },
         "marker": {
          "symbol": "circle"
         },
         "mode": "lines",
         "name": "endocrine",
         "orientation": "v",
         "showlegend": true,
         "stackgroup": "1",
         "type": "scatter",
         "x": [
          1999,
          2000,
          2001,
          2002,
          2003,
          2004,
          2005,
          2006,
          2007,
          2008,
          2009,
          2010,
          2011,
          2012,
          2013,
          2014,
          2015,
          2016,
          2017,
          2018,
          2019,
          2020,
          2021,
          2022,
          2023
         ],
         "xaxis": "x",
         "y": [
          92872,
          94345,
          96820,
          99458,
          100443,
          99042,
          103152,
          99204,
          99028,
          99326,
          97984,
          98891,
          105144,
          105926,
          109159,
          112738,
          118532,
          121258,
          127947,
          133156,
          140107,
          164128,
          171890,
          174196,
          169100
         ],
         "yaxis": "y"
        },
        {
         "fillpattern": {
          "shape": ""
         },
         "hovertemplate": "chapter_simple=digestive<br>year=%{x}<br>deaths=%{y}<extra></extra>",
         "legendgroup": "digestive",
         "line": {
          "color": "#FF97FF"
         },
         "marker": {
          "symbol": "circle"
         },
         "mode": "lines",
         "name": "digestive",
         "orientation": "v",
         "showlegend": true,
         "stackgroup": "1",
         "type": "scatter",
         "x": [
          1999,
          2000,
          2001,
          2002,
          2003,
          2004,
          2005,
          2006,
          2007,
          2008,
          2009,
          2010,
          2011,
          2012,
          2013,
          2014,
          2015,
          2016,
          2017,
          2018,
          2019,
          2020,
          2021,
          2022,
          2023
         ],
         "xaxis": "x",
         "y": [
          82876,
          84015,
          85833,
          86710,
          87764,
          86337,
          87391,
          87607,
          89151,
          91097,
          89415,
          91314,
          94096,
          95284,
          98364,
          100975,
          104624,
          105916,
          107653,
          109780,
          112894,
          123940,
          133859,
          132739,
          128404
         ],
         "yaxis": "y"
        },
        {
         "fillpattern": {
          "shape": ""
         },
         "hovertemplate": "chapter_simple=infectious<br>year=%{x}<br>deaths=%{y}<extra></extra>",
         "legendgroup": "infectious",
         "line": {
          "color": "#FECB52"
         },
         "marker": {
          "symbol": "circle"
         },
         "mode": "lines",
         "name": "infectious",
         "orientation": "v",
         "showlegend": true,
         "stackgroup": "1",
         "type": "scatter",
         "x": [
          1999,
          2000,
          2001,
          2002,
          2003,
          2004,
          2005,
          2006,
          2007,
          2008,
          2009,
          2010,
          2011,
          2012,
          2013,
          2014,
          2015,
          2016,
          2017,
          2018,
          2019,
          2020,
          2021,
          2022,
          2023
         ],
         "xaxis": "x",
         "y": [
          59984,
          59007,
          60336,
          63981,
          64661,
          64618,
          66507,
          66993,
          66850,
          68432,
          69558,
          67583,
          68818,
          68409,
          70601,
          70413,
          72090,
          70052,
          69385,
          67971,
          64706,
          68316,
          68562,
          69937,
          69221
         ],
         "yaxis": "y"
        },
        {
         "fillpattern": {
          "shape": ""
         },
         "hovertemplate": "chapter_simple=genitourinary<br>year=%{x}<br>deaths=%{y}<extra></extra>",
         "legendgroup": "genitourinary",
         "line": {
          "color": "#636efa"
         },
         "marker": {
          "symbol": "circle"
         },
         "mode": "lines",
         "name": "genitourinary",
         "orientation": "v",
         "showlegend": true,
         "stackgroup": "1",
         "type": "scatter",
         "x": [
          1999,
          2000,
          2001,
          2002,
          2003,
          2004,
          2005,
          2006,
          2007,
          2008,
          2009,
          2010,
          2011,
          2012,
          2013,
          2014,
          2015,
          2016,
          2017,
          2018,
          2019,
          2020,
          2021,
          2022,
          2023
         ],
         "xaxis": "x",
         "y": [
          53127,
          54560,
          57026,
          58334,
          60081,
          60326,
          62773,
          63581,
          64743,
          63130,
          63538,
          65676,
          61592,
          62030,
          64085,
          66165,
          69373,
          70316,
          71453,
          72526,
          72871,
          76772,
          78968,
          80382,
          76889
         ],
         "yaxis": "y"
        },
        {
         "fillpattern": {
          "shape": ""
         },
         "hovertemplate": "chapter_simple=covid<br>year=%{x}<br>deaths=%{y}<extra></extra>",
         "legendgroup": "covid",
         "line": {
          "color": "#EF553B"
         },
         "marker": {
          "symbol": "circle"
         },
         "mode": "lines",
         "name": "covid",
         "orientation": "v",
         "showlegend": true,
         "stackgroup": "1",
         "type": "scatter",
         "x": [
          2001,
          2019,
          2020,
          2021,
          2022,
          2023
         ],
         "xaxis": "x",
         "y": [
          2926,
          27,
          350921,
          416927,
          186579,
          49954
         ],
         "yaxis": "y"
        },
        {
         "fillpattern": {
          "shape": ""
         },
         "hovertemplate": "chapter_simple=abnormal<br>year=%{x}<br>deaths=%{y}<extra></extra>",
         "legendgroup": "abnormal",
         "line": {
          "color": "#00cc96"
         },
         "marker": {
          "symbol": "circle"
         },
         "mode": "lines",
         "name": "abnormal",
         "orientation": "v",
         "showlegend": true,
         "stackgroup": "1",
         "type": "scatter",
         "x": [
          1999,
          2000,
          2001,
          2002,
          2003,
          2004,
          2005,
          2006,
          2007,
          2008,
          2009,
          2010,
          2011,
          2012,
          2013,
          2014,
          2015,
          2016,
          2017,
          2018,
          2019,
          2020,
          2021,
          2022,
          2023
         ],
         "xaxis": "x",
         "y": [
          26672,
          31876,
          32326,
          29975,
          31444,
          30126,
          31999,
          31725,
          33500,
          38522,
          39829,
          38360,
          40184,
          42050,
          37752,
          32242,
          32042,
          33373,
          32750,
          32537,
          32408,
          34098,
          34503,
          34110,
          33262
         ],
         "yaxis": "y"
        },
        {
         "fillpattern": {
          "shape": ""
         },
         "hovertemplate": "chapter_simple=perinatal<br>year=%{x}<br>deaths=%{y}<extra></extra>",
         "legendgroup": "perinatal",
         "line": {
          "color": "#ab63fa"
         },
         "marker": {
          "symbol": "circle"
         },
         "mode": "lines",
         "name": "perinatal",
         "orientation": "v",
         "showlegend": true,
         "stackgroup": "1",
         "type": "scatter",
         "x": [
          1999,
          2000,
          2001,
          2002,
          2003,
          2004,
          2005,
          2006,
          2007,
          2008,
          2009,
          2010,
          2011,
          2012,
          2013,
          2014,
          2015,
          2016,
          2017,
          2018,
          2019,
          2020,
          2021,
          2022,
          2023
         ],
         "xaxis": "x",
         "y": [
          14259,
          14069,
          13887,
          14254,
          14378,
          14213,
          14549,
          14442,
          14599,
          13933,
          13116,
          12128,
          12036,
          11917,
          12084,
          11897,
          11715,
          11493,
          11108,
          10718,
          10412,
          9672,
          9579,
          10203,
          10006
         ],
         "yaxis": "y"
        },
        {
         "fillpattern": {
          "shape": ""
         },
         "hovertemplate": "chapter_simple=blood<br>year=%{x}<br>deaths=%{y}<extra></extra>",
         "legendgroup": "blood",
         "line": {
          "color": "#FFA15A"
         },
         "marker": {
          "symbol": "circle"
         },
         "mode": "lines",
         "name": "blood",
         "orientation": "v",
         "showlegend": true,
         "stackgroup": "1",
         "type": "scatter",
         "x": [
          1999,
          2000,
          2001,
          2002,
          2003,
          2004,
          2005,
          2006,
          2007,
          2008,
          2009,
          2010,
          2011,
          2012,
          2013,
          2014,
          2015,
          2016,
          2017,
          2018,
          2019,
          2020,
          2021,
          2022,
          2023
         ],
         "xaxis": "x",
         "y": [
          9067,
          9315,
          9535,
          9661,
          9585,
          9424,
          9591,
          8834,
          9745,
          9873,
          9644,
          9774,
          10158,
          10474,
          10216,
          10744,
          10699,
          10927,
          10790,
          10906,
          10815,
          11466,
          11947,
          12069,
          11948
         ],
         "yaxis": "y"
        },
        {
         "fillpattern": {
          "shape": ""
         },
         "hovertemplate": "chapter_simple=malformations<br>year=%{x}<br>deaths=%{y}<extra></extra>",
         "legendgroup": "malformations",
         "line": {
          "color": "#19d3f3"
         },
         "marker": {
          "symbol": "circle"
         },
         "mode": "lines",
         "name": "malformations",
         "orientation": "v",
         "showlegend": true,
         "stackgroup": "1",
         "type": "scatter",
         "x": [
          1999,
          2000,
          2001,
          2002,
          2003,
          2004,
          2005,
          2006,
          2007,
          2008,
          2009,
          2010,
          2011,
          2012,
          2013,
          2014,
          2015,
          2016,
          2017,
          2018,
          2019,
          2020,
          2021,
          2022,
          2023
         ],
         "xaxis": "x",
         "y": [
          10393,
          10578,
          10442,
          10687,
          10518,
          10498,
          10410,
          10489,
          10421,
          10288,
          9883,
          9673,
          9702,
          9636,
          9583,
          9609,
          10017,
          10131,
          9902,
          9729,
          9713,
          9573,
          9664,
          10149,
          9931
         ],
         "yaxis": "y"
        },
        {
         "fillpattern": {
          "shape": ""
         },
         "hovertemplate": "chapter_simple=pregnancy<br>year=%{x}<br>deaths=%{y}<extra></extra>",
         "legendgroup": "pregnancy",
         "line": {
          "color": "#FF6692"
         },
         "marker": {
          "symbol": "circle"
         },
         "mode": "lines",
         "name": "pregnancy",
         "orientation": "v",
         "showlegend": true,
         "stackgroup": "1",
         "type": "scatter",
         "x": [
          1999,
          2000,
          2001,
          2002,
          2003,
          2004,
          2005,
          2006,
          2007,
          2008,
          2009,
          2010,
          2011,
          2012,
          2013,
          2014,
          2015,
          2016,
          2017,
          2018,
          2019,
          2020,
          2021,
          2022,
          2023
         ],
         "xaxis": "x",
         "y": [
          406,
          404,
          416,
          379,
          545,
          697,
          760,
          760,
          769,
          795,
          960,
          825,
          931,
          990,
          1138,
          1123,
          1140,
          1231,
          1208,
          973,
          1103,
          1288,
          1687,
          1263,
          1054
         ],
         "yaxis": "y"
        }
       ],
       "layout": {
        "height": 360,
        "legend": {
         "title": {
          "text": "chapter_simple"
         },
         "tracegroupgap": 0
        },
        "template": {
         "data": {
          "bar": [
           {
            "error_x": {
             "color": "#2a3f5f"
            },
            "error_y": {
             "color": "#2a3f5f"
            },
            "marker": {
             "line": {
              "color": "#E5ECF6",
              "width": 0.5
             },
             "pattern": {
              "fillmode": "overlay",
              "size": 10,
              "solidity": 0.2
             }
            },
            "type": "bar"
           }
          ],
          "barpolar": [
           {
            "marker": {
             "line": {
              "color": "#E5ECF6",
              "width": 0.5
             },
             "pattern": {
              "fillmode": "overlay",
              "size": 10,
              "solidity": 0.2
             }
            },
            "type": "barpolar"
           }
          ],
          "carpet": [
           {
            "aaxis": {
             "endlinecolor": "#2a3f5f",
             "gridcolor": "white",
             "linecolor": "white",
             "minorgridcolor": "white",
             "startlinecolor": "#2a3f5f"
            },
            "baxis": {
             "endlinecolor": "#2a3f5f",
             "gridcolor": "white",
             "linecolor": "white",
             "minorgridcolor": "white",
             "startlinecolor": "#2a3f5f"
            },
            "type": "carpet"
           }
          ],
          "choropleth": [
           {
            "colorbar": {
             "outlinewidth": 0,
             "ticks": ""
            },
            "type": "choropleth"
           }
          ],
          "contour": [
           {
            "colorbar": {
             "outlinewidth": 0,
             "ticks": ""
            },
            "colorscale": [
             [
              0,
              "#0d0887"
             ],
             [
              0.1111111111111111,
              "#46039f"
             ],
             [
              0.2222222222222222,
              "#7201a8"
             ],
             [
              0.3333333333333333,
              "#9c179e"
             ],
             [
              0.4444444444444444,
              "#bd3786"
             ],
             [
              0.5555555555555556,
              "#d8576b"
             ],
             [
              0.6666666666666666,
              "#ed7953"
             ],
             [
              0.7777777777777778,
              "#fb9f3a"
             ],
             [
              0.8888888888888888,
              "#fdca26"
             ],
             [
              1,
              "#f0f921"
             ]
            ],
            "type": "contour"
           }
          ],
          "contourcarpet": [
           {
            "colorbar": {
             "outlinewidth": 0,
             "ticks": ""
            },
            "type": "contourcarpet"
           }
          ],
          "heatmap": [
           {
            "colorbar": {
             "outlinewidth": 0,
             "ticks": ""
            },
            "colorscale": [
             [
              0,
              "#0d0887"
             ],
             [
              0.1111111111111111,
              "#46039f"
             ],
             [
              0.2222222222222222,
              "#7201a8"
             ],
             [
              0.3333333333333333,
              "#9c179e"
             ],
             [
              0.4444444444444444,
              "#bd3786"
             ],
             [
              0.5555555555555556,
              "#d8576b"
             ],
             [
              0.6666666666666666,
              "#ed7953"
             ],
             [
              0.7777777777777778,
              "#fb9f3a"
             ],
             [
              0.8888888888888888,
              "#fdca26"
             ],
             [
              1,
              "#f0f921"
             ]
            ],
            "type": "heatmap"
           }
          ],
          "heatmapgl": [
           {
            "colorbar": {
             "outlinewidth": 0,
             "ticks": ""
            },
            "colorscale": [
             [
              0,
              "#0d0887"
             ],
             [
              0.1111111111111111,
              "#46039f"
             ],
             [
              0.2222222222222222,
              "#7201a8"
             ],
             [
              0.3333333333333333,
              "#9c179e"
             ],
             [
              0.4444444444444444,
              "#bd3786"
             ],
             [
              0.5555555555555556,
              "#d8576b"
             ],
             [
              0.6666666666666666,
              "#ed7953"
             ],
             [
              0.7777777777777778,
              "#fb9f3a"
             ],
             [
              0.8888888888888888,
              "#fdca26"
             ],
             [
              1,
              "#f0f921"
             ]
            ],
            "type": "heatmapgl"
           }
          ],
          "histogram": [
           {
            "marker": {
             "pattern": {
              "fillmode": "overlay",
              "size": 10,
              "solidity": 0.2
             }
            },
            "type": "histogram"
           }
          ],
          "histogram2d": [
           {
            "colorbar": {
             "outlinewidth": 0,
             "ticks": ""
            },
            "colorscale": [
             [
              0,
              "#0d0887"
             ],
             [
              0.1111111111111111,
              "#46039f"
             ],
             [
              0.2222222222222222,
              "#7201a8"
             ],
             [
              0.3333333333333333,
              "#9c179e"
             ],
             [
              0.4444444444444444,
              "#bd3786"
             ],
             [
              0.5555555555555556,
              "#d8576b"
             ],
             [
              0.6666666666666666,
              "#ed7953"
             ],
             [
              0.7777777777777778,
              "#fb9f3a"
             ],
             [
              0.8888888888888888,
              "#fdca26"
             ],
             [
              1,
              "#f0f921"
             ]
            ],
            "type": "histogram2d"
           }
          ],
          "histogram2dcontour": [
           {
            "colorbar": {
             "outlinewidth": 0,
             "ticks": ""
            },
            "colorscale": [
             [
              0,
              "#0d0887"
             ],
             [
              0.1111111111111111,
              "#46039f"
             ],
             [
              0.2222222222222222,
              "#7201a8"
             ],
             [
              0.3333333333333333,
              "#9c179e"
             ],
             [
              0.4444444444444444,
              "#bd3786"
             ],
             [
              0.5555555555555556,
              "#d8576b"
             ],
             [
              0.6666666666666666,
              "#ed7953"
             ],
             [
              0.7777777777777778,
              "#fb9f3a"
             ],
             [
              0.8888888888888888,
              "#fdca26"
             ],
             [
              1,
              "#f0f921"
             ]
            ],
            "type": "histogram2dcontour"
           }
          ],
          "mesh3d": [
           {
            "colorbar": {
             "outlinewidth": 0,
             "ticks": ""
            },
            "type": "mesh3d"
           }
          ],
          "parcoords": [
           {
            "line": {
             "colorbar": {
              "outlinewidth": 0,
              "ticks": ""
             }
            },
            "type": "parcoords"
           }
          ],
          "pie": [
           {
            "automargin": true,
            "type": "pie"
           }
          ],
          "scatter": [
           {
            "fillpattern": {
             "fillmode": "overlay",
             "size": 10,
             "solidity": 0.2
            },
            "type": "scatter"
           }
          ],
          "scatter3d": [
           {
            "line": {
             "colorbar": {
              "outlinewidth": 0,
              "ticks": ""
             }
            },
            "marker": {
             "colorbar": {
              "outlinewidth": 0,
              "ticks": ""
             }
            },
            "type": "scatter3d"
           }
          ],
          "scattercarpet": [
           {
            "marker": {
             "colorbar": {
              "outlinewidth": 0,
              "ticks": ""
             }
            },
            "type": "scattercarpet"
           }
          ],
          "scattergeo": [
           {
            "marker": {
             "colorbar": {
              "outlinewidth": 0,
              "ticks": ""
             }
            },
            "type": "scattergeo"
           }
          ],
          "scattergl": [
           {
            "marker": {
             "colorbar": {
              "outlinewidth": 0,
              "ticks": ""
             }
            },
            "type": "scattergl"
           }
          ],
          "scattermapbox": [
           {
            "marker": {
             "colorbar": {
              "outlinewidth": 0,
              "ticks": ""
             }
            },
            "type": "scattermapbox"
           }
          ],
          "scatterpolar": [
           {
            "marker": {
             "colorbar": {
              "outlinewidth": 0,
              "ticks": ""
             }
            },
            "type": "scatterpolar"
           }
          ],
          "scatterpolargl": [
           {
            "marker": {
             "colorbar": {
              "outlinewidth": 0,
              "ticks": ""
             }
            },
            "type": "scatterpolargl"
           }
          ],
          "scatterternary": [
           {
            "marker": {
             "colorbar": {
              "outlinewidth": 0,
              "ticks": ""
             }
            },
            "type": "scatterternary"
           }
          ],
          "surface": [
           {
            "colorbar": {
             "outlinewidth": 0,
             "ticks": ""
            },
            "colorscale": [
             [
              0,
              "#0d0887"
             ],
             [
              0.1111111111111111,
              "#46039f"
             ],
             [
              0.2222222222222222,
              "#7201a8"
             ],
             [
              0.3333333333333333,
              "#9c179e"
             ],
             [
              0.4444444444444444,
              "#bd3786"
             ],
             [
              0.5555555555555556,
              "#d8576b"
             ],
             [
              0.6666666666666666,
              "#ed7953"
             ],
             [
              0.7777777777777778,
              "#fb9f3a"
             ],
             [
              0.8888888888888888,
              "#fdca26"
             ],
             [
              1,
              "#f0f921"
             ]
            ],
            "type": "surface"
           }
          ],
          "table": [
           {
            "cells": {
             "fill": {
              "color": "#EBF0F8"
             },
             "line": {
              "color": "white"
             }
            },
            "header": {
             "fill": {
              "color": "#C8D4E3"
             },
             "line": {
              "color": "white"
             }
            },
            "type": "table"
           }
          ]
         },
         "layout": {
          "annotationdefaults": {
           "arrowcolor": "#2a3f5f",
           "arrowhead": 0,
           "arrowwidth": 1
          },
          "autotypenumbers": "strict",
          "coloraxis": {
           "colorbar": {
            "outlinewidth": 0,
            "ticks": ""
           }
          },
          "colorscale": {
           "diverging": [
            [
             0,
             "#8e0152"
            ],
            [
             0.1,
             "#c51b7d"
            ],
            [
             0.2,
             "#de77ae"
            ],
            [
             0.3,
             "#f1b6da"
            ],
            [
             0.4,
             "#fde0ef"
            ],
            [
             0.5,
             "#f7f7f7"
            ],
            [
             0.6,
             "#e6f5d0"
            ],
            [
             0.7,
             "#b8e186"
            ],
            [
             0.8,
             "#7fbc41"
            ],
            [
             0.9,
             "#4d9221"
            ],
            [
             1,
             "#276419"
            ]
           ],
           "sequential": [
            [
             0,
             "#0d0887"
            ],
            [
             0.1111111111111111,
             "#46039f"
            ],
            [
             0.2222222222222222,
             "#7201a8"
            ],
            [
             0.3333333333333333,
             "#9c179e"
            ],
            [
             0.4444444444444444,
             "#bd3786"
            ],
            [
             0.5555555555555556,
             "#d8576b"
            ],
            [
             0.6666666666666666,
             "#ed7953"
            ],
            [
             0.7777777777777778,
             "#fb9f3a"
            ],
            [
             0.8888888888888888,
             "#fdca26"
            ],
            [
             1,
             "#f0f921"
            ]
           ],
           "sequentialminus": [
            [
             0,
             "#0d0887"
            ],
            [
             0.1111111111111111,
             "#46039f"
            ],
            [
             0.2222222222222222,
             "#7201a8"
            ],
            [
             0.3333333333333333,
             "#9c179e"
            ],
            [
             0.4444444444444444,
             "#bd3786"
            ],
            [
             0.5555555555555556,
             "#d8576b"
            ],
            [
             0.6666666666666666,
             "#ed7953"
            ],
            [
             0.7777777777777778,
             "#fb9f3a"
            ],
            [
             0.8888888888888888,
             "#fdca26"
            ],
            [
             1,
             "#f0f921"
            ]
           ]
          },
          "colorway": [
           "#636efa",
           "#EF553B",
           "#00cc96",
           "#ab63fa",
           "#FFA15A",
           "#19d3f3",
           "#FF6692",
           "#B6E880",
           "#FF97FF",
           "#FECB52"
          ],
          "font": {
           "color": "#2a3f5f"
          },
          "geo": {
           "bgcolor": "white",
           "lakecolor": "white",
           "landcolor": "#E5ECF6",
           "showlakes": true,
           "showland": true,
           "subunitcolor": "white"
          },
          "hoverlabel": {
           "align": "left"
          },
          "hovermode": "closest",
          "mapbox": {
           "style": "light"
          },
          "paper_bgcolor": "white",
          "plot_bgcolor": "#E5ECF6",
          "polar": {
           "angularaxis": {
            "gridcolor": "white",
            "linecolor": "white",
            "ticks": ""
           },
           "bgcolor": "#E5ECF6",
           "radialaxis": {
            "gridcolor": "white",
            "linecolor": "white",
            "ticks": ""
           }
          },
          "scene": {
           "xaxis": {
            "backgroundcolor": "#E5ECF6",
            "gridcolor": "white",
            "gridwidth": 2,
            "linecolor": "white",
            "showbackground": true,
            "ticks": "",
            "zerolinecolor": "white"
           },
           "yaxis": {
            "backgroundcolor": "#E5ECF6",
            "gridcolor": "white",
            "gridwidth": 2,
            "linecolor": "white",
            "showbackground": true,
            "ticks": "",
            "zerolinecolor": "white"
           },
           "zaxis": {
            "backgroundcolor": "#E5ECF6",
            "gridcolor": "white",
            "gridwidth": 2,
            "linecolor": "white",
            "showbackground": true,
            "ticks": "",
            "zerolinecolor": "white"
           }
          },
          "shapedefaults": {
           "line": {
            "color": "#2a3f5f"
           }
          },
          "ternary": {
           "aaxis": {
            "gridcolor": "white",
            "linecolor": "white",
            "ticks": ""
           },
           "baxis": {
            "gridcolor": "white",
            "linecolor": "white",
            "ticks": ""
           },
           "bgcolor": "#E5ECF6",
           "caxis": {
            "gridcolor": "white",
            "linecolor": "white",
            "ticks": ""
           }
          },
          "title": {
           "x": 0.05
          },
          "xaxis": {
           "automargin": true,
           "gridcolor": "white",
           "linecolor": "white",
           "ticks": "",
           "title": {
            "standoff": 15
           },
           "zerolinecolor": "white",
           "zerolinewidth": 2
          },
          "yaxis": {
           "automargin": true,
           "gridcolor": "white",
           "linecolor": "white",
           "ticks": "",
           "title": {
            "standoff": 15
           },
           "zerolinecolor": "white",
           "zerolinewidth": 2
          }
         }
        },
        "title": {
         "text": "'deaths' by 'year' and 'chapter_simple'"
        },
        "xaxis": {
         "anchor": "y",
         "autorange": true,
         "domain": [
          0,
          1
         ],
         "range": [
          1999,
          2023
         ],
         "title": {
          "text": "year"
         },
         "type": "linear"
        },
        "yaxis": {
         "anchor": "x",
         "autorange": true,
         "domain": [
          0,
          1
         ],
         "range": [
          0,
          3646558.947368421
         ],
         "title": {
          "text": "deaths"
         },
         "type": "linear"
        }
       }
      },
      "image/png": "[encoded data removed]",
      "text/html": [
       "<div>                            <div id=\"b8c26391-ed83-456a-ad7e-0f6d6aafc280\" class=\"plotly-graph-div\" style=\"height:525px; width:100%;\"></div>            <script type=\"text/javascript\">                require([\"plotly\"], function(Plotly) {                    window.PLOTLYENV=window.PLOTLYENV || {};                                    if (document.getElementById(\"b8c26391-ed83-456a-ad7e-0f6d6aafc280\")) {                    Plotly.newPlot(                        \"b8c26391-ed83-456a-ad7e-0f6d6aafc280\",                        [{\"fillpattern\":{\"shape\":\"\"},\"hovertemplate\":\"chapter_simple=total\\u003cbr\\u003eyear=%{x}\\u003cbr\\u003edeaths=%{y}\\u003cextra\\u003e\\u003c\\u002fextra\\u003e\",\"legendgroup\":\"total\",\"line\":{\"color\":\"#636efa\"},\"marker\":{\"symbol\":\"circle\"},\"mode\":\"lines\",\"name\":\"total\",\"orientation\":\"v\",\"showlegend\":true,\"stackgroup\":\"1\",\"x\":[1999,2000,2001,2002,2003,2004,2005,2006,2007,2008,2009,2010,2011,2012,2013,2014,2015,2016,2017,2018,2019,2020,2021,2022,2023],\"xaxis\":\"x\",\"y\":[2391399,2403351,2416425,2443386,2448288,2397615,2448017,2426264,2423712,2471984,2437163,2468435,2515458,2543279,2596990,2626418,2712625,2744248,2813501,2839204,2854838,3383729,3464231,3279857,3090967],\"yaxis\":\"y\",\"type\":\"scatter\"},{\"fillpattern\":{\"shape\":\"\"},\"hovertemplate\":\"chapter_simple=circulatory\\u003cbr\\u003eyear=%{x}\\u003cbr\\u003edeaths=%{y}\\u003cextra\\u003e\\u003c\\u002fextra\\u003e\",\"legendgroup\":\"circulatory\",\"line\":{\"color\":\"#EF553B\"},\"marker\":{\"symbol\":\"circle\"},\"mode\":\"lines\",\"name\":\"circulatory\",\"orientation\":\"v\",\"showlegend\":true,\"stackgroup\":\"1\",\"x\":[1999,2000,2001,2002,2003,2004,2005,2006,2007,2008,2009,2010,2011,2012,2013,2014,2015,2016,2017,2018,2019,2020,2021,2022,2023],\"xaxis\":\"x\",\"y\":[954339,941526,926999,923339,907180,865863,860843,827741,810257,808525,784742,784454,783475,787431,800937,807775,836546,840678,859125,868662,874613,928741,931578,941652,915968],\"yaxis\":\"y\",\"type\":\"scatter\"},{\"fillpattern\":{\"shape\":\"\"},\"hovertemplate\":\"chapter_simple=neoplasms\\u003cbr\\u003eyear=%{x}\\u003cbr\\u003edeaths=%{y}\\u003cextra\\u003e\\u003c\\u002fextra\\u003e\",\"legendgroup\":\"neoplasms\",\"line\":{\"color\":\"#00cc96\"},\"marker\":{\"symbol\":\"circle\"},\"mode\":\"lines\",\"name\":\"neoplasms\",\"orientation\":\"v\",\"showlegend\":true,\"stackgroup\":\"1\",\"x\":[1999,2000,2001,2002,2003,2004,2005,2006,2007,2008,2009,2010,2011,2012,2013,2014,2015,2016,2017,2018,2019,2020,2021,2022,2023],\"xaxis\":\"x\",\"y\":[563065,566637,567444,570570,570465,567468,573022,574010,577079,579939,582233,589660,591688,597679,600113,607739,612207,613832,614932,614914,615191,618579,621450,624405,629491],\"yaxis\":\"y\",\"type\":\"scatter\"},{\"fillpattern\":{\"shape\":\"\"},\"hovertemplate\":\"chapter_simple=respiratory\\u003cbr\\u003eyear=%{x}\\u003cbr\\u003edeaths=%{y}\\u003cextra\\u003e\\u003c\\u002fextra\\u003e\",\"legendgroup\":\"respiratory\",\"line\":{\"color\":\"#ab63fa\"},\"marker\":{\"symbol\":\"circle\"},\"mode\":\"lines\",\"name\":\"respiratory\",\"orientation\":\"v\",\"showlegend\":true,\"stackgroup\":\"1\",\"x\":[1999,2000,2001,2002,2003,2004,2005,2006,2007,2008,2009,2010,2011,2012,2013,2014,2015,2016,2017,2018,2019,2020,2021,2022,2023],\"xaxis\":\"x\",\"y\":[229863,231079,230009,234629,235935,227093,239680,226661,227307,245099,238636,237433,248742,246311,261071,258333,271229,266037,278673,282641,271026,270506,250835,263381,261113],\"yaxis\":\"y\",\"type\":\"scatter\"},{\"fillpattern\":{\"shape\":\"\"},\"hovertemplate\":\"chapter_simple=external\\u003cbr\\u003eyear=%{x}\\u003cbr\\u003edeaths=%{y}\\u003cextra\\u003e\\u003c\\u002fextra\\u003e\",\"legendgroup\":\"external\",\"line\":{\"color\":\"#FFA15A\"},\"marker\":{\"symbol\":\"circle\"},\"mode\":\"lines\",\"name\":\"external\",\"orientation\":\"v\",\"showlegend\":true,\"stackgroup\":\"1\",\"x\":[1999,2000,2001,2002,2003,2004,2005,2006,2007,2008,2009,2010,2011,2012,2013,2014,2015,2016,2017,2018,2019,2020,2021,2022,2023],\"xaxis\":\"x\",\"y\":[151109,151268,157173,164111,166857,170067,176406,181586,185076,183816,179770,183301,190048,192988,195710,202292,216689,235194,247496,245186,251350,283705,312137,311511,303901],\"yaxis\":\"y\",\"type\":\"scatter\"},{\"fillpattern\":{\"shape\":\"\"},\"hovertemplate\":\"chapter_simple=nervous system\\u003cbr\\u003eyear=%{x}\\u003cbr\\u003edeaths=%{y}\\u003cextra\\u003e\\u003c\\u002fextra\\u003e\",\"legendgroup\":\"nervous system\",\"line\":{\"color\":\"#19d3f3\"},\"marker\":{\"symbol\":\"circle\"},\"mode\":\"lines\",\"name\":\"nervous system\",\"orientation\":\"v\",\"showlegend\":true,\"stackgroup\":\"1\",\"x\":[1999,2000,2001,2002,2003,2004,2005,2006,2007,2008,2009,2010,2011,2012,2013,2014,2015,2016,2017,2018,2019,2020,2021,2022,2023],\"xaxis\":\"x\",\"y\":[84077,91014,96524,103064,109640,111751,120713,122965,126997,136607,134168,141106,144920,146187,151784,165434,190512,202352,216353,224937,233715,262344,251546,264446,263619],\"yaxis\":\"y\",\"type\":\"scatter\"},{\"fillpattern\":{\"shape\":\"\"},\"hovertemplate\":\"chapter_simple=other\\u003cbr\\u003eyear=%{x}\\u003cbr\\u003edeaths=%{y}\\u003cextra\\u003e\\u003c\\u002fextra\\u003e\",\"legendgroup\":\"other\",\"line\":{\"color\":\"#FF6692\"},\"marker\":{\"symbol\":\"circle\"},\"mode\":\"lines\",\"name\":\"other\",\"orientation\":\"v\",\"showlegend\":true,\"stackgroup\":\"1\",\"x\":[1999,2000,2001,2002,2003,2004,2005,2006,2007,2008,2009,2010,2011,2012,2013,2014,2015,2016,2017,2018,2019,2020,2021,2022,2023],\"xaxis\":\"x\",\"y\":[59290,63658,68729,74234,78792,80092,90221,109666,108190,122602,123687,138257,153924,165967,174393,168939,155210,151458,154726,154568,153887,169680,159099,162835,157106],\"yaxis\":\"y\",\"type\":\"scatter\"},{\"fillpattern\":{\"shape\":\"\"},\"hovertemplate\":\"chapter_simple=endocrine\\u003cbr\\u003eyear=%{x}\\u003cbr\\u003edeaths=%{y}\\u003cextra\\u003e\\u003c\\u002fextra\\u003e\",\"legendgroup\":\"endocrine\",\"line\":{\"color\":\"#B6E880\"},\"marker\":{\"symbol\":\"circle\"},\"mode\":\"lines\",\"name\":\"endocrine\",\"orientation\":\"v\",\"showlegend\":true,\"stackgroup\":\"1\",\"x\":[1999,2000,2001,2002,2003,2004,2005,2006,2007,2008,2009,2010,2011,2012,2013,2014,2015,2016,2017,2018,2019,2020,2021,2022,2023],\"xaxis\":\"x\",\"y\":[92872,94345,96820,99458,100443,99042,103152,99204,99028,99326,97984,98891,105144,105926,109159,112738,118532,121258,127947,133156,140107,164128,171890,174196,169100],\"yaxis\":\"y\",\"type\":\"scatter\"},{\"fillpattern\":{\"shape\":\"\"},\"hovertemplate\":\"chapter_simple=digestive\\u003cbr\\u003eyear=%{x}\\u003cbr\\u003edeaths=%{y}\\u003cextra\\u003e\\u003c\\u002fextra\\u003e\",\"legendgroup\":\"digestive\",\"line\":{\"color\":\"#FF97FF\"},\"marker\":{\"symbol\":\"circle\"},\"mode\":\"lines\",\"name\":\"digestive\",\"orientation\":\"v\",\"showlegend\":true,\"stackgroup\":\"1\",\"x\":[1999,2000,2001,2002,2003,2004,2005,2006,2007,2008,2009,2010,2011,2012,2013,2014,2015,2016,2017,2018,2019,2020,2021,2022,2023],\"xaxis\":\"x\",\"y\":[82876,84015,85833,86710,87764,86337,87391,87607,89151,91097,89415,91314,94096,95284,98364,100975,104624,105916,107653,109780,112894,123940,133859,132739,128404],\"yaxis\":\"y\",\"type\":\"scatter\"},{\"fillpattern\":{\"shape\":\"\"},\"hovertemplate\":\"chapter_simple=infectious\\u003cbr\\u003eyear=%{x}\\u003cbr\\u003edeaths=%{y}\\u003cextra\\u003e\\u003c\\u002fextra\\u003e\",\"legendgroup\":\"infectious\",\"line\":{\"color\":\"#FECB52\"},\"marker\":{\"symbol\":\"circle\"},\"mode\":\"lines\",\"name\":\"infectious\",\"orientation\":\"v\",\"showlegend\":true,\"stackgroup\":\"1\",\"x\":[1999,2000,2001,2002,2003,2004,2005,2006,2007,2008,2009,2010,2011,2012,2013,2014,2015,2016,2017,2018,2019,2020,2021,2022,2023],\"xaxis\":\"x\",\"y\":[59984,59007,60336,63981,64661,64618,66507,66993,66850,68432,69558,67583,68818,68409,70601,70413,72090,70052,69385,67971,64706,68316,68562,69937,69221],\"yaxis\":\"y\",\"type\":\"scatter\"},{\"fillpattern\":{\"shape\":\"\"},\"hovertemplate\":\"chapter_simple=genitourinary\\u003cbr\\u003eyear=%{x}\\u003cbr\\u003edeaths=%{y}\\u003cextra\\u003e\\u003c\\u002fextra\\u003e\",\"legendgroup\":\"genitourinary\",\"line\":{\"color\":\"#636efa\"},\"marker\":{\"symbol\":\"circle\"},\"mode\":\"lines\",\"name\":\"genitourinary\",\"orientation\":\"v\",\"showlegend\":true,\"stackgroup\":\"1\",\"x\":[1999,2000,2001,2002,2003,2004,2005,2006,2007,2008,2009,2010,2011,2012,2013,2014,2015,2016,2017,2018,2019,2020,2021,2022,2023],\"xaxis\":\"x\",\"y\":[53127,54560,57026,58334,60081,60326,62773,63581,64743,63130,63538,65676,61592,62030,64085,66165,69373,70316,71453,72526,72871,76772,78968,80382,76889],\"yaxis\":\"y\",\"type\":\"scatter\"},{\"fillpattern\":{\"shape\":\"\"},\"hovertemplate\":\"chapter_simple=covid\\u003cbr\\u003eyear=%{x}\\u003cbr\\u003edeaths=%{y}\\u003cextra\\u003e\\u003c\\u002fextra\\u003e\",\"legendgroup\":\"covid\",\"line\":{\"color\":\"#EF553B\"},\"marker\":{\"symbol\":\"circle\"},\"mode\":\"lines\",\"name\":\"covid\",\"orientation\":\"v\",\"showlegend\":true,\"stackgroup\":\"1\",\"x\":[2001,2019,2020,2021,2022,2023],\"xaxis\":\"x\",\"y\":[2926,27,350921,416927,186579,49954],\"yaxis\":\"y\",\"type\":\"scatter\"},{\"fillpattern\":{\"shape\":\"\"},\"hovertemplate\":\"chapter_simple=abnormal\\u003cbr\\u003eyear=%{x}\\u003cbr\\u003edeaths=%{y}\\u003cextra\\u003e\\u003c\\u002fextra\\u003e\",\"legendgroup\":\"abnormal\",\"line\":{\"color\":\"#00cc96\"},\"marker\":{\"symbol\":\"circle\"},\"mode\":\"lines\",\"name\":\"abnormal\",\"orientation\":\"v\",\"showlegend\":true,\"stackgroup\":\"1\",\"x\":[1999,2000,2001,2002,2003,2004,2005,2006,2007,2008,2009,2010,2011,2012,2013,2014,2015,2016,2017,2018,2019,2020,2021,2022,2023],\"xaxis\":\"x\",\"y\":[26672,31876,32326,29975,31444,30126,31999,31725,33500,38522,39829,38360,40184,42050,37752,32242,32042,33373,32750,32537,32408,34098,34503,34110,33262],\"yaxis\":\"y\",\"type\":\"scatter\"},{\"fillpattern\":{\"shape\":\"\"},\"hovertemplate\":\"chapter_simple=perinatal\\u003cbr\\u003eyear=%{x}\\u003cbr\\u003edeaths=%{y}\\u003cextra\\u003e\\u003c\\u002fextra\\u003e\",\"legendgroup\":\"perinatal\",\"line\":{\"color\":\"#ab63fa\"},\"marker\":{\"symbol\":\"circle\"},\"mode\":\"lines\",\"name\":\"perinatal\",\"orientation\":\"v\",\"showlegend\":true,\"stackgroup\":\"1\",\"x\":[1999,2000,2001,2002,2003,2004,2005,2006,2007,2008,2009,2010,2011,2012,2013,2014,2015,2016,2017,2018,2019,2020,2021,2022,2023],\"xaxis\":\"x\",\"y\":[14259,14069,13887,14254,14378,14213,14549,14442,14599,13933,13116,12128,12036,11917,12084,11897,11715,11493,11108,10718,10412,9672,9579,10203,10006],\"yaxis\":\"y\",\"type\":\"scatter\"},{\"fillpattern\":{\"shape\":\"\"},\"hovertemplate\":\"chapter_simple=blood\\u003cbr\\u003eyear=%{x}\\u003cbr\\u003edeaths=%{y}\\u003cextra\\u003e\\u003c\\u002fextra\\u003e\",\"legendgroup\":\"blood\",\"line\":{\"color\":\"#FFA15A\"},\"marker\":{\"symbol\":\"circle\"},\"mode\":\"lines\",\"name\":\"blood\",\"orientation\":\"v\",\"showlegend\":true,\"stackgroup\":\"1\",\"x\":[1999,2000,2001,2002,2003,2004,2005,2006,2007,2008,2009,2010,2011,2012,2013,2014,2015,2016,2017,2018,2019,2020,2021,2022,2023],\"xaxis\":\"x\",\"y\":[9067,9315,9535,9661,9585,9424,9591,8834,9745,9873,9644,9774,10158,10474,10216,10744,10699,10927,10790,10906,10815,11466,11947,12069,11948],\"yaxis\":\"y\",\"type\":\"scatter\"},{\"fillpattern\":{\"shape\":\"\"},\"hovertemplate\":\"chapter_simple=malformations\\u003cbr\\u003eyear=%{x}\\u003cbr\\u003edeaths=%{y}\\u003cextra\\u003e\\u003c\\u002fextra\\u003e\",\"legendgroup\":\"malformations\",\"line\":{\"color\":\"#19d3f3\"},\"marker\":{\"symbol\":\"circle\"},\"mode\":\"lines\",\"name\":\"malformations\",\"orientation\":\"v\",\"showlegend\":true,\"stackgroup\":\"1\",\"x\":[1999,2000,2001,2002,2003,2004,2005,2006,2007,2008,2009,2010,2011,2012,2013,2014,2015,2016,2017,2018,2019,2020,2021,2022,2023],\"xaxis\":\"x\",\"y\":[10393,10578,10442,10687,10518,10498,10410,10489,10421,10288,9883,9673,9702,9636,9583,9609,10017,10131,9902,9729,9713,9573,9664,10149,9931],\"yaxis\":\"y\",\"type\":\"scatter\"},{\"fillpattern\":{\"shape\":\"\"},\"hovertemplate\":\"chapter_simple=pregnancy\\u003cbr\\u003eyear=%{x}\\u003cbr\\u003edeaths=%{y}\\u003cextra\\u003e\\u003c\\u002fextra\\u003e\",\"legendgroup\":\"pregnancy\",\"line\":{\"color\":\"#FF6692\"},\"marker\":{\"symbol\":\"circle\"},\"mode\":\"lines\",\"name\":\"pregnancy\",\"orientation\":\"v\",\"showlegend\":true,\"stackgroup\":\"1\",\"x\":[1999,2000,2001,2002,2003,2004,2005,2006,2007,2008,2009,2010,2011,2012,2013,2014,2015,2016,2017,2018,2019,2020,2021,2022,2023],\"xaxis\":\"x\",\"y\":[406,404,416,379,545,697,760,760,769,795,960,825,931,990,1138,1123,1140,1231,1208,973,1103,1288,1687,1263,1054],\"yaxis\":\"y\",\"type\":\"scatter\"}],                        {\"template\":{\"data\":{\"histogram2dcontour\":[{\"type\":\"histogram2dcontour\",\"colorbar\":{\"outlinewidth\":0,\"ticks\":\"\"},\"colorscale\":[[0.0,\"#0d0887\"],[0.1111111111111111,\"#46039f\"],[0.2222222222222222,\"#7201a8\"],[0.3333333333333333,\"#9c179e\"],[0.4444444444444444,\"#bd3786\"],[0.5555555555555556,\"#d8576b\"],[0.6666666666666666,\"#ed7953\"],[0.7777777777777778,\"#fb9f3a\"],[0.8888888888888888,\"#fdca26\"],[1.0,\"#f0f921\"]]}],\"choropleth\":[{\"type\":\"choropleth\",\"colorbar\":{\"outlinewidth\":0,\"ticks\":\"\"}}],\"histogram2d\":[{\"type\":\"histogram2d\",\"colorbar\":{\"outlinewidth\":0,\"ticks\":\"\"},\"colorscale\":[[0.0,\"#0d0887\"],[0.1111111111111111,\"#46039f\"],[0.2222222222222222,\"#7201a8\"],[0.3333333333333333,\"#9c179e\"],[0.4444444444444444,\"#bd3786\"],[0.5555555555555556,\"#d8576b\"],[0.6666666666666666,\"#ed7953\"],[0.7777777777777778,\"#fb9f3a\"],[0.8888888888888888,\"#fdca26\"],[1.0,\"#f0f921\"]]}],\"heatmap\":[{\"type\":\"heatmap\",\"colorbar\":{\"outlinewidth\":0,\"ticks\":\"\"},\"colorscale\":[[0.0,\"#0d0887\"],[0.1111111111111111,\"#46039f\"],[0.2222222222222222,\"#7201a8\"],[0.3333333333333333,\"#9c179e\"],[0.4444444444444444,\"#bd3786\"],[0.5555555555555556,\"#d8576b\"],[0.6666666666666666,\"#ed7953\"],[0.7777777777777778,\"#fb9f3a\"],[0.8888888888888888,\"#fdca26\"],[1.0,\"#f0f921\"]]}],\"heatmapgl\":[{\"type\":\"heatmapgl\",\"colorbar\":{\"outlinewidth\":0,\"ticks\":\"\"},\"colorscale\":[[0.0,\"#0d0887\"],[0.1111111111111111,\"#46039f\"],[0.2222222222222222,\"#7201a8\"],[0.3333333333333333,\"#9c179e\"],[0.4444444444444444,\"#bd3786\"],[0.5555555555555556,\"#d8576b\"],[0.6666666666666666,\"#ed7953\"],[0.7777777777777778,\"#fb9f3a\"],[0.8888888888888888,\"#fdca26\"],[1.0,\"#f0f921\"]]}],\"contourcarpet\":[{\"type\":\"contourcarpet\",\"colorbar\":{\"outlinewidth\":0,\"ticks\":\"\"}}],\"contour\":[{\"type\":\"contour\",\"colorbar\":{\"outlinewidth\":0,\"ticks\":\"\"},\"colorscale\":[[0.0,\"#0d0887\"],[0.1111111111111111,\"#46039f\"],[0.2222222222222222,\"#7201a8\"],[0.3333333333333333,\"#9c179e\"],[0.4444444444444444,\"#bd3786\"],[0.5555555555555556,\"#d8576b\"],[0.6666666666666666,\"#ed7953\"],[0.7777777777777778,\"#fb9f3a\"],[0.8888888888888888,\"#fdca26\"],[1.0,\"#f0f921\"]]}],\"surface\":[{\"type\":\"surface\",\"colorbar\":{\"outlinewidth\":0,\"ticks\":\"\"},\"colorscale\":[[0.0,\"#0d0887\"],[0.1111111111111111,\"#46039f\"],[0.2222222222222222,\"#7201a8\"],[0.3333333333333333,\"#9c179e\"],[0.4444444444444444,\"#bd3786\"],[0.5555555555555556,\"#d8576b\"],[0.6666666666666666,\"#ed7953\"],[0.7777777777777778,\"#fb9f3a\"],[0.8888888888888888,\"#fdca26\"],[1.0,\"#f0f921\"]]}],\"mesh3d\":[{\"type\":\"mesh3d\",\"colorbar\":{\"outlinewidth\":0,\"ticks\":\"\"}}],\"scatter\":[{\"fillpattern\":{\"fillmode\":\"overlay\",\"size\":10,\"solidity\":0.2},\"type\":\"scatter\"}],\"parcoords\":[{\"type\":\"parcoords\",\"line\":{\"colorbar\":{\"outlinewidth\":0,\"ticks\":\"\"}}}],\"scatterpolargl\":[{\"type\":\"scatterpolargl\",\"marker\":{\"colorbar\":{\"outlinewidth\":0,\"ticks\":\"\"}}}],\"bar\":[{\"error_x\":{\"color\":\"#2a3f5f\"},\"error_y\":{\"color\":\"#2a3f5f\"},\"marker\":{\"line\":{\"color\":\"#E5ECF6\",\"width\":0.5},\"pattern\":{\"fillmode\":\"overlay\",\"size\":10,\"solidity\":0.2}},\"type\":\"bar\"}],\"scattergeo\":[{\"type\":\"scattergeo\",\"marker\":{\"colorbar\":{\"outlinewidth\":0,\"ticks\":\"\"}}}],\"scatterpolar\":[{\"type\":\"scatterpolar\",\"marker\":{\"colorbar\":{\"outlinewidth\":0,\"ticks\":\"\"}}}],\"histogram\":[{\"marker\":{\"pattern\":{\"fillmode\":\"overlay\",\"size\":10,\"solidity\":0.2}},\"type\":\"histogram\"}],\"scattergl\":[{\"type\":\"scattergl\",\"marker\":{\"colorbar\":{\"outlinewidth\":0,\"ticks\":\"\"}}}],\"scatter3d\":[{\"type\":\"scatter3d\",\"line\":{\"colorbar\":{\"outlinewidth\":0,\"ticks\":\"\"}},\"marker\":{\"colorbar\":{\"outlinewidth\":0,\"ticks\":\"\"}}}],\"scattermapbox\":[{\"type\":\"scattermapbox\",\"marker\":{\"colorbar\":{\"outlinewidth\":0,\"ticks\":\"\"}}}],\"scatterternary\":[{\"type\":\"scatterternary\",\"marker\":{\"colorbar\":{\"outlinewidth\":0,\"ticks\":\"\"}}}],\"scattercarpet\":[{\"type\":\"scattercarpet\",\"marker\":{\"colorbar\":{\"outlinewidth\":0,\"ticks\":\"\"}}}],\"carpet\":[{\"aaxis\":{\"endlinecolor\":\"#2a3f5f\",\"gridcolor\":\"white\",\"linecolor\":\"white\",\"minorgridcolor\":\"white\",\"startlinecolor\":\"#2a3f5f\"},\"baxis\":{\"endlinecolor\":\"#2a3f5f\",\"gridcolor\":\"white\",\"linecolor\":\"white\",\"minorgridcolor\":\"white\",\"startlinecolor\":\"#2a3f5f\"},\"type\":\"carpet\"}],\"table\":[{\"cells\":{\"fill\":{\"color\":\"#EBF0F8\"},\"line\":{\"color\":\"white\"}},\"header\":{\"fill\":{\"color\":\"#C8D4E3\"},\"line\":{\"color\":\"white\"}},\"type\":\"table\"}],\"barpolar\":[{\"marker\":{\"line\":{\"color\":\"#E5ECF6\",\"width\":0.5},\"pattern\":{\"fillmode\":\"overlay\",\"size\":10,\"solidity\":0.2}},\"type\":\"barpolar\"}],\"pie\":[{\"automargin\":true,\"type\":\"pie\"}]},\"layout\":{\"autotypenumbers\":\"strict\",\"colorway\":[\"#636efa\",\"#EF553B\",\"#00cc96\",\"#ab63fa\",\"#FFA15A\",\"#19d3f3\",\"#FF6692\",\"#B6E880\",\"#FF97FF\",\"#FECB52\"],\"font\":{\"color\":\"#2a3f5f\"},\"hovermode\":\"closest\",\"hoverlabel\":{\"align\":\"left\"},\"paper_bgcolor\":\"white\",\"plot_bgcolor\":\"#E5ECF6\",\"polar\":{\"bgcolor\":\"#E5ECF6\",\"angularaxis\":{\"gridcolor\":\"white\",\"linecolor\":\"white\",\"ticks\":\"\"},\"radialaxis\":{\"gridcolor\":\"white\",\"linecolor\":\"white\",\"ticks\":\"\"}},\"ternary\":{\"bgcolor\":\"#E5ECF6\",\"aaxis\":{\"gridcolor\":\"white\",\"linecolor\":\"white\",\"ticks\":\"\"},\"baxis\":{\"gridcolor\":\"white\",\"linecolor\":\"white\",\"ticks\":\"\"},\"caxis\":{\"gridcolor\":\"white\",\"linecolor\":\"white\",\"ticks\":\"\"}},\"coloraxis\":{\"colorbar\":{\"outlinewidth\":0,\"ticks\":\"\"}},\"colorscale\":{\"sequential\":[[0.0,\"#0d0887\"],[0.1111111111111111,\"#46039f\"],[0.2222222222222222,\"#7201a8\"],[0.3333333333333333,\"#9c179e\"],[0.4444444444444444,\"#bd3786\"],[0.5555555555555556,\"#d8576b\"],[0.6666666666666666,\"#ed7953\"],[0.7777777777777778,\"#fb9f3a\"],[0.8888888888888888,\"#fdca26\"],[1.0,\"#f0f921\"]],\"sequentialminus\":[[0.0,\"#0d0887\"],[0.1111111111111111,\"#46039f\"],[0.2222222222222222,\"#7201a8\"],[0.3333333333333333,\"#9c179e\"],[0.4444444444444444,\"#bd3786\"],[0.5555555555555556,\"#d8576b\"],[0.6666666666666666,\"#ed7953\"],[0.7777777777777778,\"#fb9f3a\"],[0.8888888888888888,\"#fdca26\"],[1.0,\"#f0f921\"]],\"diverging\":[[0,\"#8e0152\"],[0.1,\"#c51b7d\"],[0.2,\"#de77ae\"],[0.3,\"#f1b6da\"],[0.4,\"#fde0ef\"],[0.5,\"#f7f7f7\"],[0.6,\"#e6f5d0\"],[0.7,\"#b8e186\"],[0.8,\"#7fbc41\"],[0.9,\"#4d9221\"],[1,\"#276419\"]]},\"xaxis\":{\"gridcolor\":\"white\",\"linecolor\":\"white\",\"ticks\":\"\",\"title\":{\"standoff\":15},\"zerolinecolor\":\"white\",\"automargin\":true,\"zerolinewidth\":2},\"yaxis\":{\"gridcolor\":\"white\",\"linecolor\":\"white\",\"ticks\":\"\",\"title\":{\"standoff\":15},\"zerolinecolor\":\"white\",\"automargin\":true,\"zerolinewidth\":2},\"scene\":{\"xaxis\":{\"backgroundcolor\":\"#E5ECF6\",\"gridcolor\":\"white\",\"linecolor\":\"white\",\"showbackground\":true,\"ticks\":\"\",\"zerolinecolor\":\"white\",\"gridwidth\":2},\"yaxis\":{\"backgroundcolor\":\"#E5ECF6\",\"gridcolor\":\"white\",\"linecolor\":\"white\",\"showbackground\":true,\"ticks\":\"\",\"zerolinecolor\":\"white\",\"gridwidth\":2},\"zaxis\":{\"backgroundcolor\":\"#E5ECF6\",\"gridcolor\":\"white\",\"linecolor\":\"white\",\"showbackground\":true,\"ticks\":\"\",\"zerolinecolor\":\"white\",\"gridwidth\":2}},\"shapedefaults\":{\"line\":{\"color\":\"#2a3f5f\"}},\"annotationdefaults\":{\"arrowcolor\":\"#2a3f5f\",\"arrowhead\":0,\"arrowwidth\":1},\"geo\":{\"bgcolor\":\"white\",\"landcolor\":\"#E5ECF6\",\"subunitcolor\":\"white\",\"showland\":true,\"showlakes\":true,\"lakecolor\":\"white\"},\"title\":{\"x\":0.05},\"mapbox\":{\"style\":\"light\"}}},\"xaxis\":{\"anchor\":\"y\",\"domain\":[0.0,1.0],\"title\":{\"text\":\"year\"}},\"yaxis\":{\"anchor\":\"x\",\"domain\":[0.0,1.0],\"title\":{\"text\":\"deaths\"},\"type\":\"-\"},\"legend\":{\"title\":{\"text\":\"chapter_simple\"},\"tracegroupgap\":0},\"title\":{\"text\":\"'deaths' by 'year' and 'chapter_simple'\"}},                        {\"responsive\": true}                    ).then(function(){\n",
       "                            \n",
       "var gd = document.getElementById('b8c26391-ed83-456a-ad7e-0f6d6aafc280');\n",
       "var x = new MutationObserver(function (mutations, observer) {{\n",
       "        var display = window.getComputedStyle(gd).display;\n",
       "        if (!display || display === 'none') {{\n",
       "            console.log([gd, 'removed!']);\n",
       "            Plotly.purge(gd);\n",
       "            observer.disconnect();\n",
       "        }}\n",
       "}});\n",
       "\n",
       "// Listen for the removal of the full notebook cells\n",
       "var notebookContainer = gd.closest('#notebook-container');\n",
       "if (notebookContainer) {{\n",
       "    x.observe(notebookContainer, {childList: true});\n",
       "}}\n",
       "\n",
       "// Listen for the clearing of the current output cell\n",
       "var outputEl = gd.closest('.output');\n",
       "if (outputEl) {{\n",
       "    x.observe(outputEl, {childList: true});\n",
       "}}\n",
       "\n",
       "                        })                };                });            </script>        </div>"
      ]
     },
     "metadata": {},
     "output_type": "display_data"
    }
   ],
   "source": [
    "charters.chart(\n",
    "    df=cod_all,\n",
    "    x_axis=\"year\",\n",
    "    y_axis=\"deaths\",\n",
    "    color=category_col,\n",
    "    type=\"area\",\n",
    "    category_orders=category_orders,\n",
    ")"
   ]
  },
  {
   "cell_type": "code",
   "execution_count": 68,
   "id": "23a770af-27f7-4b38-a122-44cf372c7875",
   "metadata": {},
   "outputs": [
    {
     "data": {
      "text/html": [
       "<div>\n",
       "<style scoped>\n",
       "    .dataframe tbody tr th:only-of-type {\n",
       "        vertical-align: middle;\n",
       "    }\n",
       "\n",
       "    .dataframe tbody tr th {\n",
       "        vertical-align: top;\n",
       "    }\n",
       "\n",
       "    .dataframe thead th {\n",
       "        text-align: right;\n",
       "    }\n",
       "</style>\n",
       "<table border=\"1\" class=\"dataframe\">\n",
       "  <thead>\n",
       "    <tr style=\"text-align: right;\">\n",
       "      <th>year</th>\n",
       "      <th>2020</th>\n",
       "      <th>2021</th>\n",
       "      <th>2022</th>\n",
       "      <th>2023</th>\n",
       "    </tr>\n",
       "  </thead>\n",
       "  <tbody>\n",
       "    <tr>\n",
       "      <th>total</th>\n",
       "      <td>0.16</td>\n",
       "      <td>0.18</td>\n",
       "      <td>0.10</td>\n",
       "      <td>0.02</td>\n",
       "    </tr>\n",
       "    <tr>\n",
       "      <th>circulatory</th>\n",
       "      <td>0.05</td>\n",
       "      <td>0.04</td>\n",
       "      <td>0.04</td>\n",
       "      <td>-0.00</td>\n",
       "    </tr>\n",
       "    <tr>\n",
       "      <th>neoplasms</th>\n",
       "      <td>0.00</td>\n",
       "      <td>0.01</td>\n",
       "      <td>0.01</td>\n",
       "      <td>0.02</td>\n",
       "    </tr>\n",
       "    <tr>\n",
       "      <th>respiratory</th>\n",
       "      <td>-0.03</td>\n",
       "      <td>-0.11</td>\n",
       "      <td>-0.07</td>\n",
       "      <td>-0.08</td>\n",
       "    </tr>\n",
       "    <tr>\n",
       "      <th>external</th>\n",
       "      <td>0.08</td>\n",
       "      <td>0.15</td>\n",
       "      <td>0.12</td>\n",
       "      <td>0.06</td>\n",
       "    </tr>\n",
       "    <tr>\n",
       "      <th>nervous system</th>\n",
       "      <td>0.07</td>\n",
       "      <td>-0.02</td>\n",
       "      <td>-0.01</td>\n",
       "      <td>-0.06</td>\n",
       "    </tr>\n",
       "    <tr>\n",
       "      <th>other</th>\n",
       "      <td>0.10</td>\n",
       "      <td>0.03</td>\n",
       "      <td>0.06</td>\n",
       "      <td>0.02</td>\n",
       "    </tr>\n",
       "    <tr>\n",
       "      <th>endocrine</th>\n",
       "      <td>0.13</td>\n",
       "      <td>0.14</td>\n",
       "      <td>0.12</td>\n",
       "      <td>0.05</td>\n",
       "    </tr>\n",
       "    <tr>\n",
       "      <th>digestive</th>\n",
       "      <td>0.08</td>\n",
       "      <td>0.15</td>\n",
       "      <td>0.12</td>\n",
       "      <td>0.07</td>\n",
       "    </tr>\n",
       "    <tr>\n",
       "      <th>infectious</th>\n",
       "      <td>0.07</td>\n",
       "      <td>0.10</td>\n",
       "      <td>0.16</td>\n",
       "      <td>0.18</td>\n",
       "    </tr>\n",
       "    <tr>\n",
       "      <th>genitourinary</th>\n",
       "      <td>0.04</td>\n",
       "      <td>0.05</td>\n",
       "      <td>0.06</td>\n",
       "      <td>0.00</td>\n",
       "    </tr>\n",
       "    <tr>\n",
       "      <th>covid</th>\n",
       "      <td>12,996.07</td>\n",
       "      <td>15,440.74</td>\n",
       "      <td>6,909.33</td>\n",
       "      <td>1,849.15</td>\n",
       "    </tr>\n",
       "    <tr>\n",
       "      <th>abnormal</th>\n",
       "      <td>0.05</td>\n",
       "      <td>0.06</td>\n",
       "      <td>0.05</td>\n",
       "      <td>0.02</td>\n",
       "    </tr>\n",
       "    <tr>\n",
       "      <th>perinatal</th>\n",
       "      <td>-0.04</td>\n",
       "      <td>-0.02</td>\n",
       "      <td>0.09</td>\n",
       "      <td>0.10</td>\n",
       "    </tr>\n",
       "    <tr>\n",
       "      <th>blood</th>\n",
       "      <td>0.05</td>\n",
       "      <td>0.09</td>\n",
       "      <td>0.10</td>\n",
       "      <td>0.09</td>\n",
       "    </tr>\n",
       "    <tr>\n",
       "      <th>malformations</th>\n",
       "      <td>-0.00</td>\n",
       "      <td>0.02</td>\n",
       "      <td>0.08</td>\n",
       "      <td>0.07</td>\n",
       "    </tr>\n",
       "    <tr>\n",
       "      <th>pregnancy</th>\n",
       "      <td>0.25</td>\n",
       "      <td>0.69</td>\n",
       "      <td>0.31</td>\n",
       "      <td>0.13</td>\n",
       "    </tr>\n",
       "  </tbody>\n",
       "</table>\n",
       "</div>"
      ],
      "text/plain": [
       "year                2020      2021     2022     2023\n",
       "total               0.16      0.18     0.10     0.02\n",
       "circulatory         0.05      0.04     0.04    -0.00\n",
       "neoplasms           0.00      0.01     0.01     0.02\n",
       "respiratory        -0.03     -0.11    -0.07    -0.08\n",
       "external            0.08      0.15     0.12     0.06\n",
       "nervous system      0.07     -0.02    -0.01    -0.06\n",
       "other               0.10      0.03     0.06     0.02\n",
       "endocrine           0.13      0.14     0.12     0.05\n",
       "digestive           0.08      0.15     0.12     0.07\n",
       "infectious          0.07      0.10     0.16     0.18\n",
       "genitourinary       0.04      0.05     0.06     0.00\n",
       "covid          12,996.07 15,440.74 6,909.33 1,849.15\n",
       "abnormal            0.05      0.06     0.05     0.02\n",
       "perinatal          -0.04     -0.02     0.09     0.10\n",
       "blood               0.05      0.09     0.10     0.09\n",
       "malformations      -0.00      0.02     0.08     0.07\n",
       "pregnancy           0.25      0.69     0.31     0.13"
      ]
     },
     "execution_count": 68,
     "metadata": {},
     "output_type": "execute_result"
    }
   ],
   "source": [
    "summary = charters.chart(\n",
    "    df=test_df,\n",
    "    x_axis=\"year\",\n",
    "    y_axis=\"diff_pct\",\n",
    "    color=category_col,\n",
    "    type=\"area\",\n",
    "    category_orders=category_orders,\n",
    "    display=False,\n",
    ")\n",
    "pivot = summary.pivot(index=\"chapter_simple\", columns=\"year\", values=\"diff_pct\")\n",
    "pivot.index = pd.Categorical(\n",
    "    pivot.index, categories=category_orders[\"chapter_simple\"], ordered=True\n",
    ")\n",
    "pivot = pivot.sort_index()\n",
    "pivot"
   ]
  },
  {
   "cell_type": "code",
   "execution_count": 307,
   "id": "b8e61660-a57e-4c03-bf09-0f537e7b3698",
   "metadata": {},
   "outputs": [
    {
     "data": {
      "text/html": [
       "<div>\n",
       "<style scoped>\n",
       "    .dataframe tbody tr th:only-of-type {\n",
       "        vertical-align: middle;\n",
       "    }\n",
       "\n",
       "    .dataframe tbody tr th {\n",
       "        vertical-align: top;\n",
       "    }\n",
       "\n",
       "    .dataframe thead th {\n",
       "        text-align: right;\n",
       "    }\n",
       "</style>\n",
       "<table border=\"1\" class=\"dataframe\">\n",
       "  <thead>\n",
       "    <tr style=\"text-align: right;\">\n",
       "      <th>year</th>\n",
       "      <th>2020</th>\n",
       "      <th>2021</th>\n",
       "      <th>2022</th>\n",
       "      <th>2023</th>\n",
       "    </tr>\n",
       "  </thead>\n",
       "  <tbody>\n",
       "    <tr>\n",
       "      <th>total</th>\n",
       "      <td>477,031.20</td>\n",
       "      <td>519,595.00</td>\n",
       "      <td>297,282.80</td>\n",
       "      <td>70,454.60</td>\n",
       "    </tr>\n",
       "    <tr>\n",
       "      <th>circulatory</th>\n",
       "      <td>41,580.80</td>\n",
       "      <td>34,006.00</td>\n",
       "      <td>33,668.20</td>\n",
       "      <td>-2,427.60</td>\n",
       "    </tr>\n",
       "    <tr>\n",
       "      <th>neoplasms</th>\n",
       "      <td>2,248.80</td>\n",
       "      <td>4,414.80</td>\n",
       "      <td>6,664.80</td>\n",
       "      <td>11,045.80</td>\n",
       "    </tr>\n",
       "    <tr>\n",
       "      <th>respiratory</th>\n",
       "      <td>-8,274.60</td>\n",
       "      <td>-29,565.40</td>\n",
       "      <td>-18,639.20</td>\n",
       "      <td>-22,527.00</td>\n",
       "    </tr>\n",
       "    <tr>\n",
       "      <th>external</th>\n",
       "      <td>20,727.80</td>\n",
       "      <td>41,228.40</td>\n",
       "      <td>32,671.00</td>\n",
       "      <td>17,129.60</td>\n",
       "    </tr>\n",
       "    <tr>\n",
       "      <th>nervous system</th>\n",
       "      <td>16,072.90</td>\n",
       "      <td>-5,624.20</td>\n",
       "      <td>-3,623.30</td>\n",
       "      <td>-15,349.40</td>\n",
       "    </tr>\n",
       "    <tr>\n",
       "      <th>other</th>\n",
       "      <td>15,571.00</td>\n",
       "      <td>4,943.60</td>\n",
       "      <td>8,633.20</td>\n",
       "      <td>2,857.80</td>\n",
       "    </tr>\n",
       "    <tr>\n",
       "      <th>endocrine</th>\n",
       "      <td>19,413.60</td>\n",
       "      <td>21,670.80</td>\n",
       "      <td>18,472.00</td>\n",
       "      <td>7,871.20</td>\n",
       "    </tr>\n",
       "    <tr>\n",
       "      <th>digestive</th>\n",
       "      <td>9,645.40</td>\n",
       "      <td>17,524.00</td>\n",
       "      <td>14,363.60</td>\n",
       "      <td>7,988.20</td>\n",
       "    </tr>\n",
       "    <tr>\n",
       "      <th>infectious</th>\n",
       "      <td>4,529.90</td>\n",
       "      <td>6,460.80</td>\n",
       "      <td>9,520.70</td>\n",
       "      <td>10,489.60</td>\n",
       "    </tr>\n",
       "    <tr>\n",
       "      <th>genitourinary</th>\n",
       "      <td>2,702.40</td>\n",
       "      <td>3,977.80</td>\n",
       "      <td>4,471.20</td>\n",
       "      <td>57.60</td>\n",
       "    </tr>\n",
       "    <tr>\n",
       "      <th>covid</th>\n",
       "      <td>350,894.00</td>\n",
       "      <td>416,900.00</td>\n",
       "      <td>186,552.00</td>\n",
       "      <td>49,927.00</td>\n",
       "    </tr>\n",
       "    <tr>\n",
       "      <th>abnormal</th>\n",
       "      <td>1,507.20</td>\n",
       "      <td>1,922.60</td>\n",
       "      <td>1,540.00</td>\n",
       "      <td>702.40</td>\n",
       "    </tr>\n",
       "    <tr>\n",
       "      <th>perinatal</th>\n",
       "      <td>-402.90</td>\n",
       "      <td>-157.80</td>\n",
       "      <td>804.30</td>\n",
       "      <td>945.40</td>\n",
       "    </tr>\n",
       "    <tr>\n",
       "      <th>blood</th>\n",
       "      <td>575.30</td>\n",
       "      <td>1,035.20</td>\n",
       "      <td>1,136.10</td>\n",
       "      <td>994.00</td>\n",
       "    </tr>\n",
       "    <tr>\n",
       "      <th>malformations</th>\n",
       "      <td>-22.40</td>\n",
       "      <td>169.60</td>\n",
       "      <td>755.60</td>\n",
       "      <td>638.60</td>\n",
       "    </tr>\n",
       "    <tr>\n",
       "      <th>pregnancy</th>\n",
       "      <td>256.60</td>\n",
       "      <td>688.80</td>\n",
       "      <td>298.00</td>\n",
       "      <td>122.20</td>\n",
       "    </tr>\n",
       "  </tbody>\n",
       "</table>\n",
       "</div>"
      ],
      "text/plain": [
       "year                 2020       2021       2022       2023\n",
       "total          477,031.20 519,595.00 297,282.80  70,454.60\n",
       "circulatory     41,580.80  34,006.00  33,668.20  -2,427.60\n",
       "neoplasms        2,248.80   4,414.80   6,664.80  11,045.80\n",
       "respiratory     -8,274.60 -29,565.40 -18,639.20 -22,527.00\n",
       "external        20,727.80  41,228.40  32,671.00  17,129.60\n",
       "nervous system  16,072.90  -5,624.20  -3,623.30 -15,349.40\n",
       "other           15,571.00   4,943.60   8,633.20   2,857.80\n",
       "endocrine       19,413.60  21,670.80  18,472.00   7,871.20\n",
       "digestive        9,645.40  17,524.00  14,363.60   7,988.20\n",
       "infectious       4,529.90   6,460.80   9,520.70  10,489.60\n",
       "genitourinary    2,702.40   3,977.80   4,471.20      57.60\n",
       "covid          350,894.00 416,900.00 186,552.00  49,927.00\n",
       "abnormal         1,507.20   1,922.60   1,540.00     702.40\n",
       "perinatal         -402.90    -157.80     804.30     945.40\n",
       "blood              575.30   1,035.20   1,136.10     994.00\n",
       "malformations      -22.40     169.60     755.60     638.60\n",
       "pregnancy          256.60     688.80     298.00     122.20"
      ]
     },
     "execution_count": 307,
     "metadata": {},
     "output_type": "execute_result"
    }
   ],
   "source": [
    "summary = charters.chart(\n",
    "    df=test_df,\n",
    "    x_axis=\"year\",\n",
    "    y_axis=\"diff_abs\",\n",
    "    color=category_col,\n",
    "    type=\"area\",\n",
    "    category_orders=category_orders,\n",
    "    display=False,\n",
    ")\n",
    "pivot = summary.pivot(index=\"chapter_simple\", columns=\"year\", values=\"diff_abs\")\n",
    "pivot.index = pd.Categorical(\n",
    "    pivot.index, categories=category_orders[\"chapter_simple\"], ordered=True\n",
    ")\n",
    "pivot = pivot.sort_index()\n",
    "pivot"
   ]
  },
  {
   "cell_type": "markdown",
   "id": "f5b41604-6965-4111-82f7-0b94957ba343",
   "metadata": {},
   "source": [
    "## Monthly"
   ]
  },
  {
   "cell_type": "markdown",
   "id": "12039f98-3246-4bcd-b291-23e272a9438c",
   "metadata": {},
   "source": [
    "### CDC Query"
   ]
  },
  {
   "cell_type": "code",
   "execution_count": 69,
   "id": "d95b9ace-d220-4b7d-a0be-c43c8dcc46da",
   "metadata": {},
   "outputs": [],
   "source": [
    "df = cdc.get_cdc_data_xml(xml_filename=\"mcd18_monthly.xml\", parse_date_col=\"Month\")"
   ]
  },
  {
   "cell_type": "code",
   "execution_count": 70,
   "id": "81116599-d2e2-475c-b371-177f24b20d10",
   "metadata": {},
   "outputs": [
    {
     "name": "stdout",
     "output_type": "stream",
     "text": [
      "\u001b[37m 2024-07-30 22:00:05 \u001b[0m|\u001b[37m morai.utils.sql \u001b[0m|\u001b[32m INFO     \u001b[0m|\u001b[32m exporting data to SQLite database: files/integrations/cdc/cdc.sql and table: mcd18_monthly \u001b[0m\n"
     ]
    }
   ],
   "source": [
    "sql.export_to_sql(\n",
    "    df=df,\n",
    "    db_filepath=db_filepath,\n",
    "    table_name=\"mcd18_monthly\",\n",
    "    if_exists=\"replace\",\n",
    ")"
   ]
  },
  {
   "cell_type": "markdown",
   "id": "1ec12d14-7a68-45ad-bf82-cb04dcf6b282",
   "metadata": {},
   "source": [
    "### SQL"
   ]
  },
  {
   "cell_type": "code",
   "execution_count": 71,
   "id": "ce851603-212e-4fe3-be23-38723f5163bc",
   "metadata": {},
   "outputs": [
    {
     "name": "stdout",
     "output_type": "stream",
     "text": [
      "\u001b[37m 2024-07-30 22:00:06 \u001b[0m|\u001b[37m morai.integrations.cdc \u001b[0m|\u001b[32m INFO     \u001b[0m|\u001b[32m table `mcd18_monthly` last updated at: 2024-07-30 22:00:05 \u001b[0m\n"
     ]
    }
   ],
   "source": [
    "mcd18_monthly = cdc.get_cdc_data_sql(\n",
    "    db_filepath=db_filepath, table_name=\"mcd18_monthly\"\n",
    ")"
   ]
  },
  {
   "cell_type": "markdown",
   "id": "f0c6eb4e-9157-48aa-9cf6-148f0ebe0a4a",
   "metadata": {},
   "source": [
    "### Chart"
   ]
  },
  {
   "cell_type": "code",
   "execution_count": 72,
   "id": "68cb0caf-923a-43c4-be8a-09d3e9b3414d",
   "metadata": {},
   "outputs": [
    {
     "data": {
      "application/vnd.plotly.v1+json": {
       "config": {
        "plotlyServerURL": "https://plot.ly"
       },
       "data": [
        {
         "fillpattern": {
          "shape": ""
         },
         "hovertemplate": "month=%{x}<br>deaths=%{y}<extra></extra>",
         "legendgroup": "",
         "line": {
          "color": "#636efa"
         },
         "marker": {
          "symbol": "circle"
         },
         "mode": "lines",
         "name": "",
         "orientation": "v",
         "showlegend": false,
         "stackgroup": "1",
         "type": "scatter",
         "x": [
          "2018-01-01 00:00:00",
          "2018-02-01 00:00:00",
          "2018-03-01 00:00:00",
          "2018-04-01 00:00:00",
          "2018-05-01 00:00:00",
          "2018-06-01 00:00:00",
          "2018-07-01 00:00:00",
          "2018-08-01 00:00:00",
          "2018-09-01 00:00:00",
          "2018-10-01 00:00:00",
          "2018-11-01 00:00:00",
          "2018-12-01 00:00:00",
          "2019-01-01 00:00:00",
          "2019-02-01 00:00:00",
          "2019-03-01 00:00:00",
          "2019-04-01 00:00:00",
          "2019-05-01 00:00:00",
          "2019-06-01 00:00:00",
          "2019-07-01 00:00:00",
          "2019-08-01 00:00:00",
          "2019-09-01 00:00:00",
          "2019-10-01 00:00:00",
          "2019-11-01 00:00:00",
          "2019-12-01 00:00:00",
          "2020-01-01 00:00:00",
          "2020-02-01 00:00:00",
          "2020-03-01 00:00:00",
          "2020-04-01 00:00:00",
          "2020-05-01 00:00:00",
          "2020-06-01 00:00:00",
          "2020-07-01 00:00:00",
          "2020-08-01 00:00:00",
          "2020-09-01 00:00:00",
          "2020-10-01 00:00:00",
          "2020-11-01 00:00:00",
          "2020-12-01 00:00:00",
          "2021-01-01 00:00:00",
          "2021-02-01 00:00:00",
          "2021-03-01 00:00:00",
          "2021-04-01 00:00:00",
          "2021-05-01 00:00:00",
          "2021-06-01 00:00:00",
          "2021-07-01 00:00:00",
          "2021-08-01 00:00:00",
          "2021-09-01 00:00:00",
          "2021-10-01 00:00:00",
          "2021-11-01 00:00:00",
          "2021-12-01 00:00:00",
          "2022-01-01 00:00:00",
          "2022-02-01 00:00:00",
          "2022-03-01 00:00:00",
          "2022-04-01 00:00:00",
          "2022-05-01 00:00:00",
          "2022-06-01 00:00:00",
          "2022-07-01 00:00:00",
          "2022-08-01 00:00:00",
          "2022-09-01 00:00:00",
          "2022-10-01 00:00:00",
          "2022-11-01 00:00:00",
          "2022-12-01 00:00:00",
          "2023-01-01 00:00:00",
          "2023-02-01 00:00:00",
          "2023-03-01 00:00:00",
          "2023-04-01 00:00:00",
          "2023-05-01 00:00:00",
          "2023-06-01 00:00:00",
          "2023-07-01 00:00:00",
          "2023-08-01 00:00:00",
          "2023-09-01 00:00:00",
          "2023-10-01 00:00:00",
          "2023-11-01 00:00:00",
          "2023-12-01 00:00:00",
          "2024-01-01 00:00:00",
          "2024-02-01 00:00:00",
          "2024-03-01 00:00:00",
          "2024-04-01 00:00:00",
          "2024-05-01 00:00:00",
          "2024-06-01 00:00:00",
          "2024-07-01 00:00:00"
         ],
         "xaxis": "x",
         "y": [
          286744,
          236998,
          248805,
          233164,
          228772,
          220103,
          225111,
          224254,
          218696,
          233903,
          233375,
          249280,
          257649,
          232821,
          254929,
          235254,
          236893,
          225422,
          229211,
          227280,
          222715,
          237661,
          239028,
          255975,
          264062,
          244431,
          269239,
          321879,
          280152,
          249993,
          278409,
          276731,
          256732,
          273443,
          302090,
          366568,
          372916,
          282015,
          270527,
          256523,
          257798,
          244671,
          257328,
          303261,
          311830,
          299591,
          288483,
          319288,
          369459,
          290309,
          268246,
          246083,
          254396,
          248080,
          260129,
          258926,
          250891,
          264956,
          268002,
          300380,
          288757,
          248665,
          268769,
          251834,
          252168,
          240809,
          246581,
          249931,
          244478,
          258159,
          257441,
          283375,
          294088,
          254559,
          262282,
          247560,
          246790,
          227080,
          108467
         ],
         "yaxis": "y"
        }
       ],
       "layout": {
        "height": 360,
        "legend": {
         "tracegroupgap": 0
        },
        "template": {
         "data": {
          "bar": [
           {
            "error_x": {
             "color": "#2a3f5f"
            },
            "error_y": {
             "color": "#2a3f5f"
            },
            "marker": {
             "line": {
              "color": "#E5ECF6",
              "width": 0.5
             },
             "pattern": {
              "fillmode": "overlay",
              "size": 10,
              "solidity": 0.2
             }
            },
            "type": "bar"
           }
          ],
          "barpolar": [
           {
            "marker": {
             "line": {
              "color": "#E5ECF6",
              "width": 0.5
             },
             "pattern": {
              "fillmode": "overlay",
              "size": 10,
              "solidity": 0.2
             }
            },
            "type": "barpolar"
           }
          ],
          "carpet": [
           {
            "aaxis": {
             "endlinecolor": "#2a3f5f",
             "gridcolor": "white",
             "linecolor": "white",
             "minorgridcolor": "white",
             "startlinecolor": "#2a3f5f"
            },
            "baxis": {
             "endlinecolor": "#2a3f5f",
             "gridcolor": "white",
             "linecolor": "white",
             "minorgridcolor": "white",
             "startlinecolor": "#2a3f5f"
            },
            "type": "carpet"
           }
          ],
          "choropleth": [
           {
            "colorbar": {
             "outlinewidth": 0,
             "ticks": ""
            },
            "type": "choropleth"
           }
          ],
          "contour": [
           {
            "colorbar": {
             "outlinewidth": 0,
             "ticks": ""
            },
            "colorscale": [
             [
              0,
              "#0d0887"
             ],
             [
              0.1111111111111111,
              "#46039f"
             ],
             [
              0.2222222222222222,
              "#7201a8"
             ],
             [
              0.3333333333333333,
              "#9c179e"
             ],
             [
              0.4444444444444444,
              "#bd3786"
             ],
             [
              0.5555555555555556,
              "#d8576b"
             ],
             [
              0.6666666666666666,
              "#ed7953"
             ],
             [
              0.7777777777777778,
              "#fb9f3a"
             ],
             [
              0.8888888888888888,
              "#fdca26"
             ],
             [
              1,
              "#f0f921"
             ]
            ],
            "type": "contour"
           }
          ],
          "contourcarpet": [
           {
            "colorbar": {
             "outlinewidth": 0,
             "ticks": ""
            },
            "type": "contourcarpet"
           }
          ],
          "heatmap": [
           {
            "colorbar": {
             "outlinewidth": 0,
             "ticks": ""
            },
            "colorscale": [
             [
              0,
              "#0d0887"
             ],
             [
              0.1111111111111111,
              "#46039f"
             ],
             [
              0.2222222222222222,
              "#7201a8"
             ],
             [
              0.3333333333333333,
              "#9c179e"
             ],
             [
              0.4444444444444444,
              "#bd3786"
             ],
             [
              0.5555555555555556,
              "#d8576b"
             ],
             [
              0.6666666666666666,
              "#ed7953"
             ],
             [
              0.7777777777777778,
              "#fb9f3a"
             ],
             [
              0.8888888888888888,
              "#fdca26"
             ],
             [
              1,
              "#f0f921"
             ]
            ],
            "type": "heatmap"
           }
          ],
          "heatmapgl": [
           {
            "colorbar": {
             "outlinewidth": 0,
             "ticks": ""
            },
            "colorscale": [
             [
              0,
              "#0d0887"
             ],
             [
              0.1111111111111111,
              "#46039f"
             ],
             [
              0.2222222222222222,
              "#7201a8"
             ],
             [
              0.3333333333333333,
              "#9c179e"
             ],
             [
              0.4444444444444444,
              "#bd3786"
             ],
             [
              0.5555555555555556,
              "#d8576b"
             ],
             [
              0.6666666666666666,
              "#ed7953"
             ],
             [
              0.7777777777777778,
              "#fb9f3a"
             ],
             [
              0.8888888888888888,
              "#fdca26"
             ],
             [
              1,
              "#f0f921"
             ]
            ],
            "type": "heatmapgl"
           }
          ],
          "histogram": [
           {
            "marker": {
             "pattern": {
              "fillmode": "overlay",
              "size": 10,
              "solidity": 0.2
             }
            },
            "type": "histogram"
           }
          ],
          "histogram2d": [
           {
            "colorbar": {
             "outlinewidth": 0,
             "ticks": ""
            },
            "colorscale": [
             [
              0,
              "#0d0887"
             ],
             [
              0.1111111111111111,
              "#46039f"
             ],
             [
              0.2222222222222222,
              "#7201a8"
             ],
             [
              0.3333333333333333,
              "#9c179e"
             ],
             [
              0.4444444444444444,
              "#bd3786"
             ],
             [
              0.5555555555555556,
              "#d8576b"
             ],
             [
              0.6666666666666666,
              "#ed7953"
             ],
             [
              0.7777777777777778,
              "#fb9f3a"
             ],
             [
              0.8888888888888888,
              "#fdca26"
             ],
             [
              1,
              "#f0f921"
             ]
            ],
            "type": "histogram2d"
           }
          ],
          "histogram2dcontour": [
           {
            "colorbar": {
             "outlinewidth": 0,
             "ticks": ""
            },
            "colorscale": [
             [
              0,
              "#0d0887"
             ],
             [
              0.1111111111111111,
              "#46039f"
             ],
             [
              0.2222222222222222,
              "#7201a8"
             ],
             [
              0.3333333333333333,
              "#9c179e"
             ],
             [
              0.4444444444444444,
              "#bd3786"
             ],
             [
              0.5555555555555556,
              "#d8576b"
             ],
             [
              0.6666666666666666,
              "#ed7953"
             ],
             [
              0.7777777777777778,
              "#fb9f3a"
             ],
             [
              0.8888888888888888,
              "#fdca26"
             ],
             [
              1,
              "#f0f921"
             ]
            ],
            "type": "histogram2dcontour"
           }
          ],
          "mesh3d": [
           {
            "colorbar": {
             "outlinewidth": 0,
             "ticks": ""
            },
            "type": "mesh3d"
           }
          ],
          "parcoords": [
           {
            "line": {
             "colorbar": {
              "outlinewidth": 0,
              "ticks": ""
             }
            },
            "type": "parcoords"
           }
          ],
          "pie": [
           {
            "automargin": true,
            "type": "pie"
           }
          ],
          "scatter": [
           {
            "fillpattern": {
             "fillmode": "overlay",
             "size": 10,
             "solidity": 0.2
            },
            "type": "scatter"
           }
          ],
          "scatter3d": [
           {
            "line": {
             "colorbar": {
              "outlinewidth": 0,
              "ticks": ""
             }
            },
            "marker": {
             "colorbar": {
              "outlinewidth": 0,
              "ticks": ""
             }
            },
            "type": "scatter3d"
           }
          ],
          "scattercarpet": [
           {
            "marker": {
             "colorbar": {
              "outlinewidth": 0,
              "ticks": ""
             }
            },
            "type": "scattercarpet"
           }
          ],
          "scattergeo": [
           {
            "marker": {
             "colorbar": {
              "outlinewidth": 0,
              "ticks": ""
             }
            },
            "type": "scattergeo"
           }
          ],
          "scattergl": [
           {
            "marker": {
             "colorbar": {
              "outlinewidth": 0,
              "ticks": ""
             }
            },
            "type": "scattergl"
           }
          ],
          "scattermapbox": [
           {
            "marker": {
             "colorbar": {
              "outlinewidth": 0,
              "ticks": ""
             }
            },
            "type": "scattermapbox"
           }
          ],
          "scatterpolar": [
           {
            "marker": {
             "colorbar": {
              "outlinewidth": 0,
              "ticks": ""
             }
            },
            "type": "scatterpolar"
           }
          ],
          "scatterpolargl": [
           {
            "marker": {
             "colorbar": {
              "outlinewidth": 0,
              "ticks": ""
             }
            },
            "type": "scatterpolargl"
           }
          ],
          "scatterternary": [
           {
            "marker": {
             "colorbar": {
              "outlinewidth": 0,
              "ticks": ""
             }
            },
            "type": "scatterternary"
           }
          ],
          "surface": [
           {
            "colorbar": {
             "outlinewidth": 0,
             "ticks": ""
            },
            "colorscale": [
             [
              0,
              "#0d0887"
             ],
             [
              0.1111111111111111,
              "#46039f"
             ],
             [
              0.2222222222222222,
              "#7201a8"
             ],
             [
              0.3333333333333333,
              "#9c179e"
             ],
             [
              0.4444444444444444,
              "#bd3786"
             ],
             [
              0.5555555555555556,
              "#d8576b"
             ],
             [
              0.6666666666666666,
              "#ed7953"
             ],
             [
              0.7777777777777778,
              "#fb9f3a"
             ],
             [
              0.8888888888888888,
              "#fdca26"
             ],
             [
              1,
              "#f0f921"
             ]
            ],
            "type": "surface"
           }
          ],
          "table": [
           {
            "cells": {
             "fill": {
              "color": "#EBF0F8"
             },
             "line": {
              "color": "white"
             }
            },
            "header": {
             "fill": {
              "color": "#C8D4E3"
             },
             "line": {
              "color": "white"
             }
            },
            "type": "table"
           }
          ]
         },
         "layout": {
          "annotationdefaults": {
           "arrowcolor": "#2a3f5f",
           "arrowhead": 0,
           "arrowwidth": 1
          },
          "autotypenumbers": "strict",
          "coloraxis": {
           "colorbar": {
            "outlinewidth": 0,
            "ticks": ""
           }
          },
          "colorscale": {
           "diverging": [
            [
             0,
             "#8e0152"
            ],
            [
             0.1,
             "#c51b7d"
            ],
            [
             0.2,
             "#de77ae"
            ],
            [
             0.3,
             "#f1b6da"
            ],
            [
             0.4,
             "#fde0ef"
            ],
            [
             0.5,
             "#f7f7f7"
            ],
            [
             0.6,
             "#e6f5d0"
            ],
            [
             0.7,
             "#b8e186"
            ],
            [
             0.8,
             "#7fbc41"
            ],
            [
             0.9,
             "#4d9221"
            ],
            [
             1,
             "#276419"
            ]
           ],
           "sequential": [
            [
             0,
             "#0d0887"
            ],
            [
             0.1111111111111111,
             "#46039f"
            ],
            [
             0.2222222222222222,
             "#7201a8"
            ],
            [
             0.3333333333333333,
             "#9c179e"
            ],
            [
             0.4444444444444444,
             "#bd3786"
            ],
            [
             0.5555555555555556,
             "#d8576b"
            ],
            [
             0.6666666666666666,
             "#ed7953"
            ],
            [
             0.7777777777777778,
             "#fb9f3a"
            ],
            [
             0.8888888888888888,
             "#fdca26"
            ],
            [
             1,
             "#f0f921"
            ]
           ],
           "sequentialminus": [
            [
             0,
             "#0d0887"
            ],
            [
             0.1111111111111111,
             "#46039f"
            ],
            [
             0.2222222222222222,
             "#7201a8"
            ],
            [
             0.3333333333333333,
             "#9c179e"
            ],
            [
             0.4444444444444444,
             "#bd3786"
            ],
            [
             0.5555555555555556,
             "#d8576b"
            ],
            [
             0.6666666666666666,
             "#ed7953"
            ],
            [
             0.7777777777777778,
             "#fb9f3a"
            ],
            [
             0.8888888888888888,
             "#fdca26"
            ],
            [
             1,
             "#f0f921"
            ]
           ]
          },
          "colorway": [
           "#636efa",
           "#EF553B",
           "#00cc96",
           "#ab63fa",
           "#FFA15A",
           "#19d3f3",
           "#FF6692",
           "#B6E880",
           "#FF97FF",
           "#FECB52"
          ],
          "font": {
           "color": "#2a3f5f"
          },
          "geo": {
           "bgcolor": "white",
           "lakecolor": "white",
           "landcolor": "#E5ECF6",
           "showlakes": true,
           "showland": true,
           "subunitcolor": "white"
          },
          "hoverlabel": {
           "align": "left"
          },
          "hovermode": "closest",
          "mapbox": {
           "style": "light"
          },
          "paper_bgcolor": "white",
          "plot_bgcolor": "#E5ECF6",
          "polar": {
           "angularaxis": {
            "gridcolor": "white",
            "linecolor": "white",
            "ticks": ""
           },
           "bgcolor": "#E5ECF6",
           "radialaxis": {
            "gridcolor": "white",
            "linecolor": "white",
            "ticks": ""
           }
          },
          "scene": {
           "xaxis": {
            "backgroundcolor": "#E5ECF6",
            "gridcolor": "white",
            "gridwidth": 2,
            "linecolor": "white",
            "showbackground": true,
            "ticks": "",
            "zerolinecolor": "white"
           },
           "yaxis": {
            "backgroundcolor": "#E5ECF6",
            "gridcolor": "white",
            "gridwidth": 2,
            "linecolor": "white",
            "showbackground": true,
            "ticks": "",
            "zerolinecolor": "white"
           },
           "zaxis": {
            "backgroundcolor": "#E5ECF6",
            "gridcolor": "white",
            "gridwidth": 2,
            "linecolor": "white",
            "showbackground": true,
            "ticks": "",
            "zerolinecolor": "white"
           }
          },
          "shapedefaults": {
           "line": {
            "color": "#2a3f5f"
           }
          },
          "ternary": {
           "aaxis": {
            "gridcolor": "white",
            "linecolor": "white",
            "ticks": ""
           },
           "baxis": {
            "gridcolor": "white",
            "linecolor": "white",
            "ticks": ""
           },
           "bgcolor": "#E5ECF6",
           "caxis": {
            "gridcolor": "white",
            "linecolor": "white",
            "ticks": ""
           }
          },
          "title": {
           "x": 0.05
          },
          "xaxis": {
           "automargin": true,
           "gridcolor": "white",
           "linecolor": "white",
           "ticks": "",
           "title": {
            "standoff": 15
           },
           "zerolinecolor": "white",
           "zerolinewidth": 2
          },
          "yaxis": {
           "automargin": true,
           "gridcolor": "white",
           "linecolor": "white",
           "ticks": "",
           "title": {
            "standoff": 15
           },
           "zerolinecolor": "white",
           "zerolinewidth": 2
          }
         }
        },
        "title": {
         "text": "'deaths' by 'month' and 'None'"
        },
        "xaxis": {
         "anchor": "y",
         "autorange": true,
         "domain": [
          0,
          1
         ],
         "range": [
          "2018-01-01",
          "2024-07-01"
         ],
         "title": {
          "text": "month"
         },
         "type": "date"
        },
        "yaxis": {
         "anchor": "x",
         "autorange": true,
         "domain": [
          0,
          1
         ],
         "range": [
          0,
          392543.15789473685
         ],
         "title": {
          "text": "deaths"
         },
         "type": "linear"
        }
       }
      },
      "image/png": "[encoded data removed]",
      "text/html": [
       "<div>                            <div id=\"fa869aca-ef7e-424b-aff0-9a7be7c1c422\" class=\"plotly-graph-div\" style=\"height:525px; width:100%;\"></div>            <script type=\"text/javascript\">                require([\"plotly\"], function(Plotly) {                    window.PLOTLYENV=window.PLOTLYENV || {};                                    if (document.getElementById(\"fa869aca-ef7e-424b-aff0-9a7be7c1c422\")) {                    Plotly.newPlot(                        \"fa869aca-ef7e-424b-aff0-9a7be7c1c422\",                        [{\"fillpattern\":{\"shape\":\"\"},\"hovertemplate\":\"month=%{x}\\u003cbr\\u003edeaths=%{y}\\u003cextra\\u003e\\u003c\\u002fextra\\u003e\",\"legendgroup\":\"\",\"line\":{\"color\":\"#636efa\"},\"marker\":{\"symbol\":\"circle\"},\"mode\":\"lines\",\"name\":\"\",\"orientation\":\"v\",\"showlegend\":false,\"stackgroup\":\"1\",\"x\":[\"2018-01-01 00:00:00\",\"2018-02-01 00:00:00\",\"2018-03-01 00:00:00\",\"2018-04-01 00:00:00\",\"2018-05-01 00:00:00\",\"2018-06-01 00:00:00\",\"2018-07-01 00:00:00\",\"2018-08-01 00:00:00\",\"2018-09-01 00:00:00\",\"2018-10-01 00:00:00\",\"2018-11-01 00:00:00\",\"2018-12-01 00:00:00\",\"2019-01-01 00:00:00\",\"2019-02-01 00:00:00\",\"2019-03-01 00:00:00\",\"2019-04-01 00:00:00\",\"2019-05-01 00:00:00\",\"2019-06-01 00:00:00\",\"2019-07-01 00:00:00\",\"2019-08-01 00:00:00\",\"2019-09-01 00:00:00\",\"2019-10-01 00:00:00\",\"2019-11-01 00:00:00\",\"2019-12-01 00:00:00\",\"2020-01-01 00:00:00\",\"2020-02-01 00:00:00\",\"2020-03-01 00:00:00\",\"2020-04-01 00:00:00\",\"2020-05-01 00:00:00\",\"2020-06-01 00:00:00\",\"2020-07-01 00:00:00\",\"2020-08-01 00:00:00\",\"2020-09-01 00:00:00\",\"2020-10-01 00:00:00\",\"2020-11-01 00:00:00\",\"2020-12-01 00:00:00\",\"2021-01-01 00:00:00\",\"2021-02-01 00:00:00\",\"2021-03-01 00:00:00\",\"2021-04-01 00:00:00\",\"2021-05-01 00:00:00\",\"2021-06-01 00:00:00\",\"2021-07-01 00:00:00\",\"2021-08-01 00:00:00\",\"2021-09-01 00:00:00\",\"2021-10-01 00:00:00\",\"2021-11-01 00:00:00\",\"2021-12-01 00:00:00\",\"2022-01-01 00:00:00\",\"2022-02-01 00:00:00\",\"2022-03-01 00:00:00\",\"2022-04-01 00:00:00\",\"2022-05-01 00:00:00\",\"2022-06-01 00:00:00\",\"2022-07-01 00:00:00\",\"2022-08-01 00:00:00\",\"2022-09-01 00:00:00\",\"2022-10-01 00:00:00\",\"2022-11-01 00:00:00\",\"2022-12-01 00:00:00\",\"2023-01-01 00:00:00\",\"2023-02-01 00:00:00\",\"2023-03-01 00:00:00\",\"2023-04-01 00:00:00\",\"2023-05-01 00:00:00\",\"2023-06-01 00:00:00\",\"2023-07-01 00:00:00\",\"2023-08-01 00:00:00\",\"2023-09-01 00:00:00\",\"2023-10-01 00:00:00\",\"2023-11-01 00:00:00\",\"2023-12-01 00:00:00\",\"2024-01-01 00:00:00\",\"2024-02-01 00:00:00\",\"2024-03-01 00:00:00\",\"2024-04-01 00:00:00\",\"2024-05-01 00:00:00\",\"2024-06-01 00:00:00\",\"2024-07-01 00:00:00\"],\"xaxis\":\"x\",\"y\":[286744,236998,248805,233164,228772,220103,225111,224254,218696,233903,233375,249280,257649,232821,254929,235254,236893,225422,229211,227280,222715,237661,239028,255975,264062,244431,269239,321879,280152,249993,278409,276731,256732,273443,302090,366568,372916,282015,270527,256523,257798,244671,257328,303261,311830,299591,288483,319288,369459,290309,268246,246083,254396,248080,260129,258926,250891,264956,268002,300380,288757,248665,268769,251834,252168,240809,246581,249931,244478,258159,257441,283375,294088,254559,262282,247560,246790,227080,108467],\"yaxis\":\"y\",\"type\":\"scatter\"}],                        {\"template\":{\"data\":{\"histogram2dcontour\":[{\"type\":\"histogram2dcontour\",\"colorbar\":{\"outlinewidth\":0,\"ticks\":\"\"},\"colorscale\":[[0.0,\"#0d0887\"],[0.1111111111111111,\"#46039f\"],[0.2222222222222222,\"#7201a8\"],[0.3333333333333333,\"#9c179e\"],[0.4444444444444444,\"#bd3786\"],[0.5555555555555556,\"#d8576b\"],[0.6666666666666666,\"#ed7953\"],[0.7777777777777778,\"#fb9f3a\"],[0.8888888888888888,\"#fdca26\"],[1.0,\"#f0f921\"]]}],\"choropleth\":[{\"type\":\"choropleth\",\"colorbar\":{\"outlinewidth\":0,\"ticks\":\"\"}}],\"histogram2d\":[{\"type\":\"histogram2d\",\"colorbar\":{\"outlinewidth\":0,\"ticks\":\"\"},\"colorscale\":[[0.0,\"#0d0887\"],[0.1111111111111111,\"#46039f\"],[0.2222222222222222,\"#7201a8\"],[0.3333333333333333,\"#9c179e\"],[0.4444444444444444,\"#bd3786\"],[0.5555555555555556,\"#d8576b\"],[0.6666666666666666,\"#ed7953\"],[0.7777777777777778,\"#fb9f3a\"],[0.8888888888888888,\"#fdca26\"],[1.0,\"#f0f921\"]]}],\"heatmap\":[{\"type\":\"heatmap\",\"colorbar\":{\"outlinewidth\":0,\"ticks\":\"\"},\"colorscale\":[[0.0,\"#0d0887\"],[0.1111111111111111,\"#46039f\"],[0.2222222222222222,\"#7201a8\"],[0.3333333333333333,\"#9c179e\"],[0.4444444444444444,\"#bd3786\"],[0.5555555555555556,\"#d8576b\"],[0.6666666666666666,\"#ed7953\"],[0.7777777777777778,\"#fb9f3a\"],[0.8888888888888888,\"#fdca26\"],[1.0,\"#f0f921\"]]}],\"heatmapgl\":[{\"type\":\"heatmapgl\",\"colorbar\":{\"outlinewidth\":0,\"ticks\":\"\"},\"colorscale\":[[0.0,\"#0d0887\"],[0.1111111111111111,\"#46039f\"],[0.2222222222222222,\"#7201a8\"],[0.3333333333333333,\"#9c179e\"],[0.4444444444444444,\"#bd3786\"],[0.5555555555555556,\"#d8576b\"],[0.6666666666666666,\"#ed7953\"],[0.7777777777777778,\"#fb9f3a\"],[0.8888888888888888,\"#fdca26\"],[1.0,\"#f0f921\"]]}],\"contourcarpet\":[{\"type\":\"contourcarpet\",\"colorbar\":{\"outlinewidth\":0,\"ticks\":\"\"}}],\"contour\":[{\"type\":\"contour\",\"colorbar\":{\"outlinewidth\":0,\"ticks\":\"\"},\"colorscale\":[[0.0,\"#0d0887\"],[0.1111111111111111,\"#46039f\"],[0.2222222222222222,\"#7201a8\"],[0.3333333333333333,\"#9c179e\"],[0.4444444444444444,\"#bd3786\"],[0.5555555555555556,\"#d8576b\"],[0.6666666666666666,\"#ed7953\"],[0.7777777777777778,\"#fb9f3a\"],[0.8888888888888888,\"#fdca26\"],[1.0,\"#f0f921\"]]}],\"surface\":[{\"type\":\"surface\",\"colorbar\":{\"outlinewidth\":0,\"ticks\":\"\"},\"colorscale\":[[0.0,\"#0d0887\"],[0.1111111111111111,\"#46039f\"],[0.2222222222222222,\"#7201a8\"],[0.3333333333333333,\"#9c179e\"],[0.4444444444444444,\"#bd3786\"],[0.5555555555555556,\"#d8576b\"],[0.6666666666666666,\"#ed7953\"],[0.7777777777777778,\"#fb9f3a\"],[0.8888888888888888,\"#fdca26\"],[1.0,\"#f0f921\"]]}],\"mesh3d\":[{\"type\":\"mesh3d\",\"colorbar\":{\"outlinewidth\":0,\"ticks\":\"\"}}],\"scatter\":[{\"fillpattern\":{\"fillmode\":\"overlay\",\"size\":10,\"solidity\":0.2},\"type\":\"scatter\"}],\"parcoords\":[{\"type\":\"parcoords\",\"line\":{\"colorbar\":{\"outlinewidth\":0,\"ticks\":\"\"}}}],\"scatterpolargl\":[{\"type\":\"scatterpolargl\",\"marker\":{\"colorbar\":{\"outlinewidth\":0,\"ticks\":\"\"}}}],\"bar\":[{\"error_x\":{\"color\":\"#2a3f5f\"},\"error_y\":{\"color\":\"#2a3f5f\"},\"marker\":{\"line\":{\"color\":\"#E5ECF6\",\"width\":0.5},\"pattern\":{\"fillmode\":\"overlay\",\"size\":10,\"solidity\":0.2}},\"type\":\"bar\"}],\"scattergeo\":[{\"type\":\"scattergeo\",\"marker\":{\"colorbar\":{\"outlinewidth\":0,\"ticks\":\"\"}}}],\"scatterpolar\":[{\"type\":\"scatterpolar\",\"marker\":{\"colorbar\":{\"outlinewidth\":0,\"ticks\":\"\"}}}],\"histogram\":[{\"marker\":{\"pattern\":{\"fillmode\":\"overlay\",\"size\":10,\"solidity\":0.2}},\"type\":\"histogram\"}],\"scattergl\":[{\"type\":\"scattergl\",\"marker\":{\"colorbar\":{\"outlinewidth\":0,\"ticks\":\"\"}}}],\"scatter3d\":[{\"type\":\"scatter3d\",\"line\":{\"colorbar\":{\"outlinewidth\":0,\"ticks\":\"\"}},\"marker\":{\"colorbar\":{\"outlinewidth\":0,\"ticks\":\"\"}}}],\"scattermapbox\":[{\"type\":\"scattermapbox\",\"marker\":{\"colorbar\":{\"outlinewidth\":0,\"ticks\":\"\"}}}],\"scatterternary\":[{\"type\":\"scatterternary\",\"marker\":{\"colorbar\":{\"outlinewidth\":0,\"ticks\":\"\"}}}],\"scattercarpet\":[{\"type\":\"scattercarpet\",\"marker\":{\"colorbar\":{\"outlinewidth\":0,\"ticks\":\"\"}}}],\"carpet\":[{\"aaxis\":{\"endlinecolor\":\"#2a3f5f\",\"gridcolor\":\"white\",\"linecolor\":\"white\",\"minorgridcolor\":\"white\",\"startlinecolor\":\"#2a3f5f\"},\"baxis\":{\"endlinecolor\":\"#2a3f5f\",\"gridcolor\":\"white\",\"linecolor\":\"white\",\"minorgridcolor\":\"white\",\"startlinecolor\":\"#2a3f5f\"},\"type\":\"carpet\"}],\"table\":[{\"cells\":{\"fill\":{\"color\":\"#EBF0F8\"},\"line\":{\"color\":\"white\"}},\"header\":{\"fill\":{\"color\":\"#C8D4E3\"},\"line\":{\"color\":\"white\"}},\"type\":\"table\"}],\"barpolar\":[{\"marker\":{\"line\":{\"color\":\"#E5ECF6\",\"width\":0.5},\"pattern\":{\"fillmode\":\"overlay\",\"size\":10,\"solidity\":0.2}},\"type\":\"barpolar\"}],\"pie\":[{\"automargin\":true,\"type\":\"pie\"}]},\"layout\":{\"autotypenumbers\":\"strict\",\"colorway\":[\"#636efa\",\"#EF553B\",\"#00cc96\",\"#ab63fa\",\"#FFA15A\",\"#19d3f3\",\"#FF6692\",\"#B6E880\",\"#FF97FF\",\"#FECB52\"],\"font\":{\"color\":\"#2a3f5f\"},\"hovermode\":\"closest\",\"hoverlabel\":{\"align\":\"left\"},\"paper_bgcolor\":\"white\",\"plot_bgcolor\":\"#E5ECF6\",\"polar\":{\"bgcolor\":\"#E5ECF6\",\"angularaxis\":{\"gridcolor\":\"white\",\"linecolor\":\"white\",\"ticks\":\"\"},\"radialaxis\":{\"gridcolor\":\"white\",\"linecolor\":\"white\",\"ticks\":\"\"}},\"ternary\":{\"bgcolor\":\"#E5ECF6\",\"aaxis\":{\"gridcolor\":\"white\",\"linecolor\":\"white\",\"ticks\":\"\"},\"baxis\":{\"gridcolor\":\"white\",\"linecolor\":\"white\",\"ticks\":\"\"},\"caxis\":{\"gridcolor\":\"white\",\"linecolor\":\"white\",\"ticks\":\"\"}},\"coloraxis\":{\"colorbar\":{\"outlinewidth\":0,\"ticks\":\"\"}},\"colorscale\":{\"sequential\":[[0.0,\"#0d0887\"],[0.1111111111111111,\"#46039f\"],[0.2222222222222222,\"#7201a8\"],[0.3333333333333333,\"#9c179e\"],[0.4444444444444444,\"#bd3786\"],[0.5555555555555556,\"#d8576b\"],[0.6666666666666666,\"#ed7953\"],[0.7777777777777778,\"#fb9f3a\"],[0.8888888888888888,\"#fdca26\"],[1.0,\"#f0f921\"]],\"sequentialminus\":[[0.0,\"#0d0887\"],[0.1111111111111111,\"#46039f\"],[0.2222222222222222,\"#7201a8\"],[0.3333333333333333,\"#9c179e\"],[0.4444444444444444,\"#bd3786\"],[0.5555555555555556,\"#d8576b\"],[0.6666666666666666,\"#ed7953\"],[0.7777777777777778,\"#fb9f3a\"],[0.8888888888888888,\"#fdca26\"],[1.0,\"#f0f921\"]],\"diverging\":[[0,\"#8e0152\"],[0.1,\"#c51b7d\"],[0.2,\"#de77ae\"],[0.3,\"#f1b6da\"],[0.4,\"#fde0ef\"],[0.5,\"#f7f7f7\"],[0.6,\"#e6f5d0\"],[0.7,\"#b8e186\"],[0.8,\"#7fbc41\"],[0.9,\"#4d9221\"],[1,\"#276419\"]]},\"xaxis\":{\"gridcolor\":\"white\",\"linecolor\":\"white\",\"ticks\":\"\",\"title\":{\"standoff\":15},\"zerolinecolor\":\"white\",\"automargin\":true,\"zerolinewidth\":2},\"yaxis\":{\"gridcolor\":\"white\",\"linecolor\":\"white\",\"ticks\":\"\",\"title\":{\"standoff\":15},\"zerolinecolor\":\"white\",\"automargin\":true,\"zerolinewidth\":2},\"scene\":{\"xaxis\":{\"backgroundcolor\":\"#E5ECF6\",\"gridcolor\":\"white\",\"linecolor\":\"white\",\"showbackground\":true,\"ticks\":\"\",\"zerolinecolor\":\"white\",\"gridwidth\":2},\"yaxis\":{\"backgroundcolor\":\"#E5ECF6\",\"gridcolor\":\"white\",\"linecolor\":\"white\",\"showbackground\":true,\"ticks\":\"\",\"zerolinecolor\":\"white\",\"gridwidth\":2},\"zaxis\":{\"backgroundcolor\":\"#E5ECF6\",\"gridcolor\":\"white\",\"linecolor\":\"white\",\"showbackground\":true,\"ticks\":\"\",\"zerolinecolor\":\"white\",\"gridwidth\":2}},\"shapedefaults\":{\"line\":{\"color\":\"#2a3f5f\"}},\"annotationdefaults\":{\"arrowcolor\":\"#2a3f5f\",\"arrowhead\":0,\"arrowwidth\":1},\"geo\":{\"bgcolor\":\"white\",\"landcolor\":\"#E5ECF6\",\"subunitcolor\":\"white\",\"showland\":true,\"showlakes\":true,\"lakecolor\":\"white\"},\"title\":{\"x\":0.05},\"mapbox\":{\"style\":\"light\"}}},\"xaxis\":{\"anchor\":\"y\",\"domain\":[0.0,1.0],\"title\":{\"text\":\"month\"}},\"yaxis\":{\"anchor\":\"x\",\"domain\":[0.0,1.0],\"title\":{\"text\":\"deaths\"},\"type\":\"-\"},\"legend\":{\"tracegroupgap\":0},\"title\":{\"text\":\"'deaths' by 'month' and 'None'\"}},                        {\"responsive\": true}                    ).then(function(){\n",
       "                            \n",
       "var gd = document.getElementById('fa869aca-ef7e-424b-aff0-9a7be7c1c422');\n",
       "var x = new MutationObserver(function (mutations, observer) {{\n",
       "        var display = window.getComputedStyle(gd).display;\n",
       "        if (!display || display === 'none') {{\n",
       "            console.log([gd, 'removed!']);\n",
       "            Plotly.purge(gd);\n",
       "            observer.disconnect();\n",
       "        }}\n",
       "}});\n",
       "\n",
       "// Listen for the removal of the full notebook cells\n",
       "var notebookContainer = gd.closest('#notebook-container');\n",
       "if (notebookContainer) {{\n",
       "    x.observe(notebookContainer, {childList: true});\n",
       "}}\n",
       "\n",
       "// Listen for the clearing of the current output cell\n",
       "var outputEl = gd.closest('.output');\n",
       "if (outputEl) {{\n",
       "    x.observe(outputEl, {childList: true});\n",
       "}}\n",
       "\n",
       "                        })                };                });            </script>        </div>"
      ]
     },
     "metadata": {},
     "output_type": "display_data"
    }
   ],
   "source": [
    "charters.chart(\n",
    "    df=mcd18_monthly,\n",
    "    x_axis=\"month\",\n",
    "    y_axis=\"deaths\",\n",
    "    type=\"area\",\n",
    ")"
   ]
  },
  {
   "cell_type": "markdown",
   "id": "cf7ec7d2-722b-43c0-9ca7-9c213230e4df",
   "metadata": {},
   "source": [
    "## MI"
   ]
  },
  {
   "cell_type": "markdown",
   "id": "a399ff8a-4af9-4188-a1ed-5a631d332576",
   "metadata": {},
   "source": [
    "### CDC Query"
   ]
  },
  {
   "cell_type": "code",
   "execution_count": 259,
   "id": "23a19161-b4b5-4226-927c-900ae7315382",
   "metadata": {},
   "outputs": [
    {
     "name": "stdout",
     "output_type": "stream",
     "text": [
      "\u001b[37m 2024-07-30 23:39:26 \u001b[0m|\u001b[37m morai.utils.sql \u001b[0m|\u001b[32m INFO     \u001b[0m|\u001b[32m replace data to SQLite database: `files/integrations/cdc/cdc.sql` and table: `mi` \u001b[0m\n",
      "\u001b[37m 2024-07-30 23:39:29 \u001b[0m|\u001b[37m morai.utils.sql \u001b[0m|\u001b[32m INFO     \u001b[0m|\u001b[32m append data to SQLite database: `files/integrations/cdc/cdc.sql` and table: `mi` \u001b[0m\n"
     ]
    }
   ],
   "source": [
    "df = cdc.get_cdc_data_xml(xml_filename=\"mcd99_mi.xml\")\n",
    "df[\"quintile\"] = \"total\"\n",
    "sql.export_to_sql(\n",
    "    df=df,\n",
    "    db_filepath=db_filepath,\n",
    "    table_name=\"mi\",\n",
    "    if_exists=\"replace\",\n",
    ")\n",
    "df = cdc.get_cdc_data_xml(xml_filename=\"mcd79_mi.xml\")\n",
    "df[\"quintile\"] = \"total\"\n",
    "sql.export_to_sql(\n",
    "    df=df,\n",
    "    db_filepath=db_filepath,\n",
    "    table_name=\"mi\",\n",
    ")"
   ]
  },
  {
   "cell_type": "markdown",
   "id": "e502937f-576e-4e85-b87c-dc6fcf7ef46b",
   "metadata": {},
   "source": [
    "### SQL"
   ]
  },
  {
   "cell_type": "code",
   "execution_count": 283,
   "id": "cca9c430-e3ab-4202-b9da-5e9498d494e9",
   "metadata": {},
   "outputs": [
    {
     "name": "stdout",
     "output_type": "stream",
     "text": [
      "\u001b[37m 2024-07-31 00:20:10 \u001b[0m|\u001b[37m morai.integrations.cdc \u001b[0m|\u001b[32m INFO     \u001b[0m|\u001b[32m table `mi` last updated at: 2024-07-30 23:39:29, rows: 1088 \u001b[0m\n"
     ]
    }
   ],
   "source": [
    "mi = cdc.get_cdc_data_sql(db_filepath=db_filepath, table_name=\"mi\")"
   ]
  },
  {
   "cell_type": "markdown",
   "id": "1ee781b7-246d-4e37-b67e-74c27c41f703",
   "metadata": {},
   "source": [
    "### Aggregate"
   ]
  },
  {
   "cell_type": "markdown",
   "id": "c98a4fd0-f487-491d-99be-8360d8172dc0",
   "metadata": {},
   "source": [
    "### Calculate"
   ]
  },
  {
   "cell_type": "code",
   "execution_count": 261,
   "id": "f665d858-949f-4ed6-a4cf-93528655c1e7",
   "metadata": {},
   "outputs": [],
   "source": [
    "# filters\n",
    "mi = mi[mi[\"year\"] < 2020]\n",
    "# mi = mi[mi[\"gender\"] == 'Female']"
   ]
  },
  {
   "cell_type": "code",
   "execution_count": 262,
   "id": "8cab3093-b786-4c04-9a98-553b6694b7a9",
   "metadata": {},
   "outputs": [
    {
     "name": "stdout",
     "output_type": "stream",
     "text": [
      "\u001b[37m 2024-07-30 23:39:36 \u001b[0m|\u001b[37m morai.integrations.cdc \u001b[0m|\u001b[32m INFO     \u001b[0m|\u001b[32m calculating mortality improvement by using a `2000 age adjusted` crude mortality rate \u001b[0m\n",
      "\u001b[37m 2024-07-30 23:39:36 \u001b[0m|\u001b[37m morai.integrations.cdc \u001b[0m|\u001b[32m INFO     \u001b[0m|\u001b[32m mapping reference column: value \u001b[0m\n",
      "\u001b[37m 2024-07-30 23:39:36 \u001b[0m|\u001b[37m morai.integrations.cdc \u001b[0m|\u001b[32m INFO     \u001b[0m|\u001b[32m mapping reference column: population_% \u001b[0m\n"
     ]
    }
   ],
   "source": [
    "mi_df = cdc.calc_mi(df=mi, rolling=10)"
   ]
  },
  {
   "cell_type": "markdown",
   "id": "03f7ea44-f7a4-4180-9962-133aa2c7f9f9",
   "metadata": {},
   "source": [
    "### Chart"
   ]
  },
  {
   "cell_type": "code",
   "execution_count": 263,
   "id": "383333cf-cb8d-439c-a757-2a8a5bff35fd",
   "metadata": {},
   "outputs": [
    {
     "data": {
      "application/vnd.plotly.v1+json": {
       "config": {
        "plotlyServerURL": "https://plot.ly"
       },
       "data": [
        {
         "mode": "lines+markers",
         "name": "1_year_mi",
         "type": "scatter",
         "x": [
          1979,
          1980,
          1981,
          1982,
          1983,
          1984,
          1985,
          1986,
          1987,
          1988,
          1989,
          1990,
          1991,
          1992,
          1993,
          1994,
          1995,
          1996,
          1997,
          1998,
          1999,
          2000,
          2001,
          2002,
          2003,
          2004,
          2005,
          2006,
          2007,
          2008,
          2009,
          2010,
          2011,
          2012,
          2013,
          2014,
          2015,
          2016,
          2017,
          2018,
          2019
         ],
         "xaxis": "x",
         "y": [
          null,
          -0.0268411842675218,
          0.0312411538479741,
          0.02268530345909714,
          -0.0037370360248765166,
          0.008135482573245478,
          -0.005300328055118486,
          0.008741237804256619,
          0.009465070440056178,
          -0.005527866797981895,
          0.02588986444806085,
          0.01240930071744284,
          0.016914896393572354,
          0.018998342648975486,
          -0.022499065174511612,
          0.013520159725593395,
          0.004557944866573349,
          0.017721705438570545,
          0.01812482638945756,
          0.009393862114966178,
          0.009971927196442465,
          0.007319405291119296,
          0.011675418117161218,
          0.003273198912643549,
          0.014256575586252596,
          0.03498368787261352,
          -0.0017590508715228381,
          0.02821577430045119,
          0.020767731863609584,
          0.0002745169671187764,
          0.03250723423779678,
          0.0035091737341254037,
          0.007423748483241344,
          0.011514997393901938,
          0.0012136393145739666,
          0.009985232712147019,
          -0.01137252232135122,
          0.006094165932442497,
          -0.004005958451447134,
          0.01148919059820197,
          0.01175201365458134
         ],
         "yaxis": "y"
        },
        {
         "mode": "lines+markers",
         "name": "10_year_mi",
         "type": "scatter",
         "x": [
          1979,
          1980,
          1981,
          1982,
          1983,
          1984,
          1985,
          1986,
          1987,
          1988,
          1989,
          1990,
          1991,
          1992,
          1993,
          1994,
          1995,
          1996,
          1997,
          1998,
          1999,
          2000,
          2001,
          2002,
          2003,
          2004,
          2005,
          2006,
          2007,
          2008,
          2009,
          2010,
          2011,
          2012,
          2013,
          2014,
          2015,
          2016,
          2017,
          2018,
          2019
         ],
         "xaxis": "x",
         "y": [
          null,
          null,
          null,
          null,
          null,
          null,
          null,
          null,
          null,
          null,
          0.006475169742719167,
          0.01040021824121563,
          0.008967592495775455,
          0.008598896414763291,
          0.0067226934997997815,
          0.007261161215034573,
          0.008246988507203757,
          0.009145035270635149,
          0.010011010865575288,
          0.011503183756870095,
          0.009911390031708257,
          0.009402400489075901,
          0.008878452661434787,
          0.007305938287801595,
          0.010981502363878015,
          0.013127855178580028,
          0.01249615560477041,
          0.013545562490958474,
          0.013809853038373676,
          0.012897918523588936,
          0.015151449227724368,
          0.014770426072024978,
          0.01434525910863299,
          0.015169438956758829,
          0.013865145329590966,
          0.011365299813544316,
          0.010403952668561478,
          0.008191791831760609,
          0.005714422800254937,
          0.006835890163363256,
          0.004760368105041712
         ],
         "yaxis": "y"
        }
       ],
       "layout": {
        "height": 360,
        "template": {
         "data": {
          "bar": [
           {
            "error_x": {
             "color": "#2a3f5f"
            },
            "error_y": {
             "color": "#2a3f5f"
            },
            "marker": {
             "line": {
              "color": "#E5ECF6",
              "width": 0.5
             },
             "pattern": {
              "fillmode": "overlay",
              "size": 10,
              "solidity": 0.2
             }
            },
            "type": "bar"
           }
          ],
          "barpolar": [
           {
            "marker": {
             "line": {
              "color": "#E5ECF6",
              "width": 0.5
             },
             "pattern": {
              "fillmode": "overlay",
              "size": 10,
              "solidity": 0.2
             }
            },
            "type": "barpolar"
           }
          ],
          "carpet": [
           {
            "aaxis": {
             "endlinecolor": "#2a3f5f",
             "gridcolor": "white",
             "linecolor": "white",
             "minorgridcolor": "white",
             "startlinecolor": "#2a3f5f"
            },
            "baxis": {
             "endlinecolor": "#2a3f5f",
             "gridcolor": "white",
             "linecolor": "white",
             "minorgridcolor": "white",
             "startlinecolor": "#2a3f5f"
            },
            "type": "carpet"
           }
          ],
          "choropleth": [
           {
            "colorbar": {
             "outlinewidth": 0,
             "ticks": ""
            },
            "type": "choropleth"
           }
          ],
          "contour": [
           {
            "colorbar": {
             "outlinewidth": 0,
             "ticks": ""
            },
            "colorscale": [
             [
              0,
              "#0d0887"
             ],
             [
              0.1111111111111111,
              "#46039f"
             ],
             [
              0.2222222222222222,
              "#7201a8"
             ],
             [
              0.3333333333333333,
              "#9c179e"
             ],
             [
              0.4444444444444444,
              "#bd3786"
             ],
             [
              0.5555555555555556,
              "#d8576b"
             ],
             [
              0.6666666666666666,
              "#ed7953"
             ],
             [
              0.7777777777777778,
              "#fb9f3a"
             ],
             [
              0.8888888888888888,
              "#fdca26"
             ],
             [
              1,
              "#f0f921"
             ]
            ],
            "type": "contour"
           }
          ],
          "contourcarpet": [
           {
            "colorbar": {
             "outlinewidth": 0,
             "ticks": ""
            },
            "type": "contourcarpet"
           }
          ],
          "heatmap": [
           {
            "colorbar": {
             "outlinewidth": 0,
             "ticks": ""
            },
            "colorscale": [
             [
              0,
              "#0d0887"
             ],
             [
              0.1111111111111111,
              "#46039f"
             ],
             [
              0.2222222222222222,
              "#7201a8"
             ],
             [
              0.3333333333333333,
              "#9c179e"
             ],
             [
              0.4444444444444444,
              "#bd3786"
             ],
             [
              0.5555555555555556,
              "#d8576b"
             ],
             [
              0.6666666666666666,
              "#ed7953"
             ],
             [
              0.7777777777777778,
              "#fb9f3a"
             ],
             [
              0.8888888888888888,
              "#fdca26"
             ],
             [
              1,
              "#f0f921"
             ]
            ],
            "type": "heatmap"
           }
          ],
          "heatmapgl": [
           {
            "colorbar": {
             "outlinewidth": 0,
             "ticks": ""
            },
            "colorscale": [
             [
              0,
              "#0d0887"
             ],
             [
              0.1111111111111111,
              "#46039f"
             ],
             [
              0.2222222222222222,
              "#7201a8"
             ],
             [
              0.3333333333333333,
              "#9c179e"
             ],
             [
              0.4444444444444444,
              "#bd3786"
             ],
             [
              0.5555555555555556,
              "#d8576b"
             ],
             [
              0.6666666666666666,
              "#ed7953"
             ],
             [
              0.7777777777777778,
              "#fb9f3a"
             ],
             [
              0.8888888888888888,
              "#fdca26"
             ],
             [
              1,
              "#f0f921"
             ]
            ],
            "type": "heatmapgl"
           }
          ],
          "histogram": [
           {
            "marker": {
             "pattern": {
              "fillmode": "overlay",
              "size": 10,
              "solidity": 0.2
             }
            },
            "type": "histogram"
           }
          ],
          "histogram2d": [
           {
            "colorbar": {
             "outlinewidth": 0,
             "ticks": ""
            },
            "colorscale": [
             [
              0,
              "#0d0887"
             ],
             [
              0.1111111111111111,
              "#46039f"
             ],
             [
              0.2222222222222222,
              "#7201a8"
             ],
             [
              0.3333333333333333,
              "#9c179e"
             ],
             [
              0.4444444444444444,
              "#bd3786"
             ],
             [
              0.5555555555555556,
              "#d8576b"
             ],
             [
              0.6666666666666666,
              "#ed7953"
             ],
             [
              0.7777777777777778,
              "#fb9f3a"
             ],
             [
              0.8888888888888888,
              "#fdca26"
             ],
             [
              1,
              "#f0f921"
             ]
            ],
            "type": "histogram2d"
           }
          ],
          "histogram2dcontour": [
           {
            "colorbar": {
             "outlinewidth": 0,
             "ticks": ""
            },
            "colorscale": [
             [
              0,
              "#0d0887"
             ],
             [
              0.1111111111111111,
              "#46039f"
             ],
             [
              0.2222222222222222,
              "#7201a8"
             ],
             [
              0.3333333333333333,
              "#9c179e"
             ],
             [
              0.4444444444444444,
              "#bd3786"
             ],
             [
              0.5555555555555556,
              "#d8576b"
             ],
             [
              0.6666666666666666,
              "#ed7953"
             ],
             [
              0.7777777777777778,
              "#fb9f3a"
             ],
             [
              0.8888888888888888,
              "#fdca26"
             ],
             [
              1,
              "#f0f921"
             ]
            ],
            "type": "histogram2dcontour"
           }
          ],
          "mesh3d": [
           {
            "colorbar": {
             "outlinewidth": 0,
             "ticks": ""
            },
            "type": "mesh3d"
           }
          ],
          "parcoords": [
           {
            "line": {
             "colorbar": {
              "outlinewidth": 0,
              "ticks": ""
             }
            },
            "type": "parcoords"
           }
          ],
          "pie": [
           {
            "automargin": true,
            "type": "pie"
           }
          ],
          "scatter": [
           {
            "fillpattern": {
             "fillmode": "overlay",
             "size": 10,
             "solidity": 0.2
            },
            "type": "scatter"
           }
          ],
          "scatter3d": [
           {
            "line": {
             "colorbar": {
              "outlinewidth": 0,
              "ticks": ""
             }
            },
            "marker": {
             "colorbar": {
              "outlinewidth": 0,
              "ticks": ""
             }
            },
            "type": "scatter3d"
           }
          ],
          "scattercarpet": [
           {
            "marker": {
             "colorbar": {
              "outlinewidth": 0,
              "ticks": ""
             }
            },
            "type": "scattercarpet"
           }
          ],
          "scattergeo": [
           {
            "marker": {
             "colorbar": {
              "outlinewidth": 0,
              "ticks": ""
             }
            },
            "type": "scattergeo"
           }
          ],
          "scattergl": [
           {
            "marker": {
             "colorbar": {
              "outlinewidth": 0,
              "ticks": ""
             }
            },
            "type": "scattergl"
           }
          ],
          "scattermapbox": [
           {
            "marker": {
             "colorbar": {
              "outlinewidth": 0,
              "ticks": ""
             }
            },
            "type": "scattermapbox"
           }
          ],
          "scatterpolar": [
           {
            "marker": {
             "colorbar": {
              "outlinewidth": 0,
              "ticks": ""
             }
            },
            "type": "scatterpolar"
           }
          ],
          "scatterpolargl": [
           {
            "marker": {
             "colorbar": {
              "outlinewidth": 0,
              "ticks": ""
             }
            },
            "type": "scatterpolargl"
           }
          ],
          "scatterternary": [
           {
            "marker": {
             "colorbar": {
              "outlinewidth": 0,
              "ticks": ""
             }
            },
            "type": "scatterternary"
           }
          ],
          "surface": [
           {
            "colorbar": {
             "outlinewidth": 0,
             "ticks": ""
            },
            "colorscale": [
             [
              0,
              "#0d0887"
             ],
             [
              0.1111111111111111,
              "#46039f"
             ],
             [
              0.2222222222222222,
              "#7201a8"
             ],
             [
              0.3333333333333333,
              "#9c179e"
             ],
             [
              0.4444444444444444,
              "#bd3786"
             ],
             [
              0.5555555555555556,
              "#d8576b"
             ],
             [
              0.6666666666666666,
              "#ed7953"
             ],
             [
              0.7777777777777778,
              "#fb9f3a"
             ],
             [
              0.8888888888888888,
              "#fdca26"
             ],
             [
              1,
              "#f0f921"
             ]
            ],
            "type": "surface"
           }
          ],
          "table": [
           {
            "cells": {
             "fill": {
              "color": "#EBF0F8"
             },
             "line": {
              "color": "white"
             }
            },
            "header": {
             "fill": {
              "color": "#C8D4E3"
             },
             "line": {
              "color": "white"
             }
            },
            "type": "table"
           }
          ]
         },
         "layout": {
          "annotationdefaults": {
           "arrowcolor": "#2a3f5f",
           "arrowhead": 0,
           "arrowwidth": 1
          },
          "autotypenumbers": "strict",
          "coloraxis": {
           "colorbar": {
            "outlinewidth": 0,
            "ticks": ""
           }
          },
          "colorscale": {
           "diverging": [
            [
             0,
             "#8e0152"
            ],
            [
             0.1,
             "#c51b7d"
            ],
            [
             0.2,
             "#de77ae"
            ],
            [
             0.3,
             "#f1b6da"
            ],
            [
             0.4,
             "#fde0ef"
            ],
            [
             0.5,
             "#f7f7f7"
            ],
            [
             0.6,
             "#e6f5d0"
            ],
            [
             0.7,
             "#b8e186"
            ],
            [
             0.8,
             "#7fbc41"
            ],
            [
             0.9,
             "#4d9221"
            ],
            [
             1,
             "#276419"
            ]
           ],
           "sequential": [
            [
             0,
             "#0d0887"
            ],
            [
             0.1111111111111111,
             "#46039f"
            ],
            [
             0.2222222222222222,
             "#7201a8"
            ],
            [
             0.3333333333333333,
             "#9c179e"
            ],
            [
             0.4444444444444444,
             "#bd3786"
            ],
            [
             0.5555555555555556,
             "#d8576b"
            ],
            [
             0.6666666666666666,
             "#ed7953"
            ],
            [
             0.7777777777777778,
             "#fb9f3a"
            ],
            [
             0.8888888888888888,
             "#fdca26"
            ],
            [
             1,
             "#f0f921"
            ]
           ],
           "sequentialminus": [
            [
             0,
             "#0d0887"
            ],
            [
             0.1111111111111111,
             "#46039f"
            ],
            [
             0.2222222222222222,
             "#7201a8"
            ],
            [
             0.3333333333333333,
             "#9c179e"
            ],
            [
             0.4444444444444444,
             "#bd3786"
            ],
            [
             0.5555555555555556,
             "#d8576b"
            ],
            [
             0.6666666666666666,
             "#ed7953"
            ],
            [
             0.7777777777777778,
             "#fb9f3a"
            ],
            [
             0.8888888888888888,
             "#fdca26"
            ],
            [
             1,
             "#f0f921"
            ]
           ]
          },
          "colorway": [
           "#636efa",
           "#EF553B",
           "#00cc96",
           "#ab63fa",
           "#FFA15A",
           "#19d3f3",
           "#FF6692",
           "#B6E880",
           "#FF97FF",
           "#FECB52"
          ],
          "font": {
           "color": "#2a3f5f"
          },
          "geo": {
           "bgcolor": "white",
           "lakecolor": "white",
           "landcolor": "#E5ECF6",
           "showlakes": true,
           "showland": true,
           "subunitcolor": "white"
          },
          "hoverlabel": {
           "align": "left"
          },
          "hovermode": "closest",
          "mapbox": {
           "style": "light"
          },
          "paper_bgcolor": "white",
          "plot_bgcolor": "#E5ECF6",
          "polar": {
           "angularaxis": {
            "gridcolor": "white",
            "linecolor": "white",
            "ticks": ""
           },
           "bgcolor": "#E5ECF6",
           "radialaxis": {
            "gridcolor": "white",
            "linecolor": "white",
            "ticks": ""
           }
          },
          "scene": {
           "xaxis": {
            "backgroundcolor": "#E5ECF6",
            "gridcolor": "white",
            "gridwidth": 2,
            "linecolor": "white",
            "showbackground": true,
            "ticks": "",
            "zerolinecolor": "white"
           },
           "yaxis": {
            "backgroundcolor": "#E5ECF6",
            "gridcolor": "white",
            "gridwidth": 2,
            "linecolor": "white",
            "showbackground": true,
            "ticks": "",
            "zerolinecolor": "white"
           },
           "zaxis": {
            "backgroundcolor": "#E5ECF6",
            "gridcolor": "white",
            "gridwidth": 2,
            "linecolor": "white",
            "showbackground": true,
            "ticks": "",
            "zerolinecolor": "white"
           }
          },
          "shapedefaults": {
           "line": {
            "color": "#2a3f5f"
           }
          },
          "ternary": {
           "aaxis": {
            "gridcolor": "white",
            "linecolor": "white",
            "ticks": ""
           },
           "baxis": {
            "gridcolor": "white",
            "linecolor": "white",
            "ticks": ""
           },
           "bgcolor": "#E5ECF6",
           "caxis": {
            "gridcolor": "white",
            "linecolor": "white",
            "ticks": ""
           }
          },
          "title": {
           "x": 0.05
          },
          "xaxis": {
           "automargin": true,
           "gridcolor": "white",
           "linecolor": "white",
           "ticks": "",
           "title": {
            "standoff": 15
           },
           "zerolinecolor": "white",
           "zerolinewidth": 2
          },
          "yaxis": {
           "automargin": true,
           "gridcolor": "white",
           "linecolor": "white",
           "ticks": "",
           "title": {
            "standoff": 15
           },
           "zerolinecolor": "white",
           "zerolinewidth": 2
          }
         }
        },
        "title": {
         "text": "Comparison of '['1_year_mi', '10_year_mi']' by 'year'"
        },
        "xaxis": {
         "anchor": "y",
         "autorange": true,
         "domain": [
          0,
          0.94
         ],
         "range": [
          1976.5468582006008,
          2021.4531417993992
         ],
         "title": {
          "text": "year"
         },
         "type": "linear"
        },
        "yaxis": {
         "anchor": "x",
         "autorange": true,
         "domain": [
          0,
          1
         ],
         "range": [
          -0.03194323682277569,
          0.04008574042786741
         ],
         "title": {
          "text": "Rates"
         },
         "type": "linear"
        },
        "yaxis2": {
         "anchor": "x",
         "overlaying": "y",
         "side": "right"
        }
       }
      },
      "image/png": "[encoded data removed]",
      "text/html": [
       "<div>                            <div id=\"0eaae81a-9cb3-4665-b9a5-f0f7fd390dc1\" class=\"plotly-graph-div\" style=\"height:525px; width:100%;\"></div>            <script type=\"text/javascript\">                require([\"plotly\"], function(Plotly) {                    window.PLOTLYENV=window.PLOTLYENV || {};                                    if (document.getElementById(\"0eaae81a-9cb3-4665-b9a5-f0f7fd390dc1\")) {                    Plotly.newPlot(                        \"0eaae81a-9cb3-4665-b9a5-f0f7fd390dc1\",                        [{\"mode\":\"lines+markers\",\"name\":\"1_year_mi\",\"x\":[1979,1980,1981,1982,1983,1984,1985,1986,1987,1988,1989,1990,1991,1992,1993,1994,1995,1996,1997,1998,1999,2000,2001,2002,2003,2004,2005,2006,2007,2008,2009,2010,2011,2012,2013,2014,2015,2016,2017,2018,2019],\"y\":[null,-0.0268411842675218,0.0312411538479741,0.02268530345909714,-0.0037370360248765166,0.008135482573245478,-0.005300328055118486,0.008741237804256619,0.009465070440056178,-0.005527866797981895,0.02588986444806085,0.01240930071744284,0.016914896393572354,0.018998342648975486,-0.022499065174511612,0.013520159725593395,0.004557944866573349,0.017721705438570545,0.01812482638945756,0.009393862114966178,0.009971927196442465,0.007319405291119296,0.011675418117161218,0.003273198912643549,0.014256575586252596,0.03498368787261352,-0.0017590508715228381,0.02821577430045119,0.020767731863609584,0.0002745169671187764,0.03250723423779678,0.0035091737341254037,0.007423748483241344,0.011514997393901938,0.0012136393145739666,0.009985232712147019,-0.01137252232135122,0.006094165932442497,-0.004005958451447134,0.01148919059820197,0.01175201365458134],\"type\":\"scatter\",\"xaxis\":\"x\",\"yaxis\":\"y\"},{\"mode\":\"lines+markers\",\"name\":\"10_year_mi\",\"x\":[1979,1980,1981,1982,1983,1984,1985,1986,1987,1988,1989,1990,1991,1992,1993,1994,1995,1996,1997,1998,1999,2000,2001,2002,2003,2004,2005,2006,2007,2008,2009,2010,2011,2012,2013,2014,2015,2016,2017,2018,2019],\"y\":[null,null,null,null,null,null,null,null,null,null,0.006475169742719167,0.01040021824121563,0.008967592495775455,0.008598896414763291,0.0067226934997997815,0.007261161215034573,0.008246988507203757,0.009145035270635149,0.010011010865575288,0.011503183756870095,0.009911390031708257,0.009402400489075901,0.008878452661434787,0.007305938287801595,0.010981502363878015,0.013127855178580028,0.01249615560477041,0.013545562490958474,0.013809853038373676,0.012897918523588936,0.015151449227724368,0.014770426072024978,0.01434525910863299,0.015169438956758829,0.013865145329590966,0.011365299813544316,0.010403952668561478,0.008191791831760609,0.005714422800254937,0.006835890163363256,0.004760368105041712],\"type\":\"scatter\",\"xaxis\":\"x\",\"yaxis\":\"y\"}],                        {\"template\":{\"data\":{\"histogram2dcontour\":[{\"type\":\"histogram2dcontour\",\"colorbar\":{\"outlinewidth\":0,\"ticks\":\"\"},\"colorscale\":[[0.0,\"#0d0887\"],[0.1111111111111111,\"#46039f\"],[0.2222222222222222,\"#7201a8\"],[0.3333333333333333,\"#9c179e\"],[0.4444444444444444,\"#bd3786\"],[0.5555555555555556,\"#d8576b\"],[0.6666666666666666,\"#ed7953\"],[0.7777777777777778,\"#fb9f3a\"],[0.8888888888888888,\"#fdca26\"],[1.0,\"#f0f921\"]]}],\"choropleth\":[{\"type\":\"choropleth\",\"colorbar\":{\"outlinewidth\":0,\"ticks\":\"\"}}],\"histogram2d\":[{\"type\":\"histogram2d\",\"colorbar\":{\"outlinewidth\":0,\"ticks\":\"\"},\"colorscale\":[[0.0,\"#0d0887\"],[0.1111111111111111,\"#46039f\"],[0.2222222222222222,\"#7201a8\"],[0.3333333333333333,\"#9c179e\"],[0.4444444444444444,\"#bd3786\"],[0.5555555555555556,\"#d8576b\"],[0.6666666666666666,\"#ed7953\"],[0.7777777777777778,\"#fb9f3a\"],[0.8888888888888888,\"#fdca26\"],[1.0,\"#f0f921\"]]}],\"heatmap\":[{\"type\":\"heatmap\",\"colorbar\":{\"outlinewidth\":0,\"ticks\":\"\"},\"colorscale\":[[0.0,\"#0d0887\"],[0.1111111111111111,\"#46039f\"],[0.2222222222222222,\"#7201a8\"],[0.3333333333333333,\"#9c179e\"],[0.4444444444444444,\"#bd3786\"],[0.5555555555555556,\"#d8576b\"],[0.6666666666666666,\"#ed7953\"],[0.7777777777777778,\"#fb9f3a\"],[0.8888888888888888,\"#fdca26\"],[1.0,\"#f0f921\"]]}],\"heatmapgl\":[{\"type\":\"heatmapgl\",\"colorbar\":{\"outlinewidth\":0,\"ticks\":\"\"},\"colorscale\":[[0.0,\"#0d0887\"],[0.1111111111111111,\"#46039f\"],[0.2222222222222222,\"#7201a8\"],[0.3333333333333333,\"#9c179e\"],[0.4444444444444444,\"#bd3786\"],[0.5555555555555556,\"#d8576b\"],[0.6666666666666666,\"#ed7953\"],[0.7777777777777778,\"#fb9f3a\"],[0.8888888888888888,\"#fdca26\"],[1.0,\"#f0f921\"]]}],\"contourcarpet\":[{\"type\":\"contourcarpet\",\"colorbar\":{\"outlinewidth\":0,\"ticks\":\"\"}}],\"contour\":[{\"type\":\"contour\",\"colorbar\":{\"outlinewidth\":0,\"ticks\":\"\"},\"colorscale\":[[0.0,\"#0d0887\"],[0.1111111111111111,\"#46039f\"],[0.2222222222222222,\"#7201a8\"],[0.3333333333333333,\"#9c179e\"],[0.4444444444444444,\"#bd3786\"],[0.5555555555555556,\"#d8576b\"],[0.6666666666666666,\"#ed7953\"],[0.7777777777777778,\"#fb9f3a\"],[0.8888888888888888,\"#fdca26\"],[1.0,\"#f0f921\"]]}],\"surface\":[{\"type\":\"surface\",\"colorbar\":{\"outlinewidth\":0,\"ticks\":\"\"},\"colorscale\":[[0.0,\"#0d0887\"],[0.1111111111111111,\"#46039f\"],[0.2222222222222222,\"#7201a8\"],[0.3333333333333333,\"#9c179e\"],[0.4444444444444444,\"#bd3786\"],[0.5555555555555556,\"#d8576b\"],[0.6666666666666666,\"#ed7953\"],[0.7777777777777778,\"#fb9f3a\"],[0.8888888888888888,\"#fdca26\"],[1.0,\"#f0f921\"]]}],\"mesh3d\":[{\"type\":\"mesh3d\",\"colorbar\":{\"outlinewidth\":0,\"ticks\":\"\"}}],\"scatter\":[{\"fillpattern\":{\"fillmode\":\"overlay\",\"size\":10,\"solidity\":0.2},\"type\":\"scatter\"}],\"parcoords\":[{\"type\":\"parcoords\",\"line\":{\"colorbar\":{\"outlinewidth\":0,\"ticks\":\"\"}}}],\"scatterpolargl\":[{\"type\":\"scatterpolargl\",\"marker\":{\"colorbar\":{\"outlinewidth\":0,\"ticks\":\"\"}}}],\"bar\":[{\"error_x\":{\"color\":\"#2a3f5f\"},\"error_y\":{\"color\":\"#2a3f5f\"},\"marker\":{\"line\":{\"color\":\"#E5ECF6\",\"width\":0.5},\"pattern\":{\"fillmode\":\"overlay\",\"size\":10,\"solidity\":0.2}},\"type\":\"bar\"}],\"scattergeo\":[{\"type\":\"scattergeo\",\"marker\":{\"colorbar\":{\"outlinewidth\":0,\"ticks\":\"\"}}}],\"scatterpolar\":[{\"type\":\"scatterpolar\",\"marker\":{\"colorbar\":{\"outlinewidth\":0,\"ticks\":\"\"}}}],\"histogram\":[{\"marker\":{\"pattern\":{\"fillmode\":\"overlay\",\"size\":10,\"solidity\":0.2}},\"type\":\"histogram\"}],\"scattergl\":[{\"type\":\"scattergl\",\"marker\":{\"colorbar\":{\"outlinewidth\":0,\"ticks\":\"\"}}}],\"scatter3d\":[{\"type\":\"scatter3d\",\"line\":{\"colorbar\":{\"outlinewidth\":0,\"ticks\":\"\"}},\"marker\":{\"colorbar\":{\"outlinewidth\":0,\"ticks\":\"\"}}}],\"scattermapbox\":[{\"type\":\"scattermapbox\",\"marker\":{\"colorbar\":{\"outlinewidth\":0,\"ticks\":\"\"}}}],\"scatterternary\":[{\"type\":\"scatterternary\",\"marker\":{\"colorbar\":{\"outlinewidth\":0,\"ticks\":\"\"}}}],\"scattercarpet\":[{\"type\":\"scattercarpet\",\"marker\":{\"colorbar\":{\"outlinewidth\":0,\"ticks\":\"\"}}}],\"carpet\":[{\"aaxis\":{\"endlinecolor\":\"#2a3f5f\",\"gridcolor\":\"white\",\"linecolor\":\"white\",\"minorgridcolor\":\"white\",\"startlinecolor\":\"#2a3f5f\"},\"baxis\":{\"endlinecolor\":\"#2a3f5f\",\"gridcolor\":\"white\",\"linecolor\":\"white\",\"minorgridcolor\":\"white\",\"startlinecolor\":\"#2a3f5f\"},\"type\":\"carpet\"}],\"table\":[{\"cells\":{\"fill\":{\"color\":\"#EBF0F8\"},\"line\":{\"color\":\"white\"}},\"header\":{\"fill\":{\"color\":\"#C8D4E3\"},\"line\":{\"color\":\"white\"}},\"type\":\"table\"}],\"barpolar\":[{\"marker\":{\"line\":{\"color\":\"#E5ECF6\",\"width\":0.5},\"pattern\":{\"fillmode\":\"overlay\",\"size\":10,\"solidity\":0.2}},\"type\":\"barpolar\"}],\"pie\":[{\"automargin\":true,\"type\":\"pie\"}]},\"layout\":{\"autotypenumbers\":\"strict\",\"colorway\":[\"#636efa\",\"#EF553B\",\"#00cc96\",\"#ab63fa\",\"#FFA15A\",\"#19d3f3\",\"#FF6692\",\"#B6E880\",\"#FF97FF\",\"#FECB52\"],\"font\":{\"color\":\"#2a3f5f\"},\"hovermode\":\"closest\",\"hoverlabel\":{\"align\":\"left\"},\"paper_bgcolor\":\"white\",\"plot_bgcolor\":\"#E5ECF6\",\"polar\":{\"bgcolor\":\"#E5ECF6\",\"angularaxis\":{\"gridcolor\":\"white\",\"linecolor\":\"white\",\"ticks\":\"\"},\"radialaxis\":{\"gridcolor\":\"white\",\"linecolor\":\"white\",\"ticks\":\"\"}},\"ternary\":{\"bgcolor\":\"#E5ECF6\",\"aaxis\":{\"gridcolor\":\"white\",\"linecolor\":\"white\",\"ticks\":\"\"},\"baxis\":{\"gridcolor\":\"white\",\"linecolor\":\"white\",\"ticks\":\"\"},\"caxis\":{\"gridcolor\":\"white\",\"linecolor\":\"white\",\"ticks\":\"\"}},\"coloraxis\":{\"colorbar\":{\"outlinewidth\":0,\"ticks\":\"\"}},\"colorscale\":{\"sequential\":[[0.0,\"#0d0887\"],[0.1111111111111111,\"#46039f\"],[0.2222222222222222,\"#7201a8\"],[0.3333333333333333,\"#9c179e\"],[0.4444444444444444,\"#bd3786\"],[0.5555555555555556,\"#d8576b\"],[0.6666666666666666,\"#ed7953\"],[0.7777777777777778,\"#fb9f3a\"],[0.8888888888888888,\"#fdca26\"],[1.0,\"#f0f921\"]],\"sequentialminus\":[[0.0,\"#0d0887\"],[0.1111111111111111,\"#46039f\"],[0.2222222222222222,\"#7201a8\"],[0.3333333333333333,\"#9c179e\"],[0.4444444444444444,\"#bd3786\"],[0.5555555555555556,\"#d8576b\"],[0.6666666666666666,\"#ed7953\"],[0.7777777777777778,\"#fb9f3a\"],[0.8888888888888888,\"#fdca26\"],[1.0,\"#f0f921\"]],\"diverging\":[[0,\"#8e0152\"],[0.1,\"#c51b7d\"],[0.2,\"#de77ae\"],[0.3,\"#f1b6da\"],[0.4,\"#fde0ef\"],[0.5,\"#f7f7f7\"],[0.6,\"#e6f5d0\"],[0.7,\"#b8e186\"],[0.8,\"#7fbc41\"],[0.9,\"#4d9221\"],[1,\"#276419\"]]},\"xaxis\":{\"gridcolor\":\"white\",\"linecolor\":\"white\",\"ticks\":\"\",\"title\":{\"standoff\":15},\"zerolinecolor\":\"white\",\"automargin\":true,\"zerolinewidth\":2},\"yaxis\":{\"gridcolor\":\"white\",\"linecolor\":\"white\",\"ticks\":\"\",\"title\":{\"standoff\":15},\"zerolinecolor\":\"white\",\"automargin\":true,\"zerolinewidth\":2},\"scene\":{\"xaxis\":{\"backgroundcolor\":\"#E5ECF6\",\"gridcolor\":\"white\",\"linecolor\":\"white\",\"showbackground\":true,\"ticks\":\"\",\"zerolinecolor\":\"white\",\"gridwidth\":2},\"yaxis\":{\"backgroundcolor\":\"#E5ECF6\",\"gridcolor\":\"white\",\"linecolor\":\"white\",\"showbackground\":true,\"ticks\":\"\",\"zerolinecolor\":\"white\",\"gridwidth\":2},\"zaxis\":{\"backgroundcolor\":\"#E5ECF6\",\"gridcolor\":\"white\",\"linecolor\":\"white\",\"showbackground\":true,\"ticks\":\"\",\"zerolinecolor\":\"white\",\"gridwidth\":2}},\"shapedefaults\":{\"line\":{\"color\":\"#2a3f5f\"}},\"annotationdefaults\":{\"arrowcolor\":\"#2a3f5f\",\"arrowhead\":0,\"arrowwidth\":1},\"geo\":{\"bgcolor\":\"white\",\"landcolor\":\"#E5ECF6\",\"subunitcolor\":\"white\",\"showland\":true,\"showlakes\":true,\"lakecolor\":\"white\"},\"title\":{\"x\":0.05},\"mapbox\":{\"style\":\"light\"}}},\"xaxis\":{\"anchor\":\"y\",\"domain\":[0.0,0.94],\"title\":{\"text\":\"year\"}},\"yaxis\":{\"anchor\":\"x\",\"domain\":[0.0,1.0],\"type\":\"-\",\"title\":{\"text\":\"Rates\"}},\"yaxis2\":{\"anchor\":\"x\",\"overlaying\":\"y\",\"side\":\"right\"},\"title\":{\"text\":\"Comparison of '['1_year_mi', '10_year_mi']' by 'year'\"}},                        {\"responsive\": true}                    ).then(function(){\n",
       "                            \n",
       "var gd = document.getElementById('0eaae81a-9cb3-4665-b9a5-f0f7fd390dc1');\n",
       "var x = new MutationObserver(function (mutations, observer) {{\n",
       "        var display = window.getComputedStyle(gd).display;\n",
       "        if (!display || display === 'none') {{\n",
       "            console.log([gd, 'removed!']);\n",
       "            Plotly.purge(gd);\n",
       "            observer.disconnect();\n",
       "        }}\n",
       "}});\n",
       "\n",
       "// Listen for the removal of the full notebook cells\n",
       "var notebookContainer = gd.closest('#notebook-container');\n",
       "if (notebookContainer) {{\n",
       "    x.observe(notebookContainer, {childList: true});\n",
       "}}\n",
       "\n",
       "// Listen for the clearing of the current output cell\n",
       "var outputEl = gd.closest('.output');\n",
       "if (outputEl) {{\n",
       "    x.observe(outputEl, {childList: true});\n",
       "}}\n",
       "\n",
       "                        })                };                });            </script>        </div>"
      ]
     },
     "metadata": {},
     "output_type": "display_data"
    }
   ],
   "source": [
    "charters.compare_rates(\n",
    "    df=mi_df,\n",
    "    x_axis=\"year\",\n",
    "    rates=[\"1_year_mi\", \"10_year_mi\"],\n",
    ")"
   ]
  },
  {
   "cell_type": "markdown",
   "id": "6920b235-18c0-43b0-b6fe-0f513bf0fa87",
   "metadata": {},
   "source": [
    "## Check"
   ]
  },
  {
   "cell_type": "markdown",
   "id": "10b716f1-8ac3-47c1-97a7-536ba42cef8c",
   "metadata": {},
   "source": [
    "### CDC Query"
   ]
  },
  {
   "cell_type": "code",
   "execution_count": 80,
   "id": "c85f7542-1019-4037-831a-cec29866c26c",
   "metadata": {},
   "outputs": [],
   "source": [
    "df = cdc.get_cdc_data_xml(xml_filename=\"mcd99_check.xml\")"
   ]
  },
  {
   "cell_type": "code",
   "execution_count": 81,
   "id": "ce4417f2-c3df-46aa-adf0-21e28287cd31",
   "metadata": {},
   "outputs": [
    {
     "name": "stdout",
     "output_type": "stream",
     "text": [
      "\u001b[37m 2024-07-30 22:02:12 \u001b[0m|\u001b[37m morai.utils.sql \u001b[0m|\u001b[32m INFO     \u001b[0m|\u001b[32m exporting data to SQLite database: files/integrations/cdc/cdc.sql and table: mcd99_check \u001b[0m\n"
     ]
    }
   ],
   "source": [
    "sql.export_to_sql(\n",
    "    df=df,\n",
    "    db_filepath=db_filepath,\n",
    "    table_name=\"mcd99_check\",\n",
    "    if_exists=\"replace\",\n",
    ")"
   ]
  },
  {
   "cell_type": "code",
   "execution_count": 89,
   "id": "3b159f98-0cb4-4ced-be13-e69872f68605",
   "metadata": {},
   "outputs": [],
   "source": [
    "df = cdc.get_cdc_data_xml(xml_filename=\"mcd18_check.xml\")"
   ]
  },
  {
   "cell_type": "code",
   "execution_count": 90,
   "id": "8645b987-7a67-4bcd-8137-9060473f6888",
   "metadata": {},
   "outputs": [
    {
     "name": "stdout",
     "output_type": "stream",
     "text": [
      "\u001b[37m 2024-07-30 22:04:06 \u001b[0m|\u001b[37m morai.utils.sql \u001b[0m|\u001b[32m INFO     \u001b[0m|\u001b[32m exporting data to SQLite database: files/integrations/cdc/cdc.sql and table: mcd18_check \u001b[0m\n"
     ]
    }
   ],
   "source": [
    "sql.export_to_sql(\n",
    "    df=df,\n",
    "    db_filepath=db_filepath,\n",
    "    table_name=\"mcd18_check\",\n",
    "    if_exists=\"replace\",\n",
    ")"
   ]
  },
  {
   "cell_type": "markdown",
   "id": "13af34bf-9f1f-41a4-9efc-932423d41cac",
   "metadata": {},
   "source": [
    "### SQL"
   ]
  },
  {
   "cell_type": "code",
   "execution_count": 240,
   "id": "3c552552-37d4-4590-9e2e-fee3911c47e8",
   "metadata": {},
   "outputs": [
    {
     "name": "stdout",
     "output_type": "stream",
     "text": [
      "\u001b[37m 2024-07-30 23:16:42 \u001b[0m|\u001b[37m morai.integrations.cdc \u001b[0m|\u001b[32m INFO     \u001b[0m|\u001b[32m table `mcd99_check` last updated at: 2024-07-30 22:02:12, rows: 22 \u001b[0m\n"
     ]
    }
   ],
   "source": [
    "mcd99_check = cdc.get_cdc_data_sql(db_filepath=db_filepath, table_name=\"mcd99_check\")"
   ]
  },
  {
   "cell_type": "code",
   "execution_count": 241,
   "id": "ad0b9dec-0ae5-4db5-a14c-06b96c77a20d",
   "metadata": {},
   "outputs": [
    {
     "name": "stdout",
     "output_type": "stream",
     "text": [
      "\u001b[37m 2024-07-30 23:16:42 \u001b[0m|\u001b[37m morai.integrations.cdc \u001b[0m|\u001b[32m INFO     \u001b[0m|\u001b[32m table `mcd18_check` last updated at: 2024-07-30 22:04:06, rows: 7 \u001b[0m\n"
     ]
    }
   ],
   "source": [
    "mcd18_check = cdc.get_cdc_data_sql(db_filepath=db_filepath, table_name=\"mcd18_check\")"
   ]
  },
  {
   "cell_type": "markdown",
   "id": "08ff6433-c9ad-4bf0-a629-12a6a8ee971d",
   "metadata": {},
   "source": [
    "### Compare"
   ]
  },
  {
   "cell_type": "code",
   "execution_count": 306,
   "id": "b0a259ba-1c99-433b-85f9-e1c683095a6d",
   "metadata": {},
   "outputs": [
    {
     "data": {
      "text/html": [
       "<div>\n",
       "<style scoped>\n",
       "    .dataframe tbody tr th:only-of-type {\n",
       "        vertical-align: middle;\n",
       "    }\n",
       "\n",
       "    .dataframe tbody tr th {\n",
       "        vertical-align: top;\n",
       "    }\n",
       "\n",
       "    .dataframe thead th {\n",
       "        text-align: right;\n",
       "    }\n",
       "</style>\n",
       "<table border=\"1\" class=\"dataframe\">\n",
       "  <thead>\n",
       "    <tr style=\"text-align: right;\">\n",
       "      <th></th>\n",
       "      <th>year</th>\n",
       "      <th>deaths_left</th>\n",
       "      <th>deaths_right</th>\n",
       "      <th>deaths_diff</th>\n",
       "    </tr>\n",
       "  </thead>\n",
       "  <tbody>\n",
       "    <tr>\n",
       "      <th>0</th>\n",
       "      <td>1999</td>\n",
       "      <td>2391399</td>\n",
       "      <td>2,091,064.00</td>\n",
       "      <td>300,335.00</td>\n",
       "    </tr>\n",
       "    <tr>\n",
       "      <th>1</th>\n",
       "      <td>2000</td>\n",
       "      <td>2403351</td>\n",
       "      <td>2,103,036.00</td>\n",
       "      <td>300,315.00</td>\n",
       "    </tr>\n",
       "    <tr>\n",
       "      <th>2</th>\n",
       "      <td>2001</td>\n",
       "      <td>2416425</td>\n",
       "      <td>2,116,982.00</td>\n",
       "      <td>299,443.00</td>\n",
       "    </tr>\n",
       "    <tr>\n",
       "      <th>3</th>\n",
       "      <td>2002</td>\n",
       "      <td>2443387</td>\n",
       "      <td>2,139,397.00</td>\n",
       "      <td>303,990.00</td>\n",
       "    </tr>\n",
       "    <tr>\n",
       "      <th>4</th>\n",
       "      <td>2003</td>\n",
       "      <td>2448288</td>\n",
       "      <td>2,143,235.00</td>\n",
       "      <td>305,053.00</td>\n",
       "    </tr>\n",
       "    <tr>\n",
       "      <th>5</th>\n",
       "      <td>2004</td>\n",
       "      <td>2397615</td>\n",
       "      <td>2,098,807.00</td>\n",
       "      <td>298,808.00</td>\n",
       "    </tr>\n",
       "    <tr>\n",
       "      <th>6</th>\n",
       "      <td>2005</td>\n",
       "      <td>2448017</td>\n",
       "      <td>2,142,958.00</td>\n",
       "      <td>305,059.00</td>\n",
       "    </tr>\n",
       "    <tr>\n",
       "      <th>7</th>\n",
       "      <td>2006</td>\n",
       "      <td>2426264</td>\n",
       "      <td>2,124,761.00</td>\n",
       "      <td>301,503.00</td>\n",
       "    </tr>\n",
       "    <tr>\n",
       "      <th>8</th>\n",
       "      <td>2007</td>\n",
       "      <td>2423712</td>\n",
       "      <td>2,121,006.00</td>\n",
       "      <td>302,706.00</td>\n",
       "    </tr>\n",
       "    <tr>\n",
       "      <th>9</th>\n",
       "      <td>2008</td>\n",
       "      <td>2471984</td>\n",
       "      <td>2,165,065.00</td>\n",
       "      <td>306,919.00</td>\n",
       "    </tr>\n",
       "    <tr>\n",
       "      <th>10</th>\n",
       "      <td>2009</td>\n",
       "      <td>2437163</td>\n",
       "      <td>2,132,072.00</td>\n",
       "      <td>305,091.00</td>\n",
       "    </tr>\n",
       "    <tr>\n",
       "      <th>11</th>\n",
       "      <td>2010</td>\n",
       "      <td>2468435</td>\n",
       "      <td>2,159,223.00</td>\n",
       "      <td>309,212.00</td>\n",
       "    </tr>\n",
       "    <tr>\n",
       "      <th>12</th>\n",
       "      <td>2011</td>\n",
       "      <td>2515458</td>\n",
       "      <td>2,202,553.00</td>\n",
       "      <td>312,905.00</td>\n",
       "    </tr>\n",
       "    <tr>\n",
       "      <th>13</th>\n",
       "      <td>2012</td>\n",
       "      <td>2543279</td>\n",
       "      <td>2,226,517.00</td>\n",
       "      <td>316,762.00</td>\n",
       "    </tr>\n",
       "    <tr>\n",
       "      <th>14</th>\n",
       "      <td>2013</td>\n",
       "      <td>2596993</td>\n",
       "      <td>2,272,702.00</td>\n",
       "      <td>324,291.00</td>\n",
       "    </tr>\n",
       "    <tr>\n",
       "      <th>15</th>\n",
       "      <td>2014</td>\n",
       "      <td>2626418</td>\n",
       "      <td>2,298,131.00</td>\n",
       "      <td>328,287.00</td>\n",
       "    </tr>\n",
       "    <tr>\n",
       "      <th>16</th>\n",
       "      <td>2015</td>\n",
       "      <td>2712630</td>\n",
       "      <td>2,375,374.00</td>\n",
       "      <td>337,256.00</td>\n",
       "    </tr>\n",
       "    <tr>\n",
       "      <th>17</th>\n",
       "      <td>2016</td>\n",
       "      <td>2744248</td>\n",
       "      <td>2,401,958.00</td>\n",
       "      <td>342,290.00</td>\n",
       "    </tr>\n",
       "    <tr>\n",
       "      <th>18</th>\n",
       "      <td>2017</td>\n",
       "      <td>2813503</td>\n",
       "      <td>2,462,442.00</td>\n",
       "      <td>351,061.00</td>\n",
       "    </tr>\n",
       "    <tr>\n",
       "      <th>19</th>\n",
       "      <td>2018</td>\n",
       "      <td>2839205</td>\n",
       "      <td>2,484,123.00</td>\n",
       "      <td>355,082.00</td>\n",
       "    </tr>\n",
       "    <tr>\n",
       "      <th>20</th>\n",
       "      <td>2019</td>\n",
       "      <td>2854838</td>\n",
       "      <td>2,497,117.00</td>\n",
       "      <td>357,721.00</td>\n",
       "    </tr>\n",
       "    <tr>\n",
       "      <th>21</th>\n",
       "      <td>2020</td>\n",
       "      <td>3383729</td>\n",
       "      <td>2,949,864.00</td>\n",
       "      <td>433,865.00</td>\n",
       "    </tr>\n",
       "  </tbody>\n",
       "</table>\n",
       "</div>"
      ],
      "text/plain": [
       "    year  deaths_left  deaths_right  deaths_diff\n",
       "0   1999      2391399  2,091,064.00   300,335.00\n",
       "1   2000      2403351  2,103,036.00   300,315.00\n",
       "2   2001      2416425  2,116,982.00   299,443.00\n",
       "3   2002      2443387  2,139,397.00   303,990.00\n",
       "4   2003      2448288  2,143,235.00   305,053.00\n",
       "5   2004      2397615  2,098,807.00   298,808.00\n",
       "6   2005      2448017  2,142,958.00   305,059.00\n",
       "7   2006      2426264  2,124,761.00   301,503.00\n",
       "8   2007      2423712  2,121,006.00   302,706.00\n",
       "9   2008      2471984  2,165,065.00   306,919.00\n",
       "10  2009      2437163  2,132,072.00   305,091.00\n",
       "11  2010      2468435  2,159,223.00   309,212.00\n",
       "12  2011      2515458  2,202,553.00   312,905.00\n",
       "13  2012      2543279  2,226,517.00   316,762.00\n",
       "14  2013      2596993  2,272,702.00   324,291.00\n",
       "15  2014      2626418  2,298,131.00   328,287.00\n",
       "16  2015      2712630  2,375,374.00   337,256.00\n",
       "17  2016      2744248  2,401,958.00   342,290.00\n",
       "18  2017      2813503  2,462,442.00   351,061.00\n",
       "19  2018      2839205  2,484,123.00   355,082.00\n",
       "20  2019      2854838  2,497,117.00   357,721.00\n",
       "21  2020      3383729  2,949,864.00   433,865.00"
      ]
     },
     "execution_count": 306,
     "metadata": {},
     "output_type": "execute_result"
    }
   ],
   "source": [
    "cdc.compare_dfs(mcd99_check, mi)"
   ]
  },
  {
   "cell_type": "code",
   "execution_count": 308,
   "id": "aecfdc40-326c-4e2d-99e2-25bde5c50b5d",
   "metadata": {},
   "outputs": [
    {
     "data": {
      "text/html": [
       "<div>\n",
       "<style scoped>\n",
       "    .dataframe tbody tr th:only-of-type {\n",
       "        vertical-align: middle;\n",
       "    }\n",
       "\n",
       "    .dataframe tbody tr th {\n",
       "        vertical-align: top;\n",
       "    }\n",
       "\n",
       "    .dataframe thead th {\n",
       "        text-align: right;\n",
       "    }\n",
       "</style>\n",
       "<table border=\"1\" class=\"dataframe\">\n",
       "  <thead>\n",
       "    <tr style=\"text-align: right;\">\n",
       "      <th></th>\n",
       "      <th>year</th>\n",
       "      <th>deaths_left</th>\n",
       "      <th>deaths_right</th>\n",
       "      <th>deaths_diff</th>\n",
       "    </tr>\n",
       "  </thead>\n",
       "  <tbody>\n",
       "    <tr>\n",
       "      <th>0</th>\n",
       "      <td>2018</td>\n",
       "      <td>2839205</td>\n",
       "      <td>NaN</td>\n",
       "      <td>NaN</td>\n",
       "    </tr>\n",
       "    <tr>\n",
       "      <th>1</th>\n",
       "      <td>2019</td>\n",
       "      <td>2854838</td>\n",
       "      <td>NaN</td>\n",
       "      <td>NaN</td>\n",
       "    </tr>\n",
       "    <tr>\n",
       "      <th>2</th>\n",
       "      <td>2020</td>\n",
       "      <td>3383729</td>\n",
       "      <td>NaN</td>\n",
       "      <td>NaN</td>\n",
       "    </tr>\n",
       "    <tr>\n",
       "      <th>3</th>\n",
       "      <td>2021</td>\n",
       "      <td>3464231</td>\n",
       "      <td>3,464,231.00</td>\n",
       "      <td>0.00</td>\n",
       "    </tr>\n",
       "    <tr>\n",
       "      <th>4</th>\n",
       "      <td>2022</td>\n",
       "      <td>3279857</td>\n",
       "      <td>3,279,857.00</td>\n",
       "      <td>0.00</td>\n",
       "    </tr>\n",
       "    <tr>\n",
       "      <th>5</th>\n",
       "      <td>2023</td>\n",
       "      <td>3090967</td>\n",
       "      <td>3,090,967.00</td>\n",
       "      <td>0.00</td>\n",
       "    </tr>\n",
       "    <tr>\n",
       "      <th>6</th>\n",
       "      <td>2024</td>\n",
       "      <td>1640826</td>\n",
       "      <td>1,640,826.00</td>\n",
       "      <td>0.00</td>\n",
       "    </tr>\n",
       "  </tbody>\n",
       "</table>\n",
       "</div>"
      ],
      "text/plain": [
       "   year  deaths_left  deaths_right  deaths_diff\n",
       "0  2018      2839205           NaN          NaN\n",
       "1  2019      2854838           NaN          NaN\n",
       "2  2020      3383729           NaN          NaN\n",
       "3  2021      3464231  3,464,231.00         0.00\n",
       "4  2022      3279857  3,279,857.00         0.00\n",
       "5  2023      3090967  3,090,967.00         0.00\n",
       "6  2024      1640826  1,640,826.00         0.00"
      ]
     },
     "execution_count": 308,
     "metadata": {},
     "output_type": "execute_result"
    }
   ],
   "source": [
    "cdc.compare_dfs(mcd18_check, mcd18_cod)"
   ]
  },
  {
   "cell_type": "markdown",
   "id": "17fe0898-e4f5-480d-b94c-1c765d38885f",
   "metadata": {},
   "source": [
    "## Other Functions"
   ]
  },
  {
   "cell_type": "code",
   "execution_count": 293,
   "id": "9ce7ab01-1f0d-4c28-903b-85387ce8d128",
   "metadata": {},
   "outputs": [
    {
     "name": "stdout",
     "output_type": "stream",
     "text": [
      "\u001b[37m 2024-07-31 00:23:38 \u001b[0m|\u001b[37m morai.utils.sql \u001b[0m|\u001b[32m INFO     \u001b[0m|\u001b[32m table `test` removed from `files/integrations/cdc/cdc.sql` \u001b[0m\n"
     ]
    }
   ],
   "source": [
    "sql.table_remove(db_filepath=db_filepath, table_name=\"test\")"
   ]
  },
  {
   "cell_type": "code",
   "execution_count": 466,
   "id": "09b23966-f263-4583-baf1-5053d504b64e",
   "metadata": {},
   "outputs": [
    {
     "data": {
      "text/plain": [
       "{'year': 'INTEGER',\n",
       " 'month': 'TIMESTAMP',\n",
       " 'deaths': 'INTEGER',\n",
       " 'population': 'TEXT',\n",
       " 'crude_rate': 'TEXT',\n",
       " 'added_at': 'TEXT'}"
      ]
     },
     "execution_count": 466,
     "metadata": {},
     "output_type": "execute_result"
    }
   ],
   "source": [
    "sql.table_dtypes(db_filepath=db_filepath, table_name=\"cod_monthly\")"
   ]
  },
  {
   "cell_type": "markdown",
   "id": "091961cc-6001-449c-82e3-232b5e654d99",
   "metadata": {},
   "source": [
    "## Test"
   ]
  },
  {
   "cell_type": "code",
   "execution_count": 302,
   "id": "fe72dd8a-09c5-481a-a5d7-ce3adb746f24",
   "metadata": {},
   "outputs": [],
   "source": [
    "df = cdc.get_cdc_data_txt(txt_filename=\"mcd99_mi_q5.txt\")\n",
    "df = df.rename(columns={'ten-year_age_groups': 'age_groups'})\n",
    "df = df.drop(columns=[\"ten-year_age_groups_code\", \"gender_code\", \"year_code\"])"
   ]
  },
  {
   "cell_type": "code",
   "execution_count": 303,
   "id": "05fcf044-5d60-40d2-9430-5759632067ea",
   "metadata": {},
   "outputs": [
    {
     "name": "stdout",
     "output_type": "stream",
     "text": [
      "\u001b[37m 2024-07-31 00:24:30 \u001b[0m|\u001b[37m morai.utils.sql \u001b[0m|\u001b[32m INFO     \u001b[0m|\u001b[32m append data to SQLite database: `files/integrations/cdc/cdc.sql` and table: `test` \u001b[0m\n"
     ]
    }
   ],
   "source": [
    "sql.export_to_sql(\n",
    "    df=df,\n",
    "    db_filepath=db_filepath,\n",
    "    table_name=\"test\",\n",
    ")"
   ]
  },
  {
   "cell_type": "code",
   "execution_count": 305,
   "id": "1d74a4b6-7611-470c-9146-caf74fb7b57e",
   "metadata": {},
   "outputs": [
    {
     "name": "stdout",
     "output_type": "stream",
     "text": [
      "\u001b[37m 2024-07-31 00:25:00 \u001b[0m|\u001b[37m morai.integrations.cdc \u001b[0m|\u001b[32m INFO     \u001b[0m|\u001b[32m table `test` last updated at: 2024-07-31 00:24:30, rows: 2321 \u001b[0m\n"
     ]
    }
   ],
   "source": [
    "mi = cdc.get_cdc_data_sql(db_filepath=db_filepath, table_name=\"test\")"
   ]
  }
 ],
 "metadata": {
  "kernelspec": {
   "display_name": "morai",
   "language": "python",
   "name": "morai"
  },
  "language_info": {
   "codemirror_mode": {
    "name": "ipython",
    "version": 3
   },
   "file_extension": ".py",
   "mimetype": "text/x-python",
   "name": "python",
   "nbconvert_exporter": "python",
   "pygments_lexer": "ipython3",
   "version": "3.9.19"
  },
  "toc-autonumbering": true
 },
 "nbformat": 4,
 "nbformat_minor": 5
}
