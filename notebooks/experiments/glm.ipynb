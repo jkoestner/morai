version https://git-lfs.github.com/spec/v1
oid sha256:31ffa78edd30da2d2678318d6ac763cf103ad30d99a46f94fa3a61679c215beb
size 104595
