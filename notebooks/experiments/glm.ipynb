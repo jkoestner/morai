version https://git-lfs.github.com/spec/v1
oid sha256:6a0f316218359ad458bae4b546d20f38d8e31847d1fe422b7290f10182975ecf
size 111643
