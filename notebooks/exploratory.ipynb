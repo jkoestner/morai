version https://git-lfs.github.com/spec/v1
oid sha256:57e099b5f2a5b5143e3d9c0acf6691636ba5490c019e95662095714826b17049
size 4903838
