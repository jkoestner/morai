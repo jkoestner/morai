version https://git-lfs.github.com/spec/v1
oid sha256:39f8e8b8ae1151e8220c14dca22d5da6c6d9a6ab3e2fb02a505e2ad837f35e56
size 4710886
