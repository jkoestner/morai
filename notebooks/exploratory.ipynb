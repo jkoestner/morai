version https://git-lfs.github.com/spec/v1
oid sha256:123a6bd7bce10477380cddd120e9490b400d34f5cc269a7eaadf225d3b8f64e7
size 4908264
