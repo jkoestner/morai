version https://git-lfs.github.com/spec/v1
oid sha256:5ac4e477de2cf8a40d05fd8b64a77a124c6b49eb353476b4fc38fcbdddd079fa
size 55904
