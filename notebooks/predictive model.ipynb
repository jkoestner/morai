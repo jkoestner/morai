version https://git-lfs.github.com/spec/v1
oid sha256:cc7d43d71f2ae5aa656e7dfef2bdb01439a18af6eb91e242bb97e26d96a9e3c9
size 3893263
