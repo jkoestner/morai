version https://git-lfs.github.com/spec/v1
oid sha256:214648b61bddb98e532c86b7f02c6a63f68752d235eb133b0c796632c71c4fc8
size 8289072
