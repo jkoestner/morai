version https://git-lfs.github.com/spec/v1
oid sha256:6c8ba4b45ebb9ec658290366580231ac8a69be1fa49f52c39cfbf66298e589cd
size 7235603
