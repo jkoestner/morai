version https://git-lfs.github.com/spec/v1
oid sha256:7d36850e6d6c381f67531fbcf0039404c28f1ade3483e5072f84a9f7b343a3ef
size 6953227
