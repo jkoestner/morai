version https://git-lfs.github.com/spec/v1
oid sha256:aac8d160fe04ffb5ea794c0525a9b64173aae2a031770038fe339209967cbff5
size 7549271
