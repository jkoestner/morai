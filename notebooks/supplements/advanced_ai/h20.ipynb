{
 "cells": [
  {
   "cell_type": "markdown",
   "metadata": {},
   "source": [
    "# H2O\n",
    "\n",
    "\n",
    "h2o to do autoML\n",
    "\n",
    "https://docs.h2o.ai/h2o/latest-stable/h2o-docs/data-science/algo-params/include_algos.html\n",
    "\n",
    "Personally, I like h2o better than AutoKeras, however the structured regression is unique in AutoKeras."
   ]
  },
  {
   "cell_type": "markdown",
   "metadata": {},
   "source": [
    "# Initialize"
   ]
  },
  {
   "cell_type": "code",
   "execution_count": 1,
   "metadata": {
    "_kg_hide-input": true
   },
   "outputs": [],
   "source": [
    "import h2o\n",
    "from h2o.automl import H2OAutoML"
   ]
  },
  {
   "cell_type": "code",
   "execution_count": 17,
   "metadata": {},
   "outputs": [],
   "source": [
    "import importlib\n",
    "import os\n",
    "import sys\n",
    "\n",
    "import pandas as pd\n",
    "import polars as pl\n",
    "import numpy as np\n",
    "from sklearn.model_selection import train_test_split"
   ]
  },
  {
   "cell_type": "code",
   "execution_count": 3,
   "metadata": {},
   "outputs": [],
   "source": [
    "os.chdir(\"../../\")\n",
    "sys.path.insert(0, os.getcwd())"
   ]
  },
  {
   "cell_type": "code",
   "execution_count": 23,
   "metadata": {},
   "outputs": [],
   "source": [
    "from morai.experience import charters, experience\n",
    "from morai.forecast import preprocessors\n",
    "from morai.utils import custom_logger"
   ]
  },
  {
   "cell_type": "code",
   "execution_count": 5,
   "metadata": {},
   "outputs": [],
   "source": [
    "logger = custom_logger.setup_logging(__name__)"
   ]
  },
  {
   "cell_type": "code",
   "execution_count": 6,
   "metadata": {},
   "outputs": [],
   "source": [
    "# update log level if wanting more logging\n",
    "custom_logger.set_log_level(\"INFO\")"
   ]
  },
  {
   "cell_type": "code",
   "execution_count": 7,
   "metadata": {},
   "outputs": [],
   "source": [
    "pd.options.display.float_format = \"{:,.2f}\".format"
   ]
  },
  {
   "cell_type": "markdown",
   "metadata": {},
   "source": [
    "# Data"
   ]
  },
  {
   "cell_type": "code",
   "execution_count": 8,
   "metadata": {},
   "outputs": [],
   "source": [
    "pl_parquet_path = r\"files\\dataset\\mortality_grouped.parquet\""
   ]
  },
  {
   "cell_type": "code",
   "execution_count": 9,
   "metadata": {},
   "outputs": [],
   "source": [
    "# reading in the dataset\n",
    "# the partitioned columns need to be casted back correctly\n",
    "pl.enable_string_cache()\n",
    "lzdf = pl.scan_parquet(\n",
    "    pl_parquet_path,\n",
    ")"
   ]
  },
  {
   "cell_type": "code",
   "execution_count": 10,
   "metadata": {},
   "outputs": [
    {
     "name": "stdout",
     "output_type": "stream",
     "text": [
      "row count: 1793414 \n",
      "exposures: 9932426374835.434\n"
     ]
    }
   ],
   "source": [
    "initial_row_count = lzdf.select(pl.len()).collect().item()\n",
    "print(\n",
    "    f\"row count: {initial_row_count} \\n\"\n",
    "    f\"exposures: {lzdf.select([pl.col('amount_exposed').sum()]).collect()[0,0]}\"\n",
    ")"
   ]
  },
  {
   "cell_type": "code",
   "execution_count": 11,
   "metadata": {},
   "outputs": [],
   "source": [
    "grouped_df = lzdf.collect()"
   ]
  },
  {
   "cell_type": "code",
   "execution_count": 12,
   "metadata": {},
   "outputs": [],
   "source": [
    "grouped_df = grouped_df.to_pandas()"
   ]
  },
  {
   "cell_type": "markdown",
   "metadata": {},
   "source": [
    "# Preparing Data"
   ]
  },
  {
   "cell_type": "markdown",
   "metadata": {},
   "source": [
    "## Filter"
   ]
  },
  {
   "cell_type": "code",
   "execution_count": 13,
   "metadata": {},
   "outputs": [],
   "source": [
    "model_data = grouped_df[\n",
    "    (grouped_df[\"attained_age\"] >= 50)\n",
    "    # & (grouped_df[\"attained_age\"] <= 95)\n",
    "    & (grouped_df[\"issue_age\"] >= 30)\n",
    "    & (grouped_df[\"issue_age\"] <= 80)\n",
    "].copy()\n",
    "model_data = model_data.reset_index(drop=True)"
   ]
  },
  {
   "cell_type": "code",
   "execution_count": 14,
   "metadata": {},
   "outputs": [],
   "source": [
    "del grouped_df"
   ]
  },
  {
   "cell_type": "markdown",
   "metadata": {},
   "source": [
    "## Calculated Fields"
   ]
  },
  {
   "cell_type": "code",
   "execution_count": 18,
   "metadata": {},
   "outputs": [],
   "source": [
    "model_data[\"capped_duration\"] = model_data[\"duration\"].clip(upper=26)\n",
    "model_data[\"qx_log_raw\"] = np.log(model_data[\"qx_raw\"] + 1)\n",
    "binned_face_dict = {\n",
    "    \"01: 0 - 9,999\": \"01: 0 - 24,999\",\n",
    "    \"02: 10,000 - 24,999\": \"01: 0 - 24,999\",\n",
    "    \"03: 25,000 - 49,999\": \"02: 25,000 - 99,999\",\n",
    "    \"04: 50,000 - 99,999\": \"02: 25,000 - 99,999\",\n",
    "    \"05: 100,000 - 249,999\": \"03: 100,000 - 249,999\",\n",
    "    \"06: 250,000 - 499,999\": \"04: 250,000 - 4,999,999\",\n",
    "    \"07: 500,000 - 999,999\": \"04: 250,000 - 4,999,999\",\n",
    "    \"08: 1,000,000 - 2,499,999\": \"04: 250,000 - 4,999,999\",\n",
    "    \"09: 2,500,000 - 4,999,999\": \"04: 250,000 - 4,999,999\",\n",
    "    \"10: 5,000,000 - 9,999,999\": \"05: 5,000,000+\",\n",
    "    \"11: 10,000,000+\": \"05: 5,000,000+\",\n",
    "}\n",
    "model_data[\"binned_face\"] = model_data[\"face_amount_band\"].map(binned_face_dict)\n",
    "model_data[\"binned_face\"] = model_data[\"binned_face\"].astype(\"category\")"
   ]
  },
  {
   "cell_type": "markdown",
   "metadata": {},
   "source": [
    "## Feature Dictionary"
   ]
  },
  {
   "cell_type": "code",
   "execution_count": 21,
   "metadata": {},
   "outputs": [],
   "source": [
    "feature_dict = {\n",
    "    \"target\": [\"qx_raw\"],\n",
    "    \"weight\": [\"amount_exposed\"],\n",
    "    \"passthrough\": [\"attained_age\", \"duration\", \"observation_year\", \"issue_year\"],\n",
    "    \"ordinal\": [\n",
    "        \"sex\",\n",
    "        \"smoker_status\",\n",
    "    ],\n",
    "    \"ohe\": [\n",
    "        \"binned_face\",\n",
    "        \"insurance_plan\",\n",
    "        \"class_enh\",\n",
    "    ],\n",
    "    \"nominal\": [],\n",
    "}"
   ]
  },
  {
   "cell_type": "markdown",
   "metadata": {},
   "source": [
    "# H2O"
   ]
  },
  {
   "cell_type": "code",
   "execution_count": 20,
   "metadata": {},
   "outputs": [],
   "source": [
    "model_name = \"h2o\""
   ]
  },
  {
   "cell_type": "code",
   "execution_count": 24,
   "metadata": {},
   "outputs": [
    {
     "name": "stdout",
     "output_type": "stream",
     "text": [
      "\u001b[37m 2024-12-30 11:54:54 \u001b[0m|\u001b[37m morai.forecast.preprocessors \u001b[0m|\u001b[32m INFO     \u001b[0m|\u001b[32m model target: ['qx_raw'] \u001b[0m\n",
      "\u001b[37m 2024-12-30 11:54:54 \u001b[0m|\u001b[37m morai.forecast.preprocessors \u001b[0m|\u001b[32m INFO     \u001b[0m|\u001b[32m model weights: ['amount_exposed'] \u001b[0m\n",
      "\u001b[37m 2024-12-30 11:54:54 \u001b[0m|\u001b[37m morai.forecast.preprocessors \u001b[0m|\u001b[32m INFO     \u001b[0m|\u001b[32m passthrough - (generally numeric): ['attained_age', 'duration', 'observation_year', 'issue_year'] \u001b[0m\n",
      "\u001b[37m 2024-12-30 11:54:54 \u001b[0m|\u001b[37m morai.forecast.preprocessors \u001b[0m|\u001b[32m INFO     \u001b[0m|\u001b[32m ordinal - ordinal encoded: ['sex', 'smoker_status'] \u001b[0m\n",
      "\u001b[37m 2024-12-30 11:54:55 \u001b[0m|\u001b[37m morai.forecast.preprocessors \u001b[0m|\u001b[32m INFO     \u001b[0m|\u001b[32m nominal - one hot encoded (dropping first col): ['binned_face', 'insurance_plan', 'class_enh'] \u001b[0m\n",
      "\u001b[37m 2024-12-30 11:54:55 \u001b[0m|\u001b[37m morai.forecast.preprocessors \u001b[0m|\u001b[32m INFO     \u001b[0m|\u001b[32m standardizing the data with StandardScaler \u001b[0m\n"
     ]
    }
   ],
   "source": [
    "preprocess_dict = preprocessors.preprocess_data(\n",
    "    model_data,\n",
    "    feature_dict=feature_dict,\n",
    "    standardize=True,\n",
    ")"
   ]
  },
  {
   "cell_type": "code",
   "execution_count": 25,
   "metadata": {},
   "outputs": [],
   "source": [
    "X = preprocess_dict[\"X\"]\n",
    "y = preprocess_dict[\"y\"]\n",
    "weights = preprocess_dict[\"weights\"]\n",
    "mapping = preprocess_dict[\"mapping\"]\n",
    "md_encoded = preprocess_dict[\"md_encoded\"]\n",
    "model_features = preprocess_dict[\"model_features\"]\n",
    "\n",
    "X_train, X_test, y_train, y_test, weights_train, weights_test = train_test_split(\n",
    "    X, y, weights, random_state=0, test_size=0.2\n",
    ")"
   ]
  },
  {
   "cell_type": "markdown",
   "metadata": {},
   "source": [
    "## Initialize"
   ]
  },
  {
   "cell_type": "code",
   "execution_count": 28,
   "metadata": {},
   "outputs": [
    {
     "name": "stdout",
     "output_type": "stream",
     "text": [
      "Checking whether there is an H2O instance running at http://localhost:54321. connected.\n"
     ]
    },
    {
     "data": {
      "text/html": [
       "\n",
       "<style>\n",
       "\n",
       "#h2o-table-2.h2o-container {\n",
       "  overflow-x: auto;\n",
       "}\n",
       "#h2o-table-2 .h2o-table {\n",
       "  /* width: 100%; */\n",
       "  margin-top: 1em;\n",
       "  margin-bottom: 1em;\n",
       "}\n",
       "#h2o-table-2 .h2o-table caption {\n",
       "  white-space: nowrap;\n",
       "  caption-side: top;\n",
       "  text-align: left;\n",
       "  /* margin-left: 1em; */\n",
       "  margin: 0;\n",
       "  font-size: larger;\n",
       "}\n",
       "#h2o-table-2 .h2o-table thead {\n",
       "  white-space: nowrap; \n",
       "  position: sticky;\n",
       "  top: 0;\n",
       "  box-shadow: 0 -1px inset;\n",
       "}\n",
       "#h2o-table-2 .h2o-table tbody {\n",
       "  overflow: auto;\n",
       "}\n",
       "#h2o-table-2 .h2o-table th,\n",
       "#h2o-table-2 .h2o-table td {\n",
       "  text-align: right;\n",
       "  /* border: 1px solid; */\n",
       "}\n",
       "#h2o-table-2 .h2o-table tr:nth-child(even) {\n",
       "  /* background: #F5F5F5 */\n",
       "}\n",
       "\n",
       "</style>      \n",
       "<div id=\"h2o-table-2\" class=\"h2o-container\">\n",
       "  <table class=\"h2o-table\">\n",
       "    <caption></caption>\n",
       "    <thead></thead>\n",
       "    <tbody><tr><td>H2O_cluster_uptime:</td>\n",
       "<td>13 mins 49 secs</td></tr>\n",
       "<tr><td>H2O_cluster_timezone:</td>\n",
       "<td>America/New_York</td></tr>\n",
       "<tr><td>H2O_data_parsing_timezone:</td>\n",
       "<td>UTC</td></tr>\n",
       "<tr><td>H2O_cluster_version:</td>\n",
       "<td>3.46.0.6</td></tr>\n",
       "<tr><td>H2O_cluster_version_age:</td>\n",
       "<td>1 month and 28 days</td></tr>\n",
       "<tr><td>H2O_cluster_name:</td>\n",
       "<td>H2O_from_python_johnk_9v3qnf</td></tr>\n",
       "<tr><td>H2O_cluster_total_nodes:</td>\n",
       "<td>1</td></tr>\n",
       "<tr><td>H2O_cluster_free_memory:</td>\n",
       "<td>3.501 Gb</td></tr>\n",
       "<tr><td>H2O_cluster_total_cores:</td>\n",
       "<td>16</td></tr>\n",
       "<tr><td>H2O_cluster_allowed_cores:</td>\n",
       "<td>16</td></tr>\n",
       "<tr><td>H2O_cluster_status:</td>\n",
       "<td>locked, healthy</td></tr>\n",
       "<tr><td>H2O_connection_url:</td>\n",
       "<td>http://localhost:54321</td></tr>\n",
       "<tr><td>H2O_connection_proxy:</td>\n",
       "<td>{\"http\": null, \"https\": null}</td></tr>\n",
       "<tr><td>H2O_internal_security:</td>\n",
       "<td>False</td></tr>\n",
       "<tr><td>Python_version:</td>\n",
       "<td>3.12.7 final</td></tr></tbody>\n",
       "  </table>\n",
       "</div>\n"
      ],
      "text/plain": [
       "--------------------------  -----------------------------\n",
       "H2O_cluster_uptime:         13 mins 49 secs\n",
       "H2O_cluster_timezone:       America/New_York\n",
       "H2O_data_parsing_timezone:  UTC\n",
       "H2O_cluster_version:        3.46.0.6\n",
       "H2O_cluster_version_age:    1 month and 28 days\n",
       "H2O_cluster_name:           H2O_from_python_johnk_9v3qnf\n",
       "H2O_cluster_total_nodes:    1\n",
       "H2O_cluster_free_memory:    3.501 Gb\n",
       "H2O_cluster_total_cores:    16\n",
       "H2O_cluster_allowed_cores:  16\n",
       "H2O_cluster_status:         locked, healthy\n",
       "H2O_connection_url:         http://localhost:54321\n",
       "H2O_connection_proxy:       {\"http\": null, \"https\": null}\n",
       "H2O_internal_security:      False\n",
       "Python_version:             3.12.7 final\n",
       "--------------------------  -----------------------------"
      ]
     },
     "metadata": {},
     "output_type": "display_data"
    },
    {
     "name": "stdout",
     "output_type": "stream",
     "text": [
      "Parse progress: |████████████████████████████████████████████████████████████████| (done) 100%\n",
      "Parse progress: |████████████████████████████████████████████████████████████████| (done) 100%\n"
     ]
    }
   ],
   "source": [
    "h2o.init()\n",
    "hf = h2o.H2OFrame(pd.concat([X_train, y_train, weights_train], axis=1))\n",
    "x_test_hf = h2o.H2OFrame(X_test)"
   ]
  },
  {
   "cell_type": "code",
   "execution_count": 29,
   "metadata": {},
   "outputs": [],
   "source": [
    "predictors = hf.drop([\"qx_raw\",\"amount_exposed\"]).columns\n",
    "response = \"qx_raw\"\n",
    "weights = \"amount_exposed\""
   ]
  },
  {
   "cell_type": "code",
   "execution_count": 62,
   "metadata": {},
   "outputs": [],
   "source": [
    "# stopping_metric: Specify the metric to use for early stopping.\n",
    "# algos: DRF, GLM, XGBoost, GBM, DeepLearning, StackedEnsemble\n",
    "aml = H2OAutoML(\n",
    "    max_models=7,\n",
    "    include_algos=[\"DRF\", \"GLM\", \"XGBoost\", \"GBM\", \"DeepLearning\"],\n",
    "    max_runtime_secs=360,\n",
    "    stopping_metric=\"AUTO\",\n",
    "    sort_metric=\"AUTO\",\n",
    ")"
   ]
  },
  {
   "cell_type": "markdown",
   "metadata": {},
   "source": [
    "## Train"
   ]
  },
  {
   "cell_type": "code",
   "execution_count": 63,
   "metadata": {},
   "outputs": [
    {
     "name": "stdout",
     "output_type": "stream",
     "text": [
      "AutoML progress: |█\n",
      "15:13:18.688: AutoML: XGBoost is not available; skipping it.\n",
      "\n",
      "██████████████████████████████████████████████████████████████| (done) 100%\n"
     ]
    },
    {
     "data": {
      "text/html": [
       "<pre style='margin: 1em 0 1em 0;'>Model Details\n",
       "=============\n",
       "H2OGradientBoostingEstimator : Gradient Boosting Machine\n",
       "Model Key: GBM_2_AutoML_4_20241230_151317\n",
       "</pre>\n",
       "<div style='margin: 1em 0 1em 0;'>\n",
       "<style>\n",
       "\n",
       "#h2o-table-12.h2o-container {\n",
       "  overflow-x: auto;\n",
       "}\n",
       "#h2o-table-12 .h2o-table {\n",
       "  /* width: 100%; */\n",
       "  margin-top: 1em;\n",
       "  margin-bottom: 1em;\n",
       "}\n",
       "#h2o-table-12 .h2o-table caption {\n",
       "  white-space: nowrap;\n",
       "  caption-side: top;\n",
       "  text-align: left;\n",
       "  /* margin-left: 1em; */\n",
       "  margin: 0;\n",
       "  font-size: larger;\n",
       "}\n",
       "#h2o-table-12 .h2o-table thead {\n",
       "  white-space: nowrap; \n",
       "  position: sticky;\n",
       "  top: 0;\n",
       "  box-shadow: 0 -1px inset;\n",
       "}\n",
       "#h2o-table-12 .h2o-table tbody {\n",
       "  overflow: auto;\n",
       "}\n",
       "#h2o-table-12 .h2o-table th,\n",
       "#h2o-table-12 .h2o-table td {\n",
       "  text-align: right;\n",
       "  /* border: 1px solid; */\n",
       "}\n",
       "#h2o-table-12 .h2o-table tr:nth-child(even) {\n",
       "  /* background: #F5F5F5 */\n",
       "}\n",
       "\n",
       "</style>      \n",
       "<div id=\"h2o-table-12\" class=\"h2o-container\">\n",
       "  <table class=\"h2o-table\">\n",
       "    <caption>Model Summary: </caption>\n",
       "    <thead><tr><th></th>\n",
       "<th>number_of_trees</th>\n",
       "<th>number_of_internal_trees</th>\n",
       "<th>model_size_in_bytes</th>\n",
       "<th>min_depth</th>\n",
       "<th>max_depth</th>\n",
       "<th>mean_depth</th>\n",
       "<th>min_leaves</th>\n",
       "<th>max_leaves</th>\n",
       "<th>mean_leaves</th></tr></thead>\n",
       "    <tbody><tr><td></td>\n",
       "<td>45.0</td>\n",
       "<td>45.0</td>\n",
       "<td>68771.0</td>\n",
       "<td>7.0</td>\n",
       "<td>7.0</td>\n",
       "<td>6.5333333</td>\n",
       "<td>1.0</td>\n",
       "<td>128.0</td>\n",
       "<td>117.1555560</td></tr></tbody>\n",
       "  </table>\n",
       "</div>\n",
       "</div>\n",
       "<div style='margin: 1em 0 1em 0;'><pre style='margin: 1em 0 1em 0;'>ModelMetricsRegression: gbm\n",
       "** Reported on train data. **\n",
       "\n",
       "MSE: 0.001098651876446989\n",
       "RMSE: 0.033145917945457314\n",
       "MAE: 0.006629208585991041\n",
       "RMSLE: 0.02529600695151277\n",
       "Mean Residual Deviance: 0.001098651876446989</pre></div>\n",
       "<div style='margin: 1em 0 1em 0;'><pre style='margin: 1em 0 1em 0;'>ModelMetricsRegression: gbm\n",
       "** Reported on validation data. **\n",
       "\n",
       "MSE: 0.0011530617693437252\n",
       "RMSE: 0.03395676323420307\n",
       "MAE: 0.006689510432883525\n",
       "RMSLE: 0.026185651571562607\n",
       "Mean Residual Deviance: 0.0011530617693437252</pre></div>\n",
       "<div style='margin: 1em 0 1em 0;'>\n",
       "<style>\n",
       "\n",
       "#h2o-table-13.h2o-container {\n",
       "  overflow-x: auto;\n",
       "}\n",
       "#h2o-table-13 .h2o-table {\n",
       "  /* width: 100%; */\n",
       "  margin-top: 1em;\n",
       "  margin-bottom: 1em;\n",
       "}\n",
       "#h2o-table-13 .h2o-table caption {\n",
       "  white-space: nowrap;\n",
       "  caption-side: top;\n",
       "  text-align: left;\n",
       "  /* margin-left: 1em; */\n",
       "  margin: 0;\n",
       "  font-size: larger;\n",
       "}\n",
       "#h2o-table-13 .h2o-table thead {\n",
       "  white-space: nowrap; \n",
       "  position: sticky;\n",
       "  top: 0;\n",
       "  box-shadow: 0 -1px inset;\n",
       "}\n",
       "#h2o-table-13 .h2o-table tbody {\n",
       "  overflow: auto;\n",
       "}\n",
       "#h2o-table-13 .h2o-table th,\n",
       "#h2o-table-13 .h2o-table td {\n",
       "  text-align: right;\n",
       "  /* border: 1px solid; */\n",
       "}\n",
       "#h2o-table-13 .h2o-table tr:nth-child(even) {\n",
       "  /* background: #F5F5F5 */\n",
       "}\n",
       "\n",
       "</style>      \n",
       "<div id=\"h2o-table-13\" class=\"h2o-container\">\n",
       "  <table class=\"h2o-table\">\n",
       "    <caption>Scoring History: </caption>\n",
       "    <thead><tr><th></th>\n",
       "<th>timestamp</th>\n",
       "<th>duration</th>\n",
       "<th>number_of_trees</th>\n",
       "<th>training_rmse</th>\n",
       "<th>training_mae</th>\n",
       "<th>training_deviance</th>\n",
       "<th>validation_rmse</th>\n",
       "<th>validation_mae</th>\n",
       "<th>validation_deviance</th></tr></thead>\n",
       "    <tbody><tr><td></td>\n",
       "<td>2024-12-30 15:16:20</td>\n",
       "<td> 0.003 sec</td>\n",
       "<td>0.0</td>\n",
       "<td>0.0382159</td>\n",
       "<td>0.0079854</td>\n",
       "<td>0.0014605</td>\n",
       "<td>0.0360600</td>\n",
       "<td>0.0078028</td>\n",
       "<td>0.0013003</td></tr>\n",
       "<tr><td></td>\n",
       "<td>2024-12-30 15:16:21</td>\n",
       "<td> 1.743 sec</td>\n",
       "<td>5.0</td>\n",
       "<td>0.0361049</td>\n",
       "<td>0.0074071</td>\n",
       "<td>0.0013036</td>\n",
       "<td>0.0346115</td>\n",
       "<td>0.0072674</td>\n",
       "<td>0.0011980</td></tr>\n",
       "<tr><td></td>\n",
       "<td>2024-12-30 15:16:23</td>\n",
       "<td> 3.508 sec</td>\n",
       "<td>10.0</td>\n",
       "<td>0.0353007</td>\n",
       "<td>0.0071472</td>\n",
       "<td>0.0012461</td>\n",
       "<td>0.0342133</td>\n",
       "<td>0.0070381</td>\n",
       "<td>0.0011705</td></tr>\n",
       "<tr><td></td>\n",
       "<td>2024-12-30 15:16:25</td>\n",
       "<td> 5.468 sec</td>\n",
       "<td>15.0</td>\n",
       "<td>0.0346008</td>\n",
       "<td>0.0069573</td>\n",
       "<td>0.0011972</td>\n",
       "<td>0.0340238</td>\n",
       "<td>0.0068843</td>\n",
       "<td>0.0011576</td></tr>\n",
       "<tr><td></td>\n",
       "<td>2024-12-30 15:16:27</td>\n",
       "<td> 7.247 sec</td>\n",
       "<td>20.0</td>\n",
       "<td>0.0342045</td>\n",
       "<td>0.0068457</td>\n",
       "<td>0.0011700</td>\n",
       "<td>0.0339593</td>\n",
       "<td>0.0067960</td>\n",
       "<td>0.0011532</td></tr>\n",
       "<tr><td></td>\n",
       "<td>2024-12-30 15:16:29</td>\n",
       "<td> 9.036 sec</td>\n",
       "<td>25.0</td>\n",
       "<td>0.0339179</td>\n",
       "<td>0.0067787</td>\n",
       "<td>0.0011504</td>\n",
       "<td>0.0339373</td>\n",
       "<td>0.0067572</td>\n",
       "<td>0.0011517</td></tr>\n",
       "<tr><td></td>\n",
       "<td>2024-12-30 15:16:30</td>\n",
       "<td>10.793 sec</td>\n",
       "<td>30.0</td>\n",
       "<td>0.0337102</td>\n",
       "<td>0.0067272</td>\n",
       "<td>0.0011364</td>\n",
       "<td>0.0339156</td>\n",
       "<td>0.0067213</td>\n",
       "<td>0.0011503</td></tr>\n",
       "<tr><td></td>\n",
       "<td>2024-12-30 15:16:32</td>\n",
       "<td>12.460 sec</td>\n",
       "<td>35.0</td>\n",
       "<td>0.0334464</td>\n",
       "<td>0.0066833</td>\n",
       "<td>0.0011187</td>\n",
       "<td>0.0339910</td>\n",
       "<td>0.0067185</td>\n",
       "<td>0.0011554</td></tr>\n",
       "<tr><td></td>\n",
       "<td>2024-12-30 15:16:34</td>\n",
       "<td>13.858 sec</td>\n",
       "<td>40.0</td>\n",
       "<td>0.0333071</td>\n",
       "<td>0.0066518</td>\n",
       "<td>0.0011094</td>\n",
       "<td>0.0339545</td>\n",
       "<td>0.0066929</td>\n",
       "<td>0.0011529</td></tr>\n",
       "<tr><td></td>\n",
       "<td>2024-12-30 15:16:35</td>\n",
       "<td>15.169 sec</td>\n",
       "<td>45.0</td>\n",
       "<td>0.0331459</td>\n",
       "<td>0.0066292</td>\n",
       "<td>0.0010987</td>\n",
       "<td>0.0339568</td>\n",
       "<td>0.0066895</td>\n",
       "<td>0.0011531</td></tr></tbody>\n",
       "  </table>\n",
       "</div>\n",
       "</div>\n",
       "<div style='margin: 1em 0 1em 0;'>\n",
       "<style>\n",
       "\n",
       "#h2o-table-14.h2o-container {\n",
       "  overflow-x: auto;\n",
       "}\n",
       "#h2o-table-14 .h2o-table {\n",
       "  /* width: 100%; */\n",
       "  margin-top: 1em;\n",
       "  margin-bottom: 1em;\n",
       "}\n",
       "#h2o-table-14 .h2o-table caption {\n",
       "  white-space: nowrap;\n",
       "  caption-side: top;\n",
       "  text-align: left;\n",
       "  /* margin-left: 1em; */\n",
       "  margin: 0;\n",
       "  font-size: larger;\n",
       "}\n",
       "#h2o-table-14 .h2o-table thead {\n",
       "  white-space: nowrap; \n",
       "  position: sticky;\n",
       "  top: 0;\n",
       "  box-shadow: 0 -1px inset;\n",
       "}\n",
       "#h2o-table-14 .h2o-table tbody {\n",
       "  overflow: auto;\n",
       "}\n",
       "#h2o-table-14 .h2o-table th,\n",
       "#h2o-table-14 .h2o-table td {\n",
       "  text-align: right;\n",
       "  /* border: 1px solid; */\n",
       "}\n",
       "#h2o-table-14 .h2o-table tr:nth-child(even) {\n",
       "  /* background: #F5F5F5 */\n",
       "}\n",
       "\n",
       "</style>      \n",
       "<div id=\"h2o-table-14\" class=\"h2o-container\">\n",
       "  <table class=\"h2o-table\">\n",
       "    <caption>Variable Importances: </caption>\n",
       "    <thead><tr><th>variable</th>\n",
       "<th>relative_importance</th>\n",
       "<th>scaled_importance</th>\n",
       "<th>percentage</th></tr></thead>\n",
       "    <tbody><tr><td>attained_age</td>\n",
       "<td>2138924800.0000000</td>\n",
       "<td>1.0</td>\n",
       "<td>0.4710801</td></tr>\n",
       "<tr><td>duration</td>\n",
       "<td>468907584.0000000</td>\n",
       "<td>0.2192258</td>\n",
       "<td>0.1032729</td></tr>\n",
       "<tr><td>issue_year</td>\n",
       "<td>384060544.0000000</td>\n",
       "<td>0.1795578</td>\n",
       "<td>0.0845861</td></tr>\n",
       "<tr><td>binned_face_05: 5,000,000+</td>\n",
       "<td>369679424.0000000</td>\n",
       "<td>0.1728342</td>\n",
       "<td>0.0814188</td></tr>\n",
       "<tr><td>observation_year</td>\n",
       "<td>312617152.0000000</td>\n",
       "<td>0.1461562</td>\n",
       "<td>0.0688513</td></tr>\n",
       "<tr><td>sex</td>\n",
       "<td>140075232.0000000</td>\n",
       "<td>0.0654886</td>\n",
       "<td>0.0308504</td></tr>\n",
       "<tr><td>class_enh_3_3</td>\n",
       "<td>118268840.0000000</td>\n",
       "<td>0.0552936</td>\n",
       "<td>0.0260477</td></tr>\n",
       "<tr><td>insurance_plan_ULSG</td>\n",
       "<td>114300704.0000000</td>\n",
       "<td>0.0534384</td>\n",
       "<td>0.0251738</td></tr>\n",
       "<tr><td>insurance_plan_UL</td>\n",
       "<td>84954408.0000000</td>\n",
       "<td>0.0397183</td>\n",
       "<td>0.0187105</td></tr>\n",
       "<tr><td>smoker_status</td>\n",
       "<td>54416672.0000000</td>\n",
       "<td>0.0254411</td>\n",
       "<td>0.0119848</td></tr>\n",
       "<tr><td>---</td>\n",
       "<td>---</td>\n",
       "<td>---</td>\n",
       "<td>---</td></tr>\n",
       "<tr><td>insurance_plan_Term</td>\n",
       "<td>31515126.0000000</td>\n",
       "<td>0.0147341</td>\n",
       "<td>0.0069409</td></tr>\n",
       "<tr><td>class_enh_3_1</td>\n",
       "<td>23906280.0000000</td>\n",
       "<td>0.0111768</td>\n",
       "<td>0.0052652</td></tr>\n",
       "<tr><td>insurance_plan_VL</td>\n",
       "<td>22446426.0000000</td>\n",
       "<td>0.0104943</td>\n",
       "<td>0.0049436</td></tr>\n",
       "<tr><td>insurance_plan_VLSG</td>\n",
       "<td>20658488.0000000</td>\n",
       "<td>0.0096584</td>\n",
       "<td>0.0045499</td></tr>\n",
       "<tr><td>class_enh_4_4</td>\n",
       "<td>19642138.0000000</td>\n",
       "<td>0.0091832</td>\n",
       "<td>0.0043260</td></tr>\n",
       "<tr><td>class_enh_4_3</td>\n",
       "<td>19250870.0000000</td>\n",
       "<td>0.0090003</td>\n",
       "<td>0.0042398</td></tr>\n",
       "<tr><td>binned_face_03: 100,000 - 249,999</td>\n",
       "<td>4932292.5</td>\n",
       "<td>0.0023060</td>\n",
       "<td>0.0010863</td></tr>\n",
       "<tr><td>binned_face_02: 25,000 - 99,999</td>\n",
       "<td>3482269.5</td>\n",
       "<td>0.0016280</td>\n",
       "<td>0.0007669</td></tr>\n",
       "<tr><td>class_enh_4_2</td>\n",
       "<td>2870884.0</td>\n",
       "<td>0.0013422</td>\n",
       "<td>0.0006323</td></tr>\n",
       "<tr><td>class_enh_4_1</td>\n",
       "<td>894633.8750000</td>\n",
       "<td>0.0004183</td>\n",
       "<td>0.0001970</td></tr></tbody>\n",
       "  </table>\n",
       "</div>\n",
       "<pre style='font-size: smaller; margin-bottom: 1em;'>[25 rows x 4 columns]</pre></div><pre style=\"font-size: smaller; margin: 1em 0 0 0;\">\n",
       "\n",
       "[tips]\n",
       "Use `model.explain()` to inspect the model.\n",
       "--\n",
       "Use `h2o.display.toggle_user_tips()` to switch on/off this section.</pre>"
      ],
      "text/plain": [
       "Model Details\n",
       "=============\n",
       "H2OGradientBoostingEstimator : Gradient Boosting Machine\n",
       "Model Key: GBM_2_AutoML_4_20241230_151317\n",
       "\n",
       "\n",
       "Model Summary: \n",
       "    number_of_trees    number_of_internal_trees    model_size_in_bytes    min_depth    max_depth    mean_depth    min_leaves    max_leaves    mean_leaves\n",
       "--  -----------------  --------------------------  ---------------------  -----------  -----------  ------------  ------------  ------------  -------------\n",
       "    45                 45                          68771                  7            7            6.53333       1             128           117.156\n",
       "\n",
       "ModelMetricsRegression: gbm\n",
       "** Reported on train data. **\n",
       "\n",
       "MSE: 0.001098651876446989\n",
       "RMSE: 0.033145917945457314\n",
       "MAE: 0.006629208585991041\n",
       "RMSLE: 0.02529600695151277\n",
       "Mean Residual Deviance: 0.001098651876446989\n",
       "\n",
       "ModelMetricsRegression: gbm\n",
       "** Reported on validation data. **\n",
       "\n",
       "MSE: 0.0011530617693437252\n",
       "RMSE: 0.03395676323420307\n",
       "MAE: 0.006689510432883525\n",
       "RMSLE: 0.026185651571562607\n",
       "Mean Residual Deviance: 0.0011530617693437252\n",
       "\n",
       "Scoring History: \n",
       "    timestamp            duration    number_of_trees    training_rmse    training_mae    training_deviance    validation_rmse    validation_mae    validation_deviance\n",
       "--  -------------------  ----------  -----------------  ---------------  --------------  -------------------  -----------------  ----------------  ---------------------\n",
       "    2024-12-30 15:16:20  0.003 sec   0                  0.0382159        0.00798539      0.00146046           0.03606            0.00780282        0.00130032\n",
       "    2024-12-30 15:16:21  1.743 sec   5                  0.0361049        0.0074071       0.00130356           0.0346115          0.00726736        0.00119796\n",
       "    2024-12-30 15:16:23  3.508 sec   10                 0.0353007        0.00714718      0.00124614           0.0342133          0.00703811        0.00117055\n",
       "    2024-12-30 15:16:25  5.468 sec   15                 0.0346008        0.00695725      0.00119721           0.0340238          0.00688428        0.00115762\n",
       "    2024-12-30 15:16:27  7.247 sec   20                 0.0342045        0.00684572      0.00116995           0.0339593          0.00679599        0.00115324\n",
       "    2024-12-30 15:16:29  9.036 sec   25                 0.0339179        0.00677868      0.00115043           0.0339373          0.00675719        0.00115174\n",
       "    2024-12-30 15:16:30  10.793 sec  30                 0.0337102        0.00672717      0.00113638           0.0339156          0.00672133        0.00115027\n",
       "    2024-12-30 15:16:32  12.460 sec  35                 0.0334464        0.0066833       0.00111866           0.033991           0.00671846        0.00115539\n",
       "    2024-12-30 15:16:34  13.858 sec  40                 0.0333071        0.00665175      0.00110936           0.0339545          0.00669295        0.00115291\n",
       "    2024-12-30 15:16:35  15.169 sec  45                 0.0331459        0.00662921      0.00109865           0.0339568          0.00668951        0.00115306\n",
       "\n",
       "Variable Importances: \n",
       "variable                           relative_importance    scaled_importance       percentage\n",
       "---------------------------------  ---------------------  ----------------------  ----------------------\n",
       "attained_age                       2138924800.0           1.0                     0.4710801498738942\n",
       "duration                           468907584.0            0.21922583907578239     0.10327294112804977\n",
       "issue_year                         384060544.0            0.17955775911336389     0.08458609607414404\n",
       "binned_face_05: 5,000,000+         369679424.0            0.17283423147929278     0.08141877566860456\n",
       "observation_year                   312617152.0            0.14615621456163397     0.06885129146069556\n",
       "sex                                140075232.0            0.06548861932873938     0.030850388608416948\n",
       "class_enh_3_3                      118268840.0            0.05529359423949828     0.02604771466140914\n",
       "insurance_plan_ULSG                114300704.0            0.053438392972020334    0.02517376617027939\n",
       "insurance_plan_UL                  84954408.0             0.03971827714560138     0.018710491950482765\n",
       "smoker_status                      54416672.0             0.02544113378834076     0.011984813117973357\n",
       "---                                ---                    ---                     ---\n",
       "insurance_plan_Term                31515126.0             0.01473409724362446     0.0069409407377831415\n",
       "class_enh_3_1                      23906280.0             0.011176774424234082    0.005265156570874899\n",
       "insurance_plan_VL                  22446426.0             0.010494256740582932    0.004943636038168932\n",
       "insurance_plan_VLSG                20658488.0             0.009658351710167651    0.004549857771160559\n",
       "class_enh_4_4                      19642138.0             0.009183183064687454    0.004326015254432373\n",
       "class_enh_4_3                      19250870.0             0.009000255642461109    0.0042398417769539416\n",
       "binned_face_03: 100,000 - 249,999  4932292.5              0.0023059681668097915   0.0010862958296251855\n",
       "binned_face_02: 25,000 - 99,999    3482269.5              0.001628046717677966    0.0007669404917654378\n",
       "class_enh_4_2                      2870884.0              0.0013422089453542267   0.0006322879911395505\n",
       "class_enh_4_1                      894633.875             0.00041826336063801776  0.00019703556661611606\n",
       "[25 rows x 4 columns]\n",
       "\n",
       "\n",
       "[tips]\n",
       "Use `model.explain()` to inspect the model.\n",
       "--\n",
       "Use `h2o.display.toggle_user_tips()` to switch on/off this section."
      ]
     },
     "execution_count": 63,
     "metadata": {},
     "output_type": "execute_result"
    }
   ],
   "source": [
    "# Train the model\n",
    "aml.train(x=predictors, y=response, weights_column=weights, training_frame=hf)"
   ]
  },
  {
   "cell_type": "code",
   "execution_count": 64,
   "metadata": {},
   "outputs": [
    {
     "data": {
      "text/html": [
       "<table class='dataframe'>\n",
       "<thead>\n",
       "<tr><th>model_id                      </th><th style=\"text-align: right;\">     rmse</th><th style=\"text-align: right;\">       mse</th><th style=\"text-align: right;\">       mae</th><th style=\"text-align: right;\">    rmsle</th><th style=\"text-align: right;\">  mean_residual_deviance</th></tr>\n",
       "</thead>\n",
       "<tbody>\n",
       "<tr><td>GBM_2_AutoML_4_20241230_151317</td><td style=\"text-align: right;\">0.0339568</td><td style=\"text-align: right;\">0.00115306</td><td style=\"text-align: right;\">0.00668951</td><td style=\"text-align: right;\">0.0261857</td><td style=\"text-align: right;\">              0.00115306</td></tr>\n",
       "<tr><td>GBM_3_AutoML_4_20241230_151317</td><td style=\"text-align: right;\">0.0341599</td><td style=\"text-align: right;\">0.0011669 </td><td style=\"text-align: right;\">0.00668315</td><td style=\"text-align: right;\">0.0263703</td><td style=\"text-align: right;\">              0.0011669 </td></tr>\n",
       "<tr><td>GBM_4_AutoML_4_20241230_151317</td><td style=\"text-align: right;\">0.0342382</td><td style=\"text-align: right;\">0.00117226</td><td style=\"text-align: right;\">0.0066894 </td><td style=\"text-align: right;\">0.0265188</td><td style=\"text-align: right;\">              0.00117226</td></tr>\n",
       "<tr><td>GLM_1_AutoML_4_20241230_151317</td><td style=\"text-align: right;\">0.0350654</td><td style=\"text-align: right;\">0.00122958</td><td style=\"text-align: right;\">0.00879172</td><td style=\"text-align: right;\">0.0270441</td><td style=\"text-align: right;\">              0.00122958</td></tr>\n",
       "<tr><td>DRF_1_AutoML_4_20241230_151317</td><td style=\"text-align: right;\">0.0354536</td><td style=\"text-align: right;\">0.00125696</td><td style=\"text-align: right;\">0.00674919</td><td style=\"text-align: right;\">0.0277415</td><td style=\"text-align: right;\">              0.00125696</td></tr>\n",
       "<tr><td>XRT_1_AutoML_4_20241230_151317</td><td style=\"text-align: right;\">0.0356381</td><td style=\"text-align: right;\">0.00127008</td><td style=\"text-align: right;\">0.00679751</td><td style=\"text-align: right;\">0.0279093</td><td style=\"text-align: right;\">              0.00127008</td></tr>\n",
       "<tr><td>GBM_1_AutoML_4_20241230_151317</td><td style=\"text-align: right;\">0.0365411</td><td style=\"text-align: right;\">0.00133525</td><td style=\"text-align: right;\">0.00709424</td><td style=\"text-align: right;\">0.0287485</td><td style=\"text-align: right;\">              0.00133525</td></tr>\n",
       "</tbody>\n",
       "</table><pre style='font-size: smaller; margin-bottom: 1em;'>[7 rows x 6 columns]</pre>"
      ],
      "text/plain": [
       "model_id                             rmse         mse         mae      rmsle    mean_residual_deviance\n",
       "------------------------------  ---------  ----------  ----------  ---------  ------------------------\n",
       "GBM_2_AutoML_4_20241230_151317  0.0339568  0.00115306  0.00668951  0.0261857                0.00115306\n",
       "GBM_3_AutoML_4_20241230_151317  0.0341599  0.0011669   0.00668315  0.0263703                0.0011669\n",
       "GBM_4_AutoML_4_20241230_151317  0.0342382  0.00117226  0.0066894   0.0265188                0.00117226\n",
       "GLM_1_AutoML_4_20241230_151317  0.0350654  0.00122958  0.00879172  0.0270441                0.00122958\n",
       "DRF_1_AutoML_4_20241230_151317  0.0354536  0.00125696  0.00674919  0.0277415                0.00125696\n",
       "XRT_1_AutoML_4_20241230_151317  0.0356381  0.00127008  0.00679751  0.0279093                0.00127008\n",
       "GBM_1_AutoML_4_20241230_151317  0.0365411  0.00133525  0.00709424  0.0287485                0.00133525\n",
       "[7 rows x 6 columns]\n"
      ]
     },
     "execution_count": 64,
     "metadata": {},
     "output_type": "execute_result"
    }
   ],
   "source": [
    "lb = aml.leaderboard\n",
    "lb\n",
    "# aml.leader"
   ]
  },
  {
   "cell_type": "markdown",
   "metadata": {},
   "source": [
    "## Predict"
   ]
  },
  {
   "cell_type": "code",
   "execution_count": 65,
   "metadata": {},
   "outputs": [
    {
     "name": "stdout",
     "output_type": "stream",
     "text": [
      "Parse progress: |████████████████████████████████████████████████████████████████| (done) 100%\n",
      "gbm prediction progress: |███████████████████████████████████████████████████████| (done) 100%\n",
      "Export File progress: |██████████████████████████████████████████████████████████| (done) 100%\n"
     ]
    }
   ],
   "source": [
    "X_h20 = h2o.H2OFrame(X)\n",
    "predictions = aml.leader.predict(X_h20).as_data_frame(use_multi_thread=True).to_numpy()"
   ]
  },
  {
   "cell_type": "markdown",
   "metadata": {},
   "source": [
    "## Results"
   ]
  },
  {
   "cell_type": "code",
   "execution_count": 58,
   "metadata": {},
   "outputs": [],
   "source": [
    "model_name = 'h2o'\n",
    "model_data = experience.calc_qx_exp_ae(\n",
    "    model_data=model_data,\n",
    "    predictions=predictions,\n",
    "    model_name=model_name,\n",
    "    exposure_col=\"amount_exposed\",\n",
    "    actual_col=\"death_claim_amount\",\n",
    ")"
   ]
  },
  {
   "cell_type": "code",
   "execution_count": 59,
   "metadata": {},
   "outputs": [
    {
     "name": "stdout",
     "output_type": "stream",
     "text": [
      "\u001b[37m 2024-12-30 15:10:44 \u001b[0m|\u001b[37m morai.experience.charters \u001b[0m|\u001b[32m INFO     \u001b[0m|\u001b[32m The weights list is 1 long and should be 3 long. Using the first weight for all weights. \u001b[0m\n"
     ]
    },
    {
     "data": {
      "application/vnd.plotly.v1+json": {
       "config": {
        "plotlyServerURL": "https://plot.ly"
       },
       "data": [
        {
         "marker": {
          "color": "rgba(135, 206, 250, 0.6)"
         },
         "name": "death_count",
         "type": "bar",
         "x": [
          50,
          51,
          52,
          53,
          54,
          55,
          56,
          57,
          58,
          59,
          60,
          61,
          62,
          63,
          64,
          65,
          66,
          67,
          68,
          69,
          70,
          71,
          72,
          73,
          74,
          75,
          76,
          77,
          78,
          79,
          80,
          81,
          82,
          83,
          84,
          85,
          86,
          87,
          88,
          89,
          90,
          91,
          92,
          93,
          94,
          95,
          96,
          97,
          98,
          99,
          100,
          101,
          102,
          103,
          104,
          105,
          106,
          107,
          108,
          109,
          110,
          111,
          112
         ],
         "xaxis": "x",
         "y": [
          88,
          105,
          126,
          170,
          188,
          210,
          291,
          365,
          415,
          507,
          555,
          665,
          673,
          840,
          870,
          895,
          829,
          903,
          1125,
          1033,
          1091,
          1242,
          1159,
          1141,
          1234,
          1327,
          1141,
          1354,
          1286,
          1328,
          1335,
          1347,
          1329,
          1261,
          1336,
          1294,
          1376,
          1303,
          1232,
          1134,
          973,
          786,
          619,
          531,
          402,
          242,
          161,
          142,
          89,
          39,
          11,
          8,
          3,
          1,
          1,
          1,
          0,
          0,
          0,
          1,
          0,
          0,
          0
         ],
         "yaxis": "y2"
        },
        {
         "mode": "lines+markers",
         "name": "qx_raw",
         "type": "scatter",
         "x": [
          50,
          51,
          52,
          53,
          54,
          55,
          56,
          57,
          58,
          59,
          60,
          61,
          62,
          63,
          64,
          65,
          66,
          67,
          68,
          69,
          70,
          71,
          72,
          73,
          74,
          75,
          76,
          77,
          78,
          79,
          80,
          81,
          82,
          83,
          84,
          85,
          86,
          87,
          88,
          89,
          90,
          91,
          92,
          93,
          94,
          95,
          96,
          97,
          98,
          99,
          100,
          101,
          102,
          103,
          104,
          105,
          106,
          107,
          108,
          109,
          110,
          111,
          112
         ],
         "xaxis": "x",
         "y": [
          0.0014885577342908574,
          0.001372158737550064,
          0.001188141778675898,
          0.0016281541123447517,
          0.0017921535555503218,
          0.0019740403069374805,
          0.0023195870003097294,
          0.002649054664319324,
          0.0027984085832158507,
          0.003871810687707286,
          0.003997553152959103,
          0.004474423890814089,
          0.004798342214289307,
          0.004938402444979317,
          0.005611699991936649,
          0.006113185494625526,
          0.006324581436754632,
          0.007961894772822678,
          0.008934397885784859,
          0.009898028455739312,
          0.010219491449579144,
          0.014100962032670177,
          0.017163999735648666,
          0.01651315382795528,
          0.015365153207625918,
          0.021115406982091984,
          0.018987159329079527,
          0.024887714004391888,
          0.02515641718843477,
          0.02538404599925506,
          0.0406666374242604,
          0.03312375623206967,
          0.05119332774052238,
          0.03581041982461941,
          0.054313881625344326,
          0.049141691951227535,
          0.061325713681067706,
          0.07707546311061148,
          0.07085462547972345,
          0.0846019421549562,
          0.12179165262762723,
          0.09511480214673824,
          0.10741109472317883,
          0.21875921530099987,
          0.25256158301307136,
          0.1878206625645841,
          0.1858980763391509,
          0.28100425065963264,
          0.5608685647716615,
          0.18366732219622037,
          0.045937455218089354,
          0.10487055570113814,
          0.17659234414399635,
          0.036565883827327623,
          0.030130110860627647,
          0.31170929112244783,
          0,
          0,
          0.19657755885047135,
          0.7555602058183107,
          0,
          0,
          0
         ],
         "yaxis": "y"
        },
        {
         "mode": "lines+markers",
         "name": "qx_vbt15",
         "type": "scatter",
         "x": [
          50,
          51,
          52,
          53,
          54,
          55,
          56,
          57,
          58,
          59,
          60,
          61,
          62,
          63,
          64,
          65,
          66,
          67,
          68,
          69,
          70,
          71,
          72,
          73,
          74,
          75,
          76,
          77,
          78,
          79,
          80,
          81,
          82,
          83,
          84,
          85,
          86,
          87,
          88,
          89,
          90,
          91,
          92,
          93,
          94,
          95,
          96,
          97,
          98,
          99,
          100,
          101,
          102,
          103,
          104,
          105,
          106,
          107,
          108,
          109,
          110,
          111,
          112
         ],
         "xaxis": "x",
         "y": [
          0.0011470410886598285,
          0.0013090256400886341,
          0.0014721278457427926,
          0.0016592320410860212,
          0.0018325096979614505,
          0.002038490737343424,
          0.002339201628430699,
          0.0026634565644913805,
          0.0029168720937948374,
          0.0032004823621123984,
          0.0035666623768006228,
          0.004014145198567559,
          0.004391282308609633,
          0.0049045688546920764,
          0.0054676080104514285,
          0.005962640932466301,
          0.00646461338816571,
          0.00730282621600903,
          0.008186783963323235,
          0.00885466292154415,
          0.009862599344482791,
          0.011137322350684308,
          0.012637171960614096,
          0.013755740754007597,
          0.01527325915882257,
          0.017551720111552056,
          0.01881927261482477,
          0.021266648676275635,
          0.02320892652540138,
          0.025712284816399207,
          0.02874987318518899,
          0.0326609945994375,
          0.037052044029338094,
          0.04156597196827477,
          0.047463810633210236,
          0.055644270834001454,
          0.06334328232107486,
          0.07477757604256485,
          0.08558392619687608,
          0.09928493610723038,
          0.11684732876776054,
          0.13052035773336707,
          0.14482872730863938,
          0.15619270512855984,
          0.17216089247702757,
          0.18513248182192762,
          0.20094429725680582,
          0.22170724000858633,
          0.24334313069870536,
          0.2682926548101115,
          0.29969084351498265,
          0.32210594471237375,
          0.3431147643761816,
          0.36734743188581,
          0.3901290821286359,
          0.4085324348123644,
          0.4310787080167317,
          0.44642778717718334,
          0.4640330843733292,
          0.4771852466373724,
          0.48848274893059185,
          0.49591343600543025,
          0.5
         ],
         "yaxis": "y"
        },
        {
         "mode": "lines+markers",
         "name": "qx_h2o",
         "type": "scatter",
         "x": [
          50,
          51,
          52,
          53,
          54,
          55,
          56,
          57,
          58,
          59,
          60,
          61,
          62,
          63,
          64,
          65,
          66,
          67,
          68,
          69,
          70,
          71,
          72,
          73,
          74,
          75,
          76,
          77,
          78,
          79,
          80,
          81,
          82,
          83,
          84,
          85,
          86,
          87,
          88,
          89,
          90,
          91,
          92,
          93,
          94,
          95,
          96,
          97,
          98,
          99,
          100,
          101,
          102,
          103,
          104,
          105,
          106,
          107,
          108,
          109,
          110,
          111,
          112
         ],
         "xaxis": "x",
         "y": [
          0.002093476664016909,
          0.0022784795623193295,
          0.002423562736443795,
          0.002558596910531923,
          0.0026548640134561184,
          0.00275294977113125,
          0.003038136306540833,
          0.003381884321064884,
          0.003736596964388033,
          0.0038945163710136844,
          0.004218088565919914,
          0.004461038155031563,
          0.004692965696798237,
          0.005062475227083303,
          0.005432323795048617,
          0.006169490542546674,
          0.006100487583829179,
          0.007784491961791668,
          0.008564906004155378,
          0.0099162577982346,
          0.01024172018537466,
          0.011357945949946078,
          0.014003788728934454,
          0.016013258540935205,
          0.0159214116404806,
          0.017312409885846883,
          0.01696414306367046,
          0.022726689709192026,
          0.023235245180311295,
          0.02598179156152643,
          0.03016010720011538,
          0.02994308198366212,
          0.03774401979753405,
          0.03754900986109155,
          0.053727117443477024,
          0.05420970984419993,
          0.05784856922261288,
          0.07174719786498596,
          0.06629880693332524,
          0.08029233289277357,
          0.08480071662228983,
          0.0956501067726304,
          0.10237202352081101,
          0.18316975100306906,
          0.19224375627787477,
          0.19309393947461992,
          0.1838072229562882,
          0.2316064359748726,
          0.43033574002164166,
          0.26979288224122794,
          0.23838954405814433,
          0.23868482287479362,
          0.24630418973546947,
          0.22945684592834634,
          0.22552946142640606,
          0.23398022175287944,
          0.22727452400093773,
          0.21414107714033395,
          0.22252749447249923,
          0.22945541943742231,
          0.23841505568374555,
          0.22956603765003514,
          0.20879296267754463
         ],
         "yaxis": "y"
        }
       ],
       "layout": {
        "height": 400,
        "template": {
         "data": {
          "bar": [
           {
            "error_x": {
             "color": "#2a3f5f"
            },
            "error_y": {
             "color": "#2a3f5f"
            },
            "marker": {
             "line": {
              "color": "#E5ECF6",
              "width": 0.5
             },
             "pattern": {
              "fillmode": "overlay",
              "size": 10,
              "solidity": 0.2
             }
            },
            "type": "bar"
           }
          ],
          "barpolar": [
           {
            "marker": {
             "line": {
              "color": "#E5ECF6",
              "width": 0.5
             },
             "pattern": {
              "fillmode": "overlay",
              "size": 10,
              "solidity": 0.2
             }
            },
            "type": "barpolar"
           }
          ],
          "carpet": [
           {
            "aaxis": {
             "endlinecolor": "#2a3f5f",
             "gridcolor": "white",
             "linecolor": "white",
             "minorgridcolor": "white",
             "startlinecolor": "#2a3f5f"
            },
            "baxis": {
             "endlinecolor": "#2a3f5f",
             "gridcolor": "white",
             "linecolor": "white",
             "minorgridcolor": "white",
             "startlinecolor": "#2a3f5f"
            },
            "type": "carpet"
           }
          ],
          "choropleth": [
           {
            "colorbar": {
             "outlinewidth": 0,
             "ticks": ""
            },
            "type": "choropleth"
           }
          ],
          "contour": [
           {
            "colorbar": {
             "outlinewidth": 0,
             "ticks": ""
            },
            "colorscale": [
             [
              0,
              "#0d0887"
             ],
             [
              0.1111111111111111,
              "#46039f"
             ],
             [
              0.2222222222222222,
              "#7201a8"
             ],
             [
              0.3333333333333333,
              "#9c179e"
             ],
             [
              0.4444444444444444,
              "#bd3786"
             ],
             [
              0.5555555555555556,
              "#d8576b"
             ],
             [
              0.6666666666666666,
              "#ed7953"
             ],
             [
              0.7777777777777778,
              "#fb9f3a"
             ],
             [
              0.8888888888888888,
              "#fdca26"
             ],
             [
              1,
              "#f0f921"
             ]
            ],
            "type": "contour"
           }
          ],
          "contourcarpet": [
           {
            "colorbar": {
             "outlinewidth": 0,
             "ticks": ""
            },
            "type": "contourcarpet"
           }
          ],
          "heatmap": [
           {
            "colorbar": {
             "outlinewidth": 0,
             "ticks": ""
            },
            "colorscale": [
             [
              0,
              "#0d0887"
             ],
             [
              0.1111111111111111,
              "#46039f"
             ],
             [
              0.2222222222222222,
              "#7201a8"
             ],
             [
              0.3333333333333333,
              "#9c179e"
             ],
             [
              0.4444444444444444,
              "#bd3786"
             ],
             [
              0.5555555555555556,
              "#d8576b"
             ],
             [
              0.6666666666666666,
              "#ed7953"
             ],
             [
              0.7777777777777778,
              "#fb9f3a"
             ],
             [
              0.8888888888888888,
              "#fdca26"
             ],
             [
              1,
              "#f0f921"
             ]
            ],
            "type": "heatmap"
           }
          ],
          "heatmapgl": [
           {
            "colorbar": {
             "outlinewidth": 0,
             "ticks": ""
            },
            "colorscale": [
             [
              0,
              "#0d0887"
             ],
             [
              0.1111111111111111,
              "#46039f"
             ],
             [
              0.2222222222222222,
              "#7201a8"
             ],
             [
              0.3333333333333333,
              "#9c179e"
             ],
             [
              0.4444444444444444,
              "#bd3786"
             ],
             [
              0.5555555555555556,
              "#d8576b"
             ],
             [
              0.6666666666666666,
              "#ed7953"
             ],
             [
              0.7777777777777778,
              "#fb9f3a"
             ],
             [
              0.8888888888888888,
              "#fdca26"
             ],
             [
              1,
              "#f0f921"
             ]
            ],
            "type": "heatmapgl"
           }
          ],
          "histogram": [
           {
            "marker": {
             "pattern": {
              "fillmode": "overlay",
              "size": 10,
              "solidity": 0.2
             }
            },
            "type": "histogram"
           }
          ],
          "histogram2d": [
           {
            "colorbar": {
             "outlinewidth": 0,
             "ticks": ""
            },
            "colorscale": [
             [
              0,
              "#0d0887"
             ],
             [
              0.1111111111111111,
              "#46039f"
             ],
             [
              0.2222222222222222,
              "#7201a8"
             ],
             [
              0.3333333333333333,
              "#9c179e"
             ],
             [
              0.4444444444444444,
              "#bd3786"
             ],
             [
              0.5555555555555556,
              "#d8576b"
             ],
             [
              0.6666666666666666,
              "#ed7953"
             ],
             [
              0.7777777777777778,
              "#fb9f3a"
             ],
             [
              0.8888888888888888,
              "#fdca26"
             ],
             [
              1,
              "#f0f921"
             ]
            ],
            "type": "histogram2d"
           }
          ],
          "histogram2dcontour": [
           {
            "colorbar": {
             "outlinewidth": 0,
             "ticks": ""
            },
            "colorscale": [
             [
              0,
              "#0d0887"
             ],
             [
              0.1111111111111111,
              "#46039f"
             ],
             [
              0.2222222222222222,
              "#7201a8"
             ],
             [
              0.3333333333333333,
              "#9c179e"
             ],
             [
              0.4444444444444444,
              "#bd3786"
             ],
             [
              0.5555555555555556,
              "#d8576b"
             ],
             [
              0.6666666666666666,
              "#ed7953"
             ],
             [
              0.7777777777777778,
              "#fb9f3a"
             ],
             [
              0.8888888888888888,
              "#fdca26"
             ],
             [
              1,
              "#f0f921"
             ]
            ],
            "type": "histogram2dcontour"
           }
          ],
          "mesh3d": [
           {
            "colorbar": {
             "outlinewidth": 0,
             "ticks": ""
            },
            "type": "mesh3d"
           }
          ],
          "parcoords": [
           {
            "line": {
             "colorbar": {
              "outlinewidth": 0,
              "ticks": ""
             }
            },
            "type": "parcoords"
           }
          ],
          "pie": [
           {
            "automargin": true,
            "type": "pie"
           }
          ],
          "scatter": [
           {
            "fillpattern": {
             "fillmode": "overlay",
             "size": 10,
             "solidity": 0.2
            },
            "type": "scatter"
           }
          ],
          "scatter3d": [
           {
            "line": {
             "colorbar": {
              "outlinewidth": 0,
              "ticks": ""
             }
            },
            "marker": {
             "colorbar": {
              "outlinewidth": 0,
              "ticks": ""
             }
            },
            "type": "scatter3d"
           }
          ],
          "scattercarpet": [
           {
            "marker": {
             "colorbar": {
              "outlinewidth": 0,
              "ticks": ""
             }
            },
            "type": "scattercarpet"
           }
          ],
          "scattergeo": [
           {
            "marker": {
             "colorbar": {
              "outlinewidth": 0,
              "ticks": ""
             }
            },
            "type": "scattergeo"
           }
          ],
          "scattergl": [
           {
            "marker": {
             "colorbar": {
              "outlinewidth": 0,
              "ticks": ""
             }
            },
            "type": "scattergl"
           }
          ],
          "scattermapbox": [
           {
            "marker": {
             "colorbar": {
              "outlinewidth": 0,
              "ticks": ""
             }
            },
            "type": "scattermapbox"
           }
          ],
          "scatterpolar": [
           {
            "marker": {
             "colorbar": {
              "outlinewidth": 0,
              "ticks": ""
             }
            },
            "type": "scatterpolar"
           }
          ],
          "scatterpolargl": [
           {
            "marker": {
             "colorbar": {
              "outlinewidth": 0,
              "ticks": ""
             }
            },
            "type": "scatterpolargl"
           }
          ],
          "scatterternary": [
           {
            "marker": {
             "colorbar": {
              "outlinewidth": 0,
              "ticks": ""
             }
            },
            "type": "scatterternary"
           }
          ],
          "surface": [
           {
            "colorbar": {
             "outlinewidth": 0,
             "ticks": ""
            },
            "colorscale": [
             [
              0,
              "#0d0887"
             ],
             [
              0.1111111111111111,
              "#46039f"
             ],
             [
              0.2222222222222222,
              "#7201a8"
             ],
             [
              0.3333333333333333,
              "#9c179e"
             ],
             [
              0.4444444444444444,
              "#bd3786"
             ],
             [
              0.5555555555555556,
              "#d8576b"
             ],
             [
              0.6666666666666666,
              "#ed7953"
             ],
             [
              0.7777777777777778,
              "#fb9f3a"
             ],
             [
              0.8888888888888888,
              "#fdca26"
             ],
             [
              1,
              "#f0f921"
             ]
            ],
            "type": "surface"
           }
          ],
          "table": [
           {
            "cells": {
             "fill": {
              "color": "#EBF0F8"
             },
             "line": {
              "color": "white"
             }
            },
            "header": {
             "fill": {
              "color": "#C8D4E3"
             },
             "line": {
              "color": "white"
             }
            },
            "type": "table"
           }
          ]
         },
         "layout": {
          "annotationdefaults": {
           "arrowcolor": "#2a3f5f",
           "arrowhead": 0,
           "arrowwidth": 1
          },
          "autotypenumbers": "strict",
          "coloraxis": {
           "colorbar": {
            "outlinewidth": 0,
            "ticks": ""
           }
          },
          "colorscale": {
           "diverging": [
            [
             0,
             "#8e0152"
            ],
            [
             0.1,
             "#c51b7d"
            ],
            [
             0.2,
             "#de77ae"
            ],
            [
             0.3,
             "#f1b6da"
            ],
            [
             0.4,
             "#fde0ef"
            ],
            [
             0.5,
             "#f7f7f7"
            ],
            [
             0.6,
             "#e6f5d0"
            ],
            [
             0.7,
             "#b8e186"
            ],
            [
             0.8,
             "#7fbc41"
            ],
            [
             0.9,
             "#4d9221"
            ],
            [
             1,
             "#276419"
            ]
           ],
           "sequential": [
            [
             0,
             "#0d0887"
            ],
            [
             0.1111111111111111,
             "#46039f"
            ],
            [
             0.2222222222222222,
             "#7201a8"
            ],
            [
             0.3333333333333333,
             "#9c179e"
            ],
            [
             0.4444444444444444,
             "#bd3786"
            ],
            [
             0.5555555555555556,
             "#d8576b"
            ],
            [
             0.6666666666666666,
             "#ed7953"
            ],
            [
             0.7777777777777778,
             "#fb9f3a"
            ],
            [
             0.8888888888888888,
             "#fdca26"
            ],
            [
             1,
             "#f0f921"
            ]
           ],
           "sequentialminus": [
            [
             0,
             "#0d0887"
            ],
            [
             0.1111111111111111,
             "#46039f"
            ],
            [
             0.2222222222222222,
             "#7201a8"
            ],
            [
             0.3333333333333333,
             "#9c179e"
            ],
            [
             0.4444444444444444,
             "#bd3786"
            ],
            [
             0.5555555555555556,
             "#d8576b"
            ],
            [
             0.6666666666666666,
             "#ed7953"
            ],
            [
             0.7777777777777778,
             "#fb9f3a"
            ],
            [
             0.8888888888888888,
             "#fdca26"
            ],
            [
             1,
             "#f0f921"
            ]
           ]
          },
          "colorway": [
           "#636efa",
           "#EF553B",
           "#00cc96",
           "#ab63fa",
           "#FFA15A",
           "#19d3f3",
           "#FF6692",
           "#B6E880",
           "#FF97FF",
           "#FECB52"
          ],
          "font": {
           "color": "#2a3f5f"
          },
          "geo": {
           "bgcolor": "white",
           "lakecolor": "white",
           "landcolor": "#E5ECF6",
           "showlakes": true,
           "showland": true,
           "subunitcolor": "white"
          },
          "hoverlabel": {
           "align": "left"
          },
          "hovermode": "closest",
          "mapbox": {
           "style": "light"
          },
          "paper_bgcolor": "white",
          "plot_bgcolor": "#E5ECF6",
          "polar": {
           "angularaxis": {
            "gridcolor": "white",
            "linecolor": "white",
            "ticks": ""
           },
           "bgcolor": "#E5ECF6",
           "radialaxis": {
            "gridcolor": "white",
            "linecolor": "white",
            "ticks": ""
           }
          },
          "scene": {
           "xaxis": {
            "backgroundcolor": "#E5ECF6",
            "gridcolor": "white",
            "gridwidth": 2,
            "linecolor": "white",
            "showbackground": true,
            "ticks": "",
            "zerolinecolor": "white"
           },
           "yaxis": {
            "backgroundcolor": "#E5ECF6",
            "gridcolor": "white",
            "gridwidth": 2,
            "linecolor": "white",
            "showbackground": true,
            "ticks": "",
            "zerolinecolor": "white"
           },
           "zaxis": {
            "backgroundcolor": "#E5ECF6",
            "gridcolor": "white",
            "gridwidth": 2,
            "linecolor": "white",
            "showbackground": true,
            "ticks": "",
            "zerolinecolor": "white"
           }
          },
          "shapedefaults": {
           "line": {
            "color": "#2a3f5f"
           }
          },
          "ternary": {
           "aaxis": {
            "gridcolor": "white",
            "linecolor": "white",
            "ticks": ""
           },
           "baxis": {
            "gridcolor": "white",
            "linecolor": "white",
            "ticks": ""
           },
           "bgcolor": "#E5ECF6",
           "caxis": {
            "gridcolor": "white",
            "linecolor": "white",
            "ticks": ""
           }
          },
          "title": {
           "x": 0.05
          },
          "xaxis": {
           "automargin": true,
           "gridcolor": "white",
           "linecolor": "white",
           "ticks": "",
           "title": {
            "standoff": 15
           },
           "zerolinecolor": "white",
           "zerolinewidth": 2
          },
          "yaxis": {
           "automargin": true,
           "gridcolor": "white",
           "linecolor": "white",
           "ticks": "",
           "title": {
            "standoff": 15
           },
           "zerolinecolor": "white",
           "zerolinewidth": 2
          }
         }
        },
        "title": {
         "text": "Comparison of '['qx_raw', 'qx_vbt15', 'qx_h2o']' by 'attained_age'"
        },
        "xaxis": {
         "anchor": "y",
         "domain": [
          0,
          0.94
         ],
         "title": {
          "text": "attained_age"
         }
        },
        "yaxis": {
         "anchor": "x",
         "domain": [
          0,
          1
         ],
         "title": {
          "text": "Rates"
         },
         "type": "-"
        },
        "yaxis2": {
         "anchor": "x",
         "overlaying": "y",
         "side": "right",
         "title": {
          "text": "death_count"
         }
        }
       }
      },
      "image/png": "[encoded data removed]",
      "text/html": [
       "<div>                            <div id=\"64996be5-554a-4c31-9e16-472213125c03\" class=\"plotly-graph-div\" style=\"height:400px; width:100%;\"></div>            <script type=\"text/javascript\">                require([\"plotly\"], function(Plotly) {                    window.PLOTLYENV=window.PLOTLYENV || {};                                    if (document.getElementById(\"64996be5-554a-4c31-9e16-472213125c03\")) {                    Plotly.newPlot(                        \"64996be5-554a-4c31-9e16-472213125c03\",                        [{\"marker\":{\"color\":\"rgba(135, 206, 250, 0.6)\"},\"name\":\"death_count\",\"x\":[50,51,52,53,54,55,56,57,58,59,60,61,62,63,64,65,66,67,68,69,70,71,72,73,74,75,76,77,78,79,80,81,82,83,84,85,86,87,88,89,90,91,92,93,94,95,96,97,98,99,100,101,102,103,104,105,106,107,108,109,110,111,112],\"y\":[88.0,105.0,126.0,170.0,188.0,210.0,291.0,365.0,415.0,507.0,555.0,665.0,673.0,840.0,870.0,895.0,829.0,903.0,1125.0,1033.0,1091.0,1242.0,1159.0,1141.0,1234.0,1327.0,1141.0,1354.0,1286.0,1328.0,1335.0,1347.0,1329.0,1261.0,1336.0,1294.0,1376.0,1303.0,1232.0,1134.0,973.0,786.0,619.0,531.0,402.0,242.0,161.0,142.0,89.0,39.0,11.0,8.0,3.0,1.0,1.0,1.0,0.0,0.0,0.0,1.0,0.0,0.0,0.0],\"type\":\"bar\",\"xaxis\":\"x\",\"yaxis\":\"y2\"},{\"mode\":\"lines+markers\",\"name\":\"qx_raw\",\"x\":[50,51,52,53,54,55,56,57,58,59,60,61,62,63,64,65,66,67,68,69,70,71,72,73,74,75,76,77,78,79,80,81,82,83,84,85,86,87,88,89,90,91,92,93,94,95,96,97,98,99,100,101,102,103,104,105,106,107,108,109,110,111,112],\"y\":[0.0014885577342908574,0.001372158737550064,0.001188141778675898,0.0016281541123447517,0.0017921535555503218,0.0019740403069374805,0.0023195870003097294,0.002649054664319324,0.0027984085832158507,0.003871810687707286,0.003997553152959103,0.004474423890814089,0.004798342214289307,0.004938402444979317,0.005611699991936649,0.006113185494625526,0.006324581436754632,0.007961894772822678,0.008934397885784859,0.009898028455739312,0.010219491449579144,0.014100962032670177,0.017163999735648666,0.01651315382795528,0.015365153207625918,0.021115406982091984,0.018987159329079527,0.024887714004391888,0.02515641718843477,0.02538404599925506,0.0406666374242604,0.03312375623206967,0.05119332774052238,0.03581041982461941,0.054313881625344326,0.049141691951227535,0.061325713681067706,0.07707546311061148,0.07085462547972345,0.0846019421549562,0.12179165262762723,0.09511480214673824,0.10741109472317883,0.21875921530099987,0.25256158301307136,0.1878206625645841,0.1858980763391509,0.28100425065963264,0.5608685647716615,0.18366732219622037,0.045937455218089354,0.10487055570113814,0.17659234414399635,0.036565883827327623,0.030130110860627647,0.31170929112244783,0.0,0.0,0.19657755885047135,0.7555602058183107,0.0,0.0,0.0],\"type\":\"scatter\",\"xaxis\":\"x\",\"yaxis\":\"y\"},{\"mode\":\"lines+markers\",\"name\":\"qx_vbt15\",\"x\":[50,51,52,53,54,55,56,57,58,59,60,61,62,63,64,65,66,67,68,69,70,71,72,73,74,75,76,77,78,79,80,81,82,83,84,85,86,87,88,89,90,91,92,93,94,95,96,97,98,99,100,101,102,103,104,105,106,107,108,109,110,111,112],\"y\":[0.0011470410886598285,0.0013090256400886341,0.0014721278457427926,0.0016592320410860212,0.0018325096979614505,0.002038490737343424,0.002339201628430699,0.0026634565644913805,0.0029168720937948374,0.0032004823621123984,0.0035666623768006228,0.004014145198567559,0.004391282308609633,0.0049045688546920764,0.0054676080104514285,0.005962640932466301,0.00646461338816571,0.00730282621600903,0.008186783963323235,0.00885466292154415,0.009862599344482791,0.011137322350684308,0.012637171960614096,0.013755740754007597,0.01527325915882257,0.017551720111552056,0.01881927261482477,0.021266648676275635,0.02320892652540138,0.025712284816399207,0.02874987318518899,0.0326609945994375,0.037052044029338094,0.04156597196827477,0.047463810633210236,0.055644270834001454,0.06334328232107486,0.07477757604256485,0.08558392619687608,0.09928493610723038,0.11684732876776054,0.13052035773336707,0.14482872730863938,0.15619270512855984,0.17216089247702757,0.18513248182192762,0.20094429725680582,0.22170724000858633,0.24334313069870536,0.2682926548101115,0.29969084351498265,0.32210594471237375,0.3431147643761816,0.36734743188581,0.3901290821286359,0.4085324348123644,0.4310787080167317,0.44642778717718334,0.4640330843733292,0.4771852466373724,0.48848274893059185,0.49591343600543025,0.5],\"type\":\"scatter\",\"xaxis\":\"x\",\"yaxis\":\"y\"},{\"mode\":\"lines+markers\",\"name\":\"qx_h2o\",\"x\":[50,51,52,53,54,55,56,57,58,59,60,61,62,63,64,65,66,67,68,69,70,71,72,73,74,75,76,77,78,79,80,81,82,83,84,85,86,87,88,89,90,91,92,93,94,95,96,97,98,99,100,101,102,103,104,105,106,107,108,109,110,111,112],\"y\":[0.002093476664016909,0.0022784795623193295,0.002423562736443795,0.002558596910531923,0.0026548640134561184,0.00275294977113125,0.003038136306540833,0.003381884321064884,0.003736596964388033,0.0038945163710136844,0.004218088565919914,0.004461038155031563,0.004692965696798237,0.005062475227083303,0.005432323795048617,0.006169490542546674,0.006100487583829179,0.007784491961791668,0.008564906004155378,0.0099162577982346,0.01024172018537466,0.011357945949946078,0.014003788728934454,0.016013258540935205,0.0159214116404806,0.017312409885846883,0.01696414306367046,0.022726689709192026,0.023235245180311295,0.02598179156152643,0.03016010720011538,0.02994308198366212,0.03774401979753405,0.03754900986109155,0.053727117443477024,0.05420970984419993,0.05784856922261288,0.07174719786498596,0.06629880693332524,0.08029233289277357,0.08480071662228983,0.0956501067726304,0.10237202352081101,0.18316975100306906,0.19224375627787477,0.19309393947461992,0.1838072229562882,0.2316064359748726,0.43033574002164166,0.26979288224122794,0.23838954405814433,0.23868482287479362,0.24630418973546947,0.22945684592834634,0.22552946142640606,0.23398022175287944,0.22727452400093773,0.21414107714033395,0.22252749447249923,0.22945541943742231,0.23841505568374555,0.22956603765003514,0.20879296267754463],\"type\":\"scatter\",\"xaxis\":\"x\",\"yaxis\":\"y\"}],                        {\"template\":{\"data\":{\"histogram2dcontour\":[{\"type\":\"histogram2dcontour\",\"colorbar\":{\"outlinewidth\":0,\"ticks\":\"\"},\"colorscale\":[[0.0,\"#0d0887\"],[0.1111111111111111,\"#46039f\"],[0.2222222222222222,\"#7201a8\"],[0.3333333333333333,\"#9c179e\"],[0.4444444444444444,\"#bd3786\"],[0.5555555555555556,\"#d8576b\"],[0.6666666666666666,\"#ed7953\"],[0.7777777777777778,\"#fb9f3a\"],[0.8888888888888888,\"#fdca26\"],[1.0,\"#f0f921\"]]}],\"choropleth\":[{\"type\":\"choropleth\",\"colorbar\":{\"outlinewidth\":0,\"ticks\":\"\"}}],\"histogram2d\":[{\"type\":\"histogram2d\",\"colorbar\":{\"outlinewidth\":0,\"ticks\":\"\"},\"colorscale\":[[0.0,\"#0d0887\"],[0.1111111111111111,\"#46039f\"],[0.2222222222222222,\"#7201a8\"],[0.3333333333333333,\"#9c179e\"],[0.4444444444444444,\"#bd3786\"],[0.5555555555555556,\"#d8576b\"],[0.6666666666666666,\"#ed7953\"],[0.7777777777777778,\"#fb9f3a\"],[0.8888888888888888,\"#fdca26\"],[1.0,\"#f0f921\"]]}],\"heatmap\":[{\"type\":\"heatmap\",\"colorbar\":{\"outlinewidth\":0,\"ticks\":\"\"},\"colorscale\":[[0.0,\"#0d0887\"],[0.1111111111111111,\"#46039f\"],[0.2222222222222222,\"#7201a8\"],[0.3333333333333333,\"#9c179e\"],[0.4444444444444444,\"#bd3786\"],[0.5555555555555556,\"#d8576b\"],[0.6666666666666666,\"#ed7953\"],[0.7777777777777778,\"#fb9f3a\"],[0.8888888888888888,\"#fdca26\"],[1.0,\"#f0f921\"]]}],\"heatmapgl\":[{\"type\":\"heatmapgl\",\"colorbar\":{\"outlinewidth\":0,\"ticks\":\"\"},\"colorscale\":[[0.0,\"#0d0887\"],[0.1111111111111111,\"#46039f\"],[0.2222222222222222,\"#7201a8\"],[0.3333333333333333,\"#9c179e\"],[0.4444444444444444,\"#bd3786\"],[0.5555555555555556,\"#d8576b\"],[0.6666666666666666,\"#ed7953\"],[0.7777777777777778,\"#fb9f3a\"],[0.8888888888888888,\"#fdca26\"],[1.0,\"#f0f921\"]]}],\"contourcarpet\":[{\"type\":\"contourcarpet\",\"colorbar\":{\"outlinewidth\":0,\"ticks\":\"\"}}],\"contour\":[{\"type\":\"contour\",\"colorbar\":{\"outlinewidth\":0,\"ticks\":\"\"},\"colorscale\":[[0.0,\"#0d0887\"],[0.1111111111111111,\"#46039f\"],[0.2222222222222222,\"#7201a8\"],[0.3333333333333333,\"#9c179e\"],[0.4444444444444444,\"#bd3786\"],[0.5555555555555556,\"#d8576b\"],[0.6666666666666666,\"#ed7953\"],[0.7777777777777778,\"#fb9f3a\"],[0.8888888888888888,\"#fdca26\"],[1.0,\"#f0f921\"]]}],\"surface\":[{\"type\":\"surface\",\"colorbar\":{\"outlinewidth\":0,\"ticks\":\"\"},\"colorscale\":[[0.0,\"#0d0887\"],[0.1111111111111111,\"#46039f\"],[0.2222222222222222,\"#7201a8\"],[0.3333333333333333,\"#9c179e\"],[0.4444444444444444,\"#bd3786\"],[0.5555555555555556,\"#d8576b\"],[0.6666666666666666,\"#ed7953\"],[0.7777777777777778,\"#fb9f3a\"],[0.8888888888888888,\"#fdca26\"],[1.0,\"#f0f921\"]]}],\"mesh3d\":[{\"type\":\"mesh3d\",\"colorbar\":{\"outlinewidth\":0,\"ticks\":\"\"}}],\"scatter\":[{\"fillpattern\":{\"fillmode\":\"overlay\",\"size\":10,\"solidity\":0.2},\"type\":\"scatter\"}],\"parcoords\":[{\"type\":\"parcoords\",\"line\":{\"colorbar\":{\"outlinewidth\":0,\"ticks\":\"\"}}}],\"scatterpolargl\":[{\"type\":\"scatterpolargl\",\"marker\":{\"colorbar\":{\"outlinewidth\":0,\"ticks\":\"\"}}}],\"bar\":[{\"error_x\":{\"color\":\"#2a3f5f\"},\"error_y\":{\"color\":\"#2a3f5f\"},\"marker\":{\"line\":{\"color\":\"#E5ECF6\",\"width\":0.5},\"pattern\":{\"fillmode\":\"overlay\",\"size\":10,\"solidity\":0.2}},\"type\":\"bar\"}],\"scattergeo\":[{\"type\":\"scattergeo\",\"marker\":{\"colorbar\":{\"outlinewidth\":0,\"ticks\":\"\"}}}],\"scatterpolar\":[{\"type\":\"scatterpolar\",\"marker\":{\"colorbar\":{\"outlinewidth\":0,\"ticks\":\"\"}}}],\"histogram\":[{\"marker\":{\"pattern\":{\"fillmode\":\"overlay\",\"size\":10,\"solidity\":0.2}},\"type\":\"histogram\"}],\"scattergl\":[{\"type\":\"scattergl\",\"marker\":{\"colorbar\":{\"outlinewidth\":0,\"ticks\":\"\"}}}],\"scatter3d\":[{\"type\":\"scatter3d\",\"line\":{\"colorbar\":{\"outlinewidth\":0,\"ticks\":\"\"}},\"marker\":{\"colorbar\":{\"outlinewidth\":0,\"ticks\":\"\"}}}],\"scattermapbox\":[{\"type\":\"scattermapbox\",\"marker\":{\"colorbar\":{\"outlinewidth\":0,\"ticks\":\"\"}}}],\"scatterternary\":[{\"type\":\"scatterternary\",\"marker\":{\"colorbar\":{\"outlinewidth\":0,\"ticks\":\"\"}}}],\"scattercarpet\":[{\"type\":\"scattercarpet\",\"marker\":{\"colorbar\":{\"outlinewidth\":0,\"ticks\":\"\"}}}],\"carpet\":[{\"aaxis\":{\"endlinecolor\":\"#2a3f5f\",\"gridcolor\":\"white\",\"linecolor\":\"white\",\"minorgridcolor\":\"white\",\"startlinecolor\":\"#2a3f5f\"},\"baxis\":{\"endlinecolor\":\"#2a3f5f\",\"gridcolor\":\"white\",\"linecolor\":\"white\",\"minorgridcolor\":\"white\",\"startlinecolor\":\"#2a3f5f\"},\"type\":\"carpet\"}],\"table\":[{\"cells\":{\"fill\":{\"color\":\"#EBF0F8\"},\"line\":{\"color\":\"white\"}},\"header\":{\"fill\":{\"color\":\"#C8D4E3\"},\"line\":{\"color\":\"white\"}},\"type\":\"table\"}],\"barpolar\":[{\"marker\":{\"line\":{\"color\":\"#E5ECF6\",\"width\":0.5},\"pattern\":{\"fillmode\":\"overlay\",\"size\":10,\"solidity\":0.2}},\"type\":\"barpolar\"}],\"pie\":[{\"automargin\":true,\"type\":\"pie\"}]},\"layout\":{\"autotypenumbers\":\"strict\",\"colorway\":[\"#636efa\",\"#EF553B\",\"#00cc96\",\"#ab63fa\",\"#FFA15A\",\"#19d3f3\",\"#FF6692\",\"#B6E880\",\"#FF97FF\",\"#FECB52\"],\"font\":{\"color\":\"#2a3f5f\"},\"hovermode\":\"closest\",\"hoverlabel\":{\"align\":\"left\"},\"paper_bgcolor\":\"white\",\"plot_bgcolor\":\"#E5ECF6\",\"polar\":{\"bgcolor\":\"#E5ECF6\",\"angularaxis\":{\"gridcolor\":\"white\",\"linecolor\":\"white\",\"ticks\":\"\"},\"radialaxis\":{\"gridcolor\":\"white\",\"linecolor\":\"white\",\"ticks\":\"\"}},\"ternary\":{\"bgcolor\":\"#E5ECF6\",\"aaxis\":{\"gridcolor\":\"white\",\"linecolor\":\"white\",\"ticks\":\"\"},\"baxis\":{\"gridcolor\":\"white\",\"linecolor\":\"white\",\"ticks\":\"\"},\"caxis\":{\"gridcolor\":\"white\",\"linecolor\":\"white\",\"ticks\":\"\"}},\"coloraxis\":{\"colorbar\":{\"outlinewidth\":0,\"ticks\":\"\"}},\"colorscale\":{\"sequential\":[[0.0,\"#0d0887\"],[0.1111111111111111,\"#46039f\"],[0.2222222222222222,\"#7201a8\"],[0.3333333333333333,\"#9c179e\"],[0.4444444444444444,\"#bd3786\"],[0.5555555555555556,\"#d8576b\"],[0.6666666666666666,\"#ed7953\"],[0.7777777777777778,\"#fb9f3a\"],[0.8888888888888888,\"#fdca26\"],[1.0,\"#f0f921\"]],\"sequentialminus\":[[0.0,\"#0d0887\"],[0.1111111111111111,\"#46039f\"],[0.2222222222222222,\"#7201a8\"],[0.3333333333333333,\"#9c179e\"],[0.4444444444444444,\"#bd3786\"],[0.5555555555555556,\"#d8576b\"],[0.6666666666666666,\"#ed7953\"],[0.7777777777777778,\"#fb9f3a\"],[0.8888888888888888,\"#fdca26\"],[1.0,\"#f0f921\"]],\"diverging\":[[0,\"#8e0152\"],[0.1,\"#c51b7d\"],[0.2,\"#de77ae\"],[0.3,\"#f1b6da\"],[0.4,\"#fde0ef\"],[0.5,\"#f7f7f7\"],[0.6,\"#e6f5d0\"],[0.7,\"#b8e186\"],[0.8,\"#7fbc41\"],[0.9,\"#4d9221\"],[1,\"#276419\"]]},\"xaxis\":{\"gridcolor\":\"white\",\"linecolor\":\"white\",\"ticks\":\"\",\"title\":{\"standoff\":15},\"zerolinecolor\":\"white\",\"automargin\":true,\"zerolinewidth\":2},\"yaxis\":{\"gridcolor\":\"white\",\"linecolor\":\"white\",\"ticks\":\"\",\"title\":{\"standoff\":15},\"zerolinecolor\":\"white\",\"automargin\":true,\"zerolinewidth\":2},\"scene\":{\"xaxis\":{\"backgroundcolor\":\"#E5ECF6\",\"gridcolor\":\"white\",\"linecolor\":\"white\",\"showbackground\":true,\"ticks\":\"\",\"zerolinecolor\":\"white\",\"gridwidth\":2},\"yaxis\":{\"backgroundcolor\":\"#E5ECF6\",\"gridcolor\":\"white\",\"linecolor\":\"white\",\"showbackground\":true,\"ticks\":\"\",\"zerolinecolor\":\"white\",\"gridwidth\":2},\"zaxis\":{\"backgroundcolor\":\"#E5ECF6\",\"gridcolor\":\"white\",\"linecolor\":\"white\",\"showbackground\":true,\"ticks\":\"\",\"zerolinecolor\":\"white\",\"gridwidth\":2}},\"shapedefaults\":{\"line\":{\"color\":\"#2a3f5f\"}},\"annotationdefaults\":{\"arrowcolor\":\"#2a3f5f\",\"arrowhead\":0,\"arrowwidth\":1},\"geo\":{\"bgcolor\":\"white\",\"landcolor\":\"#E5ECF6\",\"subunitcolor\":\"white\",\"showland\":true,\"showlakes\":true,\"lakecolor\":\"white\"},\"title\":{\"x\":0.05},\"mapbox\":{\"style\":\"light\"}}},\"xaxis\":{\"anchor\":\"y\",\"domain\":[0.0,0.94],\"title\":{\"text\":\"attained_age\"}},\"yaxis\":{\"anchor\":\"x\",\"domain\":[0.0,1.0],\"type\":\"-\",\"title\":{\"text\":\"Rates\"}},\"yaxis2\":{\"anchor\":\"x\",\"overlaying\":\"y\",\"side\":\"right\",\"title\":{\"text\":\"death_count\"}},\"title\":{\"text\":\"Comparison of '['qx_raw', 'qx_vbt15', 'qx_h2o']' by 'attained_age'\"},\"height\":400},                        {\"responsive\": true}                    ).then(function(){\n",
       "                            \n",
       "var gd = document.getElementById('64996be5-554a-4c31-9e16-472213125c03');\n",
       "var x = new MutationObserver(function (mutations, observer) {{\n",
       "        var display = window.getComputedStyle(gd).display;\n",
       "        if (!display || display === 'none') {{\n",
       "            console.log([gd, 'removed!']);\n",
       "            Plotly.purge(gd);\n",
       "            observer.disconnect();\n",
       "        }}\n",
       "}});\n",
       "\n",
       "// Listen for the removal of the full notebook cells\n",
       "var notebookContainer = gd.closest('#notebook-container');\n",
       "if (notebookContainer) {{\n",
       "    x.observe(notebookContainer, {childList: true});\n",
       "}}\n",
       "\n",
       "// Listen for the clearing of the current output cell\n",
       "var outputEl = gd.closest('.output');\n",
       "if (outputEl) {{\n",
       "    x.observe(outputEl, {childList: true});\n",
       "}}\n",
       "\n",
       "                        })                };                });            </script>        </div>"
      ]
     },
     "metadata": {},
     "output_type": "display_data"
    }
   ],
   "source": [
    "charters.compare_rates(\n",
    "    model_data[model_data[\"insurance_plan\"].isin([\"UL\"])],\n",
    "    x_axis=\"attained_age\",\n",
    "    rates=[\"qx_raw\", \"qx_vbt15\", \"qx_h2o\"],\n",
    "    weights=[\"amount_exposed\"],\n",
    "    secondary=\"death_count\",\n",
    "    y_log=False,\n",
    ")"
   ]
  },
  {
   "cell_type": "markdown",
   "metadata": {},
   "source": [
    "# SHAP"
   ]
  },
  {
   "cell_type": "markdown",
   "metadata": {},
   "source": [
    "## H2O"
   ]
  },
  {
   "cell_type": "code",
   "execution_count": null,
   "metadata": {
    "scrolled": true
   },
   "outputs": [],
   "source": [
    "# aml.explain(hf)"
   ]
  },
  {
   "cell_type": "code",
   "execution_count": null,
   "metadata": {},
   "outputs": [],
   "source": []
  }
 ],
 "metadata": {
  "kernelspec": {
   "display_name": "morai",
   "language": "python",
   "name": "morai"
  },
  "language_info": {
   "codemirror_mode": {
    "name": "ipython",
    "version": 3
   },
   "file_extension": ".py",
   "mimetype": "text/x-python",
   "name": "python",
   "nbconvert_exporter": "python",
   "pygments_lexer": "ipython3",
   "version": "3.12.7"
  }
 },
 "nbformat": 4,
 "nbformat_minor": 4
}
