{
 "cells": [
  {
   "cell_type": "markdown",
   "id": "5935d161-1b2e-434d-8549-0e6925ee9878",
   "metadata": {},
   "source": [
    "# CDC"
   ]
  },
  {
   "cell_type": "markdown",
   "id": "52dd7e2c-016f-4ab3-9caf-0872667c6132",
   "metadata": {},
   "source": [
    "https://wonder.cdc.gov/"
   ]
  },
  {
   "cell_type": "markdown",
   "id": "7da3a905-c9d3-42b6-919c-86e413306e5e",
   "metadata": {},
   "source": [
    "There are 6 tables in database\n",
    "- **mcd99_cod:** provides data on a cod basis (1999 - 2020 data)\n",
    "- **mcd18_cod:** provides data on a cod basis (2018+)\n",
    "- **mcd18_monthly:** provides monthly data (2018+)\n",
    "- **mi:** provides data from on a more aggregate level (1979-2020)\n",
    "- **mcd99_check:** provides a check to the cod table as it isn't using grouping (1999 - 2020 data)\n",
    "- **mcd18_check:** provides a check to the cod table as it isn't using groupings (2018+ data)\n",
    "\n",
    "sources:\n",
    "- 1979-1998: https://wonder.cdc.gov/controller/datarequest/D16\n",
    "- 1999-2020: https://wonder.cdc.gov/controller/datarequest/D76\n",
    "- 2018+: https://wonder.cdc.gov/controller/datarequest/D176\n",
    "\n",
    "code support:\n",
    "- https://github.com/alipphardt/cdc-wonder-api\n"
   ]
  },
  {
   "cell_type": "markdown",
   "id": "46f5f93b-05bb-42fc-b939-6b1590f1b06b",
   "metadata": {},
   "source": [
    "## Import"
   ]
  },
  {
   "cell_type": "code",
   "execution_count": 1,
   "id": "8aeed43f-4fc4-4a6b-a2aa-78fc4e157fbf",
   "metadata": {},
   "outputs": [],
   "source": [
    "import os\n",
    "import sys\n",
    "\n",
    "import numpy as np\n",
    "import pandas as pd\n",
    "import plotly.express as px\n",
    "import polars as pl\n",
    "from sklearn.linear_model import LinearRegression\n",
    "\n",
    "os.chdir(\"../../\")\n",
    "sys.path.insert(0, os.getcwd())"
   ]
  },
  {
   "cell_type": "code",
   "execution_count": 2,
   "id": "898a8feb-f241-4d9a-8d27-873cd899ae77",
   "metadata": {},
   "outputs": [],
   "source": [
    "from morai.experience import charters\n",
    "from morai.forecast import models\n",
    "from morai.integrations import cdc\n",
    "from morai.utils import helpers, sql"
   ]
  },
  {
   "cell_type": "code",
   "execution_count": 3,
   "id": "8653900d-2bbd-42e5-be13-d1b57ca33c77",
   "metadata": {},
   "outputs": [],
   "source": [
    "pd.options.display.float_format = \"{:,.2f}\".format"
   ]
  },
  {
   "cell_type": "code",
   "execution_count": 4,
   "id": "01ea27c3-268a-4370-b522-ecd0c89f771c",
   "metadata": {},
   "outputs": [],
   "source": [
    "db_filepath = r\"files/integrations/cdc/cdc.sql\""
   ]
  },
  {
   "cell_type": "code",
   "execution_count": 5,
   "id": "1db7ddd0-45a6-4075-baf8-8f5fdf84ec44",
   "metadata": {},
   "outputs": [
    {
     "data": {
      "text/plain": [
       "['mcd99_check',\n",
       " 'mcd79_check',\n",
       " 'mcd99_cod',\n",
       " 'mcd18_cod',\n",
       " 'mcd79_mi',\n",
       " 'mcd99_mi',\n",
       " 'mcd18_mi',\n",
       " 'mcd18_monthly',\n",
       " 'mcd18_check']"
      ]
     },
     "execution_count": 5,
     "metadata": {},
     "output_type": "execute_result"
    }
   ],
   "source": [
    "tables = sql.get_tables(db_filepath=db_filepath)\n",
    "tables"
   ]
  },
  {
   "cell_type": "markdown",
   "id": "779e9c07-a826-4c9a-9b0d-1e910e71ecd7",
   "metadata": {},
   "source": [
    "## COD"
   ]
  },
  {
   "cell_type": "markdown",
   "id": "814e4d5c-d085-4cf2-934a-8af320d4cf64",
   "metadata": {},
   "source": [
    "### SQL\n",
    "Load from SQL database"
   ]
  },
  {
   "cell_type": "code",
   "execution_count": 6,
   "id": "705e28ef-2be3-401a-afaa-04e6c98f8672",
   "metadata": {},
   "outputs": [],
   "source": [
    "mcd99_cod = cdc.get_cdc_data_sql(db_filepath=db_filepath, table_name=\"mcd99_cod\")"
   ]
  },
  {
   "cell_type": "code",
   "execution_count": 19,
   "id": "047af8b0-9388-49f5-b7a2-7d1f1d9f707b",
   "metadata": {},
   "outputs": [],
   "source": [
    "mcd18_cod = cdc.get_cdc_data_sql(db_filepath=db_filepath, table_name=\"mcd18_cod\")"
   ]
  },
  {
   "cell_type": "markdown",
   "id": "80933873-193c-40d6-8bee-4a4a86dabcc3",
   "metadata": {},
   "source": [
    "### Aggregate\n",
    "Aggregating the historical and provisional and mapping columns to more friendly names"
   ]
  },
  {
   "cell_type": "code",
   "execution_count": 40,
   "id": "56c82b93-527d-491e-8029-f69be6feaaf0",
   "metadata": {},
   "outputs": [],
   "source": [
    "# variable to map\n",
    "category_col = \"simple_grouping\""
   ]
  },
  {
   "cell_type": "code",
   "execution_count": 41,
   "id": "a36a90ca-2ced-4dfa-bdf8-8b1c58d48bdc",
   "metadata": {},
   "outputs": [],
   "source": [
    "# filter and concat\n",
    "mcd18_cod = mcd18_cod[mcd18_cod[\"year\"] >= 2021]\n",
    "cod_all = pd.concat([mcd99_cod, mcd18_cod], ignore_index=True)"
   ]
  },
  {
   "cell_type": "code",
   "execution_count": 42,
   "id": "5b10bcc5-c1e8-4a9d-929f-f015f4c0c0fe",
   "metadata": {},
   "outputs": [],
   "source": [
    "# map the variable from reference\n",
    "cod_all = cdc.map_reference(\n",
    "    df=cod_all, col=category_col, on_dict={\"icd_-_sub-chapter\": \"wonder_sub_chapter\"}\n",
    ")"
   ]
  },
  {
   "cell_type": "code",
   "execution_count": 11,
   "id": "6abaf71d-f0a1-45c8-a757-47a48b6be34e",
   "metadata": {},
   "outputs": [],
   "source": [
    "# create totals column\n",
    "totals = cod_all.groupby(\"year\").sum(numeric_only=True).reset_index()\n",
    "totals[category_col] = \"total\"\n",
    "totals[\"age_groups\"] = \"total\"\n",
    "cod_all = pd.concat([cod_all, totals], ignore_index=True)"
   ]
  },
  {
   "cell_type": "code",
   "execution_count": 12,
   "id": "afdbc575-f5b8-4339-b53d-04d12694d397",
   "metadata": {},
   "outputs": [],
   "source": [
    "category_orders = charters.get_category_orders(\n",
    "    df=cod_all, category=category_col, measure=\"deaths\"\n",
    ")"
   ]
  },
  {
   "cell_type": "markdown",
   "id": "344bb0d1-f744-4bba-bb09-8f55e8aca9b2",
   "metadata": {},
   "source": [
    "### Predict"
   ]
  },
  {
   "cell_type": "code",
   "execution_count": 14,
   "id": "439e6594-d968-45f5-9724-73b74d33a83f",
   "metadata": {},
   "outputs": [],
   "source": [
    "# train the data based on year and the category using linear regression\n",
    "train_df = cod_all[(cod_all[\"year\"] >= 2015) & (cod_all[\"year\"] <= 2019)]\n",
    "train_df = train_df.groupby([\"year\", category_col])[\"deaths\"].sum().reset_index()"
   ]
  },
  {
   "cell_type": "code",
   "execution_count": null,
   "id": "1647ffcd-55c7-463d-836f-46f9e643b6ff",
   "metadata": {},
   "outputs": [],
   "source": [
    "# create the models\n",
    "models = {}\n",
    "for cod in train_df[category_col].unique():\n",
    "    cod_subset = train_df[train_df[category_col] == cod]\n",
    "    X = (cod_subset[\"year\"] - 2015).values.reshape(-1, 1)\n",
    "    y = cod_subset[\"deaths\"].values\n",
    "    model = LinearRegression().fit(X, y)\n",
    "    models[cod] = {\n",
    "        \"model\": model,\n",
    "        \"coef\": model.coef_[0],\n",
    "        \"intercept\": model.intercept_,\n",
    "    }"
   ]
  },
  {
   "cell_type": "code",
   "execution_count": null,
   "id": "071e05bb-a949-4e2c-91a6-d537d5021b34",
   "metadata": {},
   "outputs": [],
   "source": [
    "# make the predictions\n",
    "test_df = cod_all[(cod_all[\"year\"] >= 2020)]\n",
    "test_df = test_df.groupby([\"year\", category_col])[\"deaths\"].sum().reset_index()\n",
    "\n",
    "for cod, model in models.items():\n",
    "    mask = test_df[category_col] == cod\n",
    "    if mask.sum() > 0:\n",
    "        X = (test_df.loc[mask, \"year\"] - 2015).values.reshape(-1, 1)\n",
    "        test_df.loc[mask, \"pred\"] = model[\"model\"].predict(X)\n",
    "\n",
    "test_df[\"diff_abs\"] = test_df[\"deaths\"] - test_df[\"pred\"]\n",
    "test_df[\"diff_pct\"] = (test_df[\"deaths\"] - test_df[\"pred\"]) / test_df[\"pred\"]"
   ]
  },
  {
   "cell_type": "markdown",
   "id": "061b3d48-d7b0-41cc-9222-0ead71f028d7",
   "metadata": {},
   "source": [
    "### Chart"
   ]
  },
  {
   "cell_type": "code",
   "execution_count": null,
   "id": "543c3ba0-b04d-4580-b4c1-1630b1c7d0df",
   "metadata": {},
   "outputs": [],
   "source": [
    "charters.chart(\n",
    "    df=cod_all,\n",
    "    x_axis=\"year\",\n",
    "    y_axis=\"deaths\",\n",
    "    color=category_col,\n",
    "    type=\"area\",\n",
    "    category_orders=category_orders,\n",
    ")"
   ]
  },
  {
   "cell_type": "code",
   "execution_count": null,
   "id": "e8a69bed-454c-4ad6-a991-efa60b168529",
   "metadata": {},
   "outputs": [],
   "source": [
    "cod_all[\"crude_rate\"] = cod_all[\"deaths\"] / cod_all[\"population\"] * 1000"
   ]
  },
  {
   "cell_type": "code",
   "execution_count": null,
   "id": "6a5f10f4-b952-4843-8483-e5d45adbd2ac",
   "metadata": {},
   "outputs": [],
   "source": [
    "cod_all[(cod_all[\"simple_grouping\"] == \"neoplasms\") & (cod_all[\"year\"] == 2023)]"
   ]
  },
  {
   "cell_type": "code",
   "execution_count": null,
   "id": "7089cc17-e1af-47ce-9f7c-89e0a125e915",
   "metadata": {},
   "outputs": [],
   "source": [
    "fig = px.treemap(\n",
    "    cod_all[(cod_all[\"simple_grouping\"] != \"total\") & (cod_all[\"year\"] == 2023)],\n",
    "    path=[px.Constant(\"all\"), \"simple_grouping\", \"icd_-_sub-chapter\"],\n",
    "    values=\"deaths\",\n",
    ")\n",
    "fig"
   ]
  },
  {
   "cell_type": "code",
   "execution_count": null,
   "id": "23a770af-27f7-4b38-a122-44cf372c7875",
   "metadata": {},
   "outputs": [],
   "source": [
    "summary = charters.chart(\n",
    "    df=test_df,\n",
    "    x_axis=\"year\",\n",
    "    y_axis=\"diff_pct\",\n",
    "    color=category_col,\n",
    "    type=\"area\",\n",
    "    category_orders=category_orders,\n",
    "    display=False,\n",
    ")\n",
    "pivot = summary.pivot(index=category_col, columns=\"year\", values=\"diff_pct\")\n",
    "pivot.index = pd.Categorical(\n",
    "    pivot.index, categories=category_orders[category_col], ordered=True\n",
    ")\n",
    "pivot = pivot.sort_index().reset_index()\n",
    "pivot"
   ]
  },
  {
   "cell_type": "code",
   "execution_count": null,
   "id": "b8e61660-a57e-4c03-bf09-0f537e7b3698",
   "metadata": {},
   "outputs": [],
   "source": [
    "summary = charters.chart(\n",
    "    df=test_df,\n",
    "    x_axis=\"year\",\n",
    "    y_axis=\"diff_abs\",\n",
    "    color=category_col,\n",
    "    type=\"area\",\n",
    "    category_orders=category_orders,\n",
    "    display=False,\n",
    ")\n",
    "pivot = summary.pivot(index=category_col, columns=\"year\", values=\"diff_abs\")\n",
    "pivot.index = pd.Categorical(\n",
    "    pivot.index, categories=category_orders[category_col], ordered=True\n",
    ")\n",
    "pivot = pivot.sort_index()\n",
    "pivot"
   ]
  },
  {
   "cell_type": "code",
   "execution_count": 246,
   "id": "c630dfad-6aec-4ba5-85a8-f86d36adf515",
   "metadata": {},
   "outputs": [
    {
     "name": "stdout",
     "output_type": "stream",
     "text": [
      "\u001b[37m 2024-12-08 16:23:05 \u001b[0m|\u001b[37m morai.utils.helpers \u001b[0m|\u001b[33m WARNING  \u001b[0m|\u001b[33m There are common columns between the DataFrames: {'simple_grouping'} \u001b[0m\n"
     ]
    }
   ],
   "source": [
    "deaths_pivot, names_pivot = cdc.get_top_deaths_by_age_group(df=cod_all, year=2018)"
   ]
  },
  {
   "cell_type": "markdown",
   "id": "f5b41604-6965-4111-82f7-0b94957ba343",
   "metadata": {},
   "source": [
    "## Monthly"
   ]
  },
  {
   "cell_type": "markdown",
   "id": "1ec12d14-7a68-45ad-bf82-cb04dcf6b282",
   "metadata": {},
   "source": [
    "### SQL"
   ]
  },
  {
   "cell_type": "code",
   "execution_count": null,
   "id": "ce851603-212e-4fe3-be23-38723f5163bc",
   "metadata": {},
   "outputs": [],
   "source": [
    "mcd18_monthly = cdc.get_cdc_data_sql(\n",
    "    db_filepath=db_filepath, table_name=\"mcd18_monthly\"\n",
    ")"
   ]
  },
  {
   "cell_type": "markdown",
   "id": "f0c6eb4e-9157-48aa-9cf6-148f0ebe0a4a",
   "metadata": {},
   "source": [
    "### Chart"
   ]
  },
  {
   "cell_type": "code",
   "execution_count": null,
   "id": "68cb0caf-923a-43c4-be8a-09d3e9b3414d",
   "metadata": {},
   "outputs": [],
   "source": [
    "charters.chart(\n",
    "    df=mcd18_monthly,\n",
    "    x_axis=\"month\",\n",
    "    y_axis=\"deaths\",\n",
    "    type=\"area\",\n",
    ")"
   ]
  },
  {
   "cell_type": "markdown",
   "id": "cf7ec7d2-722b-43c0-9ca7-9c213230e4df",
   "metadata": {},
   "source": [
    "## MI"
   ]
  },
  {
   "cell_type": "markdown",
   "id": "e502937f-576e-4e85-b87c-dc6fcf7ef46b",
   "metadata": {},
   "source": [
    "### SQL"
   ]
  },
  {
   "cell_type": "code",
   "execution_count": 21,
   "id": "cca9c430-e3ab-4202-b9da-5e9498d494e9",
   "metadata": {},
   "outputs": [],
   "source": [
    "mcd79_mi = cdc.get_cdc_data_sql(db_filepath=db_filepath, table_name=\"mcd79_mi\")\n",
    "mcd99_mi = cdc.get_cdc_data_sql(db_filepath=db_filepath, table_name=\"mcd99_mi\")\n",
    "mcd18_mi = cdc.get_cdc_data_sql(db_filepath=db_filepath, table_name=\"mcd18_mi\")\n",
    "mcd18_mi = mcd18_mi[mcd18_mi[\"year\"] >= 2021]\n",
    "mi = pd.concat([mcd79_mi, mcd99_mi, mcd18_mi], axis=0, ignore_index=True)"
   ]
  },
  {
   "cell_type": "code",
   "execution_count": null,
   "id": "9bede723-2333-4ec0-a895-61c5679c4a3a",
   "metadata": {},
   "outputs": [],
   "source": [
    "mi = cdc.map_reference(\n",
    "    df=mi, col=\"value\", on_dict={\"age_groups\": \"key\"}, sheet_name=\"mapping\"\n",
    ")\n",
    "mi = mi.drop(\"age_groups\", axis=1)\n",
    "mi = mi.rename(columns={\"value\": \"age_groups\"})"
   ]
  },
  {
   "cell_type": "markdown",
   "id": "c98a4fd0-f487-491d-99be-8360d8172dc0",
   "metadata": {},
   "source": [
    "### Calculate"
   ]
  },
  {
   "cell_type": "code",
   "execution_count": null,
   "id": "f665d858-949f-4ed6-a4cf-93528655c1e7",
   "metadata": {},
   "outputs": [],
   "source": [
    "# filters\n",
    "mi = mi[mi[\"year\"] < 2020]"
   ]
  },
  {
   "cell_type": "code",
   "execution_count": null,
   "id": "8cab3093-b786-4c04-9a98-553b6694b7a9",
   "metadata": {},
   "outputs": [],
   "source": [
    "mi_df = cdc.calc_mi(df=mi, rolling=10)"
   ]
  },
  {
   "cell_type": "markdown",
   "id": "03f7ea44-f7a4-4180-9962-133aa2c7f9f9",
   "metadata": {},
   "source": [
    "### Chart"
   ]
  },
  {
   "cell_type": "code",
   "execution_count": null,
   "id": "383333cf-cb8d-439c-a757-2a8a5bff35fd",
   "metadata": {},
   "outputs": [],
   "source": [
    "charters.compare_rates(\n",
    "    df=mi_df,\n",
    "    x_axis=\"year\",\n",
    "    rates=[\"1_year_mi\", \"10_year_mi\", \"whl_3\"],\n",
    ")"
   ]
  },
  {
   "cell_type": "code",
   "execution_count": null,
   "id": "edad90d6-792b-4567-a553-2e7b065657c7",
   "metadata": {},
   "outputs": [],
   "source": [
    "mi_df.tail(10)"
   ]
  },
  {
   "cell_type": "markdown",
   "id": "e35d9146-018a-40c6-8770-178078edb959",
   "metadata": {},
   "source": [
    "## Excess"
   ]
  },
  {
   "cell_type": "code",
   "execution_count": null,
   "id": "08e9e9d7-f485-4450-848a-b5c851378f75",
   "metadata": {},
   "outputs": [],
   "source": [
    "import importlib\n",
    "importlib.reload(cdc)"
   ]
  },
  {
   "cell_type": "markdown",
   "id": "98d6459a-b3ab-483f-9c3b-264b87631efc",
   "metadata": {},
   "source": [
    "### SQL"
   ]
  },
  {
   "cell_type": "code",
   "execution_count": 6,
   "id": "e0ea8cb0-0267-40ff-a36d-03f793466d5a",
   "metadata": {},
   "outputs": [],
   "source": [
    "mcd99_mi = cdc.get_cdc_data_sql(db_filepath=db_filepath, table_name=\"mcd99_mi\")\n",
    "mcd18_mi = cdc.get_cdc_data_sql(db_filepath=db_filepath, table_name=\"mcd18_mi\")\n",
    "mcd99_mi = mcd99_mi[mcd99_mi[\"year\"] <= 2017]\n",
    "excess = pd.concat([mcd99_mi, mcd18_mi], axis=0, ignore_index=True)"
   ]
  },
  {
   "cell_type": "code",
   "execution_count": 7,
   "id": "07251067-86dc-498d-8d16-8e8ed7792bc8",
   "metadata": {},
   "outputs": [],
   "source": [
    "excess = cdc.map_reference(\n",
    "    df=excess, col=\"value\", on_dict={\"age_groups\": \"key\"}, sheet_name=\"mapping\", category=\"bin_age_int\"\n",
    ")\n",
    "excess = excess.rename(columns={'value': 'mapped_age'})"
   ]
  },
  {
   "cell_type": "code",
   "execution_count": 8,
   "id": "64a40a0a-82cd-4952-8246-f2864b1c6ffa",
   "metadata": {},
   "outputs": [],
   "source": [
    "excess_grouped = (\n",
    "    excess.groupby([\"year\", \"mapped_age\"], observed=True)\n",
    "    .sum(numeric_only=True)\n",
    "    .reset_index()\n",
    ")\n",
    "excess_grouped = excess_grouped[(excess_grouped[\"year\"] >= 2015) & (excess_grouped[\"year\"] <= 2024)].copy()\n",
    "excess_grouped[\"qx_raw\"] = excess_grouped[\"deaths\"] / excess_grouped[\"population\"]"
   ]
  },
  {
   "cell_type": "markdown",
   "id": "2314159e-b272-4034-8d49-f447f3eeaf93",
   "metadata": {},
   "source": [
    "### Calculate"
   ]
  },
  {
   "cell_type": "code",
   "execution_count": 9,
   "id": "06c4241c-4f8b-4bff-8ccd-5655e44ec7b7",
   "metadata": {},
   "outputs": [
    {
     "name": "stdout",
     "output_type": "stream",
     "text": [
      "\u001b[37m 2025-03-01 23:13:27 \u001b[0m|\u001b[37m morai.forecast.models \u001b[0m|\u001b[32m INFO     \u001b[0m|\u001b[32m initialized LeeCarter \u001b[0m\n",
      "\u001b[37m 2025-03-01 23:13:27 \u001b[0m|\u001b[37m morai.forecast.models \u001b[0m|\u001b[32m INFO     \u001b[0m|\u001b[32m grouping data by age and year \u001b[0m\n",
      "\u001b[37m 2025-03-01 23:13:27 \u001b[0m|\u001b[37m morai.forecast.models \u001b[0m|\u001b[32m INFO     \u001b[0m|\u001b[32m calculating qx_raw rates using deaths and population \u001b[0m\n",
      "\u001b[37m 2025-03-01 23:13:27 \u001b[0m|\u001b[37m morai.forecast.models \u001b[0m|\u001b[32m INFO     \u001b[0m|\u001b[32m floored 0 rates to 0.000001 and capped 0 rates to 0.999999. \u001b[0m\n",
      "\u001b[37m 2025-03-01 23:13:27 \u001b[0m|\u001b[37m morai.forecast.models \u001b[0m|\u001b[32m INFO     \u001b[0m|\u001b[32m crude_df shape: (55, 5) \u001b[0m\n",
      "\u001b[37m 2025-03-01 23:13:27 \u001b[0m|\u001b[37m morai.forecast.models \u001b[0m|\u001b[32m INFO     \u001b[0m|\u001b[32m creating Lee Carter model with qx_raw rates... \u001b[0m\n",
      "\u001b[37m 2025-03-01 23:13:27 \u001b[0m|\u001b[37m morai.forecast.models \u001b[0m|\u001b[32m INFO     \u001b[0m|\u001b[32m age range: 0, 85 \u001b[0m\n",
      "\u001b[37m 2025-03-01 23:13:27 \u001b[0m|\u001b[37m morai.forecast.models \u001b[0m|\u001b[32m INFO     \u001b[0m|\u001b[32m year range: 2015, 2019 \u001b[0m\n",
      "\u001b[37m 2025-03-01 23:13:27 \u001b[0m|\u001b[37m morai.forecast.models \u001b[0m|\u001b[32m INFO     \u001b[0m|\u001b[32m creating `11` intervals \u001b[0m\n",
      "\u001b[37m 2025-03-01 23:13:27 \u001b[0m|\u001b[37m morai.forecast.models \u001b[0m|\u001b[32m INFO     \u001b[0m|\u001b[32m adding qx_lc to lc_df \u001b[0m\n"
     ]
    }
   ],
   "source": [
    "train_df = excess_grouped[(excess_grouped[\"year\"] >= 2015) & (excess_grouped[\"year\"] <= 2019)].copy()\n",
    "model = models.LeeCarter(\n",
    "    age_col=\"mapped_age\",\n",
    "    year_col=\"year\",\n",
    "    actual_col=\"deaths\",\n",
    "    expose_col=\"population\",\n",
    "    interval=1,\n",
    ")\n",
    "fit_df = model.structure_df(train_df)\n",
    "fit_df = model.fit(fit_df)"
   ]
  },
  {
   "cell_type": "code",
   "execution_count": 10,
   "id": "a4b5e1f2-5782-4b2a-b25c-0a31560bf5be",
   "metadata": {},
   "outputs": [
    {
     "name": "stdout",
     "output_type": "stream",
     "text": [
      "\u001b[37m 2025-03-01 23:13:27 \u001b[0m|\u001b[37m morai.forecast.models \u001b[0m|\u001b[32m INFO     \u001b[0m|\u001b[32m forecasting qx_lc using deterministic random walk... \u001b[0m\n"
     ]
    }
   ],
   "source": [
    "forecast_df = model.forecast(years=5)\n",
    "forecast_df = pd.concat(\n",
    "    [fit_df[[\"year\", \"mapped_age\", \"qx_lc\"]], forecast_df], axis=0\n",
    ").reset_index()"
   ]
  },
  {
   "cell_type": "code",
   "execution_count": 11,
   "id": "01abe350-13c0-4067-9cee-4ba790af2b48",
   "metadata": {},
   "outputs": [],
   "source": [
    "excess_grouped = pd.merge(\n",
    "    excess_grouped,\n",
    "    forecast_df[[\"mapped_age\", \"year\", \"qx_lc\"]],\n",
    "    on=[\"mapped_age\", \"year\"],\n",
    "    how=\"left\",\n",
    ")\n",
    "excess_grouped[\"deaths_lc\"] = excess_grouped[\"population\"] * excess_grouped[\"qx_lc\"]"
   ]
  },
  {
   "cell_type": "code",
   "execution_count": 12,
   "id": "aa19dfcb-714f-4555-890a-115685ee851c",
   "metadata": {},
   "outputs": [
    {
     "name": "stdout",
     "output_type": "stream",
     "text": [
      "\u001b[37m 2025-03-01 23:13:27 \u001b[0m|\u001b[37m morai.forecast.models \u001b[0m|\u001b[32m INFO     \u001b[0m|\u001b[32m initialized CBD \u001b[0m\n",
      "\u001b[37m 2025-03-01 23:13:27 \u001b[0m|\u001b[37m morai.forecast.models \u001b[0m|\u001b[32m INFO     \u001b[0m|\u001b[32m grouping data by age and year \u001b[0m\n",
      "\u001b[37m 2025-03-01 23:13:27 \u001b[0m|\u001b[37m morai.forecast.models \u001b[0m|\u001b[32m INFO     \u001b[0m|\u001b[32m calculating qx_raw rates using deaths and population \u001b[0m\n",
      "\u001b[37m 2025-03-01 23:13:27 \u001b[0m|\u001b[37m morai.forecast.models \u001b[0m|\u001b[32m INFO     \u001b[0m|\u001b[32m floored 0 rates to 0.000001 and capped 0 rates to 0.999999. \u001b[0m\n",
      "\u001b[37m 2025-03-01 23:13:27 \u001b[0m|\u001b[37m morai.forecast.models \u001b[0m|\u001b[32m INFO     \u001b[0m|\u001b[32m cbd_df shape: (55, 5) \u001b[0m\n",
      "\u001b[37m 2025-03-01 23:13:27 \u001b[0m|\u001b[37m morai.forecast.models \u001b[0m|\u001b[32m INFO     \u001b[0m|\u001b[32m creating CBD model with qx_raw rates... \u001b[0m\n",
      "\u001b[37m 2025-03-01 23:13:27 \u001b[0m|\u001b[37m morai.forecast.models \u001b[0m|\u001b[32m INFO     \u001b[0m|\u001b[32m age range: 0, 85 \u001b[0m\n",
      "\u001b[37m 2025-03-01 23:13:27 \u001b[0m|\u001b[37m morai.forecast.models \u001b[0m|\u001b[32m INFO     \u001b[0m|\u001b[32m year range: 2015, 2019 \u001b[0m\n",
      "\u001b[37m 2025-03-01 23:13:27 \u001b[0m|\u001b[37m morai.forecast.models \u001b[0m|\u001b[32m INFO     \u001b[0m|\u001b[32m creating `3` intervals \u001b[0m\n",
      "\u001b[37m 2025-03-01 23:13:27 \u001b[0m|\u001b[37m morai.forecast.models \u001b[0m|\u001b[32m INFO     \u001b[0m|\u001b[32m adding qx_cbd to cbd_df \u001b[0m\n"
     ]
    }
   ],
   "source": [
    "train_df = excess_grouped[(excess_grouped[\"year\"] >= 2015) & (excess_grouped[\"year\"] <= 2019)].copy()\n",
    "model = models.CBD(\n",
    "    age_col=\"mapped_age\",\n",
    "    year_col=\"year\",\n",
    "    actual_col=\"deaths\",\n",
    "    expose_col=\"population\",\n",
    "    interval=3,\n",
    ")\n",
    "fit_df = model.structure_df(train_df)\n",
    "fit_df = model.fit(fit_df)"
   ]
  },
  {
   "cell_type": "code",
   "execution_count": 13,
   "id": "99dd9386-bd7c-4f6a-ad46-539be9d4c84a",
   "metadata": {},
   "outputs": [
    {
     "name": "stdout",
     "output_type": "stream",
     "text": [
      "\u001b[37m 2025-03-01 23:13:28 \u001b[0m|\u001b[37m morai.forecast.models \u001b[0m|\u001b[32m INFO     \u001b[0m|\u001b[32m forecasting qx_cbd using deterministic random walk... \u001b[0m\n"
     ]
    }
   ],
   "source": [
    "forecast_df = model.forecast(years=5)\n",
    "forecast_df = pd.concat(\n",
    "    [fit_df[[\"year\", \"mapped_age\", \"qx_cbd\"]], forecast_df], axis=0\n",
    ").reset_index()"
   ]
  },
  {
   "cell_type": "code",
   "execution_count": 14,
   "id": "381d2d6b-6f38-4218-9e1e-b6bbf6b629da",
   "metadata": {},
   "outputs": [],
   "source": [
    "excess_grouped = pd.merge(\n",
    "    excess_grouped,\n",
    "    forecast_df[[\"mapped_age\", \"year\", \"qx_cbd\"]],\n",
    "    on=[\"mapped_age\", \"year\"],\n",
    "    how=\"left\",\n",
    ")\n",
    "excess_grouped[\"deaths_cbd\"] = excess_grouped[\"population\"] * excess_grouped[\"qx_cbd\"]"
   ]
  },
  {
   "cell_type": "markdown",
   "id": "2956cced-25fd-4c43-8f8c-31735f314e15",
   "metadata": {},
   "source": [
    "### Chart"
   ]
  },
  {
   "cell_type": "code",
   "execution_count": 33,
   "id": "f9bc33ad-6187-4d6c-bfca-dd742337b2d8",
   "metadata": {},
   "outputs": [
    {
     "name": "stdout",
     "output_type": "stream",
     "text": [
      "\u001b[37m 2025-03-01 23:31:01 \u001b[0m|\u001b[37m morai.experience.charters \u001b[0m|\u001b[32m INFO     \u001b[0m|\u001b[32m The weights list is 1 long and should be 3 long. Using the first weight for all weights. \u001b[0m\n"
     ]
    },
    {
     "data": {
      "application/vnd.plotly.v1+json": {
       "config": {
        "plotlyServerURL": "https://plot.ly"
       },
       "data": [
        {
         "mode": "lines+markers",
         "name": "qx_raw",
         "type": "scatter",
         "x": [
          2015,
          2016,
          2017,
          2018,
          2019,
          2020,
          2021,
          2022,
          2023,
          2024
         ],
         "xaxis": "x",
         "y": [
          0.041713724034906245,
          0.04068414561350835,
          0.04064997441243018,
          0.04003843666116848,
          0.03916759219584987,
          0.04508488373879221,
          0.04466947964950479,
          0.041989466466667305,
          0.03900313799397759,
          0.039397731187872015
         ],
         "yaxis": "y"
        },
        {
         "mode": "lines+markers",
         "name": "qx_cbd",
         "type": "scatter",
         "x": [
          2015,
          2016,
          2017,
          2018,
          2019,
          2020,
          2021,
          2022,
          2023,
          2024
         ],
         "xaxis": "x",
         "y": [
          0.04179751514224487,
          0.040803403998672286,
          0.04079291654554543,
          0.04021542568056839,
          0.03936343348655116,
          0.03880082351837216,
          0.03697662415188992,
          0.0376101148945931,
          0.03665417288766021,
          0.036394774207737166
         ],
         "yaxis": "y"
        },
        {
         "mode": "lines+markers",
         "name": "qx_lc",
         "type": "scatter",
         "x": [
          2015,
          2016,
          2017,
          2018,
          2019,
          2020,
          2021,
          2022,
          2023,
          2024
         ],
         "xaxis": "x",
         "y": [
          0.04171372403490625,
          0.04068414561350835,
          0.040649974412430186,
          0.04003843666116848,
          0.03916759219584987,
          0.038582752891290796,
          0.03672991847235639,
          0.037350081943253066,
          0.03637307234836499,
          0.036093280074578175
         ],
         "yaxis": "y"
        }
       ],
       "layout": {
        "height": 400,
        "template": {
         "data": {
          "bar": [
           {
            "error_x": {
             "color": "#2a3f5f"
            },
            "error_y": {
             "color": "#2a3f5f"
            },
            "marker": {
             "line": {
              "color": "#E5ECF6",
              "width": 0.5
             },
             "pattern": {
              "fillmode": "overlay",
              "size": 10,
              "solidity": 0.2
             }
            },
            "type": "bar"
           }
          ],
          "barpolar": [
           {
            "marker": {
             "line": {
              "color": "#E5ECF6",
              "width": 0.5
             },
             "pattern": {
              "fillmode": "overlay",
              "size": 10,
              "solidity": 0.2
             }
            },
            "type": "barpolar"
           }
          ],
          "carpet": [
           {
            "aaxis": {
             "endlinecolor": "#2a3f5f",
             "gridcolor": "white",
             "linecolor": "white",
             "minorgridcolor": "white",
             "startlinecolor": "#2a3f5f"
            },
            "baxis": {
             "endlinecolor": "#2a3f5f",
             "gridcolor": "white",
             "linecolor": "white",
             "minorgridcolor": "white",
             "startlinecolor": "#2a3f5f"
            },
            "type": "carpet"
           }
          ],
          "choropleth": [
           {
            "colorbar": {
             "outlinewidth": 0,
             "ticks": ""
            },
            "type": "choropleth"
           }
          ],
          "contour": [
           {
            "colorbar": {
             "outlinewidth": 0,
             "ticks": ""
            },
            "colorscale": [
             [
              0,
              "#0d0887"
             ],
             [
              0.1111111111111111,
              "#46039f"
             ],
             [
              0.2222222222222222,
              "#7201a8"
             ],
             [
              0.3333333333333333,
              "#9c179e"
             ],
             [
              0.4444444444444444,
              "#bd3786"
             ],
             [
              0.5555555555555556,
              "#d8576b"
             ],
             [
              0.6666666666666666,
              "#ed7953"
             ],
             [
              0.7777777777777778,
              "#fb9f3a"
             ],
             [
              0.8888888888888888,
              "#fdca26"
             ],
             [
              1,
              "#f0f921"
             ]
            ],
            "type": "contour"
           }
          ],
          "contourcarpet": [
           {
            "colorbar": {
             "outlinewidth": 0,
             "ticks": ""
            },
            "type": "contourcarpet"
           }
          ],
          "heatmap": [
           {
            "colorbar": {
             "outlinewidth": 0,
             "ticks": ""
            },
            "colorscale": [
             [
              0,
              "#0d0887"
             ],
             [
              0.1111111111111111,
              "#46039f"
             ],
             [
              0.2222222222222222,
              "#7201a8"
             ],
             [
              0.3333333333333333,
              "#9c179e"
             ],
             [
              0.4444444444444444,
              "#bd3786"
             ],
             [
              0.5555555555555556,
              "#d8576b"
             ],
             [
              0.6666666666666666,
              "#ed7953"
             ],
             [
              0.7777777777777778,
              "#fb9f3a"
             ],
             [
              0.8888888888888888,
              "#fdca26"
             ],
             [
              1,
              "#f0f921"
             ]
            ],
            "type": "heatmap"
           }
          ],
          "heatmapgl": [
           {
            "colorbar": {
             "outlinewidth": 0,
             "ticks": ""
            },
            "colorscale": [
             [
              0,
              "#0d0887"
             ],
             [
              0.1111111111111111,
              "#46039f"
             ],
             [
              0.2222222222222222,
              "#7201a8"
             ],
             [
              0.3333333333333333,
              "#9c179e"
             ],
             [
              0.4444444444444444,
              "#bd3786"
             ],
             [
              0.5555555555555556,
              "#d8576b"
             ],
             [
              0.6666666666666666,
              "#ed7953"
             ],
             [
              0.7777777777777778,
              "#fb9f3a"
             ],
             [
              0.8888888888888888,
              "#fdca26"
             ],
             [
              1,
              "#f0f921"
             ]
            ],
            "type": "heatmapgl"
           }
          ],
          "histogram": [
           {
            "marker": {
             "pattern": {
              "fillmode": "overlay",
              "size": 10,
              "solidity": 0.2
             }
            },
            "type": "histogram"
           }
          ],
          "histogram2d": [
           {
            "colorbar": {
             "outlinewidth": 0,
             "ticks": ""
            },
            "colorscale": [
             [
              0,
              "#0d0887"
             ],
             [
              0.1111111111111111,
              "#46039f"
             ],
             [
              0.2222222222222222,
              "#7201a8"
             ],
             [
              0.3333333333333333,
              "#9c179e"
             ],
             [
              0.4444444444444444,
              "#bd3786"
             ],
             [
              0.5555555555555556,
              "#d8576b"
             ],
             [
              0.6666666666666666,
              "#ed7953"
             ],
             [
              0.7777777777777778,
              "#fb9f3a"
             ],
             [
              0.8888888888888888,
              "#fdca26"
             ],
             [
              1,
              "#f0f921"
             ]
            ],
            "type": "histogram2d"
           }
          ],
          "histogram2dcontour": [
           {
            "colorbar": {
             "outlinewidth": 0,
             "ticks": ""
            },
            "colorscale": [
             [
              0,
              "#0d0887"
             ],
             [
              0.1111111111111111,
              "#46039f"
             ],
             [
              0.2222222222222222,
              "#7201a8"
             ],
             [
              0.3333333333333333,
              "#9c179e"
             ],
             [
              0.4444444444444444,
              "#bd3786"
             ],
             [
              0.5555555555555556,
              "#d8576b"
             ],
             [
              0.6666666666666666,
              "#ed7953"
             ],
             [
              0.7777777777777778,
              "#fb9f3a"
             ],
             [
              0.8888888888888888,
              "#fdca26"
             ],
             [
              1,
              "#f0f921"
             ]
            ],
            "type": "histogram2dcontour"
           }
          ],
          "mesh3d": [
           {
            "colorbar": {
             "outlinewidth": 0,
             "ticks": ""
            },
            "type": "mesh3d"
           }
          ],
          "parcoords": [
           {
            "line": {
             "colorbar": {
              "outlinewidth": 0,
              "ticks": ""
             }
            },
            "type": "parcoords"
           }
          ],
          "pie": [
           {
            "automargin": true,
            "type": "pie"
           }
          ],
          "scatter": [
           {
            "fillpattern": {
             "fillmode": "overlay",
             "size": 10,
             "solidity": 0.2
            },
            "type": "scatter"
           }
          ],
          "scatter3d": [
           {
            "line": {
             "colorbar": {
              "outlinewidth": 0,
              "ticks": ""
             }
            },
            "marker": {
             "colorbar": {
              "outlinewidth": 0,
              "ticks": ""
             }
            },
            "type": "scatter3d"
           }
          ],
          "scattercarpet": [
           {
            "marker": {
             "colorbar": {
              "outlinewidth": 0,
              "ticks": ""
             }
            },
            "type": "scattercarpet"
           }
          ],
          "scattergeo": [
           {
            "marker": {
             "colorbar": {
              "outlinewidth": 0,
              "ticks": ""
             }
            },
            "type": "scattergeo"
           }
          ],
          "scattergl": [
           {
            "marker": {
             "colorbar": {
              "outlinewidth": 0,
              "ticks": ""
             }
            },
            "type": "scattergl"
           }
          ],
          "scattermapbox": [
           {
            "marker": {
             "colorbar": {
              "outlinewidth": 0,
              "ticks": ""
             }
            },
            "type": "scattermapbox"
           }
          ],
          "scatterpolar": [
           {
            "marker": {
             "colorbar": {
              "outlinewidth": 0,
              "ticks": ""
             }
            },
            "type": "scatterpolar"
           }
          ],
          "scatterpolargl": [
           {
            "marker": {
             "colorbar": {
              "outlinewidth": 0,
              "ticks": ""
             }
            },
            "type": "scatterpolargl"
           }
          ],
          "scatterternary": [
           {
            "marker": {
             "colorbar": {
              "outlinewidth": 0,
              "ticks": ""
             }
            },
            "type": "scatterternary"
           }
          ],
          "surface": [
           {
            "colorbar": {
             "outlinewidth": 0,
             "ticks": ""
            },
            "colorscale": [
             [
              0,
              "#0d0887"
             ],
             [
              0.1111111111111111,
              "#46039f"
             ],
             [
              0.2222222222222222,
              "#7201a8"
             ],
             [
              0.3333333333333333,
              "#9c179e"
             ],
             [
              0.4444444444444444,
              "#bd3786"
             ],
             [
              0.5555555555555556,
              "#d8576b"
             ],
             [
              0.6666666666666666,
              "#ed7953"
             ],
             [
              0.7777777777777778,
              "#fb9f3a"
             ],
             [
              0.8888888888888888,
              "#fdca26"
             ],
             [
              1,
              "#f0f921"
             ]
            ],
            "type": "surface"
           }
          ],
          "table": [
           {
            "cells": {
             "fill": {
              "color": "#EBF0F8"
             },
             "line": {
              "color": "white"
             }
            },
            "header": {
             "fill": {
              "color": "#C8D4E3"
             },
             "line": {
              "color": "white"
             }
            },
            "type": "table"
           }
          ]
         },
         "layout": {
          "annotationdefaults": {
           "arrowcolor": "#2a3f5f",
           "arrowhead": 0,
           "arrowwidth": 1
          },
          "autotypenumbers": "strict",
          "coloraxis": {
           "colorbar": {
            "outlinewidth": 0,
            "ticks": ""
           }
          },
          "colorscale": {
           "diverging": [
            [
             0,
             "#8e0152"
            ],
            [
             0.1,
             "#c51b7d"
            ],
            [
             0.2,
             "#de77ae"
            ],
            [
             0.3,
             "#f1b6da"
            ],
            [
             0.4,
             "#fde0ef"
            ],
            [
             0.5,
             "#f7f7f7"
            ],
            [
             0.6,
             "#e6f5d0"
            ],
            [
             0.7,
             "#b8e186"
            ],
            [
             0.8,
             "#7fbc41"
            ],
            [
             0.9,
             "#4d9221"
            ],
            [
             1,
             "#276419"
            ]
           ],
           "sequential": [
            [
             0,
             "#0d0887"
            ],
            [
             0.1111111111111111,
             "#46039f"
            ],
            [
             0.2222222222222222,
             "#7201a8"
            ],
            [
             0.3333333333333333,
             "#9c179e"
            ],
            [
             0.4444444444444444,
             "#bd3786"
            ],
            [
             0.5555555555555556,
             "#d8576b"
            ],
            [
             0.6666666666666666,
             "#ed7953"
            ],
            [
             0.7777777777777778,
             "#fb9f3a"
            ],
            [
             0.8888888888888888,
             "#fdca26"
            ],
            [
             1,
             "#f0f921"
            ]
           ],
           "sequentialminus": [
            [
             0,
             "#0d0887"
            ],
            [
             0.1111111111111111,
             "#46039f"
            ],
            [
             0.2222222222222222,
             "#7201a8"
            ],
            [
             0.3333333333333333,
             "#9c179e"
            ],
            [
             0.4444444444444444,
             "#bd3786"
            ],
            [
             0.5555555555555556,
             "#d8576b"
            ],
            [
             0.6666666666666666,
             "#ed7953"
            ],
            [
             0.7777777777777778,
             "#fb9f3a"
            ],
            [
             0.8888888888888888,
             "#fdca26"
            ],
            [
             1,
             "#f0f921"
            ]
           ]
          },
          "colorway": [
           "#636efa",
           "#EF553B",
           "#00cc96",
           "#ab63fa",
           "#FFA15A",
           "#19d3f3",
           "#FF6692",
           "#B6E880",
           "#FF97FF",
           "#FECB52"
          ],
          "font": {
           "color": "#2a3f5f"
          },
          "geo": {
           "bgcolor": "white",
           "lakecolor": "white",
           "landcolor": "#E5ECF6",
           "showlakes": true,
           "showland": true,
           "subunitcolor": "white"
          },
          "hoverlabel": {
           "align": "left"
          },
          "hovermode": "closest",
          "mapbox": {
           "style": "light"
          },
          "paper_bgcolor": "white",
          "plot_bgcolor": "#E5ECF6",
          "polar": {
           "angularaxis": {
            "gridcolor": "white",
            "linecolor": "white",
            "ticks": ""
           },
           "bgcolor": "#E5ECF6",
           "radialaxis": {
            "gridcolor": "white",
            "linecolor": "white",
            "ticks": ""
           }
          },
          "scene": {
           "xaxis": {
            "backgroundcolor": "#E5ECF6",
            "gridcolor": "white",
            "gridwidth": 2,
            "linecolor": "white",
            "showbackground": true,
            "ticks": "",
            "zerolinecolor": "white"
           },
           "yaxis": {
            "backgroundcolor": "#E5ECF6",
            "gridcolor": "white",
            "gridwidth": 2,
            "linecolor": "white",
            "showbackground": true,
            "ticks": "",
            "zerolinecolor": "white"
           },
           "zaxis": {
            "backgroundcolor": "#E5ECF6",
            "gridcolor": "white",
            "gridwidth": 2,
            "linecolor": "white",
            "showbackground": true,
            "ticks": "",
            "zerolinecolor": "white"
           }
          },
          "shapedefaults": {
           "line": {
            "color": "#2a3f5f"
           }
          },
          "ternary": {
           "aaxis": {
            "gridcolor": "white",
            "linecolor": "white",
            "ticks": ""
           },
           "baxis": {
            "gridcolor": "white",
            "linecolor": "white",
            "ticks": ""
           },
           "bgcolor": "#E5ECF6",
           "caxis": {
            "gridcolor": "white",
            "linecolor": "white",
            "ticks": ""
           }
          },
          "title": {
           "x": 0.05
          },
          "xaxis": {
           "automargin": true,
           "gridcolor": "white",
           "linecolor": "white",
           "ticks": "",
           "title": {
            "standoff": 15
           },
           "zerolinecolor": "white",
           "zerolinewidth": 2
          },
          "yaxis": {
           "automargin": true,
           "gridcolor": "white",
           "linecolor": "white",
           "ticks": "",
           "title": {
            "standoff": 15
           },
           "zerolinecolor": "white",
           "zerolinewidth": 2
          }
         }
        },
        "title": {
         "text": "Comparison of '['qx_raw', 'qx_cbd', 'qx_lc']' by 'year'"
        },
        "xaxis": {
         "anchor": "y",
         "domain": [
          0,
          0.94
         ],
         "title": {
          "text": "year"
         }
        },
        "yaxis": {
         "anchor": "x",
         "domain": [
          0,
          1
         ],
         "title": {
          "text": "Rates"
         },
         "type": "-"
        },
        "yaxis2": {
         "anchor": "x",
         "overlaying": "y",
         "side": "right"
        }
       }
      },
      "image/png": "[encoded data removed]",
      "text/html": [
       "<div>                            <div id=\"3b83b378-dce0-45de-a2e5-da60bcf300b5\" class=\"plotly-graph-div\" style=\"height:400px; width:100%;\"></div>            <script type=\"text/javascript\">                require([\"plotly\"], function(Plotly) {                    window.PLOTLYENV=window.PLOTLYENV || {};                                    if (document.getElementById(\"3b83b378-dce0-45de-a2e5-da60bcf300b5\")) {                    Plotly.newPlot(                        \"3b83b378-dce0-45de-a2e5-da60bcf300b5\",                        [{\"mode\":\"lines+markers\",\"name\":\"qx_raw\",\"x\":[2015,2016,2017,2018,2019,2020,2021,2022,2023,2024],\"y\":[0.041713724034906245,0.04068414561350835,0.04064997441243018,0.04003843666116848,0.03916759219584987,0.04508488373879221,0.04466947964950479,0.041989466466667305,0.03900313799397759,0.039397731187872015],\"type\":\"scatter\",\"xaxis\":\"x\",\"yaxis\":\"y\"},{\"mode\":\"lines+markers\",\"name\":\"qx_cbd\",\"x\":[2015,2016,2017,2018,2019,2020,2021,2022,2023,2024],\"y\":[0.04179751514224487,0.040803403998672286,0.04079291654554543,0.04021542568056839,0.03936343348655116,0.03880082351837216,0.03697662415188992,0.0376101148945931,0.03665417288766021,0.036394774207737166],\"type\":\"scatter\",\"xaxis\":\"x\",\"yaxis\":\"y\"},{\"mode\":\"lines+markers\",\"name\":\"qx_lc\",\"x\":[2015,2016,2017,2018,2019,2020,2021,2022,2023,2024],\"y\":[0.04171372403490625,0.04068414561350835,0.040649974412430186,0.04003843666116848,0.03916759219584987,0.038582752891290796,0.03672991847235639,0.037350081943253066,0.03637307234836499,0.036093280074578175],\"type\":\"scatter\",\"xaxis\":\"x\",\"yaxis\":\"y\"}],                        {\"template\":{\"data\":{\"histogram2dcontour\":[{\"type\":\"histogram2dcontour\",\"colorbar\":{\"outlinewidth\":0,\"ticks\":\"\"},\"colorscale\":[[0.0,\"#0d0887\"],[0.1111111111111111,\"#46039f\"],[0.2222222222222222,\"#7201a8\"],[0.3333333333333333,\"#9c179e\"],[0.4444444444444444,\"#bd3786\"],[0.5555555555555556,\"#d8576b\"],[0.6666666666666666,\"#ed7953\"],[0.7777777777777778,\"#fb9f3a\"],[0.8888888888888888,\"#fdca26\"],[1.0,\"#f0f921\"]]}],\"choropleth\":[{\"type\":\"choropleth\",\"colorbar\":{\"outlinewidth\":0,\"ticks\":\"\"}}],\"histogram2d\":[{\"type\":\"histogram2d\",\"colorbar\":{\"outlinewidth\":0,\"ticks\":\"\"},\"colorscale\":[[0.0,\"#0d0887\"],[0.1111111111111111,\"#46039f\"],[0.2222222222222222,\"#7201a8\"],[0.3333333333333333,\"#9c179e\"],[0.4444444444444444,\"#bd3786\"],[0.5555555555555556,\"#d8576b\"],[0.6666666666666666,\"#ed7953\"],[0.7777777777777778,\"#fb9f3a\"],[0.8888888888888888,\"#fdca26\"],[1.0,\"#f0f921\"]]}],\"heatmap\":[{\"type\":\"heatmap\",\"colorbar\":{\"outlinewidth\":0,\"ticks\":\"\"},\"colorscale\":[[0.0,\"#0d0887\"],[0.1111111111111111,\"#46039f\"],[0.2222222222222222,\"#7201a8\"],[0.3333333333333333,\"#9c179e\"],[0.4444444444444444,\"#bd3786\"],[0.5555555555555556,\"#d8576b\"],[0.6666666666666666,\"#ed7953\"],[0.7777777777777778,\"#fb9f3a\"],[0.8888888888888888,\"#fdca26\"],[1.0,\"#f0f921\"]]}],\"heatmapgl\":[{\"type\":\"heatmapgl\",\"colorbar\":{\"outlinewidth\":0,\"ticks\":\"\"},\"colorscale\":[[0.0,\"#0d0887\"],[0.1111111111111111,\"#46039f\"],[0.2222222222222222,\"#7201a8\"],[0.3333333333333333,\"#9c179e\"],[0.4444444444444444,\"#bd3786\"],[0.5555555555555556,\"#d8576b\"],[0.6666666666666666,\"#ed7953\"],[0.7777777777777778,\"#fb9f3a\"],[0.8888888888888888,\"#fdca26\"],[1.0,\"#f0f921\"]]}],\"contourcarpet\":[{\"type\":\"contourcarpet\",\"colorbar\":{\"outlinewidth\":0,\"ticks\":\"\"}}],\"contour\":[{\"type\":\"contour\",\"colorbar\":{\"outlinewidth\":0,\"ticks\":\"\"},\"colorscale\":[[0.0,\"#0d0887\"],[0.1111111111111111,\"#46039f\"],[0.2222222222222222,\"#7201a8\"],[0.3333333333333333,\"#9c179e\"],[0.4444444444444444,\"#bd3786\"],[0.5555555555555556,\"#d8576b\"],[0.6666666666666666,\"#ed7953\"],[0.7777777777777778,\"#fb9f3a\"],[0.8888888888888888,\"#fdca26\"],[1.0,\"#f0f921\"]]}],\"surface\":[{\"type\":\"surface\",\"colorbar\":{\"outlinewidth\":0,\"ticks\":\"\"},\"colorscale\":[[0.0,\"#0d0887\"],[0.1111111111111111,\"#46039f\"],[0.2222222222222222,\"#7201a8\"],[0.3333333333333333,\"#9c179e\"],[0.4444444444444444,\"#bd3786\"],[0.5555555555555556,\"#d8576b\"],[0.6666666666666666,\"#ed7953\"],[0.7777777777777778,\"#fb9f3a\"],[0.8888888888888888,\"#fdca26\"],[1.0,\"#f0f921\"]]}],\"mesh3d\":[{\"type\":\"mesh3d\",\"colorbar\":{\"outlinewidth\":0,\"ticks\":\"\"}}],\"scatter\":[{\"fillpattern\":{\"fillmode\":\"overlay\",\"size\":10,\"solidity\":0.2},\"type\":\"scatter\"}],\"parcoords\":[{\"type\":\"parcoords\",\"line\":{\"colorbar\":{\"outlinewidth\":0,\"ticks\":\"\"}}}],\"scatterpolargl\":[{\"type\":\"scatterpolargl\",\"marker\":{\"colorbar\":{\"outlinewidth\":0,\"ticks\":\"\"}}}],\"bar\":[{\"error_x\":{\"color\":\"#2a3f5f\"},\"error_y\":{\"color\":\"#2a3f5f\"},\"marker\":{\"line\":{\"color\":\"#E5ECF6\",\"width\":0.5},\"pattern\":{\"fillmode\":\"overlay\",\"size\":10,\"solidity\":0.2}},\"type\":\"bar\"}],\"scattergeo\":[{\"type\":\"scattergeo\",\"marker\":{\"colorbar\":{\"outlinewidth\":0,\"ticks\":\"\"}}}],\"scatterpolar\":[{\"type\":\"scatterpolar\",\"marker\":{\"colorbar\":{\"outlinewidth\":0,\"ticks\":\"\"}}}],\"histogram\":[{\"marker\":{\"pattern\":{\"fillmode\":\"overlay\",\"size\":10,\"solidity\":0.2}},\"type\":\"histogram\"}],\"scattergl\":[{\"type\":\"scattergl\",\"marker\":{\"colorbar\":{\"outlinewidth\":0,\"ticks\":\"\"}}}],\"scatter3d\":[{\"type\":\"scatter3d\",\"line\":{\"colorbar\":{\"outlinewidth\":0,\"ticks\":\"\"}},\"marker\":{\"colorbar\":{\"outlinewidth\":0,\"ticks\":\"\"}}}],\"scattermapbox\":[{\"type\":\"scattermapbox\",\"marker\":{\"colorbar\":{\"outlinewidth\":0,\"ticks\":\"\"}}}],\"scatterternary\":[{\"type\":\"scatterternary\",\"marker\":{\"colorbar\":{\"outlinewidth\":0,\"ticks\":\"\"}}}],\"scattercarpet\":[{\"type\":\"scattercarpet\",\"marker\":{\"colorbar\":{\"outlinewidth\":0,\"ticks\":\"\"}}}],\"carpet\":[{\"aaxis\":{\"endlinecolor\":\"#2a3f5f\",\"gridcolor\":\"white\",\"linecolor\":\"white\",\"minorgridcolor\":\"white\",\"startlinecolor\":\"#2a3f5f\"},\"baxis\":{\"endlinecolor\":\"#2a3f5f\",\"gridcolor\":\"white\",\"linecolor\":\"white\",\"minorgridcolor\":\"white\",\"startlinecolor\":\"#2a3f5f\"},\"type\":\"carpet\"}],\"table\":[{\"cells\":{\"fill\":{\"color\":\"#EBF0F8\"},\"line\":{\"color\":\"white\"}},\"header\":{\"fill\":{\"color\":\"#C8D4E3\"},\"line\":{\"color\":\"white\"}},\"type\":\"table\"}],\"barpolar\":[{\"marker\":{\"line\":{\"color\":\"#E5ECF6\",\"width\":0.5},\"pattern\":{\"fillmode\":\"overlay\",\"size\":10,\"solidity\":0.2}},\"type\":\"barpolar\"}],\"pie\":[{\"automargin\":true,\"type\":\"pie\"}]},\"layout\":{\"autotypenumbers\":\"strict\",\"colorway\":[\"#636efa\",\"#EF553B\",\"#00cc96\",\"#ab63fa\",\"#FFA15A\",\"#19d3f3\",\"#FF6692\",\"#B6E880\",\"#FF97FF\",\"#FECB52\"],\"font\":{\"color\":\"#2a3f5f\"},\"hovermode\":\"closest\",\"hoverlabel\":{\"align\":\"left\"},\"paper_bgcolor\":\"white\",\"plot_bgcolor\":\"#E5ECF6\",\"polar\":{\"bgcolor\":\"#E5ECF6\",\"angularaxis\":{\"gridcolor\":\"white\",\"linecolor\":\"white\",\"ticks\":\"\"},\"radialaxis\":{\"gridcolor\":\"white\",\"linecolor\":\"white\",\"ticks\":\"\"}},\"ternary\":{\"bgcolor\":\"#E5ECF6\",\"aaxis\":{\"gridcolor\":\"white\",\"linecolor\":\"white\",\"ticks\":\"\"},\"baxis\":{\"gridcolor\":\"white\",\"linecolor\":\"white\",\"ticks\":\"\"},\"caxis\":{\"gridcolor\":\"white\",\"linecolor\":\"white\",\"ticks\":\"\"}},\"coloraxis\":{\"colorbar\":{\"outlinewidth\":0,\"ticks\":\"\"}},\"colorscale\":{\"sequential\":[[0.0,\"#0d0887\"],[0.1111111111111111,\"#46039f\"],[0.2222222222222222,\"#7201a8\"],[0.3333333333333333,\"#9c179e\"],[0.4444444444444444,\"#bd3786\"],[0.5555555555555556,\"#d8576b\"],[0.6666666666666666,\"#ed7953\"],[0.7777777777777778,\"#fb9f3a\"],[0.8888888888888888,\"#fdca26\"],[1.0,\"#f0f921\"]],\"sequentialminus\":[[0.0,\"#0d0887\"],[0.1111111111111111,\"#46039f\"],[0.2222222222222222,\"#7201a8\"],[0.3333333333333333,\"#9c179e\"],[0.4444444444444444,\"#bd3786\"],[0.5555555555555556,\"#d8576b\"],[0.6666666666666666,\"#ed7953\"],[0.7777777777777778,\"#fb9f3a\"],[0.8888888888888888,\"#fdca26\"],[1.0,\"#f0f921\"]],\"diverging\":[[0,\"#8e0152\"],[0.1,\"#c51b7d\"],[0.2,\"#de77ae\"],[0.3,\"#f1b6da\"],[0.4,\"#fde0ef\"],[0.5,\"#f7f7f7\"],[0.6,\"#e6f5d0\"],[0.7,\"#b8e186\"],[0.8,\"#7fbc41\"],[0.9,\"#4d9221\"],[1,\"#276419\"]]},\"xaxis\":{\"gridcolor\":\"white\",\"linecolor\":\"white\",\"ticks\":\"\",\"title\":{\"standoff\":15},\"zerolinecolor\":\"white\",\"automargin\":true,\"zerolinewidth\":2},\"yaxis\":{\"gridcolor\":\"white\",\"linecolor\":\"white\",\"ticks\":\"\",\"title\":{\"standoff\":15},\"zerolinecolor\":\"white\",\"automargin\":true,\"zerolinewidth\":2},\"scene\":{\"xaxis\":{\"backgroundcolor\":\"#E5ECF6\",\"gridcolor\":\"white\",\"linecolor\":\"white\",\"showbackground\":true,\"ticks\":\"\",\"zerolinecolor\":\"white\",\"gridwidth\":2},\"yaxis\":{\"backgroundcolor\":\"#E5ECF6\",\"gridcolor\":\"white\",\"linecolor\":\"white\",\"showbackground\":true,\"ticks\":\"\",\"zerolinecolor\":\"white\",\"gridwidth\":2},\"zaxis\":{\"backgroundcolor\":\"#E5ECF6\",\"gridcolor\":\"white\",\"linecolor\":\"white\",\"showbackground\":true,\"ticks\":\"\",\"zerolinecolor\":\"white\",\"gridwidth\":2}},\"shapedefaults\":{\"line\":{\"color\":\"#2a3f5f\"}},\"annotationdefaults\":{\"arrowcolor\":\"#2a3f5f\",\"arrowhead\":0,\"arrowwidth\":1},\"geo\":{\"bgcolor\":\"white\",\"landcolor\":\"#E5ECF6\",\"subunitcolor\":\"white\",\"showland\":true,\"showlakes\":true,\"lakecolor\":\"white\"},\"title\":{\"x\":0.05},\"mapbox\":{\"style\":\"light\"}}},\"xaxis\":{\"anchor\":\"y\",\"domain\":[0.0,0.94],\"title\":{\"text\":\"year\"}},\"yaxis\":{\"anchor\":\"x\",\"domain\":[0.0,1.0],\"type\":\"-\",\"title\":{\"text\":\"Rates\"}},\"yaxis2\":{\"anchor\":\"x\",\"overlaying\":\"y\",\"side\":\"right\"},\"title\":{\"text\":\"Comparison of '['qx_raw', 'qx_cbd', 'qx_lc']' by 'year'\"},\"height\":400},                        {\"responsive\": true}                    ).then(function(){\n",
       "                            \n",
       "var gd = document.getElementById('3b83b378-dce0-45de-a2e5-da60bcf300b5');\n",
       "var x = new MutationObserver(function (mutations, observer) {{\n",
       "        var display = window.getComputedStyle(gd).display;\n",
       "        if (!display || display === 'none') {{\n",
       "            console.log([gd, 'removed!']);\n",
       "            Plotly.purge(gd);\n",
       "            observer.disconnect();\n",
       "        }}\n",
       "}});\n",
       "\n",
       "// Listen for the removal of the full notebook cells\n",
       "var notebookContainer = gd.closest('#notebook-container');\n",
       "if (notebookContainer) {{\n",
       "    x.observe(notebookContainer, {childList: true});\n",
       "}}\n",
       "\n",
       "// Listen for the clearing of the current output cell\n",
       "var outputEl = gd.closest('.output');\n",
       "if (outputEl) {{\n",
       "    x.observe(outputEl, {childList: true});\n",
       "}}\n",
       "\n",
       "                        })                };                });            </script>        </div>"
      ]
     },
     "metadata": {},
     "output_type": "display_data"
    }
   ],
   "source": [
    "charters.compare_rates(\n",
    "    excess_grouped[excess_grouped['mapped_age']>=65],\n",
    "    x_axis=\"year\",\n",
    "    rates=[\"qx_raw\", \"qx_cbd\", \"qx_lc\"],\n",
    "    weights=[\"population\"],\n",
    ")"
   ]
  },
  {
   "cell_type": "code",
   "execution_count": 836,
   "id": "b46b80c7-1236-4a8b-81ab-8ad7f6b4d32c",
   "metadata": {},
   "outputs": [
    {
     "data": {
      "text/html": [
       "<div>\n",
       "<style scoped>\n",
       "    .dataframe tbody tr th:only-of-type {\n",
       "        vertical-align: middle;\n",
       "    }\n",
       "\n",
       "    .dataframe tbody tr th {\n",
       "        vertical-align: top;\n",
       "    }\n",
       "\n",
       "    .dataframe thead th {\n",
       "        text-align: right;\n",
       "    }\n",
       "</style>\n",
       "<table border=\"1\" class=\"dataframe\">\n",
       "  <thead>\n",
       "    <tr style=\"text-align: right;\">\n",
       "      <th></th>\n",
       "      <th>year</th>\n",
       "      <th>deaths</th>\n",
       "      <th>population</th>\n",
       "      <th>qx_lc</th>\n",
       "      <th>deaths_lc</th>\n",
       "      <th>qx_cbd</th>\n",
       "      <th>deaths_cbd</th>\n",
       "      <th>qx_raw</th>\n",
       "      <th>excess_lc</th>\n",
       "      <th>excess_cbd</th>\n",
       "    </tr>\n",
       "  </thead>\n",
       "  <tbody>\n",
       "    <tr>\n",
       "      <th>0</th>\n",
       "      <td>2015</td>\n",
       "      <td>2712630</td>\n",
       "      <td>321418820.0000</td>\n",
       "      <td>0.0084</td>\n",
       "      <td>2712630.0000</td>\n",
       "      <td>0.0084</td>\n",
       "      <td>2707594.1490</td>\n",
       "      <td>0.0084</td>\n",
       "      <td>1.0000</td>\n",
       "      <td>1.0019</td>\n",
       "    </tr>\n",
       "    <tr>\n",
       "      <th>1</th>\n",
       "      <td>2016</td>\n",
       "      <td>2744248</td>\n",
       "      <td>323127513.0000</td>\n",
       "      <td>0.0085</td>\n",
       "      <td>2744248.0000</td>\n",
       "      <td>0.0085</td>\n",
       "      <td>2739338.0301</td>\n",
       "      <td>0.0085</td>\n",
       "      <td>1.0000</td>\n",
       "      <td>1.0018</td>\n",
       "    </tr>\n",
       "    <tr>\n",
       "      <th>2</th>\n",
       "      <td>2017</td>\n",
       "      <td>2813503</td>\n",
       "      <td>325719178.0000</td>\n",
       "      <td>0.0086</td>\n",
       "      <td>2813503.0000</td>\n",
       "      <td>0.0086</td>\n",
       "      <td>2808698.1280</td>\n",
       "      <td>0.0086</td>\n",
       "      <td>1.0000</td>\n",
       "      <td>1.0017</td>\n",
       "    </tr>\n",
       "    <tr>\n",
       "      <th>3</th>\n",
       "      <td>2018</td>\n",
       "      <td>2839205</td>\n",
       "      <td>327167434.0000</td>\n",
       "      <td>0.0087</td>\n",
       "      <td>2839205.0000</td>\n",
       "      <td>0.0087</td>\n",
       "      <td>2834834.1622</td>\n",
       "      <td>0.0087</td>\n",
       "      <td>1.0000</td>\n",
       "      <td>1.0015</td>\n",
       "    </tr>\n",
       "    <tr>\n",
       "      <th>4</th>\n",
       "      <td>2019</td>\n",
       "      <td>2854838</td>\n",
       "      <td>328239523.0000</td>\n",
       "      <td>0.0087</td>\n",
       "      <td>2854838.0000</td>\n",
       "      <td>0.0087</td>\n",
       "      <td>2850640.7294</td>\n",
       "      <td>0.0087</td>\n",
       "      <td>1.0000</td>\n",
       "      <td>1.0015</td>\n",
       "    </tr>\n",
       "    <tr>\n",
       "      <th>5</th>\n",
       "      <td>2020</td>\n",
       "      <td>3383729</td>\n",
       "      <td>329484123.0000</td>\n",
       "      <td>0.0088</td>\n",
       "      <td>2885693.6387</td>\n",
       "      <td>0.0087</td>\n",
       "      <td>2881822.7778</td>\n",
       "      <td>0.0103</td>\n",
       "      <td>1.1726</td>\n",
       "      <td>1.1742</td>\n",
       "    </tr>\n",
       "    <tr>\n",
       "      <th>6</th>\n",
       "      <td>2021</td>\n",
       "      <td>3464231</td>\n",
       "      <td>331893745.0000</td>\n",
       "      <td>0.0084</td>\n",
       "      <td>2798074.8858</td>\n",
       "      <td>0.0084</td>\n",
       "      <td>2795028.6390</td>\n",
       "      <td>0.0104</td>\n",
       "      <td>1.2381</td>\n",
       "      <td>1.2394</td>\n",
       "    </tr>\n",
       "    <tr>\n",
       "      <th>7</th>\n",
       "      <td>2022</td>\n",
       "      <td>3279857</td>\n",
       "      <td>333287557.0000</td>\n",
       "      <td>0.0087</td>\n",
       "      <td>2902569.2697</td>\n",
       "      <td>0.0087</td>\n",
       "      <td>2899183.4456</td>\n",
       "      <td>0.0098</td>\n",
       "      <td>1.1300</td>\n",
       "      <td>1.1313</td>\n",
       "    </tr>\n",
       "    <tr>\n",
       "      <th>8</th>\n",
       "      <td>2023</td>\n",
       "      <td>3090964</td>\n",
       "      <td>334914895.0000</td>\n",
       "      <td>0.0087</td>\n",
       "      <td>2900873.3404</td>\n",
       "      <td>0.0087</td>\n",
       "      <td>2898208.5578</td>\n",
       "      <td>0.0092</td>\n",
       "      <td>1.0655</td>\n",
       "      <td>1.0665</td>\n",
       "    </tr>\n",
       "    <tr>\n",
       "      <th>9</th>\n",
       "      <td>2024</td>\n",
       "      <td>3052208</td>\n",
       "      <td>334914895.0000</td>\n",
       "      <td>0.0086</td>\n",
       "      <td>2887045.0365</td>\n",
       "      <td>0.0086</td>\n",
       "      <td>2884402.5588</td>\n",
       "      <td>0.0091</td>\n",
       "      <td>1.0572</td>\n",
       "      <td>1.0582</td>\n",
       "    </tr>\n",
       "  </tbody>\n",
       "</table>\n",
       "</div>"
      ],
      "text/plain": [
       "   year   deaths     population  qx_lc    deaths_lc  qx_cbd   deaths_cbd  \\\n",
       "0  2015  2712630 321418820.0000 0.0084 2712630.0000  0.0084 2707594.1490   \n",
       "1  2016  2744248 323127513.0000 0.0085 2744248.0000  0.0085 2739338.0301   \n",
       "2  2017  2813503 325719178.0000 0.0086 2813503.0000  0.0086 2808698.1280   \n",
       "3  2018  2839205 327167434.0000 0.0087 2839205.0000  0.0087 2834834.1622   \n",
       "4  2019  2854838 328239523.0000 0.0087 2854838.0000  0.0087 2850640.7294   \n",
       "5  2020  3383729 329484123.0000 0.0088 2885693.6387  0.0087 2881822.7778   \n",
       "6  2021  3464231 331893745.0000 0.0084 2798074.8858  0.0084 2795028.6390   \n",
       "7  2022  3279857 333287557.0000 0.0087 2902569.2697  0.0087 2899183.4456   \n",
       "8  2023  3090964 334914895.0000 0.0087 2900873.3404  0.0087 2898208.5578   \n",
       "9  2024  3052208 334914895.0000 0.0086 2887045.0365  0.0086 2884402.5588   \n",
       "\n",
       "   qx_raw  excess_lc  excess_cbd  \n",
       "0  0.0084     1.0000      1.0019  \n",
       "1  0.0085     1.0000      1.0018  \n",
       "2  0.0086     1.0000      1.0017  \n",
       "3  0.0087     1.0000      1.0015  \n",
       "4  0.0087     1.0000      1.0015  \n",
       "5  0.0103     1.1726      1.1742  \n",
       "6  0.0104     1.2381      1.2394  \n",
       "7  0.0098     1.1300      1.1313  \n",
       "8  0.0092     1.0655      1.0665  \n",
       "9  0.0091     1.0572      1.0582  "
      ]
     },
     "execution_count": 836,
     "metadata": {},
     "output_type": "execute_result"
    }
   ],
   "source": [
    "result = excess_grouped.groupby([\"year\"], observed=True).sum(numeric_only=True).reset_index()\n",
    "result[\"excess_lc\"] = result[\"deaths\"] / result[\"deaths_lc\"]\n",
    "result[\"qx_raw\"] = result[\"deaths\"] / result[\"population\"]\n",
    "result[\"qx_lc\"] = result[\"deaths_lc\"] / result[\"population\"]\n",
    "result[\"excess_cbd\"] = result[\"deaths\"] / result[\"deaths_cbd\"]\n",
    "result[\"qx_cbd\"] = result[\"deaths_cbd\"] / result[\"population\"]\n",
    "pd.options.display.float_format = \"{:.4f}\".format\n",
    "result"
   ]
  },
  {
   "cell_type": "markdown",
   "id": "808c97f5-570e-4aa9-9e11-04c44ced2986",
   "metadata": {},
   "source": [
    "## Refresh Tables"
   ]
  },
  {
   "cell_type": "markdown",
   "id": "3e085fab-1536-45cb-8449-e118d165fcac",
   "metadata": {},
   "source": [
    "COD tables"
   ]
  },
  {
   "cell_type": "code",
   "execution_count": 7,
   "id": "ad39d1b8-6b71-422d-adcd-3ff20e378e15",
   "metadata": {},
   "outputs": [
    {
     "name": "stdout",
     "output_type": "stream",
     "text": [
      "\u001b[37m 2025-02-21 09:59:35 \u001b[0m|\u001b[37m morai.utils.sql \u001b[0m|\u001b[32m INFO     \u001b[0m|\u001b[32m replace data to SQLite database: `files/integrations/cdc/cdc.sql` and table: `mcd99_cod` \u001b[0m\n",
      "\u001b[37m 2025-02-21 09:59:56 \u001b[0m|\u001b[37m morai.utils.sql \u001b[0m|\u001b[32m INFO     \u001b[0m|\u001b[32m append data to SQLite database: `files/integrations/cdc/cdc.sql` and table: `mcd99_cod` \u001b[0m\n"
     ]
    }
   ],
   "source": [
    "mcd99_9910_cod = cdc.get_cdc_data_xml(xml_filename=\"mcd99_9910_cod.xml\")\n",
    "sql.export_to_sql(\n",
    "    df=mcd99_9910_cod,\n",
    "    db_filepath=db_filepath,\n",
    "    table_name=\"mcd99_cod\",\n",
    "    if_exists=\"replace\",\n",
    ")\n",
    "mcd99_1120_cod = cdc.get_cdc_data_xml(xml_filename=\"mcd99_1120_cod.xml\")\n",
    "sql.export_to_sql(\n",
    "    df=mcd99_1120_cod,\n",
    "    db_filepath=db_filepath,\n",
    "    table_name=\"mcd99_cod\",\n",
    "    if_exists=\"append\",\n",
    ")"
   ]
  },
  {
   "cell_type": "code",
   "execution_count": 8,
   "id": "f8da9e3f-8fb8-473b-9aad-311e30d5f618",
   "metadata": {},
   "outputs": [
    {
     "name": "stdout",
     "output_type": "stream",
     "text": [
      "\u001b[37m 2025-02-21 10:00:10 \u001b[0m|\u001b[37m morai.utils.sql \u001b[0m|\u001b[32m INFO     \u001b[0m|\u001b[32m replace data to SQLite database: `files/integrations/cdc/cdc.sql` and table: `mcd18_cod` \u001b[0m\n"
     ]
    }
   ],
   "source": [
    "df = cdc.get_cdc_data_xml(xml_filename=\"mcd18_cod.xml\")\n",
    "sql.export_to_sql(\n",
    "    df=df,\n",
    "    db_filepath=db_filepath,\n",
    "    table_name=\"mcd18_cod\",\n",
    "    if_exists=\"replace\",\n",
    ")"
   ]
  },
  {
   "cell_type": "markdown",
   "id": "83b4a0ad-0694-48ca-b879-2f53a33b155d",
   "metadata": {},
   "source": [
    "Monthly Tables"
   ]
  },
  {
   "cell_type": "code",
   "execution_count": 12,
   "id": "d95b9ace-d220-4b7d-a0be-c43c8dcc46da",
   "metadata": {},
   "outputs": [
    {
     "name": "stdout",
     "output_type": "stream",
     "text": [
      "\u001b[37m 2025-02-21 10:00:20 \u001b[0m|\u001b[37m morai.utils.sql \u001b[0m|\u001b[32m INFO     \u001b[0m|\u001b[32m replace data to SQLite database: `files/integrations/cdc/cdc.sql` and table: `mcd18_monthly` \u001b[0m\n"
     ]
    }
   ],
   "source": [
    "df = cdc.get_cdc_data_xml(xml_filename=\"mcd18_monthly.xml\", parse_date_col=\"Month\")\n",
    "sql.export_to_sql(\n",
    "    df=df,\n",
    "    db_filepath=db_filepath,\n",
    "    table_name=\"mcd18_monthly\",\n",
    "    if_exists=\"replace\",\n",
    ")"
   ]
  },
  {
   "cell_type": "markdown",
   "id": "0db52276-6cd8-4842-82de-0c05879c1cdb",
   "metadata": {},
   "source": [
    "MI Tables"
   ]
  },
  {
   "cell_type": "code",
   "execution_count": 9,
   "id": "23a19161-b4b5-4226-927c-900ae7315382",
   "metadata": {},
   "outputs": [
    {
     "name": "stdout",
     "output_type": "stream",
     "text": [
      "\u001b[37m 2025-02-21 10:00:12 \u001b[0m|\u001b[37m morai.utils.sql \u001b[0m|\u001b[32m INFO     \u001b[0m|\u001b[32m replace data to SQLite database: `files/integrations/cdc/cdc.sql` and table: `mcd79_mi` \u001b[0m\n"
     ]
    }
   ],
   "source": [
    "df = cdc.get_cdc_data_xml(xml_filename=\"mcd79_mi.xml\")\n",
    "df[\"quintile\"] = \"total\"\n",
    "sql.export_to_sql(\n",
    "    df=df,\n",
    "    db_filepath=db_filepath,\n",
    "    table_name=\"mcd79_mi\",\n",
    "    if_exists=\"replace\",\n",
    ")"
   ]
  },
  {
   "cell_type": "code",
   "execution_count": 10,
   "id": "8ddb24ce-9abf-488d-8a11-707f96a2c601",
   "metadata": {},
   "outputs": [
    {
     "name": "stdout",
     "output_type": "stream",
     "text": [
      "\u001b[37m 2025-02-21 10:00:15 \u001b[0m|\u001b[37m morai.utils.sql \u001b[0m|\u001b[32m INFO     \u001b[0m|\u001b[32m replace data to SQLite database: `files/integrations/cdc/cdc.sql` and table: `mcd99_mi` \u001b[0m\n"
     ]
    }
   ],
   "source": [
    "df = cdc.get_cdc_data_xml(xml_filename=\"mcd99_mi.xml\")\n",
    "df[\"quintile\"] = \"total\"\n",
    "sql.export_to_sql(\n",
    "    df=df,\n",
    "    db_filepath=db_filepath,\n",
    "    table_name=\"mcd99_mi\",\n",
    "    if_exists=\"replace\",\n",
    ")"
   ]
  },
  {
   "cell_type": "code",
   "execution_count": 11,
   "id": "dc131030-e1cc-4a6e-9acd-e3ba0917afba",
   "metadata": {},
   "outputs": [
    {
     "name": "stdout",
     "output_type": "stream",
     "text": [
      "\u001b[37m 2025-02-21 10:00:18 \u001b[0m|\u001b[37m morai.utils.sql \u001b[0m|\u001b[32m INFO     \u001b[0m|\u001b[32m replace data to SQLite database: `files/integrations/cdc/cdc.sql` and table: `mcd18_mi` \u001b[0m\n"
     ]
    }
   ],
   "source": [
    "df = cdc.get_cdc_data_xml(xml_filename=\"mcd18_mi.xml\")\n",
    "df[\"quintile\"] = \"total\"\n",
    "sql.export_to_sql(\n",
    "    df=df,\n",
    "    db_filepath=db_filepath,\n",
    "    table_name=\"mcd18_mi\",\n",
    "    if_exists=\"replace\",\n",
    ")"
   ]
  },
  {
   "cell_type": "markdown",
   "id": "6920b235-18c0-43b0-b6fe-0f513bf0fa87",
   "metadata": {},
   "source": [
    "## Compare CDC to SQL database"
   ]
  },
  {
   "cell_type": "markdown",
   "id": "10b716f1-8ac3-47c1-97a7-536ba42cef8c",
   "metadata": {},
   "source": [
    "### CDC Query"
   ]
  },
  {
   "cell_type": "code",
   "execution_count": null,
   "id": "a2f02ddc-7afd-4fcb-8ef4-371c636a0fda",
   "metadata": {},
   "outputs": [],
   "source": [
    "df = cdc.get_cdc_data_xml(xml_filename=\"mcd79_check.xml\")"
   ]
  },
  {
   "cell_type": "code",
   "execution_count": null,
   "id": "aad41f6b-ed4b-478e-bda8-00e465b4933e",
   "metadata": {},
   "outputs": [],
   "source": [
    "sql.export_to_sql(\n",
    "    df=df,\n",
    "    db_filepath=db_filepath,\n",
    "    table_name=\"mcd79_check\",\n",
    "    if_exists=\"replace\",\n",
    ")"
   ]
  },
  {
   "cell_type": "code",
   "execution_count": null,
   "id": "c85f7542-1019-4037-831a-cec29866c26c",
   "metadata": {},
   "outputs": [],
   "source": [
    "df = cdc.get_cdc_data_xml(xml_filename=\"mcd99_check.xml\")"
   ]
  },
  {
   "cell_type": "code",
   "execution_count": null,
   "id": "ce4417f2-c3df-46aa-adf0-21e28287cd31",
   "metadata": {},
   "outputs": [],
   "source": [
    "sql.export_to_sql(\n",
    "    df=df,\n",
    "    db_filepath=db_filepath,\n",
    "    table_name=\"mcd99_check\",\n",
    "    if_exists=\"replace\",\n",
    ")"
   ]
  },
  {
   "cell_type": "code",
   "execution_count": 15,
   "id": "3b159f98-0cb4-4ced-be13-e69872f68605",
   "metadata": {},
   "outputs": [],
   "source": [
    "df = cdc.get_cdc_data_xml(xml_filename=\"mcd18_check.xml\")"
   ]
  },
  {
   "cell_type": "code",
   "execution_count": 16,
   "id": "8645b987-7a67-4bcd-8137-9060473f6888",
   "metadata": {},
   "outputs": [
    {
     "name": "stdout",
     "output_type": "stream",
     "text": [
      "\u001b[37m 2025-02-21 10:01:23 \u001b[0m|\u001b[37m morai.utils.sql \u001b[0m|\u001b[32m INFO     \u001b[0m|\u001b[32m replace data to SQLite database: `files/integrations/cdc/cdc.sql` and table: `mcd18_check` \u001b[0m\n"
     ]
    }
   ],
   "source": [
    "sql.export_to_sql(\n",
    "    df=df,\n",
    "    db_filepath=db_filepath,\n",
    "    table_name=\"mcd18_check\",\n",
    "    if_exists=\"replace\",\n",
    ")"
   ]
  },
  {
   "cell_type": "markdown",
   "id": "13af34bf-9f1f-41a4-9efc-932423d41cac",
   "metadata": {},
   "source": [
    "### SQL"
   ]
  },
  {
   "cell_type": "code",
   "execution_count": null,
   "id": "e29cd7d4-b34b-47af-bf30-e3fd6ae07a7a",
   "metadata": {},
   "outputs": [],
   "source": [
    "mcd79_check = cdc.get_cdc_data_sql(db_filepath=db_filepath, table_name=\"mcd79_check\")"
   ]
  },
  {
   "cell_type": "code",
   "execution_count": null,
   "id": "3c552552-37d4-4590-9e2e-fee3911c47e8",
   "metadata": {},
   "outputs": [],
   "source": [
    "mcd99_check = cdc.get_cdc_data_sql(db_filepath=db_filepath, table_name=\"mcd99_check\")"
   ]
  },
  {
   "cell_type": "code",
   "execution_count": 17,
   "id": "ad0b9dec-0ae5-4db5-a14c-06b96c77a20d",
   "metadata": {},
   "outputs": [],
   "source": [
    "mcd18_check = cdc.get_cdc_data_sql(db_filepath=db_filepath, table_name=\"mcd18_check\")"
   ]
  },
  {
   "cell_type": "markdown",
   "id": "08ff6433-c9ad-4bf0-a629-12a6a8ee971d",
   "metadata": {},
   "source": [
    "### Compare"
   ]
  },
  {
   "cell_type": "code",
   "execution_count": null,
   "id": "969c2d10-9cc4-49da-8004-a7adef3690d9",
   "metadata": {},
   "outputs": [],
   "source": [
    "cdc.compare_dfs(mcd79_check, mcd79_mi)"
   ]
  },
  {
   "cell_type": "code",
   "execution_count": null,
   "id": "b0a259ba-1c99-433b-85f9-e1c683095a6d",
   "metadata": {},
   "outputs": [],
   "source": [
    "cdc.compare_dfs(mcd99_check, mcd99_cod)"
   ]
  },
  {
   "cell_type": "code",
   "execution_count": 22,
   "id": "aecfdc40-326c-4e2d-99e2-25bde5c50b5d",
   "metadata": {},
   "outputs": [
    {
     "data": {
      "text/html": [
       "<div>\n",
       "<style scoped>\n",
       "    .dataframe tbody tr th:only-of-type {\n",
       "        vertical-align: middle;\n",
       "    }\n",
       "\n",
       "    .dataframe tbody tr th {\n",
       "        vertical-align: top;\n",
       "    }\n",
       "\n",
       "    .dataframe thead th {\n",
       "        text-align: right;\n",
       "    }\n",
       "</style>\n",
       "<table border=\"1\" class=\"dataframe\">\n",
       "  <thead>\n",
       "    <tr style=\"text-align: right;\">\n",
       "      <th></th>\n",
       "      <th>year</th>\n",
       "      <th>deaths_left</th>\n",
       "      <th>deaths_right</th>\n",
       "      <th>deaths_diff</th>\n",
       "    </tr>\n",
       "  </thead>\n",
       "  <tbody>\n",
       "    <tr>\n",
       "      <th>0</th>\n",
       "      <td>2018</td>\n",
       "      <td>2839205</td>\n",
       "      <td>2839205</td>\n",
       "      <td>0</td>\n",
       "    </tr>\n",
       "    <tr>\n",
       "      <th>1</th>\n",
       "      <td>2019</td>\n",
       "      <td>2854838</td>\n",
       "      <td>2854838</td>\n",
       "      <td>0</td>\n",
       "    </tr>\n",
       "    <tr>\n",
       "      <th>2</th>\n",
       "      <td>2020</td>\n",
       "      <td>3383729</td>\n",
       "      <td>3383729</td>\n",
       "      <td>0</td>\n",
       "    </tr>\n",
       "    <tr>\n",
       "      <th>3</th>\n",
       "      <td>2021</td>\n",
       "      <td>3464231</td>\n",
       "      <td>3464231</td>\n",
       "      <td>0</td>\n",
       "    </tr>\n",
       "    <tr>\n",
       "      <th>4</th>\n",
       "      <td>2022</td>\n",
       "      <td>3279857</td>\n",
       "      <td>3279857</td>\n",
       "      <td>0</td>\n",
       "    </tr>\n",
       "    <tr>\n",
       "      <th>5</th>\n",
       "      <td>2023</td>\n",
       "      <td>3090964</td>\n",
       "      <td>3090964</td>\n",
       "      <td>0</td>\n",
       "    </tr>\n",
       "    <tr>\n",
       "      <th>6</th>\n",
       "      <td>2024</td>\n",
       "      <td>3059192</td>\n",
       "      <td>3059192</td>\n",
       "      <td>0</td>\n",
       "    </tr>\n",
       "    <tr>\n",
       "      <th>7</th>\n",
       "      <td>2025</td>\n",
       "      <td>305455</td>\n",
       "      <td>305451</td>\n",
       "      <td>4</td>\n",
       "    </tr>\n",
       "  </tbody>\n",
       "</table>\n",
       "</div>"
      ],
      "text/plain": [
       "   year  deaths_left  deaths_right  deaths_diff\n",
       "0  2018      2839205       2839205            0\n",
       "1  2019      2854838       2854838            0\n",
       "2  2020      3383729       3383729            0\n",
       "3  2021      3464231       3464231            0\n",
       "4  2022      3279857       3279857            0\n",
       "5  2023      3090964       3090964            0\n",
       "6  2024      3059192       3059192            0\n",
       "7  2025       305455        305451            4"
      ]
     },
     "execution_count": 22,
     "metadata": {},
     "output_type": "execute_result"
    }
   ],
   "source": [
    "cdc.compare_dfs(mcd18_check, mcd18_cod)"
   ]
  },
  {
   "cell_type": "markdown",
   "id": "17fe0898-e4f5-480d-b94c-1c765d38885f",
   "metadata": {},
   "source": [
    "## Other Functions"
   ]
  },
  {
   "cell_type": "code",
   "execution_count": null,
   "id": "9ce7ab01-1f0d-4c28-903b-85387ce8d128",
   "metadata": {},
   "outputs": [],
   "source": [
    "sql.table_remove(db_filepath=db_filepath, table_name=\"mcd79_mi\")"
   ]
  },
  {
   "cell_type": "code",
   "execution_count": null,
   "id": "09b23966-f263-4583-baf1-5053d504b64e",
   "metadata": {},
   "outputs": [],
   "source": [
    "sql.table_dtypes(db_filepath=db_filepath, table_name=\"mcd79_mi\")"
   ]
  },
  {
   "cell_type": "markdown",
   "id": "0b22827b-248a-49f3-ba7c-e3eb615751a1",
   "metadata": {},
   "source": [
    "## Reload"
   ]
  },
  {
   "cell_type": "code",
   "execution_count": 245,
   "id": "f1531e61-8633-4611-9b1a-5855b8a88fc4",
   "metadata": {},
   "outputs": [
    {
     "data": {
      "text/plain": [
       "<module 'morai.integrations.cdc' from 'C:\\\\Users\\\\johnk\\\\Desktop\\\\github\\\\morai\\\\morai\\\\integrations\\\\cdc.py'>"
      ]
     },
     "execution_count": 245,
     "metadata": {},
     "output_type": "execute_result"
    }
   ],
   "source": [
    "import importlib\n",
    "\n",
    "importlib.reload(cdc)"
   ]
  },
  {
   "cell_type": "markdown",
   "id": "091961cc-6001-449c-82e3-232b5e654d99",
   "metadata": {},
   "source": [
    "## Test"
   ]
  },
  {
   "cell_type": "code",
   "execution_count": null,
   "id": "fe72dd8a-09c5-481a-a5d7-ce3adb746f24",
   "metadata": {},
   "outputs": [],
   "source": [
    "df = cdc.get_cdc_data_txt(txt_filename=\"mcd99_mi_q5.txt\")\n",
    "df = df.rename(columns={\"ten-year_age_groups\": \"age_groups\"})\n",
    "df = df.drop(columns=[\"ten-year_age_groups_code\", \"gender_code\", \"year_code\"])"
   ]
  },
  {
   "cell_type": "code",
   "execution_count": null,
   "id": "05fcf044-5d60-40d2-9430-5759632067ea",
   "metadata": {},
   "outputs": [],
   "source": [
    "sql.export_to_sql(\n",
    "    df=df,\n",
    "    db_filepath=db_filepath,\n",
    "    table_name=\"test\",\n",
    ")"
   ]
  },
  {
   "cell_type": "code",
   "execution_count": 260,
   "id": "9840f2d1-c7e9-43fb-8be5-e609d374ab39",
   "metadata": {},
   "outputs": [
    {
     "data": {
      "text/plain": [
       "Index(['Not Stated', '< 1 year', '1-4 years', '5-9 years', '10-14 years',\n",
       "       '5-14 years', '15-19 years', '20-24 years', '15-24 years',\n",
       "       '25-34 years', '35-44 years', '45-54 years', '55-64 years',\n",
       "       '65-74 years', '75-84 years', '85+ years', 'total'],\n",
       "      dtype='object')"
      ]
     },
     "execution_count": 260,
     "metadata": {},
     "output_type": "execute_result"
    }
   ],
   "source": [
    "mcd18_cod[\"age_groups\"].dropna().cat.categories"
   ]
  }
 ],
 "metadata": {
  "kernelspec": {
   "display_name": "morai",
   "language": "python",
   "name": "morai"
  },
  "language_info": {
   "codemirror_mode": {
    "name": "ipython",
    "version": 3
   },
   "file_extension": ".py",
   "mimetype": "text/x-python",
   "name": "python",
   "nbconvert_exporter": "python",
   "pygments_lexer": "ipython3",
   "version": "3.12.7"
  },
  "toc-autonumbering": true
 },
 "nbformat": 4,
 "nbformat_minor": 5
}
