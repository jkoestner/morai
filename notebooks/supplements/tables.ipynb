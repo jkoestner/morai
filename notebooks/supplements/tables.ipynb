{
 "cells": [
  {
   "cell_type": "markdown",
   "id": "18a1b9b6-663e-42c4-a44f-522a61e41e96",
   "metadata": {},
   "source": [
    "# Tables"
   ]
  },
  {
   "cell_type": "code",
   "execution_count": 1,
   "id": "8aeed43f-4fc4-4a6b-a2aa-78fc4e157fbf",
   "metadata": {},
   "outputs": [],
   "source": [
    "import os\n",
    "import sys\n",
    "\n",
    "import pandas as pd\n",
    "\n",
    "os.chdir(\"../../\")\n",
    "sys.path.insert(0, os.getcwd())"
   ]
  },
  {
   "cell_type": "code",
   "execution_count": 8,
   "id": "898a8feb-f241-4d9a-8d27-873cd899ae77",
   "metadata": {},
   "outputs": [],
   "source": [
    "from morai.experience import tables\n",
    "from morai.utils import custom_logger, helpers"
   ]
  },
  {
   "cell_type": "markdown",
   "id": "e4659590-5683-4b44-95fc-32d70dd5edd0",
   "metadata": {},
   "source": [
    "## SOA Table"
   ]
  },
  {
   "cell_type": "code",
   "execution_count": 3,
   "id": "e2f06050-290c-461e-8acd-1bd7977b1ad3",
   "metadata": {},
   "outputs": [
    {
     "name": "stdout",
     "output_type": "stream",
     "text": [
      "\u001b[37m 2025-01-16 22:50:14 \u001b[0m|\u001b[37m morai.experience.tables \u001b[0m|\u001b[32m INFO     \u001b[0m|\u001b[32m Created table that has the following dims: {'issue_age': range(0, 122), 'duration': range(1, 123)} \u001b[0m\n",
      "\u001b[37m 2025-01-16 22:50:14 \u001b[0m|\u001b[37m morai.experience.tables \u001b[0m|\u001b[32m INFO     \u001b[0m|\u001b[32m Table has 7503 cells. \u001b[0m\n",
      "\u001b[37m 2025-01-16 22:50:14 \u001b[0m|\u001b[37m morai.experience.tables \u001b[0m|\u001b[32m INFO     \u001b[0m|\u001b[32m tables: [997] \u001b[0m\n"
     ]
    }
   ],
   "source": [
    "mt = tables.MortTable()\n",
    "tbl = mt.build_table_soa(table_list=[997])"
   ]
  },
  {
   "cell_type": "code",
   "execution_count": 4,
   "id": "249e9531-8324-43b4-8f42-a034d28b4b0f",
   "metadata": {},
   "outputs": [],
   "source": [
    "tbl2 = mt.get_soa_xml(997)"
   ]
  },
  {
   "cell_type": "code",
   "execution_count": 6,
   "id": "072380db-8054-42b6-aef4-fe5b9062d347",
   "metadata": {},
   "outputs": [
    {
     "data": {
      "text/plain": [
       "'2008 Value Basic Table (VBT) Primary Table - Female, Non-Smoker, Age Nearest Birthday. Minimum Age: 0. Maximum Age: 90'"
      ]
     },
     "execution_count": 6,
     "metadata": {},
     "output_type": "execute_result"
    }
   ],
   "source": [
    "tbl2.ContentClassification.TableDescription"
   ]
  },
  {
   "cell_type": "code",
   "execution_count": 7,
   "id": "481e3b10-0c22-4fce-9346-a1c315c5c2eb",
   "metadata": {},
   "outputs": [
    {
     "data": {
      "text/plain": [
       "'2008 VBT-Primary Female Non-Smoker ANB'"
      ]
     },
     "execution_count": 7,
     "metadata": {},
     "output_type": "execute_result"
    }
   ],
   "source": [
    "tbl2.ContentClassification.TableName"
   ]
  },
  {
   "cell_type": "markdown",
   "id": "7d79ae49-ff64-4d6d-bd38-b0ba726b542e",
   "metadata": {},
   "source": [
    "## File Table"
   ]
  },
  {
   "cell_type": "code",
   "execution_count": 11,
   "id": "cbd7316c-2d50-4864-b06b-f53473424797",
   "metadata": {},
   "outputs": [],
   "source": [
    "file_location = helpers.FILES_PATH / \"rates\" / \"glm.xlsx\""
   ]
  },
  {
   "cell_type": "code",
   "execution_count": 14,
   "id": "3dcab593-f29b-4ed4-b786-1b731369fdc5",
   "metadata": {},
   "outputs": [],
   "source": [
    "mt = tables.MortTable()\n",
    "rate_table, mult_table = mt.build_table_workbook(\n",
    "    file_location=file_location, has_mults=True\n",
    ")"
   ]
  },
  {
   "cell_type": "code",
   "execution_count": 16,
   "id": "49cba4ea-df95-4b51-a3ef-0318308ecf7d",
   "metadata": {},
   "outputs": [
    {
     "data": {
      "text/html": [
       "<div>\n",
       "<style scoped>\n",
       "    .dataframe tbody tr th:only-of-type {\n",
       "        vertical-align: middle;\n",
       "    }\n",
       "\n",
       "    .dataframe tbody tr th {\n",
       "        vertical-align: top;\n",
       "    }\n",
       "\n",
       "    .dataframe thead th {\n",
       "        text-align: right;\n",
       "    }\n",
       "</style>\n",
       "<table border=\"1\" class=\"dataframe\">\n",
       "  <thead>\n",
       "    <tr style=\"text-align: right;\">\n",
       "      <th></th>\n",
       "      <th>category</th>\n",
       "      <th>subcategory</th>\n",
       "      <th>multiple</th>\n",
       "    </tr>\n",
       "  </thead>\n",
       "  <tbody>\n",
       "    <tr>\n",
       "      <th>0</th>\n",
       "      <td>binned_face</td>\n",
       "      <td>01: 0 - 24,999</td>\n",
       "      <td>1.000000</td>\n",
       "    </tr>\n",
       "    <tr>\n",
       "      <th>1</th>\n",
       "      <td>binned_face</td>\n",
       "      <td>02: 25,000 - 99,999</td>\n",
       "      <td>0.955947</td>\n",
       "    </tr>\n",
       "    <tr>\n",
       "      <th>2</th>\n",
       "      <td>binned_face</td>\n",
       "      <td>03: 100,000 - 249,999</td>\n",
       "      <td>0.929924</td>\n",
       "    </tr>\n",
       "    <tr>\n",
       "      <th>3</th>\n",
       "      <td>binned_face</td>\n",
       "      <td>04: 250,000 - 4,999,999</td>\n",
       "      <td>0.915018</td>\n",
       "    </tr>\n",
       "    <tr>\n",
       "      <th>4</th>\n",
       "      <td>binned_face</td>\n",
       "      <td>05: 5,000,000+</td>\n",
       "      <td>0.889072</td>\n",
       "    </tr>\n",
       "  </tbody>\n",
       "</table>\n",
       "</div>"
      ],
      "text/plain": [
       "      category              subcategory  multiple\n",
       "0  binned_face           01: 0 - 24,999  1.000000\n",
       "1  binned_face      02: 25,000 - 99,999  0.955947\n",
       "2  binned_face    03: 100,000 - 249,999  0.929924\n",
       "3  binned_face  04: 250,000 - 4,999,999  0.915018\n",
       "4  binned_face           05: 5,000,000+  0.889072"
      ]
     },
     "execution_count": 16,
     "metadata": {},
     "output_type": "execute_result"
    }
   ],
   "source": [
    "mult_table.head()"
   ]
  },
  {
   "cell_type": "markdown",
   "id": "0a16ec53-4748-4b40-b98e-d56c58e4dde7",
   "metadata": {},
   "source": [
    "## Rate Map"
   ]
  },
  {
   "cell_type": "code",
   "execution_count": 77,
   "id": "cb5ccf5a-5c56-41be-a31f-5c6cf7530f5e",
   "metadata": {},
   "outputs": [],
   "source": [
    "rate_filename = helpers.FILES_PATH / \"rates\" / \"rate_map.yaml\""
   ]
  },
  {
   "cell_type": "code",
   "execution_count": 78,
   "id": "a2ae20f5-f219-4e57-8ef1-9a40781a6820",
   "metadata": {},
   "outputs": [
    {
     "name": "stdout",
     "output_type": "stream",
     "text": [
      "\u001b[37m 2025-01-17 00:30:28 \u001b[0m|\u001b[37m morai.experience.tables \u001b[0m|\u001b[32m INFO     \u001b[0m|\u001b[32m loading 'glm_mults' from mapping file: C:\\Users\\johnk\\Desktop\\github\\morai\\files\\rates\\rate_map.yaml \u001b[0m\n",
      "\u001b[37m 2025-01-17 00:30:28 \u001b[0m|\u001b[37m morai.experience.tables \u001b[0m|\u001b[32m INFO     \u001b[0m|\u001b[32m building table for rate: 'glm_mults' with format: 'workbook' \u001b[0m\n"
     ]
    }
   ],
   "source": [
    "mt = tables.MortTable(rate='glm_mults', rate_filename=rate_filename)"
   ]
  },
  {
   "cell_type": "code",
   "execution_count": 79,
   "id": "cf740cab-ace4-4d9d-bc21-28b4c9ff40a7",
   "metadata": {},
   "outputs": [
    {
     "ename": "TypeError",
     "evalue": "unhashable type: 'list'",
     "output_type": "error",
     "traceback": [
      "\u001b[1;31m---------------------------------------------------------------------------\u001b[0m",
      "\u001b[1;31mTypeError\u001b[0m                                 Traceback (most recent call last)",
      "Cell \u001b[1;32mIn[79], line 1\u001b[0m\n\u001b[1;32m----> 1\u001b[0m derived_table \u001b[38;5;241m=\u001b[39m \u001b[43mmt\u001b[49m\u001b[38;5;241;43m.\u001b[39;49m\u001b[43mcalc_derived_table_from_mults\u001b[49m\u001b[43m(\u001b[49m\u001b[43mselected_dict\u001b[49m\u001b[38;5;241;43m=\u001b[39;49m\u001b[43m{\u001b[49m\u001b[38;5;124;43m'\u001b[39;49m\u001b[38;5;124;43mbinned_face\u001b[39;49m\u001b[38;5;124;43m'\u001b[39;49m\u001b[43m:\u001b[49m\u001b[43m \u001b[49m\u001b[43m[\u001b[49m\u001b[38;5;124;43m'\u001b[39;49m\u001b[38;5;124;43m01: 0 - 24,999\u001b[39;49m\u001b[38;5;124;43m'\u001b[39;49m\u001b[43m]\u001b[49m\u001b[43m,\u001b[49m\n\u001b[0;32m      2\u001b[0m \u001b[43m \u001b[49m\u001b[38;5;124;43m'\u001b[39;49m\u001b[38;5;124;43mclass_enh\u001b[39;49m\u001b[38;5;124;43m'\u001b[39;49m\u001b[43m:\u001b[49m\u001b[43m \u001b[49m\u001b[43m[\u001b[49m\u001b[38;5;124;43m'\u001b[39;49m\u001b[38;5;124;43m2_1\u001b[39;49m\u001b[38;5;124;43m'\u001b[39;49m\u001b[43m,\u001b[49m\u001b[43m \u001b[49m\u001b[38;5;124;43m'\u001b[39;49m\u001b[38;5;124;43m3_2\u001b[39;49m\u001b[38;5;124;43m'\u001b[39;49m\u001b[43m]\u001b[49m\u001b[43m,\u001b[49m\n\u001b[0;32m      3\u001b[0m \u001b[43m \u001b[49m\u001b[38;5;124;43m'\u001b[39;49m\u001b[38;5;124;43minsurance_plan\u001b[39;49m\u001b[38;5;124;43m'\u001b[39;49m\u001b[43m:\u001b[49m\u001b[43m \u001b[49m\u001b[43m[\u001b[49m\u001b[38;5;124;43m'\u001b[39;49m\u001b[38;5;124;43mtest\u001b[39;49m\u001b[38;5;124;43m'\u001b[39;49m\u001b[43m]\u001b[49m\u001b[43m,\u001b[49m\n\u001b[0;32m      4\u001b[0m \u001b[43m \u001b[49m\u001b[38;5;124;43m'\u001b[39;49m\u001b[38;5;124;43mobservation_year\u001b[39;49m\u001b[38;5;124;43m'\u001b[39;49m\u001b[43m:\u001b[49m\u001b[43m \u001b[49m\u001b[43m[\u001b[49m\u001b[38;5;241;43m2012\u001b[39;49m\u001b[43m]\u001b[49m\u001b[43m}\u001b[49m\u001b[43m)\u001b[49m\n",
      "File \u001b[1;32m~\\Desktop\\github\\morai\\morai\\experience\\tables.py:377\u001b[0m, in \u001b[0;36mMortTable.calc_derived_table_from_mults\u001b[1;34m(self, selected_dict)\u001b[0m\n\u001b[0;32m    373\u001b[0m \u001b[38;5;28;01mif\u001b[39;00m \u001b[38;5;129;01mnot\u001b[39;00m \u001b[38;5;28mset\u001b[39m(selected_dict\u001b[38;5;241m.\u001b[39mkeys())\u001b[38;5;241m.\u001b[39missubset(\u001b[38;5;28mself\u001b[39m\u001b[38;5;241m.\u001b[39mmult_table[\u001b[38;5;124m\"\u001b[39m\u001b[38;5;124mcategory\u001b[39m\u001b[38;5;124m\"\u001b[39m]\u001b[38;5;241m.\u001b[39munique()):\n\u001b[0;32m    374\u001b[0m     \u001b[38;5;28;01mraise\u001b[39;00m \u001b[38;5;167;01mValueError\u001b[39;00m(\n\u001b[0;32m    375\u001b[0m         \u001b[38;5;124m\"\u001b[39m\u001b[38;5;124mselected_dict keys must be in the multiplier table `category` column\u001b[39m\u001b[38;5;124m\"\u001b[39m\n\u001b[0;32m    376\u001b[0m     )\n\u001b[1;32m--> 377\u001b[0m \u001b[38;5;28;01mif\u001b[39;00m \u001b[38;5;129;01mnot\u001b[39;00m \u001b[38;5;28;43mset\u001b[39;49m\u001b[43m(\u001b[49m\u001b[43mselected_dict\u001b[49m\u001b[38;5;241;43m.\u001b[39;49m\u001b[43mvalues\u001b[49m\u001b[43m(\u001b[49m\u001b[43m)\u001b[49m\u001b[43m)\u001b[49m\u001b[38;5;241m.\u001b[39missubset(\n\u001b[0;32m    378\u001b[0m     \u001b[38;5;28mself\u001b[39m\u001b[38;5;241m.\u001b[39mmult_table[\u001b[38;5;124m\"\u001b[39m\u001b[38;5;124msubcategory\u001b[39m\u001b[38;5;124m\"\u001b[39m]\u001b[38;5;241m.\u001b[39munique()\n\u001b[0;32m    379\u001b[0m ):\n\u001b[0;32m    380\u001b[0m     \u001b[38;5;28;01mraise\u001b[39;00m \u001b[38;5;167;01mValueError\u001b[39;00m(\n\u001b[0;32m    381\u001b[0m         \u001b[38;5;124m\"\u001b[39m\u001b[38;5;124mselected_dict values must be in the multiplier table \u001b[39m\u001b[38;5;124m\"\u001b[39m\n\u001b[0;32m    382\u001b[0m         \u001b[38;5;124m\"\u001b[39m\u001b[38;5;124m`subcategory` column.\u001b[39m\u001b[38;5;124m\"\u001b[39m\n\u001b[0;32m    383\u001b[0m     )\n\u001b[0;32m    385\u001b[0m \u001b[38;5;66;03m# select the rows in mult_table that match the selected mults\u001b[39;00m\n",
      "\u001b[1;31mTypeError\u001b[0m: unhashable type: 'list'"
     ]
    }
   ],
   "source": [
    "derived_table = mt.calc_derived_table_from_mults(selected_dict={'binned_face': ['01: 0 - 24,999'],\n",
    " 'class_enh': ['2_1', '3_2'],\n",
    " 'insurance_plan': ['test'],\n",
    " 'observation_year': [2012]})"
   ]
  },
  {
   "cell_type": "markdown",
   "id": "06412d55-e11f-48d3-b805-14ece847358e",
   "metadata": {},
   "source": [
    "# Reload"
   ]
  },
  {
   "cell_type": "code",
   "execution_count": 26,
   "id": "e164a515-898a-4740-881c-017881289bfb",
   "metadata": {},
   "outputs": [],
   "source": [
    "import importlib"
   ]
  },
  {
   "cell_type": "code",
   "execution_count": 76,
   "id": "e83cd065-a917-4afd-99d7-f22f90c21c7b",
   "metadata": {},
   "outputs": [
    {
     "data": {
      "text/plain": [
       "<module 'morai.experience.tables' from 'C:\\\\Users\\\\johnk\\\\Desktop\\\\github\\\\morai\\\\morai\\\\experience\\\\tables.py'>"
      ]
     },
     "execution_count": 76,
     "metadata": {},
     "output_type": "execute_result"
    }
   ],
   "source": [
    "importlib.reload(tables)"
   ]
  },
  {
   "cell_type": "code",
   "execution_count": null,
   "id": "42b59de6-449e-4875-9cb8-3f307e1b0a5d",
   "metadata": {},
   "outputs": [],
   "source": []
  }
 ],
 "metadata": {
  "kernelspec": {
   "display_name": "morai",
   "language": "python",
   "name": "morai"
  },
  "language_info": {
   "codemirror_mode": {
    "name": "ipython",
    "version": 3
   },
   "file_extension": ".py",
   "mimetype": "text/x-python",
   "name": "python",
   "nbconvert_exporter": "python",
   "pygments_lexer": "ipython3",
   "version": "3.12.7"
  },
  "toc-autonumbering": true
 },
 "nbformat": 4,
 "nbformat_minor": 5
}
